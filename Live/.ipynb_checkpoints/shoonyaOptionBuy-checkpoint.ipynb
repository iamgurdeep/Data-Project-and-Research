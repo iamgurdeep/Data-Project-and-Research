{
 "cells": [
  {
   "cell_type": "code",
   "execution_count": 1,
   "id": "40a0f8c1-1113-4ed2-bda6-c58ae0a3f9ca",
   "metadata": {},
   "outputs": [],
   "source": [
    "import pandas as pd\n",
    "import numpy as np\n",
    "from ta.momentum import rsi\n",
    "from ta.utils import dropna\n",
    "import datetime\n",
    "from api_helper import ShoonyaApiPy\n",
    "import logging\n",
    "import sched, time"
   ]
  },
  {
   "cell_type": "code",
   "execution_count": 2,
   "id": "f563a4e8-07b2-4d22-b0d0-2bbad3619187",
   "metadata": {
    "jupyter": {
     "source_hidden": true
    },
    "tags": []
   },
   "outputs": [],
   "source": [
    "#enable dbug to see request and responses\n",
    "logging.basicConfig(level=logging.DEBUG)\n",
    "\n",
    "#start of our program\n",
    "api = ShoonyaApiPy()"
   ]
  },
  {
   "cell_type": "code",
   "execution_count": 3,
   "id": "6c45fcd5-b323-4a9a-aa7b-79f6c867362c",
   "metadata": {
    "jupyter": {
     "source_hidden": true
    },
    "tags": []
   },
   "outputs": [],
   "source": [
    "def loginme():\n",
    "    #credentials\n",
    "    uid    = 'FA54439'\n",
    "    pwd     = 'Gurdeep#7966'\n",
    "    factor2 = '23031990'\n",
    "    vc      = 'FA54439_U'\n",
    "    apikey  = 'a4c5620bebfb7be65eb2821deab0eb62'\n",
    "    imei    = 'GuruPC'\n",
    "\n",
    "    #make the api call\n",
    "    login = api.login(userid=uid, password=pwd, twoFA=factor2, vendor_code=vc, api_secret=apikey, imei=imei)\n",
    "    if login['actid']=='FA54439':\n",
    "        print('Login Success!!')\n",
    "    else:\n",
    "        print('Logout Failed!!')\n",
    "    return True\n"
   ]
  },
  {
   "cell_type": "code",
   "execution_count": 4,
   "id": "dd537922-1e1e-4bda-a773-fd0907d13e3a",
   "metadata": {
    "jupyter": {
     "source_hidden": true
    },
    "tags": []
   },
   "outputs": [],
   "source": [
    "def logoutme():\n",
    "    logout = api.logout()\n",
    "    if logout['stat']=='Ok':\n",
    "        print('Logout Success!!')\n",
    "    return True"
   ]
  },
  {
   "cell_type": "code",
   "execution_count": 5,
   "id": "088f8c20-195c-4c87-a100-edf5bd26ca4c",
   "metadata": {
    "jupyter": {
     "source_hidden": true
    },
    "tags": []
   },
   "outputs": [],
   "source": [
    "def Supertrend(df, atr_period, multiplier):\n",
    "    \n",
    "    high = df['High']\n",
    "    low = df['Low']\n",
    "    close = df['Close']\n",
    "    \n",
    "    # calculate ATR\n",
    "    price_diffs = [high - low, \n",
    "                   high - close.shift(), \n",
    "                   close.shift() - low]\n",
    "    true_range = pd.concat(price_diffs, axis=1)\n",
    "    true_range = true_range.abs().max(axis=1)\n",
    "    # default ATR calculation in supertrend indicator\n",
    "    atr = true_range.ewm(alpha=1/atr_period,min_periods=atr_period).mean() \n",
    "    # df['atr'] = df['tr'].rolling(atr_period).mean()\n",
    "    \n",
    "    # HL2 is simply the average of high and low prices\n",
    "    hl2 = (high + low) / 2\n",
    "    # upperband and lowerband calculation\n",
    "    # notice that final bands are set to be equal to the respective bands\n",
    "    final_upperband = upperband = hl2 + (multiplier * atr)\n",
    "    final_lowerband = lowerband = hl2 - (multiplier * atr)\n",
    "    \n",
    "    # initialize Supertrend column to True\n",
    "    supertrend = [True] * len(df)\n",
    "    \n",
    "    for i in range(1, len(df.index)):\n",
    "        curr, prev = i, i-1\n",
    "        \n",
    "        # if current close price crosses above upperband\n",
    "        if close[curr] > final_upperband[prev]:\n",
    "            supertrend[curr] = True\n",
    "        # if current close price crosses below lowerband\n",
    "        elif close[curr] < final_lowerband[prev]:\n",
    "            supertrend[curr] = False\n",
    "        # else, the trend continues\n",
    "        else:\n",
    "            supertrend[curr] = supertrend[prev]\n",
    "            \n",
    "            # adjustment to the final bands\n",
    "            if supertrend[curr] == True and final_lowerband[curr] < final_lowerband[prev]:\n",
    "                final_lowerband[curr] = final_lowerband[prev]\n",
    "            if supertrend[curr] == False and final_upperband[curr] > final_upperband[prev]:\n",
    "                final_upperband[curr] = final_upperband[prev]\n",
    "\n",
    "        # to remove bands according to the trend direction\n",
    "        if supertrend[curr] == True:\n",
    "            final_upperband[curr] = np.nan\n",
    "        else:\n",
    "            final_lowerband[curr] = np.nan\n",
    "    \n",
    "    return pd.DataFrame({\n",
    "        'Supertrend': supertrend,\n",
    "        'Final Lowerband': final_lowerband,\n",
    "        'Final Upperband': final_upperband\n",
    "    }, index=df.index)"
   ]
  },
  {
   "cell_type": "code",
   "execution_count": 6,
   "id": "271b608a-7935-4356-a69a-c12f40160928",
   "metadata": {},
   "outputs": [],
   "source": [
    "def searchsymbol(exch,scr):   \n",
    "    exch  = exch #NSE,NFO,MCX etc\n",
    "    query = scr #'BANKNIFTY 30DEC CE' # multiple criteria to narrow results \n",
    "    # ret = api.searchscrip(exchange=exch, searchtext=query)\n",
    "    mytoken=api.searchscrip(exchange=exch, searchtext=query)['values'][0]['token']\n",
    "    return mytoken"
   ]
  },
  {
   "cell_type": "code",
   "execution_count": 7,
   "id": "2a117cbb-5a0e-4ad7-8a5e-964aaca7e7e6",
   "metadata": {},
   "outputs": [],
   "source": [
    "# api.get_security_info(exchange='NSE', token=niftytoken)"
   ]
  },
  {
   "cell_type": "code",
   "execution_count": 8,
   "id": "55c16ecd-b5d1-4c3f-9156-b69533c53b89",
   "metadata": {},
   "outputs": [],
   "source": [
    "def getdataop(token,time):    \n",
    "    lastBusDay = datetime.datetime.today()-datetime.timedelta(days=5)\n",
    "    lastBusDay = lastBusDay.replace(hour=0, minute=0, second=0, microsecond=0)\n",
    "    ret = api.get_time_price_series(exchange='NFO', token=token, starttime=lastBusDay.timestamp(), interval=time)\n",
    "    df=pd.DataFrame(ret)\n",
    "    df=df.iloc[::-1]\n",
    "    df['time']=pd.to_datetime(df['time'].astype(str), format='%d-%m-%Y %H:%M:%S')\n",
    "    df.set_index('time',inplace=True)\n",
    "    df=df.iloc[:,2:]\n",
    "    df=df.astype(float)\n",
    "    # return only last 300 bars\n",
    "    df=df.iloc[-300:]\n",
    "    return df"
   ]
  },
  {
   "cell_type": "code",
   "execution_count": 9,
   "id": "26e139db-f990-4c3b-b67e-1c4e4e8be3c5",
   "metadata": {},
   "outputs": [],
   "source": [
    "def getdataeq(token,time):    \n",
    "    lastBusDay = datetime.datetime.today()-datetime.timedelta(days=5)\n",
    "    lastBusDay = lastBusDay.replace(hour=0, minute=0, second=0, microsecond=0)\n",
    "    ret = api.get_time_price_series(exchange='NSE', token=token, starttime=lastBusDay.timestamp(), interval=time)\n",
    "    df=pd.DataFrame(ret)\n",
    "    df=df.iloc[::-1]\n",
    "    df['time']=pd.to_datetime(df['time'].astype(str), format='%d-%m-%Y %H:%M:%S')\n",
    "    df.set_index('time',inplace=True)\n",
    "    df=df.iloc[:,2:]\n",
    "    df=df.astype(float)\n",
    "    # return only last 300 bars\n",
    "    df=df.iloc[-300:]\n",
    "    return df"
   ]
  },
  {
   "cell_type": "code",
   "execution_count": 66,
   "id": "9fa472de-1abd-4bfb-af60-f192d1ea4af4",
   "metadata": {},
   "outputs": [],
   "source": [
    "###Get ITM CE and PE Strikes\n",
    "def get_ITM_strike(df):\n",
    "    spot=df.intc.iloc[-1:][0]\n",
    "    atm=50 * round(int(spot)/50)\n",
    "    itm_ce=atm-50\n",
    "    itm_pe=atm+50\n",
    "    # Returning spot as float and both strikes as int\n",
    "    return spot,itm_ce,itm_pe"
   ]
  },
  {
   "cell_type": "code",
   "execution_count": 68,
   "id": "43b950f2-95a6-41a9-91e1-1650205aef0a",
   "metadata": {},
   "outputs": [],
   "source": [
    "####Get ITM CE Token for NIFTY Only\n",
    "def get_option_token_ce(expiry,strike):\n",
    "    cscr=f'NIFTY{expiry}22C{strike}'\n",
    "    tokence=searchsymbol(exch='NFO',scr=cscr)\n",
    "    return cscr,tokence"
   ]
  },
  {
   "cell_type": "code",
   "execution_count": 67,
   "id": "71dc91a6-c7e4-4a0d-9f6a-d48f29effe0a",
   "metadata": {},
   "outputs": [],
   "source": [
    "####Get ITM PE Token for NIFTY Only\n",
    "def get_option_token_pe(expiry, strike):\n",
    "    pscr=f'NIFTY{expiry}22P{strike}'\n",
    "    tokenpe=searchsymbol(exch='NFO',scr=pscr)\n",
    "    return pscr,tokenpe"
   ]
  },
  {
   "cell_type": "code",
   "execution_count": 69,
   "id": "73546720-4006-4080-ac40-5b0674cc65cb",
   "metadata": {},
   "outputs": [],
   "source": [
    "def resampler(df,time):\n",
    "    newdf=pd.DataFrame()\n",
    "    newdf['Open']=df.into.resample(time).first()\n",
    "    newdf['Close']=df.intc.resample(time).last()\n",
    "    newdf['High']=df.inth.resample(time).max()\n",
    "    newdf['Low']=df.intl.resample(time).min()\n",
    "    newdf['Vwap']=df.intvwap.resample(time).last()\n",
    "    newdf['Volume']=df.intv.resample(time).sum()\n",
    "    newdf['OI']=df.intoi.resample(time).sum()\n",
    "    ## Folloing drop will come in play when using time frame like 10 min or 20 min etc .beacuse these time frame starts from 9:10 am or 9:00 am \n",
    "    newdf.dropna(axis=0,inplace=True)\n",
    "    return newdf"
   ]
  },
  {
   "cell_type": "code",
   "execution_count": 14,
   "id": "25612bce-6d19-48bb-8432-f0e52c31bad4",
   "metadata": {},
   "outputs": [],
   "source": [
    "def predf(data):\n",
    "    \n",
    "    ###Base Time Frame########\n",
    "    datadf=data.copy()\n",
    "    \n",
    "    datadf=resampler(datadf,'5min')\n",
    "    supertrendBTF=Supertrend(datadf,10,1)\n",
    "    supertrendBTF['rsi']=rsi(datadf.Close,window=8,fillna=True)\n",
    "    supertrendBTF['rsima']=supertrendBTF['rsi'].rolling(13).mean()\n",
    "    supertrendBTF.reset_index(inplace=True)\n",
    "\n",
    "    ###High Time Frame#########\n",
    "    datadf=data.copy()\n",
    "    \n",
    "    datadf=resampler(datadf,'15min')\n",
    "    supertrendHTF=Supertrend(datadf,10,0.8)\n",
    "    supertrendHTF['rsi']=rsi(datadf.Close,window=8,fillna=True)\n",
    "    supertrendHTF['rsima']=supertrendHTF['rsi'].rolling(13).mean()\n",
    "    supertrendHTF.reset_index(inplace=True)\n",
    "    \n",
    "    #######Merge Base and HTF indicators###\n",
    "    st=pd.merge(supertrendBTF,supertrendHTF,on='time',how='left')\n",
    "    st=st.replace(to_replace=np.nan,method='ffill')\n",
    "    st=st.set_index('time')\n",
    "    \n",
    "    #########Join everything in single df#######\n",
    "    datadf=data.copy()\n",
    "    \n",
    "    datadf=resampler(datadf,'5min')\n",
    "    datadf=datadf.join(st)\n",
    "    \n",
    "    \n",
    "    return datadf"
   ]
  },
  {
   "cell_type": "code",
   "execution_count": null,
   "id": "12886f34-086b-425d-827f-81e59d53bf9a",
   "metadata": {},
   "outputs": [],
   "source": []
  },
  {
   "cell_type": "code",
   "execution_count": 15,
   "id": "7eff0802-0a04-434c-b364-4c264e2bf4e5",
   "metadata": {},
   "outputs": [
    {
     "name": "stdout",
     "output_type": "stream",
     "text": [
      "Login Success!!\n"
     ]
    },
    {
     "data": {
      "text/plain": [
       "True"
      ]
     },
     "execution_count": 15,
     "metadata": {},
     "output_type": "execute_result"
    }
   ],
   "source": [
    "loginme()"
   ]
  },
  {
   "cell_type": "code",
   "execution_count": 16,
   "id": "77096e75-d3bd-4a89-862d-e8c58c6a74d0",
   "metadata": {},
   "outputs": [],
   "source": [
    "####Position Book######\n",
    "def check_position(ticker):\n",
    "    pos=False\n",
    "    posret = api.get_positions()\n",
    "    positionsdf=pd.DataFrame(posret)\n",
    "    in_positions=positionsdf.loc[positionsdf.tsym==ticker]\n",
    "    if not in_positions.empty:\n",
    "        if int(in_positions['netqty'].iloc[0])==0:\n",
    "            pos=False\n",
    "            print('not in position')\n",
    "        else:\n",
    "            pos=True\n",
    "            print(' In position')\n",
    "    else:\n",
    "        pos=False\n",
    "    return pos\n",
    "\n"
   ]
  },
  {
   "cell_type": "code",
   "execution_count": 17,
   "id": "b6b5c04e-5d07-44d5-8f99-4937dcf4d9e6",
   "metadata": {},
   "outputs": [],
   "source": [
    "####Order Book########\n",
    "def check_orderbook(ticker):\n",
    "    orderret = api.get_order_book()\n",
    "    orderdf=pd.DataFrame(orderret)\n",
    "    in_orderbook=orderdf.loc[orderdf.tsym==ticker]['status']\n",
    "    if  not in_orderbook.empty:\n",
    "        ## Always check 1st index beacuse this holds the latest position\n",
    "        orderstatus=in_orderbook.iloc[0]\n",
    "        if orderstatus=='COMPLETE':\n",
    "            print (' order filled!! check position book')\n",
    "        elif orderstatus=='OPEN':\n",
    "            print ('previous order still open')\n",
    "        elif orderstatus=='CANCELED':\n",
    "            print ('order is canceled')\n",
    "        elif orderstatus=='REJECTED':\n",
    "            print ('order is REJECTED')\n",
    "        else: \n",
    "            orderstatus=='UNKNOWN'\n",
    "    else:\n",
    "        orderstatus='UNKNOWN'\n",
    "        print('No order found')\n",
    "    return orderstatus"
   ]
  },
  {
   "cell_type": "code",
   "execution_count": 18,
   "id": "0a5d3b5f-329a-45d4-a9d8-0d382c95c289",
   "metadata": {},
   "outputs": [],
   "source": [
    "def check_tradebook(ticker):\n",
    "    tradebookret = api.get_trade_book()\n",
    "    tradebookdf=pd.DataFrame(tradebookret)\n",
    "    in_tradebook=tradebookdf.loc[tradebookdf.tsym==ticker]\n",
    "    if check_orderbook(ticker)=='COMPLETE':\n",
    "        if not in_tradebook.empty:\n",
    "            fill_price=float(in_tradebook['flprc'].iloc[0])  \n",
    "    else:\n",
    "        print('Order not yet Filled')\n",
    "    return fill_price\n",
    "    "
   ]
  },
  {
   "cell_type": "code",
   "execution_count": 60,
   "id": "f88375c2-56ef-480e-a875-1621c5edb194",
   "metadata": {},
   "outputs": [],
   "source": [
    "def exe_limt_order(order_type,product_type,exchange,ticker,quantity,ltp,triger_ltp,remarks):\n",
    "    resp=api.place_order(buy_or_sell=order_type, product_type=product_type,exchange=exchange, tradingsymbol=ticker, \n",
    "                    quantity=quantity, discloseqty=0,price_type='LMT', price=ltp, trigger_price=None,\n",
    "                    retention='DAY', remarks=remarks)\n",
    "    return resp"
   ]
  },
  {
   "cell_type": "code",
   "execution_count": 63,
   "id": "135802c2-f2d4-4ae5-bbbd-1d16611fdb18",
   "metadata": {},
   "outputs": [],
   "source": [
    "def exe_market_order(order_type,product_type,exchange,ticker,quantity,remarks):\n",
    "    resp=api.place_order(buy_or_sell=order_type, product_type=product_type,exchange=exchange, tradingsymbol=ticker, \n",
    "                    quantity=quantity, discloseqty=0,price_type='MKT', price=0, trigger_price=None,\n",
    "                    retention='DAY', remarks=remarks)\n",
    "    return resp"
   ]
  },
  {
   "cell_type": "code",
   "execution_count": 19,
   "id": "3c5ee8a5-f75c-44d8-ab12-d0d26d71fbd6",
   "metadata": {
    "jupyter": {
     "source_hidden": true
    },
    "tags": []
   },
   "outputs": [],
   "source": [
    "# #Flow--\n",
    "# '''\n",
    "# --Place Order--\n",
    "# 1.Check if postion is not open already .Call check_position and it shoud return False\n",
    "# 2.if position is false ,check if order is not in open state .\n",
    "#     -if no trade done for the symbol from starting of day , it will return order as UNKNOWN.\n",
    "#     -if already done trading on that symbol from day starting, it will return Complete or Open or Cacneled ,Rejected \n",
    "#      based on last entry in order book.\n",
    "#     - So if check_orderbook return  COMPLETE  or UNKNOWN then we are good to place order.\n",
    "# 3. Place order.\n",
    "# 4. check orderbook,if return COMPLETE. check trade book and get price value at which order is placed.\n",
    "\n",
    "\n",
    "# ---Exit Order\n",
    "# 1. Check if postion is not open already .Call check_position and it shoud return True.\n",
    "# 2. Punch exit order .\n",
    "# 3. Check order and check if order complete.if still open exit at market order.\n",
    "# 4.check trade book to get exit price.\n",
    "# '''\n"
   ]
  },
  {
   "cell_type": "code",
   "execution_count": 20,
   "id": "ca301685-f271-4e19-87e4-da9f99918a0b",
   "metadata": {
    "jupyter": {
     "source_hidden": true
    },
    "tags": []
   },
   "outputs": [],
   "source": [
    "#This is Scheduler.This will start main program at exectly hr:min:00 and will wait for whatever time you give\n",
    "##Note that even you run the loop for less then 1min time ,it will get data only after next 1 min .\n",
    "# sec=True\n",
    "# while sec==True:\n",
    "#     print(float(str(datetime.datetime.now().time()).split(':')[2]))\n",
    "#     starttime = time.time()\n",
    "#     time.sleep(1.0 - ((time.time() - starttime) % 60.0))\n",
    "#     if float(str(datetime.datetime.now().time()).split(':')[2])>58.0:\n",
    "#         sec=False\n",
    "\n",
    "# while True:\n",
    "#     starttime = time.time()\n",
    "#     time.sleep(62.0 - ((time.time() - starttime) % 60.0))"
   ]
  },
  {
   "cell_type": "code",
   "execution_count": 73,
   "id": "e93c5d48-7f11-444f-8edf-0ce9cc3ab166",
   "metadata": {},
   "outputs": [],
   "source": [
    "def mainloop():\n",
    "    ## Below variables to store script name and token in case that script in buy position.\n",
    "    ce_buy_script=''\n",
    "    pe_buy_script=''\n",
    "    ce_buy_token=''\n",
    "    pe_buy_token=''\n",
    "    ##Loop will come here----\n",
    "    ## Folling loop is just to make sure Actual loop start from 1 sec of a min\n",
    "    sec=True\n",
    "    while sec==True:\n",
    "        print(float(str(datetime.datetime.now().time()).split(':')[2]))\n",
    "        starttime = time.time()\n",
    "        time.sleep(1.0 - ((time.time() - starttime) % 60.0))\n",
    "        if float(str(datetime.datetime.now().time()).split(':')[2])>58.0:\n",
    "            sec=False\n",
    "    ## Folling is the actual loop that will run in every 1 min ,will make it 2-4 min in future.\n",
    "    now=datetime.datetime.now().time()\n",
    "    while (now >= datetime.time(9,17)) and (now <= datetime.time(15,10)):\n",
    "        starttime = time.time()\n",
    "        time.sleep(60.0 - ((time.time() - starttime) % 60.0))\n",
    "    #------------------------\n",
    "\n",
    "        #Start Only if time > 9:15 am\n",
    "        # now=datetime.datetime.now().time()\n",
    "        # if now >= datetime.time(9,20):\n",
    "        ## Get nifty token and Data to calculate ITM CE and PE Strikes\n",
    "        mytoken=searchsymbol('NSE','Nifty 50')\n",
    "        nifty=getdataeq(mytoken,1)\n",
    "        #following will return spot price ,itm strike for both ce and pe\n",
    "        spot,itm_ce,itm_pe=get_ITM_strike(nifty)\n",
    "        print(f' Spot: {spot}, ITM Call Strike: {itm_ce}, ITM PUT Strike: {itm_pe}')\n",
    "\n",
    "        #### This if condition to check if already in trade for PE/CE if yes fetch data for same Strike(token) instead new ITM\n",
    "        if not ce_buy_token:\n",
    "            ##Get NEW ITM CE token and script name and download the data for that token.\n",
    "            cscr,tokence=get_option_token_ce('17MAR',itm_ce)\n",
    "            cedf=getdataop(token=tokence,time=1)\n",
    "            ## This will check if any exising position for this script.Will return True if alraedy in position else false\n",
    "            ceposition = check_position(cscr)\n",
    "            ## This will return Unkown or Completed or Open or Rejected \n",
    "            order_status_ce=check_orderbook(cscr)\n",
    "        else:\n",
    "            cedf=getdataop(token=ce_buy_token,time=1)\n",
    "            ceposition = check_position(ce_buy_script)\n",
    "            order_status_ce=check_orderbook(ce_buy_script)\n",
    "        if not pe_buy_token:\n",
    "            ##Get NEW ITM PE token and script name and download the data for that token.\n",
    "            pscr,tokenpe=get_option_token_pe('17MAR',itm_pe)\n",
    "            pedf=getdataop(token=tokenpe,time=1)\n",
    "            peposition = check_position(pscr)\n",
    "            order_status_pe=check_orderbook(pscr)\n",
    "        else:\n",
    "            pedf=getdataop(token=pe_buy_token,time=1)\n",
    "            peposition = check_position(pe_buy_script)\n",
    "            order_status_pe=check_orderbook(pe_buy_script)\n",
    "\n",
    "\n",
    "        ##Preparing the Data before triggring actual Buy Sell Conditions.Here it will resapme data into 5 and 15 min.\n",
    "        ## Then it will calculate ST and RSI on both time frames. then it will merge all togeter and will craete single\n",
    "        ## df with 5 min timestamp.\n",
    "        cedf=predf(cedf)\n",
    "        pedf=predf(pedf)\n",
    "\n",
    "        # # checking if for ticker position is True or False\n",
    "        # ceposition = check_position(cscr)\n",
    "        # peposition = check_position(pscr)\n",
    "\n",
    "        if (ceposition==False):\n",
    "            #Before placing order checking if no other order for same script in open state.\n",
    "            \n",
    "            if ((order_status_ce=='COMPLETE') | (order_status_ce=='UNKNOWN')) & (now<datetime.time(15,0)):##Here Check if you already have position in ITM Call Option\n",
    "                if (cedf['Supertrend_y'].iloc[-1]==True) & (cedf['Supertrend_x'].iloc[-1]==True)& (cedf['rsi_y'].iloc[-1]>50) & (cedf['rsi_y'].iloc[-1]>cedf['rsima_y'].iloc[-1]):\n",
    "                    current_ce_price=cedf.Close[-1]\n",
    "                    ## Place Limit/Market order here. if limit order not failed you will end up add multilple orders.so need to careful here                \n",
    "                    resp_ce=exe_limt_order('B','M','NFO',cscr,50,current_ce_price,current_ce_price,'CE Limit order Buy Triggred')\n",
    "                    ## Folloing line will triger market Buy order \n",
    "                    #resp_ce=exe_market_order('B','M','NFO',cscr,50,'Market order buy Triggred')\n",
    "                    ## Check if oder is completed,wait for 1 sec before checking\n",
    "                    time.sleep(2)\n",
    "                    order_status=check_orderbook(cscr)\n",
    "                    if order_status=='COMPLETE':\n",
    "                        #get buy price from trade book.Folling function will return last price for the script\n",
    "                        cbp=check_tradebook(cscr)\n",
    "                        ce_buy_script=cscr\n",
    "                        ce_buy_token=tokence\n",
    "                        ctsl=cbp-(cbp*0.1)\n",
    "                        print(f'DatetTime {str(cedf.index[-1])}, Spot:{spot}, ITM CE:{ce_buy_script}--> Buying Call @ {cbp}')\n",
    "                    # elif order_status=='OPEN':\n",
    "                    #     ## Buy at market price here\n",
    "                    #     resp=exe_market_order('B','M','NFO',cscr,50,'Market order buy Triggred')\n",
    "                    #     cbp=check_tradebook(cscr)\n",
    "                    #     ce_buy_script=cscr\n",
    "                    #     ce_buy_token=tokence\n",
    "                    #     print(f'DatetTime {cedf.index[-1]}, Spot:{spot}, ITM CE:{ce_buy_script}--> Buying Call @ {cbp}')\n",
    "                    else:\n",
    "                        ce_buy_script=cscr\n",
    "                        ce_buy_token=tokence\n",
    "                        print('CE Order not Filled')\n",
    "            elif ((order_status_ce=='OPEN') | (order_status_ce=='REJECTED')) & (now<datetime.time(15,0)):\n",
    "                print(f'previous order is still open or got rejected  for {ce_buy_script}!! Please Check')\n",
    "                \n",
    "                    \n",
    "\n",
    "        if (ceposition==True) & (order_status_ce=='COMPLETE'):\n",
    "            if (cedf['Supertrend_y'].iloc[-1]==False) | (cedf['rsi_y'].iloc[-1]<50) | (now>=datetime.time(15,0)) | (cedf.Close[-1]<ctsl):\n",
    "                ### Exit limit Order Here,but better to setup market order to make sure order will get executed.\n",
    "                #current_ce_price=cedf.Close[-1]\n",
    "                #resp_ce=exe_limt_order('S','M','NFO',ce_buy_script,50,current_ce_price,current_ce_price,' CE Limit order Sell Triggred')\n",
    "                ## Following line will triger market Sell  order \n",
    "                resp_ce=exe_market_order('S','M','NFO',ce_buy_script,50,'CE Market order Sell Triggred')\n",
    "                time.sleep(1)\n",
    "                order_status=check_orderbook(ce_buy_script)\n",
    "                if order_status=='COMPLETE':\n",
    "                    ccp=check_tradebook(ce_buy_script)\n",
    "                    ce_buy_script=''\n",
    "                    ce_buy_token=''\n",
    "                    print(f'DatetTime {str(cedf.index[-1])}, Spot:{spot}, ITM CE:{ce_buy_script}--> Covered Call @ {ccp}')\n",
    "                else :\n",
    "                    print(f'Not Able to Exit from Position {ce_buy_script}..Check Immediatly !!!!!')\n",
    "                    ## exit at market price here \n",
    "                    # ccp=check_tradebook(cscr)\n",
    "                    # ce_buy_script=''\n",
    "                    # ce_buy_token=''\n",
    "            else:\n",
    "                print(f'In CE {ce_buy_script} position and no Cover triggered')\n",
    "        \n",
    "        if (peposition==False):\n",
    "            #Before placing order checking if no other order for same script in open state.\n",
    "            \n",
    "            if ((order_status_pe=='COMPLETE') | (order_status_pe=='UNKNOWN')) & (now<datetime.time(15,0)):##Here Check if you already have position in ITM Call Option\n",
    "                if (pedf['Supertrend_y'].iloc[-1]==True) & (pedf['Supertrend_x'].iloc[-1]==True)& (pedf['rsi_y'].iloc[-1]>50) & (pedf['rsi_y'].iloc[-1]>pedf['rsima_y'].iloc[-1]):\n",
    "                    current_pe_price=pedf.Close[-1]\n",
    "                    ## Place Limit/Market order here. if limit order not failed you will end up add multilple orders.so need to careful here                \n",
    "                    resp_pe=exe_limt_order('B','M','NFO',pscr,50,current_pe_price,current_pe_price,'PE Limit order Buy Triggred')\n",
    "                    ## Folloing line will triger market Buy order \n",
    "                    #resp_pe=exe_market_order('B','M','NFO',pscr,50,'PE Market order buy Triggred')\n",
    "                    ## Check if oder is completed,wait for 1 sec before checking\n",
    "                    time.sleep(2)\n",
    "                    order_status=check_orderbook(pscr)\n",
    "                    if order_status=='COMPLETE':\n",
    "                        #get buy price from trade book.Folling function will return last price for the script\n",
    "                        pbp=check_tradebook(pscr)\n",
    "                        pe_buy_script=pscr\n",
    "                        pe_buy_token=tokenpe\n",
    "                        ptsl=pbp-(pbp*0.1)\n",
    "                        print(f'DatetTime {str(pedf.index[-1])}, Spot:{spot}, ITM CE:{pe_buy_script}--> Buying Call @ {pbp}')\n",
    "                    \n",
    "                    else:\n",
    "                        pe_buy_script=pscr\n",
    "                        pe_buy_token=tokenpe\n",
    "                        print(f'PE Order not Filled for {pe_buy_script}')\n",
    "            elif ((order_status_pe=='OPEN') | (order_status_pe=='REJECTED')) & (now<datetime.time(15,0)):\n",
    "                print(f'previous order is still open or got rejected  for {pe_buy_script}!! Please Check')\n",
    "                \n",
    "                    \n",
    "\n",
    "        if (peposition==True) & (order_status_pe=='COMPLETE'):\n",
    "            if (pedf['Supertrend_y'].iloc[-1]==False) | (pedf['rsi_y'].iloc[-1]<50) | (now>=datetime.time(15,0)) | (pedf.Close[-1]<ptsl):\n",
    "                ### Exit limit Order Here,but better to setup market order to make sure order will get executed.\n",
    "                #current_pe_price=pedf.Close[-1]\n",
    "                #resp_pe=exe_limt_order('S','M','NFO',pe_buy_script,50,current_pe_price,current_pe_price,'PE Limit order Sell Triggred')\n",
    "                ## Following line will triger market Buy order \n",
    "                resp_pe=exe_market_order('S','M','NFO',pe_buy_script,50,'PE Market order Sell Triggred')\n",
    "                time.sleep(1)\n",
    "                order_status=check_orderbook(pe_buy_script)\n",
    "                if order_status=='COMPLETE':\n",
    "                    pcp=check_tradebook(pe_buy_script)\n",
    "                    pe_buy_script=''\n",
    "                    pe_buy_token=''\n",
    "                    print(f'DatetTime {str(pedf.index[-1])}, Spot:{spot}, ITM PE:{pe_buy_script}--> Covered Put @ {pcp}')\n",
    "                else :\n",
    "                    print(f'Not Able to Exit from Position {pe_buy_script}..Check Immediatly !!!!!')\n",
    "                  \n",
    "            else:\n",
    "                print(f'In PE {pe_buy_script} position and no Cover triggered')\n"
   ]
  },
  {
   "cell_type": "code",
   "execution_count": null,
   "id": "53c5e763-3cfb-4de3-a29b-3e51fc50e1d8",
   "metadata": {},
   "outputs": [],
   "source": [
    "datadf=resampler(datadf,'5min')"
   ]
  },
  {
   "cell_type": "code",
   "execution_count": 61,
   "id": "fb33cb29-af6a-4335-9aa0-abe99e02e9f0",
   "metadata": {},
   "outputs": [],
   "source": [
    "# resp=exe_limt_order('B','M','NFO','NIFTY17MAR22C16600',50,231,None,'Limit order Buy  Triggred')"
   ]
  },
  {
   "cell_type": "code",
   "execution_count": 62,
   "id": "e8cf460e-09d1-4f2b-8373-46be08233a7e",
   "metadata": {},
   "outputs": [
    {
     "data": {
      "text/plain": [
       "{'request_time': '18:40:57 14-03-2022',\n",
       " 'stat': 'Ok',\n",
       " 'norenordno': '22031400210413'}"
      ]
     },
     "execution_count": 62,
     "metadata": {},
     "output_type": "execute_result"
    }
   ],
   "source": [
    "resp"
   ]
  },
  {
   "cell_type": "code",
   "execution_count": 22,
   "id": "7548a309-70bd-45ad-a79c-71f50ba9e613",
   "metadata": {},
   "outputs": [],
   "source": [
    "mytoken=searchsymbol('NSE','Nifty 50')"
   ]
  },
  {
   "cell_type": "code",
   "execution_count": 44,
   "id": "66b58dd9-2055-427c-abc5-1d9d9c414da6",
   "metadata": {},
   "outputs": [
    {
     "data": {
      "text/plain": [
       "str"
      ]
     },
     "execution_count": 44,
     "metadata": {},
     "output_type": "execute_result"
    }
   ],
   "source": [
    "type(mytoken)"
   ]
  },
  {
   "cell_type": "code",
   "execution_count": 23,
   "id": "f717e288-62e8-4647-af63-18b67685c008",
   "metadata": {},
   "outputs": [
    {
     "name": "stdout",
     "output_type": "stream",
     "text": [
      " order filled!! check position book\n"
     ]
    },
    {
     "data": {
      "text/plain": [
       "'COMPLETE'"
      ]
     },
     "execution_count": 23,
     "metadata": {},
     "output_type": "execute_result"
    }
   ],
   "source": [
    "ticker='ITC-EQ'\n",
    "#ticker='NIFTY17MAR22P16650'\n",
    "orderstatus=check_orderbook(ticker)\n",
    "orderstatus"
   ]
  },
  {
   "cell_type": "code",
   "execution_count": 24,
   "id": "2c2d1c31-47b7-4e21-930d-b496462660d6",
   "metadata": {},
   "outputs": [
    {
     "name": "stdout",
     "output_type": "stream",
     "text": [
      "not in position\n"
     ]
    },
    {
     "data": {
      "text/plain": [
       "False"
      ]
     },
     "execution_count": 24,
     "metadata": {},
     "output_type": "execute_result"
    }
   ],
   "source": [
    "check_position(ticker)"
   ]
  },
  {
   "cell_type": "code",
   "execution_count": 25,
   "id": "0e949fc1-9db6-442b-80fe-f0d312a64906",
   "metadata": {},
   "outputs": [],
   "source": [
    "posret = api.get_positions()\n",
    "positionsdf=pd.DataFrame(posret)\n",
    "in_positions=positionsdf.loc[positionsdf.tsym=='NIFTY17MAR22C16600']\n"
   ]
  },
  {
   "cell_type": "code",
   "execution_count": 26,
   "id": "22f77fae-3cbd-408d-a7f9-610bf2d9563c",
   "metadata": {},
   "outputs": [
    {
     "data": {
      "text/html": [
       "<div><div id=27499b41-93cb-470c-b17e-de04d81033f5 style=\"display:none; background-color:#9D6CFF; color:white; width:200px; height:30px; padding-left:5px; border-radius:4px; flex-direction:row; justify-content:space-around; align-items:center;\" onmouseover=\"this.style.backgroundColor='#BA9BF8'\" onmouseout=\"this.style.backgroundColor='#9D6CFF'\" onclick=\"window.commands?.execute('create-mitosheet-from-dataframe-output');\">See Full Dataframe in Mito</div> <script> if (window.commands.hasCommand('create-mitosheet-from-dataframe-output')) document.getElementById('27499b41-93cb-470c-b17e-de04d81033f5').style.display = 'flex' </script> <table border=\"1\" class=\"dataframe\">\n",
       "  <thead>\n",
       "    <tr style=\"text-align: right;\">\n",
       "      <th></th>\n",
       "      <th>stat</th>\n",
       "      <th>uid</th>\n",
       "      <th>actid</th>\n",
       "      <th>exch</th>\n",
       "      <th>tsym</th>\n",
       "      <th>prd</th>\n",
       "      <th>token</th>\n",
       "      <th>dname</th>\n",
       "      <th>pp</th>\n",
       "      <th>ls</th>\n",
       "      <th>...</th>\n",
       "      <th>opensellamt</th>\n",
       "      <th>opensellavgprc</th>\n",
       "      <th>dayavgprc</th>\n",
       "      <th>netqty</th>\n",
       "      <th>netavgprc</th>\n",
       "      <th>upldprc</th>\n",
       "      <th>netupldprc</th>\n",
       "      <th>lp</th>\n",
       "      <th>urmtom</th>\n",
       "      <th>rpnl</th>\n",
       "    </tr>\n",
       "  </thead>\n",
       "  <tbody>\n",
       "    <tr>\n",
       "      <th>0</th>\n",
       "      <td>Ok</td>\n",
       "      <td>FA54439</td>\n",
       "      <td>FA54439</td>\n",
       "      <td>NFO</td>\n",
       "      <td>NIFTY17MAR22C16600</td>\n",
       "      <td>M</td>\n",
       "      <td>50630</td>\n",
       "      <td>NIFTY 17MAR22 16600 CE</td>\n",
       "      <td>2</td>\n",
       "      <td>50</td>\n",
       "      <td>...</td>\n",
       "      <td>0.00</td>\n",
       "      <td>0.00</td>\n",
       "      <td>0.00</td>\n",
       "      <td>0</td>\n",
       "      <td>0.00</td>\n",
       "      <td>0.00</td>\n",
       "      <td>0.00</td>\n",
       "      <td>395.00</td>\n",
       "      <td>0.00</td>\n",
       "      <td>700.00</td>\n",
       "    </tr>\n",
       "  </tbody>\n",
       "</table></div>"
      ],
      "text/plain": [
       "  stat      uid    actid exch                tsym prd  token  \\\n",
       "0   Ok  FA54439  FA54439  NFO  NIFTY17MAR22C16600   M  50630   \n",
       "\n",
       "                     dname pp  ls  ... opensellamt opensellavgprc dayavgprc  \\\n",
       "0  NIFTY 17MAR22 16600 CE   2  50  ...        0.00           0.00      0.00   \n",
       "\n",
       "  netqty netavgprc upldprc netupldprc      lp urmtom    rpnl  \n",
       "0      0      0.00    0.00       0.00  395.00   0.00  700.00  \n",
       "\n",
       "[1 rows x 35 columns]"
      ]
     },
     "execution_count": 26,
     "metadata": {},
     "output_type": "execute_result"
    }
   ],
   "source": [
    "in_positions"
   ]
  },
  {
   "cell_type": "markdown",
   "id": "90d61aef-cd80-4ca0-bbfe-6275abcfcfc7",
   "metadata": {},
   "source": [
    "##### orderret = api.get_order_book()\n",
    "orderdf=pd.DataFrame(orderret)\n",
    "in_orderbook=orderdf.loc[orderdf.tsym=='NIFTY17MAR22C16600']\n",
    "in_orderbook"
   ]
  },
  {
   "cell_type": "code",
   "execution_count": 28,
   "id": "85a5cb42-9e0a-40df-894c-67e77a43b2ec",
   "metadata": {},
   "outputs": [
    {
     "data": {
      "text/plain": [
       "4    COMPLETE\n",
       "5    COMPLETE\n",
       "Name: status, dtype: object"
      ]
     },
     "execution_count": 28,
     "metadata": {},
     "output_type": "execute_result"
    }
   ],
   "source": [
    "orderdf.loc[orderdf.tsym=='NIFTY17MAR22C16600']['status']"
   ]
  },
  {
   "cell_type": "code",
   "execution_count": 29,
   "id": "259ae297-7b98-48d0-83cd-bd6083c0bde1",
   "metadata": {},
   "outputs": [],
   "source": [
    "order1 = api.get_order_book()\n",
    "order1df=pd.DataFrame(order1)\n",
    "in_orderbook1=order1df.loc[order1df.tsym=='NIFTY17MAR22C16600']"
   ]
  },
  {
   "cell_type": "code",
   "execution_count": 30,
   "id": "0e8a5d32-47fc-43c4-bee3-fd4663dcb361",
   "metadata": {},
   "outputs": [
    {
     "data": {
      "text/html": [
       "<div><div id=71ff8060-d1c7-487a-8e43-4310f57bad5e style=\"display:none; background-color:#9D6CFF; color:white; width:200px; height:30px; padding-left:5px; border-radius:4px; flex-direction:row; justify-content:space-around; align-items:center;\" onmouseover=\"this.style.backgroundColor='#BA9BF8'\" onmouseout=\"this.style.backgroundColor='#9D6CFF'\" onclick=\"window.commands?.execute('create-mitosheet-from-dataframe-output');\">See Full Dataframe in Mito</div> <script> if (window.commands.hasCommand('create-mitosheet-from-dataframe-output')) document.getElementById('71ff8060-d1c7-487a-8e43-4310f57bad5e').style.display = 'flex' </script> <table border=\"1\" class=\"dataframe\">\n",
       "  <thead>\n",
       "    <tr style=\"text-align: right;\">\n",
       "      <th></th>\n",
       "      <th>stat</th>\n",
       "      <th>norenordno</th>\n",
       "      <th>uid</th>\n",
       "      <th>actid</th>\n",
       "      <th>exch</th>\n",
       "      <th>tsym</th>\n",
       "      <th>qty</th>\n",
       "      <th>ordenttm</th>\n",
       "      <th>trantype</th>\n",
       "      <th>prctyp</th>\n",
       "      <th>...</th>\n",
       "      <th>norentm</th>\n",
       "      <th>exch_tm</th>\n",
       "      <th>exchordid</th>\n",
       "      <th>rqty</th>\n",
       "      <th>cancelqty</th>\n",
       "      <th>rejreason</th>\n",
       "      <th>rorgqty</th>\n",
       "      <th>dname</th>\n",
       "      <th>trgprc</th>\n",
       "      <th>rorgprc</th>\n",
       "    </tr>\n",
       "  </thead>\n",
       "  <tbody>\n",
       "    <tr>\n",
       "      <th>4</th>\n",
       "      <td>Ok</td>\n",
       "      <td>22031400038408</td>\n",
       "      <td>FA54439</td>\n",
       "      <td>FA54439</td>\n",
       "      <td>NFO</td>\n",
       "      <td>NIFTY17MAR22C16600</td>\n",
       "      <td>50</td>\n",
       "      <td>1647232600</td>\n",
       "      <td>S</td>\n",
       "      <td>LMT</td>\n",
       "      <td>...</td>\n",
       "      <td>10:16:31 14-03-2022</td>\n",
       "      <td>14-03-2022 10:06:40</td>\n",
       "      <td>1000000031326925</td>\n",
       "      <td>50</td>\n",
       "      <td>NaN</td>\n",
       "      <td>NaN</td>\n",
       "      <td>50</td>\n",
       "      <td>NIFTY 17MAR22 16600 CE</td>\n",
       "      <td>245.00</td>\n",
       "      <td>240.00</td>\n",
       "    </tr>\n",
       "    <tr>\n",
       "      <th>5</th>\n",
       "      <td>Ok</td>\n",
       "      <td>22031400036193</td>\n",
       "      <td>FA54439</td>\n",
       "      <td>FA54439</td>\n",
       "      <td>NFO</td>\n",
       "      <td>NIFTY17MAR22C16600</td>\n",
       "      <td>50</td>\n",
       "      <td>1647231638</td>\n",
       "      <td>B</td>\n",
       "      <td>LMT</td>\n",
       "      <td>...</td>\n",
       "      <td>09:50:50 14-03-2022</td>\n",
       "      <td>14-03-2022 09:50:38</td>\n",
       "      <td>1000000029270545</td>\n",
       "      <td>50</td>\n",
       "      <td>NaN</td>\n",
       "      <td>NaN</td>\n",
       "      <td>50</td>\n",
       "      <td>NIFTY 17MAR22 16600 CE</td>\n",
       "      <td>NaN</td>\n",
       "      <td>230.10</td>\n",
       "    </tr>\n",
       "  </tbody>\n",
       "</table></div>"
      ],
      "text/plain": [
       "  stat      norenordno      uid    actid exch                tsym qty  \\\n",
       "4   Ok  22031400038408  FA54439  FA54439  NFO  NIFTY17MAR22C16600  50   \n",
       "5   Ok  22031400036193  FA54439  FA54439  NFO  NIFTY17MAR22C16600  50   \n",
       "\n",
       "     ordenttm trantype prctyp  ...              norentm              exch_tm  \\\n",
       "4  1647232600        S    LMT  ...  10:16:31 14-03-2022  14-03-2022 10:06:40   \n",
       "5  1647231638        B    LMT  ...  09:50:50 14-03-2022  14-03-2022 09:50:38   \n",
       "\n",
       "          exchordid rqty cancelqty rejreason rorgqty                    dname  \\\n",
       "4  1000000031326925   50       NaN       NaN      50  NIFTY 17MAR22 16600 CE    \n",
       "5  1000000029270545   50       NaN       NaN      50  NIFTY 17MAR22 16600 CE    \n",
       "\n",
       "   trgprc rorgprc  \n",
       "4  245.00  240.00  \n",
       "5     NaN  230.10  \n",
       "\n",
       "[2 rows x 34 columns]"
      ]
     },
     "execution_count": 30,
     "metadata": {},
     "output_type": "execute_result"
    }
   ],
   "source": [
    "in_orderbook1"
   ]
  },
  {
   "cell_type": "code",
   "execution_count": 31,
   "id": "946b6dce-0014-417f-8e63-5d42620b1746",
   "metadata": {},
   "outputs": [
    {
     "data": {
      "text/html": [
       "<div><div id=131114cd-ff47-4f4e-8605-666e17cfa62d style=\"display:none; background-color:#9D6CFF; color:white; width:200px; height:30px; padding-left:5px; border-radius:4px; flex-direction:row; justify-content:space-around; align-items:center;\" onmouseover=\"this.style.backgroundColor='#BA9BF8'\" onmouseout=\"this.style.backgroundColor='#9D6CFF'\" onclick=\"window.commands?.execute('create-mitosheet-from-dataframe-output');\">See Full Dataframe in Mito</div> <script> if (window.commands.hasCommand('create-mitosheet-from-dataframe-output')) document.getElementById('131114cd-ff47-4f4e-8605-666e17cfa62d').style.display = 'flex' </script> <table border=\"1\" class=\"dataframe\">\n",
       "  <thead>\n",
       "    <tr style=\"text-align: right;\">\n",
       "      <th></th>\n",
       "      <th>stat</th>\n",
       "      <th>norenordno</th>\n",
       "      <th>uid</th>\n",
       "      <th>actid</th>\n",
       "      <th>exch</th>\n",
       "      <th>prctyp</th>\n",
       "      <th>ret</th>\n",
       "      <th>prd</th>\n",
       "      <th>flid</th>\n",
       "      <th>fltm</th>\n",
       "      <th>...</th>\n",
       "      <th>fillshares</th>\n",
       "      <th>flqty</th>\n",
       "      <th>pp</th>\n",
       "      <th>ls</th>\n",
       "      <th>ti</th>\n",
       "      <th>prc</th>\n",
       "      <th>flprc</th>\n",
       "      <th>norentm</th>\n",
       "      <th>exch_tm</th>\n",
       "      <th>exchordid</th>\n",
       "    </tr>\n",
       "  </thead>\n",
       "  <tbody>\n",
       "    <tr>\n",
       "      <th>0</th>\n",
       "      <td>Ok</td>\n",
       "      <td>22031400184893</td>\n",
       "      <td>FA54439</td>\n",
       "      <td>FA54439</td>\n",
       "      <td>NSE</td>\n",
       "      <td>MKT</td>\n",
       "      <td>DAY</td>\n",
       "      <td>C</td>\n",
       "      <td>30470381</td>\n",
       "      <td>14-03-2022 14:55:45</td>\n",
       "      <td>...</td>\n",
       "      <td>1</td>\n",
       "      <td>1</td>\n",
       "      <td>2</td>\n",
       "      <td>1</td>\n",
       "      <td>0.05</td>\n",
       "      <td>0.00</td>\n",
       "      <td>238.90</td>\n",
       "      <td>14:55:45 14-03-2022</td>\n",
       "      <td>14-03-2022 14:55:45</td>\n",
       "      <td>1100000020042308</td>\n",
       "    </tr>\n",
       "    <tr>\n",
       "      <th>1</th>\n",
       "      <td>Ok</td>\n",
       "      <td>22031400100901</td>\n",
       "      <td>FA54439</td>\n",
       "      <td>FA54439</td>\n",
       "      <td>NSE</td>\n",
       "      <td>MKT</td>\n",
       "      <td>DAY</td>\n",
       "      <td>C</td>\n",
       "      <td>28062224</td>\n",
       "      <td>14-03-2022 11:50:37</td>\n",
       "      <td>...</td>\n",
       "      <td>1</td>\n",
       "      <td>1</td>\n",
       "      <td>2</td>\n",
       "      <td>1</td>\n",
       "      <td>0.05</td>\n",
       "      <td>0.00</td>\n",
       "      <td>237.00</td>\n",
       "      <td>11:50:37 14-03-2022</td>\n",
       "      <td>14-03-2022 11:50:37</td>\n",
       "      <td>1100000011188161</td>\n",
       "    </tr>\n",
       "    <tr>\n",
       "      <th>2</th>\n",
       "      <td>Ok</td>\n",
       "      <td>22031400038408</td>\n",
       "      <td>FA54439</td>\n",
       "      <td>FA54439</td>\n",
       "      <td>NFO</td>\n",
       "      <td>LMT</td>\n",
       "      <td>DAY</td>\n",
       "      <td>M</td>\n",
       "      <td>2547077</td>\n",
       "      <td>14-03-2022 10:16:31</td>\n",
       "      <td>...</td>\n",
       "      <td>50</td>\n",
       "      <td>50</td>\n",
       "      <td>2</td>\n",
       "      <td>50</td>\n",
       "      <td>0.05</td>\n",
       "      <td>245.00</td>\n",
       "      <td>245.00</td>\n",
       "      <td>10:16:31 14-03-2022</td>\n",
       "      <td>14-03-2022 10:06:40</td>\n",
       "      <td>1000000031326925</td>\n",
       "    </tr>\n",
       "    <tr>\n",
       "      <th>3</th>\n",
       "      <td>Ok</td>\n",
       "      <td>22031400036193</td>\n",
       "      <td>FA54439</td>\n",
       "      <td>FA54439</td>\n",
       "      <td>NFO</td>\n",
       "      <td>LMT</td>\n",
       "      <td>DAY</td>\n",
       "      <td>M</td>\n",
       "      <td>1848778</td>\n",
       "      <td>14-03-2022 09:50:50</td>\n",
       "      <td>...</td>\n",
       "      <td>50</td>\n",
       "      <td>50</td>\n",
       "      <td>2</td>\n",
       "      <td>50</td>\n",
       "      <td>0.05</td>\n",
       "      <td>231.00</td>\n",
       "      <td>231.00</td>\n",
       "      <td>09:50:50 14-03-2022</td>\n",
       "      <td>14-03-2022 09:50:38</td>\n",
       "      <td>1000000029270545</td>\n",
       "    </tr>\n",
       "  </tbody>\n",
       "</table></div>"
      ],
      "text/plain": [
       "  stat      norenordno      uid    actid exch prctyp  ret prd      flid  \\\n",
       "0   Ok  22031400184893  FA54439  FA54439  NSE    MKT  DAY   C  30470381   \n",
       "1   Ok  22031400100901  FA54439  FA54439  NSE    MKT  DAY   C  28062224   \n",
       "2   Ok  22031400038408  FA54439  FA54439  NFO    LMT  DAY   M   2547077   \n",
       "3   Ok  22031400036193  FA54439  FA54439  NFO    LMT  DAY   M   1848778   \n",
       "\n",
       "                  fltm  ... fillshares flqty pp  ls    ti     prc   flprc  \\\n",
       "0  14-03-2022 14:55:45  ...          1     1  2   1  0.05    0.00  238.90   \n",
       "1  14-03-2022 11:50:37  ...          1     1  2   1  0.05    0.00  237.00   \n",
       "2  14-03-2022 10:16:31  ...         50    50  2  50  0.05  245.00  245.00   \n",
       "3  14-03-2022 09:50:50  ...         50    50  2  50  0.05  231.00  231.00   \n",
       "\n",
       "               norentm              exch_tm         exchordid  \n",
       "0  14:55:45 14-03-2022  14-03-2022 14:55:45  1100000020042308  \n",
       "1  11:50:37 14-03-2022  14-03-2022 11:50:37  1100000011188161  \n",
       "2  10:16:31 14-03-2022  14-03-2022 10:06:40  1000000031326925  \n",
       "3  09:50:50 14-03-2022  14-03-2022 09:50:38  1000000029270545  \n",
       "\n",
       "[4 rows x 24 columns]"
      ]
     },
     "execution_count": 31,
     "metadata": {},
     "output_type": "execute_result"
    }
   ],
   "source": [
    "tradebook = api.get_trade_book()\n",
    "tradebookdf=pd.DataFrame(tradebook)\n",
    "tradebookdf"
   ]
  },
  {
   "cell_type": "code",
   "execution_count": 32,
   "id": "92ca53ff-8d73-4f75-8a16-4c04eaf96400",
   "metadata": {},
   "outputs": [
    {
     "name": "stdout",
     "output_type": "stream",
     "text": [
      " order filled!! check position book\n"
     ]
    },
    {
     "data": {
      "text/plain": [
       "'COMPLETE'"
      ]
     },
     "execution_count": 32,
     "metadata": {},
     "output_type": "execute_result"
    }
   ],
   "source": [
    "check_orderbook('NIFTY17MAR22C16600')"
   ]
  },
  {
   "cell_type": "code",
   "execution_count": 33,
   "id": "abf9df39-7735-4297-895a-1a3f04da4d4e",
   "metadata": {},
   "outputs": [],
   "source": [
    "posret1 = api.get_positions()\n",
    "positionsdf1=pd.DataFrame(posret1)\n",
    "in_positions1=positionsdf1.loc[positionsdf1.tsym=='NIFTY17MAR22C16600']"
   ]
  },
  {
   "cell_type": "code",
   "execution_count": 34,
   "id": "3ce30bf9-011a-44c5-a120-253e39f24549",
   "metadata": {},
   "outputs": [
    {
     "data": {
      "text/plain": [
       "0"
      ]
     },
     "execution_count": 34,
     "metadata": {},
     "output_type": "execute_result"
    }
   ],
   "source": [
    "## if net quantityis 0 then not in position other wise position is still open\n",
    "int(in_positions1['netqty'].iloc[0])"
   ]
  },
  {
   "cell_type": "code",
   "execution_count": null,
   "id": "529dfcfd-704e-43ed-8a06-a643ba242d62",
   "metadata": {},
   "outputs": [],
   "source": []
  },
  {
   "cell_type": "code",
   "execution_count": null,
   "id": "02148e8d-53d0-49a5-89a3-32fd51365a9f",
   "metadata": {},
   "outputs": [],
   "source": []
  },
  {
   "cell_type": "code",
   "execution_count": null,
   "id": "9d9fdb8e-32b1-46cd-a9cf-ddb62ed427ec",
   "metadata": {},
   "outputs": [],
   "source": []
  },
  {
   "cell_type": "code",
   "execution_count": null,
   "id": "46f1767b-b88c-4343-85a1-392dc03030df",
   "metadata": {},
   "outputs": [],
   "source": []
  },
  {
   "cell_type": "code",
   "execution_count": null,
   "id": "e8b3d22c-84f7-4639-80c1-7778d5001158",
   "metadata": {},
   "outputs": [],
   "source": []
  },
  {
   "cell_type": "code",
   "execution_count": 35,
   "id": "1391e8fc-56a3-4c1a-8c57-af8df08defc3",
   "metadata": {
    "tags": []
   },
   "outputs": [],
   "source": [
    "# logoutme()"
   ]
  },
  {
   "cell_type": "code",
   "execution_count": 36,
   "id": "e1009af9-9660-479e-b50d-5e1e5897b16b",
   "metadata": {},
   "outputs": [],
   "source": [
    "# api.get_security_info(exchange='NFO', token=tokenpe)"
   ]
  },
  {
   "cell_type": "code",
   "execution_count": null,
   "id": "fb0562af-0f3b-4006-90ff-a4ca50a2c4e2",
   "metadata": {},
   "outputs": [],
   "source": []
  },
  {
   "cell_type": "code",
   "execution_count": null,
   "id": "f660c512-f34a-4c22-a465-47f57abda625",
   "metadata": {},
   "outputs": [],
   "source": []
  },
  {
   "cell_type": "code",
   "execution_count": null,
   "id": "34a1c65d-f40b-4696-9673-b036782f4d22",
   "metadata": {},
   "outputs": [],
   "source": []
  },
  {
   "cell_type": "code",
   "execution_count": null,
   "id": "1e4db8b2-2567-4625-81ef-07f41213eee0",
   "metadata": {},
   "outputs": [],
   "source": []
  },
  {
   "cell_type": "code",
   "execution_count": null,
   "id": "1bfba49b-3e17-4070-9b17-0fe0b73f8e68",
   "metadata": {},
   "outputs": [],
   "source": []
  },
  {
   "cell_type": "code",
   "execution_count": null,
   "id": "d5f3ef5d-c849-429b-a9bc-ae590b8f9235",
   "metadata": {},
   "outputs": [],
   "source": []
  },
  {
   "cell_type": "code",
   "execution_count": null,
   "id": "b68c76c7-81e4-40f8-9281-dd96dfa05134",
   "metadata": {},
   "outputs": [],
   "source": []
  },
  {
   "cell_type": "code",
   "execution_count": null,
   "id": "a7e452fc-0df0-4fe8-8761-96af592b4c98",
   "metadata": {},
   "outputs": [],
   "source": []
  },
  {
   "cell_type": "code",
   "execution_count": 37,
   "id": "a77176a9-2098-459e-abc9-916d7315505c",
   "metadata": {},
   "outputs": [],
   "source": [
    "# lastBusDay = datetime.datetime.today()-datetime.timedelta(days=1)\n",
    "# lastBusDay = lastBusDay.replace(hour=9, minute=16, second=0, microsecond=0)"
   ]
  },
  {
   "cell_type": "code",
   "execution_count": null,
   "id": "47698e2b-776a-443f-ba5f-ef1c9439eca4",
   "metadata": {},
   "outputs": [],
   "source": []
  },
  {
   "cell_type": "code",
   "execution_count": 38,
   "id": "319d6f74-c5b0-4127-be60-5b37cb8d3b73",
   "metadata": {},
   "outputs": [],
   "source": [
    "# ret = api.get_time_price_series(exchange='NSE', token='26000', starttime=lastBusDay.timestamp(), interval=1)\n",
    "# data=pd.DataFrame(ret)[::-1]"
   ]
  },
  {
   "cell_type": "code",
   "execution_count": 39,
   "id": "6b1b3ea9-df91-43f0-90ba-8fffe67579f8",
   "metadata": {},
   "outputs": [],
   "source": [
    "# datadf=data.copy()"
   ]
  },
  {
   "cell_type": "code",
   "execution_count": 40,
   "id": "17f25226-6175-4fde-bd0d-76b1ff99e37e",
   "metadata": {},
   "outputs": [],
   "source": [
    "# datadf['time']=pd.to_datetime(datadf['time'].astype(str), format='%d-%m-%Y %H:%M:%S')"
   ]
  },
  {
   "cell_type": "code",
   "execution_count": 41,
   "id": "ffad0916-411c-4439-b4bb-72916b9ab6db",
   "metadata": {},
   "outputs": [],
   "source": [
    "# datadf.set_index('time',inplace=True)"
   ]
  },
  {
   "cell_type": "code",
   "execution_count": 42,
   "id": "3f165e0e-ded3-4721-8eae-4b5096907224",
   "metadata": {},
   "outputs": [],
   "source": [
    "# datadf=datadf.iloc[:,2:]\n",
    "# datadf=datadf.astype(float)"
   ]
  },
  {
   "cell_type": "code",
   "execution_count": 43,
   "id": "0c4816e9-e7a2-42b1-93c5-6eb8f981c39c",
   "metadata": {},
   "outputs": [],
   "source": [
    "# datadf5=resampler(datadf,'5min')\n",
    "# datadf10=resampler(datadf,'10min')"
   ]
  },
  {
   "cell_type": "code",
   "execution_count": null,
   "id": "b054af95-e39c-4127-a5b1-bbf3cf1f493f",
   "metadata": {},
   "outputs": [],
   "source": []
  }
 ],
 "metadata": {
  "kernelspec": {
   "display_name": "Python 3 (ipykernel)",
   "language": "python",
   "name": "python3"
  },
  "language_info": {
   "codemirror_mode": {
    "name": "ipython",
    "version": 3
   },
   "file_extension": ".py",
   "mimetype": "text/x-python",
   "name": "python",
   "nbconvert_exporter": "python",
   "pygments_lexer": "ipython3",
   "version": "3.8.12"
  }
 },
 "nbformat": 4,
 "nbformat_minor": 5
}
