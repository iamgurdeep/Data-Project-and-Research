{
 "cells": [
  {
   "cell_type": "code",
   "execution_count": 44,
   "id": "9f42da8b-633f-4e06-b788-698a3d4dc32b",
   "metadata": {
    "tags": []
   },
   "outputs": [],
   "source": [
    "import yfinance as yf\n",
    "import pandas as pd\n",
    "import numpy as np\n",
    "from pymongo import MongoClient\n",
    "import datetime\n",
    "import matplotlib.pyplot as plt\n",
    "import plotly.express as px\n",
    "import plotly.graph_objects as go\n",
    "from plotly.subplots import make_subplots\n",
    "from talib import abstract\n",
    "import math\n",
    "## This is to Convert a string representation of list into list \n",
    "import ast\n",
    "from functools import partial\n",
    "import os\n",
    "from ta.momentum import rsi\n",
    "from ta.utils import dropna\n",
    "# import pandas_ta as pta\n",
    "from collections import defaultdict\n",
    "\n"
   ]
  },
  {
   "cell_type": "code",
   "execution_count": 47,
   "id": "f12ea500-9b97-4a07-bc81-f6a8b5ff7119",
   "metadata": {},
   "outputs": [],
   "source": [
    "files='C:\\\\Personal-Folders/Stock_projects/rough/importdatafiles/01-07--OCT-2021-WEEKLY-expiry_data__VEGE_NF_AND_BNF_Options.csv'"
   ]
  },
  {
   "cell_type": "code",
   "execution_count": 123,
   "id": "63474862-644e-4d3c-b647-39dbcb17f383",
   "metadata": {
    "tags": []
   },
   "outputs": [],
   "source": [
    "def Supertrend(df, atr_period, multiplier):\n",
    "    \n",
    "    high = df['High']\n",
    "    low = df['Low']\n",
    "    close = df['Close']\n",
    "    \n",
    "    # calculate ATR\n",
    "    price_diffs = [high - low, \n",
    "                   high - close.shift(), \n",
    "                   close.shift() - low]\n",
    "    true_range = pd.concat(price_diffs, axis=1)\n",
    "    true_range = true_range.abs().max(axis=1)\n",
    "    # default ATR calculation in supertrend indicator\n",
    "    atr = true_range.ewm(alpha=1/atr_period,min_periods=atr_period).mean() \n",
    "    # df['atr'] = df['tr'].rolling(atr_period).mean()\n",
    "    \n",
    "    # HL2 is simply the average of high and low prices\n",
    "    hl2 = (high + low) / 2\n",
    "    # upperband and lowerband calculation\n",
    "    # notice that final bands are set to be equal to the respective bands\n",
    "    final_upperband = upperband = hl2 + (multiplier * atr)\n",
    "    final_lowerband = lowerband = hl2 - (multiplier * atr)\n",
    "    \n",
    "    # initialize Supertrend column to True\n",
    "    supertrend = [True] * len(df)\n",
    "    \n",
    "    for i in range(1, len(df.index)):\n",
    "        curr, prev = i, i-1\n",
    "        \n",
    "        # if current close price crosses above upperband\n",
    "        if close[curr] > final_upperband[prev]:\n",
    "            supertrend[curr] = True\n",
    "        # if current close price crosses below lowerband\n",
    "        elif close[curr] < final_lowerband[prev]:\n",
    "            supertrend[curr] = False\n",
    "        # else, the trend continues\n",
    "        else:\n",
    "            supertrend[curr] = supertrend[prev]\n",
    "            \n",
    "            # adjustment to the final bands\n",
    "            if supertrend[curr] == True and final_lowerband[curr] < final_lowerband[prev]:\n",
    "                final_lowerband[curr] = final_lowerband[prev]\n",
    "            if supertrend[curr] == False and final_upperband[curr] > final_upperband[prev]:\n",
    "                final_upperband[curr] = final_upperband[prev]\n",
    "\n",
    "        # to remove bands according to the trend direction\n",
    "        if supertrend[curr] == True:\n",
    "            final_upperband[curr] = np.nan\n",
    "        else:\n",
    "            final_lowerband[curr] = np.nan\n",
    "    \n",
    "    return pd.DataFrame({\n",
    "        'Supertrend': supertrend,\n",
    "        'Final Lowerband': final_lowerband,\n",
    "        'Final Upperband': final_upperband\n",
    "    }, index=df.index)"
   ]
  },
  {
   "cell_type": "code",
   "execution_count": 45,
   "id": "19541ef3-8135-43ea-954d-89ec016efdf3",
   "metadata": {},
   "outputs": [],
   "source": [
    "def resampler(df,time):\n",
    "    newdf=pd.DataFrame()\n",
    "    newdf['Open']=df.Open.resample(time).first()\n",
    "    newdf['Close']=df.Close.resample(time).last()\n",
    "    newdf['High']=df.High.resample(time).max()\n",
    "    newdf['Low']=df.Low.resample(time).min()\n",
    "    newdf['Tick_Volume']=df['Tick Volume'].resample(time).sum()\n",
    "    newdf['Volume']=df.Volume.resample(time).sum()\n",
    "    newdf.dropna(axis=0,inplace=True)\n",
    "    \n",
    "    return newdf"
   ]
  },
  {
   "cell_type": "code",
   "execution_count": 136,
   "id": "2571d41f-3422-4d68-a51b-66a2d64b745f",
   "metadata": {},
   "outputs": [],
   "source": [
    "df=pd.read_csv(files)\n",
    "df['Date/Time']=pd.to_datetime(df['Date/Time'].astype(str), format='%d-%m-%Y %H:%M:%S')\n",
    "df.rename(columns={'Date/Time':'Date','Volume':'Tick Volume','Open Interest':'Volume'},inplace=True)"
   ]
  },
  {
   "cell_type": "code",
   "execution_count": 138,
   "id": "4d6341c3-fae6-4add-a386-ce34a8185b6b",
   "metadata": {
    "collapsed": true,
    "jupyter": {
     "outputs_hidden": true
    },
    "tags": []
   },
   "outputs": [
    {
     "data": {
      "text/plain": [
       "array(['BANKNIFTY', 'BANKNIFTY-FUT', 'BANKNIFTYWK32000PE',\n",
       "       'BANKNIFTYWK32100PE', 'BANKNIFTYWK32300PE', 'BANKNIFTYWK32400PE',\n",
       "       'BANKNIFTYWK32500PE', 'BANKNIFTYWK32600PE', 'BANKNIFTYWK32700PE',\n",
       "       'BANKNIFTYWK32800PE', 'BANKNIFTYWK32900PE', 'BANKNIFTYWK33000PE',\n",
       "       'BANKNIFTYWK33100PE', 'BANKNIFTYWK33200PE', 'BANKNIFTYWK33300PE',\n",
       "       'BANKNIFTYWK33400PE', 'BANKNIFTYWK33500CE', 'BANKNIFTYWK33500PE',\n",
       "       'BANKNIFTYWK33600CE', 'BANKNIFTYWK33600PE', 'BANKNIFTYWK33700PE',\n",
       "       'BANKNIFTYWK33800CE', 'BANKNIFTYWK33800PE', 'BANKNIFTYWK33900PE',\n",
       "       'BANKNIFTYWK34000CE', 'BANKNIFTYWK34000PE', 'BANKNIFTYWK34100PE',\n",
       "       'BANKNIFTYWK34200PE', 'BANKNIFTYWK34300CE', 'BANKNIFTYWK34300PE',\n",
       "       'BANKNIFTYWK34400PE', 'BANKNIFTYWK34500CE', 'BANKNIFTYWK34500PE',\n",
       "       'BANKNIFTYWK34600PE', 'BANKNIFTYWK34700CE', 'BANKNIFTYWK34700PE',\n",
       "       'BANKNIFTYWK34800CE', 'BANKNIFTYWK34800PE', 'BANKNIFTYWK34900CE',\n",
       "       'BANKNIFTYWK34900PE', 'BANKNIFTYWK35000CE', 'BANKNIFTYWK35000PE',\n",
       "       'BANKNIFTYWK35100CE', 'BANKNIFTYWK35100PE', 'BANKNIFTYWK35200CE',\n",
       "       'BANKNIFTYWK35200PE', 'BANKNIFTYWK35300CE', 'BANKNIFTYWK35300PE',\n",
       "       'BANKNIFTYWK35400CE', 'BANKNIFTYWK35400PE', 'BANKNIFTYWK35500CE',\n",
       "       'BANKNIFTYWK35500PE', 'BANKNIFTYWK35600CE', 'BANKNIFTYWK35600PE',\n",
       "       'BANKNIFTYWK35700CE', 'BANKNIFTYWK35700PE', 'BANKNIFTYWK35800CE',\n",
       "       'BANKNIFTYWK35800PE', 'BANKNIFTYWK35900CE', 'BANKNIFTYWK35900PE',\n",
       "       'BANKNIFTYWK36000CE', 'BANKNIFTYWK36000PE', 'BANKNIFTYWK36100CE',\n",
       "       'BANKNIFTYWK36100PE', 'BANKNIFTYWK36200CE', 'BANKNIFTYWK36200PE',\n",
       "       'BANKNIFTYWK36300CE', 'BANKNIFTYWK36300PE', 'BANKNIFTYWK36400CE',\n",
       "       'BANKNIFTYWK36400PE', 'BANKNIFTYWK36500CE', 'BANKNIFTYWK36500PE',\n",
       "       'BANKNIFTYWK36600CE', 'BANKNIFTYWK36600PE', 'BANKNIFTYWK36700CE',\n",
       "       'BANKNIFTYWK36700PE', 'BANKNIFTYWK36800CE', 'BANKNIFTYWK36800PE',\n",
       "       'BANKNIFTYWK36900CE', 'BANKNIFTYWK36900PE', 'BANKNIFTYWK37000CE',\n",
       "       'BANKNIFTYWK37000PE', 'BANKNIFTYWK37100CE', 'BANKNIFTYWK37100PE',\n",
       "       'BANKNIFTYWK37200CE', 'BANKNIFTYWK37200PE', 'BANKNIFTYWK37300CE',\n",
       "       'BANKNIFTYWK37300PE', 'BANKNIFTYWK37400CE', 'BANKNIFTYWK37400PE',\n",
       "       'BANKNIFTYWK37500CE', 'BANKNIFTYWK37500PE', 'BANKNIFTYWK37600CE',\n",
       "       'BANKNIFTYWK37600PE', 'BANKNIFTYWK37700CE', 'BANKNIFTYWK37700PE',\n",
       "       'BANKNIFTYWK37800CE', 'BANKNIFTYWK37800PE', 'BANKNIFTYWK37900CE',\n",
       "       'BANKNIFTYWK37900PE', 'BANKNIFTYWK38000CE', 'BANKNIFTYWK38000PE',\n",
       "       'BANKNIFTYWK38100CE', 'BANKNIFTYWK38100PE', 'BANKNIFTYWK38200CE',\n",
       "       'BANKNIFTYWK38200PE', 'BANKNIFTYWK38300CE', 'BANKNIFTYWK38300PE',\n",
       "       'BANKNIFTYWK38400CE', 'BANKNIFTYWK38400PE', 'BANKNIFTYWK38500CE',\n",
       "       'BANKNIFTYWK38500PE', 'BANKNIFTYWK38600CE', 'BANKNIFTYWK38600PE',\n",
       "       'BANKNIFTYWK38700CE', 'BANKNIFTYWK38700PE', 'BANKNIFTYWK38800CE',\n",
       "       'BANKNIFTYWK38800PE', 'BANKNIFTYWK38900CE', 'BANKNIFTYWK38900PE',\n",
       "       'BANKNIFTYWK39000CE', 'BANKNIFTYWK39000PE', 'BANKNIFTYWK39100CE',\n",
       "       'BANKNIFTYWK39100PE', 'BANKNIFTYWK39200CE', 'BANKNIFTYWK39200PE',\n",
       "       'BANKNIFTYWK39300CE', 'BANKNIFTYWK39400CE', 'BANKNIFTYWK39400PE',\n",
       "       'BANKNIFTYWK39500CE', 'BANKNIFTYWK39500PE', 'BANKNIFTYWK39600CE',\n",
       "       'BANKNIFTYWK39600PE', 'BANKNIFTYWK39700CE', 'BANKNIFTYWK39700PE',\n",
       "       'BANKNIFTYWK39800CE', 'BANKNIFTYWK39800PE', 'BANKNIFTYWK39900CE',\n",
       "       'BANKNIFTYWK39900PE', 'BANKNIFTYWK40000CE', 'BANKNIFTYWK40000PE',\n",
       "       'BANKNIFTYWK40100CE', 'BANKNIFTYWK40100PE', 'BANKNIFTYWK40200CE',\n",
       "       'BANKNIFTYWK40200PE', 'BANKNIFTYWK40300CE', 'BANKNIFTYWK40300PE',\n",
       "       'BANKNIFTYWK40400CE', 'BANKNIFTYWK40400PE', 'BANKNIFTYWK40500CE',\n",
       "       'BANKNIFTYWK40500PE', 'BANKNIFTYWK40600CE', 'BANKNIFTYWK40700CE',\n",
       "       'BANKNIFTYWK40800CE', 'BANKNIFTYWK40900CE', 'BANKNIFTYWK40900PE',\n",
       "       'FINNIFTY-FUT', 'INDIAVIX', 'NIFTY', 'NIFTY-FUT', 'NIFTYAUTO',\n",
       "       'NIFTYENERGY', 'NIFTYFINSERVICE', 'NIFTYFMCG', 'NIFTYINFRA',\n",
       "       'NIFTYIT', 'NIFTYMEDIA', 'NIFTYMETAL', 'NIFTYMIDCAP50',\n",
       "       'NIFTYPHARMA', 'NIFTYPSUBANK', 'NIFTYREALTY', 'NIFTYWK16000CE',\n",
       "       'NIFTYWK16000PE', 'NIFTYWK16050PE', 'NIFTYWK16100CE',\n",
       "       'NIFTYWK16100PE', 'NIFTYWK16150CE', 'NIFTYWK16150PE',\n",
       "       'NIFTYWK16200CE', 'NIFTYWK16200PE', 'NIFTYWK16250PE',\n",
       "       'NIFTYWK16300CE', 'NIFTYWK16300PE', 'NIFTYWK16350CE',\n",
       "       'NIFTYWK16350PE', 'NIFTYWK16400CE', 'NIFTYWK16400PE',\n",
       "       'NIFTYWK16450CE', 'NIFTYWK16450PE', 'NIFTYWK16500CE',\n",
       "       'NIFTYWK16500PE', 'NIFTYWK16550CE', 'NIFTYWK16550PE',\n",
       "       'NIFTYWK16600CE', 'NIFTYWK16600PE', 'NIFTYWK16650CE',\n",
       "       'NIFTYWK16650PE', 'NIFTYWK16700CE', 'NIFTYWK16700PE',\n",
       "       'NIFTYWK16750CE', 'NIFTYWK16750PE', 'NIFTYWK16800CE',\n",
       "       'NIFTYWK16800PE', 'NIFTYWK16850CE', 'NIFTYWK16850PE',\n",
       "       'NIFTYWK16900CE', 'NIFTYWK16900PE', 'NIFTYWK16950CE',\n",
       "       'NIFTYWK16950PE', 'NIFTYWK17000CE', 'NIFTYWK17000PE',\n",
       "       'NIFTYWK17050CE', 'NIFTYWK17050PE', 'NIFTYWK17100CE',\n",
       "       'NIFTYWK17100PE', 'NIFTYWK17150CE', 'NIFTYWK17150PE',\n",
       "       'NIFTYWK17200CE', 'NIFTYWK17200PE', 'NIFTYWK17250CE',\n",
       "       'NIFTYWK17250PE', 'NIFTYWK17300CE', 'NIFTYWK17300PE',\n",
       "       'NIFTYWK17350CE', 'NIFTYWK17350PE', 'NIFTYWK17400CE',\n",
       "       'NIFTYWK17400PE', 'NIFTYWK17450CE', 'NIFTYWK17450PE',\n",
       "       'NIFTYWK17500CE', 'NIFTYWK17500PE', 'NIFTYWK17550CE',\n",
       "       'NIFTYWK17550PE', 'NIFTYWK17600CE', 'NIFTYWK17600PE',\n",
       "       'NIFTYWK17650CE', 'NIFTYWK17650PE', 'NIFTYWK17700CE',\n",
       "       'NIFTYWK17700PE', 'NIFTYWK17750CE', 'NIFTYWK17750PE',\n",
       "       'NIFTYWK17800CE', 'NIFTYWK17800PE', 'NIFTYWK17850CE',\n",
       "       'NIFTYWK17850PE', 'NIFTYWK17900CE', 'NIFTYWK17900PE',\n",
       "       'NIFTYWK17950CE', 'NIFTYWK17950PE', 'NIFTYWK18000CE',\n",
       "       'NIFTYWK18000PE', 'NIFTYWK18050CE', 'NIFTYWK18050PE',\n",
       "       'NIFTYWK18100CE', 'NIFTYWK18100PE', 'NIFTYWK18150CE',\n",
       "       'NIFTYWK18150PE', 'NIFTYWK18200CE', 'NIFTYWK18200PE',\n",
       "       'NIFTYWK18250CE', 'NIFTYWK18250PE', 'NIFTYWK18300CE',\n",
       "       'NIFTYWK18300PE', 'NIFTYWK18350CE', 'NIFTYWK18350PE',\n",
       "       'NIFTYWK18400CE', 'NIFTYWK18400PE', 'NIFTYWK18450CE',\n",
       "       'NIFTYWK18450PE', 'NIFTYWK18500CE', 'NIFTYWK18500PE',\n",
       "       'NIFTYWK18550CE', 'NIFTYWK18550PE', 'NIFTYWK18600CE',\n",
       "       'NIFTYWK18600PE', 'NIFTYWK18650CE', 'NIFTYWK18650PE',\n",
       "       'NIFTYWK18700CE', 'NIFTYWK18700PE', 'NIFTYWK18750CE',\n",
       "       'NIFTYWK18750PE', 'NIFTYWK18800CE', 'NIFTYWK18800PE',\n",
       "       'NIFTYWK18850CE', 'NIFTYWK18850PE', 'NIFTYWK18900CE',\n",
       "       'NIFTYWK18900PE', 'NIFTYWK18950CE', 'NIFTYWK19000CE',\n",
       "       'NIFTYWK19000PE', 'USDINR-I'], dtype=object)"
      ]
     },
     "execution_count": 138,
     "metadata": {},
     "output_type": "execute_result"
    }
   ],
   "source": [
    "df.Ticker.unique()"
   ]
  },
  {
   "cell_type": "code",
   "execution_count": 181,
   "id": "f93d1bd9-bd4a-416d-911e-892754f26929",
   "metadata": {},
   "outputs": [],
   "source": [
    "dfo=df.loc[df.Ticker=='NIFTYWK17500CE']\n",
    "# dfo=df.loc[df.Ticker=='NIFTY']\n",
    "dfo.set_index('Date',inplace=True)"
   ]
  },
  {
   "cell_type": "code",
   "execution_count": 55,
   "id": "5cb973c7-7069-4f76-a23b-eff7a1cd578c",
   "metadata": {},
   "outputs": [],
   "source": [
    "# #376 min in a trading session.\n",
    "# datadf[:376].to_csv('DataFiles/niftopdata.csv')"
   ]
  },
  {
   "cell_type": "code",
   "execution_count": 193,
   "id": "3149bde4-c2af-4b37-9003-c61a301ac357",
   "metadata": {},
   "outputs": [],
   "source": [
    "dfo=dfo[-378:].copy()"
   ]
  },
  {
   "cell_type": "code",
   "execution_count": 194,
   "id": "d56881b5-2f3b-4e45-a432-6c0c8c5e4ad3",
   "metadata": {},
   "outputs": [
    {
     "data": {
      "text/html": [
       "<div><div id=85710725-3979-4220-b6c3-a8aff58da8a1 style=\"display:none; background-color:#9D6CFF; color:white; width:200px; height:30px; padding-left:5px; border-radius:4px; flex-direction:row; justify-content:space-around; align-items:center;\" onmouseover=\"this.style.backgroundColor='#BA9BF8'\" onmouseout=\"this.style.backgroundColor='#9D6CFF'\" onclick=\"window.commands?.execute('create-mitosheet-from-dataframe-output');\">See Full Dataframe in Mito</div> <script> if (window.commands.hasCommand('create-mitosheet-from-dataframe-output')) document.getElementById('85710725-3979-4220-b6c3-a8aff58da8a1').style.display = 'flex' </script> <table border=\"1\" class=\"dataframe\">\n",
       "  <thead>\n",
       "    <tr style=\"text-align: right;\">\n",
       "      <th></th>\n",
       "      <th>Ticker</th>\n",
       "      <th>Open</th>\n",
       "      <th>High</th>\n",
       "      <th>Low</th>\n",
       "      <th>Close</th>\n",
       "      <th>Tick Volume</th>\n",
       "      <th>Volume</th>\n",
       "    </tr>\n",
       "    <tr>\n",
       "      <th>Date</th>\n",
       "      <th></th>\n",
       "      <th></th>\n",
       "      <th></th>\n",
       "      <th></th>\n",
       "      <th></th>\n",
       "      <th></th>\n",
       "      <th></th>\n",
       "    </tr>\n",
       "  </thead>\n",
       "  <tbody>\n",
       "    <tr>\n",
       "      <th>2021-10-06 15:25:00</th>\n",
       "      <td>NIFTYWK17500CE</td>\n",
       "      <td>153.90</td>\n",
       "      <td>154.55</td>\n",
       "      <td>150.00</td>\n",
       "      <td>150.25</td>\n",
       "      <td>42200</td>\n",
       "      <td>1079650</td>\n",
       "    </tr>\n",
       "    <tr>\n",
       "      <th>2021-10-06 15:26:00</th>\n",
       "      <td>NIFTYWK17500CE</td>\n",
       "      <td>150.00</td>\n",
       "      <td>151.00</td>\n",
       "      <td>146.55</td>\n",
       "      <td>147.80</td>\n",
       "      <td>32100</td>\n",
       "      <td>1079650</td>\n",
       "    </tr>\n",
       "    <tr>\n",
       "      <th>2021-10-06 15:27:00</th>\n",
       "      <td>NIFTYWK17500CE</td>\n",
       "      <td>147.70</td>\n",
       "      <td>147.95</td>\n",
       "      <td>145.00</td>\n",
       "      <td>145.00</td>\n",
       "      <td>26350</td>\n",
       "      <td>1068800</td>\n",
       "    </tr>\n",
       "    <tr>\n",
       "      <th>2021-10-06 15:28:00</th>\n",
       "      <td>NIFTYWK17500CE</td>\n",
       "      <td>144.90</td>\n",
       "      <td>147.75</td>\n",
       "      <td>143.15</td>\n",
       "      <td>143.40</td>\n",
       "      <td>36200</td>\n",
       "      <td>1068800</td>\n",
       "    </tr>\n",
       "    <tr>\n",
       "      <th>2021-10-06 15:29:00</th>\n",
       "      <td>NIFTYWK17500CE</td>\n",
       "      <td>144.15</td>\n",
       "      <td>148.95</td>\n",
       "      <td>143.80</td>\n",
       "      <td>148.90</td>\n",
       "      <td>36450</td>\n",
       "      <td>1068800</td>\n",
       "    </tr>\n",
       "    <tr>\n",
       "      <th>...</th>\n",
       "      <td>...</td>\n",
       "      <td>...</td>\n",
       "      <td>...</td>\n",
       "      <td>...</td>\n",
       "      <td>...</td>\n",
       "      <td>...</td>\n",
       "      <td>...</td>\n",
       "    </tr>\n",
       "    <tr>\n",
       "      <th>2021-10-07 15:25:00</th>\n",
       "      <td>NIFTYWK17500CE</td>\n",
       "      <td>291.40</td>\n",
       "      <td>292.65</td>\n",
       "      <td>291.05</td>\n",
       "      <td>292.65</td>\n",
       "      <td>5000</td>\n",
       "      <td>739000</td>\n",
       "    </tr>\n",
       "    <tr>\n",
       "      <th>2021-10-07 15:26:00</th>\n",
       "      <td>NIFTYWK17500CE</td>\n",
       "      <td>292.35</td>\n",
       "      <td>292.35</td>\n",
       "      <td>291.80</td>\n",
       "      <td>292.15</td>\n",
       "      <td>4400</td>\n",
       "      <td>739000</td>\n",
       "    </tr>\n",
       "    <tr>\n",
       "      <th>2021-10-07 15:27:00</th>\n",
       "      <td>NIFTYWK17500CE</td>\n",
       "      <td>291.90</td>\n",
       "      <td>292.00</td>\n",
       "      <td>291.15</td>\n",
       "      <td>291.15</td>\n",
       "      <td>6050</td>\n",
       "      <td>735600</td>\n",
       "    </tr>\n",
       "    <tr>\n",
       "      <th>2021-10-07 15:28:00</th>\n",
       "      <td>NIFTYWK17500CE</td>\n",
       "      <td>291.20</td>\n",
       "      <td>291.50</td>\n",
       "      <td>291.00</td>\n",
       "      <td>291.10</td>\n",
       "      <td>5100</td>\n",
       "      <td>735600</td>\n",
       "    </tr>\n",
       "    <tr>\n",
       "      <th>2021-10-07 15:29:00</th>\n",
       "      <td>NIFTYWK17500CE</td>\n",
       "      <td>291.05</td>\n",
       "      <td>291.50</td>\n",
       "      <td>290.20</td>\n",
       "      <td>291.50</td>\n",
       "      <td>3100</td>\n",
       "      <td>735600</td>\n",
       "    </tr>\n",
       "  </tbody>\n",
       "</table></div>"
      ],
      "text/plain": [
       "                             Ticker    Open    High     Low   Close  \\\n",
       "Date                                                                  \n",
       "2021-10-06 15:25:00  NIFTYWK17500CE  153.90  154.55  150.00  150.25   \n",
       "2021-10-06 15:26:00  NIFTYWK17500CE  150.00  151.00  146.55  147.80   \n",
       "2021-10-06 15:27:00  NIFTYWK17500CE  147.70  147.95  145.00  145.00   \n",
       "2021-10-06 15:28:00  NIFTYWK17500CE  144.90  147.75  143.15  143.40   \n",
       "2021-10-06 15:29:00  NIFTYWK17500CE  144.15  148.95  143.80  148.90   \n",
       "...                             ...     ...     ...     ...     ...   \n",
       "2021-10-07 15:25:00  NIFTYWK17500CE  291.40  292.65  291.05  292.65   \n",
       "2021-10-07 15:26:00  NIFTYWK17500CE  292.35  292.35  291.80  292.15   \n",
       "2021-10-07 15:27:00  NIFTYWK17500CE  291.90  292.00  291.15  291.15   \n",
       "2021-10-07 15:28:00  NIFTYWK17500CE  291.20  291.50  291.00  291.10   \n",
       "2021-10-07 15:29:00  NIFTYWK17500CE  291.05  291.50  290.20  291.50   \n",
       "\n",
       "                     Tick Volume   Volume  \n",
       "Date                                       \n",
       "2021-10-06 15:25:00        42200  1079650  \n",
       "2021-10-06 15:26:00        32100  1079650  \n",
       "2021-10-06 15:27:00        26350  1068800  \n",
       "2021-10-06 15:28:00        36200  1068800  \n",
       "2021-10-06 15:29:00        36450  1068800  \n",
       "...                          ...      ...  \n",
       "2021-10-07 15:25:00         5000   739000  \n",
       "2021-10-07 15:26:00         4400   739000  \n",
       "2021-10-07 15:27:00         6050   735600  \n",
       "2021-10-07 15:28:00         5100   735600  \n",
       "2021-10-07 15:29:00         3100   735600  \n",
       "\n",
       "[378 rows x 7 columns]"
      ]
     },
     "execution_count": 194,
     "metadata": {},
     "output_type": "execute_result"
    }
   ],
   "source": [
    "dfo"
   ]
  },
  {
   "cell_type": "code",
   "execution_count": null,
   "id": "8a9ee119-b7a2-4985-be1a-93221952fa95",
   "metadata": {},
   "outputs": [],
   "source": []
  },
  {
   "cell_type": "code",
   "execution_count": 125,
   "id": "f5bfaded-5b41-40f3-9dce-b6495a8a956a",
   "metadata": {
    "jupyter": {
     "source_hidden": true
    },
    "tags": []
   },
   "outputs": [],
   "source": [
    "def predf(data):\n",
    "    \n",
    "    ###Base Time Frame########\n",
    "    datadf=data.copy()\n",
    "    # datadf.set_index('Date',inplace=True)\n",
    "    datadf=resampler(datadf,'5min')\n",
    "    supertrendBTF=Supertrend(datadf,10,1)\n",
    "    supertrendBTF['rsi']=rsi(datadf.Close,window=8,fillna=True)\n",
    "    supertrendBTF['rsima']=supertrendBTF['rsi'].rolling(13).mean()\n",
    "    supertrendBTF.reset_index(inplace=True)\n",
    "\n",
    "    ###High Time Frame#########\n",
    "    datadf=data.copy()\n",
    "    # datadf.set_index('Date',inplace=True)\n",
    "    datadf=resampler(datadf,'15min')\n",
    "    supertrendHTF=Supertrend(datadf,10,0.8)\n",
    "    supertrendHTF['rsi']=rsi(datadf.Close,window=8,fillna=True)\n",
    "    supertrendHTF['rsima']=supertrendHTF['rsi'].rolling(13).mean()\n",
    "    supertrendHTF.reset_index(inplace=True)\n",
    "    \n",
    "    #######Merge Base and HTF indicators###\n",
    "    st=pd.merge(supertrendBTF,supertrendHTF,on='Date',how='left')\n",
    "    st=st.replace(to_replace=np.nan,method='ffill')\n",
    "    st=st.set_index('Date')\n",
    "    \n",
    "    #########Join everything in single df#######\n",
    "    datadf=data.copy()\n",
    "    # datadf.set_index('Date',inplace=True)\n",
    "    datadf=resampler(datadf,'5min')\n",
    "    datadf=datadf.join(st)\n",
    "    # print(datadf.head())\n",
    "    \n",
    "    return datadf"
   ]
  },
  {
   "cell_type": "code",
   "execution_count": 195,
   "id": "a9713b20-015f-4450-8307-68cee78df244",
   "metadata": {},
   "outputs": [],
   "source": [
    "staticdf=predf(dfo)"
   ]
  },
  {
   "cell_type": "code",
   "execution_count": 214,
   "id": "05710ddd-dcb9-4ae4-8a43-494f05f3c1f5",
   "metadata": {},
   "outputs": [
    {
     "data": {
      "text/html": [
       "<div><div id=466b2a3c-ad12-47c8-87fb-f7fc27ff975e style=\"display:none; background-color:#9D6CFF; color:white; width:200px; height:30px; padding-left:5px; border-radius:4px; flex-direction:row; justify-content:space-around; align-items:center;\" onmouseover=\"this.style.backgroundColor='#BA9BF8'\" onmouseout=\"this.style.backgroundColor='#9D6CFF'\" onclick=\"window.commands?.execute('create-mitosheet-from-dataframe-output');\">See Full Dataframe in Mito</div> <script> if (window.commands.hasCommand('create-mitosheet-from-dataframe-output')) document.getElementById('466b2a3c-ad12-47c8-87fb-f7fc27ff975e').style.display = 'flex' </script> <table border=\"1\" class=\"dataframe\">\n",
       "  <thead>\n",
       "    <tr style=\"text-align: right;\">\n",
       "      <th></th>\n",
       "      <th>Open</th>\n",
       "      <th>Close</th>\n",
       "      <th>High</th>\n",
       "      <th>Low</th>\n",
       "      <th>Tick_Volume</th>\n",
       "      <th>Volume</th>\n",
       "      <th>Supertrend_x</th>\n",
       "      <th>Final Lowerband_x</th>\n",
       "      <th>Final Upperband_x</th>\n",
       "      <th>rsi_x</th>\n",
       "      <th>rsima_x</th>\n",
       "      <th>Supertrend_y</th>\n",
       "      <th>Final Lowerband_y</th>\n",
       "      <th>Final Upperband_y</th>\n",
       "      <th>rsi_y</th>\n",
       "      <th>rsima_y</th>\n",
       "    </tr>\n",
       "    <tr>\n",
       "      <th>Date</th>\n",
       "      <th></th>\n",
       "      <th></th>\n",
       "      <th></th>\n",
       "      <th></th>\n",
       "      <th></th>\n",
       "      <th></th>\n",
       "      <th></th>\n",
       "      <th></th>\n",
       "      <th></th>\n",
       "      <th></th>\n",
       "      <th></th>\n",
       "      <th></th>\n",
       "      <th></th>\n",
       "      <th></th>\n",
       "      <th></th>\n",
       "      <th></th>\n",
       "    </tr>\n",
       "  </thead>\n",
       "  <tbody>\n",
       "    <tr>\n",
       "      <th>2021-10-07 14:55:00</th>\n",
       "      <td>314.45</td>\n",
       "      <td>318.35</td>\n",
       "      <td>322.25</td>\n",
       "      <td>310.90</td>\n",
       "      <td>33700</td>\n",
       "      <td>4242200</td>\n",
       "      <td>False</td>\n",
       "      <td>340.02975</td>\n",
       "      <td>323.027795</td>\n",
       "      <td>37.391692</td>\n",
       "      <td>43.228215</td>\n",
       "      <td>False</td>\n",
       "      <td>337.098022</td>\n",
       "      <td>330.801847</td>\n",
       "      <td>44.302195</td>\n",
       "      <td>67.241238</td>\n",
       "    </tr>\n",
       "    <tr>\n",
       "      <th>2021-10-07 15:00:00</th>\n",
       "      <td>317.80</td>\n",
       "      <td>294.00</td>\n",
       "      <td>318.90</td>\n",
       "      <td>291.10</td>\n",
       "      <td>43450</td>\n",
       "      <td>4242350</td>\n",
       "      <td>False</td>\n",
       "      <td>340.02975</td>\n",
       "      <td>320.751827</td>\n",
       "      <td>23.811532</td>\n",
       "      <td>40.411313</td>\n",
       "      <td>False</td>\n",
       "      <td>337.098022</td>\n",
       "      <td>324.506853</td>\n",
       "      <td>34.046730</td>\n",
       "      <td>63.158601</td>\n",
       "    </tr>\n",
       "    <tr>\n",
       "      <th>2021-10-07 15:05:00</th>\n",
       "      <td>295.10</td>\n",
       "      <td>299.10</td>\n",
       "      <td>305.20</td>\n",
       "      <td>294.05</td>\n",
       "      <td>36000</td>\n",
       "      <td>4226450</td>\n",
       "      <td>False</td>\n",
       "      <td>340.02975</td>\n",
       "      <td>314.921413</td>\n",
       "      <td>29.905199</td>\n",
       "      <td>38.002850</td>\n",
       "      <td>False</td>\n",
       "      <td>337.098022</td>\n",
       "      <td>324.506853</td>\n",
       "      <td>34.046730</td>\n",
       "      <td>63.158601</td>\n",
       "    </tr>\n",
       "    <tr>\n",
       "      <th>2021-10-07 15:10:00</th>\n",
       "      <td>297.75</td>\n",
       "      <td>293.85</td>\n",
       "      <td>297.80</td>\n",
       "      <td>291.60</td>\n",
       "      <td>92400</td>\n",
       "      <td>4054250</td>\n",
       "      <td>False</td>\n",
       "      <td>340.02975</td>\n",
       "      <td>309.216416</td>\n",
       "      <td>27.333253</td>\n",
       "      <td>35.861043</td>\n",
       "      <td>False</td>\n",
       "      <td>337.098022</td>\n",
       "      <td>324.506853</td>\n",
       "      <td>34.046730</td>\n",
       "      <td>63.158601</td>\n",
       "    </tr>\n",
       "    <tr>\n",
       "      <th>2021-10-07 15:15:00</th>\n",
       "      <td>292.65</td>\n",
       "      <td>292.50</td>\n",
       "      <td>294.25</td>\n",
       "      <td>288.80</td>\n",
       "      <td>31700</td>\n",
       "      <td>3858350</td>\n",
       "      <td>False</td>\n",
       "      <td>340.02975</td>\n",
       "      <td>305.134401</td>\n",
       "      <td>26.659450</td>\n",
       "      <td>33.493464</td>\n",
       "      <td>False</td>\n",
       "      <td>337.098022</td>\n",
       "      <td>309.412543</td>\n",
       "      <td>33.204141</td>\n",
       "      <td>59.639498</td>\n",
       "    </tr>\n",
       "  </tbody>\n",
       "</table></div>"
      ],
      "text/plain": [
       "                       Open   Close    High     Low  Tick_Volume   Volume  \\\n",
       "Date                                                                        \n",
       "2021-10-07 14:55:00  314.45  318.35  322.25  310.90        33700  4242200   \n",
       "2021-10-07 15:00:00  317.80  294.00  318.90  291.10        43450  4242350   \n",
       "2021-10-07 15:05:00  295.10  299.10  305.20  294.05        36000  4226450   \n",
       "2021-10-07 15:10:00  297.75  293.85  297.80  291.60        92400  4054250   \n",
       "2021-10-07 15:15:00  292.65  292.50  294.25  288.80        31700  3858350   \n",
       "\n",
       "                     Supertrend_x  Final Lowerband_x  Final Upperband_x  \\\n",
       "Date                                                                      \n",
       "2021-10-07 14:55:00         False          340.02975         323.027795   \n",
       "2021-10-07 15:00:00         False          340.02975         320.751827   \n",
       "2021-10-07 15:05:00         False          340.02975         314.921413   \n",
       "2021-10-07 15:10:00         False          340.02975         309.216416   \n",
       "2021-10-07 15:15:00         False          340.02975         305.134401   \n",
       "\n",
       "                         rsi_x    rsima_x Supertrend_y  Final Lowerband_y  \\\n",
       "Date                                                                        \n",
       "2021-10-07 14:55:00  37.391692  43.228215        False         337.098022   \n",
       "2021-10-07 15:00:00  23.811532  40.411313        False         337.098022   \n",
       "2021-10-07 15:05:00  29.905199  38.002850        False         337.098022   \n",
       "2021-10-07 15:10:00  27.333253  35.861043        False         337.098022   \n",
       "2021-10-07 15:15:00  26.659450  33.493464        False         337.098022   \n",
       "\n",
       "                     Final Upperband_y      rsi_y    rsima_y  \n",
       "Date                                                          \n",
       "2021-10-07 14:55:00         330.801847  44.302195  67.241238  \n",
       "2021-10-07 15:00:00         324.506853  34.046730  63.158601  \n",
       "2021-10-07 15:05:00         324.506853  34.046730  63.158601  \n",
       "2021-10-07 15:10:00         324.506853  34.046730  63.158601  \n",
       "2021-10-07 15:15:00         309.412543  33.204141  59.639498  "
      ]
     },
     "execution_count": 214,
     "metadata": {},
     "output_type": "execute_result"
    }
   ],
   "source": [
    "staticdf[-7:-2]"
   ]
  },
  {
   "cell_type": "code",
   "execution_count": 207,
   "id": "c6275f38-8e18-4fde-85c2-0f7c1b52d282",
   "metadata": {
    "tags": []
   },
   "outputs": [],
   "source": [
    "dynamicdf=predf(dfo[:354])"
   ]
  },
  {
   "cell_type": "code",
   "execution_count": 217,
   "id": "2350ac8d-5819-4ec6-99e5-a81e4a059f1f",
   "metadata": {},
   "outputs": [
    {
     "data": {
      "text/html": [
       "<div><div id=2545c311-4480-403e-b1d2-ad7bec70c394 style=\"display:none; background-color:#9D6CFF; color:white; width:200px; height:30px; padding-left:5px; border-radius:4px; flex-direction:row; justify-content:space-around; align-items:center;\" onmouseover=\"this.style.backgroundColor='#BA9BF8'\" onmouseout=\"this.style.backgroundColor='#9D6CFF'\" onclick=\"window.commands?.execute('create-mitosheet-from-dataframe-output');\">See Full Dataframe in Mito</div> <script> if (window.commands.hasCommand('create-mitosheet-from-dataframe-output')) document.getElementById('2545c311-4480-403e-b1d2-ad7bec70c394').style.display = 'flex' </script> <table border=\"1\" class=\"dataframe\">\n",
       "  <thead>\n",
       "    <tr style=\"text-align: right;\">\n",
       "      <th></th>\n",
       "      <th>Open</th>\n",
       "      <th>Close</th>\n",
       "      <th>High</th>\n",
       "      <th>Low</th>\n",
       "      <th>Tick_Volume</th>\n",
       "      <th>Volume</th>\n",
       "      <th>Supertrend_x</th>\n",
       "      <th>Final Lowerband_x</th>\n",
       "      <th>Final Upperband_x</th>\n",
       "      <th>rsi_x</th>\n",
       "      <th>rsima_x</th>\n",
       "      <th>Supertrend_y</th>\n",
       "      <th>Final Lowerband_y</th>\n",
       "      <th>Final Upperband_y</th>\n",
       "      <th>rsi_y</th>\n",
       "      <th>rsima_y</th>\n",
       "    </tr>\n",
       "    <tr>\n",
       "      <th>Date</th>\n",
       "      <th></th>\n",
       "      <th></th>\n",
       "      <th></th>\n",
       "      <th></th>\n",
       "      <th></th>\n",
       "      <th></th>\n",
       "      <th></th>\n",
       "      <th></th>\n",
       "      <th></th>\n",
       "      <th></th>\n",
       "      <th></th>\n",
       "      <th></th>\n",
       "      <th></th>\n",
       "      <th></th>\n",
       "      <th></th>\n",
       "      <th></th>\n",
       "    </tr>\n",
       "  </thead>\n",
       "  <tbody>\n",
       "    <tr>\n",
       "      <th>2021-10-07 14:50:00</th>\n",
       "      <td>312.25</td>\n",
       "      <td>314.00</td>\n",
       "      <td>314.00</td>\n",
       "      <td>302.55</td>\n",
       "      <td>19200</td>\n",
       "      <td>4258150</td>\n",
       "      <td>False</td>\n",
       "      <td>340.02975</td>\n",
       "      <td>323.027795</td>\n",
       "      <td>31.263950</td>\n",
       "      <td>43.617271</td>\n",
       "      <td>False</td>\n",
       "      <td>337.098022</td>\n",
       "      <td>330.801847</td>\n",
       "      <td>44.302195</td>\n",
       "      <td>67.241238</td>\n",
       "    </tr>\n",
       "    <tr>\n",
       "      <th>2021-10-07 14:55:00</th>\n",
       "      <td>314.45</td>\n",
       "      <td>318.35</td>\n",
       "      <td>322.25</td>\n",
       "      <td>310.90</td>\n",
       "      <td>33700</td>\n",
       "      <td>4242200</td>\n",
       "      <td>False</td>\n",
       "      <td>340.02975</td>\n",
       "      <td>323.027795</td>\n",
       "      <td>37.391692</td>\n",
       "      <td>43.228215</td>\n",
       "      <td>False</td>\n",
       "      <td>337.098022</td>\n",
       "      <td>330.801847</td>\n",
       "      <td>44.302195</td>\n",
       "      <td>67.241238</td>\n",
       "    </tr>\n",
       "    <tr>\n",
       "      <th>2021-10-07 15:00:00</th>\n",
       "      <td>317.80</td>\n",
       "      <td>294.00</td>\n",
       "      <td>318.90</td>\n",
       "      <td>291.10</td>\n",
       "      <td>43450</td>\n",
       "      <td>4242350</td>\n",
       "      <td>False</td>\n",
       "      <td>340.02975</td>\n",
       "      <td>320.751827</td>\n",
       "      <td>23.811532</td>\n",
       "      <td>40.411313</td>\n",
       "      <td>False</td>\n",
       "      <td>337.098022</td>\n",
       "      <td>324.506853</td>\n",
       "      <td>35.366674</td>\n",
       "      <td>63.260136</td>\n",
       "    </tr>\n",
       "    <tr>\n",
       "      <th>2021-10-07 15:05:00</th>\n",
       "      <td>295.10</td>\n",
       "      <td>297.80</td>\n",
       "      <td>300.20</td>\n",
       "      <td>294.05</td>\n",
       "      <td>4150</td>\n",
       "      <td>845050</td>\n",
       "      <td>False</td>\n",
       "      <td>340.02975</td>\n",
       "      <td>311.921159</td>\n",
       "      <td>28.446405</td>\n",
       "      <td>37.890636</td>\n",
       "      <td>False</td>\n",
       "      <td>337.098022</td>\n",
       "      <td>324.506853</td>\n",
       "      <td>35.366674</td>\n",
       "      <td>63.260136</td>\n",
       "    </tr>\n",
       "  </tbody>\n",
       "</table></div>"
      ],
      "text/plain": [
       "                       Open   Close    High     Low  Tick_Volume   Volume  \\\n",
       "Date                                                                        \n",
       "2021-10-07 14:50:00  312.25  314.00  314.00  302.55        19200  4258150   \n",
       "2021-10-07 14:55:00  314.45  318.35  322.25  310.90        33700  4242200   \n",
       "2021-10-07 15:00:00  317.80  294.00  318.90  291.10        43450  4242350   \n",
       "2021-10-07 15:05:00  295.10  297.80  300.20  294.05         4150   845050   \n",
       "\n",
       "                     Supertrend_x  Final Lowerband_x  Final Upperband_x  \\\n",
       "Date                                                                      \n",
       "2021-10-07 14:50:00         False          340.02975         323.027795   \n",
       "2021-10-07 14:55:00         False          340.02975         323.027795   \n",
       "2021-10-07 15:00:00         False          340.02975         320.751827   \n",
       "2021-10-07 15:05:00         False          340.02975         311.921159   \n",
       "\n",
       "                         rsi_x    rsima_x Supertrend_y  Final Lowerband_y  \\\n",
       "Date                                                                        \n",
       "2021-10-07 14:50:00  31.263950  43.617271        False         337.098022   \n",
       "2021-10-07 14:55:00  37.391692  43.228215        False         337.098022   \n",
       "2021-10-07 15:00:00  23.811532  40.411313        False         337.098022   \n",
       "2021-10-07 15:05:00  28.446405  37.890636        False         337.098022   \n",
       "\n",
       "                     Final Upperband_y      rsi_y    rsima_y  \n",
       "Date                                                          \n",
       "2021-10-07 14:50:00         330.801847  44.302195  67.241238  \n",
       "2021-10-07 14:55:00         330.801847  44.302195  67.241238  \n",
       "2021-10-07 15:00:00         324.506853  35.366674  63.260136  \n",
       "2021-10-07 15:05:00         324.506853  35.366674  63.260136  "
      ]
     },
     "execution_count": 217,
     "metadata": {},
     "output_type": "execute_result"
    }
   ],
   "source": [
    "dynamicdf[-4:]"
   ]
  },
  {
   "cell_type": "code",
   "execution_count": null,
   "id": "3ea1464c-45b1-4af1-919c-88deda4cd4b0",
   "metadata": {},
   "outputs": [],
   "source": []
  },
  {
   "cell_type": "code",
   "execution_count": null,
   "id": "3a382539-8a36-4f2b-981b-e17d01c68f4a",
   "metadata": {},
   "outputs": [],
   "source": []
  },
  {
   "cell_type": "code",
   "execution_count": null,
   "id": "b8a61f1b-6bdd-4c34-ae78-0a0c1d7a9e12",
   "metadata": {},
   "outputs": [],
   "source": []
  },
  {
   "cell_type": "code",
   "execution_count": null,
   "id": "698b3658-abaf-47ff-a2b8-94618a62f85c",
   "metadata": {},
   "outputs": [],
   "source": []
  },
  {
   "cell_type": "code",
   "execution_count": 6,
   "id": "8eb83a27-e424-4fdd-9264-b4041838868a",
   "metadata": {},
   "outputs": [],
   "source": [
    "import time"
   ]
  },
  {
   "cell_type": "code",
   "execution_count": 13,
   "id": "217757f9-c542-4c56-81e2-6451a99da9eb",
   "metadata": {},
   "outputs": [
    {
     "data": {
      "text/plain": [
       "1647249631.7825234"
      ]
     },
     "execution_count": 13,
     "metadata": {},
     "output_type": "execute_result"
    }
   ],
   "source": [
    "time.time()"
   ]
  },
  {
   "cell_type": "code",
   "execution_count": 15,
   "id": "0f6809b4-0a42-41fc-b5fd-feb48b356c52",
   "metadata": {},
   "outputs": [
    {
     "name": "stdout",
     "output_type": "stream",
     "text": [
      "epoch is: Thu Jan  1 00:00:00 1970\n"
     ]
    }
   ],
   "source": [
    "# Get the epoch\n",
    "obj = time.gmtime(0)\n",
    "epoch = time.asctime(obj)\n",
    "print(\"epoch is:\", epoch)"
   ]
  },
  {
   "cell_type": "code",
   "execution_count": 21,
   "id": "7c08de9f-2585-461d-8242-7a87250a4f88",
   "metadata": {},
   "outputs": [
    {
     "data": {
      "text/plain": [
       "datetime.time(15, 0, 1)"
      ]
     },
     "execution_count": 21,
     "metadata": {},
     "output_type": "execute_result"
    }
   ],
   "source": [
    "datetime.time(15,0,1)"
   ]
  },
  {
   "cell_type": "code",
   "execution_count": 53,
   "id": "43d7d3d3-7dcf-415d-9216-b0092a8b8451",
   "metadata": {},
   "outputs": [
    {
     "data": {
      "text/plain": [
       "55.435918"
      ]
     },
     "execution_count": 53,
     "metadata": {},
     "output_type": "execute_result"
    }
   ],
   "source": [
    "float(str(datetime.datetime.now().time()).split(':')[2])"
   ]
  },
  {
   "cell_type": "code",
   "execution_count": 33,
   "id": "441de79c-c5b9-4964-a426-0e85999070e2",
   "metadata": {},
   "outputs": [
    {
     "data": {
      "text/plain": [
       "'15:04:43.720940'"
      ]
     },
     "execution_count": 33,
     "metadata": {},
     "output_type": "execute_result"
    }
   ],
   "source": [
    "str(datetime.datetime.now().time())."
   ]
  },
  {
   "cell_type": "code",
   "execution_count": 54,
   "id": "b2c23837-2c1e-4236-a262-cd558f1a27a0",
   "metadata": {},
   "outputs": [],
   "source": [
    "now=datetime.datetime.now().time()\n"
   ]
  },
  {
   "cell_type": "code",
   "execution_count": 55,
   "id": "bb7a4fb0-2693-48bf-bbcd-e19009c22001",
   "metadata": {},
   "outputs": [
    {
     "data": {
      "text/plain": [
       "datetime.time(17, 33, 42, 478882)"
      ]
     },
     "execution_count": 55,
     "metadata": {},
     "output_type": "execute_result"
    }
   ],
   "source": [
    "now"
   ]
  },
  {
   "cell_type": "code",
   "execution_count": 61,
   "id": "cef15994-4f16-4bf4-a0d2-e29891ddfe27",
   "metadata": {},
   "outputs": [
    {
     "data": {
      "text/plain": [
       "False"
      ]
     },
     "execution_count": 61,
     "metadata": {},
     "output_type": "execute_result"
    }
   ],
   "source": [
    "now >= datetime.time(17,35)"
   ]
  },
  {
   "cell_type": "code",
   "execution_count": 72,
   "id": "9b0349e1-091d-49c2-af75-4260b45b86c1",
   "metadata": {},
   "outputs": [
    {
     "data": {
      "text/plain": [
       "'2022-03-14'"
      ]
     },
     "execution_count": 72,
     "metadata": {},
     "output_type": "execute_result"
    }
   ],
   "source": [
    "str(datetime.datetime.now().date())"
   ]
  },
  {
   "cell_type": "code",
   "execution_count": 79,
   "id": "edd55a6c-5503-4bc6-8cb3-03d160a2bf3b",
   "metadata": {},
   "outputs": [],
   "source": [
    "n=2732.34"
   ]
  },
  {
   "cell_type": "code",
   "execution_count": 77,
   "id": "26b010eb-a5fa-4742-a0b2-8899c8d3634f",
   "metadata": {},
   "outputs": [],
   "source": [
    "atm=50 * round(int(n)/50)"
   ]
  },
  {
   "cell_type": "code",
   "execution_count": 81,
   "id": "07b1105f-f63c-4318-aae6-d51e8bda56f0",
   "metadata": {},
   "outputs": [
    {
     "data": {
      "text/plain": [
       "2732"
      ]
     },
     "execution_count": 81,
     "metadata": {},
     "output_type": "execute_result"
    }
   ],
   "source": [
    "int(n)"
   ]
  },
  {
   "cell_type": "code",
   "execution_count": 17,
   "id": "0715c5ef-85b7-4704-8817-a9f653946a28",
   "metadata": {},
   "outputs": [
    {
     "name": "stdout",
     "output_type": "stream",
     "text": [
      "[*********************100%***********************]  1 of 1 completed\n"
     ]
    }
   ],
   "source": [
    "dfo=yf.download('TCS.NS',start='2022-03-14',interval='1m')"
   ]
  },
  {
   "cell_type": "code",
   "execution_count": 18,
   "id": "f6a914bc-00af-4751-9a2f-b578b2744acd",
   "metadata": {},
   "outputs": [],
   "source": [
    "df=dfo.copy()"
   ]
  },
  {
   "cell_type": "code",
   "execution_count": 33,
   "id": "8b3d858d-55f3-4a93-93cc-4c3eaf3456c5",
   "metadata": {},
   "outputs": [
    {
     "data": {
      "text/plain": [
       "Datetime\n",
       "2022-03-15 12:30:00+05:30    3639.000000\n",
       "2022-03-15 12:31:00+05:30    3638.000000\n",
       "2022-03-15 12:32:00+05:30    3635.199951\n",
       "2022-03-15 12:33:00+05:30    3636.000000\n",
       "2022-03-15 12:34:00+05:30    3636.000000\n",
       "2022-03-15 12:35:00+05:30    3636.000000\n",
       "2022-03-15 12:36:00+05:30    3636.000000\n",
       "2022-03-15 12:37:00+05:30    3634.949951\n",
       "2022-03-15 12:38:00+05:30    3636.000000\n",
       "2022-03-15 12:39:00+05:30    3635.000000\n",
       "2022-03-15 12:40:00+05:30    3632.050049\n",
       "2022-03-15 12:41:00+05:30    3630.899902\n",
       "2022-03-15 12:42:43+05:30    3634.000000\n",
       "Name: Close, dtype: float64"
      ]
     },
     "execution_count": 33,
     "metadata": {},
     "output_type": "execute_result"
    }
   ],
   "source": [
    "df.Close[-13:]"
   ]
  },
  {
   "cell_type": "code",
   "execution_count": 34,
   "id": "0dbfab6d-d669-41c9-814f-1c772c6d4c27",
   "metadata": {},
   "outputs": [
    {
     "data": {
      "text/plain": [
       "Datetime\n",
       "2022-03-15 12:30:00+05:30    3636.0\n",
       "2022-03-15 12:35:00+05:30    3635.0\n",
       "2022-03-15 12:40:00+05:30    3634.0\n",
       "Freq: 5T, Name: Close, dtype: float64"
      ]
     },
     "execution_count": 34,
     "metadata": {},
     "output_type": "execute_result"
    }
   ],
   "source": [
    "df.Close.resample('5min',offset='5T').last()[-3:]"
   ]
  },
  {
   "cell_type": "code",
   "execution_count": 35,
   "id": "63ecd5d5-8c58-4e46-8b3e-f9fa487def54",
   "metadata": {},
   "outputs": [
    {
     "data": {
      "text/plain": [
       "Datetime\n",
       "2022-03-15 12:30:00+05:30    3636.0\n",
       "2022-03-15 12:35:00+05:30    3635.0\n",
       "2022-03-15 12:40:00+05:30    3634.0\n",
       "Freq: 5T, Name: Close, dtype: float64"
      ]
     },
     "execution_count": 35,
     "metadata": {},
     "output_type": "execute_result"
    }
   ],
   "source": [
    "df.Close.resample('5min').last()[-3:]"
   ]
  },
  {
   "cell_type": "code",
   "execution_count": 36,
   "id": "24031a6e-65cf-47f8-af52-31423a3a155a",
   "metadata": {},
   "outputs": [],
   "source": [
    "from pymongo import MongoClient\n",
    "dbname='testingdb'\n",
    "mongo_client=MongoClient()\n",
    "db=mongo_client[dbname]"
   ]
  },
  {
   "cell_type": "code",
   "execution_count": 42,
   "id": "bad6eab1-0ff3-4588-b1b5-555b9261da0f",
   "metadata": {
    "scrolled": true,
    "tags": []
   },
   "outputs": [],
   "source": [
    "pnldict={}\n",
    "pnldict['datetime'] = str('2022-03-15 13:00:01')\n",
    "pnldict['pnl'] = 20.00\n",
    "db['dailypnl'].insert_one((pnldict))\n",
    "pnldict.clear()"
   ]
  },
  {
   "cell_type": "code",
   "execution_count": null,
   "id": "e1fe405c-aae0-4e42-8ac9-37e0efa92d62",
   "metadata": {},
   "outputs": [],
   "source": []
  }
 ],
 "metadata": {
  "kernelspec": {
   "display_name": "Python 3 (ipykernel)",
   "language": "python",
   "name": "python3"
  },
  "language_info": {
   "codemirror_mode": {
    "name": "ipython",
    "version": 3
   },
   "file_extension": ".py",
   "mimetype": "text/x-python",
   "name": "python",
   "nbconvert_exporter": "python",
   "pygments_lexer": "ipython3",
   "version": "3.8.12"
  }
 },
 "nbformat": 4,
 "nbformat_minor": 5
}
