{
 "cells": [
  {
   "cell_type": "code",
   "execution_count": 18,
   "id": "9f42da8b-633f-4e06-b788-698a3d4dc32b",
   "metadata": {
    "tags": []
   },
   "outputs": [],
   "source": [
    "import yfinance as yf\n",
    "import pandas as pd\n",
    "import numpy as np\n",
    "from pymongo import MongoClient\n",
    "import datetime\n",
    "import matplotlib.pyplot as plt\n",
    "import plotly.express as px\n",
    "import plotly.graph_objects as go\n",
    "from plotly.subplots import make_subplots\n",
    "from talib import abstract\n",
    "import math\n",
    "## This is to Convert a string representation of list into list \n",
    "import ast\n",
    "from functools import partial\n",
    "import os\n",
    "from ta.momentum import rsi\n",
    "from ta.utils import dropna\n",
    "# import pandas_ta as pta\n",
    "from collections import defaultdict\n"
   ]
  },
  {
   "cell_type": "code",
   "execution_count": 2,
   "id": "f12ea500-9b97-4a07-bc81-f6a8b5ff7119",
   "metadata": {},
   "outputs": [],
   "source": [
    "# files='importdatafiles/01-07--OCT-2021-WEEKLY-expiry_data__VEGE_NF_AND_BNF_Options.csv'"
   ]
  },
  {
   "cell_type": "code",
   "execution_count": 37,
   "id": "63474862-644e-4d3c-b647-39dbcb17f383",
   "metadata": {
    "jupyter": {
     "source_hidden": true
    },
    "tags": []
   },
   "outputs": [],
   "source": [
    "def Supertrend(df, atr_period, multiplier):\n",
    "    \n",
    "    high = df['High']\n",
    "    low = df['Low']\n",
    "    close = df['Close']\n",
    "    \n",
    "    # calculate ATR\n",
    "    price_diffs = [high - low, \n",
    "                   high - close.shift(), \n",
    "                   close.shift() - low]\n",
    "    true_range = pd.concat(price_diffs, axis=1)\n",
    "    true_range = true_range.abs().max(axis=1)\n",
    "    # default ATR calculation in supertrend indicator\n",
    "    atr = true_range.ewm(alpha=1/atr_period,min_periods=atr_period).mean() \n",
    "    # df['atr'] = df['tr'].rolling(atr_period).mean()\n",
    "    \n",
    "    # HL2 is simply the average of high and low prices\n",
    "    hl2 = (high + low) / 2\n",
    "    # upperband and lowerband calculation\n",
    "    # notice that final bands are set to be equal to the respective bands\n",
    "    final_upperband = upperband = hl2 + (multiplier * atr)\n",
    "    final_lowerband = lowerband = hl2 - (multiplier * atr)\n",
    "    \n",
    "    # initialize Supertrend column to True\n",
    "    supertrend = [True] * len(df)\n",
    "    \n",
    "    for i in range(1, len(df.index)):\n",
    "        curr, prev = i, i-1\n",
    "        \n",
    "        # if current close price crosses above upperband\n",
    "        if close[curr] > final_upperband[prev]:\n",
    "            supertrend[curr] = True\n",
    "        # if current close price crosses below lowerband\n",
    "        elif close[curr] < final_lowerband[prev]:\n",
    "            supertrend[curr] = False\n",
    "        # else, the trend continues\n",
    "        else:\n",
    "            supertrend[curr] = supertrend[prev]\n",
    "            \n",
    "            # adjustment to the final bands\n",
    "            if supertrend[curr] == True and final_lowerband[curr] < final_lowerband[prev]:\n",
    "                final_lowerband[curr] = final_lowerband[prev]\n",
    "            if supertrend[curr] == False and final_upperband[curr] > final_upperband[prev]:\n",
    "                final_upperband[curr] = final_upperband[prev]\n",
    "\n",
    "        # to remove bands according to the trend direction\n",
    "        if supertrend[curr] == True:\n",
    "            final_upperband[curr] = np.nan\n",
    "        else:\n",
    "            final_lowerband[curr] = np.nan\n",
    "    \n",
    "    return pd.DataFrame({\n",
    "        'Supertrend': supertrend,\n",
    "        'Final Lowerband': final_lowerband,\n",
    "        'Final Upperband': final_upperband\n",
    "    }, index=df.index)"
   ]
  },
  {
   "cell_type": "code",
   "execution_count": 3,
   "id": "19541ef3-8135-43ea-954d-89ec016efdf3",
   "metadata": {},
   "outputs": [],
   "source": [
    "def resampler(df,time):\n",
    "    newdf=pd.DataFrame()\n",
    "    newdf['Open']=df.Open.resample(time).first()\n",
    "    newdf['Close']=df.Close.resample(time).last()\n",
    "    newdf['High']=df.High.resample(time).max()\n",
    "    newdf['Low']=df.Low.resample(time).min()\n",
    "    newdf['Tick_Volume']=df['Tick Volume'].resample(time).sum()\n",
    "    newdf['Volume']=df.Volume.resample(time).sum()\n",
    "    newdf.dropna(axis=0,inplace=True)\n",
    "    \n",
    "    return newdf"
   ]
  },
  {
   "cell_type": "code",
   "execution_count": 5,
   "id": "2571d41f-3422-4d68-a51b-66a2d64b745f",
   "metadata": {},
   "outputs": [],
   "source": [
    "df=pd.read_csv(files)\n",
    "df['Date/Time']=pd.to_datetime(df['Date/Time'].astype(str), format='%d-%m-%Y %H:%M:%S')\n",
    "df.rename(columns={'Date/Time':'Date','Volume':'Tick Volume','Open Interest':'Volume'},inplace=True)"
   ]
  },
  {
   "cell_type": "code",
   "execution_count": 30,
   "id": "f93d1bd9-bd4a-416d-911e-892754f26929",
   "metadata": {},
   "outputs": [],
   "source": []
  },
  {
   "cell_type": "code",
   "execution_count": 89,
   "id": "3149bde4-c2af-4b37-9003-c61a301ac357",
   "metadata": {},
   "outputs": [],
   "source": [
    "datadf=df.loc[df.Ticker=='NIFTY']\n",
    "datadf.set_index('Date',inplace=True)\n",
    "datadf=datadf[-300:]\n",
    "datadf5=resampler(datadf,'5min')\n",
    "datadf5=datadf5[-200:].copy()\n",
    "datadf15=resampler(datadf,'15min')\n",
    "datadf15=datadf15[-200:].copy()"
   ]
  },
  {
   "cell_type": "code",
   "execution_count": 69,
   "id": "56604a52-b193-45b1-956c-b896c38b8715",
   "metadata": {},
   "outputs": [],
   "source": []
  },
  {
   "cell_type": "code",
   "execution_count": 90,
   "id": "f95ceeae-8b4d-4601-b609-102e60b68d20",
   "metadata": {},
   "outputs": [],
   "source": [
    "supertrendBTF=Supertrend(datadf5,10,1)\n",
    "supertrendBTF['rsi']=rsi(datadf5.Close,window=8,fillna=True)\n",
    "supertrendBTF['rsima']=supertrendBTF['rsi'].rolling(13).mean()\n",
    "datadf5=datadf5.join(supertrendBTF)\n",
    "datadf5.reset_index(inplace=True)"
   ]
  },
  {
   "cell_type": "code",
   "execution_count": 92,
   "id": "f7fa7385-b5ff-4323-a7cb-f7ba07df4041",
   "metadata": {},
   "outputs": [
    {
     "data": {
      "text/html": [
       "<div><div id=8198cc41-bda0-4e98-a019-6e4798474c8f style=\"display:none; background-color:#9D6CFF; color:white; width:200px; height:30px; padding-left:5px; border-radius:4px; flex-direction:row; justify-content:space-around; align-items:center;\" onmouseover=\"this.style.backgroundColor='#BA9BF8'\" onmouseout=\"this.style.backgroundColor='#9D6CFF'\" onclick=\"window.commands?.execute('create-mitosheet-from-dataframe-output');\">See Full Dataframe in Mito</div> <script> if (window.commands.hasCommand('create-mitosheet-from-dataframe-output')) document.getElementById('8198cc41-bda0-4e98-a019-6e4798474c8f').style.display = 'flex' </script> <table border=\"1\" class=\"dataframe\">\n",
       "  <thead>\n",
       "    <tr style=\"text-align: right;\">\n",
       "      <th></th>\n",
       "      <th>Date</th>\n",
       "      <th>Open</th>\n",
       "      <th>Close</th>\n",
       "      <th>High</th>\n",
       "      <th>Low</th>\n",
       "      <th>Tick_Volume</th>\n",
       "      <th>Volume</th>\n",
       "      <th>Supertrend</th>\n",
       "      <th>Final Lowerband</th>\n",
       "      <th>Final Upperband</th>\n",
       "      <th>rsi</th>\n",
       "      <th>rsima</th>\n",
       "    </tr>\n",
       "  </thead>\n",
       "  <tbody>\n",
       "    <tr>\n",
       "      <th>0</th>\n",
       "      <td>2021-10-07 10:30:00</td>\n",
       "      <td>17791.9</td>\n",
       "      <td>17809.1</td>\n",
       "      <td>17809.5</td>\n",
       "      <td>17791.9</td>\n",
       "      <td>4</td>\n",
       "      <td>0</td>\n",
       "      <td>True</td>\n",
       "      <td>NaN</td>\n",
       "      <td>NaN</td>\n",
       "      <td>100.000000</td>\n",
       "      <td>NaN</td>\n",
       "    </tr>\n",
       "    <tr>\n",
       "      <th>1</th>\n",
       "      <td>2021-10-07 10:35:00</td>\n",
       "      <td>17809.0</td>\n",
       "      <td>17817.0</td>\n",
       "      <td>17817.6</td>\n",
       "      <td>17806.3</td>\n",
       "      <td>5</td>\n",
       "      <td>0</td>\n",
       "      <td>True</td>\n",
       "      <td>NaN</td>\n",
       "      <td>NaN</td>\n",
       "      <td>100.000000</td>\n",
       "      <td>NaN</td>\n",
       "    </tr>\n",
       "    <tr>\n",
       "      <th>2</th>\n",
       "      <td>2021-10-07 10:40:00</td>\n",
       "      <td>17816.6</td>\n",
       "      <td>17816.6</td>\n",
       "      <td>17820.2</td>\n",
       "      <td>17810.5</td>\n",
       "      <td>5</td>\n",
       "      <td>0</td>\n",
       "      <td>True</td>\n",
       "      <td>NaN</td>\n",
       "      <td>NaN</td>\n",
       "      <td>94.529915</td>\n",
       "      <td>NaN</td>\n",
       "    </tr>\n",
       "    <tr>\n",
       "      <th>3</th>\n",
       "      <td>2021-10-07 10:45:00</td>\n",
       "      <td>17816.8</td>\n",
       "      <td>17808.7</td>\n",
       "      <td>17819.7</td>\n",
       "      <td>17806.3</td>\n",
       "      <td>5</td>\n",
       "      <td>0</td>\n",
       "      <td>True</td>\n",
       "      <td>NaN</td>\n",
       "      <td>NaN</td>\n",
       "      <td>42.301388</td>\n",
       "      <td>NaN</td>\n",
       "    </tr>\n",
       "    <tr>\n",
       "      <th>4</th>\n",
       "      <td>2021-10-07 10:50:00</td>\n",
       "      <td>17809.0</td>\n",
       "      <td>17808.3</td>\n",
       "      <td>17809.1</td>\n",
       "      <td>17801.0</td>\n",
       "      <td>5</td>\n",
       "      <td>0</td>\n",
       "      <td>True</td>\n",
       "      <td>NaN</td>\n",
       "      <td>NaN</td>\n",
       "      <td>40.990848</td>\n",
       "      <td>NaN</td>\n",
       "    </tr>\n",
       "  </tbody>\n",
       "</table></div>"
      ],
      "text/plain": [
       "                 Date     Open    Close     High      Low  Tick_Volume  \\\n",
       "0 2021-10-07 10:30:00  17791.9  17809.1  17809.5  17791.9            4   \n",
       "1 2021-10-07 10:35:00  17809.0  17817.0  17817.6  17806.3            5   \n",
       "2 2021-10-07 10:40:00  17816.6  17816.6  17820.2  17810.5            5   \n",
       "3 2021-10-07 10:45:00  17816.8  17808.7  17819.7  17806.3            5   \n",
       "4 2021-10-07 10:50:00  17809.0  17808.3  17809.1  17801.0            5   \n",
       "\n",
       "   Volume  Supertrend  Final Lowerband  Final Upperband         rsi  rsima  \n",
       "0       0        True              NaN              NaN  100.000000    NaN  \n",
       "1       0        True              NaN              NaN  100.000000    NaN  \n",
       "2       0        True              NaN              NaN   94.529915    NaN  \n",
       "3       0        True              NaN              NaN   42.301388    NaN  \n",
       "4       0        True              NaN              NaN   40.990848    NaN  "
      ]
     },
     "execution_count": 92,
     "metadata": {},
     "output_type": "execute_result"
    }
   ],
   "source": [
    "datadf5.head()"
   ]
  },
  {
   "cell_type": "code",
   "execution_count": 83,
   "id": "239a314e-ea3f-4fee-a400-9a189637ec8f",
   "metadata": {},
   "outputs": [],
   "source": [
    "supertrendHTF=Supertrend(datadf15,10,1)\n",
    "supertrendHTF['rsi']=rsi(datadf15.Close,window=8,fillna=True)\n",
    "supertrendHTF['rsima']=supertrendHTF['rsi'].rolling(13).mean()\n",
    "datadf15=datadf15.join(supertrendHTF)\n",
    "datadf15.reset_index(inplace=True)"
   ]
  },
  {
   "cell_type": "code",
   "execution_count": 96,
   "id": "16e57fab-0914-4db9-adac-8c2ec55d4395",
   "metadata": {},
   "outputs": [],
   "source": [
    "datadf=datadf.reset_index()"
   ]
  },
  {
   "cell_type": "code",
   "execution_count": 93,
   "id": "0584986e-16f7-461b-9c00-156358fc0033",
   "metadata": {},
   "outputs": [],
   "source": [
    "datadf5_15=pd.merge(datadf5,datadf15,on='Date',how='left')\n",
    "datadf5_15=datadf5_15.replace(to_replace=np.nan,method='ffill')"
   ]
  },
  {
   "cell_type": "code",
   "execution_count": 98,
   "id": "ffd8d3e7-604f-4975-bc3c-ac24511615a7",
   "metadata": {},
   "outputs": [],
   "source": [
    "maindf=pd.merge(datadf,datadf5_15,on='Date',how='left')"
   ]
  },
  {
   "cell_type": "code",
   "execution_count": 99,
   "id": "3dc418e1-632c-4170-88cf-da1d9b2c004c",
   "metadata": {},
   "outputs": [],
   "source": [
    "maindf=maindf.replace(to_replace=np.nan,method='ffill')"
   ]
  },
  {
   "cell_type": "code",
   "execution_count": 101,
   "id": "63f4b041-2613-4097-861f-c9347f013889",
   "metadata": {},
   "outputs": [
    {
     "data": {
      "text/html": [
       "<div><div id=1ee220a7-8cb4-4453-a368-59ca5fd4a17a style=\"display:none; background-color:#9D6CFF; color:white; width:200px; height:30px; padding-left:5px; border-radius:4px; flex-direction:row; justify-content:space-around; align-items:center;\" onmouseover=\"this.style.backgroundColor='#BA9BF8'\" onmouseout=\"this.style.backgroundColor='#9D6CFF'\" onclick=\"window.commands?.execute('create-mitosheet-from-dataframe-output');\">See Full Dataframe in Mito</div> <script> if (window.commands.hasCommand('create-mitosheet-from-dataframe-output')) document.getElementById('1ee220a7-8cb4-4453-a368-59ca5fd4a17a').style.display = 'flex' </script> <table border=\"1\" class=\"dataframe\">\n",
       "  <thead>\n",
       "    <tr style=\"text-align: right;\">\n",
       "      <th></th>\n",
       "      <th>Date</th>\n",
       "      <th>Ticker</th>\n",
       "      <th>Open</th>\n",
       "      <th>High</th>\n",
       "      <th>Low</th>\n",
       "      <th>Close</th>\n",
       "      <th>Tick Volume</th>\n",
       "      <th>Volume</th>\n",
       "      <th>Open_x</th>\n",
       "      <th>Close_x</th>\n",
       "      <th>...</th>\n",
       "      <th>Final Lowerband</th>\n",
       "      <th>Final Upperband</th>\n",
       "      <th>rsi</th>\n",
       "      <th>rsima</th>\n",
       "      <th>Open_y</th>\n",
       "      <th>Close_y</th>\n",
       "      <th>High_y</th>\n",
       "      <th>Low_y</th>\n",
       "      <th>Tick_Volume_y</th>\n",
       "      <th>Volume_y</th>\n",
       "    </tr>\n",
       "  </thead>\n",
       "  <tbody>\n",
       "    <tr>\n",
       "      <th>280</th>\n",
       "      <td>2021-10-07 15:11:00</td>\n",
       "      <td>NIFTY</td>\n",
       "      <td>17791.8</td>\n",
       "      <td>17793.2</td>\n",
       "      <td>17790.3</td>\n",
       "      <td>17791.3</td>\n",
       "      <td>1</td>\n",
       "      <td>0</td>\n",
       "      <td>17796.0</td>\n",
       "      <td>17790.3</td>\n",
       "      <td>...</td>\n",
       "      <td>17834.634025</td>\n",
       "      <td>17807.384762</td>\n",
       "      <td>28.362009</td>\n",
       "      <td>35.896452</td>\n",
       "      <td>17809.5</td>\n",
       "      <td>17790.3</td>\n",
       "      <td>17810.3</td>\n",
       "      <td>17787.4</td>\n",
       "      <td>15.0</td>\n",
       "      <td>0.0</td>\n",
       "    </tr>\n",
       "    <tr>\n",
       "      <th>281</th>\n",
       "      <td>2021-10-07 15:12:00</td>\n",
       "      <td>NIFTY</td>\n",
       "      <td>17791.2</td>\n",
       "      <td>17794.1</td>\n",
       "      <td>17789.0</td>\n",
       "      <td>17793.7</td>\n",
       "      <td>1</td>\n",
       "      <td>0</td>\n",
       "      <td>17796.0</td>\n",
       "      <td>17790.3</td>\n",
       "      <td>...</td>\n",
       "      <td>17834.634025</td>\n",
       "      <td>17807.384762</td>\n",
       "      <td>28.362009</td>\n",
       "      <td>35.896452</td>\n",
       "      <td>17809.5</td>\n",
       "      <td>17790.3</td>\n",
       "      <td>17810.3</td>\n",
       "      <td>17787.4</td>\n",
       "      <td>15.0</td>\n",
       "      <td>0.0</td>\n",
       "    </tr>\n",
       "    <tr>\n",
       "      <th>282</th>\n",
       "      <td>2021-10-07 15:13:00</td>\n",
       "      <td>NIFTY</td>\n",
       "      <td>17793.9</td>\n",
       "      <td>17793.9</td>\n",
       "      <td>17789.5</td>\n",
       "      <td>17790.5</td>\n",
       "      <td>1</td>\n",
       "      <td>0</td>\n",
       "      <td>17796.0</td>\n",
       "      <td>17790.3</td>\n",
       "      <td>...</td>\n",
       "      <td>17834.634025</td>\n",
       "      <td>17807.384762</td>\n",
       "      <td>28.362009</td>\n",
       "      <td>35.896452</td>\n",
       "      <td>17809.5</td>\n",
       "      <td>17790.3</td>\n",
       "      <td>17810.3</td>\n",
       "      <td>17787.4</td>\n",
       "      <td>15.0</td>\n",
       "      <td>0.0</td>\n",
       "    </tr>\n",
       "    <tr>\n",
       "      <th>283</th>\n",
       "      <td>2021-10-07 15:14:00</td>\n",
       "      <td>NIFTY</td>\n",
       "      <td>17790.5</td>\n",
       "      <td>17791.0</td>\n",
       "      <td>17789.0</td>\n",
       "      <td>17790.3</td>\n",
       "      <td>1</td>\n",
       "      <td>0</td>\n",
       "      <td>17796.0</td>\n",
       "      <td>17790.3</td>\n",
       "      <td>...</td>\n",
       "      <td>17834.634025</td>\n",
       "      <td>17807.384762</td>\n",
       "      <td>28.362009</td>\n",
       "      <td>35.896452</td>\n",
       "      <td>17809.5</td>\n",
       "      <td>17790.3</td>\n",
       "      <td>17810.3</td>\n",
       "      <td>17787.4</td>\n",
       "      <td>15.0</td>\n",
       "      <td>0.0</td>\n",
       "    </tr>\n",
       "    <tr>\n",
       "      <th>284</th>\n",
       "      <td>2021-10-07 15:15:00</td>\n",
       "      <td>NIFTY</td>\n",
       "      <td>17790.8</td>\n",
       "      <td>17791.3</td>\n",
       "      <td>17785.8</td>\n",
       "      <td>17788.3</td>\n",
       "      <td>1</td>\n",
       "      <td>0</td>\n",
       "      <td>17790.8</td>\n",
       "      <td>17788.8</td>\n",
       "      <td>...</td>\n",
       "      <td>17834.634025</td>\n",
       "      <td>17802.134288</td>\n",
       "      <td>27.522567</td>\n",
       "      <td>33.537199</td>\n",
       "      <td>17790.8</td>\n",
       "      <td>17797.2</td>\n",
       "      <td>17801.4</td>\n",
       "      <td>17780.5</td>\n",
       "      <td>15.0</td>\n",
       "      <td>0.0</td>\n",
       "    </tr>\n",
       "    <tr>\n",
       "      <th>...</th>\n",
       "      <td>...</td>\n",
       "      <td>...</td>\n",
       "      <td>...</td>\n",
       "      <td>...</td>\n",
       "      <td>...</td>\n",
       "      <td>...</td>\n",
       "      <td>...</td>\n",
       "      <td>...</td>\n",
       "      <td>...</td>\n",
       "      <td>...</td>\n",
       "      <td>...</td>\n",
       "      <td>...</td>\n",
       "      <td>...</td>\n",
       "      <td>...</td>\n",
       "      <td>...</td>\n",
       "      <td>...</td>\n",
       "      <td>...</td>\n",
       "      <td>...</td>\n",
       "      <td>...</td>\n",
       "      <td>...</td>\n",
       "      <td>...</td>\n",
       "    </tr>\n",
       "    <tr>\n",
       "      <th>295</th>\n",
       "      <td>2021-10-07 15:26:00</td>\n",
       "      <td>NIFTY</td>\n",
       "      <td>17790.5</td>\n",
       "      <td>17795.0</td>\n",
       "      <td>17789.2</td>\n",
       "      <td>17794.1</td>\n",
       "      <td>1</td>\n",
       "      <td>0</td>\n",
       "      <td>17788.5</td>\n",
       "      <td>17797.2</td>\n",
       "      <td>...</td>\n",
       "      <td>17834.634025</td>\n",
       "      <td>17798.124942</td>\n",
       "      <td>40.622522</td>\n",
       "      <td>31.785229</td>\n",
       "      <td>17790.8</td>\n",
       "      <td>17797.2</td>\n",
       "      <td>17801.4</td>\n",
       "      <td>17780.5</td>\n",
       "      <td>15.0</td>\n",
       "      <td>0.0</td>\n",
       "    </tr>\n",
       "    <tr>\n",
       "      <th>296</th>\n",
       "      <td>2021-10-07 15:27:00</td>\n",
       "      <td>NIFTY</td>\n",
       "      <td>17795.0</td>\n",
       "      <td>17796.1</td>\n",
       "      <td>17793.8</td>\n",
       "      <td>17795.3</td>\n",
       "      <td>1</td>\n",
       "      <td>0</td>\n",
       "      <td>17788.5</td>\n",
       "      <td>17797.2</td>\n",
       "      <td>...</td>\n",
       "      <td>17834.634025</td>\n",
       "      <td>17798.124942</td>\n",
       "      <td>40.622522</td>\n",
       "      <td>31.785229</td>\n",
       "      <td>17790.8</td>\n",
       "      <td>17797.2</td>\n",
       "      <td>17801.4</td>\n",
       "      <td>17780.5</td>\n",
       "      <td>15.0</td>\n",
       "      <td>0.0</td>\n",
       "    </tr>\n",
       "    <tr>\n",
       "      <th>297</th>\n",
       "      <td>2021-10-07 15:28:00</td>\n",
       "      <td>NIFTY</td>\n",
       "      <td>17795.8</td>\n",
       "      <td>17798.6</td>\n",
       "      <td>17794.5</td>\n",
       "      <td>17796.3</td>\n",
       "      <td>1</td>\n",
       "      <td>0</td>\n",
       "      <td>17788.5</td>\n",
       "      <td>17797.2</td>\n",
       "      <td>...</td>\n",
       "      <td>17834.634025</td>\n",
       "      <td>17798.124942</td>\n",
       "      <td>40.622522</td>\n",
       "      <td>31.785229</td>\n",
       "      <td>17790.8</td>\n",
       "      <td>17797.2</td>\n",
       "      <td>17801.4</td>\n",
       "      <td>17780.5</td>\n",
       "      <td>15.0</td>\n",
       "      <td>0.0</td>\n",
       "    </tr>\n",
       "    <tr>\n",
       "      <th>298</th>\n",
       "      <td>2021-10-07 15:29:00</td>\n",
       "      <td>NIFTY</td>\n",
       "      <td>17796.4</td>\n",
       "      <td>17801.4</td>\n",
       "      <td>17795.3</td>\n",
       "      <td>17797.2</td>\n",
       "      <td>1</td>\n",
       "      <td>0</td>\n",
       "      <td>17788.5</td>\n",
       "      <td>17797.2</td>\n",
       "      <td>...</td>\n",
       "      <td>17834.634025</td>\n",
       "      <td>17798.124942</td>\n",
       "      <td>40.622522</td>\n",
       "      <td>31.785229</td>\n",
       "      <td>17790.8</td>\n",
       "      <td>17797.2</td>\n",
       "      <td>17801.4</td>\n",
       "      <td>17780.5</td>\n",
       "      <td>15.0</td>\n",
       "      <td>0.0</td>\n",
       "    </tr>\n",
       "    <tr>\n",
       "      <th>299</th>\n",
       "      <td>2021-10-07 15:30:00</td>\n",
       "      <td>NIFTY</td>\n",
       "      <td>17796.2</td>\n",
       "      <td>17796.2</td>\n",
       "      <td>17796.2</td>\n",
       "      <td>17796.2</td>\n",
       "      <td>1</td>\n",
       "      <td>0</td>\n",
       "      <td>17796.2</td>\n",
       "      <td>17796.2</td>\n",
       "      <td>...</td>\n",
       "      <td>17834.634025</td>\n",
       "      <td>17798.124942</td>\n",
       "      <td>39.676888</td>\n",
       "      <td>31.366591</td>\n",
       "      <td>17796.2</td>\n",
       "      <td>17796.2</td>\n",
       "      <td>17796.2</td>\n",
       "      <td>17796.2</td>\n",
       "      <td>1.0</td>\n",
       "      <td>0.0</td>\n",
       "    </tr>\n",
       "  </tbody>\n",
       "</table></div>"
      ],
      "text/plain": [
       "                   Date Ticker     Open     High      Low    Close  \\\n",
       "280 2021-10-07 15:11:00  NIFTY  17791.8  17793.2  17790.3  17791.3   \n",
       "281 2021-10-07 15:12:00  NIFTY  17791.2  17794.1  17789.0  17793.7   \n",
       "282 2021-10-07 15:13:00  NIFTY  17793.9  17793.9  17789.5  17790.5   \n",
       "283 2021-10-07 15:14:00  NIFTY  17790.5  17791.0  17789.0  17790.3   \n",
       "284 2021-10-07 15:15:00  NIFTY  17790.8  17791.3  17785.8  17788.3   \n",
       "285 2021-10-07 15:16:00  NIFTY  17788.5  17790.2  17786.4  17788.5   \n",
       "286 2021-10-07 15:17:00  NIFTY  17789.3  17790.7  17787.5  17789.5   \n",
       "287 2021-10-07 15:18:00  NIFTY  17789.7  17790.3  17787.0  17788.5   \n",
       "288 2021-10-07 15:19:00  NIFTY  17788.0  17790.3  17787.1  17788.8   \n",
       "289 2021-10-07 15:20:00  NIFTY  17788.6  17789.2  17785.2  17785.8   \n",
       "290 2021-10-07 15:21:00  NIFTY  17785.3  17788.2  17780.5  17781.9   \n",
       "291 2021-10-07 15:22:00  NIFTY  17782.2  17785.7  17782.2  17785.3   \n",
       "292 2021-10-07 15:23:00  NIFTY  17785.0  17789.5  17784.3  17789.2   \n",
       "293 2021-10-07 15:24:00  NIFTY  17788.0  17789.5  17787.5  17788.4   \n",
       "294 2021-10-07 15:25:00  NIFTY  17788.5  17792.0  17788.0  17790.0   \n",
       "295 2021-10-07 15:26:00  NIFTY  17790.5  17795.0  17789.2  17794.1   \n",
       "296 2021-10-07 15:27:00  NIFTY  17795.0  17796.1  17793.8  17795.3   \n",
       "297 2021-10-07 15:28:00  NIFTY  17795.8  17798.6  17794.5  17796.3   \n",
       "298 2021-10-07 15:29:00  NIFTY  17796.4  17801.4  17795.3  17797.2   \n",
       "299 2021-10-07 15:30:00  NIFTY  17796.2  17796.2  17796.2  17796.2   \n",
       "\n",
       "     Tick Volume  Volume   Open_x  Close_x  ...  Final Lowerband  \\\n",
       "280            1       0  17796.0  17790.3  ...     17834.634025   \n",
       "281            1       0  17796.0  17790.3  ...     17834.634025   \n",
       "282            1       0  17796.0  17790.3  ...     17834.634025   \n",
       "283            1       0  17796.0  17790.3  ...     17834.634025   \n",
       "284            1       0  17790.8  17788.8  ...     17834.634025   \n",
       "285            1       0  17790.8  17788.8  ...     17834.634025   \n",
       "286            1       0  17790.8  17788.8  ...     17834.634025   \n",
       "287            1       0  17790.8  17788.8  ...     17834.634025   \n",
       "288            1       0  17790.8  17788.8  ...     17834.634025   \n",
       "289            1       0  17788.6  17788.4  ...     17834.634025   \n",
       "290            1       0  17788.6  17788.4  ...     17834.634025   \n",
       "291            1       0  17788.6  17788.4  ...     17834.634025   \n",
       "292            1       0  17788.6  17788.4  ...     17834.634025   \n",
       "293            1       0  17788.6  17788.4  ...     17834.634025   \n",
       "294            1       0  17788.5  17797.2  ...     17834.634025   \n",
       "295            1       0  17788.5  17797.2  ...     17834.634025   \n",
       "296            1       0  17788.5  17797.2  ...     17834.634025   \n",
       "297            1       0  17788.5  17797.2  ...     17834.634025   \n",
       "298            1       0  17788.5  17797.2  ...     17834.634025   \n",
       "299            1       0  17796.2  17796.2  ...     17834.634025   \n",
       "\n",
       "     Final Upperband        rsi      rsima   Open_y  Close_y   High_y  \\\n",
       "280     17807.384762  28.362009  35.896452  17809.5  17790.3  17810.3   \n",
       "281     17807.384762  28.362009  35.896452  17809.5  17790.3  17810.3   \n",
       "282     17807.384762  28.362009  35.896452  17809.5  17790.3  17810.3   \n",
       "283     17807.384762  28.362009  35.896452  17809.5  17790.3  17810.3   \n",
       "284     17802.134288  27.522567  33.537199  17790.8  17797.2  17801.4   \n",
       "285     17802.134288  27.522567  33.537199  17790.8  17797.2  17801.4   \n",
       "286     17802.134288  27.522567  33.537199  17790.8  17797.2  17801.4   \n",
       "287     17802.134288  27.522567  33.537199  17790.8  17797.2  17801.4   \n",
       "288     17802.134288  27.522567  33.537199  17790.8  17797.2  17801.4   \n",
       "289     17798.124942  27.276528  32.460155  17790.8  17797.2  17801.4   \n",
       "290     17798.124942  27.276528  32.460155  17790.8  17797.2  17801.4   \n",
       "291     17798.124942  27.276528  32.460155  17790.8  17797.2  17801.4   \n",
       "292     17798.124942  27.276528  32.460155  17790.8  17797.2  17801.4   \n",
       "293     17798.124942  27.276528  32.460155  17790.8  17797.2  17801.4   \n",
       "294     17798.124942  40.622522  31.785229  17790.8  17797.2  17801.4   \n",
       "295     17798.124942  40.622522  31.785229  17790.8  17797.2  17801.4   \n",
       "296     17798.124942  40.622522  31.785229  17790.8  17797.2  17801.4   \n",
       "297     17798.124942  40.622522  31.785229  17790.8  17797.2  17801.4   \n",
       "298     17798.124942  40.622522  31.785229  17790.8  17797.2  17801.4   \n",
       "299     17798.124942  39.676888  31.366591  17796.2  17796.2  17796.2   \n",
       "\n",
       "       Low_y  Tick_Volume_y  Volume_y  \n",
       "280  17787.4           15.0       0.0  \n",
       "281  17787.4           15.0       0.0  \n",
       "282  17787.4           15.0       0.0  \n",
       "283  17787.4           15.0       0.0  \n",
       "284  17780.5           15.0       0.0  \n",
       "285  17780.5           15.0       0.0  \n",
       "286  17780.5           15.0       0.0  \n",
       "287  17780.5           15.0       0.0  \n",
       "288  17780.5           15.0       0.0  \n",
       "289  17780.5           15.0       0.0  \n",
       "290  17780.5           15.0       0.0  \n",
       "291  17780.5           15.0       0.0  \n",
       "292  17780.5           15.0       0.0  \n",
       "293  17780.5           15.0       0.0  \n",
       "294  17780.5           15.0       0.0  \n",
       "295  17780.5           15.0       0.0  \n",
       "296  17780.5           15.0       0.0  \n",
       "297  17780.5           15.0       0.0  \n",
       "298  17780.5           15.0       0.0  \n",
       "299  17796.2            1.0       0.0  \n",
       "\n",
       "[20 rows x 25 columns]"
      ]
     },
     "execution_count": 101,
     "metadata": {},
     "output_type": "execute_result"
    }
   ],
   "source": [
    "maindf[-20:]"
   ]
  },
  {
   "cell_type": "code",
   "execution_count": null,
   "id": "f5bfaded-5b41-40f3-9dce-b6495a8a956a",
   "metadata": {},
   "outputs": [],
   "source": [
    "## def predf(data):\n",
    "    \n",
    "    ###Base Time Frame########\n",
    "    datadf=data.copy()\n",
    "    datadf.set_index('Date',inplace=True)\n",
    "    datadf=resampler(datadf,'5min')\n",
    "    supertrendBTF=Supertrend(datadf,10,1)\n",
    "    supertrendBTF['rsi']=rsi(datadf.Close,window=8,fillna=True)\n",
    "    supertrendBTF['rsima']=supertrendBTF['rsi'].rolling(13).mean()\n",
    "    supertrendBTF.reset_index(inplace=True)\n",
    "\n",
    "    ###High Time Frame#########\n",
    "    datadf=data.copy()\n",
    "    datadf.set_index('Date',inplace=True)\n",
    "    datadf=resampler(datadf,'15min')\n",
    "    supertrendHTF=Supertrend(datadf,10,0.8)\n",
    "    supertrendHTF['rsi']=rsi(datadf.Close,window=8,fillna=True)\n",
    "    supertrendHTF['rsima']=supertrendHTF['rsi'].rolling(13).mean()\n",
    "    supertrendHTF.reset_index(inplace=True)\n",
    "    \n",
    "    #######Merge Base and HTF indicators###\n",
    "    st=pd.merge(supertrendBTF,supertrendHTF,on='Date',how='left')\n",
    "    st=st.replace(to_replace=np.nan,method='ffill')\n",
    "    st=st.set_index('Date')\n",
    "    \n",
    "    #########Join everything in single df#######\n",
    "    datadf=data.copy()\n",
    "    datadf.set_index('Date',inplace=True)\n",
    "    datadf=resampler(datadf,'5min')\n",
    "    datadf=datadf.join(st)\n",
    "    # print(datadf.head())\n",
    "    \n",
    "    return datadf"
   ]
  },
  {
   "cell_type": "code",
   "execution_count": 4,
   "id": "fe948c57-b5e1-4aa7-b1fb-e0e6a1d32d4d",
   "metadata": {},
   "outputs": [],
   "source": [
    "buy_script=''"
   ]
  },
  {
   "cell_type": "code",
   "execution_count": 2,
   "id": "daf15e4d-7757-4d6f-9c84-931fd7e2eec3",
   "metadata": {},
   "outputs": [
    {
     "data": {
      "text/plain": [
       "'ABC'"
      ]
     },
     "execution_count": 2,
     "metadata": {},
     "output_type": "execute_result"
    }
   ],
   "source": [
    "buy_script"
   ]
  },
  {
   "cell_type": "code",
   "execution_count": 5,
   "id": "9884c27b-da7e-46d5-ba5e-c68aa8c3d4ab",
   "metadata": {},
   "outputs": [
    {
     "name": "stdout",
     "output_type": "stream",
     "text": [
      "no script\n"
     ]
    }
   ],
   "source": [
    "if buy_script:\n",
    "    print (buy_script)\n",
    "else:\n",
    "    print ('no script')"
   ]
  },
  {
   "cell_type": "code",
   "execution_count": 6,
   "id": "8eb83a27-e424-4fdd-9264-b4041838868a",
   "metadata": {},
   "outputs": [],
   "source": [
    "import time"
   ]
  },
  {
   "cell_type": "code",
   "execution_count": 13,
   "id": "217757f9-c542-4c56-81e2-6451a99da9eb",
   "metadata": {},
   "outputs": [
    {
     "data": {
      "text/plain": [
       "1647249631.7825234"
      ]
     },
     "execution_count": 13,
     "metadata": {},
     "output_type": "execute_result"
    }
   ],
   "source": [
    "time.time()"
   ]
  },
  {
   "cell_type": "code",
   "execution_count": 15,
   "id": "0f6809b4-0a42-41fc-b5fd-feb48b356c52",
   "metadata": {},
   "outputs": [
    {
     "name": "stdout",
     "output_type": "stream",
     "text": [
      "epoch is: Thu Jan  1 00:00:00 1970\n"
     ]
    }
   ],
   "source": [
    "# Get the epoch\n",
    "obj = time.gmtime(0)\n",
    "epoch = time.asctime(obj)\n",
    "print(\"epoch is:\", epoch)"
   ]
  },
  {
   "cell_type": "code",
   "execution_count": 21,
   "id": "7c08de9f-2585-461d-8242-7a87250a4f88",
   "metadata": {},
   "outputs": [
    {
     "data": {
      "text/plain": [
       "datetime.time(15, 0, 1)"
      ]
     },
     "execution_count": 21,
     "metadata": {},
     "output_type": "execute_result"
    }
   ],
   "source": [
    "datetime.time(15,0,1)"
   ]
  },
  {
   "cell_type": "code",
   "execution_count": 53,
   "id": "43d7d3d3-7dcf-415d-9216-b0092a8b8451",
   "metadata": {},
   "outputs": [
    {
     "data": {
      "text/plain": [
       "55.435918"
      ]
     },
     "execution_count": 53,
     "metadata": {},
     "output_type": "execute_result"
    }
   ],
   "source": [
    "float(str(datetime.datetime.now().time()).split(':')[2])"
   ]
  },
  {
   "cell_type": "code",
   "execution_count": 33,
   "id": "441de79c-c5b9-4964-a426-0e85999070e2",
   "metadata": {},
   "outputs": [
    {
     "data": {
      "text/plain": [
       "'15:04:43.720940'"
      ]
     },
     "execution_count": 33,
     "metadata": {},
     "output_type": "execute_result"
    }
   ],
   "source": [
    "str(datetime.datetime.now().time())."
   ]
  },
  {
   "cell_type": "code",
   "execution_count": 54,
   "id": "b2c23837-2c1e-4236-a262-cd558f1a27a0",
   "metadata": {},
   "outputs": [],
   "source": [
    "now=datetime.datetime.now().time()\n"
   ]
  },
  {
   "cell_type": "code",
   "execution_count": 55,
   "id": "bb7a4fb0-2693-48bf-bbcd-e19009c22001",
   "metadata": {},
   "outputs": [
    {
     "data": {
      "text/plain": [
       "datetime.time(17, 33, 42, 478882)"
      ]
     },
     "execution_count": 55,
     "metadata": {},
     "output_type": "execute_result"
    }
   ],
   "source": [
    "now"
   ]
  },
  {
   "cell_type": "code",
   "execution_count": 61,
   "id": "cef15994-4f16-4bf4-a0d2-e29891ddfe27",
   "metadata": {},
   "outputs": [
    {
     "data": {
      "text/plain": [
       "False"
      ]
     },
     "execution_count": 61,
     "metadata": {},
     "output_type": "execute_result"
    }
   ],
   "source": [
    "now >= datetime.time(17,35)"
   ]
  },
  {
   "cell_type": "code",
   "execution_count": 72,
   "id": "9b0349e1-091d-49c2-af75-4260b45b86c1",
   "metadata": {},
   "outputs": [
    {
     "data": {
      "text/plain": [
       "'2022-03-14'"
      ]
     },
     "execution_count": 72,
     "metadata": {},
     "output_type": "execute_result"
    }
   ],
   "source": [
    "str(datetime.datetime.now().date())"
   ]
  },
  {
   "cell_type": "code",
   "execution_count": null,
   "id": "edd55a6c-5503-4bc6-8cb3-03d160a2bf3b",
   "metadata": {},
   "outputs": [],
   "source": []
  }
 ],
 "metadata": {
  "kernelspec": {
   "display_name": "Python 3 (ipykernel)",
   "language": "python",
   "name": "python3"
  },
  "language_info": {
   "codemirror_mode": {
    "name": "ipython",
    "version": 3
   },
   "file_extension": ".py",
   "mimetype": "text/x-python",
   "name": "python",
   "nbconvert_exporter": "python",
   "pygments_lexer": "ipython3",
   "version": "3.8.12"
  }
 },
 "nbformat": 4,
 "nbformat_minor": 5
}
