{
 "cells": [
  {
   "cell_type": "code",
   "execution_count": 1,
   "id": "f6f1acf7-1dac-4b6f-bd49-9e84585c71b5",
   "metadata": {
    "tags": []
   },
   "outputs": [],
   "source": [
    "import pandas as pd\n",
    "import numpy as np\n",
    "\n",
    "# import urllib library\n",
    "from urllib.request import urlopen\n",
    "  \n",
    "# import json\n",
    "import json\n",
    "import datetime\n",
    "from pymongo import MongoClient\n"
   ]
  },
  {
   "cell_type": "code",
   "execution_count": 2,
   "id": "28a34b1d-5e32-4e53-a5da-df24e5cc92a0",
   "metadata": {},
   "outputs": [],
   "source": [
    "mongo_client=MongoClient()\n",
    "db=mongo_client['OPTIONCHAIN']"
   ]
  },
  {
   "cell_type": "code",
   "execution_count": 3,
   "id": "00ad6f69-7b52-4309-845c-50c252db100f",
   "metadata": {
    "tags": []
   },
   "outputs": [],
   "source": [
    "# timeurl='https://opstra.definedge.com/api/optionsimulator/timestamps/2019-01-01&2021-01-01'\n",
    "# # store the response of URL\n",
    "# response = urlopen(timeurl)\n",
    "  \n",
    "# # storing the JSON response \n",
    "# # from url in data\n",
    "# data_json = json.loads(response.read())"
   ]
  },
  {
   "cell_type": "code",
   "execution_count": 4,
   "id": "dc27ac9e-9b91-427e-a9bd-acb6b6d4d995",
   "metadata": {},
   "outputs": [],
   "source": [
    "# date='09MAY2019'\n",
    "# str(datetime.datetime.strptime(date, \"%d%b%Y\").date()-datetime.timedelta(days=60))"
   ]
  },
  {
   "cell_type": "code",
   "execution_count": null,
   "id": "a8eec058-6c0a-4017-b5cb-a72b0c375adb",
   "metadata": {},
   "outputs": [],
   "source": []
  },
  {
   "cell_type": "code",
   "execution_count": 5,
   "id": "1a650977-54bd-4382-9405-83a0af411237",
   "metadata": {},
   "outputs": [],
   "source": [
    "# time=datetime.datetime.fromtimestamp(int(\"1546336800\")).strftime('%Y-%m-%d %H:%M:%S')\n",
    "# print(time)"
   ]
  },
  {
   "cell_type": "code",
   "execution_count": 6,
   "id": "147ee1e8-f9bb-460a-bb5c-0e96842d57d4",
   "metadata": {},
   "outputs": [],
   "source": [
    "# dateyear=datetime.datetime.fromtimestamp(int(\"1548907200\")).strftime('%d%b%Y').upper()\n",
    "# print(dateyear)"
   ]
  },
  {
   "cell_type": "code",
   "execution_count": 7,
   "id": "092a7fbb-e005-4275-b1d6-cae44fcdb4eb",
   "metadata": {},
   "outputs": [],
   "source": [
    "# expdate='31JAN2019'\n",
    "# endtime=' 15:30:00'\n",
    "# endtime=expdate+endtime\n",
    "# date_format = datetime.datetime.strptime(endtime,\n",
    "#                                          \"%d%b%Y %H:%M:%S\")\n",
    "# unix_time = datetime.datetime.timestamp(date_format)\n",
    "# print(int(unix_time))"
   ]
  },
  {
   "cell_type": "code",
   "execution_count": 8,
   "id": "d0703813-acd7-4a1d-b166-05b14f4f82a8",
   "metadata": {},
   "outputs": [],
   "source": [
    "# date_format = datetime.datetime.strptime(\"2019-01-31 09:30:00\",\n",
    "#                                          \"%Y-%m-%d %H:%M:%S\")\n",
    "# unix_time = datetime.datetime.timestamp(date_format)\n",
    "# print(int(unix_time))"
   ]
  },
  {
   "cell_type": "code",
   "execution_count": 20,
   "id": "aff5ee69-b81c-4e53-81de-c0fa412b0f58",
   "metadata": {},
   "outputs": [],
   "source": [
    "###########################################Chnage Expiries Here to selecct#######################################\n",
    "#Set all expiries\n",
    "#expiries=[\"31JAN2019\"]\n",
    "#expiries of 2019 excluding jan 2019\n",
    "#expiries=[\"26DEC2019\",\"19DEC2019\",\"12DEC2019\",\"05DEC2019\",\"28NOV2019\",\"21NOV2019\",\"14NOV2019\",\"07NOV2019\",\"31OCT2019\",\"24OCT2019\",\"17OCT2019\",\"10OCT2019\",\"03OCT2019\",\"26SEP2019\",\"19SEP2019\",\"12SEP2019\",\"05SEP2019\",\"29AUG2019\",\"22AUG2019\",\"14AUG2019\",\"08AUG2019\",\"01AUG2019\",\"25JUL2019\",\"18JUL2019\",\"11JUL2019\",\"04JUL2019\",\"27JUN2019\",\"20JUN2019\",\"13JUN2019\",\"06JUN2019\",\"30MAY2019\",\"23MAY2019\",\"16MAY2019\",\"09MAY2019\"]#\"02MAY2019\",\"25APR2019\",\"18APR2019\",\"11APR2019\",\"04APR2019\",\"28MAR2019\",\"20MAR2019\",\"14MAR2019\",\"07MAR2019\",\"28FEB2019\",\"21FEB2019\",\"14FEB2019\"]\n",
    "#expiries of 2020\n",
    "#expiries=[\"24DEC2020\",\"17DEC2020\",\"10DEC2020\",\"03DEC2020\",\"26NOV2020\",\"19NOV2020\",\"12NOV2020\",\"05NOV2020\",\"29OCT2020\",\"22OCT2020\",\"15OCT2020\",\"08OCT2020\",\"01OCT2020\",\"24SEP2020\",\"17SEP2020\",\"10SEP2020\",\"03SEP2020\",\"27AUG2020\",\"20AUG2020\",\"13AUG2020\",\"06AUG2020\",\"30JUL2020\",\"23JUL2020\",\"16JUL2020\",\"09JUL2020\",\"02JUL2020\",\"25JUN2020\",\"18JUN2020\",\"11JUN2020\",\"04JUN2020\",\"28MAY2020\",\"21MAY2020\",\"14MAY2020\",\"07MAY2020\",\"30APR2020\",\"23APR2020\",\"16APR2020\",\"09APR2020\",\"01APR2020\",\"26MAR2020\",\"19MAR2020\",\"12MAR2020\",\"05MAR2020\",\"27FEB2020\",\"20FEB2020\",\"13FEB2020\",\"06FEB2020\",\"30JAN2020\",\"23JAN2020\",\"16JAN2020\",\"09JAN2020\",\"02JAN2020\"]\n",
    "#expiries of 2021\n",
    "expiries=[\"30DEC2021\",\"23DEC2021\",\"16DEC2021\",\"09DEC2021\",\"02DEC2021\",\"25NOV2021\",\"18NOV2021\",\"11NOV2021\",\"03NOV2021\",\"28OCT2021\",\"21OCT2021\",\"14OCT2021\",\"30SEP2021\",\"23SEP2021\",\"16SEP2021\",\"09SEP2021\",\"02SEP2021\",\"26AUG2021\",\"18AUG2021\",\"12AUG2021\",\"05AUG2021\",\"29JUL2021\",\"22JUL2021\",\"15JUL2021\",\"08JUL2021\",\"01JUL2021\",\"24JUN2021\",\"17JUN2021\",\"10JUN2021\",\"03JUN2021\",\"27MAY2021\",\"20MAY2021\",\"12MAY2021\",\"06MAY2021\",\"29APR2021\",\"22APR2021\",\"15APR2021\",\"08APR2021\",\"01APR2021\",\"25MAR2021\",\"18MAR2021\",\"10MAR2021\",\"04MAR2021\",\"25FEB2021\",\"18FEB2021\",\"11FEB2021\",\"04FEB2021\",\"28JAN2021\",\"21JAN2021\",\"14JAN2021\",\"07JAN2021\"]\n",
    "expiries.reverse()"
   ]
  },
  {
   "cell_type": "code",
   "execution_count": 10,
   "id": "efd26c4b-2489-4edc-b16c-2320a67e1ee6",
   "metadata": {},
   "outputs": [],
   "source": [
    "def get_dates(startdate,enddate):\n",
    "    #Getting all timestapms\n",
    "    startdate=startdate\n",
    "    enddate=enddate\n",
    "    try:\n",
    "        timestampurl = f'https://opstra.definedge.com/api/optionsimulator/timestamps/{startdate}&{enddate}'\n",
    "\n",
    "        # store the response of URL\n",
    "        response = urlopen(timestampurl)\n",
    "\n",
    "        # storing the JSON response \n",
    "        # from url in data\n",
    "        data_json = json.loads(response.read())\n",
    "        timestapms=list(data_json['timestamps'])\n",
    "        return timestapms\n",
    "    except Exception as e:\n",
    "                print(f\"Oops!, {e}, occurred wile geting time series from {timestampurl}\")"
   ]
  },
  {
   "cell_type": "code",
   "execution_count": 11,
   "id": "0964f0cf-8142-4e55-b073-c668e9fe3be1",
   "metadata": {},
   "outputs": [],
   "source": [
    "# # To genrte unix 5 min timestamp range\n",
    "# #genrating timestamps for year 2019,Set  start date as 15-20 days before actual start date you want.\n",
    "# timestapms=get_dates('2019-04-01','2019-12-31')"
   ]
  },
  {
   "cell_type": "code",
   "execution_count": 12,
   "id": "c1ae2ef0-1e2e-4913-aee3-6684f13047e6",
   "metadata": {},
   "outputs": [],
   "source": [
    "# print(timestapms)"
   ]
  },
  {
   "cell_type": "code",
   "execution_count": 1,
   "id": "d63a4542-a394-430e-9727-562e3c47bc0b",
   "metadata": {},
   "outputs": [],
   "source": [
    "def mainfunc():\n",
    "    for expiry in range(len(expiries)):\n",
    "        #print(expiries[expiry])-->31JAN2019\n",
    "        #Calculate last timestamp of expiry\n",
    "        expdate=expiries[expiry]\n",
    "        endtime=' 15:30:00'\n",
    "        endtime=expdate+endtime\n",
    "        date_format = datetime.datetime.strptime(endtime,\n",
    "                                                 \"%d%b%Y %H:%M:%S\")\n",
    "        end_unix_time = int(datetime.datetime.timestamp(date_format))\n",
    "        ######Chnage Month End Expiry List###########################\n",
    "        #monthendexpiries=[\"24DEC2020\",\"26NOV2020\",\"29OCT2020\",\"24SEP2020\",\"27AUG2020\",\"30JUL2020\",\"25JUN2020\",\"28MAY2020\",\"30APR2020\",\"26MAR2020\",\"27FEB2020\",\"30JAN2020\"]\n",
    "        monthendexpiries=[\"30DEC2021\",\"25NOV2021\",\"28OCT2021\",\"30SEP2021\",\"26AUG2021\",\"29JUL2021\",\"24JUN2021\",\"27MAY2021\",\"29APR2021\",\"25MAR2021\",\"25FEB2021\",\"28JAN2021\"]\n",
    "        monthendexpiries.reverse()\n",
    "        if expiries[expiry] in monthendexpiries:\n",
    "            startdate=str(datetime.datetime.strptime(expiries[expiry], \"%d%b%Y\").date()-datetime.timedelta(days=60))\n",
    "        else:\n",
    "            startdate=str(datetime.datetime.strptime(expiries[expiry], \"%d%b%Y\").date()-datetime.timedelta(days=20))\n",
    "        \n",
    "        ########################Change End Date Here ##############################\n",
    "        timestapms=get_dates(startdate,'2021-12-31')\n",
    "        \n",
    "        \n",
    "        # print(unix_time)#-->1548928800\n",
    "        for i in range(len(timestapms)):\n",
    "            if timestapms[i]==int(end_unix_time):\n",
    "                break\n",
    "            try:\n",
    "                url = f'https://opstra.definedge.com/api/optionsimulator/optionchain/{timestapms[i]}&NIFTY&{expdate}'\n",
    "                # store the response of URL\n",
    "                response = urlopen(url)\n",
    "\n",
    "                # storing the JSON response \n",
    "                # from url in data\n",
    "                data_json = json.loads(response.read())\n",
    "                 #Coverting into datatable\n",
    "                time=datetime.datetime.fromtimestamp(int(timestapms[i])).strftime('%Y-%m-%d %H:%M:%S')\n",
    "                optionchain=data_json['optionchaindata']\n",
    "                fut=data_json['futuresPrice']\n",
    "                spot=data_json['spotPrice']\n",
    "                iv=data_json['iv']\n",
    "\n",
    "                df=pd.DataFrame(optionchain)\n",
    "                if not df.empty:\n",
    "                    df['datetime']=time\n",
    "                    df['expiry_date']=expdate\n",
    "                    df['fut_price']=fut\n",
    "                    df['iv']=iv\n",
    "                    df['spot']=spot\n",
    "\n",
    "                    df.replace(to_replace=\"-\",value=0,inplace=True)\n",
    "                    df.drop('index_x',axis=1,inplace=True)\n",
    "                    df.drop('index_y',axis=1,inplace=True)\n",
    "                    df.drop('name',axis=1,inplace=True)\n",
    "                    df.replace(to_replace=np.nan,value=0,inplace=True)\n",
    "\n",
    "                    # inserting into db\n",
    "                    data=df.to_dict(orient='records')\n",
    "                    print(f'Inserting data for nifty {time} started for expiry {expiries[expiry]}')\n",
    "                    ###########################Chnage DB Name Here###################################################\n",
    "                    db['NIFTY2021'].insert_many(data)\n",
    "                    print(f'Inserting data for nifty {time} Ended for expiry {expiries[expiry]}')\n",
    "            except Exception as e:\n",
    "                print(f\"Oops!, {e}, occurred for {url}\")\n",
    "           \n",
    "            "
   ]
  },
  {
   "cell_type": "code",
   "execution_count": 3,
   "id": "c29f47c0-e28e-4a73-93ae-19203334aff3",
   "metadata": {},
   "outputs": [],
   "source": [
    "#################################Uncomment this to start loading data in db###########################\n",
    "# df=mainfunc()"
   ]
  },
  {
   "cell_type": "code",
   "execution_count": null,
   "id": "51f25aad-b274-41c1-b72d-976856d0dcb3",
   "metadata": {},
   "outputs": [],
   "source": []
  },
  {
   "cell_type": "code",
   "execution_count": null,
   "id": "6ecd745e-e13a-4b88-a6a0-9bc04d3b0561",
   "metadata": {},
   "outputs": [],
   "source": []
  },
  {
   "cell_type": "code",
   "execution_count": null,
   "id": "5a534034-beb2-4e9b-bef4-a3a147ed7d05",
   "metadata": {},
   "outputs": [],
   "source": [
    "# #Calculate last timestamp of expiry\n",
    "# expdate=expiries[0]\n",
    "# endtime=' 15:30:00'\n",
    "# endtime=expdate+endtime\n",
    "# date_format = datetime.datetime.strptime(endtime,\n",
    "#                                          \"%d%b%Y %H:%M:%S\")\n",
    "# unix_time = datetime.datetime.timestamp(date_format)\n",
    "# print(int(unix_time))"
   ]
  },
  {
   "cell_type": "code",
   "execution_count": null,
   "id": "07e54e82-47c0-435a-ba53-432d606535a7",
   "metadata": {},
   "outputs": [],
   "source": [
    "# while i in range(len(timestapms)):\n",
    "#     print(timestapms[i])\n",
    "#     # if timestapms[i]==int(unix_time):\n",
    "#     #     break"
   ]
  },
  {
   "cell_type": "code",
   "execution_count": null,
   "id": "f0ec6c09-2a5e-4c42-b641-73dbfeb97d4c",
   "metadata": {},
   "outputs": [],
   "source": [
    "# for i in range(len(timestapms)):\n",
    "#     if timestapms[i]==int(unix_time):\n",
    "#         break\n",
    "#     otime=timestapms[i]\n",
    "#     url = f'https://opstra.definedge.com/api/optionsimulator/optionchain/{timestapms[i]}&NIFTY&{expiries[0]}'"
   ]
  },
  {
   "cell_type": "code",
   "execution_count": null,
   "id": "022a48c3-76da-43ae-aaf7-497e79c4d97d",
   "metadata": {},
   "outputs": [],
   "source": [
    "# print(otime)"
   ]
  },
  {
   "cell_type": "code",
   "execution_count": null,
   "id": "4c13eeb9-aaca-4034-abc6-cd7bd31311e6",
   "metadata": {},
   "outputs": [],
   "source": [
    "# #Getting option Chain Data \n",
    "# # parameter for urlopen\n",
    "# try:\n",
    "#     url = 'https://opstra.definedge.com/api/optionsimulator/optionchain/1543407200&NIFTY&31JAN2019'\n",
    "\n",
    "#     # store the response of URL\n",
    "#     response = urlopen(url)\n",
    "\n",
    "#     # storing the JSON response \n",
    "#     # from url in data\n",
    "#     data_json = json.loads(response.read())\n",
    "\n",
    "#     # print the json response\n",
    "#     print(data_json)\n",
    "# except Exception as e:\n",
    "#     print(f\"Oops!, {e}, occurred for {url}\")"
   ]
  },
  {
   "cell_type": "code",
   "execution_count": null,
   "id": "70b240ea-dd93-4a99-8732-3cec0c9bb475",
   "metadata": {},
   "outputs": [],
   "source": []
  }
 ],
 "metadata": {
  "kernelspec": {
   "display_name": "Python 3 (ipykernel)",
   "language": "python",
   "name": "python3"
  },
  "language_info": {
   "codemirror_mode": {
    "name": "ipython",
    "version": 3
   },
   "file_extension": ".py",
   "mimetype": "text/x-python",
   "name": "python",
   "nbconvert_exporter": "python",
   "pygments_lexer": "ipython3",
   "version": "3.8.12"
  }
 },
 "nbformat": 4,
 "nbformat_minor": 5
}
