{
 "cells": [
  {
   "cell_type": "code",
   "execution_count": 1,
   "id": "d42aa216",
   "metadata": {},
   "outputs": [],
   "source": [
    "import pandas as pd\n",
    "import json\n",
    "import numpy as np\n",
    "import datetime\n",
    "from pymongo import MongoClient"
   ]
  },
  {
   "cell_type": "code",
   "execution_count": 2,
   "id": "8cbd9dd4",
   "metadata": {},
   "outputs": [],
   "source": [
    "# Create Mongo client instance\n",
    "mongo_client=MongoClient()\n",
    "db=mongo_client[\"StockMarket\"]"
   ]
  },
  {
   "cell_type": "code",
   "execution_count": 3,
   "id": "5557b867",
   "metadata": {},
   "outputs": [],
   "source": [
    "stockes_master_data=mongo_db.stockes_master_tbl.find()\n",
    "stockes_master_df=pd.DataFrame(list(stockes_master_data))\n",
    "indexs_master_data=mongo_db.indexs_master_tbl.find()\n",
    "indexs_master_df=pd.DataFrame(list(indexs_master_data))"
   ]
  },
  {
   "cell_type": "code",
   "execution_count": 4,
   "id": "e79f5b57",
   "metadata": {},
   "outputs": [],
   "source": [
    "# Convert date field to pandas datetime field\n",
    "#stockes_master_df['Date']=pd.to_datetime(stockes_master_df['Date'])\n",
    "#indexs_master_df['Date']=pd.to_datetime(indexs_master_df['Date'])\n",
    "#vix_master_df['Date']=pd.to_datetime(vix_master_df['Date'])"
   ]
  },
  {
   "cell_type": "code",
   "execution_count": 5,
   "id": "af52af3d",
   "metadata": {},
   "outputs": [],
   "source": [
    "stockes_df=stockes_master_df[['Date','Symbol','Open Price','High Price','Low Price','Close Price','Average Price','Total Traded Quantity'\n",
    "                              ,'Deliverable Qty','% Dly Qt to Traded Qty']]\n",
    "#stockes_df=stockes_df.set_index('Date')\n",
    "#stockes_df=stockes_master_df.drop('_id', 1)\n",
    "#stockes_df=stockes_df.set_index('Date')\n",
    "indexs_df=indexs_master_df[['Date','Symbol','Open','High','Low','Close','Shares Traded']]\n",
    "#indexs_df=indexs_df.set_index('Date')\n",
    "stockes_df=stockes_df.rename(columns={'Open Price':'Open','High Price':'High','Low Price':'Low',\n",
    "                                     'Close Price':'Close','Average Price':'Average','Total Traded Quantity':'Volume',\n",
    "                           'Deliverable Qty':'Delivery','% Dly Qt to Traded Qty':'per_delivery'})\n",
    "indexs_df=indexs_df.rename(columns={'Shares Traded':'Volume'})"
   ]
  },
  {
   "cell_type": "code",
   "execution_count": null,
   "id": "b3a23dbb",
   "metadata": {},
   "outputs": [],
   "source": []
  },
  {
   "cell_type": "code",
   "execution_count": 6,
   "id": "5a962eea",
   "metadata": {},
   "outputs": [
    {
     "data": {
      "text/plain": [
       "<pymongo.results.InsertManyResult at 0x16202227848>"
      ]
     },
     "execution_count": 6,
     "metadata": {},
     "output_type": "execute_result"
    }
   ],
   "source": [
    "sdata=stockes_df.to_dict(orient='records')\n",
    "idata=indexs_df.to_dict(orient='records')\n",
    "mongo_db.tickers.insert_many(sdata)\n",
    "mongo_db.indexs.insert_many(idata)\n",
    "\n"
   ]
  }
 ],
 "metadata": {
  "kernelspec": {
   "display_name": "Python 3 (ipykernel)",
   "language": "python",
   "name": "python3"
  },
  "language_info": {
   "codemirror_mode": {
    "name": "ipython",
    "version": 3
   },
   "file_extension": ".py",
   "mimetype": "text/x-python",
   "name": "python",
   "nbconvert_exporter": "python",
   "pygments_lexer": "ipython3",
   "version": "3.7.7"
  }
 },
 "nbformat": 4,
 "nbformat_minor": 5
}
