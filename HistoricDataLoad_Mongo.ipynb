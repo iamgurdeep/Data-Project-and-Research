{
 "cells": [
  {
   "cell_type": "code",
   "execution_count": 1,
   "id": "263f018a",
   "metadata": {},
   "outputs": [],
   "source": [
    "import pandas as pd\n",
    "from pymongo import MongoClient\n",
    "import pymongo\n",
    "import json"
   ]
  },
  {
   "cell_type": "markdown",
   "id": "56f70e56",
   "metadata": {},
   "source": [
    "Listing all folders from where we need to read the files"
   ]
  },
  {
   "cell_type": "code",
   "execution_count": 2,
   "id": "2f466a17",
   "metadata": {},
   "outputs": [],
   "source": [
    "import glob\n",
    "folders=glob.glob(\"C:\\\\Users\\\\admin\\\\Desktop\\\\Trding Data\\\\Old-Data\\\\Stocks\\\\*\")"
   ]
  },
  {
   "cell_type": "markdown",
   "id": "1be33d0d",
   "metadata": {},
   "source": [
    "# Fetching name of each .csv files from all folders and storing in file_list List"
   ]
  },
  {
   "cell_type": "code",
   "execution_count": 3,
   "id": "d49a8394",
   "metadata": {},
   "outputs": [],
   "source": [
    "\n",
    "file_list=[]\n",
    "for index in range(len(folders)):\n",
    "    fd=folders[index]+\"\\*.csv\"\n",
    "    ls=glob.glob(fd)\n",
    "    for x in range(len(ls)):\n",
    "        file_list.append(ls[x])\n",
    "    \n",
    "    \n",
    "\n",
    "    "
   ]
  },
  {
   "cell_type": "code",
   "execution_count": 4,
   "id": "7e8cd965",
   "metadata": {},
   "outputs": [],
   "source": [
    "m_client=pymongo.MongoClient()\n",
    "db=m_client[\"StockMarket\"]\n"
   ]
  },
  {
   "cell_type": "markdown",
   "id": "d0a84b9a",
   "metadata": {},
   "source": [
    "\n",
    "Reading Each .csv file stored in file_list and storing it in DB 'Stockmarket' under collection 'master_tbl' in mongo DB"
   ]
  },
  {
   "cell_type": "code",
   "execution_count": 5,
   "id": "89aa0fc1",
   "metadata": {},
   "outputs": [],
   "source": [
    "def create_sktdata():\n",
    "   \n",
    "    tickers=[]\n",
    "    for index in range(len(file_list)):\n",
    "        df=pd.read_csv(file_list[index])\n",
    "        ticker=df.iloc[0]['Symbol']\n",
    "        if ticker:\n",
    "            tickers.append(ticker)\n",
    "            df=df[['Date','Symbol','Open Price','High Price','Low Price','Close Price','Average Price','Total Traded Quantity',\n",
    "                  'Deliverable Qty','% Dly Qt to Traded Qty']]\n",
    "            df=df.rename(columns={'Open Price':'Open','High Price':'High','Low Price':'Low','Close Price':'Close',\n",
    "                           'Average Price':'Average','Total Traded Quantity':'Volume','Deliverable Qty':'Delivery',\n",
    "                                  '% Dly Qt to Traded Qty':'%Delivery'})\n",
    "            p_change=df['Close'].pct_change()*100\n",
    "            df['p_change']=p_change.round(2)\n",
    "            df=df.dropna()\n",
    "            data=df.to_dict(orient='records')\n",
    "            db.STOCKS_MST_TBL.insert_many(data)\n",
    "            db[tickers[index]].insert_many(data)\n",
    "\n",
    "       \n"
   ]
  },
  {
   "cell_type": "code",
   "execution_count": 6,
   "id": "455f3683",
   "metadata": {},
   "outputs": [],
   "source": [
    "create_sktdata()"
   ]
  },
  {
   "cell_type": "code",
   "execution_count": 7,
   "id": "7135220c",
   "metadata": {},
   "outputs": [],
   "source": [
    "rslt=db.STOCKS_MST_TBL.find()\n",
    "df=pd.DataFrame(list(rslt))\n",
    "df=df.Symbol.unique()\n",
    "stk_names=df.tolist()\n",
    "for i in range(len(stk_names)):\n",
    "    ticker={'Tickers':stk_names[i]}\n",
    "    db['STOCKS'].insert_one(ticker)"
   ]
  },
  {
   "cell_type": "code",
   "execution_count": 8,
   "id": "ebdfbd99",
   "metadata": {},
   "outputs": [],
   "source": [
    "tickers=db.STOCKS.find()\n",
    "tickers=pd.DataFrame(list(tickers))\n"
   ]
  },
  {
   "cell_type": "code",
   "execution_count": 9,
   "id": "235c33fb",
   "metadata": {},
   "outputs": [
    {
     "name": "stdout",
     "output_type": "stream",
     "text": [
      "<class 'pandas.core.frame.DataFrame'>\n",
      "RangeIndex: 100 entries, 0 to 99\n",
      "Data columns (total 2 columns):\n",
      " #   Column   Non-Null Count  Dtype \n",
      "---  ------   --------------  ----- \n",
      " 0   _id      100 non-null    object\n",
      " 1   Tickers  100 non-null    object\n",
      "dtypes: object(2)\n",
      "memory usage: 1.7+ KB\n"
     ]
    }
   ],
   "source": [
    "tickers.info()"
   ]
  }
 ],
 "metadata": {
  "kernelspec": {
   "display_name": "Python 3 (ipykernel)",
   "language": "python",
   "name": "python3"
  },
  "language_info": {
   "codemirror_mode": {
    "name": "ipython",
    "version": 3
   },
   "file_extension": ".py",
   "mimetype": "text/x-python",
   "name": "python",
   "nbconvert_exporter": "python",
   "pygments_lexer": "ipython3",
   "version": "3.7.7"
  }
 },
 "nbformat": 4,
 "nbformat_minor": 5
}
