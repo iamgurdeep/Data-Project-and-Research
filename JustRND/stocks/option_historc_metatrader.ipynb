{
 "cells": [
  {
   "cell_type": "code",
   "execution_count": 90,
   "id": "d1bfa335-576c-4bd8-acb9-4b994c335374",
   "metadata": {},
   "outputs": [],
   "source": [
    "import pandas as pd\n",
    "import numpy as np\n",
    "import datetime\n",
    "import os"
   ]
  },
  {
   "cell_type": "code",
   "execution_count": 70,
   "id": "7d89909a-6dd8-4e42-b979-6a1031e76c69",
   "metadata": {},
   "outputs": [],
   "source": [
    "df=pd.read_csv(\"importdatafiles/01-07--OCT-2021-WEEKLY-expiry_data__VEGE_NF_AND_BNF_Options.csv\")"
   ]
  },
  {
   "cell_type": "code",
   "execution_count": 75,
   "id": "e8366d27-609e-4ca8-b991-9e93cd89b29d",
   "metadata": {},
   "outputs": [
    {
     "data": {
      "text/html": [
       "<div><div id=74dca9c8-72f9-4d40-831e-6d966bba1393 style=\"display:none; background-color:#9D6CFF; color:white; width:200px; height:30px; padding-left:5px; border-radius:4px; flex-direction:row; justify-content:space-around; align-items:center;\" onmouseover=\"this.style.backgroundColor='#BA9BF8'\" onmouseout=\"this.style.backgroundColor='#9D6CFF'\" onclick=\"window.commands?.execute('create-mitosheet-from-dataframe-output');\">See Full Dataframe in Mito</div> <script> if (window.commands.hasCommand('create-mitosheet-from-dataframe-output')) document.getElementById('74dca9c8-72f9-4d40-831e-6d966bba1393').style.display = 'flex' </script> <table border=\"1\" class=\"dataframe\">\n",
       "  <thead>\n",
       "    <tr style=\"text-align: right;\">\n",
       "      <th></th>\n",
       "      <th>Ticker</th>\n",
       "      <th>Date/Time</th>\n",
       "      <th>Open</th>\n",
       "      <th>High</th>\n",
       "      <th>Low</th>\n",
       "      <th>Close</th>\n",
       "      <th>Volume</th>\n",
       "      <th>Open Interest</th>\n",
       "    </tr>\n",
       "  </thead>\n",
       "  <tbody>\n",
       "    <tr>\n",
       "      <th>0</th>\n",
       "      <td>BANKNIFTY</td>\n",
       "      <td>2021-10-01 09:15:00</td>\n",
       "      <td>37140.4</td>\n",
       "      <td>37140.4</td>\n",
       "      <td>36876.3</td>\n",
       "      <td>36943.3</td>\n",
       "      <td>1</td>\n",
       "      <td>0</td>\n",
       "    </tr>\n",
       "  </tbody>\n",
       "</table></div>"
      ],
      "text/plain": [
       "      Ticker           Date/Time     Open     High      Low    Close  Volume  \\\n",
       "0  BANKNIFTY 2021-10-01 09:15:00  37140.4  37140.4  36876.3  36943.3       1   \n",
       "\n",
       "   Open Interest  \n",
       "0              0  "
      ]
     },
     "execution_count": 75,
     "metadata": {},
     "output_type": "execute_result"
    }
   ],
   "source": [
    "df[:1]"
   ]
  },
  {
   "cell_type": "code",
   "execution_count": 74,
   "id": "6e95d5e9-b4b8-492f-a3fa-2ea973dc3c9a",
   "metadata": {},
   "outputs": [],
   "source": [
    "df['Date/Time']=pd.to_datetime(df['Date/Time'].astype(str), format='%d-%m-%Y %H:%M:%S')"
   ]
  },
  {
   "cell_type": "code",
   "execution_count": 76,
   "id": "3b929873-247b-4c91-926a-1aa78623804a",
   "metadata": {},
   "outputs": [],
   "source": [
    "df['Date/Time']=df['Date/Time'].dt.strftime('%Y.%m.%d %H:%M')"
   ]
  },
  {
   "cell_type": "code",
   "execution_count": 77,
   "id": "70ca11ba-71fd-4f7c-97ad-470b83b1b288",
   "metadata": {},
   "outputs": [],
   "source": [
    "df.rename(columns={'Date/Time':'Date','Volume':'Tick Volume','Open Interest':'Volume'},inplace=True)"
   ]
  },
  {
   "cell_type": "code",
   "execution_count": 78,
   "id": "9a56b536-323b-4913-bf6b-11095dc3c48d",
   "metadata": {},
   "outputs": [],
   "source": [
    "df['Spread']=0"
   ]
  },
  {
   "cell_type": "code",
   "execution_count": 79,
   "id": "39163176-203b-4fa0-bd98-8aadf460129b",
   "metadata": {},
   "outputs": [],
   "source": [
    "ticker_list=df['Ticker'].unique()"
   ]
  },
  {
   "cell_type": "code",
   "execution_count": 94,
   "id": "8fffed3b-ea86-4a00-a746-95961663af91",
   "metadata": {
    "scrolled": true,
    "tags": []
   },
   "outputs": [
    {
     "name": "stderr",
     "output_type": "stream",
     "text": [
      "C:\\anaconda\\envs\\market38\\lib\\site-packages\\pandas\\core\\frame.py:4906: SettingWithCopyWarning: \n",
      "A value is trying to be set on a copy of a slice from a DataFrame\n",
      "\n",
      "See the caveats in the documentation: https://pandas.pydata.org/pandas-docs/stable/user_guide/indexing.html#returning-a-view-versus-a-copy\n",
      "  return super().drop(\n"
     ]
    }
   ],
   "source": [
    "tmpdf=df.loc[df.Ticker=='BANKNIFTY']\n",
    "expiry=list(tmpdf.Date[-1:])\n",
    "year=expiry[0].split('.')[0]\n",
    "month=expiry[0].split('.')[1]\n",
    "day=expiry[0].split('.')[2].split(' ')[0]\n",
    "cdir=f'{day}{month}{year}'\n",
    "pdir='exportdatafiles'\n",
    "path = os.path.join(pdir, cdir)\n",
    "os.mkdir(path)\n",
    "\n",
    "for ticker in ticker_list:\n",
    "    tikerdf=df.loc[df.Ticker==ticker]\n",
    "    tikerdf.drop('Ticker',axis=1,inplace=True)\n",
    "    tikerdf.to_csv(f'{path}/{ticker}{year}{month}{day}.csv',index=False)"
   ]
  },
  {
   "cell_type": "code",
   "execution_count": null,
   "id": "7dd5a9d2-917f-453d-b43b-d3f5133c999b",
   "metadata": {},
   "outputs": [],
   "source": []
  }
 ],
 "metadata": {
  "kernelspec": {
   "display_name": "Python 3 (ipykernel)",
   "language": "python",
   "name": "python3"
  },
  "language_info": {
   "codemirror_mode": {
    "name": "ipython",
    "version": 3
   },
   "file_extension": ".py",
   "mimetype": "text/x-python",
   "name": "python",
   "nbconvert_exporter": "python",
   "pygments_lexer": "ipython3",
   "version": "3.8.12"
  }
 },
 "nbformat": 4,
 "nbformat_minor": 5
}
