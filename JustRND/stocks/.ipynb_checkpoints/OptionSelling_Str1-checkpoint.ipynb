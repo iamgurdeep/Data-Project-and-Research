{
 "cells": [
  {
   "cell_type": "code",
   "execution_count": 356,
   "id": "14835c82-3d6f-48a1-97b3-b63035a8d988",
   "metadata": {},
   "outputs": [],
   "source": [
    "import yfinance as yf\n",
    "import pandas as pd\n",
    "import numpy as np\n",
    "from pymongo import MongoClient\n",
    "import datetime\n",
    "import matplotlib.pyplot as plt\n",
    "import plotly.express as px\n",
    "import plotly.graph_objects as go\n",
    "from plotly.subplots import make_subplots\n",
    "from talib import abstract\n",
    "import math\n",
    "## This is to Convert a string representation of list into list \n",
    "import ast\n",
    "from functools import partial\n",
    "import os\n",
    "# from ta.momentum import rsi\n",
    "# from ta.utils import dropna\n",
    "import pandas_ta as pta\n",
    "from collections import defaultdict\n"
   ]
  },
  {
   "cell_type": "code",
   "execution_count": 123,
   "id": "fd4dbb86-0b8b-4e98-ad37-fa2ba4e6b579",
   "metadata": {
    "jupyter": {
     "source_hidden": true
    },
    "tags": []
   },
   "outputs": [],
   "source": [
    "def Supertrend(df, atr_period, multiplier):\n",
    "    \n",
    "    high = df['High']\n",
    "    low = df['Low']\n",
    "    close = df['Close']\n",
    "    \n",
    "    # calculate ATR\n",
    "    price_diffs = [high - low, \n",
    "                   high - close.shift(), \n",
    "                   close.shift() - low]\n",
    "    true_range = pd.concat(price_diffs, axis=1)\n",
    "    true_range = true_range.abs().max(axis=1)\n",
    "    # default ATR calculation in supertrend indicator\n",
    "    atr = true_range.ewm(alpha=1/atr_period,min_periods=atr_period).mean() \n",
    "    # df['atr'] = df['tr'].rolling(atr_period).mean()\n",
    "    \n",
    "    # HL2 is simply the average of high and low prices\n",
    "    hl2 = (high + low) / 2\n",
    "    # upperband and lowerband calculation\n",
    "    # notice that final bands are set to be equal to the respective bands\n",
    "    final_upperband = upperband = hl2 + (multiplier * atr)\n",
    "    final_lowerband = lowerband = hl2 - (multiplier * atr)\n",
    "    \n",
    "    # initialize Supertrend column to True\n",
    "    supertrend = [True] * len(df)\n",
    "    \n",
    "    for i in range(1, len(df.index)):\n",
    "        curr, prev = i, i-1\n",
    "        \n",
    "        # if current close price crosses above upperband\n",
    "        if close[curr] > final_upperband[prev]:\n",
    "            supertrend[curr] = True\n",
    "        # if current close price crosses below lowerband\n",
    "        elif close[curr] < final_lowerband[prev]:\n",
    "            supertrend[curr] = False\n",
    "        # else, the trend continues\n",
    "        else:\n",
    "            supertrend[curr] = supertrend[prev]\n",
    "            \n",
    "            # adjustment to the final bands\n",
    "            if supertrend[curr] == True and final_lowerband[curr] < final_lowerband[prev]:\n",
    "                final_lowerband[curr] = final_lowerband[prev]\n",
    "            if supertrend[curr] == False and final_upperband[curr] > final_upperband[prev]:\n",
    "                final_upperband[curr] = final_upperband[prev]\n",
    "\n",
    "        # to remove bands according to the trend direction\n",
    "        if supertrend[curr] == True:\n",
    "            final_upperband[curr] = np.nan\n",
    "        else:\n",
    "            final_lowerband[curr] = np.nan\n",
    "    \n",
    "    return pd.DataFrame({\n",
    "        'Supertrend': supertrend,\n",
    "        'Final Lowerband': final_lowerband,\n",
    "        'Final Upperband': final_upperband\n",
    "    }, index=df.index)"
   ]
  },
  {
   "cell_type": "code",
   "execution_count": 472,
   "id": "44241679-4c10-4eb9-bc1a-f270ef805ab5",
   "metadata": {},
   "outputs": [],
   "source": [
    "files=['importdatafiles/01-07--OCT-2021-WEEKLY-expiry_data__VEGE_NF_AND_BNF_Options.csv',\n",
    "'importdatafiles/02-08-JULY- -W-ExpiryWEEKdata_2021_NF_BNF_options_vege.csv',\n",
    "'importdatafiles/02-09--SEP-2021-weekly-expiry_data__VEGE_NF_AND_BNF_Options.csv',\n",
    "'importdatafiles/03-09-DEC- -W-ExpiryWEEKdata_2021_NF_BNF_options_vege.csv',\n",
    "'importdatafiles/04-10-JUN- -W-ExpiryWEEKdata_2021_NF_BNF_options_vege.csv',\n",
    "'importdatafiles/04-11-FEB-Weekly-ExpiryWEEKdata_2021.csv',\n",
    "'importdatafiles/04_10_FEB_WEEKLY_expiry_data_VEGE_NF_AND_BNF_Options_Desktop_Vege.csv',\n",
    "'importdatafiles/05-11--NOV-2021-WEEKLY-expiry_data__VEGE_NF_AND_BNF_Options.csv',\n",
    "'importdatafiles/05_08_APR_2021_weekly_Expirydata_VEGE_NF_AND_BNF_Options_shortWeek.csv',\n",
    "'importdatafiles/06_12_AUG_2021_weekly_expiryWEEKdata_VEGE_NF_AND_BNF_Options.csv',\n",
    "'importdatafiles/07-12May -W-ExpiryWEEKdata_2021_NF_BNF_vege.csv',\n",
    "'importdatafiles/07_13_Jan_22_WEEKLY_expiry_data_VEGE_NF_AND_BNF_Options_Desktop.csv',\n",
    "'importdatafiles/08-14--OCT-2021-WEEKLY-expiry_data__VEGE_NF_AND_BNF_Options.csv',\n",
    "'importdatafiles/08-14-JAN- -ExpiryWEEK-data_2021.csv',\n",
    "'importdatafiles/09-15-JULY- -W-ExpiryWEEKdata_2021_NF_BNF_options_vege.csv',\n",
    "'importdatafiles/09-16-SEP-2021-weekly-expiry_data__VEGE_NF_AND_BNF_Options.csv',\n",
    "'importdatafiles/09_15_APR_2021_weekly_Expirydata_VEGE_NF_AND_BNF_Options_shortweek.csv',\n",
    "'importdatafiles/10_16_DEC21_WEEKLY_expiry_data_VEGE_NF_AND_BNF_Options_Desktop_Vege.csv',]"
   ]
  },
  {
   "cell_type": "code",
   "execution_count": null,
   "id": "dfe1b8c1-1058-481a-919a-e34ba36af2db",
   "metadata": {},
   "outputs": [],
   "source": []
  },
  {
   "cell_type": "code",
   "execution_count": 346,
   "id": "bb74e7a3-b605-4ccb-97db-332839190a9b",
   "metadata": {},
   "outputs": [],
   "source": [
    "df=pd.read_csv(\"importdatafiles/29Oct_03NOV_2021_WEEKLY_expiry_data_VEGE_NF_AND_BNF_Options.csv\")"
   ]
  },
  {
   "cell_type": "code",
   "execution_count": 347,
   "id": "dc6b031f-311a-4524-a523-266ebcaafefb",
   "metadata": {},
   "outputs": [
    {
     "data": {
      "text/html": [
       "<div><div id=1cb4bf47-23b0-4259-aa1e-e649c44cb523 style=\"display:none; background-color:#9D6CFF; color:white; width:200px; height:30px; padding-left:5px; border-radius:4px; flex-direction:row; justify-content:space-around; align-items:center;\" onmouseover=\"this.style.backgroundColor='#BA9BF8'\" onmouseout=\"this.style.backgroundColor='#9D6CFF'\" onclick=\"window.commands?.execute('create-mitosheet-from-dataframe-output');\">See Full Dataframe in Mito</div> <script> if (window.commands.hasCommand('create-mitosheet-from-dataframe-output')) document.getElementById('1cb4bf47-23b0-4259-aa1e-e649c44cb523').style.display = 'flex' </script> <table border=\"1\" class=\"dataframe\">\n",
       "  <thead>\n",
       "    <tr style=\"text-align: right;\">\n",
       "      <th></th>\n",
       "      <th>Ticker</th>\n",
       "      <th>Date/Time</th>\n",
       "      <th>Open</th>\n",
       "      <th>High</th>\n",
       "      <th>Low</th>\n",
       "      <th>Close</th>\n",
       "      <th>Volume</th>\n",
       "      <th>Open Interest</th>\n",
       "    </tr>\n",
       "  </thead>\n",
       "  <tbody>\n",
       "    <tr>\n",
       "      <th>0</th>\n",
       "      <td>BANKNIFTY</td>\n",
       "      <td>29-10-2021 09:15:00</td>\n",
       "      <td>39424.6</td>\n",
       "      <td>39424.6</td>\n",
       "      <td>39091.2</td>\n",
       "      <td>39121.3</td>\n",
       "      <td>0</td>\n",
       "      <td>0</td>\n",
       "    </tr>\n",
       "    <tr>\n",
       "      <th>1</th>\n",
       "      <td>BANKNIFTY</td>\n",
       "      <td>29-10-2021 09:16:00</td>\n",
       "      <td>39120.9</td>\n",
       "      <td>39122.2</td>\n",
       "      <td>39001.3</td>\n",
       "      <td>39082.2</td>\n",
       "      <td>0</td>\n",
       "      <td>0</td>\n",
       "    </tr>\n",
       "    <tr>\n",
       "      <th>2</th>\n",
       "      <td>BANKNIFTY</td>\n",
       "      <td>29-10-2021 09:17:00</td>\n",
       "      <td>39080.1</td>\n",
       "      <td>39100.9</td>\n",
       "      <td>38946.0</td>\n",
       "      <td>38970.3</td>\n",
       "      <td>0</td>\n",
       "      <td>0</td>\n",
       "    </tr>\n",
       "    <tr>\n",
       "      <th>3</th>\n",
       "      <td>BANKNIFTY</td>\n",
       "      <td>29-10-2021 09:18:00</td>\n",
       "      <td>38981.7</td>\n",
       "      <td>38985.6</td>\n",
       "      <td>38858.7</td>\n",
       "      <td>38883.8</td>\n",
       "      <td>0</td>\n",
       "      <td>0</td>\n",
       "    </tr>\n",
       "    <tr>\n",
       "      <th>4</th>\n",
       "      <td>BANKNIFTY</td>\n",
       "      <td>29-10-2021 09:19:00</td>\n",
       "      <td>38887.0</td>\n",
       "      <td>38970.8</td>\n",
       "      <td>38821.2</td>\n",
       "      <td>38966.0</td>\n",
       "      <td>0</td>\n",
       "      <td>0</td>\n",
       "    </tr>\n",
       "  </tbody>\n",
       "</table></div>"
      ],
      "text/plain": [
       "      Ticker            Date/Time     Open     High      Low    Close  Volume  Open Interest\n",
       "0  BANKNIFTY  29-10-2021 09:15:00  39424.6  39424.6  39091.2  39121.3       0              0\n",
       "1  BANKNIFTY  29-10-2021 09:16:00  39120.9  39122.2  39001.3  39082.2       0              0\n",
       "2  BANKNIFTY  29-10-2021 09:17:00  39080.1  39100.9  38946.0  38970.3       0              0\n",
       "3  BANKNIFTY  29-10-2021 09:18:00  38981.7  38985.6  38858.7  38883.8       0              0\n",
       "4  BANKNIFTY  29-10-2021 09:19:00  38887.0  38970.8  38821.2  38966.0       0              0"
      ]
     },
     "execution_count": 347,
     "metadata": {},
     "output_type": "execute_result"
    }
   ],
   "source": [
    "df.head()"
   ]
  },
  {
   "cell_type": "code",
   "execution_count": 348,
   "id": "f43b7c24-2f87-46de-9703-c0e4fb3cd404",
   "metadata": {},
   "outputs": [],
   "source": [
    "\n",
    "df['Date/Time']=pd.to_datetime(df['Date/Time'].astype(str), format='%d-%m-%Y %H:%M:%S')\n",
    "df.rename(columns={'Date/Time':'Date','Volume':'Tick Volume','Open Interest':'Volume'},inplace=True)"
   ]
  },
  {
   "cell_type": "code",
   "execution_count": 349,
   "id": "ba4bea15-9c25-408e-baeb-f34de4b15271",
   "metadata": {},
   "outputs": [
    {
     "data": {
      "text/html": [
       "<div><div id=b776fb50-2e0d-4378-a190-3b33ce18559b style=\"display:none; background-color:#9D6CFF; color:white; width:200px; height:30px; padding-left:5px; border-radius:4px; flex-direction:row; justify-content:space-around; align-items:center;\" onmouseover=\"this.style.backgroundColor='#BA9BF8'\" onmouseout=\"this.style.backgroundColor='#9D6CFF'\" onclick=\"window.commands?.execute('create-mitosheet-from-dataframe-output');\">See Full Dataframe in Mito</div> <script> if (window.commands.hasCommand('create-mitosheet-from-dataframe-output')) document.getElementById('b776fb50-2e0d-4378-a190-3b33ce18559b').style.display = 'flex' </script> <table border=\"1\" class=\"dataframe\">\n",
       "  <thead>\n",
       "    <tr style=\"text-align: right;\">\n",
       "      <th></th>\n",
       "      <th>Ticker</th>\n",
       "      <th>Date</th>\n",
       "      <th>Open</th>\n",
       "      <th>High</th>\n",
       "      <th>Low</th>\n",
       "      <th>Close</th>\n",
       "      <th>Tick Volume</th>\n",
       "      <th>Volume</th>\n",
       "    </tr>\n",
       "  </thead>\n",
       "  <tbody>\n",
       "    <tr>\n",
       "      <th>0</th>\n",
       "      <td>BANKNIFTY</td>\n",
       "      <td>2021-10-29 09:15:00</td>\n",
       "      <td>39424.6</td>\n",
       "      <td>39424.6</td>\n",
       "      <td>39091.2</td>\n",
       "      <td>39121.3</td>\n",
       "      <td>0</td>\n",
       "      <td>0</td>\n",
       "    </tr>\n",
       "    <tr>\n",
       "      <th>1</th>\n",
       "      <td>BANKNIFTY</td>\n",
       "      <td>2021-10-29 09:16:00</td>\n",
       "      <td>39120.9</td>\n",
       "      <td>39122.2</td>\n",
       "      <td>39001.3</td>\n",
       "      <td>39082.2</td>\n",
       "      <td>0</td>\n",
       "      <td>0</td>\n",
       "    </tr>\n",
       "    <tr>\n",
       "      <th>2</th>\n",
       "      <td>BANKNIFTY</td>\n",
       "      <td>2021-10-29 09:17:00</td>\n",
       "      <td>39080.1</td>\n",
       "      <td>39100.9</td>\n",
       "      <td>38946.0</td>\n",
       "      <td>38970.3</td>\n",
       "      <td>0</td>\n",
       "      <td>0</td>\n",
       "    </tr>\n",
       "    <tr>\n",
       "      <th>3</th>\n",
       "      <td>BANKNIFTY</td>\n",
       "      <td>2021-10-29 09:18:00</td>\n",
       "      <td>38981.7</td>\n",
       "      <td>38985.6</td>\n",
       "      <td>38858.7</td>\n",
       "      <td>38883.8</td>\n",
       "      <td>0</td>\n",
       "      <td>0</td>\n",
       "    </tr>\n",
       "    <tr>\n",
       "      <th>4</th>\n",
       "      <td>BANKNIFTY</td>\n",
       "      <td>2021-10-29 09:19:00</td>\n",
       "      <td>38887.0</td>\n",
       "      <td>38970.8</td>\n",
       "      <td>38821.2</td>\n",
       "      <td>38966.0</td>\n",
       "      <td>0</td>\n",
       "      <td>0</td>\n",
       "    </tr>\n",
       "  </tbody>\n",
       "</table></div>"
      ],
      "text/plain": [
       "      Ticker                Date     Open     High      Low    Close  Tick Volume  Volume\n",
       "0  BANKNIFTY 2021-10-29 09:15:00  39424.6  39424.6  39091.2  39121.3            0       0\n",
       "1  BANKNIFTY 2021-10-29 09:16:00  39120.9  39122.2  39001.3  39082.2            0       0\n",
       "2  BANKNIFTY 2021-10-29 09:17:00  39080.1  39100.9  38946.0  38970.3            0       0\n",
       "3  BANKNIFTY 2021-10-29 09:18:00  38981.7  38985.6  38858.7  38883.8            0       0\n",
       "4  BANKNIFTY 2021-10-29 09:19:00  38887.0  38970.8  38821.2  38966.0            0       0"
      ]
     },
     "execution_count": 349,
     "metadata": {},
     "output_type": "execute_result"
    }
   ],
   "source": [
    "df.head()"
   ]
  },
  {
   "cell_type": "code",
   "execution_count": 15,
   "id": "9d9f5046-c122-4892-ac81-22a5250832a1",
   "metadata": {
    "jupyter": {
     "source_hidden": true
    },
    "tags": []
   },
   "outputs": [],
   "source": [
    "def pxline(to_plot):\n",
    "    fig = px.line(to_plot)\n",
    "    fig.show()"
   ]
  },
  {
   "cell_type": "code",
   "execution_count": 350,
   "id": "e2044b9e-104a-4211-9300-2be12c0f846a",
   "metadata": {
    "scrolled": true,
    "tags": []
   },
   "outputs": [
    {
     "data": {
      "text/plain": [
       "array(['BANKNIFTY', 'BANKNIFTY-FUT', 'BANKNIFTYWK32500CE',\n",
       "       'BANKNIFTYWK32500PE', 'BANKNIFTYWK32600CE', 'BANKNIFTYWK32600PE',\n",
       "       'BANKNIFTYWK32700PE', 'BANKNIFTYWK32800PE', 'BANKNIFTYWK32900PE',\n",
       "       'BANKNIFTYWK33000PE', 'BANKNIFTYWK33100PE', 'BANKNIFTYWK33200PE',\n",
       "       'BANKNIFTYWK33300PE', 'BANKNIFTYWK33500PE', 'BANKNIFTYWK33600PE',\n",
       "       'BANKNIFTYWK33700PE', 'BANKNIFTYWK33800PE', 'BANKNIFTYWK33900PE',\n",
       "       'BANKNIFTYWK34000CE', 'BANKNIFTYWK34000PE', 'BANKNIFTYWK34100PE',\n",
       "       'BANKNIFTYWK34200CE', 'BANKNIFTYWK34200PE', 'BANKNIFTYWK34300PE',\n",
       "       'BANKNIFTYWK34400PE', 'BANKNIFTYWK34500CE', 'BANKNIFTYWK34500PE',\n",
       "       'BANKNIFTYWK34600PE', 'BANKNIFTYWK34700PE', 'BANKNIFTYWK34800PE',\n",
       "       'BANKNIFTYWK34900PE', 'BANKNIFTYWK35000CE', 'BANKNIFTYWK35000PE',\n",
       "       'BANKNIFTYWK35100CE', 'BANKNIFTYWK35100PE', 'BANKNIFTYWK35200PE',\n",
       "       'BANKNIFTYWK35300CE', 'BANKNIFTYWK35300PE', 'BANKNIFTYWK35400CE',\n",
       "       'BANKNIFTYWK35400PE', 'BANKNIFTYWK35500CE', 'BANKNIFTYWK35500PE',\n",
       "       'BANKNIFTYWK35600CE', 'BANKNIFTYWK35600PE', 'BANKNIFTYWK35700CE',\n",
       "       'BANKNIFTYWK35700PE', 'BANKNIFTYWK35800CE', 'BANKNIFTYWK35800PE',\n",
       "       'BANKNIFTYWK35900CE', 'BANKNIFTYWK35900PE', 'BANKNIFTYWK36000CE',\n",
       "       'BANKNIFTYWK36000PE', 'BANKNIFTYWK36100CE', 'BANKNIFTYWK36100PE',\n",
       "       'BANKNIFTYWK36200CE', 'BANKNIFTYWK36200PE', 'BANKNIFTYWK36300CE',\n",
       "       'BANKNIFTYWK36300PE', 'BANKNIFTYWK36400CE', 'BANKNIFTYWK36400PE',\n",
       "       'BANKNIFTYWK36500CE', 'BANKNIFTYWK36500PE', 'BANKNIFTYWK36600CE',\n",
       "       'BANKNIFTYWK36600PE', 'BANKNIFTYWK36700CE', 'BANKNIFTYWK36700PE',\n",
       "       'BANKNIFTYWK36800CE', 'BANKNIFTYWK36800PE', 'BANKNIFTYWK36900CE',\n",
       "       'BANKNIFTYWK36900PE', 'BANKNIFTYWK37000CE', 'BANKNIFTYWK37000PE',\n",
       "       'BANKNIFTYWK37100CE', 'BANKNIFTYWK37100PE', 'BANKNIFTYWK37200CE',\n",
       "       'BANKNIFTYWK37200PE', 'BANKNIFTYWK37300CE', 'BANKNIFTYWK37300PE',\n",
       "       'BANKNIFTYWK37400CE', 'BANKNIFTYWK37400PE', 'BANKNIFTYWK37500CE',\n",
       "       'BANKNIFTYWK37500PE', 'BANKNIFTYWK37600CE', 'BANKNIFTYWK37600PE',\n",
       "       'BANKNIFTYWK37700CE', 'BANKNIFTYWK37700PE', 'BANKNIFTYWK37800CE',\n",
       "       'BANKNIFTYWK37800PE', 'BANKNIFTYWK37900CE', 'BANKNIFTYWK37900PE',\n",
       "       'BANKNIFTYWK38000CE', 'BANKNIFTYWK38000PE', 'BANKNIFTYWK38100CE',\n",
       "       'BANKNIFTYWK38100PE', 'BANKNIFTYWK38200CE', 'BANKNIFTYWK38200PE',\n",
       "       'BANKNIFTYWK38300CE', 'BANKNIFTYWK38300PE', 'BANKNIFTYWK38400CE',\n",
       "       'BANKNIFTYWK38400PE', 'BANKNIFTYWK38500CE', 'BANKNIFTYWK38500PE',\n",
       "       'BANKNIFTYWK38600CE', 'BANKNIFTYWK38600PE', 'BANKNIFTYWK38700CE',\n",
       "       'BANKNIFTYWK38700PE', 'BANKNIFTYWK38800CE', 'BANKNIFTYWK38800PE',\n",
       "       'BANKNIFTYWK38900CE', 'BANKNIFTYWK38900PE', 'BANKNIFTYWK39000CE',\n",
       "       'BANKNIFTYWK39000PE', 'BANKNIFTYWK39100CE', 'BANKNIFTYWK39100PE',\n",
       "       'BANKNIFTYWK39200CE', 'BANKNIFTYWK39200PE', 'BANKNIFTYWK39300CE',\n",
       "       'BANKNIFTYWK39300PE', 'BANKNIFTYWK39400CE', 'BANKNIFTYWK39400PE',\n",
       "       'BANKNIFTYWK39500CE', 'BANKNIFTYWK39500PE', 'BANKNIFTYWK39600CE',\n",
       "       'BANKNIFTYWK39600PE', 'BANKNIFTYWK39700CE', 'BANKNIFTYWK39700PE',\n",
       "       'BANKNIFTYWK39800CE', 'BANKNIFTYWK39800PE', 'BANKNIFTYWK39900CE',\n",
       "       'BANKNIFTYWK39900PE', 'BANKNIFTYWK40000CE', 'BANKNIFTYWK40000PE',\n",
       "       'BANKNIFTYWK40100CE', 'BANKNIFTYWK40100PE', 'BANKNIFTYWK40200CE',\n",
       "       'BANKNIFTYWK40200PE', 'BANKNIFTYWK40300CE', 'BANKNIFTYWK40300PE',\n",
       "       'BANKNIFTYWK40400CE', 'BANKNIFTYWK40400PE', 'BANKNIFTYWK40500CE',\n",
       "       'BANKNIFTYWK40500PE', 'BANKNIFTYWK40600CE', 'BANKNIFTYWK40600PE',\n",
       "       'BANKNIFTYWK40700CE', 'BANKNIFTYWK40700PE', 'BANKNIFTYWK40800CE',\n",
       "       'BANKNIFTYWK40800PE', 'BANKNIFTYWK40900CE', 'BANKNIFTYWK40900PE',\n",
       "       'BANKNIFTYWK41000CE', 'BANKNIFTYWK41000PE', 'BANKNIFTYWK41100CE',\n",
       "       'BANKNIFTYWK41100PE', 'BANKNIFTYWK41200CE', 'BANKNIFTYWK41200PE',\n",
       "       'BANKNIFTYWK41300CE', 'BANKNIFTYWK41300PE', 'BANKNIFTYWK41400CE',\n",
       "       'BANKNIFTYWK41400PE', 'BANKNIFTYWK41500CE', 'BANKNIFTYWK41500PE',\n",
       "       'BANKNIFTYWK41600CE', 'BANKNIFTYWK41600PE', 'BANKNIFTYWK41700CE',\n",
       "       'BANKNIFTYWK41700PE', 'BANKNIFTYWK41800CE', 'BANKNIFTYWK41800PE',\n",
       "       'BANKNIFTYWK41900CE', 'BANKNIFTYWK41900PE', 'BANKNIFTYWK42000CE',\n",
       "       'BANKNIFTYWK42000PE', 'BANKNIFTYWK42100CE', 'BANKNIFTYWK42100PE',\n",
       "       'BANKNIFTYWK42200CE', 'BANKNIFTYWK42300CE', 'BANKNIFTYWK42300PE',\n",
       "       'BANKNIFTYWK42400CE', 'BANKNIFTYWK42400PE', 'BANKNIFTYWK42500CE',\n",
       "       'BANKNIFTYWK42500PE', 'BANKNIFTYWK42600CE', 'FINNIFTY-FUT',\n",
       "       'INDIAVIX', 'NIFTY', 'NIFTY-FUT', 'NIFTYAUTO', 'NIFTYENERGY',\n",
       "       'NIFTYFINSERVICE', 'NIFTYFMCG', 'NIFTYINFRA', 'NIFTYIT',\n",
       "       'NIFTYMEDIA', 'NIFTYMETAL', 'NIFTYMIDCAP50', 'NIFTYPHARMA',\n",
       "       'NIFTYPSUBANK', 'NIFTYREALTY', 'NIFTYWK15750CE', 'NIFTYWK15750PE',\n",
       "       'NIFTYWK15800CE', 'NIFTYWK15800PE', 'NIFTYWK15850PE',\n",
       "       'NIFTYWK15900CE', 'NIFTYWK15900PE', 'NIFTYWK15950PE',\n",
       "       'NIFTYWK16000CE', 'NIFTYWK16000PE', 'NIFTYWK16050CE',\n",
       "       'NIFTYWK16050PE', 'NIFTYWK16100CE', 'NIFTYWK16100PE',\n",
       "       'NIFTYWK16150CE', 'NIFTYWK16150PE', 'NIFTYWK16200CE',\n",
       "       'NIFTYWK16200PE', 'NIFTYWK16250CE', 'NIFTYWK16250PE',\n",
       "       'NIFTYWK16300CE', 'NIFTYWK16300PE', 'NIFTYWK16350CE',\n",
       "       'NIFTYWK16350PE', 'NIFTYWK16400CE', 'NIFTYWK16400PE',\n",
       "       'NIFTYWK16450CE', 'NIFTYWK16450PE', 'NIFTYWK16500CE',\n",
       "       'NIFTYWK16500PE', 'NIFTYWK16550CE', 'NIFTYWK16550PE',\n",
       "       'NIFTYWK16600CE', 'NIFTYWK16600PE', 'NIFTYWK16650CE',\n",
       "       'NIFTYWK16650PE', 'NIFTYWK16700CE', 'NIFTYWK16700PE',\n",
       "       'NIFTYWK16750CE', 'NIFTYWK16750PE', 'NIFTYWK16800CE',\n",
       "       'NIFTYWK16800PE', 'NIFTYWK16850CE', 'NIFTYWK16850PE',\n",
       "       'NIFTYWK16900CE', 'NIFTYWK16900PE', 'NIFTYWK16950CE',\n",
       "       'NIFTYWK16950PE', 'NIFTYWK17000CE', 'NIFTYWK17000PE',\n",
       "       'NIFTYWK17050CE', 'NIFTYWK17050PE', 'NIFTYWK17100CE',\n",
       "       'NIFTYWK17100PE', 'NIFTYWK17150CE', 'NIFTYWK17150PE',\n",
       "       'NIFTYWK17200CE', 'NIFTYWK17200PE', 'NIFTYWK17250CE',\n",
       "       'NIFTYWK17250PE', 'NIFTYWK17300CE', 'NIFTYWK17300PE',\n",
       "       'NIFTYWK17350CE', 'NIFTYWK17350PE', 'NIFTYWK17400CE',\n",
       "       'NIFTYWK17400PE', 'NIFTYWK17450CE', 'NIFTYWK17450PE',\n",
       "       'NIFTYWK17500CE', 'NIFTYWK17500PE', 'NIFTYWK17550CE',\n",
       "       'NIFTYWK17550PE', 'NIFTYWK17600CE', 'NIFTYWK17600PE',\n",
       "       'NIFTYWK17650CE', 'NIFTYWK17650PE', 'NIFTYWK17700CE',\n",
       "       'NIFTYWK17700PE', 'NIFTYWK17750CE', 'NIFTYWK17750PE',\n",
       "       'NIFTYWK17800CE', 'NIFTYWK17800PE', 'NIFTYWK17850CE',\n",
       "       'NIFTYWK17850PE', 'NIFTYWK17900CE', 'NIFTYWK17900PE',\n",
       "       'NIFTYWK17950CE', 'NIFTYWK17950PE', 'NIFTYWK18000CE',\n",
       "       'NIFTYWK18000PE', 'NIFTYWK18050CE', 'NIFTYWK18050PE',\n",
       "       'NIFTYWK18100CE', 'NIFTYWK18100PE', 'NIFTYWK18150CE',\n",
       "       'NIFTYWK18150PE', 'NIFTYWK18200CE', 'NIFTYWK18200PE',\n",
       "       'NIFTYWK18250CE', 'NIFTYWK18250PE', 'NIFTYWK18300CE',\n",
       "       'NIFTYWK18300PE', 'NIFTYWK18350CE', 'NIFTYWK18350PE',\n",
       "       'NIFTYWK18400CE', 'NIFTYWK18400PE', 'NIFTYWK18450CE',\n",
       "       'NIFTYWK18450PE', 'NIFTYWK18500CE', 'NIFTYWK18500PE',\n",
       "       'NIFTYWK18550CE', 'NIFTYWK18550PE', 'NIFTYWK18600CE',\n",
       "       'NIFTYWK18600PE', 'NIFTYWK18650CE', 'NIFTYWK18650PE',\n",
       "       'NIFTYWK18700CE', 'NIFTYWK18700PE', 'NIFTYWK18750CE',\n",
       "       'NIFTYWK18750PE', 'NIFTYWK18800CE', 'NIFTYWK18800PE',\n",
       "       'NIFTYWK18850CE', 'NIFTYWK18850PE', 'NIFTYWK18900CE',\n",
       "       'NIFTYWK18900PE', 'NIFTYWK18950CE', 'NIFTYWK18950PE',\n",
       "       'NIFTYWK19000CE', 'NIFTYWK19000PE', 'NIFTYWK19050CE',\n",
       "       'NIFTYWK19100CE', 'NIFTYWK19100PE', 'NIFTYWK19150CE',\n",
       "       'NIFTYWK19200CE', 'NIFTYWK19200PE', 'NIFTYWK19250CE',\n",
       "       'NIFTYWK19250PE', 'NIFTYWK19300CE', 'NIFTYWK19300PE',\n",
       "       'NIFTYWK19350CE', 'NIFTYWK19400CE', 'NIFTYWK19400PE',\n",
       "       'NIFTYWK19450CE', 'NIFTYWK19450PE', 'NIFTYWK19500CE',\n",
       "       'NIFTYWK19500PE', 'NIFTYWK19550CE', 'NIFTYWK19600CE',\n",
       "       'NIFTYWK19600PE', 'NIFTYWK19650CE', 'USDINR-I'], dtype=object)"
      ]
     },
     "execution_count": 350,
     "metadata": {},
     "output_type": "execute_result"
    }
   ],
   "source": [
    "ticker_list=df['Ticker'].unique()\n",
    "ticker_list"
   ]
  },
  {
   "cell_type": "code",
   "execution_count": 206,
   "id": "19a81b86-4381-4559-acb1-22197433518e",
   "metadata": {},
   "outputs": [],
   "source": [
    "def resampler(df,time):\n",
    "    newdf=pd.DataFrame()\n",
    "    newdf['Open']=df.Open.resample(time).first()\n",
    "    newdf['Close']=df.Close.resample(time).last()\n",
    "    newdf['High']=df.High.resample(time).max()\n",
    "    newdf['Low']=df.Low.resample(time).min()\n",
    "    newdf['Tick_Volume']=df['Tick Volume'].resample(time).sum()\n",
    "    newdf['Volume']=df.Volume.resample(time).sum()\n",
    "    newdf.dropna(axis=0,inplace=True)\n",
    "\n",
    "    \n",
    "    \n",
    "    return newdf"
   ]
  },
  {
   "cell_type": "code",
   "execution_count": 345,
   "id": "e3c83f8c-fc82-48d8-a64f-51c4975d938e",
   "metadata": {},
   "outputs": [],
   "source": [
    "def predf(datadf):\n",
    "    datadf.set_index('Date',inplace=True)\n",
    "    datadf=resampler(datadf,'10min')\n",
    "    supertrend=Supertrend(datadf,10,1)\n",
    "    datadf=datadf.join(supertrend)\n",
    "    datadf['rsi']=rsi(datadf.Close,window=8,fillna=True)\n",
    "    return datadf"
   ]
  },
  {
   "cell_type": "code",
   "execution_count": 341,
   "id": "dad6018f-5bc3-42f7-b412-309447b406bb",
   "metadata": {},
   "outputs": [],
   "source": [
    "# niftyspot.to_csv('test.csv')"
   ]
  },
  {
   "cell_type": "code",
   "execution_count": 371,
   "id": "af1a5735-66a2-46b8-8004-79e6676ee6be",
   "metadata": {
    "scrolled": true,
    "tags": []
   },
   "outputs": [],
   "source": [
    "def bt(df):\n",
    "    niftyspot=df.loc[df.Ticker=='NIFTY']\n",
    "    niftyspot=predf(niftyspot)\n",
    "    cepos=0\n",
    "    pepos=0\n",
    "    csp=0.0\n",
    "    ccp=0.0\n",
    "    psp=0.0\n",
    "    pcp=0.0\n",
    "    cgl=0.0\n",
    "    pgl=0.0\n",
    "    pnl=[]\n",
    "    pnl_dict = defaultdict(list)\n",
    "    for i in niftyspot.index:\n",
    "        if (i.hour>10)  :\n",
    "            spot=niftyspot.Close[i]\n",
    "            atm=50 * round(int(spot)/50)\n",
    "            itm_ce=atm-50\n",
    "            itm_pe=atm+50\n",
    "            cedf=df.loc[df.Ticker==f'NIFTYWK{itm_ce}CE']\n",
    "            cedf=predf(cedf)\n",
    "\n",
    "            pedf=df.loc[df.Ticker==f'NIFTYWK{itm_pe}PE']\n",
    "            pedf=predf(pedf)\n",
    "\n",
    "            #############\n",
    "            if (cepos==0) & (i.hour<15):\n",
    "                if (cedf.Supertrend[i]==False) & (cedf.rsi[i]<50):\n",
    "                    cepos=1\n",
    "                    cpositiondf=cedf.copy()\n",
    "                    cpostionstrike=itm_ce\n",
    "                    csp=cedf.Close[i]\n",
    "       \n",
    "                    print(f'DatetTime {i}, Spot:{spot}, atm:{atm} ITM CE:{itm_ce}--> Selling Call @ {cedf.Close[i]}')\n",
    "            elif cepos==1:\n",
    "                if (cpositiondf.Supertrend[i]==True) | (cpositiondf.rsi[i]>50) | (i.hour==15):\n",
    "                    cepos=0\n",
    "                    ccp=cpositiondf.Close[i]\n",
    "                    cgl=csp-ccp\n",
    "                    pnl.append(cgl)\n",
    "                    pnl_dict['Date'].append(i)\n",
    "                    pnl_dict['PNL'].append(cgl)\n",
    "                    print(f'DatetTime {i}, Spot:{spot}, atm:{atm} ITM CE:{cpostionstrike}--> Covering Call @ {cpositiondf.Close[i]}')\n",
    "                else:\n",
    "                    print(f'In CE {cpostionstrike} position and no Cover triggered')\n",
    "                    pass\n",
    "\n",
    "            if (pepos==0) & (i.hour<15):       \n",
    "                if (pedf.Supertrend[i]==False) & (pedf.rsi[i]<50):\n",
    "                    pepos=1\n",
    "                    ppositiondf=pedf.copy()\n",
    "                    ppostionstrike=itm_pe\n",
    "                    psp=pedf.Close[i]\n",
    "                    print(f'DatetTime {i}, Spot:{spot}, atm:{atm} ITM PE:{itm_pe}--> Selling Put @ {pedf.Close[i]}')\n",
    "            elif pepos==1:\n",
    "                if (ppositiondf.Supertrend[i]==True) | (ppositiondf.rsi[i]>50) | (i.hour==15):\n",
    "                    pepos=0\n",
    "                    pcp=ppositiondf.Close[i]\n",
    "                    pgl=psp-pcp\n",
    "                    pnl.append(pgl)\n",
    "                    pnl_dict['Date'].append(i)\n",
    "                    pnl_dict['PNL'].append(pgl)\n",
    "                    print(f'DatetTime {i}, Spot:{spot}, atm:{atm} ITM PE:{ppostionstrike}--> Covering PE @ {ppositiondf.Close[i]}')\n",
    "                else:\n",
    "                    print(f'In PE {ppostionstrike} position and no Cover triggered')\n",
    "                    pass\n",
    "    return pnl,pnl_dict\n",
    "\n",
    "    # print(f'Spot:{spot}, atm:{atm} ITM CE:{itm_ce} ITM PE:{itm_pe}')\n"
   ]
  },
  {
   "cell_type": "code",
   "execution_count": 452,
   "id": "08e60aa5-c07f-4737-820c-28e947769eed",
   "metadata": {},
   "outputs": [],
   "source": [
    "def matrix(pnl,df):\n",
    "    tmp=df.loc[df.Ticker=='NIFTY'].reset_index()\n",
    "    start=str(tmp['Date'].iloc[0]).split(' ')[0]\n",
    "    end=str(tmp['Date'].iloc[-1]).split(' ')[0]\n",
    "    matrix_dict = defaultdict(list)\n",
    "    nw=0\n",
    "    nl=0\n",
    "    tg=0\n",
    "    tl=0\n",
    "    for i in range(len(pnl)):\n",
    "        if pnl[i]>0:\n",
    "            nw+=1\n",
    "            tg+=pnl[i]\n",
    "        else:\n",
    "            nl+=1\n",
    "            tl+=pnl[i]\n",
    "    maxprofit=max(pnl)\n",
    "    maxloss=min(pnl)\n",
    "    totalT=len(pnl)\n",
    "\n",
    "    totalPL=sum(pnl)\n",
    "    plR=abs((tg/nw)/(tl/nl))\n",
    "\n",
    "    winR=(nw/totalT)*100\n",
    "\n",
    "    # print(f'Total Number of Trades {totalT}')\n",
    "    # print(f'Number of winners {nw}')\n",
    "    # print(f'Number of Loosers {nl}')\n",
    "    # print(f'Maximum profit per trade {maxprofit}')\n",
    "    # print(f'maximul loss per trade {maxloss}')\n",
    "    # print(f'Total Profit or Loss {totalPL} points')\n",
    "    # print(f'Total Profit/Loss in Rs./ {round(totalPL*50,2)}')\n",
    "    # print(f'Win Ratio {winR} %')\n",
    "    # print(f'Profit/Loss Ratio {plR}')\n",
    "    matrix_dict['Start'].append(start)\n",
    "    matrix_dict['End'].append(end)\n",
    "    matrix_dict['TotalTrades'].append(totalT)\n",
    "    matrix_dict['Winers'].append(nw)\n",
    "    matrix_dict['Loosers'].append(nl)\n",
    "    matrix_dict['MaxProfit'].append(maxprofit)\n",
    "    matrix_dict['MaxLoss'].append(maxloss)\n",
    "    matrix_dict['WinRatio'].append(winR)\n",
    "    matrix_dict['ProfitLossRatio'].append(plR)\n",
    "    matrix_dict['TotalProfitPoints'].append(totalPL)\n",
    "    matrix_dict['TotalProfitsRs'].append(round(totalPL*50,2))\n",
    "    \n",
    "    matrix= pd.DataFrame(matrix_dict)\n",
    "    return matrix\n",
    "        "
   ]
  },
  {
   "cell_type": "code",
   "execution_count": 473,
   "id": "ad58115f-f52c-482f-ab62-976dacddb1ac",
   "metadata": {
    "scrolled": true,
    "tags": []
   },
   "outputs": [
    {
     "name": "stdout",
     "output_type": "stream",
     "text": [
      "BackTesting from history file: importdatafiles/01-07--OCT-2021-WEEKLY-expiry_data__VEGE_NF_AND_BNF_Options.csv\n",
      "DatetTime 2021-10-01 11:40:00, Spot:17491.3, atm:17500 ITM CE:17450--> Selling Call @ 163.0\n",
      "In CE 17450 position and no Cover triggered\n",
      "In CE 17450 position and no Cover triggered\n",
      "In CE 17450 position and no Cover triggered\n",
      "In CE 17450 position and no Cover triggered\n",
      "In CE 17450 position and no Cover triggered\n",
      "In CE 17450 position and no Cover triggered\n",
      "DatetTime 2021-10-01 12:50:00, Spot:17498.0, atm:17500 ITM CE:17450--> Covering Call @ 167.9\n",
      "DatetTime 2021-10-01 12:50:00, Spot:17498.0, atm:17500 ITM PE:17550--> Selling Put @ 168.5\n",
      "In PE 17550 position and no Cover triggered\n",
      "In PE 17550 position and no Cover triggered\n",
      "In PE 17550 position and no Cover triggered\n",
      "In PE 17550 position and no Cover triggered\n",
      "In PE 17550 position and no Cover triggered\n",
      "In PE 17550 position and no Cover triggered\n",
      "In PE 17550 position and no Cover triggered\n",
      "In PE 17550 position and no Cover triggered\n",
      "In PE 17550 position and no Cover triggered\n",
      "In PE 17550 position and no Cover triggered\n",
      "In PE 17550 position and no Cover triggered\n",
      "In PE 17550 position and no Cover triggered\n",
      "DatetTime 2021-10-01 15:00:00, Spot:17548.2, atm:17550 ITM PE:17550--> Covering PE @ 128.4\n",
      "DatetTime 2021-10-04 11:00:00, Spot:17734.5, atm:17750 ITM PE:17800--> Selling Put @ 144.9\n",
      "In PE 17800 position and no Cover triggered\n",
      "In PE 17800 position and no Cover triggered\n",
      "In PE 17800 position and no Cover triggered\n",
      "DatetTime 2021-10-04 11:40:00, Spot:17691.8, atm:17700 ITM CE:17650--> Selling Call @ 132.0\n",
      "DatetTime 2021-10-04 11:40:00, Spot:17691.8, atm:17700 ITM PE:17800--> Covering PE @ 163.15\n",
      "In CE 17650 position and no Cover triggered\n",
      "In CE 17650 position and no Cover triggered\n",
      "In CE 17650 position and no Cover triggered\n",
      "In CE 17650 position and no Cover triggered\n",
      "In CE 17650 position and no Cover triggered\n",
      "In CE 17650 position and no Cover triggered\n",
      "In CE 17650 position and no Cover triggered\n",
      "In CE 17650 position and no Cover triggered\n",
      "DatetTime 2021-10-04 13:10:00, Spot:17684.3, atm:17700 ITM CE:17650--> Covering Call @ 126.0\n",
      "DatetTime 2021-10-04 13:10:00, Spot:17684.3, atm:17700 ITM PE:17750--> Selling Put @ 130.0\n",
      "In PE 17750 position and no Cover triggered\n",
      "In PE 17750 position and no Cover triggered\n",
      "In PE 17750 position and no Cover triggered\n",
      "In PE 17750 position and no Cover triggered\n",
      "In PE 17750 position and no Cover triggered\n",
      "In PE 17750 position and no Cover triggered\n",
      "In PE 17750 position and no Cover triggered\n",
      "DatetTime 2021-10-04 14:30:00, Spot:17681.4, atm:17700 ITM CE:17650--> Selling Call @ 121.35\n",
      "DatetTime 2021-10-04 14:30:00, Spot:17681.4, atm:17700 ITM PE:17750--> Covering PE @ 130.9\n",
      "DatetTime 2021-10-04 14:40:00, Spot:17698.5, atm:17700 ITM CE:17650--> Covering Call @ 131.35\n",
      "DatetTime 2021-10-05 11:10:00, Spot:17691.2, atm:17700 ITM PE:17750--> Selling Put @ 120.8\n",
      "In PE 17750 position and no Cover triggered\n",
      "In PE 17750 position and no Cover triggered\n",
      "In PE 17750 position and no Cover triggered\n",
      "In PE 17750 position and no Cover triggered\n",
      "In PE 17750 position and no Cover triggered\n",
      "In PE 17750 position and no Cover triggered\n",
      "In PE 17750 position and no Cover triggered\n",
      "In PE 17750 position and no Cover triggered\n",
      "In PE 17750 position and no Cover triggered\n",
      "In PE 17750 position and no Cover triggered\n",
      "In PE 17750 position and no Cover triggered\n",
      "In PE 17750 position and no Cover triggered\n",
      "In PE 17750 position and no Cover triggered\n",
      "In PE 17750 position and no Cover triggered\n",
      "In PE 17750 position and no Cover triggered\n",
      "In PE 17750 position and no Cover triggered\n",
      "In PE 17750 position and no Cover triggered\n",
      "In PE 17750 position and no Cover triggered\n",
      "In PE 17750 position and no Cover triggered\n",
      "In PE 17750 position and no Cover triggered\n",
      "In PE 17750 position and no Cover triggered\n",
      "In PE 17750 position and no Cover triggered\n",
      "DatetTime 2021-10-05 15:00:00, Spot:17826.0, atm:17850 ITM PE:17750--> Covering PE @ 43.95\n",
      "DatetTime 2021-10-06 11:10:00, Spot:17834.0, atm:17850 ITM PE:17900--> Selling Put @ 108.1\n",
      "In PE 17900 position and no Cover triggered\n",
      "In PE 17900 position and no Cover triggered\n",
      "In PE 17900 position and no Cover triggered\n",
      "In PE 17900 position and no Cover triggered\n",
      "In PE 17900 position and no Cover triggered\n",
      "In PE 17900 position and no Cover triggered\n",
      "In PE 17900 position and no Cover triggered\n",
      "DatetTime 2021-10-06 12:30:00, Spot:17832.5, atm:17850 ITM CE:17800--> Selling Call @ 75.0\n",
      "DatetTime 2021-10-06 12:30:00, Spot:17832.5, atm:17850 ITM PE:17900--> Covering PE @ 107.05\n",
      "In CE 17800 position and no Cover triggered\n",
      "In CE 17800 position and no Cover triggered\n",
      "In CE 17800 position and no Cover triggered\n",
      "In CE 17800 position and no Cover triggered\n",
      "In CE 17800 position and no Cover triggered\n",
      "In CE 17800 position and no Cover triggered\n",
      "In CE 17800 position and no Cover triggered\n",
      "In CE 17800 position and no Cover triggered\n",
      "In CE 17800 position and no Cover triggered\n",
      "In CE 17800 position and no Cover triggered\n",
      "In CE 17800 position and no Cover triggered\n",
      "In CE 17800 position and no Cover triggered\n",
      "In CE 17800 position and no Cover triggered\n",
      "In CE 17800 position and no Cover triggered\n",
      "DatetTime 2021-10-06 15:00:00, Spot:17671.0, atm:17650 ITM CE:17800--> Covering Call @ 16.85\n",
      "DatetTime 2021-10-07 11:00:00, Spot:17799.6, atm:17800 ITM PE:17850--> Selling Put @ 58.25\n",
      "In PE 17850 position and no Cover triggered\n",
      "In PE 17850 position and no Cover triggered\n",
      "In PE 17850 position and no Cover triggered\n",
      "In PE 17850 position and no Cover triggered\n",
      "In PE 17850 position and no Cover triggered\n",
      "In PE 17850 position and no Cover triggered\n",
      "In PE 17850 position and no Cover triggered\n",
      "In PE 17850 position and no Cover triggered\n",
      "In PE 17850 position and no Cover triggered\n",
      "In PE 17850 position and no Cover triggered\n",
      "In PE 17850 position and no Cover triggered\n",
      "In PE 17850 position and no Cover triggered\n",
      "In PE 17850 position and no Cover triggered\n",
      "In PE 17850 position and no Cover triggered\n",
      "DatetTime 2021-10-07 13:30:00, Spot:17827.1, atm:17850 ITM CE:17800--> Selling Call @ 44.85\n",
      "In PE 17850 position and no Cover triggered\n",
      "In CE 17800 position and no Cover triggered\n",
      "In PE 17850 position and no Cover triggered\n",
      "DatetTime 2021-10-07 13:50:00, Spot:17847.6, atm:17850 ITM CE:17800--> Covering Call @ 57.15\n",
      "In PE 17850 position and no Cover triggered\n",
      "DatetTime 2021-10-07 14:00:00, Spot:17840.7, atm:17850 ITM CE:17800--> Selling Call @ 51.5\n",
      "In PE 17850 position and no Cover triggered\n",
      "In CE 17800 position and no Cover triggered\n",
      "In PE 17850 position and no Cover triggered\n",
      "In CE 17800 position and no Cover triggered\n",
      "In PE 17850 position and no Cover triggered\n",
      "In CE 17800 position and no Cover triggered\n",
      "DatetTime 2021-10-07 14:30:00, Spot:17813.3, atm:17800 ITM PE:17850--> Covering PE @ 30.35\n",
      "In CE 17800 position and no Cover triggered\n",
      "In CE 17800 position and no Cover triggered\n",
      "DatetTime 2021-10-07 15:00:00, Spot:17795.8, atm:17800 ITM CE:17800--> Covering Call @ 2.85\n",
      "BackTesting from history file: importdatafiles/02-08-JULY- -W-ExpiryWEEKdata_2021_NF_BNF_options_vege.csv\n",
      "DatetTime 2021-07-02 11:50:00, Spot:15679.2, atm:15700 ITM PE:15750--> Selling Put @ 126.4\n",
      "In PE 15750 position and no Cover triggered\n",
      "In PE 15750 position and no Cover triggered\n",
      "In PE 15750 position and no Cover triggered\n",
      "In PE 15750 position and no Cover triggered\n",
      "In PE 15750 position and no Cover triggered\n",
      "In PE 15750 position and no Cover triggered\n",
      "In PE 15750 position and no Cover triggered\n",
      "DatetTime 2021-07-02 13:10:00, Spot:15684.5, atm:15700 ITM PE:15750--> Covering PE @ 113.95\n",
      "DatetTime 2021-07-02 13:40:00, Spot:15685.5, atm:15700 ITM CE:15650--> Selling Call @ 98.75\n",
      "In CE 15650 position and no Cover triggered\n",
      "In CE 15650 position and no Cover triggered\n",
      "In CE 15650 position and no Cover triggered\n",
      "DatetTime 2021-07-02 14:20:00, Spot:15706.4, atm:15700 ITM CE:15650--> Covering Call @ 110.55\n",
      "DatetTime 2021-07-02 14:20:00, Spot:15706.4, atm:15700 ITM PE:15750--> Selling Put @ 103.6\n",
      "In PE 15750 position and no Cover triggered\n",
      "In PE 15750 position and no Cover triggered\n",
      "In PE 15750 position and no Cover triggered\n",
      "DatetTime 2021-07-02 15:00:00, Spot:15711.8, atm:15700 ITM PE:15750--> Covering PE @ 94.35\n",
      "DatetTime 2021-07-05 11:00:00, Spot:15826.1, atm:15850 ITM PE:15900--> Selling Put @ 109.75\n",
      "In PE 15900 position and no Cover triggered\n",
      "In PE 15900 position and no Cover triggered\n",
      "In PE 15900 position and no Cover triggered\n",
      "In PE 15900 position and no Cover triggered\n",
      "In PE 15900 position and no Cover triggered\n",
      "In PE 15900 position and no Cover triggered\n",
      "DatetTime 2021-07-05 12:10:00, Spot:15810.4, atm:15800 ITM CE:15750--> Selling Call @ 98.75\n",
      "DatetTime 2021-07-05 12:10:00, Spot:15810.4, atm:15800 ITM PE:15900--> Covering PE @ 115.7\n",
      "In CE 15750 position and no Cover triggered\n",
      "In CE 15750 position and no Cover triggered\n",
      "In CE 15750 position and no Cover triggered\n",
      "In CE 15750 position and no Cover triggered\n",
      "In CE 15750 position and no Cover triggered\n",
      "DatetTime 2021-07-05 13:10:00, Spot:15821.8, atm:15800 ITM CE:15750--> Covering Call @ 100.45\n",
      "DatetTime 2021-07-05 13:20:00, Spot:15815.5, atm:15800 ITM CE:15750--> Selling Call @ 97.75\n",
      "DatetTime 2021-07-05 13:30:00, Spot:15821.0, atm:15800 ITM CE:15750--> Covering Call @ 102.75\n",
      "DatetTime 2021-07-05 13:30:00, Spot:15821.0, atm:15800 ITM PE:15850--> Selling Put @ 77.05\n",
      "In PE 15850 position and no Cover triggered\n",
      "In PE 15850 position and no Cover triggered\n",
      "In PE 15850 position and no Cover triggered\n",
      "In PE 15850 position and no Cover triggered\n",
      "DatetTime 2021-07-05 14:20:00, Spot:15811.7, atm:15800 ITM CE:15750--> Selling Call @ 99.15\n",
      "DatetTime 2021-07-05 14:20:00, Spot:15811.7, atm:15800 ITM PE:15850--> Covering PE @ 80.3\n",
      "DatetTime 2021-07-05 14:30:00, Spot:15827.1, atm:15850 ITM CE:15750--> Covering Call @ 105.4\n",
      "DatetTime 2021-07-06 11:00:00, Spot:15879.1, atm:15900 ITM PE:15950--> Selling Put @ 102.3\n",
      "In PE 15950 position and no Cover triggered\n",
      "In PE 15950 position and no Cover triggered\n",
      "In PE 15950 position and no Cover triggered\n",
      "In PE 15950 position and no Cover triggered\n",
      "In PE 15950 position and no Cover triggered\n",
      "In PE 15950 position and no Cover triggered\n",
      "In PE 15950 position and no Cover triggered\n",
      "In PE 15950 position and no Cover triggered\n",
      "DatetTime 2021-07-06 12:30:00, Spot:15882.1, atm:15900 ITM PE:15950--> Covering PE @ 92.05\n",
      "DatetTime 2021-07-06 13:10:00, Spot:15883.3, atm:15900 ITM CE:15850--> Selling Call @ 72.6\n",
      "DatetTime 2021-07-06 13:20:00, Spot:15897.7, atm:15900 ITM CE:15850--> Covering Call @ 77.0\n",
      "DatetTime 2021-07-06 13:30:00, Spot:15897.7, atm:15900 ITM PE:15950--> Selling Put @ 87.3\n",
      "In PE 15950 position and no Cover triggered\n",
      "In PE 15950 position and no Cover triggered\n",
      "In PE 15950 position and no Cover triggered\n",
      "DatetTime 2021-07-06 14:10:00, Spot:15873.5, atm:15850 ITM CE:15800--> Selling Call @ 105.25\n",
      "DatetTime 2021-07-06 14:10:00, Spot:15873.5, atm:15850 ITM PE:15950--> Covering PE @ 96.8\n",
      "In CE 15800 position and no Cover triggered\n",
      "In CE 15800 position and no Cover triggered\n",
      "In CE 15800 position and no Cover triggered\n",
      "In CE 15800 position and no Cover triggered\n",
      "DatetTime 2021-07-06 15:00:00, Spot:15822.9, atm:15800 ITM CE:15800--> Covering Call @ 64.2\n",
      "DatetTime 2021-07-07 11:00:00, Spot:15819.1, atm:15800 ITM CE:15750--> Selling Call @ 87.1\n",
      "DatetTime 2021-07-07 11:10:00, Spot:15829.7, atm:15850 ITM CE:15750--> Covering Call @ 96.2\n",
      "DatetTime 2021-07-07 11:10:00, Spot:15829.7, atm:15850 ITM PE:15900--> Selling Put @ 92.0\n",
      "In PE 15900 position and no Cover triggered\n",
      "In PE 15900 position and no Cover triggered\n",
      "In PE 15900 position and no Cover triggered\n",
      "In PE 15900 position and no Cover triggered\n",
      "In PE 15900 position and no Cover triggered\n",
      "In PE 15900 position and no Cover triggered\n",
      "In PE 15900 position and no Cover triggered\n",
      "In PE 15900 position and no Cover triggered\n",
      "In PE 15900 position and no Cover triggered\n",
      "DatetTime 2021-07-07 12:50:00, Spot:15822.1, atm:15800 ITM PE:15900--> Covering PE @ 94.0\n",
      "DatetTime 2021-07-07 13:00:00, Spot:15826.6, atm:15850 ITM PE:15900--> Selling Put @ 90.25\n",
      "In PE 15900 position and no Cover triggered\n",
      "In PE 15900 position and no Cover triggered\n",
      "DatetTime 2021-07-07 13:30:00, Spot:15816.5, atm:15800 ITM CE:15750--> Selling Call @ 86.0\n",
      "DatetTime 2021-07-07 13:30:00, Spot:15816.5, atm:15800 ITM PE:15900--> Covering PE @ 100.25\n",
      "DatetTime 2021-07-07 13:40:00, Spot:15834.6, atm:15850 ITM CE:15750--> Covering Call @ 95.45\n",
      "DatetTime 2021-07-07 13:50:00, Spot:15845.7, atm:15850 ITM PE:15900--> Selling Put @ 75.95\n",
      "In PE 15900 position and no Cover triggered\n",
      "In PE 15900 position and no Cover triggered\n",
      "In PE 15900 position and no Cover triggered\n",
      "In PE 15900 position and no Cover triggered\n",
      "In PE 15900 position and no Cover triggered\n",
      "DatetTime 2021-07-07 14:50:00, Spot:15842.0, atm:15850 ITM CE:15800--> Selling Call @ 64.9\n",
      "In PE 15900 position and no Cover triggered\n",
      "DatetTime 2021-07-07 15:00:00, Spot:15876.8, atm:15900 ITM CE:15800--> Covering Call @ 88.55\n",
      "DatetTime 2021-07-07 15:00:00, Spot:15876.8, atm:15900 ITM PE:15900--> Covering PE @ 53.0\n",
      "DatetTime 2021-07-08 11:00:00, Spot:15835.0, atm:15850 ITM CE:15800--> Selling Call @ 49.5\n",
      "In CE 15800 position and no Cover triggered\n",
      "In CE 15800 position and no Cover triggered\n",
      "In CE 15800 position and no Cover triggered\n",
      "In CE 15800 position and no Cover triggered\n",
      "In CE 15800 position and no Cover triggered\n",
      "In CE 15800 position and no Cover triggered\n",
      "In CE 15800 position and no Cover triggered\n",
      "In CE 15800 position and no Cover triggered\n",
      "In CE 15800 position and no Cover triggered\n",
      "In CE 15800 position and no Cover triggered\n",
      "In CE 15800 position and no Cover triggered\n",
      "In CE 15800 position and no Cover triggered\n",
      "In CE 15800 position and no Cover triggered\n",
      "In CE 15800 position and no Cover triggered\n",
      "In CE 15800 position and no Cover triggered\n",
      "In CE 15800 position and no Cover triggered\n",
      "In CE 15800 position and no Cover triggered\n",
      "In CE 15800 position and no Cover triggered\n",
      "In CE 15800 position and no Cover triggered\n",
      "In CE 15800 position and no Cover triggered\n",
      "In CE 15800 position and no Cover triggered\n",
      "In CE 15800 position and no Cover triggered\n",
      "In CE 15800 position and no Cover triggered\n",
      "DatetTime 2021-07-08 15:00:00, Spot:15714.2, atm:15700 ITM CE:15800--> Covering Call @ 0.15\n",
      "BackTesting from history file: importdatafiles/02-09--SEP-2021-weekly-expiry_data__VEGE_NF_AND_BNF_Options.csv\n",
      "DatetTime 2021-09-03 11:30:00, Spot:17216.0, atm:17200 ITM CE:17150--> Selling Call @ 149.95\n",
      "In CE 17150 position and no Cover triggered\n",
      "DatetTime 2021-09-03 11:50:00, Spot:17262.4, atm:17250 ITM CE:17150--> Covering Call @ 178.35\n",
      "DatetTime 2021-09-03 11:50:00, Spot:17262.4, atm:17250 ITM PE:17300--> Selling Put @ 121.9\n",
      "In PE 17300 position and no Cover triggered\n",
      "In PE 17300 position and no Cover triggered\n",
      "In PE 17300 position and no Cover triggered\n",
      "In PE 17300 position and no Cover triggered\n",
      "In PE 17300 position and no Cover triggered\n",
      "In PE 17300 position and no Cover triggered\n",
      "In PE 17300 position and no Cover triggered\n",
      "In PE 17300 position and no Cover triggered\n",
      "In PE 17300 position and no Cover triggered\n",
      "In PE 17300 position and no Cover triggered\n",
      "In PE 17300 position and no Cover triggered\n",
      "In PE 17300 position and no Cover triggered\n",
      "DatetTime 2021-09-03 14:00:00, Spot:17254.3, atm:17250 ITM CE:17200--> Selling Call @ 141.3\n",
      "DatetTime 2021-09-03 14:00:00, Spot:17254.3, atm:17250 ITM PE:17300--> Covering PE @ 127.05\n",
      "In CE 17200 position and no Cover triggered\n",
      "DatetTime 2021-09-03 14:20:00, Spot:17282.5, atm:17300 ITM CE:17200--> Covering Call @ 156.2\n",
      "DatetTime 2021-09-03 14:20:00, Spot:17282.5, atm:17300 ITM PE:17350--> Selling Put @ 136.85\n",
      "In PE 17350 position and no Cover triggered\n",
      "In PE 17350 position and no Cover triggered\n",
      "In PE 17350 position and no Cover triggered\n",
      "DatetTime 2021-09-03 15:00:00, Spot:17320.7, atm:17300 ITM PE:17350--> Covering PE @ 118.3\n",
      "DatetTime 2021-09-06 11:30:00, Spot:17349.0, atm:17350 ITM CE:17300--> Selling Call @ 126.35\n",
      "In CE 17300 position and no Cover triggered\n",
      "DatetTime 2021-09-06 11:50:00, Spot:17371.5, atm:17350 ITM CE:17300--> Covering Call @ 141.35\n",
      "DatetTime 2021-09-06 12:10:00, Spot:17366.4, atm:17350 ITM CE:17300--> Selling Call @ 135.55\n",
      "In CE 17300 position and no Cover triggered\n",
      "In CE 17300 position and no Cover triggered\n",
      "DatetTime 2021-09-06 12:40:00, Spot:17374.8, atm:17350 ITM CE:17300--> Covering Call @ 142.0\n",
      "DatetTime 2021-09-06 13:00:00, Spot:17388.6, atm:17400 ITM PE:17450--> Selling Put @ 121.35\n",
      "In PE 17450 position and no Cover triggered\n",
      "In PE 17450 position and no Cover triggered\n",
      "In PE 17450 position and no Cover triggered\n",
      "DatetTime 2021-09-06 13:40:00, Spot:17367.5, atm:17350 ITM CE:17300--> Selling Call @ 137.35\n",
      "DatetTime 2021-09-06 13:40:00, Spot:17367.5, atm:17350 ITM PE:17450--> Covering PE @ 133.8\n",
      "In CE 17300 position and no Cover triggered\n",
      "DatetTime 2021-09-06 14:00:00, Spot:17387.6, atm:17400 ITM CE:17300--> Covering Call @ 145.65\n",
      "DatetTime 2021-09-06 14:10:00, Spot:17377.0, atm:17400 ITM CE:17350--> Selling Call @ 110.05\n",
      "In CE 17350 position and no Cover triggered\n",
      "DatetTime 2021-09-06 14:30:00, Spot:17387.5, atm:17400 ITM CE:17350--> Covering Call @ 114.15\n",
      "DatetTime 2021-09-06 14:40:00, Spot:17362.7, atm:17350 ITM CE:17300--> Selling Call @ 134.8\n",
      "DatetTime 2021-09-06 14:50:00, Spot:17380.1, atm:17400 ITM CE:17300--> Covering Call @ 144.15\n",
      "DatetTime 2021-09-07 11:00:00, Spot:17326.1, atm:17350 ITM CE:17300--> Selling Call @ 91.35\n",
      "In CE 17300 position and no Cover triggered\n",
      "In CE 17300 position and no Cover triggered\n",
      "DatetTime 2021-09-07 11:20:00, Spot:17339.7, atm:17350 ITM PE:17400--> Selling Put @ 115.0\n",
      "In CE 17300 position and no Cover triggered\n",
      "In PE 17400 position and no Cover triggered\n",
      "In CE 17300 position and no Cover triggered\n",
      "DatetTime 2021-09-07 11:40:00, Spot:17318.0, atm:17300 ITM PE:17400--> Covering PE @ 120.65\n",
      "In CE 17300 position and no Cover triggered\n",
      "DatetTime 2021-09-07 11:50:00, Spot:17350.0, atm:17350 ITM PE:17400--> Selling Put @ 106.1\n",
      "DatetTime 2021-09-07 12:00:00, Spot:17372.8, atm:17350 ITM CE:17300--> Covering Call @ 113.5\n",
      "In PE 17400 position and no Cover triggered\n",
      "In PE 17400 position and no Cover triggered\n",
      "In PE 17400 position and no Cover triggered\n",
      "In PE 17400 position and no Cover triggered\n",
      "In PE 17400 position and no Cover triggered\n",
      "In PE 17400 position and no Cover triggered\n",
      "In PE 17400 position and no Cover triggered\n",
      "In PE 17400 position and no Cover triggered\n",
      "In PE 17400 position and no Cover triggered\n",
      "In PE 17400 position and no Cover triggered\n",
      "In PE 17400 position and no Cover triggered\n",
      "DatetTime 2021-09-07 13:50:00, Spot:17393.8, atm:17400 ITM CE:17350--> Selling Call @ 99.6\n",
      "In PE 17400 position and no Cover triggered\n",
      "DatetTime 2021-09-07 14:00:00, Spot:17413.2, atm:17400 ITM CE:17350--> Covering Call @ 108.35\n",
      "In PE 17400 position and no Cover triggered\n",
      "DatetTime 2021-09-07 14:10:00, Spot:17406.2, atm:17400 ITM CE:17350--> Selling Call @ 102.1\n",
      "In PE 17400 position and no Cover triggered\n",
      "In CE 17350 position and no Cover triggered\n",
      "In PE 17400 position and no Cover triggered\n",
      "In CE 17350 position and no Cover triggered\n",
      "In PE 17400 position and no Cover triggered\n",
      "In CE 17350 position and no Cover triggered\n",
      "DatetTime 2021-09-07 14:40:00, Spot:17368.8, atm:17350 ITM PE:17400--> Covering PE @ 82.35\n",
      "In CE 17350 position and no Cover triggered\n",
      "DatetTime 2021-09-07 15:00:00, Spot:17368.5, atm:17350 ITM CE:17350--> Covering Call @ 78.75\n",
      "DatetTime 2021-09-08 11:00:00, Spot:17365.0, atm:17350 ITM CE:17300--> Selling Call @ 101.1\n",
      "DatetTime 2021-09-08 11:00:00, Spot:17365.0, atm:17350 ITM PE:17400--> Selling Put @ 76.25\n",
      "In CE 17300 position and no Cover triggered\n",
      "In PE 17400 position and no Cover triggered\n",
      "In CE 17300 position and no Cover triggered\n",
      "In PE 17400 position and no Cover triggered\n",
      "In CE 17300 position and no Cover triggered\n",
      "In PE 17400 position and no Cover triggered\n",
      "DatetTime 2021-09-08 11:40:00, Spot:17362.9, atm:17350 ITM CE:17300--> Covering Call @ 102.25\n",
      "In PE 17400 position and no Cover triggered\n",
      "DatetTime 2021-09-08 11:50:00, Spot:17362.2, atm:17350 ITM CE:17300--> Selling Call @ 100.7\n",
      "In PE 17400 position and no Cover triggered\n",
      "DatetTime 2021-09-08 12:00:00, Spot:17367.7, atm:17350 ITM CE:17300--> Covering Call @ 102.4\n",
      "In PE 17400 position and no Cover triggered\n",
      "DatetTime 2021-09-08 12:10:00, Spot:17348.3, atm:17350 ITM CE:17300--> Selling Call @ 93.75\n",
      "DatetTime 2021-09-08 12:10:00, Spot:17348.3, atm:17350 ITM PE:17400--> Covering PE @ 80.7\n",
      "In CE 17300 position and no Cover triggered\n",
      "In CE 17300 position and no Cover triggered\n",
      "In CE 17300 position and no Cover triggered\n",
      "In CE 17300 position and no Cover triggered\n",
      "In CE 17300 position and no Cover triggered\n",
      "In CE 17300 position and no Cover triggered\n",
      "In CE 17300 position and no Cover triggered\n",
      "In CE 17300 position and no Cover triggered\n",
      "In CE 17300 position and no Cover triggered\n",
      "In CE 17300 position and no Cover triggered\n",
      "DatetTime 2021-09-08 14:00:00, Spot:17314.2, atm:17300 ITM CE:17300--> Covering Call @ 61.55\n",
      "DatetTime 2021-09-08 14:00:00, Spot:17314.2, atm:17300 ITM PE:17350--> Selling Put @ 68.65\n",
      "In PE 17350 position and no Cover triggered\n",
      "DatetTime 2021-09-08 14:20:00, Spot:17297.3, atm:17300 ITM CE:17250--> Selling Call @ 81.6\n",
      "DatetTime 2021-09-08 14:20:00, Spot:17297.3, atm:17300 ITM PE:17350--> Covering PE @ 78.0\n",
      "In CE 17250 position and no Cover triggered\n",
      "DatetTime 2021-09-08 14:30:00, Spot:17311.6, atm:17300 ITM PE:17350--> Selling Put @ 67.95\n",
      "DatetTime 2021-09-08 14:40:00, Spot:17319.5, atm:17300 ITM CE:17250--> Covering Call @ 94.9\n",
      "In PE 17350 position and no Cover triggered\n",
      "In PE 17350 position and no Cover triggered\n",
      "DatetTime 2021-09-08 15:00:00, Spot:17349.0, atm:17350 ITM PE:17350--> Covering PE @ 46.65\n",
      "DatetTime 2021-09-09 11:00:00, Spot:17355.7, atm:17350 ITM PE:17400--> Selling Put @ 60.05\n",
      "In PE 17400 position and no Cover triggered\n",
      "DatetTime 2021-09-09 11:20:00, Spot:17343.5, atm:17350 ITM CE:17300--> Selling Call @ 56.9\n",
      "In PE 17400 position and no Cover triggered\n",
      "In CE 17300 position and no Cover triggered\n",
      "In PE 17400 position and no Cover triggered\n",
      "In CE 17300 position and no Cover triggered\n",
      "In PE 17400 position and no Cover triggered\n",
      "DatetTime 2021-09-09 11:50:00, Spot:17357.3, atm:17350 ITM CE:17300--> Covering Call @ 64.9\n",
      "In PE 17400 position and no Cover triggered\n",
      "DatetTime 2021-09-09 12:00:00, Spot:17350.3, atm:17350 ITM CE:17300--> Selling Call @ 60.15\n",
      "In PE 17400 position and no Cover triggered\n",
      "In CE 17300 position and no Cover triggered\n",
      "DatetTime 2021-09-09 12:10:00, Spot:17344.1, atm:17350 ITM PE:17400--> Covering PE @ 68.8\n",
      "In CE 17300 position and no Cover triggered\n",
      "In CE 17300 position and no Cover triggered\n",
      "In CE 17300 position and no Cover triggered\n",
      "In CE 17300 position and no Cover triggered\n",
      "In CE 17300 position and no Cover triggered\n",
      "In CE 17300 position and no Cover triggered\n",
      "DatetTime 2021-09-09 13:20:00, Spot:17338.2, atm:17350 ITM CE:17300--> Covering Call @ 44.9\n",
      "DatetTime 2021-09-09 13:20:00, Spot:17338.2, atm:17350 ITM PE:17400--> Selling Put @ 68.8\n",
      "In PE 17400 position and no Cover triggered\n",
      "In PE 17400 position and no Cover triggered\n",
      "In PE 17400 position and no Cover triggered\n",
      "In PE 17400 position and no Cover triggered\n",
      "DatetTime 2021-09-09 14:10:00, Spot:17335.3, atm:17350 ITM CE:17300--> Selling Call @ 39.15\n",
      "DatetTime 2021-09-09 14:10:00, Spot:17335.3, atm:17350 ITM PE:17400--> Covering PE @ 69.8\n",
      "In CE 17300 position and no Cover triggered\n",
      "DatetTime 2021-09-09 14:20:00, Spot:17341.8, atm:17350 ITM PE:17400--> Selling Put @ 61.75\n",
      "In CE 17300 position and no Cover triggered\n",
      "DatetTime 2021-09-09 14:30:00, Spot:17329.2, atm:17350 ITM PE:17400--> Covering PE @ 74.15\n",
      "DatetTime 2021-09-09 14:40:00, Spot:17344.3, atm:17350 ITM CE:17300--> Covering Call @ 45.65\n",
      "DatetTime 2021-09-09 14:50:00, Spot:17339.2, atm:17350 ITM CE:17300--> Selling Call @ 40.65\n",
      "DatetTime 2021-09-09 15:00:00, Spot:17368.8, atm:17350 ITM CE:17300--> Covering Call @ 67.45\n",
      "BackTesting from history file: importdatafiles/03-09-DEC- -W-ExpiryWEEKdata_2021_NF_BNF_options_vege.csv\n",
      "DatetTime 2021-12-03 12:20:00, Spot:17359.5, atm:17350 ITM CE:17300--> Selling Call @ 179.0\n",
      "In CE 17300 position and no Cover triggered\n",
      "In CE 17300 position and no Cover triggered\n",
      "In CE 17300 position and no Cover triggered\n",
      "In CE 17300 position and no Cover triggered\n",
      "In CE 17300 position and no Cover triggered\n",
      "In CE 17300 position and no Cover triggered\n",
      "In CE 17300 position and no Cover triggered\n",
      "In CE 17300 position and no Cover triggered\n",
      "In CE 17300 position and no Cover triggered\n",
      "In CE 17300 position and no Cover triggered\n",
      "In CE 17300 position and no Cover triggered\n",
      "In CE 17300 position and no Cover triggered\n",
      "In CE 17300 position and no Cover triggered\n",
      "In CE 17300 position and no Cover triggered\n",
      "In CE 17300 position and no Cover triggered\n",
      "DatetTime 2021-12-03 15:00:00, Spot:17188.9, atm:17200 ITM CE:17300--> Covering Call @ 99.25\n",
      "DatetTime 2021-12-06 11:00:00, Spot:17113.0, atm:17100 ITM CE:17050--> Selling Call @ 178.15\n",
      "In CE 17050 position and no Cover triggered\n",
      "In CE 17050 position and no Cover triggered\n",
      "In CE 17050 position and no Cover triggered\n",
      "In CE 17050 position and no Cover triggered\n",
      "In CE 17050 position and no Cover triggered\n",
      "In CE 17050 position and no Cover triggered\n",
      "In CE 17050 position and no Cover triggered\n",
      "In CE 17050 position and no Cover triggered\n",
      "In CE 17050 position and no Cover triggered\n",
      "In CE 17050 position and no Cover triggered\n",
      "In CE 17050 position and no Cover triggered\n",
      "In CE 17050 position and no Cover triggered\n",
      "In CE 17050 position and no Cover triggered\n",
      "In CE 17050 position and no Cover triggered\n",
      "In CE 17050 position and no Cover triggered\n",
      "In CE 17050 position and no Cover triggered\n",
      "In CE 17050 position and no Cover triggered\n",
      "In CE 17050 position and no Cover triggered\n",
      "In CE 17050 position and no Cover triggered\n",
      "In CE 17050 position and no Cover triggered\n",
      "In CE 17050 position and no Cover triggered\n",
      "In CE 17050 position and no Cover triggered\n",
      "In CE 17050 position and no Cover triggered\n",
      "DatetTime 2021-12-06 15:00:00, Spot:16920.0, atm:16900 ITM CE:17050--> Covering Call @ 76.5\n",
      "DatetTime 2021-12-07 11:00:00, Spot:17145.3, atm:17150 ITM PE:17200--> Selling Put @ 130.0\n",
      "In PE 17200 position and no Cover triggered\n",
      "In PE 17200 position and no Cover triggered\n",
      "In PE 17200 position and no Cover triggered\n",
      "In PE 17200 position and no Cover triggered\n",
      "In PE 17200 position and no Cover triggered\n",
      "In PE 17200 position and no Cover triggered\n",
      "In PE 17200 position and no Cover triggered\n",
      "In PE 17200 position and no Cover triggered\n",
      "In PE 17200 position and no Cover triggered\n",
      "In PE 17200 position and no Cover triggered\n",
      "DatetTime 2021-12-07 12:50:00, Spot:17160.3, atm:17150 ITM CE:17100--> Selling Call @ 142.95\n",
      "DatetTime 2021-12-07 12:50:00, Spot:17160.3, atm:17150 ITM PE:17200--> Covering PE @ 121.0\n",
      "DatetTime 2021-12-07 13:00:00, Spot:17165.0, atm:17150 ITM CE:17100--> Covering Call @ 149.0\n",
      "DatetTime 2021-12-07 13:10:00, Spot:17197.3, atm:17200 ITM PE:17250--> Selling Put @ 118.85\n",
      "In PE 17250 position and no Cover triggered\n",
      "In PE 17250 position and no Cover triggered\n",
      "In PE 17250 position and no Cover triggered\n",
      "In PE 17250 position and no Cover triggered\n",
      "In PE 17250 position and no Cover triggered\n",
      "In PE 17250 position and no Cover triggered\n",
      "In PE 17250 position and no Cover triggered\n",
      "In PE 17250 position and no Cover triggered\n",
      "In PE 17250 position and no Cover triggered\n",
      "DatetTime 2021-12-07 14:50:00, Spot:17210.8, atm:17200 ITM CE:17150--> Selling Call @ 140.7\n",
      "DatetTime 2021-12-07 14:50:00, Spot:17210.8, atm:17200 ITM PE:17250--> Covering PE @ 109.8\n",
      "DatetTime 2021-12-07 15:00:00, Spot:17158.8, atm:17150 ITM CE:17150--> Covering Call @ 104.0\n",
      "DatetTime 2021-12-08 11:00:00, Spot:17411.8, atm:17400 ITM PE:17450--> Selling Put @ 92.5\n",
      "In PE 17450 position and no Cover triggered\n",
      "In PE 17450 position and no Cover triggered\n",
      "In PE 17450 position and no Cover triggered\n",
      "In PE 17450 position and no Cover triggered\n",
      "In PE 17450 position and no Cover triggered\n",
      "In PE 17450 position and no Cover triggered\n",
      "In PE 17450 position and no Cover triggered\n",
      "In PE 17450 position and no Cover triggered\n",
      "In PE 17450 position and no Cover triggered\n",
      "In PE 17450 position and no Cover triggered\n",
      "In PE 17450 position and no Cover triggered\n",
      "In PE 17450 position and no Cover triggered\n",
      "In PE 17450 position and no Cover triggered\n",
      "In PE 17450 position and no Cover triggered\n",
      "In PE 17450 position and no Cover triggered\n",
      "In PE 17450 position and no Cover triggered\n",
      "In PE 17450 position and no Cover triggered\n",
      "In PE 17450 position and no Cover triggered\n",
      "In PE 17450 position and no Cover triggered\n",
      "DatetTime 2021-12-08 14:20:00, Spot:17440.3, atm:17450 ITM CE:17400--> Selling Call @ 85.0\n",
      "In PE 17450 position and no Cover triggered\n",
      "DatetTime 2021-12-08 14:30:00, Spot:17465.7, atm:17450 ITM CE:17400--> Covering Call @ 101.7\n",
      "In PE 17450 position and no Cover triggered\n",
      "In PE 17450 position and no Cover triggered\n",
      "In PE 17450 position and no Cover triggered\n",
      "DatetTime 2021-12-08 15:00:00, Spot:17472.0, atm:17450 ITM PE:17450--> Covering PE @ 47.25\n",
      "DatetTime 2021-12-09 11:00:00, Spot:17439.7, atm:17450 ITM PE:17500--> Selling Put @ 78.85\n",
      "DatetTime 2021-12-09 11:10:00, Spot:17418.5, atm:17400 ITM PE:17500--> Covering PE @ 93.0\n",
      "DatetTime 2021-12-09 11:20:00, Spot:17433.2, atm:17450 ITM PE:17500--> Selling Put @ 85.75\n",
      "In PE 17500 position and no Cover triggered\n",
      "DatetTime 2021-12-09 11:40:00, Spot:17426.9, atm:17450 ITM PE:17500--> Covering PE @ 91.3\n",
      "DatetTime 2021-12-09 11:50:00, Spot:17440.3, atm:17450 ITM PE:17500--> Selling Put @ 79.8\n",
      "In PE 17500 position and no Cover triggered\n",
      "In PE 17500 position and no Cover triggered\n",
      "In PE 17500 position and no Cover triggered\n",
      "In PE 17500 position and no Cover triggered\n",
      "In PE 17500 position and no Cover triggered\n",
      "In PE 17500 position and no Cover triggered\n",
      "In PE 17500 position and no Cover triggered\n",
      "In PE 17500 position and no Cover triggered\n",
      "In PE 17500 position and no Cover triggered\n",
      "DatetTime 2021-12-09 13:30:00, Spot:17484.7, atm:17500 ITM CE:17450--> Selling Call @ 47.85\n",
      "DatetTime 2021-12-09 13:30:00, Spot:17484.7, atm:17500 ITM PE:17500--> Covering PE @ 35.2\n",
      "In CE 17450 position and no Cover triggered\n",
      "DatetTime 2021-12-09 13:50:00, Spot:17504.7, atm:17500 ITM CE:17450--> Covering Call @ 61.65\n",
      "DatetTime 2021-12-09 14:00:00, Spot:17496.0, atm:17500 ITM CE:17450--> Selling Call @ 54.8\n",
      "In CE 17450 position and no Cover triggered\n",
      "In CE 17450 position and no Cover triggered\n",
      "In CE 17450 position and no Cover triggered\n",
      "In CE 17450 position and no Cover triggered\n",
      "In CE 17450 position and no Cover triggered\n",
      "DatetTime 2021-12-09 14:50:00, Spot:17490.2, atm:17500 ITM PE:17550--> Selling Put @ 57.45\n",
      "DatetTime 2021-12-09 15:00:00, Spot:17516.5, atm:17500 ITM CE:17450--> Covering Call @ 65.8\n",
      "DatetTime 2021-12-09 15:00:00, Spot:17516.5, atm:17500 ITM PE:17550--> Covering PE @ 34.65\n",
      "BackTesting from history file: importdatafiles/04-10-JUN- -W-ExpiryWEEKdata_2021_NF_BNF_options_vege.csv\n",
      "DatetTime 2021-06-04 11:10:00, Spot:15656.5, atm:15650 ITM CE:15600--> Selling Call @ 146.3\n",
      "In CE 15600 position and no Cover triggered\n",
      "In CE 15600 position and no Cover triggered\n",
      "In CE 15600 position and no Cover triggered\n",
      "In CE 15600 position and no Cover triggered\n",
      "In CE 15600 position and no Cover triggered\n",
      "In CE 15600 position and no Cover triggered\n",
      "DatetTime 2021-06-04 12:20:00, Spot:15680.8, atm:15700 ITM CE:15600--> Covering Call @ 155.35\n",
      "DatetTime 2021-06-04 12:20:00, Spot:15680.8, atm:15700 ITM PE:15750--> Selling Put @ 141.15\n",
      "In PE 15750 position and no Cover triggered\n",
      "In PE 15750 position and no Cover triggered\n",
      "In PE 15750 position and no Cover triggered\n",
      "DatetTime 2021-06-04 13:00:00, Spot:15664.8, atm:15650 ITM CE:15600--> Selling Call @ 146.2\n",
      "DatetTime 2021-06-04 13:00:00, Spot:15664.8, atm:15650 ITM PE:15750--> Covering PE @ 148.0\n",
      "In CE 15600 position and no Cover triggered\n",
      "In CE 15600 position and no Cover triggered\n",
      "In CE 15600 position and no Cover triggered\n",
      "In CE 15600 position and no Cover triggered\n",
      "In CE 15600 position and no Cover triggered\n",
      "In CE 15600 position and no Cover triggered\n",
      "In CE 15600 position and no Cover triggered\n",
      "In CE 15600 position and no Cover triggered\n",
      "DatetTime 2021-06-04 14:20:00, Spot:15661.0, atm:15650 ITM PE:15700--> Selling Put @ 119.9\n",
      "In CE 15600 position and no Cover triggered\n",
      "DatetTime 2021-06-04 14:30:00, Spot:15652.6, atm:15650 ITM PE:15700--> Covering PE @ 124.15\n",
      "In CE 15600 position and no Cover triggered\n",
      "DatetTime 2021-06-04 14:40:00, Spot:15653.5, atm:15650 ITM PE:15700--> Selling Put @ 122.25\n",
      "DatetTime 2021-06-04 14:50:00, Spot:15665.6, atm:15650 ITM CE:15600--> Covering Call @ 143.0\n",
      "In PE 15700 position and no Cover triggered\n",
      "DatetTime 2021-06-04 15:00:00, Spot:15664.4, atm:15650 ITM PE:15700--> Covering PE @ 114.85\n",
      "DatetTime 2021-06-07 11:00:00, Spot:15736.6, atm:15750 ITM PE:15800--> Selling Put @ 114.2\n",
      "In PE 15800 position and no Cover triggered\n",
      "In PE 15800 position and no Cover triggered\n",
      "In PE 15800 position and no Cover triggered\n",
      "In PE 15800 position and no Cover triggered\n",
      "In PE 15800 position and no Cover triggered\n",
      "In PE 15800 position and no Cover triggered\n",
      "In PE 15800 position and no Cover triggered\n",
      "In PE 15800 position and no Cover triggered\n",
      "DatetTime 2021-06-07 12:30:00, Spot:15725.0, atm:15700 ITM CE:15650--> Selling Call @ 126.55\n",
      "In PE 15800 position and no Cover triggered\n",
      "In CE 15650 position and no Cover triggered\n",
      "DatetTime 2021-06-07 12:40:00, Spot:15703.7, atm:15700 ITM PE:15800--> Covering PE @ 131.9\n",
      "In CE 15650 position and no Cover triggered\n",
      "DatetTime 2021-06-07 13:00:00, Spot:15722.1, atm:15700 ITM CE:15650--> Covering Call @ 130.45\n",
      "DatetTime 2021-06-07 13:00:00, Spot:15722.1, atm:15700 ITM PE:15750--> Selling Put @ 88.65\n",
      "In PE 15750 position and no Cover triggered\n",
      "In PE 15750 position and no Cover triggered\n",
      "In PE 15750 position and no Cover triggered\n",
      "In PE 15750 position and no Cover triggered\n",
      "In PE 15750 position and no Cover triggered\n",
      "In PE 15750 position and no Cover triggered\n",
      "In PE 15750 position and no Cover triggered\n",
      "In PE 15750 position and no Cover triggered\n",
      "In PE 15750 position and no Cover triggered\n",
      "In PE 15750 position and no Cover triggered\n",
      "In PE 15750 position and no Cover triggered\n",
      "DatetTime 2021-06-07 15:00:00, Spot:15754.8, atm:15750 ITM PE:15750--> Covering PE @ 78.85\n",
      "DatetTime 2021-06-08 11:00:00, Spot:15723.7, atm:15700 ITM PE:15750--> Selling Put @ 88.25\n",
      "DatetTime 2021-06-08 11:10:00, Spot:15729.4, atm:15750 ITM CE:15700--> Selling Call @ 86.25\n",
      "In PE 15750 position and no Cover triggered\n",
      "In CE 15700 position and no Cover triggered\n",
      "In PE 15750 position and no Cover triggered\n",
      "In CE 15700 position and no Cover triggered\n",
      "In PE 15750 position and no Cover triggered\n",
      "DatetTime 2021-06-08 11:40:00, Spot:15729.2, atm:15750 ITM CE:15700--> Covering Call @ 87.1\n",
      "In PE 15750 position and no Cover triggered\n",
      "DatetTime 2021-06-08 11:50:00, Spot:15717.6, atm:15700 ITM PE:15750--> Covering PE @ 90.95\n",
      "DatetTime 2021-06-08 12:00:00, Spot:15704.8, atm:15700 ITM CE:15650--> Selling Call @ 106.9\n",
      "In CE 15650 position and no Cover triggered\n",
      "In CE 15650 position and no Cover triggered\n",
      "In CE 15650 position and no Cover triggered\n",
      "In CE 15650 position and no Cover triggered\n",
      "In CE 15650 position and no Cover triggered\n",
      "DatetTime 2021-06-08 13:00:00, Spot:15735.0, atm:15750 ITM CE:15650--> Covering Call @ 120.25\n",
      "DatetTime 2021-06-08 13:00:00, Spot:15735.0, atm:15750 ITM PE:15800--> Selling Put @ 110.45\n",
      "In PE 15800 position and no Cover triggered\n",
      "In PE 15800 position and no Cover triggered\n",
      "In PE 15800 position and no Cover triggered\n",
      "In PE 15800 position and no Cover triggered\n",
      "In PE 15800 position and no Cover triggered\n",
      "DatetTime 2021-06-08 14:00:00, Spot:15728.0, atm:15750 ITM CE:15700--> Selling Call @ 87.65\n",
      "DatetTime 2021-06-08 14:00:00, Spot:15728.0, atm:15750 ITM PE:15800--> Covering PE @ 106.55\n",
      "In CE 15700 position and no Cover triggered\n",
      "DatetTime 2021-06-08 14:20:00, Spot:15742.0, atm:15750 ITM CE:15700--> Covering Call @ 96.1\n",
      "DatetTime 2021-06-08 14:20:00, Spot:15742.0, atm:15750 ITM PE:15800--> Selling Put @ 94.5\n",
      "In PE 15800 position and no Cover triggered\n",
      "In PE 15800 position and no Cover triggered\n",
      "In PE 15800 position and no Cover triggered\n",
      "DatetTime 2021-06-08 15:00:00, Spot:15741.3, atm:15750 ITM PE:15800--> Covering PE @ 92.45\n",
      "DatetTime 2021-06-09 11:00:00, Spot:15781.8, atm:15800 ITM PE:15850--> Selling Put @ 95.45\n",
      "In PE 15850 position and no Cover triggered\n",
      "In PE 15850 position and no Cover triggered\n",
      "In PE 15850 position and no Cover triggered\n",
      "In PE 15850 position and no Cover triggered\n",
      "In PE 15850 position and no Cover triggered\n",
      "In PE 15850 position and no Cover triggered\n",
      "In PE 15850 position and no Cover triggered\n",
      "In PE 15850 position and no Cover triggered\n",
      "In PE 15850 position and no Cover triggered\n",
      "In PE 15850 position and no Cover triggered\n",
      "DatetTime 2021-06-09 12:50:00, Spot:15777.5, atm:15800 ITM CE:15750--> Selling Call @ 64.0\n",
      "DatetTime 2021-06-09 12:50:00, Spot:15777.5, atm:15800 ITM PE:15850--> Covering PE @ 92.75\n",
      "In CE 15750 position and no Cover triggered\n",
      "In CE 15750 position and no Cover triggered\n",
      "In CE 15750 position and no Cover triggered\n",
      "In CE 15750 position and no Cover triggered\n",
      "In CE 15750 position and no Cover triggered\n",
      "In CE 15750 position and no Cover triggered\n",
      "In CE 15750 position and no Cover triggered\n",
      "In CE 15750 position and no Cover triggered\n",
      "In CE 15750 position and no Cover triggered\n",
      "In CE 15750 position and no Cover triggered\n",
      "In CE 15750 position and no Cover triggered\n",
      "In CE 15750 position and no Cover triggered\n",
      "DatetTime 2021-06-09 15:00:00, Spot:15627.3, atm:15650 ITM CE:15750--> Covering Call @ 14.05\n",
      "DatetTime 2021-06-10 11:00:00, Spot:15695.5, atm:15700 ITM PE:15750--> Selling Put @ 67.4\n",
      "In PE 15750 position and no Cover triggered\n",
      "In PE 15750 position and no Cover triggered\n",
      "In PE 15750 position and no Cover triggered\n",
      "In PE 15750 position and no Cover triggered\n",
      "In PE 15750 position and no Cover triggered\n",
      "In PE 15750 position and no Cover triggered\n",
      "In PE 15750 position and no Cover triggered\n",
      "DatetTime 2021-06-10 12:20:00, Spot:15712.1, atm:15700 ITM CE:15650--> Selling Call @ 71.5\n",
      "In PE 15750 position and no Cover triggered\n",
      "DatetTime 2021-06-10 12:30:00, Spot:15720.6, atm:15700 ITM CE:15650--> Covering Call @ 77.25\n",
      "In PE 15750 position and no Cover triggered\n",
      "DatetTime 2021-06-10 12:40:00, Spot:15703.3, atm:15700 ITM CE:15650--> Selling Call @ 64.25\n",
      "DatetTime 2021-06-10 12:40:00, Spot:15703.3, atm:15700 ITM PE:15750--> Covering PE @ 60.45\n",
      "In CE 15650 position and no Cover triggered\n",
      "In CE 15650 position and no Cover triggered\n",
      "DatetTime 2021-06-10 13:10:00, Spot:15736.0, atm:15750 ITM CE:15650--> Covering Call @ 88.0\n",
      "DatetTime 2021-06-10 13:10:00, Spot:15736.0, atm:15750 ITM PE:15800--> Selling Put @ 73.85\n",
      "In PE 15800 position and no Cover triggered\n",
      "In PE 15800 position and no Cover triggered\n",
      "In PE 15800 position and no Cover triggered\n",
      "In PE 15800 position and no Cover triggered\n",
      "In PE 15800 position and no Cover triggered\n",
      "In PE 15800 position and no Cover triggered\n",
      "In PE 15800 position and no Cover triggered\n",
      "In PE 15800 position and no Cover triggered\n",
      "In PE 15800 position and no Cover triggered\n",
      "DatetTime 2021-06-10 14:50:00, Spot:15729.1, atm:15750 ITM CE:15700--> Selling Call @ 33.25\n",
      "In PE 15800 position and no Cover triggered\n",
      "DatetTime 2021-06-10 15:00:00, Spot:15746.4, atm:15750 ITM CE:15700--> Covering Call @ 46.65\n",
      "DatetTime 2021-06-10 15:00:00, Spot:15746.4, atm:15750 ITM PE:15800--> Covering PE @ 54.1\n",
      "BackTesting from history file: importdatafiles/04-11-FEB-Weekly-ExpiryWEEKdata_2021.csv\n",
      "DatetTime 2021-02-05 11:20:00, Spot:14959.7, atm:14950 ITM PE:15000--> Selling Put @ 197.4\n",
      "In PE 15000 position and no Cover triggered\n",
      "In PE 15000 position and no Cover triggered\n",
      "In PE 15000 position and no Cover triggered\n",
      "In PE 15000 position and no Cover triggered\n",
      "In PE 15000 position and no Cover triggered\n",
      "In PE 15000 position and no Cover triggered\n",
      "In PE 15000 position and no Cover triggered\n",
      "In PE 15000 position and no Cover triggered\n",
      "In PE 15000 position and no Cover triggered\n",
      "In PE 15000 position and no Cover triggered\n",
      "DatetTime 2021-02-05 13:10:00, Spot:14924.2, atm:14900 ITM CE:14850--> Selling Call @ 197.1\n",
      "DatetTime 2021-02-05 13:10:00, Spot:14924.2, atm:14900 ITM PE:15000--> Covering PE @ 214.15\n",
      "In CE 14850 position and no Cover triggered\n",
      "In CE 14850 position and no Cover triggered\n",
      "In CE 14850 position and no Cover triggered\n",
      "In CE 14850 position and no Cover triggered\n",
      "In CE 14850 position and no Cover triggered\n",
      "In CE 14850 position and no Cover triggered\n",
      "In CE 14850 position and no Cover triggered\n",
      "In CE 14850 position and no Cover triggered\n",
      "In CE 14850 position and no Cover triggered\n",
      "In CE 14850 position and no Cover triggered\n",
      "DatetTime 2021-02-05 15:00:00, Spot:14906.6, atm:14900 ITM CE:14850--> Covering Call @ 183.05\n",
      "DatetTime 2021-02-08 11:00:00, Spot:15124.5, atm:15100 ITM PE:15150--> Selling Put @ 141.4\n",
      "In PE 15150 position and no Cover triggered\n",
      "In PE 15150 position and no Cover triggered\n",
      "In PE 15150 position and no Cover triggered\n",
      "In PE 15150 position and no Cover triggered\n",
      "In PE 15150 position and no Cover triggered\n",
      "In PE 15150 position and no Cover triggered\n",
      "DatetTime 2021-02-08 12:10:00, Spot:15075.3, atm:15100 ITM CE:15050--> Selling Call @ 140.7\n",
      "DatetTime 2021-02-08 12:10:00, Spot:15075.3, atm:15100 ITM PE:15150--> Covering PE @ 164.8\n",
      "In CE 15050 position and no Cover triggered\n",
      "DatetTime 2021-02-08 12:30:00, Spot:15108.1, atm:15100 ITM CE:15050--> Covering Call @ 150.45\n",
      "DatetTime 2021-02-08 12:30:00, Spot:15108.1, atm:15100 ITM PE:15150--> Selling Put @ 147.45\n",
      "In PE 15150 position and no Cover triggered\n",
      "In PE 15150 position and no Cover triggered\n",
      "In PE 15150 position and no Cover triggered\n",
      "In PE 15150 position and no Cover triggered\n",
      "In PE 15150 position and no Cover triggered\n",
      "In PE 15150 position and no Cover triggered\n",
      "In PE 15150 position and no Cover triggered\n",
      "In PE 15150 position and no Cover triggered\n",
      "In PE 15150 position and no Cover triggered\n",
      "In PE 15150 position and no Cover triggered\n",
      "In PE 15150 position and no Cover triggered\n",
      "In PE 15150 position and no Cover triggered\n",
      "In PE 15150 position and no Cover triggered\n",
      "DatetTime 2021-02-08 14:50:00, Spot:15111.6, atm:15100 ITM CE:15050--> Selling Call @ 154.75\n",
      "DatetTime 2021-02-08 14:50:00, Spot:15111.6, atm:15100 ITM PE:15150--> Covering PE @ 136.9\n",
      "DatetTime 2021-02-08 15:00:00, Spot:15110.6, atm:15100 ITM CE:15050--> Covering Call @ 156.65\n",
      "DatetTime 2021-02-09 11:00:00, Spot:15211.4, atm:15200 ITM PE:15250--> Selling Put @ 122.4\n",
      "In PE 15250 position and no Cover triggered\n",
      "In PE 15250 position and no Cover triggered\n",
      "In PE 15250 position and no Cover triggered\n",
      "In PE 15250 position and no Cover triggered\n",
      "In PE 15250 position and no Cover triggered\n",
      "DatetTime 2021-02-09 12:00:00, Spot:15202.3, atm:15200 ITM CE:15150--> Selling Call @ 130.2\n",
      "In PE 15250 position and no Cover triggered\n",
      "DatetTime 2021-02-09 12:10:00, Spot:15217.6, atm:15200 ITM CE:15150--> Covering Call @ 137.4\n",
      "In PE 15250 position and no Cover triggered\n",
      "In PE 15250 position and no Cover triggered\n",
      "In PE 15250 position and no Cover triggered\n",
      "In PE 15250 position and no Cover triggered\n",
      "In PE 15250 position and no Cover triggered\n",
      "In PE 15250 position and no Cover triggered\n",
      "In PE 15250 position and no Cover triggered\n",
      "In PE 15250 position and no Cover triggered\n",
      "In PE 15250 position and no Cover triggered\n",
      "In PE 15250 position and no Cover triggered\n",
      "In PE 15250 position and no Cover triggered\n",
      "In PE 15250 position and no Cover triggered\n",
      "In PE 15250 position and no Cover triggered\n",
      "DatetTime 2021-02-09 14:20:00, Spot:15230.3, atm:15250 ITM PE:15250--> Covering PE @ 105.0\n",
      "DatetTime 2021-02-09 14:30:00, Spot:15205.5, atm:15200 ITM CE:15150--> Selling Call @ 131.0\n",
      "In CE 15150 position and no Cover triggered\n",
      "In CE 15150 position and no Cover triggered\n",
      "DatetTime 2021-02-09 15:00:00, Spot:15100.3, atm:15100 ITM CE:15150--> Covering Call @ 79.55\n",
      "DatetTime 2021-02-10 11:00:00, Spot:15054.5, atm:15050 ITM CE:15000--> Selling Call @ 116.15\n",
      "In CE 15000 position and no Cover triggered\n",
      "DatetTime 2021-02-10 11:10:00, Spot:15073.1, atm:15050 ITM PE:15100--> Selling Put @ 107.6\n",
      "DatetTime 2021-02-10 11:20:00, Spot:15075.8, atm:15100 ITM CE:15000--> Covering Call @ 133.75\n",
      "In PE 15100 position and no Cover triggered\n",
      "DatetTime 2021-02-10 11:30:00, Spot:15078.1, atm:15100 ITM CE:15050--> Selling Call @ 99.5\n",
      "In PE 15100 position and no Cover triggered\n",
      "DatetTime 2021-02-10 11:40:00, Spot:15092.1, atm:15100 ITM CE:15050--> Covering Call @ 106.0\n",
      "In PE 15100 position and no Cover triggered\n",
      "In PE 15100 position and no Cover triggered\n",
      "In PE 15100 position and no Cover triggered\n",
      "In PE 15100 position and no Cover triggered\n",
      "In PE 15100 position and no Cover triggered\n",
      "In PE 15100 position and no Cover triggered\n",
      "In PE 15100 position and no Cover triggered\n",
      "In PE 15100 position and no Cover triggered\n",
      "In PE 15100 position and no Cover triggered\n",
      "DatetTime 2021-02-10 13:10:00, Spot:15074.5, atm:15050 ITM PE:15100--> Covering PE @ 94.5\n",
      "DatetTime 2021-02-10 13:20:00, Spot:15051.4, atm:15050 ITM CE:15000--> Selling Call @ 114.6\n",
      "In CE 15000 position and no Cover triggered\n",
      "In CE 15000 position and no Cover triggered\n",
      "In CE 15000 position and no Cover triggered\n",
      "In CE 15000 position and no Cover triggered\n",
      "In CE 15000 position and no Cover triggered\n",
      "In CE 15000 position and no Cover triggered\n",
      "DatetTime 2021-02-10 14:20:00, Spot:15039.8, atm:15050 ITM PE:15100--> Selling Put @ 106.8\n",
      "DatetTime 2021-02-10 14:30:00, Spot:15058.1, atm:15050 ITM CE:15000--> Covering Call @ 111.1\n",
      "In PE 15100 position and no Cover triggered\n",
      "DatetTime 2021-02-10 14:40:00, Spot:15006.6, atm:15000 ITM CE:14950--> Selling Call @ 108.95\n",
      "DatetTime 2021-02-10 14:40:00, Spot:15006.6, atm:15000 ITM PE:15100--> Covering PE @ 132.75\n",
      "In CE 14950 position and no Cover triggered\n",
      "DatetTime 2021-02-10 15:00:00, Spot:15092.6, atm:15100 ITM CE:14950--> Covering Call @ 168.4\n",
      "DatetTime 2021-02-11 11:00:00, Spot:15137.4, atm:15150 ITM PE:15200--> Selling Put @ 82.8\n",
      "In PE 15200 position and no Cover triggered\n",
      "DatetTime 2021-02-11 11:20:00, Spot:15129.3, atm:15150 ITM CE:15100--> Selling Call @ 59.3\n",
      "In PE 15200 position and no Cover triggered\n",
      "In CE 15100 position and no Cover triggered\n",
      "In PE 15200 position and no Cover triggered\n",
      "In CE 15100 position and no Cover triggered\n",
      "In PE 15200 position and no Cover triggered\n",
      "In CE 15100 position and no Cover triggered\n",
      "DatetTime 2021-02-11 11:50:00, Spot:15115.9, atm:15100 ITM PE:15200--> Covering PE @ 97.0\n",
      "In CE 15100 position and no Cover triggered\n",
      "In CE 15100 position and no Cover triggered\n",
      "DatetTime 2021-02-11 12:10:00, Spot:15125.5, atm:15100 ITM PE:15150--> Selling Put @ 55.2\n",
      "DatetTime 2021-02-11 12:20:00, Spot:15150.4, atm:15150 ITM CE:15100--> Covering Call @ 65.3\n",
      "In PE 15150 position and no Cover triggered\n",
      "In PE 15150 position and no Cover triggered\n",
      "In PE 15150 position and no Cover triggered\n",
      "DatetTime 2021-02-11 12:50:00, Spot:15120.8, atm:15100 ITM CE:15050--> Selling Call @ 88.0\n",
      "DatetTime 2021-02-11 12:50:00, Spot:15120.8, atm:15100 ITM PE:15150--> Covering PE @ 50.7\n",
      "In CE 15050 position and no Cover triggered\n",
      "In CE 15050 position and no Cover triggered\n",
      "In CE 15050 position and no Cover triggered\n",
      "In CE 15050 position and no Cover triggered\n",
      "In CE 15050 position and no Cover triggered\n",
      "DatetTime 2021-02-11 13:50:00, Spot:15145.0, atm:15150 ITM CE:15050--> Covering Call @ 101.95\n",
      "DatetTime 2021-02-11 13:50:00, Spot:15145.0, atm:15150 ITM PE:15200--> Selling Put @ 65.05\n",
      "DatetTime 2021-02-11 14:00:00, Spot:15140.5, atm:15150 ITM CE:15100--> Selling Call @ 52.65\n",
      "In PE 15200 position and no Cover triggered\n",
      "DatetTime 2021-02-11 14:10:00, Spot:15152.0, atm:15150 ITM CE:15100--> Covering Call @ 58.8\n",
      "In PE 15200 position and no Cover triggered\n",
      "In PE 15200 position and no Cover triggered\n",
      "In PE 15200 position and no Cover triggered\n",
      "In PE 15200 position and no Cover triggered\n",
      "DatetTime 2021-02-11 14:50:00, Spot:15149.9, atm:15150 ITM CE:15100--> Selling Call @ 49.5\n",
      "In PE 15200 position and no Cover triggered\n",
      "DatetTime 2021-02-11 15:00:00, Spot:15173.5, atm:15150 ITM CE:15100--> Covering Call @ 68.15\n",
      "DatetTime 2021-02-11 15:00:00, Spot:15173.5, atm:15150 ITM PE:15200--> Covering PE @ 33.1\n",
      "BackTesting from history file: importdatafiles/04_10_FEB_WEEKLY_expiry_data_VEGE_NF_AND_BNF_Options_Desktop_Vege.csv\n",
      "DatetTime 2022-02-04 11:50:00, Spot:17524.9, atm:17500 ITM CE:17450--> Selling Call @ 203.2\n",
      "In CE 17450 position and no Cover triggered\n",
      "In CE 17450 position and no Cover triggered\n",
      "In CE 17450 position and no Cover triggered\n",
      "In CE 17450 position and no Cover triggered\n",
      "DatetTime 2022-02-04 12:30:00, Spot:17531.0, atm:17550 ITM PE:17600--> Selling Put @ 184.7\n",
      "In CE 17450 position and no Cover triggered\n",
      "DatetTime 2022-02-04 12:40:00, Spot:17506.7, atm:17500 ITM PE:17600--> Covering PE @ 200.35\n",
      "In CE 17450 position and no Cover triggered\n",
      "In CE 17450 position and no Cover triggered\n",
      "In CE 17450 position and no Cover triggered\n",
      "In CE 17450 position and no Cover triggered\n",
      "DatetTime 2022-02-04 13:20:00, Spot:17521.9, atm:17500 ITM PE:17550--> Selling Put @ 159.9\n",
      "In CE 17450 position and no Cover triggered\n",
      "In PE 17550 position and no Cover triggered\n",
      "DatetTime 2022-02-04 13:40:00, Spot:17557.2, atm:17550 ITM CE:17450--> Covering Call @ 217.85\n",
      "In PE 17550 position and no Cover triggered\n",
      "In PE 17550 position and no Cover triggered\n",
      "In PE 17550 position and no Cover triggered\n",
      "In PE 17550 position and no Cover triggered\n",
      "In PE 17550 position and no Cover triggered\n",
      "DatetTime 2022-02-04 14:30:00, Spot:17499.7, atm:17500 ITM CE:17450--> Selling Call @ 181.05\n",
      "DatetTime 2022-02-04 14:30:00, Spot:17499.7, atm:17500 ITM PE:17550--> Covering PE @ 173.25\n",
      "In CE 17450 position and no Cover triggered\n",
      "In CE 17450 position and no Cover triggered\n",
      "DatetTime 2022-02-04 15:00:00, Spot:17547.3, atm:17550 ITM CE:17450--> Covering Call @ 207.35\n",
      "DatetTime 2022-02-07 11:00:00, Spot:17348.5, atm:17350 ITM CE:17300--> Selling Call @ 159.05\n",
      "In CE 17300 position and no Cover triggered\n",
      "In CE 17300 position and no Cover triggered\n",
      "In CE 17300 position and no Cover triggered\n",
      "In CE 17300 position and no Cover triggered\n",
      "In CE 17300 position and no Cover triggered\n",
      "In CE 17300 position and no Cover triggered\n",
      "In CE 17300 position and no Cover triggered\n",
      "In CE 17300 position and no Cover triggered\n",
      "In CE 17300 position and no Cover triggered\n",
      "In CE 17300 position and no Cover triggered\n",
      "In CE 17300 position and no Cover triggered\n",
      "In CE 17300 position and no Cover triggered\n",
      "In CE 17300 position and no Cover triggered\n",
      "In CE 17300 position and no Cover triggered\n",
      "In CE 17300 position and no Cover triggered\n",
      "In CE 17300 position and no Cover triggered\n",
      "In CE 17300 position and no Cover triggered\n",
      "In CE 17300 position and no Cover triggered\n",
      "In CE 17300 position and no Cover triggered\n",
      "In CE 17300 position and no Cover triggered\n",
      "In CE 17300 position and no Cover triggered\n",
      "In CE 17300 position and no Cover triggered\n",
      "In CE 17300 position and no Cover triggered\n",
      "DatetTime 2022-02-07 15:00:00, Spot:17227.8, atm:17250 ITM CE:17300--> Covering Call @ 96.2\n",
      "DatetTime 2022-02-08 11:00:00, Spot:17048.8, atm:17050 ITM CE:17000--> Selling Call @ 149.0\n",
      "In CE 17000 position and no Cover triggered\n",
      "In CE 17000 position and no Cover triggered\n",
      "DatetTime 2022-02-08 11:30:00, Spot:17150.2, atm:17150 ITM CE:17000--> Covering Call @ 206.35\n",
      "DatetTime 2022-02-08 11:30:00, Spot:17150.2, atm:17150 ITM PE:17200--> Selling Put @ 143.35\n",
      "In PE 17200 position and no Cover triggered\n",
      "In PE 17200 position and no Cover triggered\n",
      "In PE 17200 position and no Cover triggered\n",
      "In PE 17200 position and no Cover triggered\n",
      "In PE 17200 position and no Cover triggered\n",
      "In PE 17200 position and no Cover triggered\n",
      "In PE 17200 position and no Cover triggered\n",
      "DatetTime 2022-02-08 12:50:00, Spot:17210.8, atm:17200 ITM PE:17200--> Covering PE @ 109.95\n",
      "DatetTime 2022-02-08 13:00:00, Spot:17141.3, atm:17150 ITM CE:17100--> Selling Call @ 140.7\n",
      "In CE 17100 position and no Cover triggered\n",
      "In CE 17100 position and no Cover triggered\n",
      "DatetTime 2022-02-08 13:30:00, Spot:17209.5, atm:17200 ITM CE:17100--> Covering Call @ 177.65\n",
      "DatetTime 2022-02-08 13:30:00, Spot:17209.5, atm:17200 ITM PE:17250--> Selling Put @ 127.6\n",
      "In PE 17250 position and no Cover triggered\n",
      "In PE 17250 position and no Cover triggered\n",
      "In PE 17250 position and no Cover triggered\n",
      "DatetTime 2022-02-08 14:10:00, Spot:17170.5, atm:17150 ITM PE:17250--> Covering PE @ 148.85\n",
      "DatetTime 2022-02-08 14:30:00, Spot:17172.3, atm:17150 ITM PE:17200--> Selling Put @ 117.75\n",
      "In PE 17200 position and no Cover triggered\n",
      "In PE 17200 position and no Cover triggered\n",
      "DatetTime 2022-02-08 15:00:00, Spot:17281.0, atm:17300 ITM PE:17200--> Covering PE @ 62.7\n",
      "DatetTime 2022-02-09 11:00:00, Spot:17387.5, atm:17400 ITM PE:17450--> Selling Put @ 105.6\n",
      "In PE 17450 position and no Cover triggered\n",
      "In PE 17450 position and no Cover triggered\n",
      "In PE 17450 position and no Cover triggered\n",
      "In PE 17450 position and no Cover triggered\n",
      "In PE 17450 position and no Cover triggered\n",
      "In PE 17450 position and no Cover triggered\n",
      "In PE 17450 position and no Cover triggered\n",
      "In PE 17450 position and no Cover triggered\n",
      "In PE 17450 position and no Cover triggered\n",
      "In PE 17450 position and no Cover triggered\n",
      "In PE 17450 position and no Cover triggered\n",
      "DatetTime 2022-02-09 13:00:00, Spot:17384.8, atm:17400 ITM CE:17350--> Selling Call @ 88.8\n",
      "DatetTime 2022-02-09 13:00:00, Spot:17384.8, atm:17400 ITM PE:17450--> Covering PE @ 104.1\n",
      "In CE 17350 position and no Cover triggered\n",
      "In CE 17350 position and no Cover triggered\n",
      "DatetTime 2022-02-09 13:30:00, Spot:17416.8, atm:17400 ITM CE:17350--> Covering Call @ 102.85\n",
      "DatetTime 2022-02-09 13:30:00, Spot:17416.8, atm:17400 ITM PE:17450--> Selling Put @ 83.2\n",
      "In PE 17450 position and no Cover triggered\n",
      "In PE 17450 position and no Cover triggered\n",
      "In PE 17450 position and no Cover triggered\n",
      "In PE 17450 position and no Cover triggered\n",
      "In PE 17450 position and no Cover triggered\n",
      "In PE 17450 position and no Cover triggered\n",
      "In PE 17450 position and no Cover triggered\n",
      "In PE 17450 position and no Cover triggered\n",
      "DatetTime 2022-02-09 15:00:00, Spot:17470.6, atm:17450 ITM PE:17450--> Covering PE @ 44.0\n",
      "DatetTime 2022-02-10 11:00:00, Spot:17589.8, atm:17600 ITM PE:17650--> Selling Put @ 74.55\n",
      "In PE 17650 position and no Cover triggered\n",
      "In PE 17650 position and no Cover triggered\n",
      "In PE 17650 position and no Cover triggered\n",
      "In PE 17650 position and no Cover triggered\n",
      "In PE 17650 position and no Cover triggered\n",
      "In PE 17650 position and no Cover triggered\n",
      "In PE 17650 position and no Cover triggered\n",
      "In PE 17650 position and no Cover triggered\n",
      "In PE 17650 position and no Cover triggered\n",
      "In PE 17650 position and no Cover triggered\n",
      "In PE 17650 position and no Cover triggered\n",
      "In PE 17650 position and no Cover triggered\n",
      "DatetTime 2022-02-10 13:10:00, Spot:17585.3, atm:17600 ITM CE:17550--> Selling Call @ 54.55\n",
      "In PE 17650 position and no Cover triggered\n",
      "DatetTime 2022-02-10 13:20:00, Spot:17606.3, atm:17600 ITM CE:17550--> Covering Call @ 65.95\n",
      "In PE 17650 position and no Cover triggered\n",
      "In PE 17650 position and no Cover triggered\n",
      "In PE 17650 position and no Cover triggered\n",
      "In PE 17650 position and no Cover triggered\n",
      "In PE 17650 position and no Cover triggered\n",
      "In PE 17650 position and no Cover triggered\n",
      "In PE 17650 position and no Cover triggered\n",
      "In PE 17650 position and no Cover triggered\n",
      "DatetTime 2022-02-10 14:40:00, Spot:17606.5, atm:17600 ITM CE:17550--> Selling Call @ 58.6\n",
      "In PE 17650 position and no Cover triggered\n",
      "In CE 17550 position and no Cover triggered\n",
      "In PE 17650 position and no Cover triggered\n",
      "DatetTime 2022-02-10 15:00:00, Spot:17628.3, atm:17650 ITM CE:17550--> Covering Call @ 74.3\n",
      "DatetTime 2022-02-10 15:00:00, Spot:17628.3, atm:17650 ITM PE:17650--> Covering PE @ 26.15\n",
      "BackTesting from history file: importdatafiles/05-11--NOV-2021-WEEKLY-expiry_data__VEGE_NF_AND_BNF_Options.csv\n",
      "DatetTime 2021-11-08 11:30:00, Spot:17865.5, atm:17850 ITM CE:17800--> Selling Call @ 164.65\n",
      "DatetTime 2021-11-08 11:40:00, Spot:17910.0, atm:17900 ITM CE:17800--> Covering Call @ 198.25\n",
      "DatetTime 2021-11-08 11:40:00, Spot:17910.0, atm:17900 ITM PE:17950--> Selling Put @ 112.5\n",
      "In PE 17950 position and no Cover triggered\n",
      "In PE 17950 position and no Cover triggered\n",
      "In PE 17950 position and no Cover triggered\n",
      "In PE 17950 position and no Cover triggered\n",
      "In PE 17950 position and no Cover triggered\n",
      "In PE 17950 position and no Cover triggered\n",
      "In PE 17950 position and no Cover triggered\n",
      "In PE 17950 position and no Cover triggered\n",
      "In PE 17950 position and no Cover triggered\n",
      "In PE 17950 position and no Cover triggered\n",
      "In PE 17950 position and no Cover triggered\n",
      "In PE 17950 position and no Cover triggered\n",
      "In PE 17950 position and no Cover triggered\n",
      "In PE 17950 position and no Cover triggered\n",
      "In PE 17950 position and no Cover triggered\n",
      "In PE 17950 position and no Cover triggered\n",
      "In PE 17950 position and no Cover triggered\n",
      "In PE 17950 position and no Cover triggered\n",
      "In PE 17950 position and no Cover triggered\n",
      "DatetTime 2021-11-08 15:00:00, Spot:18065.1, atm:18050 ITM PE:17950--> Covering PE @ 46.35\n",
      "DatetTime 2021-11-09 11:00:00, Spot:18045.3, atm:18050 ITM CE:18000--> Selling Call @ 128.2\n",
      "In CE 18000 position and no Cover triggered\n",
      "In CE 18000 position and no Cover triggered\n",
      "In CE 18000 position and no Cover triggered\n",
      "DatetTime 2021-11-09 11:30:00, Spot:18059.5, atm:18050 ITM PE:18100--> Selling Put @ 105.7\n",
      "In CE 18000 position and no Cover triggered\n",
      "In PE 18100 position and no Cover triggered\n",
      "In CE 18000 position and no Cover triggered\n",
      "In PE 18100 position and no Cover triggered\n",
      "In CE 18000 position and no Cover triggered\n",
      "DatetTime 2021-11-09 12:00:00, Spot:18039.0, atm:18050 ITM PE:18100--> Covering PE @ 118.65\n",
      "In CE 18000 position and no Cover triggered\n",
      "In CE 18000 position and no Cover triggered\n",
      "In CE 18000 position and no Cover triggered\n",
      "In CE 18000 position and no Cover triggered\n",
      "In CE 18000 position and no Cover triggered\n",
      "In CE 18000 position and no Cover triggered\n",
      "DatetTime 2021-11-09 13:10:00, Spot:18051.8, atm:18050 ITM CE:18000--> Covering Call @ 127.8\n",
      "DatetTime 2021-11-09 13:20:00, Spot:18053.0, atm:18050 ITM CE:18000--> Selling Call @ 126.15\n",
      "In CE 18000 position and no Cover triggered\n",
      "In CE 18000 position and no Cover triggered\n",
      "In CE 18000 position and no Cover triggered\n",
      "In CE 18000 position and no Cover triggered\n",
      "In CE 18000 position and no Cover triggered\n",
      "DatetTime 2021-11-09 14:20:00, Spot:18048.1, atm:18050 ITM CE:18000--> Covering Call @ 120.85\n",
      "DatetTime 2021-11-09 14:20:00, Spot:18048.1, atm:18050 ITM PE:18100--> Selling Put @ 109.75\n",
      "In PE 18100 position and no Cover triggered\n",
      "DatetTime 2021-11-09 14:40:00, Spot:18022.4, atm:18000 ITM PE:18100--> Covering PE @ 122.2\n",
      "DatetTime 2021-11-09 14:50:00, Spot:18004.5, atm:18000 ITM CE:17950--> Selling Call @ 130.85\n",
      "DatetTime 2021-11-09 15:00:00, Spot:18041.5, atm:18050 ITM CE:17950--> Covering Call @ 153.05\n",
      "DatetTime 2021-11-10 11:00:00, Spot:17956.5, atm:17950 ITM CE:17900--> Selling Call @ 109.75\n",
      "In CE 17900 position and no Cover triggered\n",
      "DatetTime 2021-11-10 11:10:00, Spot:17969.4, atm:17950 ITM PE:18000--> Selling Put @ 95.0\n",
      "In CE 17900 position and no Cover triggered\n",
      "DatetTime 2021-11-10 11:20:00, Spot:17960.2, atm:17950 ITM PE:18000--> Covering PE @ 100.2\n",
      "In CE 17900 position and no Cover triggered\n",
      "DatetTime 2021-11-10 11:30:00, Spot:17963.9, atm:17950 ITM PE:18000--> Selling Put @ 96.5\n",
      "In CE 17900 position and no Cover triggered\n",
      "In PE 18000 position and no Cover triggered\n",
      "In CE 17900 position and no Cover triggered\n",
      "DatetTime 2021-11-10 11:50:00, Spot:17953.0, atm:17950 ITM PE:18000--> Covering PE @ 98.95\n",
      "In CE 17900 position and no Cover triggered\n",
      "DatetTime 2021-11-10 12:00:00, Spot:17957.0, atm:17950 ITM PE:18000--> Selling Put @ 96.6\n",
      "In CE 17900 position and no Cover triggered\n",
      "In PE 18000 position and no Cover triggered\n",
      "DatetTime 2021-11-10 12:20:00, Spot:17974.0, atm:17950 ITM CE:17900--> Covering Call @ 123.7\n",
      "In PE 18000 position and no Cover triggered\n",
      "In PE 18000 position and no Cover triggered\n",
      "In PE 18000 position and no Cover triggered\n",
      "DatetTime 2021-11-10 12:50:00, Spot:17954.7, atm:17950 ITM CE:17900--> Selling Call @ 102.55\n",
      "DatetTime 2021-11-10 12:50:00, Spot:17954.7, atm:17950 ITM PE:18000--> Covering PE @ 97.5\n",
      "DatetTime 2021-11-10 13:00:00, Spot:17978.5, atm:18000 ITM CE:17900--> Covering Call @ 118.75\n",
      "DatetTime 2021-11-10 13:30:00, Spot:18016.9, atm:18000 ITM PE:18050--> Selling Put @ 83.75\n",
      "In PE 18050 position and no Cover triggered\n",
      "In PE 18050 position and no Cover triggered\n",
      "In PE 18050 position and no Cover triggered\n",
      "In PE 18050 position and no Cover triggered\n",
      "In PE 18050 position and no Cover triggered\n",
      "In PE 18050 position and no Cover triggered\n",
      "DatetTime 2021-11-10 14:40:00, Spot:18012.5, atm:18000 ITM CE:17950--> Selling Call @ 107.55\n",
      "DatetTime 2021-11-10 14:40:00, Spot:18012.5, atm:18000 ITM PE:18050--> Covering PE @ 79.45\n",
      "DatetTime 2021-11-10 14:50:00, Spot:18011.5, atm:18000 ITM CE:17950--> Covering Call @ 112.75\n",
      "DatetTime 2021-11-11 11:00:00, Spot:17854.0, atm:17850 ITM CE:17800--> Selling Call @ 81.85\n",
      "In CE 17800 position and no Cover triggered\n",
      "In CE 17800 position and no Cover triggered\n",
      "In CE 17800 position and no Cover triggered\n",
      "In CE 17800 position and no Cover triggered\n",
      "DatetTime 2021-11-11 11:40:00, Spot:17870.4, atm:17850 ITM PE:17900--> Selling Put @ 62.55\n",
      "DatetTime 2021-11-11 11:50:00, Spot:17880.8, atm:17900 ITM CE:17800--> Covering Call @ 101.5\n",
      "In PE 17900 position and no Cover triggered\n",
      "In PE 17900 position and no Cover triggered\n",
      "DatetTime 2021-11-11 12:10:00, Spot:17842.0, atm:17850 ITM CE:17800--> Selling Call @ 69.9\n",
      "DatetTime 2021-11-11 12:10:00, Spot:17842.0, atm:17850 ITM PE:17900--> Covering PE @ 76.35\n",
      "In CE 17800 position and no Cover triggered\n",
      "In CE 17800 position and no Cover triggered\n",
      "In CE 17800 position and no Cover triggered\n",
      "DatetTime 2021-11-11 12:50:00, Spot:17868.1, atm:17850 ITM CE:17800--> Covering Call @ 82.45\n",
      "DatetTime 2021-11-11 12:50:00, Spot:17868.1, atm:17850 ITM PE:17900--> Selling Put @ 58.55\n",
      "In PE 17900 position and no Cover triggered\n",
      "In PE 17900 position and no Cover triggered\n",
      "In PE 17900 position and no Cover triggered\n",
      "In PE 17900 position and no Cover triggered\n",
      "In PE 17900 position and no Cover triggered\n",
      "DatetTime 2021-11-11 13:50:00, Spot:17851.5, atm:17850 ITM CE:17800--> Selling Call @ 64.7\n",
      "DatetTime 2021-11-11 13:50:00, Spot:17851.5, atm:17850 ITM PE:17900--> Covering PE @ 60.65\n",
      "In CE 17800 position and no Cover triggered\n",
      "In CE 17800 position and no Cover triggered\n",
      "In CE 17800 position and no Cover triggered\n",
      "In CE 17800 position and no Cover triggered\n",
      "In CE 17800 position and no Cover triggered\n",
      "DatetTime 2021-11-11 14:40:00, Spot:17838.8, atm:17850 ITM PE:17900--> Selling Put @ 58.25\n",
      "In CE 17800 position and no Cover triggered\n",
      "In PE 17900 position and no Cover triggered\n",
      "DatetTime 2021-11-11 15:00:00, Spot:17865.2, atm:17850 ITM CE:17800--> Covering Call @ 67.5\n",
      "DatetTime 2021-11-11 15:00:00, Spot:17865.2, atm:17850 ITM PE:17900--> Covering PE @ 33.6\n",
      "BackTesting from history file: importdatafiles/05_08_APR_2021_weekly_Expirydata_VEGE_NF_AND_BNF_Options_shortWeek.csv\n",
      "DatetTime 2021-04-05 12:20:00, Spot:14559.3, atm:14550 ITM PE:14600--> Selling Put @ 172.95\n",
      "In PE 14600 position and no Cover triggered\n",
      "In PE 14600 position and no Cover triggered\n",
      "In PE 14600 position and no Cover triggered\n",
      "DatetTime 2021-04-05 13:00:00, Spot:14562.0, atm:14550 ITM PE:14600--> Covering PE @ 172.55\n",
      "DatetTime 2021-04-05 13:10:00, Spot:14584.9, atm:14600 ITM PE:14650--> Selling Put @ 184.4\n",
      "In PE 14650 position and no Cover triggered\n",
      "In PE 14650 position and no Cover triggered\n",
      "In PE 14650 position and no Cover triggered\n",
      "In PE 14650 position and no Cover triggered\n",
      "In PE 14650 position and no Cover triggered\n",
      "In PE 14650 position and no Cover triggered\n",
      "In PE 14650 position and no Cover triggered\n",
      "In PE 14650 position and no Cover triggered\n",
      "In PE 14650 position and no Cover triggered\n",
      "In PE 14650 position and no Cover triggered\n",
      "DatetTime 2021-04-05 15:00:00, Spot:14635.0, atm:14650 ITM PE:14650--> Covering PE @ 132.0\n",
      "DatetTime 2021-04-06 11:00:00, Spot:14738.9, atm:14750 ITM PE:14800--> Selling Put @ 139.25\n",
      "In PE 14800 position and no Cover triggered\n",
      "In PE 14800 position and no Cover triggered\n",
      "In PE 14800 position and no Cover triggered\n",
      "DatetTime 2021-04-06 11:40:00, Spot:14717.5, atm:14700 ITM CE:14650--> Selling Call @ 160.25\n",
      "In PE 14800 position and no Cover triggered\n",
      "In CE 14650 position and no Cover triggered\n",
      "In PE 14800 position and no Cover triggered\n",
      "In CE 14650 position and no Cover triggered\n",
      "In PE 14800 position and no Cover triggered\n",
      "In CE 14650 position and no Cover triggered\n",
      "In PE 14800 position and no Cover triggered\n",
      "In CE 14650 position and no Cover triggered\n",
      "DatetTime 2021-04-06 12:20:00, Spot:14705.0, atm:14700 ITM PE:14800--> Covering PE @ 149.9\n",
      "In CE 14650 position and no Cover triggered\n",
      "In CE 14650 position and no Cover triggered\n",
      "In CE 14650 position and no Cover triggered\n",
      "In CE 14650 position and no Cover triggered\n",
      "DatetTime 2021-04-06 13:00:00, Spot:14685.4, atm:14700 ITM PE:14750--> Selling Put @ 131.5\n",
      "In CE 14650 position and no Cover triggered\n",
      "DatetTime 2021-04-06 13:10:00, Spot:14668.6, atm:14650 ITM PE:14750--> Covering PE @ 141.05\n",
      "In CE 14650 position and no Cover triggered\n",
      "In CE 14650 position and no Cover triggered\n",
      "In CE 14650 position and no Cover triggered\n",
      "In CE 14650 position and no Cover triggered\n",
      "In CE 14650 position and no Cover triggered\n",
      "In CE 14650 position and no Cover triggered\n",
      "In CE 14650 position and no Cover triggered\n",
      "In CE 14650 position and no Cover triggered\n",
      "In CE 14650 position and no Cover triggered\n",
      "In CE 14650 position and no Cover triggered\n",
      "DatetTime 2021-04-06 15:00:00, Spot:14674.8, atm:14650 ITM CE:14650--> Covering Call @ 122.95\n",
      "DatetTime 2021-04-07 11:00:00, Spot:14847.8, atm:14850 ITM PE:14900--> Selling Put @ 109.3\n",
      "In PE 14900 position and no Cover triggered\n",
      "In PE 14900 position and no Cover triggered\n",
      "In PE 14900 position and no Cover triggered\n",
      "In PE 14900 position and no Cover triggered\n",
      "In PE 14900 position and no Cover triggered\n",
      "In PE 14900 position and no Cover triggered\n",
      "In PE 14900 position and no Cover triggered\n",
      "In PE 14900 position and no Cover triggered\n",
      "In PE 14900 position and no Cover triggered\n",
      "In PE 14900 position and no Cover triggered\n",
      "In PE 14900 position and no Cover triggered\n",
      "In PE 14900 position and no Cover triggered\n",
      "DatetTime 2021-04-07 13:10:00, Spot:14836.9, atm:14850 ITM CE:14800--> Selling Call @ 101.7\n",
      "In PE 14900 position and no Cover triggered\n",
      "In CE 14800 position and no Cover triggered\n",
      "DatetTime 2021-04-07 13:20:00, Spot:14815.9, atm:14800 ITM PE:14900--> Covering PE @ 120.25\n",
      "In CE 14800 position and no Cover triggered\n",
      "In CE 14800 position and no Cover triggered\n",
      "In CE 14800 position and no Cover triggered\n",
      "DatetTime 2021-04-07 13:50:00, Spot:14837.6, atm:14850 ITM PE:14900--> Selling Put @ 104.75\n",
      "In CE 14800 position and no Cover triggered\n",
      "In PE 14900 position and no Cover triggered\n",
      "DatetTime 2021-04-07 14:10:00, Spot:14836.1, atm:14850 ITM CE:14800--> Covering Call @ 95.05\n",
      "In PE 14900 position and no Cover triggered\n",
      "In PE 14900 position and no Cover triggered\n",
      "In PE 14900 position and no Cover triggered\n",
      "DatetTime 2021-04-07 14:40:00, Spot:14817.8, atm:14800 ITM CE:14750--> Selling Call @ 118.0\n",
      "DatetTime 2021-04-07 14:40:00, Spot:14817.8, atm:14800 ITM PE:14900--> Covering PE @ 110.1\n",
      "In CE 14750 position and no Cover triggered\n",
      "DatetTime 2021-04-07 15:00:00, Spot:14823.1, atm:14800 ITM CE:14750--> Covering Call @ 118.9\n",
      "DatetTime 2021-04-08 11:00:00, Spot:14951.9, atm:14950 ITM PE:15000--> Selling Put @ 66.55\n",
      "In PE 15000 position and no Cover triggered\n",
      "In PE 15000 position and no Cover triggered\n",
      "DatetTime 2021-04-08 11:30:00, Spot:14933.5, atm:14950 ITM CE:14900--> Selling Call @ 61.65\n",
      "In PE 15000 position and no Cover triggered\n",
      "In CE 14900 position and no Cover triggered\n",
      "DatetTime 2021-04-08 11:40:00, Spot:14912.1, atm:14900 ITM PE:15000--> Covering PE @ 96.55\n",
      "In CE 14900 position and no Cover triggered\n",
      "In CE 14900 position and no Cover triggered\n",
      "In CE 14900 position and no Cover triggered\n",
      "In CE 14900 position and no Cover triggered\n",
      "DatetTime 2021-04-08 12:30:00, Spot:14940.1, atm:14950 ITM CE:14900--> Covering Call @ 53.95\n",
      "DatetTime 2021-04-08 12:30:00, Spot:14940.1, atm:14950 ITM PE:15000--> Selling Put @ 73.35\n",
      "In PE 15000 position and no Cover triggered\n",
      "In PE 15000 position and no Cover triggered\n",
      "In PE 15000 position and no Cover triggered\n",
      "In PE 15000 position and no Cover triggered\n",
      "In PE 15000 position and no Cover triggered\n",
      "In PE 15000 position and no Cover triggered\n",
      "In PE 15000 position and no Cover triggered\n",
      "DatetTime 2021-04-08 13:50:00, Spot:14947.6, atm:14950 ITM CE:14900--> Selling Call @ 55.75\n",
      "In PE 15000 position and no Cover triggered\n",
      "In CE 14900 position and no Cover triggered\n",
      "In PE 15000 position and no Cover triggered\n",
      "In CE 14900 position and no Cover triggered\n",
      "DatetTime 2021-04-08 14:10:00, Spot:14925.3, atm:14900 ITM PE:15000--> Covering PE @ 82.1\n",
      "In CE 14900 position and no Cover triggered\n",
      "In CE 14900 position and no Cover triggered\n",
      "In CE 14900 position and no Cover triggered\n",
      "In CE 14900 position and no Cover triggered\n",
      "DatetTime 2021-04-08 15:00:00, Spot:14879.3, atm:14900 ITM CE:14900--> Covering Call @ 1.15\n",
      "BackTesting from history file: importdatafiles/06_12_AUG_2021_weekly_expiryWEEKdata_VEGE_NF_AND_BNF_Options.csv\n",
      "DatetTime 2021-08-06 12:50:00, Spot:16247.9, atm:16250 ITM CE:16200--> Selling Call @ 115.15\n",
      "In CE 16200 position and no Cover triggered\n",
      "In CE 16200 position and no Cover triggered\n",
      "In CE 16200 position and no Cover triggered\n",
      "In CE 16200 position and no Cover triggered\n",
      "In CE 16200 position and no Cover triggered\n",
      "In CE 16200 position and no Cover triggered\n",
      "In CE 16200 position and no Cover triggered\n",
      "In CE 16200 position and no Cover triggered\n",
      "In CE 16200 position and no Cover triggered\n",
      "In CE 16200 position and no Cover triggered\n",
      "In CE 16200 position and no Cover triggered\n",
      "In CE 16200 position and no Cover triggered\n",
      "DatetTime 2021-08-06 15:00:00, Spot:16231.6, atm:16250 ITM CE:16200--> Covering Call @ 102.2\n",
      "DatetTime 2021-08-09 11:00:00, Spot:16277.0, atm:16300 ITM CE:16250--> Selling Call @ 88.6\n",
      "DatetTime 2021-08-09 11:10:00, Spot:16294.2, atm:16300 ITM CE:16250--> Covering Call @ 94.9\n",
      "DatetTime 2021-08-09 11:20:00, Spot:16283.9, atm:16300 ITM CE:16250--> Selling Call @ 89.2\n",
      "In CE 16250 position and no Cover triggered\n",
      "In CE 16250 position and no Cover triggered\n",
      "In CE 16250 position and no Cover triggered\n",
      "In CE 16250 position and no Cover triggered\n",
      "In CE 16250 position and no Cover triggered\n",
      "In CE 16250 position and no Cover triggered\n",
      "In CE 16250 position and no Cover triggered\n",
      "In CE 16250 position and no Cover triggered\n",
      "In CE 16250 position and no Cover triggered\n",
      "In CE 16250 position and no Cover triggered\n",
      "In CE 16250 position and no Cover triggered\n",
      "In CE 16250 position and no Cover triggered\n",
      "In CE 16250 position and no Cover triggered\n",
      "In CE 16250 position and no Cover triggered\n",
      "In CE 16250 position and no Cover triggered\n",
      "In CE 16250 position and no Cover triggered\n",
      "DatetTime 2021-08-09 14:10:00, Spot:16229.5, atm:16250 ITM CE:16250--> Covering Call @ 58.8\n",
      "DatetTime 2021-08-09 14:20:00, Spot:16235.1, atm:16250 ITM PE:16300--> Selling Put @ 110.25\n",
      "In PE 16300 position and no Cover triggered\n",
      "DatetTime 2021-08-09 14:40:00, Spot:16220.1, atm:16200 ITM PE:16300--> Covering PE @ 119.35\n",
      "DatetTime 2021-08-10 11:00:00, Spot:16343.4, atm:16350 ITM PE:16400--> Selling Put @ 98.6\n",
      "In PE 16400 position and no Cover triggered\n",
      "In PE 16400 position and no Cover triggered\n",
      "In PE 16400 position and no Cover triggered\n",
      "In PE 16400 position and no Cover triggered\n",
      "In PE 16400 position and no Cover triggered\n",
      "In PE 16400 position and no Cover triggered\n",
      "In PE 16400 position and no Cover triggered\n",
      "In PE 16400 position and no Cover triggered\n",
      "In PE 16400 position and no Cover triggered\n",
      "In PE 16400 position and no Cover triggered\n",
      "DatetTime 2021-08-10 12:50:00, Spot:16324.3, atm:16300 ITM CE:16250--> Selling Call @ 107.55\n",
      "DatetTime 2021-08-10 12:50:00, Spot:16324.3, atm:16300 ITM PE:16400--> Covering PE @ 108.45\n",
      "In CE 16250 position and no Cover triggered\n",
      "In CE 16250 position and no Cover triggered\n",
      "In CE 16250 position and no Cover triggered\n",
      "DatetTime 2021-08-10 13:30:00, Spot:16336.9, atm:16350 ITM CE:16250--> Covering Call @ 111.95\n",
      "DatetTime 2021-08-10 13:40:00, Spot:16325.9, atm:16300 ITM CE:16250--> Selling Call @ 105.85\n",
      "In CE 16250 position and no Cover triggered\n",
      "In CE 16250 position and no Cover triggered\n",
      "In CE 16250 position and no Cover triggered\n",
      "In CE 16250 position and no Cover triggered\n",
      "In CE 16250 position and no Cover triggered\n",
      "In CE 16250 position and no Cover triggered\n",
      "DatetTime 2021-08-10 14:50:00, Spot:16272.9, atm:16250 ITM CE:16250--> Covering Call @ 67.85\n",
      "DatetTime 2021-08-11 11:00:00, Spot:16203.2, atm:16200 ITM CE:16150--> Selling Call @ 103.3\n",
      "In CE 16150 position and no Cover triggered\n",
      "In CE 16150 position and no Cover triggered\n",
      "In CE 16150 position and no Cover triggered\n",
      "In CE 16150 position and no Cover triggered\n",
      "In CE 16150 position and no Cover triggered\n",
      "In CE 16150 position and no Cover triggered\n",
      "In CE 16150 position and no Cover triggered\n",
      "DatetTime 2021-08-11 12:20:00, Spot:16224.0, atm:16200 ITM CE:16150--> Covering Call @ 102.0\n",
      "DatetTime 2021-08-11 12:20:00, Spot:16224.0, atm:16200 ITM PE:16250--> Selling Put @ 69.4\n",
      "In PE 16250 position and no Cover triggered\n",
      "In PE 16250 position and no Cover triggered\n",
      "In PE 16250 position and no Cover triggered\n",
      "In PE 16250 position and no Cover triggered\n",
      "In PE 16250 position and no Cover triggered\n",
      "In PE 16250 position and no Cover triggered\n",
      "In PE 16250 position and no Cover triggered\n",
      "In PE 16250 position and no Cover triggered\n",
      "In PE 16250 position and no Cover triggered\n",
      "In PE 16250 position and no Cover triggered\n",
      "In PE 16250 position and no Cover triggered\n",
      "DatetTime 2021-08-11 14:20:00, Spot:16236.9, atm:16250 ITM CE:16200--> Selling Call @ 66.8\n",
      "In PE 16250 position and no Cover triggered\n",
      "In CE 16200 position and no Cover triggered\n",
      "In PE 16250 position and no Cover triggered\n",
      "In CE 16200 position and no Cover triggered\n",
      "In PE 16250 position and no Cover triggered\n",
      "DatetTime 2021-08-11 14:50:00, Spot:16247.0, atm:16250 ITM CE:16200--> Covering Call @ 77.8\n",
      "In PE 16250 position and no Cover triggered\n",
      "DatetTime 2021-08-11 15:00:00, Spot:16284.4, atm:16300 ITM PE:16250--> Covering PE @ 30.0\n",
      "DatetTime 2021-08-12 11:00:00, Spot:16331.8, atm:16350 ITM PE:16400--> Selling Put @ 79.8\n",
      "In PE 16400 position and no Cover triggered\n",
      "In PE 16400 position and no Cover triggered\n",
      "In PE 16400 position and no Cover triggered\n",
      "In PE 16400 position and no Cover triggered\n",
      "In PE 16400 position and no Cover triggered\n",
      "In PE 16400 position and no Cover triggered\n",
      "In PE 16400 position and no Cover triggered\n",
      "In PE 16400 position and no Cover triggered\n",
      "In PE 16400 position and no Cover triggered\n",
      "In PE 16400 position and no Cover triggered\n",
      "In PE 16400 position and no Cover triggered\n",
      "In PE 16400 position and no Cover triggered\n",
      "In PE 16400 position and no Cover triggered\n",
      "In PE 16400 position and no Cover triggered\n",
      "In PE 16400 position and no Cover triggered\n",
      "In PE 16400 position and no Cover triggered\n",
      "In PE 16400 position and no Cover triggered\n",
      "In PE 16400 position and no Cover triggered\n",
      "DatetTime 2021-08-12 14:10:00, Spot:16344.3, atm:16350 ITM CE:16300--> Selling Call @ 49.7\n",
      "DatetTime 2021-08-12 14:10:00, Spot:16344.3, atm:16350 ITM PE:16400--> Covering PE @ 56.6\n",
      "In CE 16300 position and no Cover triggered\n",
      "In CE 16300 position and no Cover triggered\n",
      "In CE 16300 position and no Cover triggered\n",
      "DatetTime 2021-08-12 14:50:00, Spot:16359.7, atm:16350 ITM CE:16300--> Covering Call @ 58.2\n",
      "DatetTime 2021-08-12 14:50:00, Spot:16359.7, atm:16350 ITM PE:16400--> Selling Put @ 43.3\n",
      "DatetTime 2021-08-12 15:00:00, Spot:16364.8, atm:16350 ITM PE:16400--> Covering PE @ 35.75\n",
      "BackTesting from history file: importdatafiles/07-12May -W-ExpiryWEEKdata_2021_NF_BNF_vege.csv\n",
      "DatetTime 2021-05-07 11:30:00, Spot:14830.2, atm:14850 ITM PE:14900--> Selling Put @ 163.25\n",
      "DatetTime 2021-05-07 11:40:00, Spot:14821.1, atm:14800 ITM PE:14900--> Covering PE @ 168.3\n",
      "DatetTime 2021-05-07 12:10:00, Spot:14788.3, atm:14800 ITM CE:14750--> Selling Call @ 157.0\n",
      "In CE 14750 position and no Cover triggered\n",
      "In CE 14750 position and no Cover triggered\n",
      "In CE 14750 position and no Cover triggered\n",
      "In CE 14750 position and no Cover triggered\n",
      "In CE 14750 position and no Cover triggered\n",
      "In CE 14750 position and no Cover triggered\n",
      "In CE 14750 position and no Cover triggered\n",
      "In CE 14750 position and no Cover triggered\n",
      "DatetTime 2021-05-07 13:30:00, Spot:14801.1, atm:14800 ITM PE:14850--> Selling Put @ 149.75\n",
      "DatetTime 2021-05-07 13:40:00, Spot:14814.4, atm:14800 ITM CE:14750--> Covering Call @ 165.5\n",
      "In PE 14850 position and no Cover triggered\n",
      "In PE 14850 position and no Cover triggered\n",
      "In PE 14850 position and no Cover triggered\n",
      "In PE 14850 position and no Cover triggered\n",
      "In PE 14850 position and no Cover triggered\n",
      "In PE 14850 position and no Cover triggered\n",
      "In PE 14850 position and no Cover triggered\n",
      "In PE 14850 position and no Cover triggered\n",
      "DatetTime 2021-05-07 15:00:00, Spot:14830.6, atm:14850 ITM PE:14850--> Covering PE @ 132.15\n",
      "DatetTime 2021-05-10 11:00:00, Spot:14935.3, atm:14950 ITM PE:15000--> Selling Put @ 127.2\n",
      "In PE 15000 position and no Cover triggered\n",
      "In PE 15000 position and no Cover triggered\n",
      "In PE 15000 position and no Cover triggered\n",
      "In PE 15000 position and no Cover triggered\n",
      "In PE 15000 position and no Cover triggered\n",
      "In PE 15000 position and no Cover triggered\n",
      "In PE 15000 position and no Cover triggered\n",
      "In PE 15000 position and no Cover triggered\n",
      "In PE 15000 position and no Cover triggered\n",
      "In PE 15000 position and no Cover triggered\n",
      "In PE 15000 position and no Cover triggered\n",
      "In PE 15000 position and no Cover triggered\n",
      "DatetTime 2021-05-10 13:10:00, Spot:14924.0, atm:14900 ITM CE:14850--> Selling Call @ 145.2\n",
      "DatetTime 2021-05-10 13:10:00, Spot:14924.0, atm:14900 ITM PE:15000--> Covering PE @ 128.25\n",
      "In CE 14850 position and no Cover triggered\n",
      "In CE 14850 position and no Cover triggered\n",
      "DatetTime 2021-05-10 13:40:00, Spot:14948.6, atm:14950 ITM CE:14850--> Covering Call @ 155.9\n",
      "DatetTime 2021-05-10 13:50:00, Spot:14954.6, atm:14950 ITM PE:15000--> Selling Put @ 110.85\n",
      "In PE 15000 position and no Cover triggered\n",
      "In PE 15000 position and no Cover triggered\n",
      "In PE 15000 position and no Cover triggered\n",
      "In PE 15000 position and no Cover triggered\n",
      "In PE 15000 position and no Cover triggered\n",
      "DatetTime 2021-05-10 14:50:00, Spot:14934.4, atm:14950 ITM CE:14900--> Selling Call @ 117.35\n",
      "DatetTime 2021-05-10 14:50:00, Spot:14934.4, atm:14950 ITM PE:15000--> Covering PE @ 119.75\n",
      "DatetTime 2021-05-10 15:00:00, Spot:14944.0, atm:14950 ITM CE:14900--> Covering Call @ 120.7\n",
      "DatetTime 2021-05-11 11:00:00, Spot:14831.4, atm:14850 ITM CE:14800--> Selling Call @ 88.9\n",
      "In CE 14800 position and no Cover triggered\n",
      "DatetTime 2021-05-11 11:10:00, Spot:14842.9, atm:14850 ITM PE:14900--> Selling Put @ 99.65\n",
      "DatetTime 2021-05-11 11:20:00, Spot:14858.0, atm:14850 ITM CE:14800--> Covering Call @ 103.3\n",
      "In PE 14900 position and no Cover triggered\n",
      "In PE 14900 position and no Cover triggered\n",
      "In PE 14900 position and no Cover triggered\n",
      "In PE 14900 position and no Cover triggered\n",
      "In PE 14900 position and no Cover triggered\n",
      "In PE 14900 position and no Cover triggered\n",
      "In PE 14900 position and no Cover triggered\n",
      "DatetTime 2021-05-11 12:30:00, Spot:14874.6, atm:14850 ITM CE:14800--> Selling Call @ 116.35\n",
      "In PE 14900 position and no Cover triggered\n",
      "In CE 14800 position and no Cover triggered\n",
      "DatetTime 2021-05-11 12:40:00, Spot:14859.0, atm:14850 ITM PE:14900--> Covering PE @ 89.1\n",
      "In CE 14800 position and no Cover triggered\n",
      "In CE 14800 position and no Cover triggered\n",
      "In CE 14800 position and no Cover triggered\n",
      "In CE 14800 position and no Cover triggered\n",
      "In CE 14800 position and no Cover triggered\n",
      "In CE 14800 position and no Cover triggered\n",
      "In CE 14800 position and no Cover triggered\n",
      "In CE 14800 position and no Cover triggered\n",
      "DatetTime 2021-05-11 14:10:00, Spot:14845.6, atm:14850 ITM CE:14800--> Covering Call @ 93.0\n",
      "DatetTime 2021-05-11 14:10:00, Spot:14845.6, atm:14850 ITM PE:14900--> Selling Put @ 94.6\n",
      "DatetTime 2021-05-11 14:20:00, Spot:14836.5, atm:14850 ITM PE:14900--> Covering PE @ 104.0\n",
      "DatetTime 2021-05-11 14:30:00, Spot:14846.6, atm:14850 ITM PE:14900--> Selling Put @ 92.6\n",
      "In PE 14900 position and no Cover triggered\n",
      "DatetTime 2021-05-11 14:50:00, Spot:14836.5, atm:14850 ITM PE:14900--> Covering PE @ 98.5\n",
      "DatetTime 2021-05-12 11:00:00, Spot:14727.5, atm:14750 ITM CE:14700--> Selling Call @ 56.1\n",
      "In CE 14700 position and no Cover triggered\n",
      "In CE 14700 position and no Cover triggered\n",
      "In CE 14700 position and no Cover triggered\n",
      "In CE 14700 position and no Cover triggered\n",
      "In CE 14700 position and no Cover triggered\n",
      "DatetTime 2021-05-12 12:00:00, Spot:14755.3, atm:14750 ITM CE:14700--> Covering Call @ 67.5\n",
      "DatetTime 2021-05-12 12:00:00, Spot:14755.3, atm:14750 ITM PE:14800--> Selling Put @ 61.55\n",
      "In PE 14800 position and no Cover triggered\n",
      "In PE 14800 position and no Cover triggered\n",
      "In PE 14800 position and no Cover triggered\n",
      "In PE 14800 position and no Cover triggered\n",
      "In PE 14800 position and no Cover triggered\n",
      "In PE 14800 position and no Cover triggered\n",
      "In PE 14800 position and no Cover triggered\n",
      "In PE 14800 position and no Cover triggered\n",
      "DatetTime 2021-05-12 13:30:00, Spot:14746.8, atm:14750 ITM CE:14700--> Selling Call @ 52.8\n",
      "DatetTime 2021-05-12 13:30:00, Spot:14746.8, atm:14750 ITM PE:14800--> Covering PE @ 64.35\n",
      "In CE 14700 position and no Cover triggered\n",
      "In CE 14700 position and no Cover triggered\n",
      "DatetTime 2021-05-12 13:50:00, Spot:14749.9, atm:14750 ITM PE:14800--> Selling Put @ 58.65\n",
      "In CE 14700 position and no Cover triggered\n",
      "In PE 14800 position and no Cover triggered\n",
      "In CE 14700 position and no Cover triggered\n",
      "In PE 14800 position and no Cover triggered\n",
      "In CE 14700 position and no Cover triggered\n",
      "DatetTime 2021-05-12 14:20:00, Spot:14739.2, atm:14750 ITM PE:14800--> Covering PE @ 61.8\n",
      "In CE 14700 position and no Cover triggered\n",
      "In CE 14700 position and no Cover triggered\n",
      "In CE 14700 position and no Cover triggered\n",
      "DatetTime 2021-05-12 15:00:00, Spot:14700.8, atm:14700 ITM CE:14700--> Covering Call @ 4.7\n",
      "BackTesting from history file: importdatafiles/07_13_Jan_22_WEEKLY_expiry_data_VEGE_NF_AND_BNF_Options_Desktop.csv\n",
      "DatetTime 2022-01-07 11:00:00, Spot:17844.1, atm:17850 ITM CE:17800--> Selling Call @ 164.6\n",
      "In CE 17800 position and no Cover triggered\n",
      "In CE 17800 position and no Cover triggered\n",
      "In CE 17800 position and no Cover triggered\n",
      "In CE 17800 position and no Cover triggered\n",
      "In CE 17800 position and no Cover triggered\n",
      "In CE 17800 position and no Cover triggered\n",
      "In CE 17800 position and no Cover triggered\n",
      "In CE 17800 position and no Cover triggered\n",
      "In CE 17800 position and no Cover triggered\n",
      "In CE 17800 position and no Cover triggered\n",
      "In CE 17800 position and no Cover triggered\n",
      "In CE 17800 position and no Cover triggered\n",
      "In CE 17800 position and no Cover triggered\n",
      "DatetTime 2022-01-07 13:20:00, Spot:17780.0, atm:17800 ITM CE:17800--> Covering Call @ 132.2\n",
      "DatetTime 2022-01-07 13:40:00, Spot:17791.7, atm:17800 ITM PE:17850--> Selling Put @ 166.0\n",
      "In PE 17850 position and no Cover triggered\n",
      "DatetTime 2022-01-07 14:00:00, Spot:17770.0, atm:17750 ITM PE:17850--> Covering PE @ 179.8\n",
      "DatetTime 2022-01-07 14:10:00, Spot:17756.7, atm:17750 ITM CE:17700--> Selling Call @ 171.15\n",
      "In CE 17700 position and no Cover triggered\n",
      "DatetTime 2022-01-07 14:30:00, Spot:17784.6, atm:17800 ITM CE:17700--> Covering Call @ 189.75\n",
      "DatetTime 2022-01-07 14:30:00, Spot:17784.6, atm:17800 ITM PE:17850--> Selling Put @ 164.45\n",
      "DatetTime 2022-01-07 14:40:00, Spot:17781.4, atm:17800 ITM CE:17750--> Selling Call @ 156.85\n",
      "In PE 17850 position and no Cover triggered\n",
      "In CE 17750 position and no Cover triggered\n",
      "DatetTime 2022-01-07 14:50:00, Spot:17768.0, atm:17750 ITM PE:17850--> Covering PE @ 176.95\n",
      "DatetTime 2022-01-07 15:00:00, Spot:17811.5, atm:17800 ITM CE:17750--> Covering Call @ 178.0\n",
      "DatetTime 2022-01-10 11:00:00, Spot:17973.4, atm:17950 ITM PE:18000--> Selling Put @ 125.9\n",
      "In PE 18000 position and no Cover triggered\n",
      "DatetTime 2022-01-10 11:20:00, Spot:17932.2, atm:17950 ITM CE:17900--> Selling Call @ 136.15\n",
      "In PE 18000 position and no Cover triggered\n",
      "In CE 17900 position and no Cover triggered\n",
      "In PE 18000 position and no Cover triggered\n",
      "In CE 17900 position and no Cover triggered\n",
      "DatetTime 2022-01-10 11:40:00, Spot:17918.9, atm:17900 ITM PE:18000--> Covering PE @ 155.25\n",
      "In CE 17900 position and no Cover triggered\n",
      "In CE 17900 position and no Cover triggered\n",
      "DatetTime 2022-01-10 12:10:00, Spot:17953.0, atm:17950 ITM CE:17900--> Covering Call @ 146.15\n",
      "DatetTime 2022-01-10 12:10:00, Spot:17953.0, atm:17950 ITM PE:18000--> Selling Put @ 132.4\n",
      "In PE 18000 position and no Cover triggered\n",
      "In PE 18000 position and no Cover triggered\n",
      "In PE 18000 position and no Cover triggered\n",
      "In PE 18000 position and no Cover triggered\n",
      "In PE 18000 position and no Cover triggered\n",
      "In PE 18000 position and no Cover triggered\n",
      "In PE 18000 position and no Cover triggered\n",
      "In PE 18000 position and no Cover triggered\n",
      "In PE 18000 position and no Cover triggered\n",
      "In PE 18000 position and no Cover triggered\n",
      "In PE 18000 position and no Cover triggered\n",
      "In PE 18000 position and no Cover triggered\n",
      "In PE 18000 position and no Cover triggered\n",
      "In PE 18000 position and no Cover triggered\n",
      "In PE 18000 position and no Cover triggered\n",
      "In PE 18000 position and no Cover triggered\n",
      "DatetTime 2022-01-10 15:00:00, Spot:17996.3, atm:18000 ITM PE:18000--> Covering PE @ 106.05\n",
      "DatetTime 2022-01-11 11:00:00, Spot:18024.7, atm:18000 ITM PE:18050--> Selling Put @ 110.15\n",
      "In PE 18050 position and no Cover triggered\n",
      "In PE 18050 position and no Cover triggered\n",
      "In PE 18050 position and no Cover triggered\n",
      "In PE 18050 position and no Cover triggered\n",
      "In PE 18050 position and no Cover triggered\n",
      "In PE 18050 position and no Cover triggered\n",
      "In PE 18050 position and no Cover triggered\n",
      "In PE 18050 position and no Cover triggered\n",
      "In PE 18050 position and no Cover triggered\n",
      "In PE 18050 position and no Cover triggered\n",
      "In PE 18050 position and no Cover triggered\n",
      "In PE 18050 position and no Cover triggered\n",
      "In PE 18050 position and no Cover triggered\n",
      "In PE 18050 position and no Cover triggered\n",
      "In PE 18050 position and no Cover triggered\n",
      "DatetTime 2022-01-11 13:40:00, Spot:18045.2, atm:18050 ITM CE:18000--> Selling Call @ 124.45\n",
      "DatetTime 2022-01-11 13:40:00, Spot:18045.2, atm:18050 ITM PE:18050--> Covering PE @ 90.65\n",
      "In CE 18000 position and no Cover triggered\n",
      "DatetTime 2022-01-11 14:00:00, Spot:18059.8, atm:18050 ITM CE:18000--> Covering Call @ 132.15\n",
      "DatetTime 2022-01-11 14:10:00, Spot:18073.0, atm:18050 ITM PE:18100--> Selling Put @ 99.75\n",
      "In PE 18100 position and no Cover triggered\n",
      "DatetTime 2022-01-11 14:30:00, Spot:18030.6, atm:18050 ITM CE:18000--> Selling Call @ 117.6\n",
      "DatetTime 2022-01-11 14:30:00, Spot:18030.6, atm:18050 ITM PE:18100--> Covering PE @ 124.0\n",
      "In CE 18000 position and no Cover triggered\n",
      "In CE 18000 position and no Cover triggered\n",
      "DatetTime 2022-01-11 15:00:00, Spot:18063.7, atm:18050 ITM CE:18000--> Covering Call @ 131.95\n",
      "DatetTime 2022-01-12 11:00:00, Spot:18194.2, atm:18200 ITM PE:18250--> Selling Put @ 95.9\n",
      "In PE 18250 position and no Cover triggered\n",
      "In PE 18250 position and no Cover triggered\n",
      "In PE 18250 position and no Cover triggered\n",
      "In PE 18250 position and no Cover triggered\n",
      "In PE 18250 position and no Cover triggered\n",
      "In PE 18250 position and no Cover triggered\n",
      "In PE 18250 position and no Cover triggered\n",
      "In PE 18250 position and no Cover triggered\n",
      "In PE 18250 position and no Cover triggered\n",
      "In PE 18250 position and no Cover triggered\n",
      "In PE 18250 position and no Cover triggered\n",
      "In PE 18250 position and no Cover triggered\n",
      "DatetTime 2022-01-12 13:10:00, Spot:18167.4, atm:18150 ITM CE:18100--> Selling Call @ 112.6\n",
      "DatetTime 2022-01-12 13:10:00, Spot:18167.4, atm:18150 ITM PE:18250--> Covering PE @ 106.25\n",
      "In CE 18100 position and no Cover triggered\n",
      "DatetTime 2022-01-12 13:30:00, Spot:18194.0, atm:18200 ITM CE:18100--> Covering Call @ 126.9\n",
      "DatetTime 2022-01-12 13:30:00, Spot:18194.0, atm:18200 ITM PE:18250--> Selling Put @ 89.75\n",
      "DatetTime 2022-01-12 13:40:00, Spot:18187.8, atm:18200 ITM CE:18150--> Selling Call @ 88.2\n",
      "In PE 18250 position and no Cover triggered\n",
      "In CE 18150 position and no Cover triggered\n",
      "DatetTime 2022-01-12 13:50:00, Spot:18176.5, atm:18200 ITM PE:18250--> Covering PE @ 100.7\n",
      "In CE 18150 position and no Cover triggered\n",
      "In CE 18150 position and no Cover triggered\n",
      "DatetTime 2022-01-12 14:10:00, Spot:18181.0, atm:18200 ITM PE:18250--> Selling Put @ 96.35\n",
      "In CE 18150 position and no Cover triggered\n",
      "DatetTime 2022-01-12 14:20:00, Spot:18179.0, atm:18200 ITM PE:18250--> Covering PE @ 99.75\n",
      "DatetTime 2022-01-12 14:30:00, Spot:18195.5, atm:18200 ITM CE:18150--> Covering Call @ 88.7\n",
      "DatetTime 2022-01-12 14:30:00, Spot:18195.5, atm:18200 ITM PE:18250--> Selling Put @ 88.3\n",
      "In PE 18250 position and no Cover triggered\n",
      "In PE 18250 position and no Cover triggered\n",
      "DatetTime 2022-01-12 15:00:00, Spot:18219.1, atm:18200 ITM PE:18250--> Covering PE @ 74.45\n",
      "DatetTime 2022-01-13 11:00:00, Spot:18213.5, atm:18200 ITM CE:18150--> Selling Call @ 76.35\n",
      "DatetTime 2022-01-13 11:00:00, Spot:18213.5, atm:18200 ITM PE:18250--> Selling Put @ 54.9\n",
      "DatetTime 2022-01-13 11:10:00, Spot:18223.3, atm:18200 ITM CE:18150--> Covering Call @ 81.15\n",
      "In PE 18250 position and no Cover triggered\n",
      "In PE 18250 position and no Cover triggered\n",
      "In PE 18250 position and no Cover triggered\n",
      "In PE 18250 position and no Cover triggered\n",
      "In PE 18250 position and no Cover triggered\n",
      "In PE 18250 position and no Cover triggered\n",
      "In PE 18250 position and no Cover triggered\n",
      "DatetTime 2022-01-13 12:20:00, Spot:18231.6, atm:18250 ITM CE:18200--> Selling Call @ 46.8\n",
      "In PE 18250 position and no Cover triggered\n",
      "In CE 18200 position and no Cover triggered\n",
      "DatetTime 2022-01-13 12:30:00, Spot:18217.5, atm:18200 ITM PE:18250--> Covering PE @ 45.1\n",
      "In CE 18200 position and no Cover triggered\n",
      "In CE 18200 position and no Cover triggered\n",
      "In CE 18200 position and no Cover triggered\n",
      "In CE 18200 position and no Cover triggered\n",
      "In CE 18200 position and no Cover triggered\n",
      "DatetTime 2022-01-13 13:30:00, Spot:18223.7, atm:18200 ITM CE:18200--> Covering Call @ 35.2\n",
      "DatetTime 2022-01-13 13:30:00, Spot:18223.7, atm:18200 ITM PE:18250--> Selling Put @ 38.05\n",
      "In PE 18250 position and no Cover triggered\n",
      "In PE 18250 position and no Cover triggered\n",
      "In PE 18250 position and no Cover triggered\n",
      "In PE 18250 position and no Cover triggered\n",
      "DatetTime 2022-01-13 14:20:00, Spot:18218.0, atm:18200 ITM CE:18150--> Selling Call @ 72.3\n",
      "In PE 18250 position and no Cover triggered\n",
      "In CE 18150 position and no Cover triggered\n",
      "DatetTime 2022-01-13 14:30:00, Spot:18206.0, atm:18200 ITM PE:18250--> Covering PE @ 43.45\n",
      "In CE 18150 position and no Cover triggered\n",
      "In CE 18150 position and no Cover triggered\n",
      "DatetTime 2022-01-13 15:00:00, Spot:18257.7, atm:18250 ITM CE:18150--> Covering Call @ 103.6\n",
      "BackTesting from history file: importdatafiles/08-14--OCT-2021-WEEKLY-expiry_data__VEGE_NF_AND_BNF_Options.csv\n",
      "DatetTime 2021-10-08 12:00:00, Spot:17892.4, atm:17900 ITM CE:17850--> Selling Call @ 138.0\n",
      "In CE 17850 position and no Cover triggered\n",
      "In CE 17850 position and no Cover triggered\n",
      "In CE 17850 position and no Cover triggered\n",
      "DatetTime 2021-10-08 12:30:00, Spot:17881.8, atm:17900 ITM PE:17950--> Selling Put @ 145.4\n",
      "In CE 17850 position and no Cover triggered\n",
      "DatetTime 2021-10-08 12:40:00, Spot:17872.5, atm:17850 ITM PE:17950--> Covering PE @ 154.1\n",
      "In CE 17850 position and no Cover triggered\n",
      "DatetTime 2021-10-08 12:50:00, Spot:17889.3, atm:17900 ITM PE:17950--> Selling Put @ 147.05\n",
      "In CE 17850 position and no Cover triggered\n",
      "DatetTime 2021-10-08 13:00:00, Spot:17872.1, atm:17850 ITM PE:17950--> Covering PE @ 154.45\n",
      "In CE 17850 position and no Cover triggered\n",
      "DatetTime 2021-10-08 13:10:00, Spot:17883.3, atm:17900 ITM PE:17950--> Selling Put @ 149.75\n",
      "In CE 17850 position and no Cover triggered\n",
      "In PE 17950 position and no Cover triggered\n",
      "In CE 17850 position and no Cover triggered\n",
      "In PE 17950 position and no Cover triggered\n",
      "In CE 17850 position and no Cover triggered\n",
      "In PE 17950 position and no Cover triggered\n",
      "DatetTime 2021-10-08 13:50:00, Spot:17891.7, atm:17900 ITM CE:17850--> Covering Call @ 133.6\n",
      "In PE 17950 position and no Cover triggered\n",
      "In PE 17950 position and no Cover triggered\n",
      "In PE 17950 position and no Cover triggered\n",
      "In PE 17950 position and no Cover triggered\n",
      "In PE 17950 position and no Cover triggered\n",
      "In PE 17950 position and no Cover triggered\n",
      "In PE 17950 position and no Cover triggered\n",
      "DatetTime 2021-10-08 15:00:00, Spot:17894.2, atm:17900 ITM PE:17950--> Covering PE @ 135.95\n",
      "DatetTime 2021-10-11 11:00:00, Spot:18005.9, atm:18000 ITM PE:18050--> Selling Put @ 118.05\n",
      "In PE 18050 position and no Cover triggered\n",
      "In PE 18050 position and no Cover triggered\n",
      "In PE 18050 position and no Cover triggered\n",
      "In PE 18050 position and no Cover triggered\n",
      "In PE 18050 position and no Cover triggered\n",
      "In PE 18050 position and no Cover triggered\n",
      "In PE 18050 position and no Cover triggered\n",
      "In PE 18050 position and no Cover triggered\n",
      "In PE 18050 position and no Cover triggered\n",
      "In PE 18050 position and no Cover triggered\n",
      "In PE 18050 position and no Cover triggered\n",
      "In PE 18050 position and no Cover triggered\n",
      "In PE 18050 position and no Cover triggered\n",
      "In PE 18050 position and no Cover triggered\n",
      "In PE 18050 position and no Cover triggered\n",
      "In PE 18050 position and no Cover triggered\n",
      "DatetTime 2021-10-11 13:50:00, Spot:17992.2, atm:18000 ITM CE:17950--> Selling Call @ 128.95\n",
      "DatetTime 2021-10-11 13:50:00, Spot:17992.2, atm:18000 ITM PE:18050--> Covering PE @ 121.35\n",
      "DatetTime 2021-10-11 14:00:00, Spot:18006.6, atm:18000 ITM CE:17950--> Covering Call @ 138.25\n",
      "DatetTime 2021-10-11 14:10:00, Spot:17994.1, atm:18000 ITM CE:17950--> Selling Call @ 133.55\n",
      "DatetTime 2021-10-11 14:20:00, Spot:17999.5, atm:18000 ITM CE:17950--> Covering Call @ 138.5\n",
      "DatetTime 2021-10-11 14:30:00, Spot:17984.5, atm:18000 ITM CE:17950--> Selling Call @ 131.35\n",
      "In CE 17950 position and no Cover triggered\n",
      "In CE 17950 position and no Cover triggered\n",
      "DatetTime 2021-10-11 15:00:00, Spot:17958.2, atm:17950 ITM CE:17950--> Covering Call @ 109.0\n",
      "DatetTime 2021-10-12 11:00:00, Spot:17923.8, atm:17900 ITM CE:17850--> Selling Call @ 132.4\n",
      "In CE 17850 position and no Cover triggered\n",
      "In CE 17850 position and no Cover triggered\n",
      "In CE 17850 position and no Cover triggered\n",
      "In CE 17850 position and no Cover triggered\n",
      "In CE 17850 position and no Cover triggered\n",
      "In CE 17850 position and no Cover triggered\n",
      "In CE 17850 position and no Cover triggered\n",
      "In CE 17850 position and no Cover triggered\n",
      "In CE 17850 position and no Cover triggered\n",
      "DatetTime 2021-10-12 12:30:00, Spot:17906.0, atm:17900 ITM PE:17950--> Selling Put @ 112.0\n",
      "DatetTime 2021-10-12 12:40:00, Spot:17933.6, atm:17950 ITM CE:17850--> Covering Call @ 132.25\n",
      "In PE 17950 position and no Cover triggered\n",
      "In PE 17950 position and no Cover triggered\n",
      "In PE 17950 position and no Cover triggered\n",
      "In PE 17950 position and no Cover triggered\n",
      "In PE 17950 position and no Cover triggered\n",
      "In PE 17950 position and no Cover triggered\n",
      "In PE 17950 position and no Cover triggered\n",
      "In PE 17950 position and no Cover triggered\n",
      "In PE 17950 position and no Cover triggered\n",
      "In PE 17950 position and no Cover triggered\n",
      "In PE 17950 position and no Cover triggered\n",
      "In PE 17950 position and no Cover triggered\n",
      "In PE 17950 position and no Cover triggered\n",
      "In PE 17950 position and no Cover triggered\n",
      "DatetTime 2021-10-12 15:00:00, Spot:17982.0, atm:18000 ITM PE:17950--> Covering PE @ 67.6\n",
      "DatetTime 2021-10-13 11:00:00, Spot:18131.8, atm:18150 ITM PE:18200--> Selling Put @ 104.55\n",
      "In PE 18200 position and no Cover triggered\n",
      "In PE 18200 position and no Cover triggered\n",
      "In PE 18200 position and no Cover triggered\n",
      "In PE 18200 position and no Cover triggered\n",
      "In PE 18200 position and no Cover triggered\n",
      "In PE 18200 position and no Cover triggered\n",
      "In PE 18200 position and no Cover triggered\n",
      "In PE 18200 position and no Cover triggered\n",
      "In PE 18200 position and no Cover triggered\n",
      "In PE 18200 position and no Cover triggered\n",
      "In PE 18200 position and no Cover triggered\n",
      "In PE 18200 position and no Cover triggered\n",
      "In PE 18200 position and no Cover triggered\n",
      "In PE 18200 position and no Cover triggered\n",
      "In PE 18200 position and no Cover triggered\n",
      "In PE 18200 position and no Cover triggered\n",
      "In PE 18200 position and no Cover triggered\n",
      "In PE 18200 position and no Cover triggered\n",
      "In PE 18200 position and no Cover triggered\n",
      "In PE 18200 position and no Cover triggered\n",
      "In PE 18200 position and no Cover triggered\n",
      "In PE 18200 position and no Cover triggered\n",
      "In PE 18200 position and no Cover triggered\n",
      "DatetTime 2021-10-13 15:00:00, Spot:18156.1, atm:18150 ITM PE:18200--> Covering PE @ 78.6\n",
      "DatetTime 2021-10-14 11:00:00, Spot:18302.0, atm:18300 ITM PE:18350--> Selling Put @ 70.05\n",
      "In PE 18350 position and no Cover triggered\n",
      "In PE 18350 position and no Cover triggered\n",
      "In PE 18350 position and no Cover triggered\n",
      "In PE 18350 position and no Cover triggered\n",
      "In PE 18350 position and no Cover triggered\n",
      "In PE 18350 position and no Cover triggered\n",
      "In PE 18350 position and no Cover triggered\n",
      "In PE 18350 position and no Cover triggered\n",
      "DatetTime 2021-10-14 12:30:00, Spot:18289.7, atm:18300 ITM CE:18250--> Selling Call @ 52.55\n",
      "In PE 18350 position and no Cover triggered\n",
      "DatetTime 2021-10-14 12:40:00, Spot:18291.3, atm:18300 ITM CE:18250--> Covering Call @ 53.5\n",
      "In PE 18350 position and no Cover triggered\n",
      "DatetTime 2021-10-14 12:50:00, Spot:18284.6, atm:18300 ITM CE:18250--> Selling Call @ 47.65\n",
      "DatetTime 2021-10-14 12:50:00, Spot:18284.6, atm:18300 ITM PE:18350--> Covering PE @ 70.55\n",
      "In CE 18250 position and no Cover triggered\n",
      "In CE 18250 position and no Cover triggered\n",
      "In CE 18250 position and no Cover triggered\n",
      "In CE 18250 position and no Cover triggered\n",
      "DatetTime 2021-10-14 13:40:00, Spot:18302.1, atm:18300 ITM CE:18250--> Covering Call @ 55.35\n",
      "DatetTime 2021-10-14 13:40:00, Spot:18302.1, atm:18300 ITM PE:18350--> Selling Put @ 52.95\n",
      "In PE 18350 position and no Cover triggered\n",
      "In PE 18350 position and no Cover triggered\n",
      "In PE 18350 position and no Cover triggered\n",
      "In PE 18350 position and no Cover triggered\n",
      "In PE 18350 position and no Cover triggered\n",
      "In PE 18350 position and no Cover triggered\n",
      "In PE 18350 position and no Cover triggered\n",
      "DatetTime 2021-10-14 15:00:00, Spot:18340.8, atm:18350 ITM PE:18350--> Covering PE @ 14.85\n",
      "BackTesting from history file: importdatafiles/08-14-JAN- -ExpiryWEEK-data_2021.csv\n",
      "DatetTime 2021-01-08 12:20:00, Spot:14293.6, atm:14300 ITM PE:14350--> Selling Put @ 142.15\n",
      "In PE 14350 position and no Cover triggered\n",
      "In PE 14350 position and no Cover triggered\n",
      "In PE 14350 position and no Cover triggered\n",
      "In PE 14350 position and no Cover triggered\n",
      "In PE 14350 position and no Cover triggered\n",
      "In PE 14350 position and no Cover triggered\n",
      "DatetTime 2021-01-08 13:30:00, Spot:14269.1, atm:14250 ITM CE:14200--> Selling Call @ 162.2\n",
      "DatetTime 2021-01-08 13:30:00, Spot:14269.1, atm:14250 ITM PE:14350--> Covering PE @ 151.1\n",
      "DatetTime 2021-01-08 13:40:00, Spot:14290.5, atm:14300 ITM CE:14200--> Covering Call @ 170.8\n",
      "DatetTime 2021-01-08 13:40:00, Spot:14290.5, atm:14300 ITM PE:14350--> Selling Put @ 135.35\n",
      "In PE 14350 position and no Cover triggered\n",
      "DatetTime 2021-01-08 14:00:00, Spot:14282.1, atm:14300 ITM CE:14250--> Selling Call @ 135.5\n",
      "In PE 14350 position and no Cover triggered\n",
      "In CE 14250 position and no Cover triggered\n",
      "In PE 14350 position and no Cover triggered\n",
      "DatetTime 2021-01-08 14:20:00, Spot:14296.6, atm:14300 ITM CE:14250--> Covering Call @ 136.05\n",
      "In PE 14350 position and no Cover triggered\n",
      "In PE 14350 position and no Cover triggered\n",
      "In PE 14350 position and no Cover triggered\n",
      "In PE 14350 position and no Cover triggered\n",
      "DatetTime 2021-01-08 15:00:00, Spot:14347.4, atm:14350 ITM PE:14350--> Covering PE @ 118.3\n",
      "DatetTime 2021-01-11 11:00:00, Spot:14453.5, atm:14450 ITM PE:14500--> Selling Put @ 132.55\n",
      "In PE 14500 position and no Cover triggered\n",
      "In PE 14500 position and no Cover triggered\n",
      "In PE 14500 position and no Cover triggered\n",
      "DatetTime 2021-01-11 11:40:00, Spot:14411.9, atm:14400 ITM PE:14500--> Covering PE @ 155.4\n",
      "DatetTime 2021-01-11 12:00:00, Spot:14436.6, atm:14450 ITM PE:14500--> Selling Put @ 140.9\n",
      "In PE 14500 position and no Cover triggered\n",
      "In PE 14500 position and no Cover triggered\n",
      "In PE 14500 position and no Cover triggered\n",
      "In PE 14500 position and no Cover triggered\n",
      "In PE 14500 position and no Cover triggered\n",
      "In PE 14500 position and no Cover triggered\n",
      "In PE 14500 position and no Cover triggered\n",
      "In PE 14500 position and no Cover triggered\n",
      "In PE 14500 position and no Cover triggered\n",
      "In PE 14500 position and no Cover triggered\n",
      "In PE 14500 position and no Cover triggered\n",
      "In PE 14500 position and no Cover triggered\n",
      "In PE 14500 position and no Cover triggered\n",
      "In PE 14500 position and no Cover triggered\n",
      "In PE 14500 position and no Cover triggered\n",
      "In PE 14500 position and no Cover triggered\n",
      "In PE 14500 position and no Cover triggered\n",
      "DatetTime 2021-01-11 15:00:00, Spot:14479.0, atm:14500 ITM PE:14500--> Covering PE @ 119.2\n",
      "DatetTime 2021-01-12 11:00:00, Spot:14464.5, atm:14450 ITM CE:14400--> Selling Call @ 127.25\n",
      "DatetTime 2021-01-12 11:00:00, Spot:14464.5, atm:14450 ITM PE:14500--> Selling Put @ 114.05\n",
      "DatetTime 2021-01-12 11:10:00, Spot:14500.2, atm:14500 ITM CE:14400--> Covering Call @ 142.65\n",
      "In PE 14500 position and no Cover triggered\n",
      "In PE 14500 position and no Cover triggered\n",
      "In PE 14500 position and no Cover triggered\n",
      "In PE 14500 position and no Cover triggered\n",
      "In PE 14500 position and no Cover triggered\n",
      "In PE 14500 position and no Cover triggered\n",
      "In PE 14500 position and no Cover triggered\n",
      "In PE 14500 position and no Cover triggered\n",
      "In PE 14500 position and no Cover triggered\n",
      "In PE 14500 position and no Cover triggered\n",
      "In PE 14500 position and no Cover triggered\n",
      "In PE 14500 position and no Cover triggered\n",
      "In PE 14500 position and no Cover triggered\n",
      "In PE 14500 position and no Cover triggered\n",
      "In PE 14500 position and no Cover triggered\n",
      "In PE 14500 position and no Cover triggered\n",
      "In PE 14500 position and no Cover triggered\n",
      "In PE 14500 position and no Cover triggered\n",
      "In PE 14500 position and no Cover triggered\n",
      "In PE 14500 position and no Cover triggered\n",
      "In PE 14500 position and no Cover triggered\n",
      "In PE 14500 position and no Cover triggered\n",
      "In PE 14500 position and no Cover triggered\n",
      "DatetTime 2021-01-12 15:00:00, Spot:14571.3, atm:14550 ITM PE:14500--> Covering PE @ 52.35\n",
      "DatetTime 2021-01-13 11:00:00, Spot:14606.1, atm:14600 ITM CE:14550--> Selling Call @ 100.5\n",
      "In CE 14550 position and no Cover triggered\n",
      "In CE 14550 position and no Cover triggered\n",
      "In CE 14550 position and no Cover triggered\n",
      "In CE 14550 position and no Cover triggered\n",
      "In CE 14550 position and no Cover triggered\n",
      "In CE 14550 position and no Cover triggered\n",
      "In CE 14550 position and no Cover triggered\n",
      "DatetTime 2021-01-13 12:10:00, Spot:14564.4, atm:14550 ITM PE:14600--> Selling Put @ 79.6\n",
      "In CE 14550 position and no Cover triggered\n",
      "DatetTime 2021-01-13 12:20:00, Spot:14558.5, atm:14550 ITM PE:14600--> Covering PE @ 85.0\n",
      "In CE 14550 position and no Cover triggered\n",
      "DatetTime 2021-01-13 12:40:00, Spot:14573.9, atm:14550 ITM CE:14550--> Covering Call @ 84.3\n",
      "DatetTime 2021-01-13 12:40:00, Spot:14573.9, atm:14550 ITM PE:14600--> Selling Put @ 74.2\n",
      "In PE 14600 position and no Cover triggered\n",
      "DatetTime 2021-01-13 13:00:00, Spot:14559.5, atm:14550 ITM PE:14600--> Covering PE @ 79.7\n",
      "DatetTime 2021-01-13 13:30:00, Spot:14518.9, atm:14500 ITM CE:14450--> Selling Call @ 115.05\n",
      "In CE 14450 position and no Cover triggered\n",
      "In CE 14450 position and no Cover triggered\n",
      "In CE 14450 position and no Cover triggered\n",
      "In CE 14450 position and no Cover triggered\n",
      "DatetTime 2021-01-13 14:20:00, Spot:14532.3, atm:14550 ITM CE:14450--> Covering Call @ 119.85\n",
      "DatetTime 2021-01-13 14:20:00, Spot:14532.3, atm:14550 ITM PE:14600--> Selling Put @ 87.0\n",
      "In PE 14600 position and no Cover triggered\n",
      "In PE 14600 position and no Cover triggered\n",
      "In PE 14600 position and no Cover triggered\n",
      "DatetTime 2021-01-13 15:00:00, Spot:14568.0, atm:14550 ITM PE:14600--> Covering PE @ 58.05\n",
      "DatetTime 2021-01-14 11:00:00, Spot:14573.6, atm:14550 ITM PE:14600--> Selling Put @ 49.75\n",
      "In PE 14600 position and no Cover triggered\n",
      "In PE 14600 position and no Cover triggered\n",
      "In PE 14600 position and no Cover triggered\n",
      "In PE 14600 position and no Cover triggered\n",
      "In PE 14600 position and no Cover triggered\n",
      "In PE 14600 position and no Cover triggered\n",
      "In PE 14600 position and no Cover triggered\n",
      "In PE 14600 position and no Cover triggered\n",
      "In PE 14600 position and no Cover triggered\n",
      "In PE 14600 position and no Cover triggered\n",
      "In PE 14600 position and no Cover triggered\n",
      "In PE 14600 position and no Cover triggered\n",
      "In PE 14600 position and no Cover triggered\n",
      "DatetTime 2021-01-14 13:20:00, Spot:14575.5, atm:14600 ITM CE:14550--> Selling Call @ 34.3\n",
      "In PE 14600 position and no Cover triggered\n",
      "DatetTime 2021-01-14 13:30:00, Spot:14592.6, atm:14600 ITM CE:14550--> Covering Call @ 45.15\n",
      "In PE 14600 position and no Cover triggered\n",
      "In PE 14600 position and no Cover triggered\n",
      "In PE 14600 position and no Cover triggered\n",
      "In PE 14600 position and no Cover triggered\n",
      "In PE 14600 position and no Cover triggered\n",
      "In PE 14600 position and no Cover triggered\n",
      "In PE 14600 position and no Cover triggered\n",
      "DatetTime 2021-01-14 14:40:00, Spot:14585.5, atm:14600 ITM CE:14550--> Selling Call @ 36.7\n",
      "In PE 14600 position and no Cover triggered\n",
      "In CE 14550 position and no Cover triggered\n",
      "In PE 14600 position and no Cover triggered\n",
      "DatetTime 2021-01-14 15:00:00, Spot:14605.3, atm:14600 ITM CE:14550--> Covering Call @ 50.35\n",
      "DatetTime 2021-01-14 15:00:00, Spot:14605.3, atm:14600 ITM PE:14600--> Covering PE @ 4.65\n",
      "BackTesting from history file: importdatafiles/09-15-JULY- -W-ExpiryWEEKdata_2021_NF_BNF_options_vege.csv\n",
      "DatetTime 2021-07-09 11:10:00, Spot:15671.0, atm:15650 ITM CE:15600--> Selling Call @ 144.6\n",
      "In CE 15600 position and no Cover triggered\n",
      "In CE 15600 position and no Cover triggered\n",
      "In CE 15600 position and no Cover triggered\n",
      "In CE 15600 position and no Cover triggered\n",
      "In CE 15600 position and no Cover triggered\n",
      "In CE 15600 position and no Cover triggered\n",
      "In CE 15600 position and no Cover triggered\n",
      "DatetTime 2021-07-09 12:30:00, Spot:15680.8, atm:15700 ITM CE:15600--> Covering Call @ 151.7\n",
      "DatetTime 2021-07-09 12:30:00, Spot:15680.8, atm:15700 ITM PE:15750--> Selling Put @ 121.15\n",
      "In PE 15750 position and no Cover triggered\n",
      "In PE 15750 position and no Cover triggered\n",
      "In PE 15750 position and no Cover triggered\n",
      "In PE 15750 position and no Cover triggered\n",
      "In PE 15750 position and no Cover triggered\n",
      "In PE 15750 position and no Cover triggered\n",
      "In PE 15750 position and no Cover triggered\n",
      "In PE 15750 position and no Cover triggered\n",
      "In PE 15750 position and no Cover triggered\n",
      "In PE 15750 position and no Cover triggered\n",
      "In PE 15750 position and no Cover triggered\n",
      "DatetTime 2021-07-09 14:30:00, Spot:15668.3, atm:15650 ITM CE:15600--> Selling Call @ 144.6\n",
      "DatetTime 2021-07-09 14:30:00, Spot:15668.3, atm:15650 ITM PE:15750--> Covering PE @ 125.8\n",
      "DatetTime 2021-07-09 14:40:00, Spot:15702.2, atm:15700 ITM CE:15600--> Covering Call @ 166.2\n",
      "DatetTime 2021-07-09 14:40:00, Spot:15702.2, atm:15700 ITM PE:15750--> Selling Put @ 98.9\n",
      "In PE 15750 position and no Cover triggered\n",
      "DatetTime 2021-07-09 15:00:00, Spot:15683.8, atm:15700 ITM PE:15750--> Covering PE @ 108.8\n",
      "DatetTime 2021-07-12 11:00:00, Spot:15772.2, atm:15750 ITM PE:15800--> Selling Put @ 75.35\n",
      "In PE 15800 position and no Cover triggered\n",
      "In PE 15800 position and no Cover triggered\n",
      "In PE 15800 position and no Cover triggered\n",
      "In PE 15800 position and no Cover triggered\n",
      "In PE 15800 position and no Cover triggered\n",
      "In PE 15800 position and no Cover triggered\n",
      "In PE 15800 position and no Cover triggered\n",
      "DatetTime 2021-07-12 12:20:00, Spot:15763.5, atm:15750 ITM CE:15700--> Selling Call @ 114.0\n",
      "In PE 15800 position and no Cover triggered\n",
      "In CE 15700 position and no Cover triggered\n",
      "In PE 15800 position and no Cover triggered\n",
      "In CE 15700 position and no Cover triggered\n",
      "DatetTime 2021-07-12 12:40:00, Spot:15763.0, atm:15750 ITM PE:15800--> Covering PE @ 81.75\n",
      "In CE 15700 position and no Cover triggered\n",
      "In CE 15700 position and no Cover triggered\n",
      "In CE 15700 position and no Cover triggered\n",
      "In CE 15700 position and no Cover triggered\n",
      "In CE 15700 position and no Cover triggered\n",
      "In CE 15700 position and no Cover triggered\n",
      "In CE 15700 position and no Cover triggered\n",
      "In CE 15700 position and no Cover triggered\n",
      "In CE 15700 position and no Cover triggered\n",
      "In CE 15700 position and no Cover triggered\n",
      "In CE 15700 position and no Cover triggered\n",
      "In CE 15700 position and no Cover triggered\n",
      "In CE 15700 position and no Cover triggered\n",
      "DatetTime 2021-07-12 15:00:00, Spot:15695.4, atm:15700 ITM CE:15700--> Covering Call @ 71.5\n",
      "DatetTime 2021-07-13 11:00:00, Spot:15764.4, atm:15750 ITM PE:15800--> Selling Put @ 76.0\n",
      "In PE 15800 position and no Cover triggered\n",
      "In PE 15800 position and no Cover triggered\n",
      "In PE 15800 position and no Cover triggered\n",
      "In PE 15800 position and no Cover triggered\n",
      "In PE 15800 position and no Cover triggered\n",
      "In PE 15800 position and no Cover triggered\n",
      "In PE 15800 position and no Cover triggered\n",
      "In PE 15800 position and no Cover triggered\n",
      "In PE 15800 position and no Cover triggered\n",
      "In PE 15800 position and no Cover triggered\n",
      "In PE 15800 position and no Cover triggered\n",
      "In PE 15800 position and no Cover triggered\n",
      "In PE 15800 position and no Cover triggered\n",
      "In PE 15800 position and no Cover triggered\n",
      "In PE 15800 position and no Cover triggered\n",
      "In PE 15800 position and no Cover triggered\n",
      "In PE 15800 position and no Cover triggered\n",
      "DatetTime 2021-07-13 14:00:00, Spot:15792.0, atm:15800 ITM CE:15750--> Selling Call @ 82.4\n",
      "In PE 15800 position and no Cover triggered\n",
      "DatetTime 2021-07-13 14:10:00, Spot:15808.8, atm:15800 ITM CE:15750--> Covering Call @ 93.4\n",
      "In PE 15800 position and no Cover triggered\n",
      "In PE 15800 position and no Cover triggered\n",
      "DatetTime 2021-07-13 14:30:00, Spot:15800.3, atm:15800 ITM CE:15750--> Selling Call @ 86.3\n",
      "In PE 15800 position and no Cover triggered\n",
      "DatetTime 2021-07-13 14:40:00, Spot:15804.1, atm:15800 ITM CE:15750--> Covering Call @ 90.65\n",
      "In PE 15800 position and no Cover triggered\n",
      "DatetTime 2021-07-13 14:50:00, Spot:15797.5, atm:15800 ITM CE:15750--> Selling Call @ 85.95\n",
      "In PE 15800 position and no Cover triggered\n",
      "DatetTime 2021-07-13 15:00:00, Spot:15809.3, atm:15800 ITM CE:15750--> Covering Call @ 95.45\n",
      "DatetTime 2021-07-13 15:00:00, Spot:15809.3, atm:15800 ITM PE:15800--> Covering PE @ 47.75\n",
      "DatetTime 2021-07-14 11:00:00, Spot:15831.8, atm:15850 ITM PE:15900--> Selling Put @ 87.75\n",
      "In PE 15900 position and no Cover triggered\n",
      "In PE 15900 position and no Cover triggered\n",
      "In PE 15900 position and no Cover triggered\n",
      "In PE 15900 position and no Cover triggered\n",
      "In PE 15900 position and no Cover triggered\n",
      "In PE 15900 position and no Cover triggered\n",
      "In PE 15900 position and no Cover triggered\n",
      "In PE 15900 position and no Cover triggered\n",
      "In PE 15900 position and no Cover triggered\n",
      "In PE 15900 position and no Cover triggered\n",
      "In PE 15900 position and no Cover triggered\n",
      "In PE 15900 position and no Cover triggered\n",
      "In PE 15900 position and no Cover triggered\n",
      "In PE 15900 position and no Cover triggered\n",
      "DatetTime 2021-07-14 13:30:00, Spot:15852.8, atm:15850 ITM CE:15800--> Selling Call @ 72.65\n",
      "DatetTime 2021-07-14 13:30:00, Spot:15852.8, atm:15850 ITM PE:15900--> Covering PE @ 75.7\n",
      "In CE 15800 position and no Cover triggered\n",
      "DatetTime 2021-07-14 13:50:00, Spot:15856.5, atm:15850 ITM CE:15800--> Covering Call @ 80.95\n",
      "DatetTime 2021-07-14 13:50:00, Spot:15856.5, atm:15850 ITM PE:15900--> Selling Put @ 64.35\n",
      "In PE 15900 position and no Cover triggered\n",
      "In PE 15900 position and no Cover triggered\n",
      "In PE 15900 position and no Cover triggered\n",
      "In PE 15900 position and no Cover triggered\n",
      "In PE 15900 position and no Cover triggered\n",
      "In PE 15900 position and no Cover triggered\n",
      "DatetTime 2021-07-14 15:00:00, Spot:15866.0, atm:15850 ITM PE:15900--> Covering PE @ 58.7\n",
      "DatetTime 2021-07-15 11:00:00, Spot:15932.1, atm:15950 ITM PE:16000--> Selling Put @ 76.35\n",
      "In PE 16000 position and no Cover triggered\n",
      "In PE 16000 position and no Cover triggered\n",
      "In PE 16000 position and no Cover triggered\n",
      "In PE 16000 position and no Cover triggered\n",
      "In PE 16000 position and no Cover triggered\n",
      "In PE 16000 position and no Cover triggered\n",
      "In PE 16000 position and no Cover triggered\n",
      "In PE 16000 position and no Cover triggered\n",
      "In PE 16000 position and no Cover triggered\n",
      "DatetTime 2021-07-15 12:40:00, Spot:15923.4, atm:15900 ITM CE:15850--> Selling Call @ 76.0\n",
      "DatetTime 2021-07-15 12:40:00, Spot:15923.4, atm:15900 ITM PE:16000--> Covering PE @ 83.75\n",
      "In CE 15850 position and no Cover triggered\n",
      "DatetTime 2021-07-15 13:00:00, Spot:15931.2, atm:15950 ITM CE:15850--> Covering Call @ 81.95\n",
      "DatetTime 2021-07-15 13:00:00, Spot:15931.2, atm:15950 ITM PE:16000--> Selling Put @ 75.05\n",
      "In PE 16000 position and no Cover triggered\n",
      "In PE 16000 position and no Cover triggered\n",
      "In PE 16000 position and no Cover triggered\n",
      "In PE 16000 position and no Cover triggered\n",
      "In PE 16000 position and no Cover triggered\n",
      "In PE 16000 position and no Cover triggered\n",
      "In PE 16000 position and no Cover triggered\n",
      "In PE 16000 position and no Cover triggered\n",
      "In PE 16000 position and no Cover triggered\n",
      "DatetTime 2021-07-15 14:40:00, Spot:15925.0, atm:15900 ITM CE:15850--> Selling Call @ 74.0\n",
      "DatetTime 2021-07-15 14:40:00, Spot:15925.0, atm:15900 ITM PE:16000--> Covering PE @ 77.25\n",
      "In CE 15850 position and no Cover triggered\n",
      "DatetTime 2021-07-15 15:00:00, Spot:15930.8, atm:15950 ITM CE:15850--> Covering Call @ 78.4\n",
      "BackTesting from history file: importdatafiles/09-16-SEP-2021-weekly-expiry_data__VEGE_NF_AND_BNF_Options.csv\n",
      "DatetTime 2021-09-03 11:30:00, Spot:17216.0, atm:17200 ITM CE:17150--> Selling Call @ 149.95\n",
      "In CE 17150 position and no Cover triggered\n",
      "DatetTime 2021-09-03 11:50:00, Spot:17262.4, atm:17250 ITM CE:17150--> Covering Call @ 178.35\n",
      "DatetTime 2021-09-03 11:50:00, Spot:17262.4, atm:17250 ITM PE:17300--> Selling Put @ 121.9\n",
      "In PE 17300 position and no Cover triggered\n",
      "In PE 17300 position and no Cover triggered\n",
      "In PE 17300 position and no Cover triggered\n",
      "In PE 17300 position and no Cover triggered\n",
      "In PE 17300 position and no Cover triggered\n",
      "In PE 17300 position and no Cover triggered\n",
      "In PE 17300 position and no Cover triggered\n",
      "In PE 17300 position and no Cover triggered\n",
      "In PE 17300 position and no Cover triggered\n",
      "In PE 17300 position and no Cover triggered\n",
      "In PE 17300 position and no Cover triggered\n",
      "In PE 17300 position and no Cover triggered\n",
      "DatetTime 2021-09-03 14:00:00, Spot:17254.3, atm:17250 ITM CE:17200--> Selling Call @ 141.3\n",
      "DatetTime 2021-09-03 14:00:00, Spot:17254.3, atm:17250 ITM PE:17300--> Covering PE @ 127.05\n",
      "In CE 17200 position and no Cover triggered\n",
      "DatetTime 2021-09-03 14:20:00, Spot:17282.5, atm:17300 ITM CE:17200--> Covering Call @ 156.2\n",
      "DatetTime 2021-09-03 14:20:00, Spot:17282.5, atm:17300 ITM PE:17350--> Selling Put @ 136.85\n",
      "In PE 17350 position and no Cover triggered\n",
      "In PE 17350 position and no Cover triggered\n",
      "In PE 17350 position and no Cover triggered\n",
      "DatetTime 2021-09-03 15:00:00, Spot:17320.7, atm:17300 ITM PE:17350--> Covering PE @ 118.3\n",
      "DatetTime 2021-09-06 11:30:00, Spot:17349.0, atm:17350 ITM CE:17300--> Selling Call @ 126.35\n",
      "In CE 17300 position and no Cover triggered\n",
      "DatetTime 2021-09-06 11:50:00, Spot:17371.5, atm:17350 ITM CE:17300--> Covering Call @ 141.35\n",
      "DatetTime 2021-09-06 12:10:00, Spot:17366.4, atm:17350 ITM CE:17300--> Selling Call @ 135.55\n",
      "In CE 17300 position and no Cover triggered\n",
      "In CE 17300 position and no Cover triggered\n",
      "DatetTime 2021-09-06 12:40:00, Spot:17374.8, atm:17350 ITM CE:17300--> Covering Call @ 142.0\n",
      "DatetTime 2021-09-06 13:00:00, Spot:17388.6, atm:17400 ITM PE:17450--> Selling Put @ 121.35\n",
      "In PE 17450 position and no Cover triggered\n",
      "In PE 17450 position and no Cover triggered\n",
      "In PE 17450 position and no Cover triggered\n",
      "DatetTime 2021-09-06 13:40:00, Spot:17367.5, atm:17350 ITM CE:17300--> Selling Call @ 137.35\n",
      "DatetTime 2021-09-06 13:40:00, Spot:17367.5, atm:17350 ITM PE:17450--> Covering PE @ 133.8\n",
      "In CE 17300 position and no Cover triggered\n",
      "DatetTime 2021-09-06 14:00:00, Spot:17387.6, atm:17400 ITM CE:17300--> Covering Call @ 145.65\n",
      "DatetTime 2021-09-06 14:10:00, Spot:17377.0, atm:17400 ITM CE:17350--> Selling Call @ 110.05\n",
      "In CE 17350 position and no Cover triggered\n",
      "DatetTime 2021-09-06 14:30:00, Spot:17387.5, atm:17400 ITM CE:17350--> Covering Call @ 114.15\n",
      "DatetTime 2021-09-06 14:40:00, Spot:17362.7, atm:17350 ITM CE:17300--> Selling Call @ 134.8\n",
      "DatetTime 2021-09-06 14:50:00, Spot:17380.1, atm:17400 ITM CE:17300--> Covering Call @ 144.15\n",
      "DatetTime 2021-09-07 11:00:00, Spot:17326.1, atm:17350 ITM CE:17300--> Selling Call @ 91.35\n",
      "In CE 17300 position and no Cover triggered\n",
      "In CE 17300 position and no Cover triggered\n",
      "DatetTime 2021-09-07 11:20:00, Spot:17339.7, atm:17350 ITM PE:17400--> Selling Put @ 115.0\n",
      "In CE 17300 position and no Cover triggered\n",
      "In PE 17400 position and no Cover triggered\n",
      "In CE 17300 position and no Cover triggered\n",
      "DatetTime 2021-09-07 11:40:00, Spot:17318.0, atm:17300 ITM PE:17400--> Covering PE @ 120.65\n",
      "In CE 17300 position and no Cover triggered\n",
      "DatetTime 2021-09-07 11:50:00, Spot:17350.0, atm:17350 ITM PE:17400--> Selling Put @ 106.1\n",
      "DatetTime 2021-09-07 12:00:00, Spot:17372.8, atm:17350 ITM CE:17300--> Covering Call @ 113.5\n",
      "In PE 17400 position and no Cover triggered\n",
      "In PE 17400 position and no Cover triggered\n",
      "In PE 17400 position and no Cover triggered\n",
      "In PE 17400 position and no Cover triggered\n",
      "In PE 17400 position and no Cover triggered\n",
      "In PE 17400 position and no Cover triggered\n",
      "In PE 17400 position and no Cover triggered\n",
      "In PE 17400 position and no Cover triggered\n",
      "In PE 17400 position and no Cover triggered\n",
      "In PE 17400 position and no Cover triggered\n",
      "In PE 17400 position and no Cover triggered\n",
      "DatetTime 2021-09-07 13:50:00, Spot:17393.8, atm:17400 ITM CE:17350--> Selling Call @ 99.6\n",
      "In PE 17400 position and no Cover triggered\n",
      "DatetTime 2021-09-07 14:00:00, Spot:17413.2, atm:17400 ITM CE:17350--> Covering Call @ 108.35\n",
      "In PE 17400 position and no Cover triggered\n",
      "DatetTime 2021-09-07 14:10:00, Spot:17406.2, atm:17400 ITM CE:17350--> Selling Call @ 102.1\n",
      "In PE 17400 position and no Cover triggered\n",
      "In CE 17350 position and no Cover triggered\n",
      "In PE 17400 position and no Cover triggered\n",
      "In CE 17350 position and no Cover triggered\n",
      "In PE 17400 position and no Cover triggered\n",
      "In CE 17350 position and no Cover triggered\n",
      "DatetTime 2021-09-07 14:40:00, Spot:17368.8, atm:17350 ITM PE:17400--> Covering PE @ 82.35\n",
      "In CE 17350 position and no Cover triggered\n",
      "DatetTime 2021-09-07 15:00:00, Spot:17368.5, atm:17350 ITM CE:17350--> Covering Call @ 78.75\n",
      "DatetTime 2021-09-08 11:00:00, Spot:17365.0, atm:17350 ITM CE:17300--> Selling Call @ 101.1\n",
      "DatetTime 2021-09-08 11:00:00, Spot:17365.0, atm:17350 ITM PE:17400--> Selling Put @ 76.25\n",
      "In CE 17300 position and no Cover triggered\n",
      "In PE 17400 position and no Cover triggered\n",
      "In CE 17300 position and no Cover triggered\n",
      "In PE 17400 position and no Cover triggered\n",
      "In CE 17300 position and no Cover triggered\n",
      "In PE 17400 position and no Cover triggered\n",
      "DatetTime 2021-09-08 11:40:00, Spot:17362.9, atm:17350 ITM CE:17300--> Covering Call @ 102.25\n",
      "In PE 17400 position and no Cover triggered\n",
      "DatetTime 2021-09-08 11:50:00, Spot:17362.2, atm:17350 ITM CE:17300--> Selling Call @ 100.7\n",
      "In PE 17400 position and no Cover triggered\n",
      "DatetTime 2021-09-08 12:00:00, Spot:17367.7, atm:17350 ITM CE:17300--> Covering Call @ 102.4\n",
      "In PE 17400 position and no Cover triggered\n",
      "DatetTime 2021-09-08 12:10:00, Spot:17348.3, atm:17350 ITM CE:17300--> Selling Call @ 93.75\n",
      "DatetTime 2021-09-08 12:10:00, Spot:17348.3, atm:17350 ITM PE:17400--> Covering PE @ 80.7\n",
      "In CE 17300 position and no Cover triggered\n",
      "In CE 17300 position and no Cover triggered\n",
      "In CE 17300 position and no Cover triggered\n",
      "In CE 17300 position and no Cover triggered\n",
      "In CE 17300 position and no Cover triggered\n",
      "In CE 17300 position and no Cover triggered\n",
      "In CE 17300 position and no Cover triggered\n",
      "In CE 17300 position and no Cover triggered\n",
      "In CE 17300 position and no Cover triggered\n",
      "In CE 17300 position and no Cover triggered\n",
      "DatetTime 2021-09-08 14:00:00, Spot:17314.2, atm:17300 ITM CE:17300--> Covering Call @ 61.55\n",
      "DatetTime 2021-09-08 14:00:00, Spot:17314.2, atm:17300 ITM PE:17350--> Selling Put @ 68.65\n",
      "In PE 17350 position and no Cover triggered\n",
      "DatetTime 2021-09-08 14:20:00, Spot:17297.3, atm:17300 ITM CE:17250--> Selling Call @ 81.6\n",
      "DatetTime 2021-09-08 14:20:00, Spot:17297.3, atm:17300 ITM PE:17350--> Covering PE @ 78.0\n",
      "In CE 17250 position and no Cover triggered\n",
      "DatetTime 2021-09-08 14:30:00, Spot:17311.6, atm:17300 ITM PE:17350--> Selling Put @ 67.95\n",
      "DatetTime 2021-09-08 14:40:00, Spot:17319.5, atm:17300 ITM CE:17250--> Covering Call @ 94.9\n",
      "In PE 17350 position and no Cover triggered\n",
      "In PE 17350 position and no Cover triggered\n",
      "DatetTime 2021-09-08 15:00:00, Spot:17349.0, atm:17350 ITM PE:17350--> Covering PE @ 46.65\n",
      "DatetTime 2021-09-09 11:00:00, Spot:17355.7, atm:17350 ITM PE:17400--> Selling Put @ 60.05\n",
      "In PE 17400 position and no Cover triggered\n",
      "DatetTime 2021-09-09 11:20:00, Spot:17343.5, atm:17350 ITM CE:17300--> Selling Call @ 56.9\n",
      "In PE 17400 position and no Cover triggered\n",
      "In CE 17300 position and no Cover triggered\n",
      "In PE 17400 position and no Cover triggered\n",
      "In CE 17300 position and no Cover triggered\n",
      "In PE 17400 position and no Cover triggered\n",
      "DatetTime 2021-09-09 11:50:00, Spot:17357.3, atm:17350 ITM CE:17300--> Covering Call @ 64.9\n",
      "In PE 17400 position and no Cover triggered\n",
      "DatetTime 2021-09-09 12:00:00, Spot:17350.3, atm:17350 ITM CE:17300--> Selling Call @ 60.15\n",
      "In PE 17400 position and no Cover triggered\n",
      "In CE 17300 position and no Cover triggered\n",
      "DatetTime 2021-09-09 12:10:00, Spot:17344.1, atm:17350 ITM PE:17400--> Covering PE @ 68.8\n",
      "In CE 17300 position and no Cover triggered\n",
      "In CE 17300 position and no Cover triggered\n",
      "In CE 17300 position and no Cover triggered\n",
      "In CE 17300 position and no Cover triggered\n",
      "In CE 17300 position and no Cover triggered\n",
      "In CE 17300 position and no Cover triggered\n",
      "DatetTime 2021-09-09 13:20:00, Spot:17338.2, atm:17350 ITM CE:17300--> Covering Call @ 44.9\n",
      "DatetTime 2021-09-09 13:20:00, Spot:17338.2, atm:17350 ITM PE:17400--> Selling Put @ 68.8\n",
      "In PE 17400 position and no Cover triggered\n",
      "In PE 17400 position and no Cover triggered\n",
      "In PE 17400 position and no Cover triggered\n",
      "In PE 17400 position and no Cover triggered\n",
      "DatetTime 2021-09-09 14:10:00, Spot:17335.3, atm:17350 ITM CE:17300--> Selling Call @ 39.15\n",
      "DatetTime 2021-09-09 14:10:00, Spot:17335.3, atm:17350 ITM PE:17400--> Covering PE @ 69.8\n",
      "In CE 17300 position and no Cover triggered\n",
      "DatetTime 2021-09-09 14:20:00, Spot:17341.8, atm:17350 ITM PE:17400--> Selling Put @ 61.75\n",
      "In CE 17300 position and no Cover triggered\n",
      "DatetTime 2021-09-09 14:30:00, Spot:17329.2, atm:17350 ITM PE:17400--> Covering PE @ 74.15\n",
      "DatetTime 2021-09-09 14:40:00, Spot:17344.3, atm:17350 ITM CE:17300--> Covering Call @ 45.65\n",
      "DatetTime 2021-09-09 14:50:00, Spot:17339.2, atm:17350 ITM CE:17300--> Selling Call @ 40.65\n",
      "DatetTime 2021-09-09 15:00:00, Spot:17368.8, atm:17350 ITM CE:17300--> Covering Call @ 67.45\n",
      "DatetTime 2021-09-13 11:30:00, Spot:17333.3, atm:17350 ITM PE:17400--> Selling Put @ 122.65\n",
      "DatetTime 2021-09-13 11:40:00, Spot:17321.5, atm:17300 ITM PE:17400--> Covering PE @ 131.5\n",
      "DatetTime 2021-09-13 12:00:00, Spot:17330.6, atm:17350 ITM PE:17400--> Selling Put @ 125.75\n",
      "In PE 17400 position and no Cover triggered\n",
      "In PE 17400 position and no Cover triggered\n",
      "In PE 17400 position and no Cover triggered\n",
      "In PE 17400 position and no Cover triggered\n",
      "In PE 17400 position and no Cover triggered\n",
      "In PE 17400 position and no Cover triggered\n",
      "In PE 17400 position and no Cover triggered\n",
      "In PE 17400 position and no Cover triggered\n",
      "In PE 17400 position and no Cover triggered\n",
      "In PE 17400 position and no Cover triggered\n",
      "In PE 17400 position and no Cover triggered\n",
      "In PE 17400 position and no Cover triggered\n",
      "In PE 17400 position and no Cover triggered\n",
      "In PE 17400 position and no Cover triggered\n",
      "In PE 17400 position and no Cover triggered\n",
      "DatetTime 2021-09-13 14:40:00, Spot:17339.7, atm:17350 ITM CE:17300--> Selling Call @ 108.1\n",
      "DatetTime 2021-09-13 14:40:00, Spot:17339.7, atm:17350 ITM PE:17400--> Covering PE @ 107.6\n",
      "In CE 17300 position and no Cover triggered\n",
      "DatetTime 2021-09-13 15:00:00, Spot:17361.2, atm:17350 ITM CE:17300--> Covering Call @ 113.95\n",
      "DatetTime 2021-09-14 11:00:00, Spot:17427.6, atm:17450 ITM PE:17500--> Selling Put @ 110.25\n",
      "In PE 17500 position and no Cover triggered\n",
      "DatetTime 2021-09-14 11:20:00, Spot:17410.2, atm:17400 ITM CE:17350--> Selling Call @ 102.15\n",
      "In PE 17500 position and no Cover triggered\n",
      "In CE 17350 position and no Cover triggered\n",
      "In PE 17500 position and no Cover triggered\n",
      "DatetTime 2021-09-14 11:40:00, Spot:17418.5, atm:17400 ITM CE:17350--> Covering Call @ 103.4\n",
      "In PE 17500 position and no Cover triggered\n",
      "In PE 17500 position and no Cover triggered\n",
      "DatetTime 2021-09-14 12:00:00, Spot:17413.2, atm:17400 ITM CE:17350--> Selling Call @ 99.45\n",
      "In PE 17500 position and no Cover triggered\n",
      "In CE 17350 position and no Cover triggered\n",
      "In PE 17500 position and no Cover triggered\n",
      "In CE 17350 position and no Cover triggered\n",
      "In PE 17500 position and no Cover triggered\n",
      "DatetTime 2021-09-14 12:30:00, Spot:17420.2, atm:17400 ITM CE:17350--> Covering Call @ 104.45\n",
      "In PE 17500 position and no Cover triggered\n",
      "DatetTime 2021-09-14 12:40:00, Spot:17414.7, atm:17400 ITM CE:17350--> Selling Call @ 100.7\n",
      "In PE 17500 position and no Cover triggered\n",
      "In CE 17350 position and no Cover triggered\n",
      "DatetTime 2021-09-14 12:50:00, Spot:17396.4, atm:17400 ITM PE:17500--> Covering PE @ 130.95\n",
      "In CE 17350 position and no Cover triggered\n",
      "In CE 17350 position and no Cover triggered\n",
      "In CE 17350 position and no Cover triggered\n",
      "DatetTime 2021-09-14 13:20:00, Spot:17402.0, atm:17400 ITM PE:17450--> Selling Put @ 88.65\n",
      "In CE 17350 position and no Cover triggered\n",
      "DatetTime 2021-09-14 13:30:00, Spot:17389.8, atm:17400 ITM PE:17450--> Covering PE @ 97.05\n",
      "In CE 17350 position and no Cover triggered\n",
      "In CE 17350 position and no Cover triggered\n",
      "In CE 17350 position and no Cover triggered\n",
      "In CE 17350 position and no Cover triggered\n",
      "In CE 17350 position and no Cover triggered\n",
      "In CE 17350 position and no Cover triggered\n",
      "In CE 17350 position and no Cover triggered\n",
      "In CE 17350 position and no Cover triggered\n",
      "DatetTime 2021-09-14 15:00:00, Spot:17377.3, atm:17400 ITM CE:17350--> Covering Call @ 80.45\n",
      "DatetTime 2021-09-15 11:00:00, Spot:17452.4, atm:17450 ITM PE:17500--> Selling Put @ 80.0\n",
      "In PE 17500 position and no Cover triggered\n",
      "In PE 17500 position and no Cover triggered\n",
      "In PE 17500 position and no Cover triggered\n",
      "In PE 17500 position and no Cover triggered\n",
      "In PE 17500 position and no Cover triggered\n",
      "In PE 17500 position and no Cover triggered\n",
      "In PE 17500 position and no Cover triggered\n",
      "In PE 17500 position and no Cover triggered\n",
      "In PE 17500 position and no Cover triggered\n",
      "In PE 17500 position and no Cover triggered\n",
      "In PE 17500 position and no Cover triggered\n",
      "In PE 17500 position and no Cover triggered\n",
      "In PE 17500 position and no Cover triggered\n",
      "In PE 17500 position and no Cover triggered\n",
      "In PE 17500 position and no Cover triggered\n",
      "In PE 17500 position and no Cover triggered\n",
      "In PE 17500 position and no Cover triggered\n",
      "In PE 17500 position and no Cover triggered\n",
      "In PE 17500 position and no Cover triggered\n",
      "In PE 17500 position and no Cover triggered\n",
      "In PE 17500 position and no Cover triggered\n",
      "In PE 17500 position and no Cover triggered\n",
      "In PE 17500 position and no Cover triggered\n",
      "DatetTime 2021-09-15 15:00:00, Spot:17512.8, atm:17500 ITM PE:17500--> Covering PE @ 32.0\n",
      "DatetTime 2021-09-16 11:00:00, Spot:17536.0, atm:17550 ITM CE:17500--> Selling Call @ 48.2\n",
      "In CE 17500 position and no Cover triggered\n",
      "DatetTime 2021-09-16 11:10:00, Spot:17537.8, atm:17550 ITM PE:17600--> Selling Put @ 71.3\n",
      "In CE 17500 position and no Cover triggered\n",
      "In PE 17600 position and no Cover triggered\n",
      "DatetTime 2021-09-16 11:30:00, Spot:17549.8, atm:17550 ITM CE:17500--> Covering Call @ 56.7\n",
      "In PE 17600 position and no Cover triggered\n",
      "In PE 17600 position and no Cover triggered\n",
      "In PE 17600 position and no Cover triggered\n",
      "In PE 17600 position and no Cover triggered\n",
      "In PE 17600 position and no Cover triggered\n",
      "In PE 17600 position and no Cover triggered\n",
      "In PE 17600 position and no Cover triggered\n",
      "In PE 17600 position and no Cover triggered\n",
      "In PE 17600 position and no Cover triggered\n",
      "In PE 17600 position and no Cover triggered\n",
      "In PE 17600 position and no Cover triggered\n",
      "In PE 17600 position and no Cover triggered\n",
      "In PE 17600 position and no Cover triggered\n",
      "In PE 17600 position and no Cover triggered\n",
      "In PE 17600 position and no Cover triggered\n",
      "In PE 17600 position and no Cover triggered\n",
      "In PE 17600 position and no Cover triggered\n",
      "In PE 17600 position and no Cover triggered\n",
      "In PE 17600 position and no Cover triggered\n",
      "In PE 17600 position and no Cover triggered\n",
      "In PE 17600 position and no Cover triggered\n",
      "DatetTime 2021-09-16 15:00:00, Spot:17638.3, atm:17650 ITM PE:17600--> Covering PE @ 0.3\n",
      "BackTesting from history file: importdatafiles/09_15_APR_2021_weekly_Expirydata_VEGE_NF_AND_BNF_Options_shortweek.csv\n",
      "DatetTime 2021-04-09 11:10:00, Spot:14840.5, atm:14850 ITM CE:14800--> Selling Call @ 169.25\n",
      "In CE 14800 position and no Cover triggered\n",
      "In CE 14800 position and no Cover triggered\n",
      "In CE 14800 position and no Cover triggered\n",
      "DatetTime 2021-04-09 11:50:00, Spot:14875.3, atm:14900 ITM CE:14800--> Covering Call @ 186.0\n",
      "DatetTime 2021-04-09 12:00:00, Spot:14853.8, atm:14850 ITM CE:14800--> Selling Call @ 173.65\n",
      "In CE 14800 position and no Cover triggered\n",
      "DatetTime 2021-04-09 12:20:00, Spot:14872.5, atm:14850 ITM CE:14800--> Covering Call @ 182.85\n",
      "DatetTime 2021-04-09 12:40:00, Spot:14859.9, atm:14850 ITM CE:14800--> Selling Call @ 175.55\n",
      "DatetTime 2021-04-09 12:40:00, Spot:14859.9, atm:14850 ITM PE:14900--> Selling Put @ 161.8\n",
      "In CE 14800 position and no Cover triggered\n",
      "In PE 14900 position and no Cover triggered\n",
      "In CE 14800 position and no Cover triggered\n",
      "In PE 14900 position and no Cover triggered\n",
      "In CE 14800 position and no Cover triggered\n",
      "In PE 14900 position and no Cover triggered\n",
      "In CE 14800 position and no Cover triggered\n",
      "In PE 14900 position and no Cover triggered\n",
      "In CE 14800 position and no Cover triggered\n",
      "DatetTime 2021-04-09 13:30:00, Spot:14843.3, atm:14850 ITM PE:14900--> Covering PE @ 168.1\n",
      "In CE 14800 position and no Cover triggered\n",
      "In CE 14800 position and no Cover triggered\n",
      "In CE 14800 position and no Cover triggered\n",
      "In CE 14800 position and no Cover triggered\n",
      "DatetTime 2021-04-09 14:10:00, Spot:14844.5, atm:14850 ITM PE:14900--> Selling Put @ 160.9\n",
      "DatetTime 2021-04-09 14:20:00, Spot:14852.5, atm:14850 ITM CE:14800--> Covering Call @ 164.4\n",
      "In PE 14900 position and no Cover triggered\n",
      "In PE 14900 position and no Cover triggered\n",
      "In PE 14900 position and no Cover triggered\n",
      "In PE 14900 position and no Cover triggered\n",
      "DatetTime 2021-04-09 15:00:00, Spot:14830.0, atm:14850 ITM PE:14900--> Covering PE @ 161.55\n",
      "DatetTime 2021-04-12 11:00:00, Spot:14439.0, atm:14450 ITM CE:14400--> Selling Call @ 152.35\n",
      "In CE 14400 position and no Cover triggered\n",
      "In CE 14400 position and no Cover triggered\n",
      "In CE 14400 position and no Cover triggered\n",
      "In CE 14400 position and no Cover triggered\n",
      "In CE 14400 position and no Cover triggered\n",
      "In CE 14400 position and no Cover triggered\n",
      "In CE 14400 position and no Cover triggered\n",
      "In CE 14400 position and no Cover triggered\n",
      "In CE 14400 position and no Cover triggered\n",
      "In CE 14400 position and no Cover triggered\n",
      "In CE 14400 position and no Cover triggered\n",
      "In CE 14400 position and no Cover triggered\n",
      "In CE 14400 position and no Cover triggered\n",
      "In CE 14400 position and no Cover triggered\n",
      "In CE 14400 position and no Cover triggered\n",
      "In CE 14400 position and no Cover triggered\n",
      "In CE 14400 position and no Cover triggered\n",
      "In CE 14400 position and no Cover triggered\n",
      "In CE 14400 position and no Cover triggered\n",
      "In CE 14400 position and no Cover triggered\n",
      "In CE 14400 position and no Cover triggered\n",
      "In CE 14400 position and no Cover triggered\n",
      "In CE 14400 position and no Cover triggered\n",
      "DatetTime 2021-04-12 15:00:00, Spot:14284.6, atm:14300 ITM CE:14400--> Covering Call @ 84.5\n",
      "DatetTime 2021-04-13 11:00:00, Spot:14369.4, atm:14350 ITM CE:14300--> Selling Call @ 142.0\n",
      "In CE 14300 position and no Cover triggered\n",
      "In CE 14300 position and no Cover triggered\n",
      "In CE 14300 position and no Cover triggered\n",
      "In CE 14300 position and no Cover triggered\n",
      "In CE 14300 position and no Cover triggered\n",
      "In CE 14300 position and no Cover triggered\n",
      "In CE 14300 position and no Cover triggered\n",
      "In CE 14300 position and no Cover triggered\n",
      "DatetTime 2021-04-13 12:30:00, Spot:14358.1, atm:14350 ITM CE:14300--> Covering Call @ 123.0\n",
      "DatetTime 2021-04-13 12:30:00, Spot:14358.1, atm:14350 ITM PE:14400--> Selling Put @ 114.2\n",
      "In PE 14400 position and no Cover triggered\n",
      "In PE 14400 position and no Cover triggered\n",
      "DatetTime 2021-04-13 13:00:00, Spot:14350.8, atm:14350 ITM CE:14300--> Selling Call @ 120.4\n",
      "In PE 14400 position and no Cover triggered\n",
      "In CE 14300 position and no Cover triggered\n",
      "DatetTime 2021-04-13 13:10:00, Spot:14339.5, atm:14350 ITM PE:14400--> Covering PE @ 122.65\n",
      "In CE 14300 position and no Cover triggered\n",
      "DatetTime 2021-04-13 13:30:00, Spot:14368.0, atm:14350 ITM CE:14300--> Covering Call @ 129.2\n",
      "DatetTime 2021-04-13 13:30:00, Spot:14368.0, atm:14350 ITM PE:14400--> Selling Put @ 102.75\n",
      "In PE 14400 position and no Cover triggered\n",
      "In PE 14400 position and no Cover triggered\n",
      "In PE 14400 position and no Cover triggered\n",
      "In PE 14400 position and no Cover triggered\n",
      "In PE 14400 position and no Cover triggered\n",
      "In PE 14400 position and no Cover triggered\n",
      "In PE 14400 position and no Cover triggered\n",
      "In PE 14400 position and no Cover triggered\n",
      "DatetTime 2021-04-13 15:00:00, Spot:14501.1, atm:14500 ITM PE:14400--> Covering PE @ 50.15\n",
      "DatetTime 2021-04-15 11:00:00, Spot:14371.6, atm:14350 ITM CE:14300--> Selling Call @ 101.9\n",
      "In CE 14300 position and no Cover triggered\n",
      "In CE 14300 position and no Cover triggered\n",
      "In CE 14300 position and no Cover triggered\n",
      "DatetTime 2021-04-15 11:40:00, Spot:14425.4, atm:14400 ITM CE:14300--> Covering Call @ 135.0\n",
      "DatetTime 2021-04-15 11:40:00, Spot:14425.4, atm:14400 ITM PE:14450--> Selling Put @ 63.15\n",
      "In PE 14450 position and no Cover triggered\n",
      "In PE 14450 position and no Cover triggered\n",
      "In PE 14450 position and no Cover triggered\n",
      "In PE 14450 position and no Cover triggered\n",
      "In PE 14450 position and no Cover triggered\n",
      "In PE 14450 position and no Cover triggered\n",
      "In PE 14450 position and no Cover triggered\n",
      "In PE 14450 position and no Cover triggered\n",
      "In PE 14450 position and no Cover triggered\n",
      "In PE 14450 position and no Cover triggered\n",
      "In PE 14450 position and no Cover triggered\n",
      "In PE 14450 position and no Cover triggered\n",
      "In PE 14450 position and no Cover triggered\n",
      "In PE 14450 position and no Cover triggered\n",
      "In PE 14450 position and no Cover triggered\n",
      "In PE 14450 position and no Cover triggered\n",
      "DatetTime 2021-04-15 14:30:00, Spot:14482.0, atm:14500 ITM CE:14450--> Selling Call @ 38.7\n",
      "In PE 14450 position and no Cover triggered\n",
      "DatetTime 2021-04-15 14:40:00, Spot:14500.9, atm:14500 ITM CE:14450--> Covering Call @ 52.7\n",
      "In PE 14450 position and no Cover triggered\n",
      "In PE 14450 position and no Cover triggered\n",
      "DatetTime 2021-04-15 15:00:00, Spot:14584.1, atm:14600 ITM PE:14450--> Covering PE @ 0.3\n",
      "BackTesting from history file: importdatafiles/10_16_DEC21_WEEKLY_expiry_data_VEGE_NF_AND_BNF_Options_Desktop_Vege.csv\n",
      "DatetTime 2021-12-10 12:10:00, Spot:17429.7, atm:17450 ITM CE:17400--> Selling Call @ 149.75\n",
      "In CE 17400 position and no Cover triggered\n",
      "In CE 17400 position and no Cover triggered\n",
      "In CE 17400 position and no Cover triggered\n",
      "In CE 17400 position and no Cover triggered\n",
      "In CE 17400 position and no Cover triggered\n",
      "In CE 17400 position and no Cover triggered\n",
      "In CE 17400 position and no Cover triggered\n",
      "DatetTime 2021-12-10 13:30:00, Spot:17443.6, atm:17450 ITM CE:17400--> Covering Call @ 152.15\n",
      "DatetTime 2021-12-10 13:30:00, Spot:17443.6, atm:17450 ITM PE:17500--> Selling Put @ 152.0\n",
      "In PE 17500 position and no Cover triggered\n",
      "In PE 17500 position and no Cover triggered\n",
      "In PE 17500 position and no Cover triggered\n",
      "In PE 17500 position and no Cover triggered\n",
      "In PE 17500 position and no Cover triggered\n",
      "In PE 17500 position and no Cover triggered\n",
      "In PE 17500 position and no Cover triggered\n",
      "In PE 17500 position and no Cover triggered\n",
      "DatetTime 2021-12-10 15:00:00, Spot:17513.5, atm:17500 ITM PE:17500--> Covering PE @ 108.8\n",
      "DatetTime 2021-12-13 11:00:00, Spot:17582.5, atm:17600 ITM CE:17550--> Selling Call @ 130.7\n",
      "In CE 17550 position and no Cover triggered\n",
      "In CE 17550 position and no Cover triggered\n",
      "In CE 17550 position and no Cover triggered\n",
      "In CE 17550 position and no Cover triggered\n",
      "In CE 17550 position and no Cover triggered\n",
      "In CE 17550 position and no Cover triggered\n",
      "In CE 17550 position and no Cover triggered\n",
      "In CE 17550 position and no Cover triggered\n",
      "In CE 17550 position and no Cover triggered\n",
      "In CE 17550 position and no Cover triggered\n",
      "In CE 17550 position and no Cover triggered\n",
      "In CE 17550 position and no Cover triggered\n",
      "In CE 17550 position and no Cover triggered\n",
      "In CE 17550 position and no Cover triggered\n",
      "In CE 17550 position and no Cover triggered\n",
      "In CE 17550 position and no Cover triggered\n",
      "In CE 17550 position and no Cover triggered\n",
      "In CE 17550 position and no Cover triggered\n",
      "In CE 17550 position and no Cover triggered\n",
      "In CE 17550 position and no Cover triggered\n",
      "In CE 17550 position and no Cover triggered\n",
      "In CE 17550 position and no Cover triggered\n",
      "DatetTime 2021-12-13 14:40:00, Spot:17413.5, atm:17400 ITM PE:17450--> Selling Put @ 123.95\n",
      "In CE 17550 position and no Cover triggered\n",
      "DatetTime 2021-12-13 14:50:00, Spot:17383.7, atm:17400 ITM PE:17450--> Covering PE @ 140.9\n",
      "DatetTime 2021-12-13 15:00:00, Spot:17365.8, atm:17350 ITM CE:17550--> Covering Call @ 53.5\n",
      "DatetTime 2021-12-14 11:00:00, Spot:17246.0, atm:17250 ITM CE:17200--> Selling Call @ 134.0\n",
      "In CE 17200 position and no Cover triggered\n",
      "DatetTime 2021-12-14 11:20:00, Spot:17294.5, atm:17300 ITM CE:17200--> Covering Call @ 161.8\n",
      "DatetTime 2021-12-14 11:20:00, Spot:17294.5, atm:17300 ITM PE:17350--> Selling Put @ 127.6\n",
      "In PE 17350 position and no Cover triggered\n",
      "In PE 17350 position and no Cover triggered\n",
      "In PE 17350 position and no Cover triggered\n",
      "In PE 17350 position and no Cover triggered\n",
      "In PE 17350 position and no Cover triggered\n",
      "In PE 17350 position and no Cover triggered\n",
      "In PE 17350 position and no Cover triggered\n",
      "In PE 17350 position and no Cover triggered\n",
      "In PE 17350 position and no Cover triggered\n",
      "In PE 17350 position and no Cover triggered\n",
      "In PE 17350 position and no Cover triggered\n",
      "In PE 17350 position and no Cover triggered\n",
      "In PE 17350 position and no Cover triggered\n",
      "In PE 17350 position and no Cover triggered\n",
      "DatetTime 2021-12-14 13:50:00, Spot:17297.0, atm:17300 ITM CE:17250--> Selling Call @ 130.15\n",
      "DatetTime 2021-12-14 13:50:00, Spot:17297.0, atm:17300 ITM PE:17350--> Covering PE @ 121.5\n",
      "In CE 17250 position and no Cover triggered\n",
      "In CE 17250 position and no Cover triggered\n",
      "In CE 17250 position and no Cover triggered\n",
      "In CE 17250 position and no Cover triggered\n",
      "In CE 17250 position and no Cover triggered\n",
      "DatetTime 2021-12-14 14:40:00, Spot:17302.4, atm:17300 ITM PE:17350--> Selling Put @ 114.0\n",
      "In CE 17250 position and no Cover triggered\n",
      "In PE 17350 position and no Cover triggered\n",
      "DatetTime 2021-12-14 15:00:00, Spot:17323.2, atm:17300 ITM CE:17250--> Covering Call @ 142.35\n",
      "DatetTime 2021-12-14 15:00:00, Spot:17323.2, atm:17300 ITM PE:17350--> Covering PE @ 104.2\n",
      "DatetTime 2021-12-15 11:00:00, Spot:17228.5, atm:17250 ITM CE:17200--> Selling Call @ 98.55\n",
      "In CE 17200 position and no Cover triggered\n",
      "DatetTime 2021-12-15 11:10:00, Spot:17236.8, atm:17250 ITM PE:17300--> Selling Put @ 113.5\n",
      "DatetTime 2021-12-15 11:20:00, Spot:17266.7, atm:17250 ITM CE:17200--> Covering Call @ 131.35\n",
      "In PE 17300 position and no Cover triggered\n",
      "In PE 17300 position and no Cover triggered\n",
      "In PE 17300 position and no Cover triggered\n",
      "In PE 17300 position and no Cover triggered\n",
      "DatetTime 2021-12-15 12:00:00, Spot:17242.5, atm:17250 ITM CE:17200--> Selling Call @ 106.35\n",
      "DatetTime 2021-12-15 12:00:00, Spot:17242.5, atm:17250 ITM PE:17300--> Covering PE @ 110.55\n",
      "In CE 17200 position and no Cover triggered\n",
      "DatetTime 2021-12-15 12:10:00, Spot:17242.0, atm:17250 ITM PE:17300--> Selling Put @ 109.55\n",
      "In CE 17200 position and no Cover triggered\n",
      "DatetTime 2021-12-15 12:20:00, Spot:17234.9, atm:17250 ITM PE:17300--> Covering PE @ 110.1\n",
      "In CE 17200 position and no Cover triggered\n",
      "In CE 17200 position and no Cover triggered\n",
      "In CE 17200 position and no Cover triggered\n",
      "In CE 17200 position and no Cover triggered\n",
      "In CE 17200 position and no Cover triggered\n",
      "DatetTime 2021-12-15 13:10:00, Spot:17247.1, atm:17250 ITM PE:17300--> Selling Put @ 104.3\n",
      "DatetTime 2021-12-15 13:20:00, Spot:17252.4, atm:17250 ITM CE:17200--> Covering Call @ 109.95\n",
      "In PE 17300 position and no Cover triggered\n",
      "In PE 17300 position and no Cover triggered\n",
      "In PE 17300 position and no Cover triggered\n",
      "In PE 17300 position and no Cover triggered\n",
      "In PE 17300 position and no Cover triggered\n",
      "In PE 17300 position and no Cover triggered\n",
      "In PE 17300 position and no Cover triggered\n",
      "In PE 17300 position and no Cover triggered\n",
      "In PE 17300 position and no Cover triggered\n",
      "DatetTime 2021-12-15 14:50:00, Spot:17257.2, atm:17250 ITM CE:17200--> Selling Call @ 115.35\n",
      "DatetTime 2021-12-15 14:50:00, Spot:17257.2, atm:17250 ITM PE:17300--> Covering PE @ 92.1\n",
      "DatetTime 2021-12-15 15:00:00, Spot:17232.0, atm:17250 ITM CE:17200--> Covering Call @ 97.3\n",
      "DatetTime 2021-12-16 11:00:00, Spot:17286.7, atm:17300 ITM CE:17250--> Selling Call @ 67.9\n",
      "In CE 17250 position and no Cover triggered\n",
      "In CE 17250 position and no Cover triggered\n",
      "In CE 17250 position and no Cover triggered\n",
      "In CE 17250 position and no Cover triggered\n",
      "In CE 17250 position and no Cover triggered\n",
      "In CE 17250 position and no Cover triggered\n",
      "In CE 17250 position and no Cover triggered\n",
      "In CE 17250 position and no Cover triggered\n",
      "In CE 17250 position and no Cover triggered\n",
      "In CE 17250 position and no Cover triggered\n",
      "DatetTime 2021-12-16 12:50:00, Spot:17275.2, atm:17300 ITM CE:17250--> Covering Call @ 56.5\n",
      "DatetTime 2021-12-16 12:50:00, Spot:17275.2, atm:17300 ITM PE:17350--> Selling Put @ 78.7\n",
      "In PE 17350 position and no Cover triggered\n",
      "In PE 17350 position and no Cover triggered\n",
      "In PE 17350 position and no Cover triggered\n",
      "In PE 17350 position and no Cover triggered\n",
      "In PE 17350 position and no Cover triggered\n",
      "In PE 17350 position and no Cover triggered\n",
      "DatetTime 2021-12-16 14:00:00, Spot:17236.8, atm:17250 ITM CE:17200--> Selling Call @ 54.9\n",
      "DatetTime 2021-12-16 14:00:00, Spot:17236.8, atm:17250 ITM PE:17350--> Covering PE @ 110.95\n",
      "In CE 17200 position and no Cover triggered\n",
      "In CE 17200 position and no Cover triggered\n",
      "In CE 17200 position and no Cover triggered\n",
      "In CE 17200 position and no Cover triggered\n",
      "In CE 17200 position and no Cover triggered\n",
      "DatetTime 2021-12-16 14:50:00, Spot:17233.2, atm:17250 ITM PE:17300--> Selling Put @ 63.55\n",
      "DatetTime 2021-12-16 15:00:00, Spot:17220.3, atm:17200 ITM CE:17200--> Covering Call @ 24.55\n",
      "DatetTime 2021-12-16 15:00:00, Spot:17220.3, atm:17200 ITM PE:17300--> Covering PE @ 76.75\n"
     ]
    }
   ],
   "source": [
    "performance=pd.DataFrame()\n",
    "trades=pd.DataFrame()\n",
    "for i in files:\n",
    "    print(f'BackTesting from history file: {i}')\n",
    "    df=pd.read_csv(i)\n",
    "    df['Date/Time']=pd.to_datetime(df['Date/Time'].astype(str), format='%d-%m-%Y %H:%M:%S')\n",
    "    df.rename(columns={'Date/Time':'Date','Volume':'Tick Volume','Open Interest':'Volume'},inplace=True)\n",
    "    ticker_list=df['Ticker'].unique()\n",
    "    pnl_list,pnl_dic=bt(df)\n",
    "    performanceT=matrix(pnl_list,df)\n",
    "    tradesT=pd.DataFrame(pnl_dic, columns=['Date', 'PNL'])\n",
    "    performance=performance.append(performanceT)\n",
    "    trades=trades.append(tradesT)\n",
    "performance.reset_index(inplace=True)\n",
    "trades.reset_index(inplace=True)"
   ]
  },
  {
   "cell_type": "code",
   "execution_count": 475,
   "id": "23d2799c-199a-435e-921b-db0ba50baa94",
   "metadata": {},
   "outputs": [],
   "source": [
    "# performance.to_csv('performance.csv')"
   ]
  },
  {
   "cell_type": "code",
   "execution_count": 479,
   "id": "0c91733f-66b2-4922-be36-2335b0f2bb5a",
   "metadata": {},
   "outputs": [],
   "source": [
    "performance['trend']=performance['TotalProfitsRs'].cumsum()"
   ]
  },
  {
   "cell_type": "code",
   "execution_count": 480,
   "id": "16fc6600-7d0d-40d9-a060-c919e81aa47b",
   "metadata": {},
   "outputs": [
    {
     "data": {
      "application/vnd.plotly.v1+json": {
       "config": {
        "plotlyServerURL": "https://plot.ly"
       },
       "data": [
        {
         "hovertemplate": "variable=trend<br>index=%{x}<br>value=%{y}<extra></extra>",
         "legendgroup": "trend",
         "line": {
          "color": "#636efa",
          "dash": "solid"
         },
         "marker": {
          "symbol": "circle"
         },
         "mode": "lines",
         "name": "trend",
         "orientation": "v",
         "showlegend": true,
         "type": "scatter",
         "x": [
          0,
          1,
          2,
          3,
          4,
          5,
          6,
          7,
          8,
          9,
          10,
          11,
          12,
          13,
          14,
          15,
          16,
          17
         ],
         "xaxis": "x",
         "y": [
          10617.5,
          12780,
          7797.5,
          21875,
          21660,
          17612.5,
          18300,
          14540,
          18685,
          23867.5,
          24617.5,
          18657.5,
          23975,
          28682.5,
          27967.5,
          27927.5,
          33737.5,
          37212.5
         ],
         "yaxis": "y"
        }
       ],
       "layout": {
        "autosize": true,
        "legend": {
         "title": {
          "text": "variable"
         },
         "tracegroupgap": 0
        },
        "margin": {
         "t": 60
        },
        "template": {
         "data": {
          "bar": [
           {
            "error_x": {
             "color": "#2a3f5f"
            },
            "error_y": {
             "color": "#2a3f5f"
            },
            "marker": {
             "line": {
              "color": "#E5ECF6",
              "width": 0.5
             },
             "pattern": {
              "fillmode": "overlay",
              "size": 10,
              "solidity": 0.2
             }
            },
            "type": "bar"
           }
          ],
          "barpolar": [
           {
            "marker": {
             "line": {
              "color": "#E5ECF6",
              "width": 0.5
             },
             "pattern": {
              "fillmode": "overlay",
              "size": 10,
              "solidity": 0.2
             }
            },
            "type": "barpolar"
           }
          ],
          "carpet": [
           {
            "aaxis": {
             "endlinecolor": "#2a3f5f",
             "gridcolor": "white",
             "linecolor": "white",
             "minorgridcolor": "white",
             "startlinecolor": "#2a3f5f"
            },
            "baxis": {
             "endlinecolor": "#2a3f5f",
             "gridcolor": "white",
             "linecolor": "white",
             "minorgridcolor": "white",
             "startlinecolor": "#2a3f5f"
            },
            "type": "carpet"
           }
          ],
          "choropleth": [
           {
            "colorbar": {
             "outlinewidth": 0,
             "ticks": ""
            },
            "type": "choropleth"
           }
          ],
          "contour": [
           {
            "colorbar": {
             "outlinewidth": 0,
             "ticks": ""
            },
            "colorscale": [
             [
              0,
              "#0d0887"
             ],
             [
              0.1111111111111111,
              "#46039f"
             ],
             [
              0.2222222222222222,
              "#7201a8"
             ],
             [
              0.3333333333333333,
              "#9c179e"
             ],
             [
              0.4444444444444444,
              "#bd3786"
             ],
             [
              0.5555555555555556,
              "#d8576b"
             ],
             [
              0.6666666666666666,
              "#ed7953"
             ],
             [
              0.7777777777777778,
              "#fb9f3a"
             ],
             [
              0.8888888888888888,
              "#fdca26"
             ],
             [
              1,
              "#f0f921"
             ]
            ],
            "type": "contour"
           }
          ],
          "contourcarpet": [
           {
            "colorbar": {
             "outlinewidth": 0,
             "ticks": ""
            },
            "type": "contourcarpet"
           }
          ],
          "heatmap": [
           {
            "colorbar": {
             "outlinewidth": 0,
             "ticks": ""
            },
            "colorscale": [
             [
              0,
              "#0d0887"
             ],
             [
              0.1111111111111111,
              "#46039f"
             ],
             [
              0.2222222222222222,
              "#7201a8"
             ],
             [
              0.3333333333333333,
              "#9c179e"
             ],
             [
              0.4444444444444444,
              "#bd3786"
             ],
             [
              0.5555555555555556,
              "#d8576b"
             ],
             [
              0.6666666666666666,
              "#ed7953"
             ],
             [
              0.7777777777777778,
              "#fb9f3a"
             ],
             [
              0.8888888888888888,
              "#fdca26"
             ],
             [
              1,
              "#f0f921"
             ]
            ],
            "type": "heatmap"
           }
          ],
          "heatmapgl": [
           {
            "colorbar": {
             "outlinewidth": 0,
             "ticks": ""
            },
            "colorscale": [
             [
              0,
              "#0d0887"
             ],
             [
              0.1111111111111111,
              "#46039f"
             ],
             [
              0.2222222222222222,
              "#7201a8"
             ],
             [
              0.3333333333333333,
              "#9c179e"
             ],
             [
              0.4444444444444444,
              "#bd3786"
             ],
             [
              0.5555555555555556,
              "#d8576b"
             ],
             [
              0.6666666666666666,
              "#ed7953"
             ],
             [
              0.7777777777777778,
              "#fb9f3a"
             ],
             [
              0.8888888888888888,
              "#fdca26"
             ],
             [
              1,
              "#f0f921"
             ]
            ],
            "type": "heatmapgl"
           }
          ],
          "histogram": [
           {
            "marker": {
             "pattern": {
              "fillmode": "overlay",
              "size": 10,
              "solidity": 0.2
             }
            },
            "type": "histogram"
           }
          ],
          "histogram2d": [
           {
            "colorbar": {
             "outlinewidth": 0,
             "ticks": ""
            },
            "colorscale": [
             [
              0,
              "#0d0887"
             ],
             [
              0.1111111111111111,
              "#46039f"
             ],
             [
              0.2222222222222222,
              "#7201a8"
             ],
             [
              0.3333333333333333,
              "#9c179e"
             ],
             [
              0.4444444444444444,
              "#bd3786"
             ],
             [
              0.5555555555555556,
              "#d8576b"
             ],
             [
              0.6666666666666666,
              "#ed7953"
             ],
             [
              0.7777777777777778,
              "#fb9f3a"
             ],
             [
              0.8888888888888888,
              "#fdca26"
             ],
             [
              1,
              "#f0f921"
             ]
            ],
            "type": "histogram2d"
           }
          ],
          "histogram2dcontour": [
           {
            "colorbar": {
             "outlinewidth": 0,
             "ticks": ""
            },
            "colorscale": [
             [
              0,
              "#0d0887"
             ],
             [
              0.1111111111111111,
              "#46039f"
             ],
             [
              0.2222222222222222,
              "#7201a8"
             ],
             [
              0.3333333333333333,
              "#9c179e"
             ],
             [
              0.4444444444444444,
              "#bd3786"
             ],
             [
              0.5555555555555556,
              "#d8576b"
             ],
             [
              0.6666666666666666,
              "#ed7953"
             ],
             [
              0.7777777777777778,
              "#fb9f3a"
             ],
             [
              0.8888888888888888,
              "#fdca26"
             ],
             [
              1,
              "#f0f921"
             ]
            ],
            "type": "histogram2dcontour"
           }
          ],
          "mesh3d": [
           {
            "colorbar": {
             "outlinewidth": 0,
             "ticks": ""
            },
            "type": "mesh3d"
           }
          ],
          "parcoords": [
           {
            "line": {
             "colorbar": {
              "outlinewidth": 0,
              "ticks": ""
             }
            },
            "type": "parcoords"
           }
          ],
          "pie": [
           {
            "automargin": true,
            "type": "pie"
           }
          ],
          "scatter": [
           {
            "marker": {
             "colorbar": {
              "outlinewidth": 0,
              "ticks": ""
             }
            },
            "type": "scatter"
           }
          ],
          "scatter3d": [
           {
            "line": {
             "colorbar": {
              "outlinewidth": 0,
              "ticks": ""
             }
            },
            "marker": {
             "colorbar": {
              "outlinewidth": 0,
              "ticks": ""
             }
            },
            "type": "scatter3d"
           }
          ],
          "scattercarpet": [
           {
            "marker": {
             "colorbar": {
              "outlinewidth": 0,
              "ticks": ""
             }
            },
            "type": "scattercarpet"
           }
          ],
          "scattergeo": [
           {
            "marker": {
             "colorbar": {
              "outlinewidth": 0,
              "ticks": ""
             }
            },
            "type": "scattergeo"
           }
          ],
          "scattergl": [
           {
            "marker": {
             "colorbar": {
              "outlinewidth": 0,
              "ticks": ""
             }
            },
            "type": "scattergl"
           }
          ],
          "scattermapbox": [
           {
            "marker": {
             "colorbar": {
              "outlinewidth": 0,
              "ticks": ""
             }
            },
            "type": "scattermapbox"
           }
          ],
          "scatterpolar": [
           {
            "marker": {
             "colorbar": {
              "outlinewidth": 0,
              "ticks": ""
             }
            },
            "type": "scatterpolar"
           }
          ],
          "scatterpolargl": [
           {
            "marker": {
             "colorbar": {
              "outlinewidth": 0,
              "ticks": ""
             }
            },
            "type": "scatterpolargl"
           }
          ],
          "scatterternary": [
           {
            "marker": {
             "colorbar": {
              "outlinewidth": 0,
              "ticks": ""
             }
            },
            "type": "scatterternary"
           }
          ],
          "surface": [
           {
            "colorbar": {
             "outlinewidth": 0,
             "ticks": ""
            },
            "colorscale": [
             [
              0,
              "#0d0887"
             ],
             [
              0.1111111111111111,
              "#46039f"
             ],
             [
              0.2222222222222222,
              "#7201a8"
             ],
             [
              0.3333333333333333,
              "#9c179e"
             ],
             [
              0.4444444444444444,
              "#bd3786"
             ],
             [
              0.5555555555555556,
              "#d8576b"
             ],
             [
              0.6666666666666666,
              "#ed7953"
             ],
             [
              0.7777777777777778,
              "#fb9f3a"
             ],
             [
              0.8888888888888888,
              "#fdca26"
             ],
             [
              1,
              "#f0f921"
             ]
            ],
            "type": "surface"
           }
          ],
          "table": [
           {
            "cells": {
             "fill": {
              "color": "#EBF0F8"
             },
             "line": {
              "color": "white"
             }
            },
            "header": {
             "fill": {
              "color": "#C8D4E3"
             },
             "line": {
              "color": "white"
             }
            },
            "type": "table"
           }
          ]
         },
         "layout": {
          "annotationdefaults": {
           "arrowcolor": "#2a3f5f",
           "arrowhead": 0,
           "arrowwidth": 1
          },
          "autotypenumbers": "strict",
          "coloraxis": {
           "colorbar": {
            "outlinewidth": 0,
            "ticks": ""
           }
          },
          "colorscale": {
           "diverging": [
            [
             0,
             "#8e0152"
            ],
            [
             0.1,
             "#c51b7d"
            ],
            [
             0.2,
             "#de77ae"
            ],
            [
             0.3,
             "#f1b6da"
            ],
            [
             0.4,
             "#fde0ef"
            ],
            [
             0.5,
             "#f7f7f7"
            ],
            [
             0.6,
             "#e6f5d0"
            ],
            [
             0.7,
             "#b8e186"
            ],
            [
             0.8,
             "#7fbc41"
            ],
            [
             0.9,
             "#4d9221"
            ],
            [
             1,
             "#276419"
            ]
           ],
           "sequential": [
            [
             0,
             "#0d0887"
            ],
            [
             0.1111111111111111,
             "#46039f"
            ],
            [
             0.2222222222222222,
             "#7201a8"
            ],
            [
             0.3333333333333333,
             "#9c179e"
            ],
            [
             0.4444444444444444,
             "#bd3786"
            ],
            [
             0.5555555555555556,
             "#d8576b"
            ],
            [
             0.6666666666666666,
             "#ed7953"
            ],
            [
             0.7777777777777778,
             "#fb9f3a"
            ],
            [
             0.8888888888888888,
             "#fdca26"
            ],
            [
             1,
             "#f0f921"
            ]
           ],
           "sequentialminus": [
            [
             0,
             "#0d0887"
            ],
            [
             0.1111111111111111,
             "#46039f"
            ],
            [
             0.2222222222222222,
             "#7201a8"
            ],
            [
             0.3333333333333333,
             "#9c179e"
            ],
            [
             0.4444444444444444,
             "#bd3786"
            ],
            [
             0.5555555555555556,
             "#d8576b"
            ],
            [
             0.6666666666666666,
             "#ed7953"
            ],
            [
             0.7777777777777778,
             "#fb9f3a"
            ],
            [
             0.8888888888888888,
             "#fdca26"
            ],
            [
             1,
             "#f0f921"
            ]
           ]
          },
          "colorway": [
           "#636efa",
           "#EF553B",
           "#00cc96",
           "#ab63fa",
           "#FFA15A",
           "#19d3f3",
           "#FF6692",
           "#B6E880",
           "#FF97FF",
           "#FECB52"
          ],
          "font": {
           "color": "#2a3f5f"
          },
          "geo": {
           "bgcolor": "white",
           "lakecolor": "white",
           "landcolor": "#E5ECF6",
           "showlakes": true,
           "showland": true,
           "subunitcolor": "white"
          },
          "hoverlabel": {
           "align": "left"
          },
          "hovermode": "closest",
          "mapbox": {
           "style": "light"
          },
          "paper_bgcolor": "white",
          "plot_bgcolor": "#E5ECF6",
          "polar": {
           "angularaxis": {
            "gridcolor": "white",
            "linecolor": "white",
            "ticks": ""
           },
           "bgcolor": "#E5ECF6",
           "radialaxis": {
            "gridcolor": "white",
            "linecolor": "white",
            "ticks": ""
           }
          },
          "scene": {
           "xaxis": {
            "backgroundcolor": "#E5ECF6",
            "gridcolor": "white",
            "gridwidth": 2,
            "linecolor": "white",
            "showbackground": true,
            "ticks": "",
            "zerolinecolor": "white"
           },
           "yaxis": {
            "backgroundcolor": "#E5ECF6",
            "gridcolor": "white",
            "gridwidth": 2,
            "linecolor": "white",
            "showbackground": true,
            "ticks": "",
            "zerolinecolor": "white"
           },
           "zaxis": {
            "backgroundcolor": "#E5ECF6",
            "gridcolor": "white",
            "gridwidth": 2,
            "linecolor": "white",
            "showbackground": true,
            "ticks": "",
            "zerolinecolor": "white"
           }
          },
          "shapedefaults": {
           "line": {
            "color": "#2a3f5f"
           }
          },
          "ternary": {
           "aaxis": {
            "gridcolor": "white",
            "linecolor": "white",
            "ticks": ""
           },
           "baxis": {
            "gridcolor": "white",
            "linecolor": "white",
            "ticks": ""
           },
           "bgcolor": "#E5ECF6",
           "caxis": {
            "gridcolor": "white",
            "linecolor": "white",
            "ticks": ""
           }
          },
          "title": {
           "x": 0.05
          },
          "xaxis": {
           "automargin": true,
           "gridcolor": "white",
           "linecolor": "white",
           "ticks": "",
           "title": {
            "standoff": 15
           },
           "zerolinecolor": "white",
           "zerolinewidth": 2
          },
          "yaxis": {
           "automargin": true,
           "gridcolor": "white",
           "linecolor": "white",
           "ticks": "",
           "title": {
            "standoff": 15
           },
           "zerolinecolor": "white",
           "zerolinewidth": 2
          }
         }
        },
        "xaxis": {
         "anchor": "y",
         "autorange": true,
         "domain": [
          0,
          1
         ],
         "range": [
          0,
          17
         ],
         "title": {
          "text": "index"
         },
         "type": "linear"
        },
        "yaxis": {
         "anchor": "x",
         "autorange": true,
         "domain": [
          0,
          1
         ],
         "range": [
          6163.333333333333,
          38846.666666666664
         ],
         "title": {
          "text": "value"
         },
         "type": "linear"
        }
       }
      },
      "image/png": "[encoded data removed]",
      "text/html": [
       "<div>                            <div id=\"89b7802b-f990-42fd-b7bb-ff3c9f24d382\" class=\"plotly-graph-div\" style=\"height:525px; width:100%;\"></div>            <script type=\"text/javascript\">                require([\"plotly\"], function(Plotly) {                    window.PLOTLYENV=window.PLOTLYENV || {};                                    if (document.getElementById(\"89b7802b-f990-42fd-b7bb-ff3c9f24d382\")) {                    Plotly.newPlot(                        \"89b7802b-f990-42fd-b7bb-ff3c9f24d382\",                        [{\"hovertemplate\":\"variable=trend<br>index=%{x}<br>value=%{y}<extra></extra>\",\"legendgroup\":\"trend\",\"line\":{\"color\":\"#636efa\",\"dash\":\"solid\"},\"marker\":{\"symbol\":\"circle\"},\"mode\":\"lines\",\"name\":\"trend\",\"orientation\":\"v\",\"showlegend\":true,\"type\":\"scatter\",\"x\":[0,1,2,3,4,5,6,7,8,9,10,11,12,13,14,15,16,17],\"xaxis\":\"x\",\"y\":[10617.5,12780.0,7797.5,21875.0,21660.0,17612.5,18300.0,14540.0,18685.0,23867.5,24617.5,18657.5,23975.0,28682.5,27967.5,27927.5,33737.5,37212.5],\"yaxis\":\"y\"}],                        {\"legend\":{\"title\":{\"text\":\"variable\"},\"tracegroupgap\":0},\"margin\":{\"t\":60},\"template\":{\"data\":{\"bar\":[{\"error_x\":{\"color\":\"#2a3f5f\"},\"error_y\":{\"color\":\"#2a3f5f\"},\"marker\":{\"line\":{\"color\":\"#E5ECF6\",\"width\":0.5},\"pattern\":{\"fillmode\":\"overlay\",\"size\":10,\"solidity\":0.2}},\"type\":\"bar\"}],\"barpolar\":[{\"marker\":{\"line\":{\"color\":\"#E5ECF6\",\"width\":0.5},\"pattern\":{\"fillmode\":\"overlay\",\"size\":10,\"solidity\":0.2}},\"type\":\"barpolar\"}],\"carpet\":[{\"aaxis\":{\"endlinecolor\":\"#2a3f5f\",\"gridcolor\":\"white\",\"linecolor\":\"white\",\"minorgridcolor\":\"white\",\"startlinecolor\":\"#2a3f5f\"},\"baxis\":{\"endlinecolor\":\"#2a3f5f\",\"gridcolor\":\"white\",\"linecolor\":\"white\",\"minorgridcolor\":\"white\",\"startlinecolor\":\"#2a3f5f\"},\"type\":\"carpet\"}],\"choropleth\":[{\"colorbar\":{\"outlinewidth\":0,\"ticks\":\"\"},\"type\":\"choropleth\"}],\"contour\":[{\"colorbar\":{\"outlinewidth\":0,\"ticks\":\"\"},\"colorscale\":[[0.0,\"#0d0887\"],[0.1111111111111111,\"#46039f\"],[0.2222222222222222,\"#7201a8\"],[0.3333333333333333,\"#9c179e\"],[0.4444444444444444,\"#bd3786\"],[0.5555555555555556,\"#d8576b\"],[0.6666666666666666,\"#ed7953\"],[0.7777777777777778,\"#fb9f3a\"],[0.8888888888888888,\"#fdca26\"],[1.0,\"#f0f921\"]],\"type\":\"contour\"}],\"contourcarpet\":[{\"colorbar\":{\"outlinewidth\":0,\"ticks\":\"\"},\"type\":\"contourcarpet\"}],\"heatmap\":[{\"colorbar\":{\"outlinewidth\":0,\"ticks\":\"\"},\"colorscale\":[[0.0,\"#0d0887\"],[0.1111111111111111,\"#46039f\"],[0.2222222222222222,\"#7201a8\"],[0.3333333333333333,\"#9c179e\"],[0.4444444444444444,\"#bd3786\"],[0.5555555555555556,\"#d8576b\"],[0.6666666666666666,\"#ed7953\"],[0.7777777777777778,\"#fb9f3a\"],[0.8888888888888888,\"#fdca26\"],[1.0,\"#f0f921\"]],\"type\":\"heatmap\"}],\"heatmapgl\":[{\"colorbar\":{\"outlinewidth\":0,\"ticks\":\"\"},\"colorscale\":[[0.0,\"#0d0887\"],[0.1111111111111111,\"#46039f\"],[0.2222222222222222,\"#7201a8\"],[0.3333333333333333,\"#9c179e\"],[0.4444444444444444,\"#bd3786\"],[0.5555555555555556,\"#d8576b\"],[0.6666666666666666,\"#ed7953\"],[0.7777777777777778,\"#fb9f3a\"],[0.8888888888888888,\"#fdca26\"],[1.0,\"#f0f921\"]],\"type\":\"heatmapgl\"}],\"histogram\":[{\"marker\":{\"pattern\":{\"fillmode\":\"overlay\",\"size\":10,\"solidity\":0.2}},\"type\":\"histogram\"}],\"histogram2d\":[{\"colorbar\":{\"outlinewidth\":0,\"ticks\":\"\"},\"colorscale\":[[0.0,\"#0d0887\"],[0.1111111111111111,\"#46039f\"],[0.2222222222222222,\"#7201a8\"],[0.3333333333333333,\"#9c179e\"],[0.4444444444444444,\"#bd3786\"],[0.5555555555555556,\"#d8576b\"],[0.6666666666666666,\"#ed7953\"],[0.7777777777777778,\"#fb9f3a\"],[0.8888888888888888,\"#fdca26\"],[1.0,\"#f0f921\"]],\"type\":\"histogram2d\"}],\"histogram2dcontour\":[{\"colorbar\":{\"outlinewidth\":0,\"ticks\":\"\"},\"colorscale\":[[0.0,\"#0d0887\"],[0.1111111111111111,\"#46039f\"],[0.2222222222222222,\"#7201a8\"],[0.3333333333333333,\"#9c179e\"],[0.4444444444444444,\"#bd3786\"],[0.5555555555555556,\"#d8576b\"],[0.6666666666666666,\"#ed7953\"],[0.7777777777777778,\"#fb9f3a\"],[0.8888888888888888,\"#fdca26\"],[1.0,\"#f0f921\"]],\"type\":\"histogram2dcontour\"}],\"mesh3d\":[{\"colorbar\":{\"outlinewidth\":0,\"ticks\":\"\"},\"type\":\"mesh3d\"}],\"parcoords\":[{\"line\":{\"colorbar\":{\"outlinewidth\":0,\"ticks\":\"\"}},\"type\":\"parcoords\"}],\"pie\":[{\"automargin\":true,\"type\":\"pie\"}],\"scatter\":[{\"marker\":{\"colorbar\":{\"outlinewidth\":0,\"ticks\":\"\"}},\"type\":\"scatter\"}],\"scatter3d\":[{\"line\":{\"colorbar\":{\"outlinewidth\":0,\"ticks\":\"\"}},\"marker\":{\"colorbar\":{\"outlinewidth\":0,\"ticks\":\"\"}},\"type\":\"scatter3d\"}],\"scattercarpet\":[{\"marker\":{\"colorbar\":{\"outlinewidth\":0,\"ticks\":\"\"}},\"type\":\"scattercarpet\"}],\"scattergeo\":[{\"marker\":{\"colorbar\":{\"outlinewidth\":0,\"ticks\":\"\"}},\"type\":\"scattergeo\"}],\"scattergl\":[{\"marker\":{\"colorbar\":{\"outlinewidth\":0,\"ticks\":\"\"}},\"type\":\"scattergl\"}],\"scattermapbox\":[{\"marker\":{\"colorbar\":{\"outlinewidth\":0,\"ticks\":\"\"}},\"type\":\"scattermapbox\"}],\"scatterpolar\":[{\"marker\":{\"colorbar\":{\"outlinewidth\":0,\"ticks\":\"\"}},\"type\":\"scatterpolar\"}],\"scatterpolargl\":[{\"marker\":{\"colorbar\":{\"outlinewidth\":0,\"ticks\":\"\"}},\"type\":\"scatterpolargl\"}],\"scatterternary\":[{\"marker\":{\"colorbar\":{\"outlinewidth\":0,\"ticks\":\"\"}},\"type\":\"scatterternary\"}],\"surface\":[{\"colorbar\":{\"outlinewidth\":0,\"ticks\":\"\"},\"colorscale\":[[0.0,\"#0d0887\"],[0.1111111111111111,\"#46039f\"],[0.2222222222222222,\"#7201a8\"],[0.3333333333333333,\"#9c179e\"],[0.4444444444444444,\"#bd3786\"],[0.5555555555555556,\"#d8576b\"],[0.6666666666666666,\"#ed7953\"],[0.7777777777777778,\"#fb9f3a\"],[0.8888888888888888,\"#fdca26\"],[1.0,\"#f0f921\"]],\"type\":\"surface\"}],\"table\":[{\"cells\":{\"fill\":{\"color\":\"#EBF0F8\"},\"line\":{\"color\":\"white\"}},\"header\":{\"fill\":{\"color\":\"#C8D4E3\"},\"line\":{\"color\":\"white\"}},\"type\":\"table\"}]},\"layout\":{\"annotationdefaults\":{\"arrowcolor\":\"#2a3f5f\",\"arrowhead\":0,\"arrowwidth\":1},\"autotypenumbers\":\"strict\",\"coloraxis\":{\"colorbar\":{\"outlinewidth\":0,\"ticks\":\"\"}},\"colorscale\":{\"diverging\":[[0,\"#8e0152\"],[0.1,\"#c51b7d\"],[0.2,\"#de77ae\"],[0.3,\"#f1b6da\"],[0.4,\"#fde0ef\"],[0.5,\"#f7f7f7\"],[0.6,\"#e6f5d0\"],[0.7,\"#b8e186\"],[0.8,\"#7fbc41\"],[0.9,\"#4d9221\"],[1,\"#276419\"]],\"sequential\":[[0.0,\"#0d0887\"],[0.1111111111111111,\"#46039f\"],[0.2222222222222222,\"#7201a8\"],[0.3333333333333333,\"#9c179e\"],[0.4444444444444444,\"#bd3786\"],[0.5555555555555556,\"#d8576b\"],[0.6666666666666666,\"#ed7953\"],[0.7777777777777778,\"#fb9f3a\"],[0.8888888888888888,\"#fdca26\"],[1.0,\"#f0f921\"]],\"sequentialminus\":[[0.0,\"#0d0887\"],[0.1111111111111111,\"#46039f\"],[0.2222222222222222,\"#7201a8\"],[0.3333333333333333,\"#9c179e\"],[0.4444444444444444,\"#bd3786\"],[0.5555555555555556,\"#d8576b\"],[0.6666666666666666,\"#ed7953\"],[0.7777777777777778,\"#fb9f3a\"],[0.8888888888888888,\"#fdca26\"],[1.0,\"#f0f921\"]]},\"colorway\":[\"#636efa\",\"#EF553B\",\"#00cc96\",\"#ab63fa\",\"#FFA15A\",\"#19d3f3\",\"#FF6692\",\"#B6E880\",\"#FF97FF\",\"#FECB52\"],\"font\":{\"color\":\"#2a3f5f\"},\"geo\":{\"bgcolor\":\"white\",\"lakecolor\":\"white\",\"landcolor\":\"#E5ECF6\",\"showlakes\":true,\"showland\":true,\"subunitcolor\":\"white\"},\"hoverlabel\":{\"align\":\"left\"},\"hovermode\":\"closest\",\"mapbox\":{\"style\":\"light\"},\"paper_bgcolor\":\"white\",\"plot_bgcolor\":\"#E5ECF6\",\"polar\":{\"angularaxis\":{\"gridcolor\":\"white\",\"linecolor\":\"white\",\"ticks\":\"\"},\"bgcolor\":\"#E5ECF6\",\"radialaxis\":{\"gridcolor\":\"white\",\"linecolor\":\"white\",\"ticks\":\"\"}},\"scene\":{\"xaxis\":{\"backgroundcolor\":\"#E5ECF6\",\"gridcolor\":\"white\",\"gridwidth\":2,\"linecolor\":\"white\",\"showbackground\":true,\"ticks\":\"\",\"zerolinecolor\":\"white\"},\"yaxis\":{\"backgroundcolor\":\"#E5ECF6\",\"gridcolor\":\"white\",\"gridwidth\":2,\"linecolor\":\"white\",\"showbackground\":true,\"ticks\":\"\",\"zerolinecolor\":\"white\"},\"zaxis\":{\"backgroundcolor\":\"#E5ECF6\",\"gridcolor\":\"white\",\"gridwidth\":2,\"linecolor\":\"white\",\"showbackground\":true,\"ticks\":\"\",\"zerolinecolor\":\"white\"}},\"shapedefaults\":{\"line\":{\"color\":\"#2a3f5f\"}},\"ternary\":{\"aaxis\":{\"gridcolor\":\"white\",\"linecolor\":\"white\",\"ticks\":\"\"},\"baxis\":{\"gridcolor\":\"white\",\"linecolor\":\"white\",\"ticks\":\"\"},\"bgcolor\":\"#E5ECF6\",\"caxis\":{\"gridcolor\":\"white\",\"linecolor\":\"white\",\"ticks\":\"\"}},\"title\":{\"x\":0.05},\"xaxis\":{\"automargin\":true,\"gridcolor\":\"white\",\"linecolor\":\"white\",\"ticks\":\"\",\"title\":{\"standoff\":15},\"zerolinecolor\":\"white\",\"zerolinewidth\":2},\"yaxis\":{\"automargin\":true,\"gridcolor\":\"white\",\"linecolor\":\"white\",\"ticks\":\"\",\"title\":{\"standoff\":15},\"zerolinecolor\":\"white\",\"zerolinewidth\":2}}},\"xaxis\":{\"anchor\":\"y\",\"domain\":[0.0,1.0],\"title\":{\"text\":\"index\"}},\"yaxis\":{\"anchor\":\"x\",\"domain\":[0.0,1.0],\"title\":{\"text\":\"value\"}}},                        {\"responsive\": true}                    ).then(function(){\n",
       "                            \n",
       "var gd = document.getElementById('89b7802b-f990-42fd-b7bb-ff3c9f24d382');\n",
       "var x = new MutationObserver(function (mutations, observer) {{\n",
       "        var display = window.getComputedStyle(gd).display;\n",
       "        if (!display || display === 'none') {{\n",
       "            console.log([gd, 'removed!']);\n",
       "            Plotly.purge(gd);\n",
       "            observer.disconnect();\n",
       "        }}\n",
       "}});\n",
       "\n",
       "// Listen for the removal of the full notebook cells\n",
       "var notebookContainer = gd.closest('#notebook-container');\n",
       "if (notebookContainer) {{\n",
       "    x.observe(notebookContainer, {childList: true});\n",
       "}}\n",
       "\n",
       "// Listen for the clearing of the current output cell\n",
       "var outputEl = gd.closest('.output');\n",
       "if (outputEl) {{\n",
       "    x.observe(outputEl, {childList: true});\n",
       "}}\n",
       "\n",
       "                        })                };                });            </script>        </div>"
      ]
     },
     "metadata": {},
     "output_type": "display_data"
    }
   ],
   "source": [
    "pxline(performance['trend'])"
   ]
  },
  {
   "cell_type": "code",
   "execution_count": null,
   "id": "50e65d0c-9445-474b-a189-5299a075ee5c",
   "metadata": {},
   "outputs": [],
   "source": []
  },
  {
   "cell_type": "code",
   "execution_count": 353,
   "id": "02c863e5-5937-4bff-8c15-1d75c6ab6a4a",
   "metadata": {},
   "outputs": [
    {
     "data": {
      "application/vnd.plotly.v1+json": {
       "config": {
        "plotlyServerURL": "https://plot.ly"
       },
       "data": [
        {
         "hovertemplate": "variable=0<br>index=%{x}<br>value=%{y}<extra></extra>",
         "legendgroup": "0",
         "line": {
          "color": "#636efa",
          "dash": "solid"
         },
         "marker": {
          "symbol": "circle"
         },
         "mode": "lines",
         "name": "0",
         "orientation": "v",
         "showlegend": true,
         "type": "scatter",
         "x": [
          0,
          1,
          2,
          3,
          4,
          5,
          6,
          7,
          8,
          9,
          10,
          11,
          12,
          13
         ],
         "xaxis": "x",
         "y": [
          -13.300000000000011,
          40.45,
          5.1499999999999915,
          -5.549999999999997,
          60.60000000000001,
          44.05,
          45.69999999999999,
          28.69999999999999,
          22.299999999999983,
          48.94999999999999,
          47.69999999999999,
          30.849999999999994,
          11.099999999999994,
          83.05
         ],
         "yaxis": "y"
        }
       ],
       "layout": {
        "autosize": true,
        "legend": {
         "title": {
          "text": "variable"
         },
         "tracegroupgap": 0
        },
        "margin": {
         "t": 60
        },
        "template": {
         "data": {
          "bar": [
           {
            "error_x": {
             "color": "#2a3f5f"
            },
            "error_y": {
             "color": "#2a3f5f"
            },
            "marker": {
             "line": {
              "color": "#E5ECF6",
              "width": 0.5
             },
             "pattern": {
              "fillmode": "overlay",
              "size": 10,
              "solidity": 0.2
             }
            },
            "type": "bar"
           }
          ],
          "barpolar": [
           {
            "marker": {
             "line": {
              "color": "#E5ECF6",
              "width": 0.5
             },
             "pattern": {
              "fillmode": "overlay",
              "size": 10,
              "solidity": 0.2
             }
            },
            "type": "barpolar"
           }
          ],
          "carpet": [
           {
            "aaxis": {
             "endlinecolor": "#2a3f5f",
             "gridcolor": "white",
             "linecolor": "white",
             "minorgridcolor": "white",
             "startlinecolor": "#2a3f5f"
            },
            "baxis": {
             "endlinecolor": "#2a3f5f",
             "gridcolor": "white",
             "linecolor": "white",
             "minorgridcolor": "white",
             "startlinecolor": "#2a3f5f"
            },
            "type": "carpet"
           }
          ],
          "choropleth": [
           {
            "colorbar": {
             "outlinewidth": 0,
             "ticks": ""
            },
            "type": "choropleth"
           }
          ],
          "contour": [
           {
            "colorbar": {
             "outlinewidth": 0,
             "ticks": ""
            },
            "colorscale": [
             [
              0,
              "#0d0887"
             ],
             [
              0.1111111111111111,
              "#46039f"
             ],
             [
              0.2222222222222222,
              "#7201a8"
             ],
             [
              0.3333333333333333,
              "#9c179e"
             ],
             [
              0.4444444444444444,
              "#bd3786"
             ],
             [
              0.5555555555555556,
              "#d8576b"
             ],
             [
              0.6666666666666666,
              "#ed7953"
             ],
             [
              0.7777777777777778,
              "#fb9f3a"
             ],
             [
              0.8888888888888888,
              "#fdca26"
             ],
             [
              1,
              "#f0f921"
             ]
            ],
            "type": "contour"
           }
          ],
          "contourcarpet": [
           {
            "colorbar": {
             "outlinewidth": 0,
             "ticks": ""
            },
            "type": "contourcarpet"
           }
          ],
          "heatmap": [
           {
            "colorbar": {
             "outlinewidth": 0,
             "ticks": ""
            },
            "colorscale": [
             [
              0,
              "#0d0887"
             ],
             [
              0.1111111111111111,
              "#46039f"
             ],
             [
              0.2222222222222222,
              "#7201a8"
             ],
             [
              0.3333333333333333,
              "#9c179e"
             ],
             [
              0.4444444444444444,
              "#bd3786"
             ],
             [
              0.5555555555555556,
              "#d8576b"
             ],
             [
              0.6666666666666666,
              "#ed7953"
             ],
             [
              0.7777777777777778,
              "#fb9f3a"
             ],
             [
              0.8888888888888888,
              "#fdca26"
             ],
             [
              1,
              "#f0f921"
             ]
            ],
            "type": "heatmap"
           }
          ],
          "heatmapgl": [
           {
            "colorbar": {
             "outlinewidth": 0,
             "ticks": ""
            },
            "colorscale": [
             [
              0,
              "#0d0887"
             ],
             [
              0.1111111111111111,
              "#46039f"
             ],
             [
              0.2222222222222222,
              "#7201a8"
             ],
             [
              0.3333333333333333,
              "#9c179e"
             ],
             [
              0.4444444444444444,
              "#bd3786"
             ],
             [
              0.5555555555555556,
              "#d8576b"
             ],
             [
              0.6666666666666666,
              "#ed7953"
             ],
             [
              0.7777777777777778,
              "#fb9f3a"
             ],
             [
              0.8888888888888888,
              "#fdca26"
             ],
             [
              1,
              "#f0f921"
             ]
            ],
            "type": "heatmapgl"
           }
          ],
          "histogram": [
           {
            "marker": {
             "pattern": {
              "fillmode": "overlay",
              "size": 10,
              "solidity": 0.2
             }
            },
            "type": "histogram"
           }
          ],
          "histogram2d": [
           {
            "colorbar": {
             "outlinewidth": 0,
             "ticks": ""
            },
            "colorscale": [
             [
              0,
              "#0d0887"
             ],
             [
              0.1111111111111111,
              "#46039f"
             ],
             [
              0.2222222222222222,
              "#7201a8"
             ],
             [
              0.3333333333333333,
              "#9c179e"
             ],
             [
              0.4444444444444444,
              "#bd3786"
             ],
             [
              0.5555555555555556,
              "#d8576b"
             ],
             [
              0.6666666666666666,
              "#ed7953"
             ],
             [
              0.7777777777777778,
              "#fb9f3a"
             ],
             [
              0.8888888888888888,
              "#fdca26"
             ],
             [
              1,
              "#f0f921"
             ]
            ],
            "type": "histogram2d"
           }
          ],
          "histogram2dcontour": [
           {
            "colorbar": {
             "outlinewidth": 0,
             "ticks": ""
            },
            "colorscale": [
             [
              0,
              "#0d0887"
             ],
             [
              0.1111111111111111,
              "#46039f"
             ],
             [
              0.2222222222222222,
              "#7201a8"
             ],
             [
              0.3333333333333333,
              "#9c179e"
             ],
             [
              0.4444444444444444,
              "#bd3786"
             ],
             [
              0.5555555555555556,
              "#d8576b"
             ],
             [
              0.6666666666666666,
              "#ed7953"
             ],
             [
              0.7777777777777778,
              "#fb9f3a"
             ],
             [
              0.8888888888888888,
              "#fdca26"
             ],
             [
              1,
              "#f0f921"
             ]
            ],
            "type": "histogram2dcontour"
           }
          ],
          "mesh3d": [
           {
            "colorbar": {
             "outlinewidth": 0,
             "ticks": ""
            },
            "type": "mesh3d"
           }
          ],
          "parcoords": [
           {
            "line": {
             "colorbar": {
              "outlinewidth": 0,
              "ticks": ""
             }
            },
            "type": "parcoords"
           }
          ],
          "pie": [
           {
            "automargin": true,
            "type": "pie"
           }
          ],
          "scatter": [
           {
            "marker": {
             "colorbar": {
              "outlinewidth": 0,
              "ticks": ""
             }
            },
            "type": "scatter"
           }
          ],
          "scatter3d": [
           {
            "line": {
             "colorbar": {
              "outlinewidth": 0,
              "ticks": ""
             }
            },
            "marker": {
             "colorbar": {
              "outlinewidth": 0,
              "ticks": ""
             }
            },
            "type": "scatter3d"
           }
          ],
          "scattercarpet": [
           {
            "marker": {
             "colorbar": {
              "outlinewidth": 0,
              "ticks": ""
             }
            },
            "type": "scattercarpet"
           }
          ],
          "scattergeo": [
           {
            "marker": {
             "colorbar": {
              "outlinewidth": 0,
              "ticks": ""
             }
            },
            "type": "scattergeo"
           }
          ],
          "scattergl": [
           {
            "marker": {
             "colorbar": {
              "outlinewidth": 0,
              "ticks": ""
             }
            },
            "type": "scattergl"
           }
          ],
          "scattermapbox": [
           {
            "marker": {
             "colorbar": {
              "outlinewidth": 0,
              "ticks": ""
             }
            },
            "type": "scattermapbox"
           }
          ],
          "scatterpolar": [
           {
            "marker": {
             "colorbar": {
              "outlinewidth": 0,
              "ticks": ""
             }
            },
            "type": "scatterpolar"
           }
          ],
          "scatterpolargl": [
           {
            "marker": {
             "colorbar": {
              "outlinewidth": 0,
              "ticks": ""
             }
            },
            "type": "scatterpolargl"
           }
          ],
          "scatterternary": [
           {
            "marker": {
             "colorbar": {
              "outlinewidth": 0,
              "ticks": ""
             }
            },
            "type": "scatterternary"
           }
          ],
          "surface": [
           {
            "colorbar": {
             "outlinewidth": 0,
             "ticks": ""
            },
            "colorscale": [
             [
              0,
              "#0d0887"
             ],
             [
              0.1111111111111111,
              "#46039f"
             ],
             [
              0.2222222222222222,
              "#7201a8"
             ],
             [
              0.3333333333333333,
              "#9c179e"
             ],
             [
              0.4444444444444444,
              "#bd3786"
             ],
             [
              0.5555555555555556,
              "#d8576b"
             ],
             [
              0.6666666666666666,
              "#ed7953"
             ],
             [
              0.7777777777777778,
              "#fb9f3a"
             ],
             [
              0.8888888888888888,
              "#fdca26"
             ],
             [
              1,
              "#f0f921"
             ]
            ],
            "type": "surface"
           }
          ],
          "table": [
           {
            "cells": {
             "fill": {
              "color": "#EBF0F8"
             },
             "line": {
              "color": "white"
             }
            },
            "header": {
             "fill": {
              "color": "#C8D4E3"
             },
             "line": {
              "color": "white"
             }
            },
            "type": "table"
           }
          ]
         },
         "layout": {
          "annotationdefaults": {
           "arrowcolor": "#2a3f5f",
           "arrowhead": 0,
           "arrowwidth": 1
          },
          "autotypenumbers": "strict",
          "coloraxis": {
           "colorbar": {
            "outlinewidth": 0,
            "ticks": ""
           }
          },
          "colorscale": {
           "diverging": [
            [
             0,
             "#8e0152"
            ],
            [
             0.1,
             "#c51b7d"
            ],
            [
             0.2,
             "#de77ae"
            ],
            [
             0.3,
             "#f1b6da"
            ],
            [
             0.4,
             "#fde0ef"
            ],
            [
             0.5,
             "#f7f7f7"
            ],
            [
             0.6,
             "#e6f5d0"
            ],
            [
             0.7,
             "#b8e186"
            ],
            [
             0.8,
             "#7fbc41"
            ],
            [
             0.9,
             "#4d9221"
            ],
            [
             1,
             "#276419"
            ]
           ],
           "sequential": [
            [
             0,
             "#0d0887"
            ],
            [
             0.1111111111111111,
             "#46039f"
            ],
            [
             0.2222222222222222,
             "#7201a8"
            ],
            [
             0.3333333333333333,
             "#9c179e"
            ],
            [
             0.4444444444444444,
             "#bd3786"
            ],
            [
             0.5555555555555556,
             "#d8576b"
            ],
            [
             0.6666666666666666,
             "#ed7953"
            ],
            [
             0.7777777777777778,
             "#fb9f3a"
            ],
            [
             0.8888888888888888,
             "#fdca26"
            ],
            [
             1,
             "#f0f921"
            ]
           ],
           "sequentialminus": [
            [
             0,
             "#0d0887"
            ],
            [
             0.1111111111111111,
             "#46039f"
            ],
            [
             0.2222222222222222,
             "#7201a8"
            ],
            [
             0.3333333333333333,
             "#9c179e"
            ],
            [
             0.4444444444444444,
             "#bd3786"
            ],
            [
             0.5555555555555556,
             "#d8576b"
            ],
            [
             0.6666666666666666,
             "#ed7953"
            ],
            [
             0.7777777777777778,
             "#fb9f3a"
            ],
            [
             0.8888888888888888,
             "#fdca26"
            ],
            [
             1,
             "#f0f921"
            ]
           ]
          },
          "colorway": [
           "#636efa",
           "#EF553B",
           "#00cc96",
           "#ab63fa",
           "#FFA15A",
           "#19d3f3",
           "#FF6692",
           "#B6E880",
           "#FF97FF",
           "#FECB52"
          ],
          "font": {
           "color": "#2a3f5f"
          },
          "geo": {
           "bgcolor": "white",
           "lakecolor": "white",
           "landcolor": "#E5ECF6",
           "showlakes": true,
           "showland": true,
           "subunitcolor": "white"
          },
          "hoverlabel": {
           "align": "left"
          },
          "hovermode": "closest",
          "mapbox": {
           "style": "light"
          },
          "paper_bgcolor": "white",
          "plot_bgcolor": "#E5ECF6",
          "polar": {
           "angularaxis": {
            "gridcolor": "white",
            "linecolor": "white",
            "ticks": ""
           },
           "bgcolor": "#E5ECF6",
           "radialaxis": {
            "gridcolor": "white",
            "linecolor": "white",
            "ticks": ""
           }
          },
          "scene": {
           "xaxis": {
            "backgroundcolor": "#E5ECF6",
            "gridcolor": "white",
            "gridwidth": 2,
            "linecolor": "white",
            "showbackground": true,
            "ticks": "",
            "zerolinecolor": "white"
           },
           "yaxis": {
            "backgroundcolor": "#E5ECF6",
            "gridcolor": "white",
            "gridwidth": 2,
            "linecolor": "white",
            "showbackground": true,
            "ticks": "",
            "zerolinecolor": "white"
           },
           "zaxis": {
            "backgroundcolor": "#E5ECF6",
            "gridcolor": "white",
            "gridwidth": 2,
            "linecolor": "white",
            "showbackground": true,
            "ticks": "",
            "zerolinecolor": "white"
           }
          },
          "shapedefaults": {
           "line": {
            "color": "#2a3f5f"
           }
          },
          "ternary": {
           "aaxis": {
            "gridcolor": "white",
            "linecolor": "white",
            "ticks": ""
           },
           "baxis": {
            "gridcolor": "white",
            "linecolor": "white",
            "ticks": ""
           },
           "bgcolor": "#E5ECF6",
           "caxis": {
            "gridcolor": "white",
            "linecolor": "white",
            "ticks": ""
           }
          },
          "title": {
           "x": 0.05
          },
          "xaxis": {
           "automargin": true,
           "gridcolor": "white",
           "linecolor": "white",
           "ticks": "",
           "title": {
            "standoff": 15
           },
           "zerolinecolor": "white",
           "zerolinewidth": 2
          },
          "yaxis": {
           "automargin": true,
           "gridcolor": "white",
           "linecolor": "white",
           "ticks": "",
           "title": {
            "standoff": 15
           },
           "zerolinecolor": "white",
           "zerolinewidth": 2
          }
         }
        },
        "xaxis": {
         "anchor": "y",
         "autorange": true,
         "domain": [
          0,
          1
         ],
         "range": [
          0,
          13
         ],
         "title": {
          "text": "index"
         },
         "type": "linear"
        },
        "yaxis": {
         "anchor": "x",
         "autorange": true,
         "domain": [
          0,
          1
         ],
         "range": [
          -18.65277777777779,
          88.40277777777777
         ],
         "title": {
          "text": "value"
         },
         "type": "linear"
        }
       }
      },
      "image/png": "[encoded data removed]",
      "text/html": [
       "<div>                            <div id=\"b19305a0-6416-461b-aa39-c6c93cab11cf\" class=\"plotly-graph-div\" style=\"height:525px; width:100%;\"></div>            <script type=\"text/javascript\">                require([\"plotly\"], function(Plotly) {                    window.PLOTLYENV=window.PLOTLYENV || {};                                    if (document.getElementById(\"b19305a0-6416-461b-aa39-c6c93cab11cf\")) {                    Plotly.newPlot(                        \"b19305a0-6416-461b-aa39-c6c93cab11cf\",                        [{\"hovertemplate\":\"variable=0<br>index=%{x}<br>value=%{y}<extra></extra>\",\"legendgroup\":\"0\",\"line\":{\"color\":\"#636efa\",\"dash\":\"solid\"},\"marker\":{\"symbol\":\"circle\"},\"mode\":\"lines\",\"name\":\"0\",\"orientation\":\"v\",\"showlegend\":true,\"type\":\"scatter\",\"x\":[0,1,2,3,4,5,6,7,8,9,10,11,12,13],\"xaxis\":\"x\",\"y\":[-13.300000000000011,40.45,5.1499999999999915,-5.549999999999997,60.60000000000001,44.05,45.69999999999999,28.69999999999999,22.299999999999983,48.94999999999999,47.69999999999999,30.849999999999994,11.099999999999994,83.05],\"yaxis\":\"y\"}],                        {\"legend\":{\"title\":{\"text\":\"variable\"},\"tracegroupgap\":0},\"margin\":{\"t\":60},\"template\":{\"data\":{\"bar\":[{\"error_x\":{\"color\":\"#2a3f5f\"},\"error_y\":{\"color\":\"#2a3f5f\"},\"marker\":{\"line\":{\"color\":\"#E5ECF6\",\"width\":0.5},\"pattern\":{\"fillmode\":\"overlay\",\"size\":10,\"solidity\":0.2}},\"type\":\"bar\"}],\"barpolar\":[{\"marker\":{\"line\":{\"color\":\"#E5ECF6\",\"width\":0.5},\"pattern\":{\"fillmode\":\"overlay\",\"size\":10,\"solidity\":0.2}},\"type\":\"barpolar\"}],\"carpet\":[{\"aaxis\":{\"endlinecolor\":\"#2a3f5f\",\"gridcolor\":\"white\",\"linecolor\":\"white\",\"minorgridcolor\":\"white\",\"startlinecolor\":\"#2a3f5f\"},\"baxis\":{\"endlinecolor\":\"#2a3f5f\",\"gridcolor\":\"white\",\"linecolor\":\"white\",\"minorgridcolor\":\"white\",\"startlinecolor\":\"#2a3f5f\"},\"type\":\"carpet\"}],\"choropleth\":[{\"colorbar\":{\"outlinewidth\":0,\"ticks\":\"\"},\"type\":\"choropleth\"}],\"contour\":[{\"colorbar\":{\"outlinewidth\":0,\"ticks\":\"\"},\"colorscale\":[[0.0,\"#0d0887\"],[0.1111111111111111,\"#46039f\"],[0.2222222222222222,\"#7201a8\"],[0.3333333333333333,\"#9c179e\"],[0.4444444444444444,\"#bd3786\"],[0.5555555555555556,\"#d8576b\"],[0.6666666666666666,\"#ed7953\"],[0.7777777777777778,\"#fb9f3a\"],[0.8888888888888888,\"#fdca26\"],[1.0,\"#f0f921\"]],\"type\":\"contour\"}],\"contourcarpet\":[{\"colorbar\":{\"outlinewidth\":0,\"ticks\":\"\"},\"type\":\"contourcarpet\"}],\"heatmap\":[{\"colorbar\":{\"outlinewidth\":0,\"ticks\":\"\"},\"colorscale\":[[0.0,\"#0d0887\"],[0.1111111111111111,\"#46039f\"],[0.2222222222222222,\"#7201a8\"],[0.3333333333333333,\"#9c179e\"],[0.4444444444444444,\"#bd3786\"],[0.5555555555555556,\"#d8576b\"],[0.6666666666666666,\"#ed7953\"],[0.7777777777777778,\"#fb9f3a\"],[0.8888888888888888,\"#fdca26\"],[1.0,\"#f0f921\"]],\"type\":\"heatmap\"}],\"heatmapgl\":[{\"colorbar\":{\"outlinewidth\":0,\"ticks\":\"\"},\"colorscale\":[[0.0,\"#0d0887\"],[0.1111111111111111,\"#46039f\"],[0.2222222222222222,\"#7201a8\"],[0.3333333333333333,\"#9c179e\"],[0.4444444444444444,\"#bd3786\"],[0.5555555555555556,\"#d8576b\"],[0.6666666666666666,\"#ed7953\"],[0.7777777777777778,\"#fb9f3a\"],[0.8888888888888888,\"#fdca26\"],[1.0,\"#f0f921\"]],\"type\":\"heatmapgl\"}],\"histogram\":[{\"marker\":{\"pattern\":{\"fillmode\":\"overlay\",\"size\":10,\"solidity\":0.2}},\"type\":\"histogram\"}],\"histogram2d\":[{\"colorbar\":{\"outlinewidth\":0,\"ticks\":\"\"},\"colorscale\":[[0.0,\"#0d0887\"],[0.1111111111111111,\"#46039f\"],[0.2222222222222222,\"#7201a8\"],[0.3333333333333333,\"#9c179e\"],[0.4444444444444444,\"#bd3786\"],[0.5555555555555556,\"#d8576b\"],[0.6666666666666666,\"#ed7953\"],[0.7777777777777778,\"#fb9f3a\"],[0.8888888888888888,\"#fdca26\"],[1.0,\"#f0f921\"]],\"type\":\"histogram2d\"}],\"histogram2dcontour\":[{\"colorbar\":{\"outlinewidth\":0,\"ticks\":\"\"},\"colorscale\":[[0.0,\"#0d0887\"],[0.1111111111111111,\"#46039f\"],[0.2222222222222222,\"#7201a8\"],[0.3333333333333333,\"#9c179e\"],[0.4444444444444444,\"#bd3786\"],[0.5555555555555556,\"#d8576b\"],[0.6666666666666666,\"#ed7953\"],[0.7777777777777778,\"#fb9f3a\"],[0.8888888888888888,\"#fdca26\"],[1.0,\"#f0f921\"]],\"type\":\"histogram2dcontour\"}],\"mesh3d\":[{\"colorbar\":{\"outlinewidth\":0,\"ticks\":\"\"},\"type\":\"mesh3d\"}],\"parcoords\":[{\"line\":{\"colorbar\":{\"outlinewidth\":0,\"ticks\":\"\"}},\"type\":\"parcoords\"}],\"pie\":[{\"automargin\":true,\"type\":\"pie\"}],\"scatter\":[{\"marker\":{\"colorbar\":{\"outlinewidth\":0,\"ticks\":\"\"}},\"type\":\"scatter\"}],\"scatter3d\":[{\"line\":{\"colorbar\":{\"outlinewidth\":0,\"ticks\":\"\"}},\"marker\":{\"colorbar\":{\"outlinewidth\":0,\"ticks\":\"\"}},\"type\":\"scatter3d\"}],\"scattercarpet\":[{\"marker\":{\"colorbar\":{\"outlinewidth\":0,\"ticks\":\"\"}},\"type\":\"scattercarpet\"}],\"scattergeo\":[{\"marker\":{\"colorbar\":{\"outlinewidth\":0,\"ticks\":\"\"}},\"type\":\"scattergeo\"}],\"scattergl\":[{\"marker\":{\"colorbar\":{\"outlinewidth\":0,\"ticks\":\"\"}},\"type\":\"scattergl\"}],\"scattermapbox\":[{\"marker\":{\"colorbar\":{\"outlinewidth\":0,\"ticks\":\"\"}},\"type\":\"scattermapbox\"}],\"scatterpolar\":[{\"marker\":{\"colorbar\":{\"outlinewidth\":0,\"ticks\":\"\"}},\"type\":\"scatterpolar\"}],\"scatterpolargl\":[{\"marker\":{\"colorbar\":{\"outlinewidth\":0,\"ticks\":\"\"}},\"type\":\"scatterpolargl\"}],\"scatterternary\":[{\"marker\":{\"colorbar\":{\"outlinewidth\":0,\"ticks\":\"\"}},\"type\":\"scatterternary\"}],\"surface\":[{\"colorbar\":{\"outlinewidth\":0,\"ticks\":\"\"},\"colorscale\":[[0.0,\"#0d0887\"],[0.1111111111111111,\"#46039f\"],[0.2222222222222222,\"#7201a8\"],[0.3333333333333333,\"#9c179e\"],[0.4444444444444444,\"#bd3786\"],[0.5555555555555556,\"#d8576b\"],[0.6666666666666666,\"#ed7953\"],[0.7777777777777778,\"#fb9f3a\"],[0.8888888888888888,\"#fdca26\"],[1.0,\"#f0f921\"]],\"type\":\"surface\"}],\"table\":[{\"cells\":{\"fill\":{\"color\":\"#EBF0F8\"},\"line\":{\"color\":\"white\"}},\"header\":{\"fill\":{\"color\":\"#C8D4E3\"},\"line\":{\"color\":\"white\"}},\"type\":\"table\"}]},\"layout\":{\"annotationdefaults\":{\"arrowcolor\":\"#2a3f5f\",\"arrowhead\":0,\"arrowwidth\":1},\"autotypenumbers\":\"strict\",\"coloraxis\":{\"colorbar\":{\"outlinewidth\":0,\"ticks\":\"\"}},\"colorscale\":{\"diverging\":[[0,\"#8e0152\"],[0.1,\"#c51b7d\"],[0.2,\"#de77ae\"],[0.3,\"#f1b6da\"],[0.4,\"#fde0ef\"],[0.5,\"#f7f7f7\"],[0.6,\"#e6f5d0\"],[0.7,\"#b8e186\"],[0.8,\"#7fbc41\"],[0.9,\"#4d9221\"],[1,\"#276419\"]],\"sequential\":[[0.0,\"#0d0887\"],[0.1111111111111111,\"#46039f\"],[0.2222222222222222,\"#7201a8\"],[0.3333333333333333,\"#9c179e\"],[0.4444444444444444,\"#bd3786\"],[0.5555555555555556,\"#d8576b\"],[0.6666666666666666,\"#ed7953\"],[0.7777777777777778,\"#fb9f3a\"],[0.8888888888888888,\"#fdca26\"],[1.0,\"#f0f921\"]],\"sequentialminus\":[[0.0,\"#0d0887\"],[0.1111111111111111,\"#46039f\"],[0.2222222222222222,\"#7201a8\"],[0.3333333333333333,\"#9c179e\"],[0.4444444444444444,\"#bd3786\"],[0.5555555555555556,\"#d8576b\"],[0.6666666666666666,\"#ed7953\"],[0.7777777777777778,\"#fb9f3a\"],[0.8888888888888888,\"#fdca26\"],[1.0,\"#f0f921\"]]},\"colorway\":[\"#636efa\",\"#EF553B\",\"#00cc96\",\"#ab63fa\",\"#FFA15A\",\"#19d3f3\",\"#FF6692\",\"#B6E880\",\"#FF97FF\",\"#FECB52\"],\"font\":{\"color\":\"#2a3f5f\"},\"geo\":{\"bgcolor\":\"white\",\"lakecolor\":\"white\",\"landcolor\":\"#E5ECF6\",\"showlakes\":true,\"showland\":true,\"subunitcolor\":\"white\"},\"hoverlabel\":{\"align\":\"left\"},\"hovermode\":\"closest\",\"mapbox\":{\"style\":\"light\"},\"paper_bgcolor\":\"white\",\"plot_bgcolor\":\"#E5ECF6\",\"polar\":{\"angularaxis\":{\"gridcolor\":\"white\",\"linecolor\":\"white\",\"ticks\":\"\"},\"bgcolor\":\"#E5ECF6\",\"radialaxis\":{\"gridcolor\":\"white\",\"linecolor\":\"white\",\"ticks\":\"\"}},\"scene\":{\"xaxis\":{\"backgroundcolor\":\"#E5ECF6\",\"gridcolor\":\"white\",\"gridwidth\":2,\"linecolor\":\"white\",\"showbackground\":true,\"ticks\":\"\",\"zerolinecolor\":\"white\"},\"yaxis\":{\"backgroundcolor\":\"#E5ECF6\",\"gridcolor\":\"white\",\"gridwidth\":2,\"linecolor\":\"white\",\"showbackground\":true,\"ticks\":\"\",\"zerolinecolor\":\"white\"},\"zaxis\":{\"backgroundcolor\":\"#E5ECF6\",\"gridcolor\":\"white\",\"gridwidth\":2,\"linecolor\":\"white\",\"showbackground\":true,\"ticks\":\"\",\"zerolinecolor\":\"white\"}},\"shapedefaults\":{\"line\":{\"color\":\"#2a3f5f\"}},\"ternary\":{\"aaxis\":{\"gridcolor\":\"white\",\"linecolor\":\"white\",\"ticks\":\"\"},\"baxis\":{\"gridcolor\":\"white\",\"linecolor\":\"white\",\"ticks\":\"\"},\"bgcolor\":\"#E5ECF6\",\"caxis\":{\"gridcolor\":\"white\",\"linecolor\":\"white\",\"ticks\":\"\"}},\"title\":{\"x\":0.05},\"xaxis\":{\"automargin\":true,\"gridcolor\":\"white\",\"linecolor\":\"white\",\"ticks\":\"\",\"title\":{\"standoff\":15},\"zerolinecolor\":\"white\",\"zerolinewidth\":2},\"yaxis\":{\"automargin\":true,\"gridcolor\":\"white\",\"linecolor\":\"white\",\"ticks\":\"\",\"title\":{\"standoff\":15},\"zerolinecolor\":\"white\",\"zerolinewidth\":2}}},\"xaxis\":{\"anchor\":\"y\",\"domain\":[0.0,1.0],\"title\":{\"text\":\"index\"}},\"yaxis\":{\"anchor\":\"x\",\"domain\":[0.0,1.0],\"title\":{\"text\":\"value\"}}},                        {\"responsive\": true}                    ).then(function(){\n",
       "                            \n",
       "var gd = document.getElementById('b19305a0-6416-461b-aa39-c6c93cab11cf');\n",
       "var x = new MutationObserver(function (mutations, observer) {{\n",
       "        var display = window.getComputedStyle(gd).display;\n",
       "        if (!display || display === 'none') {{\n",
       "            console.log([gd, 'removed!']);\n",
       "            Plotly.purge(gd);\n",
       "            observer.disconnect();\n",
       "        }}\n",
       "}});\n",
       "\n",
       "// Listen for the removal of the full notebook cells\n",
       "var notebookContainer = gd.closest('#notebook-container');\n",
       "if (notebookContainer) {{\n",
       "    x.observe(notebookContainer, {childList: true});\n",
       "}}\n",
       "\n",
       "// Listen for the clearing of the current output cell\n",
       "var outputEl = gd.closest('.output');\n",
       "if (outputEl) {{\n",
       "    x.observe(outputEl, {childList: true});\n",
       "}}\n",
       "\n",
       "                        })                };                });            </script>        </div>"
      ]
     },
     "metadata": {},
     "output_type": "display_data"
    }
   ],
   "source": [
    "pnlS=pd.Series(pnl)\n",
    "pxline(pnlS.cumsum())"
   ]
  },
  {
   "cell_type": "code",
   "execution_count": null,
   "id": "ca475cec-f14c-476a-9c07-76ce95078f7c",
   "metadata": {},
   "outputs": [],
   "source": []
  },
  {
   "cell_type": "code",
   "execution_count": null,
   "id": "c3c8a700-c6e7-471d-903d-1efce502a30d",
   "metadata": {},
   "outputs": [],
   "source": []
  },
  {
   "cell_type": "code",
   "execution_count": null,
   "id": "2ffedc6b-1637-49f7-8768-0a2596237bea",
   "metadata": {},
   "outputs": [],
   "source": []
  },
  {
   "cell_type": "code",
   "execution_count": null,
   "id": "a6197d17-bbef-44dd-8449-4f4145cdec4d",
   "metadata": {},
   "outputs": [],
   "source": []
  },
  {
   "cell_type": "code",
   "execution_count": null,
   "id": "85e50858-b36c-423d-939a-3c6682c53689",
   "metadata": {},
   "outputs": [],
   "source": []
  },
  {
   "cell_type": "code",
   "execution_count": 69,
   "id": "37a84472-211f-40f5-877e-323d31ea6415",
   "metadata": {},
   "outputs": [],
   "source": [
    "tmp=df.loc[df.Ticker=='NIFTY']\n",
    "tmp=predf(tmp)"
   ]
  },
  {
   "cell_type": "code",
   "execution_count": 63,
   "id": "9a6a7f21-b176-4b60-a2ea-28ed6793cf69",
   "metadata": {},
   "outputs": [
    {
     "data": {
      "text/html": [
       "<div><div id=03586426-b241-4660-a387-aa6a13dd6bc3 style=\"display:none; background-color:#9D6CFF; color:white; width:200px; height:30px; padding-left:5px; border-radius:4px; flex-direction:row; justify-content:space-around; align-items:center;\" onmouseover=\"this.style.backgroundColor='#BA9BF8'\" onmouseout=\"this.style.backgroundColor='#9D6CFF'\" onclick=\"window.commands?.execute('create-mitosheet-from-dataframe-output');\">See Full Dataframe in Mito</div> <script> if (window.commands.hasCommand('create-mitosheet-from-dataframe-output')) document.getElementById('03586426-b241-4660-a387-aa6a13dd6bc3').style.display = 'flex' </script> <table border=\"1\" class=\"dataframe\">\n",
       "  <thead>\n",
       "    <tr style=\"text-align: right;\">\n",
       "      <th></th>\n",
       "      <th>Ticker</th>\n",
       "      <th>Open</th>\n",
       "      <th>High</th>\n",
       "      <th>Low</th>\n",
       "      <th>Close</th>\n",
       "      <th>Tick Volume</th>\n",
       "      <th>Volume</th>\n",
       "    </tr>\n",
       "    <tr>\n",
       "      <th>Date</th>\n",
       "      <th></th>\n",
       "      <th></th>\n",
       "      <th></th>\n",
       "      <th></th>\n",
       "      <th></th>\n",
       "      <th></th>\n",
       "      <th></th>\n",
       "    </tr>\n",
       "  </thead>\n",
       "  <tbody>\n",
       "    <tr>\n",
       "      <th>2021-10-01 09:15:00</th>\n",
       "      <td>NIFTY</td>\n",
       "      <td>17531.9</td>\n",
       "      <td>17531.9</td>\n",
       "      <td>17481.3</td>\n",
       "      <td>17497.5</td>\n",
       "      <td>1</td>\n",
       "      <td>0</td>\n",
       "    </tr>\n",
       "    <tr>\n",
       "      <th>2021-10-01 09:16:00</th>\n",
       "      <td>NIFTY</td>\n",
       "      <td>17500.2</td>\n",
       "      <td>17511.2</td>\n",
       "      <td>17493.3</td>\n",
       "      <td>17506.6</td>\n",
       "      <td>1</td>\n",
       "      <td>0</td>\n",
       "    </tr>\n",
       "    <tr>\n",
       "      <th>2021-10-01 09:17:00</th>\n",
       "      <td>NIFTY</td>\n",
       "      <td>17506.8</td>\n",
       "      <td>17511.8</td>\n",
       "      <td>17492.0</td>\n",
       "      <td>17497.2</td>\n",
       "      <td>1</td>\n",
       "      <td>0</td>\n",
       "    </tr>\n",
       "    <tr>\n",
       "      <th>2021-10-01 09:18:00</th>\n",
       "      <td>NIFTY</td>\n",
       "      <td>17495.4</td>\n",
       "      <td>17503.8</td>\n",
       "      <td>17484.3</td>\n",
       "      <td>17499.8</td>\n",
       "      <td>1</td>\n",
       "      <td>0</td>\n",
       "    </tr>\n",
       "    <tr>\n",
       "      <th>2021-10-01 09:19:00</th>\n",
       "      <td>NIFTY</td>\n",
       "      <td>17499.1</td>\n",
       "      <td>17499.5</td>\n",
       "      <td>17478.3</td>\n",
       "      <td>17487.8</td>\n",
       "      <td>1</td>\n",
       "      <td>0</td>\n",
       "    </tr>\n",
       "    <tr>\n",
       "      <th>2021-10-01 09:20:00</th>\n",
       "      <td>NIFTY</td>\n",
       "      <td>17487.6</td>\n",
       "      <td>17487.6</td>\n",
       "      <td>17470.8</td>\n",
       "      <td>17473.2</td>\n",
       "      <td>1</td>\n",
       "      <td>0</td>\n",
       "    </tr>\n",
       "    <tr>\n",
       "      <th>2021-10-01 09:21:00</th>\n",
       "      <td>NIFTY</td>\n",
       "      <td>17474.2</td>\n",
       "      <td>17477.3</td>\n",
       "      <td>17463.0</td>\n",
       "      <td>17463.0</td>\n",
       "      <td>1</td>\n",
       "      <td>0</td>\n",
       "    </tr>\n",
       "    <tr>\n",
       "      <th>2021-10-01 09:22:00</th>\n",
       "      <td>NIFTY</td>\n",
       "      <td>17464.5</td>\n",
       "      <td>17489.3</td>\n",
       "      <td>17459.3</td>\n",
       "      <td>17489.3</td>\n",
       "      <td>1</td>\n",
       "      <td>0</td>\n",
       "    </tr>\n",
       "    <tr>\n",
       "      <th>2021-10-01 09:23:00</th>\n",
       "      <td>NIFTY</td>\n",
       "      <td>17491.5</td>\n",
       "      <td>17491.9</td>\n",
       "      <td>17475.0</td>\n",
       "      <td>17486.3</td>\n",
       "      <td>1</td>\n",
       "      <td>0</td>\n",
       "    </tr>\n",
       "    <tr>\n",
       "      <th>2021-10-01 09:24:00</th>\n",
       "      <td>NIFTY</td>\n",
       "      <td>17488.5</td>\n",
       "      <td>17502.5</td>\n",
       "      <td>17482.1</td>\n",
       "      <td>17502.5</td>\n",
       "      <td>1</td>\n",
       "      <td>0</td>\n",
       "    </tr>\n",
       "  </tbody>\n",
       "</table></div>"
      ],
      "text/plain": [
       "                    Ticker     Open     High      Low    Close  Tick Volume  \\\n",
       "Date                                                                          \n",
       "2021-10-01 09:15:00  NIFTY  17531.9  17531.9  17481.3  17497.5            1   \n",
       "2021-10-01 09:16:00  NIFTY  17500.2  17511.2  17493.3  17506.6            1   \n",
       "2021-10-01 09:17:00  NIFTY  17506.8  17511.8  17492.0  17497.2            1   \n",
       "2021-10-01 09:18:00  NIFTY  17495.4  17503.8  17484.3  17499.8            1   \n",
       "2021-10-01 09:19:00  NIFTY  17499.1  17499.5  17478.3  17487.8            1   \n",
       "2021-10-01 09:20:00  NIFTY  17487.6  17487.6  17470.8  17473.2            1   \n",
       "2021-10-01 09:21:00  NIFTY  17474.2  17477.3  17463.0  17463.0            1   \n",
       "2021-10-01 09:22:00  NIFTY  17464.5  17489.3  17459.3  17489.3            1   \n",
       "2021-10-01 09:23:00  NIFTY  17491.5  17491.9  17475.0  17486.3            1   \n",
       "2021-10-01 09:24:00  NIFTY  17488.5  17502.5  17482.1  17502.5            1   \n",
       "\n",
       "                     Volume  \n",
       "Date                         \n",
       "2021-10-01 09:15:00       0  \n",
       "2021-10-01 09:16:00       0  \n",
       "2021-10-01 09:17:00       0  \n",
       "2021-10-01 09:18:00       0  \n",
       "2021-10-01 09:19:00       0  \n",
       "2021-10-01 09:20:00       0  \n",
       "2021-10-01 09:21:00       0  \n",
       "2021-10-01 09:22:00       0  \n",
       "2021-10-01 09:23:00       0  \n",
       "2021-10-01 09:24:00       0  "
      ]
     },
     "execution_count": 63,
     "metadata": {},
     "output_type": "execute_result"
    }
   ],
   "source": [
    "tmp.head(10)"
   ]
  },
  {
   "cell_type": "code",
   "execution_count": null,
   "id": "c290f366-aa3e-4f6b-8d25-1d28baa5a3c5",
   "metadata": {},
   "outputs": [],
   "source": []
  },
  {
   "cell_type": "code",
   "execution_count": 67,
   "id": "17144e9b-99ec-44a4-b60c-a5d8b11bd7da",
   "metadata": {},
   "outputs": [],
   "source": []
  },
  {
   "cell_type": "code",
   "execution_count": 124,
   "id": "02a05c1b-229c-4d12-bfd1-a24a5b9a7faa",
   "metadata": {},
   "outputs": [],
   "source": [
    "df5min=resampler(tmp,'15min')"
   ]
  },
  {
   "cell_type": "code",
   "execution_count": 125,
   "id": "ec4823bf-a308-4ee3-ac0f-6b5de1507ce1",
   "metadata": {},
   "outputs": [
    {
     "data": {
      "text/html": [
       "<div><div id=28a60de9-5582-4f06-a874-501045ab0063 style=\"display:none; background-color:#9D6CFF; color:white; width:200px; height:30px; padding-left:5px; border-radius:4px; flex-direction:row; justify-content:space-around; align-items:center;\" onmouseover=\"this.style.backgroundColor='#BA9BF8'\" onmouseout=\"this.style.backgroundColor='#9D6CFF'\" onclick=\"window.commands?.execute('create-mitosheet-from-dataframe-output');\">See Full Dataframe in Mito</div> <script> if (window.commands.hasCommand('create-mitosheet-from-dataframe-output')) document.getElementById('28a60de9-5582-4f06-a874-501045ab0063').style.display = 'flex' </script> <table border=\"1\" class=\"dataframe\">\n",
       "  <thead>\n",
       "    <tr style=\"text-align: right;\">\n",
       "      <th></th>\n",
       "      <th>Open</th>\n",
       "      <th>Close</th>\n",
       "      <th>High</th>\n",
       "      <th>Low</th>\n",
       "      <th>Tick_Volume</th>\n",
       "      <th>Volume</th>\n",
       "    </tr>\n",
       "    <tr>\n",
       "      <th>Date</th>\n",
       "      <th></th>\n",
       "      <th></th>\n",
       "      <th></th>\n",
       "      <th></th>\n",
       "      <th></th>\n",
       "      <th></th>\n",
       "    </tr>\n",
       "  </thead>\n",
       "  <tbody>\n",
       "    <tr>\n",
       "      <th>2021-10-01 09:15:00</th>\n",
       "      <td>17531.9</td>\n",
       "      <td>17507.0</td>\n",
       "      <td>17531.9</td>\n",
       "      <td>17459.3</td>\n",
       "      <td>15</td>\n",
       "      <td>0</td>\n",
       "    </tr>\n",
       "    <tr>\n",
       "      <th>2021-10-01 09:30:00</th>\n",
       "      <td>17507.6</td>\n",
       "      <td>17517.8</td>\n",
       "      <td>17529.0</td>\n",
       "      <td>17497.3</td>\n",
       "      <td>15</td>\n",
       "      <td>0</td>\n",
       "    </tr>\n",
       "    <tr>\n",
       "      <th>2021-10-01 09:45:00</th>\n",
       "      <td>17518.3</td>\n",
       "      <td>17483.4</td>\n",
       "      <td>17518.3</td>\n",
       "      <td>17452.9</td>\n",
       "      <td>15</td>\n",
       "      <td>0</td>\n",
       "    </tr>\n",
       "    <tr>\n",
       "      <th>2021-10-01 10:00:00</th>\n",
       "      <td>17483.3</td>\n",
       "      <td>17486.8</td>\n",
       "      <td>17502.6</td>\n",
       "      <td>17476.3</td>\n",
       "      <td>15</td>\n",
       "      <td>0</td>\n",
       "    </tr>\n",
       "    <tr>\n",
       "      <th>2021-10-01 10:15:00</th>\n",
       "      <td>17486.2</td>\n",
       "      <td>17522.8</td>\n",
       "      <td>17532.8</td>\n",
       "      <td>17485.1</td>\n",
       "      <td>15</td>\n",
       "      <td>0</td>\n",
       "    </tr>\n",
       "    <tr>\n",
       "      <th>...</th>\n",
       "      <td>...</td>\n",
       "      <td>...</td>\n",
       "      <td>...</td>\n",
       "      <td>...</td>\n",
       "      <td>...</td>\n",
       "      <td>...</td>\n",
       "    </tr>\n",
       "    <tr>\n",
       "      <th>2021-10-07 14:30:00</th>\n",
       "      <td>17831.3</td>\n",
       "      <td>17806.7</td>\n",
       "      <td>17834.8</td>\n",
       "      <td>17796.0</td>\n",
       "      <td>15</td>\n",
       "      <td>0</td>\n",
       "    </tr>\n",
       "    <tr>\n",
       "      <th>2021-10-07 14:45:00</th>\n",
       "      <td>17807.0</td>\n",
       "      <td>17808.6</td>\n",
       "      <td>17811.8</td>\n",
       "      <td>17792.1</td>\n",
       "      <td>15</td>\n",
       "      <td>0</td>\n",
       "    </tr>\n",
       "    <tr>\n",
       "      <th>2021-10-07 15:00:00</th>\n",
       "      <td>17809.5</td>\n",
       "      <td>17790.3</td>\n",
       "      <td>17810.3</td>\n",
       "      <td>17787.4</td>\n",
       "      <td>15</td>\n",
       "      <td>0</td>\n",
       "    </tr>\n",
       "    <tr>\n",
       "      <th>2021-10-07 15:15:00</th>\n",
       "      <td>17790.8</td>\n",
       "      <td>17797.2</td>\n",
       "      <td>17801.4</td>\n",
       "      <td>17780.5</td>\n",
       "      <td>15</td>\n",
       "      <td>0</td>\n",
       "    </tr>\n",
       "    <tr>\n",
       "      <th>2021-10-07 15:30:00</th>\n",
       "      <td>17796.2</td>\n",
       "      <td>17796.2</td>\n",
       "      <td>17796.2</td>\n",
       "      <td>17796.2</td>\n",
       "      <td>1</td>\n",
       "      <td>0</td>\n",
       "    </tr>\n",
       "  </tbody>\n",
       "</table></div>"
      ],
      "text/plain": [
       "                        Open    Close     High      Low  Tick_Volume  Volume\n",
       "Date                                                                        \n",
       "2021-10-01 09:15:00  17531.9  17507.0  17531.9  17459.3           15       0\n",
       "2021-10-01 09:30:00  17507.6  17517.8  17529.0  17497.3           15       0\n",
       "2021-10-01 09:45:00  17518.3  17483.4  17518.3  17452.9           15       0\n",
       "2021-10-01 10:00:00  17483.3  17486.8  17502.6  17476.3           15       0\n",
       "2021-10-01 10:15:00  17486.2  17522.8  17532.8  17485.1           15       0\n",
       "...                      ...      ...      ...      ...          ...     ...\n",
       "2021-10-07 14:30:00  17831.3  17806.7  17834.8  17796.0           15       0\n",
       "2021-10-07 14:45:00  17807.0  17808.6  17811.8  17792.1           15       0\n",
       "2021-10-07 15:00:00  17809.5  17790.3  17810.3  17787.4           15       0\n",
       "2021-10-07 15:15:00  17790.8  17797.2  17801.4  17780.5           15       0\n",
       "2021-10-07 15:30:00  17796.2  17796.2  17796.2  17796.2            1       0\n",
       "\n",
       "[602 rows x 6 columns]"
      ]
     },
     "execution_count": 125,
     "metadata": {},
     "output_type": "execute_result"
    }
   ],
   "source": [
    "df5min"
   ]
  },
  {
   "cell_type": "code",
   "execution_count": null,
   "id": "51b6548a-c740-4dbe-894e-81b3179e63e1",
   "metadata": {},
   "outputs": [],
   "source": []
  },
  {
   "cell_type": "code",
   "execution_count": null,
   "id": "5fda9795-975d-42e6-b444-82c722143a7c",
   "metadata": {},
   "outputs": [],
   "source": [
    "\n"
   ]
  },
  {
   "cell_type": "code",
   "execution_count": null,
   "id": "3d85b800-f605-4d03-98e7-d18653a0d542",
   "metadata": {},
   "outputs": [],
   "source": []
  },
  {
   "cell_type": "code",
   "execution_count": null,
   "id": "30c4154c-8b47-40dd-a53e-0be6f3269aa0",
   "metadata": {},
   "outputs": [],
   "source": []
  },
  {
   "cell_type": "code",
   "execution_count": null,
   "id": "73a2ab3d-3efd-4e82-a524-e3c4ad67fd07",
   "metadata": {},
   "outputs": [],
   "source": []
  },
  {
   "cell_type": "code",
   "execution_count": null,
   "id": "f44c60f9-d80d-4337-a98e-27a641b13d65",
   "metadata": {},
   "outputs": [],
   "source": []
  },
  {
   "cell_type": "code",
   "execution_count": null,
   "id": "f08d71ad-1ed4-4fa1-81d3-9daad843be45",
   "metadata": {},
   "outputs": [],
   "source": []
  }
 ],
 "metadata": {
  "kernelspec": {
   "display_name": "Python 3 (ipykernel)",
   "language": "python",
   "name": "python3"
  },
  "language_info": {
   "codemirror_mode": {
    "name": "ipython",
    "version": 3
   },
   "file_extension": ".py",
   "mimetype": "text/x-python",
   "name": "python",
   "nbconvert_exporter": "python",
   "pygments_lexer": "ipython3",
   "version": "3.8.12"
  }
 },
 "nbformat": 4,
 "nbformat_minor": 5
}
