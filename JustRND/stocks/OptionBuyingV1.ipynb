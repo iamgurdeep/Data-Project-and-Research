{
 "cells": [
  {
   "cell_type": "markdown",
   "id": "daab6f87-7e0a-4f23-8529-6ac103d4e581",
   "metadata": {},
   "source": [
    "### This Stratgy Worked ####"
   ]
  },
  {
   "cell_type": "code",
   "execution_count": 1,
   "id": "14835c82-3d6f-48a1-97b3-b63035a8d988",
   "metadata": {},
   "outputs": [],
   "source": [
    "import yfinance as yf\n",
    "import pandas as pd\n",
    "import numpy as np\n",
    "from pymongo import MongoClient\n",
    "import datetime\n",
    "import matplotlib.pyplot as plt\n",
    "import plotly.express as px\n",
    "import plotly.graph_objects as go\n",
    "from plotly.subplots import make_subplots\n",
    "from talib import abstract\n",
    "import math\n",
    "## This is to Convert a string representation of list into list \n",
    "import ast\n",
    "from functools import partial\n",
    "import os\n",
    "from ta.momentum import rsi\n",
    "from ta.utils import dropna\n",
    "# import pandas_ta as pta\n",
    "from collections import defaultdict\n"
   ]
  },
  {
   "cell_type": "code",
   "execution_count": 2,
   "id": "fd4dbb86-0b8b-4e98-ad37-fa2ba4e6b579",
   "metadata": {
    "jupyter": {
     "source_hidden": true
    },
    "tags": []
   },
   "outputs": [],
   "source": [
    "def Supertrend(df, atr_period, multiplier):\n",
    "    \n",
    "    high = df['High']\n",
    "    low = df['Low']\n",
    "    close = df['Close']\n",
    "    \n",
    "    # calculate ATR\n",
    "    price_diffs = [high - low, \n",
    "                   high - close.shift(), \n",
    "                   close.shift() - low]\n",
    "    true_range = pd.concat(price_diffs, axis=1)\n",
    "    true_range = true_range.abs().max(axis=1)\n",
    "    # default ATR calculation in supertrend indicator\n",
    "    atr = true_range.ewm(alpha=1/atr_period,min_periods=atr_period).mean() \n",
    "    # df['atr'] = df['tr'].rolling(atr_period).mean()\n",
    "    \n",
    "    # HL2 is simply the average of high and low prices\n",
    "    hl2 = (high + low) / 2\n",
    "    # upperband and lowerband calculation\n",
    "    # notice that final bands are set to be equal to the respective bands\n",
    "    final_upperband = upperband = hl2 + (multiplier * atr)\n",
    "    final_lowerband = lowerband = hl2 - (multiplier * atr)\n",
    "    \n",
    "    # initialize Supertrend column to True\n",
    "    supertrend = [True] * len(df)\n",
    "    \n",
    "    for i in range(1, len(df.index)):\n",
    "        curr, prev = i, i-1\n",
    "        \n",
    "        # if current close price crosses above upperband\n",
    "        if close[curr] > final_upperband[prev]:\n",
    "            supertrend[curr] = True\n",
    "        # if current close price crosses below lowerband\n",
    "        elif close[curr] < final_lowerband[prev]:\n",
    "            supertrend[curr] = False\n",
    "        # else, the trend continues\n",
    "        else:\n",
    "            supertrend[curr] = supertrend[prev]\n",
    "            \n",
    "            # adjustment to the final bands\n",
    "            if supertrend[curr] == True and final_lowerband[curr] < final_lowerband[prev]:\n",
    "                final_lowerband[curr] = final_lowerband[prev]\n",
    "            if supertrend[curr] == False and final_upperband[curr] > final_upperband[prev]:\n",
    "                final_upperband[curr] = final_upperband[prev]\n",
    "\n",
    "        # to remove bands according to the trend direction\n",
    "        if supertrend[curr] == True:\n",
    "            final_upperband[curr] = np.nan\n",
    "        else:\n",
    "            final_lowerband[curr] = np.nan\n",
    "    \n",
    "    return pd.DataFrame({\n",
    "        'Supertrend': supertrend,\n",
    "        'Final Lowerband': final_lowerband,\n",
    "        'Final Upperband': final_upperband\n",
    "    }, index=df.index)"
   ]
  },
  {
   "cell_type": "code",
   "execution_count": 3,
   "id": "44241679-4c10-4eb9-bc1a-f270ef805ab5",
   "metadata": {},
   "outputs": [],
   "source": [
    "# files=['importdatafiles/02-09--SEP-2021-weekly-expiry_data__VEGE_NF_AND_BNF_Options.csv',\n",
    "# 'importdatafiles/04-11-FEB-Weekly-ExpiryWEEKdata_2021.csv',\n",
    "# 'importdatafiles/07_13_Jan_22_WEEKLY_expiry_data_VEGE_NF_AND_BNF_Options_Desktop.csv',]"
   ]
  },
  {
   "cell_type": "code",
   "execution_count": 31,
   "id": "9dd6e044-2f1d-4509-b6ea-d7cf4ff3e2ea",
   "metadata": {},
   "outputs": [],
   "source": [
    "# #Postive and Negtive\n",
    "# files=['importdatafiles/01-07--OCT-2021-WEEKLY-expiry_data__VEGE_NF_AND_BNF_Options.csv',\n",
    "# 'importdatafiles/04-11-FEB-Weekly-ExpiryWEEKdata_2021.csv',]\n",
    "\n"
   ]
  },
  {
   "cell_type": "code",
   "execution_count": 34,
   "id": "aea72bab-34d2-423f-8fce-c023abbe7106",
   "metadata": {
    "tags": []
   },
   "outputs": [],
   "source": [
    "files=['importdatafiles/01-07--OCT-2021-WEEKLY-expiry_data__VEGE_NF_AND_BNF_Options.csv',\n",
    "'importdatafiles/02-08-JULY- -W-ExpiryWEEKdata_2021_NF_BNF_options_vege.csv',\n",
    "'importdatafiles/02-09--SEP-2021-weekly-expiry_data__VEGE_NF_AND_BNF_Options.csv',\n",
    "'importdatafiles/03-09-DEC- -W-ExpiryWEEKdata_2021_NF_BNF_options_vege.csv',\n",
    "'importdatafiles/04-10-JUN- -W-ExpiryWEEKdata_2021_NF_BNF_options_vege.csv',\n",
    "'importdatafiles/04-11-FEB-Weekly-ExpiryWEEKdata_2021.csv',\n",
    "'importdatafiles/04_10_FEB_WEEKLY_expiry_data_VEGE_NF_AND_BNF_Options_Desktop_Vege.csv',\n",
    "'importdatafiles/05-11--NOV-2021-WEEKLY-expiry_data__VEGE_NF_AND_BNF_Options.csv',\n",
    "'importdatafiles/05_08_APR_2021_weekly_Expirydata_VEGE_NF_AND_BNF_Options_shortWeek.csv',\n",
    "'importdatafiles/06_12_AUG_2021_weekly_expiryWEEKdata_VEGE_NF_AND_BNF_Options.csv',\n",
    "'importdatafiles/07-12May -W-ExpiryWEEKdata_2021_NF_BNF_vege.csv',\n",
    "'importdatafiles/07_13_Jan_22_WEEKLY_expiry_data_VEGE_NF_AND_BNF_Options_Desktop.csv',\n",
    "'importdatafiles/08-14--OCT-2021-WEEKLY-expiry_data__VEGE_NF_AND_BNF_Options.csv',\n",
    "'importdatafiles/08-14-JAN- -ExpiryWEEK-data_2021.csv',\n",
    "'importdatafiles/09-15-JULY- -W-ExpiryWEEKdata_2021_NF_BNF_options_vege.csv',\n",
    "'importdatafiles/09-16-SEP-2021-weekly-expiry_data__VEGE_NF_AND_BNF_Options.csv',\n",
    "'importdatafiles/09_15_APR_2021_weekly_Expirydata_VEGE_NF_AND_BNF_Options_shortweek.csv',\n",
    "'importdatafiles/10_16_DEC21_WEEKLY_expiry_data_VEGE_NF_AND_BNF_Options_Desktop_Vege.csv',]"
   ]
  },
  {
   "cell_type": "code",
   "execution_count": 6,
   "id": "9d9f5046-c122-4892-ac81-22a5250832a1",
   "metadata": {
    "jupyter": {
     "source_hidden": true
    },
    "tags": []
   },
   "outputs": [],
   "source": [
    "def pxline(to_plot):\n",
    "    fig = px.line(to_plot)\n",
    "    fig.show()"
   ]
  },
  {
   "cell_type": "code",
   "execution_count": null,
   "id": "e2044b9e-104a-4211-9300-2be12c0f846a",
   "metadata": {
    "scrolled": true,
    "tags": []
   },
   "outputs": [],
   "source": [
    "\n"
   ]
  },
  {
   "cell_type": "code",
   "execution_count": 7,
   "id": "19a81b86-4381-4559-acb1-22197433518e",
   "metadata": {},
   "outputs": [],
   "source": [
    "def resampler(df,time):\n",
    "    newdf=pd.DataFrame()\n",
    "    newdf['Open']=df.Open.resample(time).first()\n",
    "    newdf['Close']=df.Close.resample(time).last()\n",
    "    newdf['High']=df.High.resample(time).max()\n",
    "    newdf['Low']=df.Low.resample(time).min()\n",
    "    newdf['Tick_Volume']=df['Tick Volume'].resample(time).sum()\n",
    "    newdf['Volume']=df.Volume.resample(time).sum()\n",
    "    newdf.dropna(axis=0,inplace=True)\n",
    "    \n",
    "    return newdf"
   ]
  },
  {
   "cell_type": "code",
   "execution_count": 28,
   "id": "e3c83f8c-fc82-48d8-a64f-51c4975d938e",
   "metadata": {},
   "outputs": [],
   "source": [
    "def predf(data):\n",
    "    \n",
    "    ###Base Time Frame########\n",
    "    datadf=data.copy()\n",
    "    datadf.set_index('Date',inplace=True)\n",
    "    datadf=resampler(datadf,'5min')\n",
    "    supertrendBTF=Supertrend(datadf,10,1)\n",
    "    supertrendBTF['rsi']=rsi(datadf.Close,window=8,fillna=True)\n",
    "    supertrendBTF['rsima']=supertrendBTF['rsi'].rolling(13).mean()\n",
    "    supertrendBTF.reset_index(inplace=True)\n",
    "\n",
    "    ###High Time Frame#########\n",
    "    datadf=data.copy()\n",
    "    datadf.set_index('Date',inplace=True)\n",
    "    datadf=resampler(datadf,'10min')\n",
    "    supertrendHTF=Supertrend(datadf,10,1)\n",
    "    supertrendHTF['rsi']=rsi(datadf.Close,window=8,fillna=True)\n",
    "    supertrendHTF['rsima']=supertrendHTF['rsi'].rolling(13).mean()\n",
    "    supertrendHTF.reset_index(inplace=True)\n",
    "    \n",
    "    #######Merge Base and HTF indicators###\n",
    "    st=pd.merge(supertrendBTF,supertrendHTF,on='Date',how='left')\n",
    "    st=st.replace(to_replace=np.nan,method='ffill')\n",
    "    st=st.set_index('Date')\n",
    "    \n",
    "    #########Join everything in single df#######\n",
    "    datadf=data.copy()\n",
    "    datadf.set_index('Date',inplace=True)\n",
    "    datadf=resampler(datadf,'5min')\n",
    "    datadf=datadf.join(st)\n",
    "    \n",
    "    return datadf"
   ]
  },
  {
   "cell_type": "code",
   "execution_count": null,
   "id": "08f2d439-da11-46af-ab1a-aed86c41df01",
   "metadata": {},
   "outputs": [],
   "source": []
  },
  {
   "cell_type": "code",
   "execution_count": 9,
   "id": "dad6018f-5bc3-42f7-b412-309447b406bb",
   "metadata": {},
   "outputs": [],
   "source": [
    "# niftyspot.to_csv('test.csv')"
   ]
  },
  {
   "cell_type": "code",
   "execution_count": 24,
   "id": "af1a5735-66a2-46b8-8004-79e6676ee6be",
   "metadata": {
    "scrolled": true,
    "tags": []
   },
   "outputs": [],
   "source": [
    "def bt(df):\n",
    "    niftyspot=df.loc[df.Ticker=='NIFTY']\n",
    "    niftyspot=predf(niftyspot)\n",
    "    cepos=0\n",
    "    pepos=0\n",
    "    csp=0.0\n",
    "    ccp=0.0\n",
    "    psp=0.0\n",
    "    pcp=0.0\n",
    "    cgl=0.0\n",
    "    pgl=0.0\n",
    "    ptsl=0.0\n",
    "    ctsl=0.0\n",
    "    pnl=[]\n",
    "    pnl_dict = defaultdict(list)\n",
    "    for i in niftyspot.index:\n",
    "        if (i.hour>10)  :\n",
    "            spot=niftyspot.Close[i]\n",
    "            atm=50 * round(int(spot)/50)\n",
    "            itm_ce=atm-50\n",
    "            itm_pe=atm+50\n",
    "            cedf=df.loc[df.Ticker==f'NIFTYWK{itm_ce}CE']\n",
    "            cedf=predf(cedf)\n",
    "            \n",
    "            pedf=df.loc[df.Ticker==f'NIFTYWK{itm_pe}PE']\n",
    "            pedf=predf(pedf)\n",
    "\n",
    "            #############\n",
    " \n",
    "            if (cepos==0) & (i.hour<15):\n",
    "                if (cedf['Supertrend_y'][i]==True) & (cedf['Supertrend_x'][i]==True)& (cedf['rsi_y'][i]>50) & (cedf['rsi_y'][i]>cedf['rsima_y'][i]):\n",
    "                    cepos=1\n",
    "                    cpositiondf=cedf.copy()\n",
    "                    cpostionstrike=itm_ce\n",
    "                    cbp=cedf.Close[i]\n",
    "                    ctsl=cbp-(cbp*0.1)\n",
    "                    print(f'DatetTime {i}, Spot:{spot}, atm:{atm} ITM CE:{itm_ce}--> Buying Call @ {cedf.Close[i]}')\n",
    "                    \n",
    "            elif cepos==1:\n",
    "                if (cpositiondf['Supertrend_x'][i]==False) | (cpositiondf['rsi_y'][i]<50) | (i.hour==15) | (cpositiondf.Close[i]<ctsl):\n",
    "                    cepos=0\n",
    "                    ccp=cpositiondf.Close[i]\n",
    "                    cgl=ccp-cbp\n",
    "                    pnl.append(cgl)\n",
    "                    pnl_dict['Date'].append(i)\n",
    "                    pnl_dict['PNL'].append(cgl)\n",
    "                    print(f'DatetTime {i}, Spot:{spot}, atm:{atm} ITM CE:{cpostionstrike}--> Covering Call @ {cpositiondf.Close[i]}')\n",
    "                else:\n",
    "                    print(f'In CE {cpostionstrike} position and no Cover triggered')\n",
    "\n",
    "            if (pepos==0) & (i.hour<15):       \n",
    "                if (pedf['Supertrend_y'][i]==True) & (pedf['Supertrend_x'][i]==True) & (pedf['rsi_y'][i]>50) & (pedf['rsi_y'][i]>pedf['rsima_y'][i]):\n",
    "                    pepos=1\n",
    "                    ppositiondf=pedf.copy()\n",
    "                    ppostionstrike=itm_pe\n",
    "                    pbp=pedf.Close[i]\n",
    "                    ptsl=pbp-(pbp*0.1)\n",
    "                    print(f'DatetTime {i}, Spot:{spot}, atm:{atm} ITM PE:{itm_pe}--> Buying Put @ {pedf.Close[i]}')\n",
    "                    \n",
    "            elif pepos==1:                \n",
    "                if (ppositiondf['Supertrend_x'][i]==False) | (ppositiondf['rsi_y'][i]<50) | (i.hour==15) | (ppositiondf.Close[i]<ptsl):\n",
    "                    pepos=0\n",
    "                    pcp=ppositiondf.Close[i]\n",
    "                    pgl=pcp-pbp\n",
    "                    pnl.append(pgl)\n",
    "                    pnl_dict['Date'].append(i)\n",
    "                    pnl_dict['PNL'].append(pgl)\n",
    "                    print(f'DatetTime {i}, Spot:{spot}, atm:{atm} ITM PE:{ppostionstrike}--> Covering PE @ {ppositiondf.Close[i]}')\n",
    "                else:\n",
    "                    print(f'In PE {ppostionstrike} position and no Cover triggered')\n",
    "                    pass\n",
    "    return pnl,pnl_dict\n",
    "\n",
    "    # print(f'Spot:{spot}, atm:{atm} ITM CE:{itm_ce} ITM PE:{itm_pe}')\n"
   ]
  },
  {
   "cell_type": "code",
   "execution_count": 11,
   "id": "08e60aa5-c07f-4737-820c-28e947769eed",
   "metadata": {
    "jupyter": {
     "source_hidden": true
    },
    "tags": []
   },
   "outputs": [],
   "source": [
    "def matrix(pnl,df):\n",
    "    tmp=df.loc[df.Ticker=='NIFTY'].reset_index()\n",
    "    start=str(tmp['Date'].iloc[0]).split(' ')[0]\n",
    "    end=str(tmp['Date'].iloc[-1]).split(' ')[0]\n",
    "    matrix_dict = defaultdict(list)\n",
    "    nw=0\n",
    "    nl=0\n",
    "    tg=0\n",
    "    tl=0\n",
    "    for i in range(len(pnl)):\n",
    "        if pnl[i]>0:\n",
    "            nw+=1\n",
    "            tg+=pnl[i]\n",
    "        else:\n",
    "            nl+=1\n",
    "            tl+=pnl[i]\n",
    "    maxprofit=max(pnl)\n",
    "    maxloss=min(pnl)\n",
    "    totalT=len(pnl)\n",
    "\n",
    "    totalPL=sum(pnl)\n",
    "    plR=abs((tg/nw)/(tl/nl))\n",
    "\n",
    "    winR=(nw/totalT)*100\n",
    "\n",
    "    # print(f'Total Number of Trades {totalT}')\n",
    "    # print(f'Number of winners {nw}')\n",
    "    # print(f'Number of Loosers {nl}')\n",
    "    # print(f'Maximum profit per trade {maxprofit}')\n",
    "    # print(f'maximul loss per trade {maxloss}')\n",
    "    # print(f'Total Profit or Loss {totalPL} points')\n",
    "    # print(f'Total Profit/Loss in Rs./ {round(totalPL*50,2)}')\n",
    "    # print(f'Win Ratio {winR} %')\n",
    "    # print(f'Profit/Loss Ratio {plR}')\n",
    "    matrix_dict['Start'].append(start)\n",
    "    matrix_dict['End'].append(end)\n",
    "    matrix_dict['TotalTrades'].append(totalT)\n",
    "    matrix_dict['Winers'].append(nw)\n",
    "    matrix_dict['Loosers'].append(nl)\n",
    "    matrix_dict['MaxProfit'].append(maxprofit)\n",
    "    matrix_dict['MaxLoss'].append(maxloss)\n",
    "    matrix_dict['WinRatio'].append(winR)\n",
    "    matrix_dict['ProfitLossRatio'].append(plR)\n",
    "    matrix_dict['TotalProfitPoints'].append(totalPL)\n",
    "    matrix_dict['TotalProfitsRs'].append(round(totalPL*50,2))\n",
    "    \n",
    "    matrix= pd.DataFrame(matrix_dict)\n",
    "    return matrix\n",
    "        "
   ]
  },
  {
   "cell_type": "code",
   "execution_count": 35,
   "id": "ad58115f-f52c-482f-ab62-976dacddb1ac",
   "metadata": {
    "scrolled": true,
    "tags": []
   },
   "outputs": [
    {
     "name": "stdout",
     "output_type": "stream",
     "text": [
      "BackTesting from history file: importdatafiles/01-07--OCT-2021-WEEKLY-expiry_data__VEGE_NF_AND_BNF_Options.csv\n",
      "DatetTime 2021-10-01 11:40:00, Spot:17507.8, atm:17500 ITM PE:17550--> Buying Put @ 168.65\n",
      "In PE 17550 position and no Cover triggered\n",
      "In PE 17550 position and no Cover triggered\n",
      "In PE 17550 position and no Cover triggered\n",
      "In PE 17550 position and no Cover triggered\n",
      "In PE 17550 position and no Cover triggered\n",
      "In PE 17550 position and no Cover triggered\n",
      "In PE 17550 position and no Cover triggered\n",
      "In PE 17550 position and no Cover triggered\n",
      "In PE 17550 position and no Cover triggered\n",
      "In PE 17550 position and no Cover triggered\n",
      "In PE 17550 position and no Cover triggered\n",
      "In PE 17550 position and no Cover triggered\n",
      "In PE 17550 position and no Cover triggered\n",
      "DatetTime 2021-10-01 12:50:00, Spot:17482.3, atm:17500 ITM PE:17550--> Covering PE @ 177.45\n",
      "DatetTime 2021-10-01 13:00:00, Spot:17493.5, atm:17500 ITM CE:17450--> Buying Call @ 165.9\n",
      "In CE 17450 position and no Cover triggered\n",
      "DatetTime 2021-10-01 13:10:00, Spot:17504.8, atm:17500 ITM CE:17450--> Covering Call @ 167.4\n",
      "DatetTime 2021-10-01 14:05:00, Spot:17514.2, atm:17500 ITM CE:17450--> Buying Call @ 171.95\n",
      "In CE 17450 position and no Cover triggered\n",
      "In CE 17450 position and no Cover triggered\n",
      "In CE 17450 position and no Cover triggered\n",
      "In CE 17450 position and no Cover triggered\n",
      "In CE 17450 position and no Cover triggered\n",
      "In CE 17450 position and no Cover triggered\n",
      "DatetTime 2021-10-01 14:40:00, Spot:17516.0, atm:17500 ITM CE:17450--> Covering Call @ 172.35\n",
      "DatetTime 2021-10-01 14:55:00, Spot:17524.0, atm:17500 ITM CE:17450--> Buying Call @ 180.6\n",
      "DatetTime 2021-10-01 15:00:00, Spot:17554.0, atm:17550 ITM CE:17450--> Covering Call @ 195.35\n",
      "DatetTime 2021-10-04 11:00:00, Spot:17733.3, atm:17750 ITM CE:17700--> Buying Call @ 124.5\n",
      "In CE 17700 position and no Cover triggered\n",
      "In CE 17700 position and no Cover triggered\n",
      "DatetTime 2021-10-04 11:15:00, Spot:17719.0, atm:17700 ITM CE:17700--> Covering Call @ 119.15\n",
      "DatetTime 2021-10-04 12:20:00, Spot:17659.0, atm:17650 ITM PE:17700--> Buying Put @ 124.95\n",
      "In PE 17700 position and no Cover triggered\n",
      "DatetTime 2021-10-04 12:30:00, Spot:17660.9, atm:17650 ITM PE:17700--> Covering PE @ 123.0\n",
      "DatetTime 2021-10-04 13:10:00, Spot:17675.6, atm:17700 ITM CE:17650--> Buying Call @ 120.65\n",
      "In CE 17650 position and no Cover triggered\n",
      "In CE 17650 position and no Cover triggered\n",
      "In CE 17650 position and no Cover triggered\n",
      "In CE 17650 position and no Cover triggered\n",
      "In CE 17650 position and no Cover triggered\n",
      "In CE 17650 position and no Cover triggered\n",
      "In CE 17650 position and no Cover triggered\n",
      "In CE 17650 position and no Cover triggered\n",
      "In CE 17650 position and no Cover triggered\n",
      "DatetTime 2021-10-04 14:00:00, Spot:17704.7, atm:17700 ITM CE:17650--> Covering Call @ 132.8\n",
      "DatetTime 2021-10-04 14:30:00, Spot:17684.0, atm:17700 ITM PE:17750--> Buying Put @ 126.1\n",
      "In PE 17750 position and no Cover triggered\n",
      "DatetTime 2021-10-04 14:40:00, Spot:17695.7, atm:17700 ITM PE:17750--> Covering PE @ 121.55\n",
      "DatetTime 2021-10-05 12:10:00, Spot:17695.5, atm:17700 ITM CE:17650--> Buying Call @ 109.25\n",
      "In CE 17650 position and no Cover triggered\n",
      "DatetTime 2021-10-05 12:20:00, Spot:17695.1, atm:17700 ITM CE:17650--> Covering Call @ 110.15\n",
      "DatetTime 2021-10-05 12:30:00, Spot:17694.2, atm:17700 ITM CE:17650--> Buying Call @ 108.35\n",
      "In CE 17650 position and no Cover triggered\n",
      "In CE 17650 position and no Cover triggered\n",
      "In CE 17650 position and no Cover triggered\n",
      "In CE 17650 position and no Cover triggered\n",
      "In CE 17650 position and no Cover triggered\n",
      "In CE 17650 position and no Cover triggered\n",
      "In CE 17650 position and no Cover triggered\n",
      "In CE 17650 position and no Cover triggered\n",
      "In CE 17650 position and no Cover triggered\n",
      "In CE 17650 position and no Cover triggered\n",
      "In CE 17650 position and no Cover triggered\n",
      "In CE 17650 position and no Cover triggered\n",
      "In CE 17650 position and no Cover triggered\n",
      "In CE 17650 position and no Cover triggered\n",
      "In CE 17650 position and no Cover triggered\n",
      "In CE 17650 position and no Cover triggered\n",
      "In CE 17650 position and no Cover triggered\n",
      "In CE 17650 position and no Cover triggered\n",
      "In CE 17650 position and no Cover triggered\n",
      "In CE 17650 position and no Cover triggered\n",
      "In CE 17650 position and no Cover triggered\n",
      "In CE 17650 position and no Cover triggered\n",
      "In CE 17650 position and no Cover triggered\n",
      "In CE 17650 position and no Cover triggered\n",
      "In CE 17650 position and no Cover triggered\n",
      "In CE 17650 position and no Cover triggered\n",
      "In CE 17650 position and no Cover triggered\n",
      "In CE 17650 position and no Cover triggered\n",
      "In CE 17650 position and no Cover triggered\n",
      "DatetTime 2021-10-05 15:00:00, Spot:17820.3, atm:17800 ITM CE:17650--> Covering Call @ 200.0\n",
      "DatetTime 2021-10-06 11:25:00, Spot:17845.8, atm:17850 ITM CE:17800--> Buying Call @ 86.0\n",
      "DatetTime 2021-10-06 11:30:00, Spot:17834.9, atm:17850 ITM CE:17800--> Covering Call @ 80.4\n",
      "DatetTime 2021-10-06 11:40:00, Spot:17836.5, atm:17850 ITM CE:17800--> Buying Call @ 80.4\n",
      "In CE 17800 position and no Cover triggered\n",
      "In CE 17800 position and no Cover triggered\n",
      "In CE 17800 position and no Cover triggered\n",
      "In CE 17800 position and no Cover triggered\n",
      "In CE 17800 position and no Cover triggered\n",
      "In CE 17800 position and no Cover triggered\n",
      "In CE 17800 position and no Cover triggered\n",
      "In CE 17800 position and no Cover triggered\n",
      "In CE 17800 position and no Cover triggered\n",
      "DatetTime 2021-10-06 12:30:00, Spot:17858.2, atm:17850 ITM CE:17800--> Covering Call @ 89.7\n",
      "DatetTime 2021-10-06 12:30:00, Spot:17858.2, atm:17850 ITM PE:17900--> Buying Put @ 84.95\n",
      "In PE 17900 position and no Cover triggered\n",
      "In PE 17900 position and no Cover triggered\n",
      "In PE 17900 position and no Cover triggered\n",
      "DatetTime 2021-10-06 12:50:00, Spot:17822.7, atm:17800 ITM PE:17900--> Covering PE @ 111.15\n",
      "DatetTime 2021-10-06 13:00:00, Spot:17804.8, atm:17800 ITM PE:17850--> Buying Put @ 91.05\n",
      "In PE 17850 position and no Cover triggered\n",
      "In PE 17850 position and no Cover triggered\n",
      "In PE 17850 position and no Cover triggered\n",
      "In PE 17850 position and no Cover triggered\n",
      "DatetTime 2021-10-06 13:25:00, Spot:17782.4, atm:17800 ITM PE:17850--> Covering PE @ 110.35\n",
      "DatetTime 2021-10-06 13:30:00, Spot:17747.8, atm:17750 ITM PE:17800--> Buying Put @ 104.4\n",
      "In PE 17800 position and no Cover triggered\n",
      "In PE 17800 position and no Cover triggered\n",
      "In PE 17800 position and no Cover triggered\n",
      "In PE 17800 position and no Cover triggered\n",
      "DatetTime 2021-10-06 13:55:00, Spot:17758.0, atm:17750 ITM PE:17800--> Covering PE @ 90.35\n",
      "DatetTime 2021-10-06 14:15:00, Spot:17708.5, atm:17700 ITM PE:17750--> Buying Put @ 95.55\n",
      "In PE 17750 position and no Cover triggered\n",
      "In PE 17750 position and no Cover triggered\n",
      "In PE 17750 position and no Cover triggered\n",
      "In PE 17750 position and no Cover triggered\n",
      "In PE 17750 position and no Cover triggered\n",
      "In PE 17750 position and no Cover triggered\n",
      "In PE 17750 position and no Cover triggered\n",
      "In PE 17750 position and no Cover triggered\n",
      "DatetTime 2021-10-06 15:00:00, Spot:17692.0, atm:17700 ITM PE:17750--> Covering PE @ 100.0\n",
      "DatetTime 2021-10-07 11:40:00, Spot:17825.3, atm:17800 ITM CE:17750--> Buying Call @ 94.3\n",
      "In CE 17750 position and no Cover triggered\n",
      "In CE 17750 position and no Cover triggered\n",
      "In CE 17750 position and no Cover triggered\n",
      "In CE 17750 position and no Cover triggered\n",
      "In CE 17750 position and no Cover triggered\n",
      "DatetTime 2021-10-07 12:10:00, Spot:17838.9, atm:17850 ITM CE:17750--> Covering Call @ 103.9\n",
      "DatetTime 2021-10-07 12:30:00, Spot:17852.6, atm:17850 ITM CE:17800--> Buying Call @ 69.3\n",
      "In CE 17800 position and no Cover triggered\n",
      "In CE 17800 position and no Cover triggered\n",
      "DatetTime 2021-10-07 12:45:00, Spot:17836.7, atm:17850 ITM CE:17800--> Covering Call @ 54.45\n",
      "DatetTime 2021-10-07 14:30:00, Spot:17815.0, atm:17800 ITM PE:17850--> Buying Put @ 34.85\n",
      "DatetTime 2021-10-07 14:35:00, Spot:17813.3, atm:17800 ITM PE:17850--> Covering PE @ 30.35\n",
      "DatetTime 2021-10-07 14:40:00, Spot:17806.7, atm:17800 ITM PE:17850--> Buying Put @ 36.65\n",
      "In PE 17850 position and no Cover triggered\n",
      "In PE 17850 position and no Cover triggered\n",
      "In PE 17850 position and no Cover triggered\n",
      "DatetTime 2021-10-07 15:00:00, Spot:17791.0, atm:17800 ITM PE:17850--> Covering PE @ 56.0\n",
      "BackTesting from history file: importdatafiles/02-08-JULY- -W-ExpiryWEEKdata_2021_NF_BNF_options_vege.csv\n",
      "DatetTime 2021-07-02 11:50:00, Spot:15674.1, atm:15650 ITM CE:15600--> Buying Call @ 124.75\n",
      "In CE 15600 position and no Cover triggered\n",
      "DatetTime 2021-07-02 12:00:00, Spot:15680.6, atm:15700 ITM CE:15600--> Covering Call @ 128.95\n",
      "DatetTime 2021-07-02 12:10:00, Spot:15679.3, atm:15700 ITM CE:15650--> Buying Call @ 96.75\n",
      "In CE 15650 position and no Cover triggered\n",
      "In CE 15650 position and no Cover triggered\n",
      "In CE 15650 position and no Cover triggered\n",
      "In CE 15650 position and no Cover triggered\n",
      "In CE 15650 position and no Cover triggered\n",
      "In CE 15650 position and no Cover triggered\n",
      "In CE 15650 position and no Cover triggered\n",
      "In CE 15650 position and no Cover triggered\n",
      "In CE 15650 position and no Cover triggered\n",
      "In CE 15650 position and no Cover triggered\n",
      "In CE 15650 position and no Cover triggered\n",
      "In CE 15650 position and no Cover triggered\n",
      "DatetTime 2021-07-02 13:15:00, Spot:15684.5, atm:15700 ITM CE:15650--> Covering Call @ 102.6\n",
      "DatetTime 2021-07-02 13:40:00, Spot:15704.0, atm:15700 ITM PE:15750--> Buying Put @ 104.8\n",
      "In PE 15750 position and no Cover triggered\n",
      "In PE 15750 position and no Cover triggered\n",
      "In PE 15750 position and no Cover triggered\n",
      "In PE 15750 position and no Cover triggered\n",
      "DatetTime 2021-07-02 14:05:00, Spot:15685.3, atm:15700 ITM PE:15750--> Covering PE @ 118.2\n",
      "DatetTime 2021-07-02 14:20:00, Spot:15698.5, atm:15700 ITM CE:15650--> Buying Call @ 104.75\n",
      "In CE 15650 position and no Cover triggered\n",
      "In CE 15650 position and no Cover triggered\n",
      "In CE 15650 position and no Cover triggered\n",
      "In CE 15650 position and no Cover triggered\n",
      "In CE 15650 position and no Cover triggered\n",
      "In CE 15650 position and no Cover triggered\n",
      "In CE 15650 position and no Cover triggered\n",
      "DatetTime 2021-07-02 15:00:00, Spot:15720.6, atm:15700 ITM CE:15650--> Covering Call @ 115.65\n",
      "DatetTime 2021-07-05 12:00:00, Spot:15829.4, atm:15850 ITM CE:15800--> Buying Call @ 78.2\n",
      "In CE 15800 position and no Cover triggered\n",
      "DatetTime 2021-07-05 12:10:00, Spot:15829.0, atm:15850 ITM CE:15800--> Covering Call @ 78.35\n",
      "DatetTime 2021-07-05 12:50:00, Spot:15809.7, atm:15800 ITM PE:15850--> Buying Put @ 86.35\n",
      "In PE 15850 position and no Cover triggered\n",
      "DatetTime 2021-07-05 13:00:00, Spot:15814.0, atm:15800 ITM PE:15850--> Covering PE @ 82.8\n",
      "DatetTime 2021-07-05 13:30:00, Spot:15815.9, atm:15800 ITM CE:15750--> Buying Call @ 99.6\n",
      "In CE 15750 position and no Cover triggered\n",
      "In CE 15750 position and no Cover triggered\n",
      "In CE 15750 position and no Cover triggered\n",
      "In CE 15750 position and no Cover triggered\n",
      "In CE 15750 position and no Cover triggered\n",
      "In CE 15750 position and no Cover triggered\n",
      "In CE 15750 position and no Cover triggered\n",
      "In CE 15750 position and no Cover triggered\n",
      "DatetTime 2021-07-05 14:15:00, Spot:15823.8, atm:15800 ITM CE:15750--> Covering Call @ 104.25\n",
      "DatetTime 2021-07-05 14:20:00, Spot:15821.6, atm:15800 ITM PE:15850--> Buying Put @ 77.6\n",
      "In PE 15850 position and no Cover triggered\n",
      "DatetTime 2021-07-05 14:30:00, Spot:15821.4, atm:15800 ITM PE:15850--> Covering PE @ 76.0\n",
      "DatetTime 2021-07-06 11:00:00, Spot:15870.7, atm:15850 ITM CE:15800--> Buying Call @ 90.0\n",
      "In CE 15800 position and no Cover triggered\n",
      "In CE 15800 position and no Cover triggered\n",
      "In CE 15800 position and no Cover triggered\n",
      "In CE 15800 position and no Cover triggered\n",
      "In CE 15800 position and no Cover triggered\n",
      "In CE 15800 position and no Cover triggered\n",
      "In CE 15800 position and no Cover triggered\n",
      "In CE 15800 position and no Cover triggered\n",
      "In CE 15800 position and no Cover triggered\n",
      "In CE 15800 position and no Cover triggered\n",
      "In CE 15800 position and no Cover triggered\n",
      "In CE 15800 position and no Cover triggered\n",
      "In CE 15800 position and no Cover triggered\n",
      "In CE 15800 position and no Cover triggered\n",
      "In CE 15800 position and no Cover triggered\n",
      "In CE 15800 position and no Cover triggered\n",
      "DatetTime 2021-07-06 12:25:00, Spot:15896.8, atm:15900 ITM CE:15800--> Covering Call @ 118.9\n",
      "DatetTime 2021-07-06 13:40:00, Spot:15898.3, atm:15900 ITM CE:15850--> Buying Call @ 79.0\n",
      "In CE 15850 position and no Cover triggered\n",
      "In CE 15850 position and no Cover triggered\n",
      "In CE 15850 position and no Cover triggered\n",
      "In CE 15850 position and no Cover triggered\n",
      "DatetTime 2021-07-06 14:05:00, Spot:15897.4, atm:15900 ITM CE:15850--> Covering Call @ 80.25\n",
      "DatetTime 2021-07-06 14:10:00, Spot:15896.0, atm:15900 ITM PE:15950--> Buying Put @ 87.3\n",
      "In PE 15950 position and no Cover triggered\n",
      "In PE 15950 position and no Cover triggered\n",
      "In PE 15950 position and no Cover triggered\n",
      "In PE 15950 position and no Cover triggered\n",
      "In PE 15950 position and no Cover triggered\n",
      "In PE 15950 position and no Cover triggered\n",
      "In PE 15950 position and no Cover triggered\n",
      "DatetTime 2021-07-06 14:50:00, Spot:15862.5, atm:15850 ITM PE:15950--> Covering PE @ 112.0\n",
      "DatetTime 2021-07-07 11:10:00, Spot:15827.0, atm:15850 ITM CE:15800--> Buying Call @ 57.6\n",
      "In CE 15800 position and no Cover triggered\n",
      "DatetTime 2021-07-07 11:20:00, Spot:15839.0, atm:15850 ITM CE:15800--> Covering Call @ 63.75\n",
      "DatetTime 2021-07-07 11:40:00, Spot:15826.2, atm:15850 ITM CE:15800--> Buying Call @ 59.75\n",
      "In CE 15800 position and no Cover triggered\n",
      "In CE 15800 position and no Cover triggered\n",
      "In CE 15800 position and no Cover triggered\n",
      "In CE 15800 position and no Cover triggered\n",
      "In CE 15800 position and no Cover triggered\n",
      "In CE 15800 position and no Cover triggered\n",
      "In CE 15800 position and no Cover triggered\n",
      "In CE 15800 position and no Cover triggered\n",
      "In CE 15800 position and no Cover triggered\n",
      "DatetTime 2021-07-07 12:30:00, Spot:15838.5, atm:15850 ITM CE:15800--> Covering Call @ 68.2\n",
      "DatetTime 2021-07-07 13:30:00, Spot:15817.5, atm:15800 ITM PE:15850--> Buying Put @ 63.4\n",
      "In PE 15850 position and no Cover triggered\n",
      "DatetTime 2021-07-07 13:40:00, Spot:15827.5, atm:15850 ITM PE:15850--> Covering PE @ 57.6\n",
      "DatetTime 2021-07-07 13:50:00, Spot:15841.6, atm:15850 ITM CE:15800--> Buying Call @ 64.35\n",
      "In CE 15800 position and no Cover triggered\n",
      "In CE 15800 position and no Cover triggered\n",
      "In CE 15800 position and no Cover triggered\n",
      "In CE 15800 position and no Cover triggered\n",
      "In CE 15800 position and no Cover triggered\n",
      "In CE 15800 position and no Cover triggered\n",
      "In CE 15800 position and no Cover triggered\n",
      "In CE 15800 position and no Cover triggered\n",
      "In CE 15800 position and no Cover triggered\n",
      "DatetTime 2021-07-07 14:40:00, Spot:15841.7, atm:15850 ITM CE:15800--> Covering Call @ 67.4\n",
      "DatetTime 2021-07-08 11:00:00, Spot:15834.3, atm:15850 ITM PE:15900--> Buying Put @ 73.9\n",
      "In PE 15900 position and no Cover triggered\n",
      "DatetTime 2021-07-08 11:10:00, Spot:15833.4, atm:15850 ITM PE:15900--> Covering PE @ 73.3\n",
      "DatetTime 2021-07-08 11:35:00, Spot:15832.9, atm:15850 ITM PE:15900--> Buying Put @ 73.65\n",
      "In PE 15900 position and no Cover triggered\n",
      "In PE 15900 position and no Cover triggered\n",
      "In PE 15900 position and no Cover triggered\n",
      "In PE 15900 position and no Cover triggered\n",
      "In PE 15900 position and no Cover triggered\n",
      "In PE 15900 position and no Cover triggered\n",
      "In PE 15900 position and no Cover triggered\n",
      "In PE 15900 position and no Cover triggered\n",
      "In PE 15900 position and no Cover triggered\n",
      "In PE 15900 position and no Cover triggered\n",
      "In PE 15900 position and no Cover triggered\n",
      "In PE 15900 position and no Cover triggered\n",
      "In PE 15900 position and no Cover triggered\n",
      "In PE 15900 position and no Cover triggered\n",
      "In PE 15900 position and no Cover triggered\n",
      "In PE 15900 position and no Cover triggered\n",
      "In PE 15900 position and no Cover triggered\n",
      "DatetTime 2021-07-08 13:05:00, Spot:15766.4, atm:15750 ITM PE:15900--> Covering PE @ 140.4\n",
      "DatetTime 2021-07-08 13:50:00, Spot:15738.4, atm:15750 ITM PE:15800--> Buying Put @ 64.4\n",
      "In PE 15800 position and no Cover triggered\n",
      "In PE 15800 position and no Cover triggered\n",
      "In PE 15800 position and no Cover triggered\n",
      "In PE 15800 position and no Cover triggered\n",
      "In PE 15800 position and no Cover triggered\n",
      "In PE 15800 position and no Cover triggered\n",
      "In PE 15800 position and no Cover triggered\n",
      "In PE 15800 position and no Cover triggered\n",
      "In PE 15800 position and no Cover triggered\n",
      "In PE 15800 position and no Cover triggered\n",
      "DatetTime 2021-07-08 14:45:00, Spot:15726.1, atm:15750 ITM PE:15800--> Covering PE @ 78.8\n",
      "BackTesting from history file: importdatafiles/02-09--SEP-2021-weekly-expiry_data__VEGE_NF_AND_BNF_Options.csv\n",
      "DatetTime 2021-09-03 11:35:00, Spot:17216.0, atm:17200 ITM PE:17250--> Buying Put @ 123.05\n",
      "In PE 17250 position and no Cover triggered\n",
      "DatetTime 2021-09-03 11:45:00, Spot:17241.0, atm:17250 ITM PE:17250--> Covering PE @ 108.4\n",
      "DatetTime 2021-09-03 11:50:00, Spot:17260.2, atm:17250 ITM CE:17200--> Buying Call @ 145.1\n",
      "In CE 17200 position and no Cover triggered\n",
      "In CE 17200 position and no Cover triggered\n",
      "In CE 17200 position and no Cover triggered\n",
      "In CE 17200 position and no Cover triggered\n",
      "In CE 17200 position and no Cover triggered\n",
      "In CE 17200 position and no Cover triggered\n",
      "In CE 17200 position and no Cover triggered\n",
      "DatetTime 2021-09-03 12:30:00, Spot:17274.3, atm:17250 ITM CE:17200--> Covering Call @ 146.4\n",
      "DatetTime 2021-09-03 12:55:00, Spot:17283.8, atm:17300 ITM CE:17250--> Buying Call @ 120.8\n",
      "In CE 17250 position and no Cover triggered\n",
      "In CE 17250 position and no Cover triggered\n",
      "In CE 17250 position and no Cover triggered\n",
      "In CE 17250 position and no Cover triggered\n",
      "In CE 17250 position and no Cover triggered\n",
      "In CE 17250 position and no Cover triggered\n",
      "In CE 17250 position and no Cover triggered\n",
      "In CE 17250 position and no Cover triggered\n",
      "In CE 17250 position and no Cover triggered\n",
      "In CE 17250 position and no Cover triggered\n",
      "In CE 17250 position and no Cover triggered\n",
      "DatetTime 2021-09-03 13:55:00, Spot:17283.2, atm:17300 ITM CE:17250--> Covering Call @ 125.15\n",
      "DatetTime 2021-09-03 14:00:00, Spot:17242.4, atm:17250 ITM PE:17300--> Buying Put @ 133.3\n",
      "In PE 17300 position and no Cover triggered\n",
      "DatetTime 2021-09-03 14:10:00, Spot:17270.0, atm:17250 ITM PE:17300--> Covering PE @ 120.2\n",
      "DatetTime 2021-09-06 11:30:00, Spot:17354.4, atm:17350 ITM PE:17400--> Buying Put @ 116.15\n",
      "In PE 17400 position and no Cover triggered\n",
      "DatetTime 2021-09-06 11:40:00, Spot:17355.7, atm:17350 ITM PE:17400--> Covering PE @ 116.0\n",
      "DatetTime 2021-09-06 13:00:00, Spot:17385.7, atm:17400 ITM CE:17350--> Buying Call @ 117.65\n",
      "In CE 17350 position and no Cover triggered\n",
      "In CE 17350 position and no Cover triggered\n",
      "In CE 17350 position and no Cover triggered\n",
      "DatetTime 2021-09-06 13:20:00, Spot:17380.5, atm:17400 ITM CE:17350--> Covering Call @ 113.1\n",
      "DatetTime 2021-09-06 13:50:00, Spot:17371.7, atm:17350 ITM PE:17400--> Buying Put @ 102.35\n",
      "In PE 17400 position and no Cover triggered\n",
      "DatetTime 2021-09-06 14:00:00, Spot:17372.9, atm:17350 ITM PE:17400--> Covering PE @ 101.8\n",
      "DatetTime 2021-09-06 14:45:00, Spot:17362.7, atm:17350 ITM PE:17400--> Buying Put @ 104.6\n",
      "DatetTime 2021-09-06 14:50:00, Spot:17376.6, atm:17400 ITM PE:17400--> Covering PE @ 98.1\n",
      "DatetTime 2021-09-07 12:00:00, Spot:17348.0, atm:17350 ITM CE:17300--> Buying Call @ 101.6\n",
      "In CE 17300 position and no Cover triggered\n",
      "In CE 17300 position and no Cover triggered\n",
      "In CE 17300 position and no Cover triggered\n",
      "In CE 17300 position and no Cover triggered\n",
      "In CE 17300 position and no Cover triggered\n",
      "In CE 17300 position and no Cover triggered\n",
      "In CE 17300 position and no Cover triggered\n",
      "In CE 17300 position and no Cover triggered\n",
      "In CE 17300 position and no Cover triggered\n",
      "In CE 17300 position and no Cover triggered\n",
      "In CE 17300 position and no Cover triggered\n",
      "DatetTime 2021-09-07 13:00:00, Spot:17412.2, atm:17400 ITM CE:17300--> Covering Call @ 147.55\n",
      "DatetTime 2021-09-07 13:30:00, Spot:17430.1, atm:17450 ITM CE:17400--> Buying Call @ 85.6\n",
      "In CE 17400 position and no Cover triggered\n",
      "In CE 17400 position and no Cover triggered\n",
      "In CE 17400 position and no Cover triggered\n",
      "DatetTime 2021-09-07 13:50:00, Spot:17404.2, atm:17400 ITM CE:17400--> Covering Call @ 74.15\n",
      "DatetTime 2021-09-07 14:40:00, Spot:17357.5, atm:17350 ITM PE:17400--> Buying Put @ 88.4\n",
      "In PE 17400 position and no Cover triggered\n",
      "DatetTime 2021-09-07 14:50:00, Spot:17359.7, atm:17350 ITM PE:17400--> Covering PE @ 88.7\n",
      "DatetTime 2021-09-08 12:20:00, Spot:17326.5, atm:17350 ITM PE:17400--> Buying Put @ 95.65\n",
      "In PE 17400 position and no Cover triggered\n",
      "In PE 17400 position and no Cover triggered\n",
      "In PE 17400 position and no Cover triggered\n",
      "In PE 17400 position and no Cover triggered\n",
      "In PE 17400 position and no Cover triggered\n",
      "In PE 17400 position and no Cover triggered\n",
      "In PE 17400 position and no Cover triggered\n",
      "In PE 17400 position and no Cover triggered\n",
      "In PE 17400 position and no Cover triggered\n",
      "In PE 17400 position and no Cover triggered\n",
      "DatetTime 2021-09-08 13:15:00, Spot:17295.8, atm:17300 ITM PE:17400--> Covering PE @ 120.6\n",
      "DatetTime 2021-09-08 14:50:00, Spot:17324.2, atm:17300 ITM CE:17250--> Buying Call @ 103.25\n",
      "In CE 17250 position and no Cover triggered\n",
      "DatetTime 2021-09-08 15:00:00, Spot:17339.4, atm:17350 ITM CE:17250--> Covering Call @ 109.65\n",
      "DatetTime 2021-09-09 11:00:00, Spot:17353.6, atm:17350 ITM CE:17300--> Buying Call @ 63.5\n",
      "In CE 17300 position and no Cover triggered\n",
      "In CE 17300 position and no Cover triggered\n",
      "In CE 17300 position and no Cover triggered\n",
      "DatetTime 2021-09-09 11:20:00, Spot:17353.0, atm:17350 ITM CE:17300--> Covering Call @ 65.0\n",
      "DatetTime 2021-09-09 12:20:00, Spot:17343.8, atm:17350 ITM PE:17400--> Buying Put @ 68.1\n",
      "In PE 17400 position and no Cover triggered\n",
      "In PE 17400 position and no Cover triggered\n",
      "In PE 17400 position and no Cover triggered\n",
      "In PE 17400 position and no Cover triggered\n",
      "In PE 17400 position and no Cover triggered\n",
      "DatetTime 2021-09-09 12:50:00, Spot:17324.1, atm:17300 ITM PE:17400--> Covering PE @ 80.35\n",
      "DatetTime 2021-09-09 13:05:00, Spot:17312.3, atm:17300 ITM PE:17350--> Buying Put @ 48.75\n",
      "In PE 17350 position and no Cover triggered\n",
      "In PE 17350 position and no Cover triggered\n",
      "DatetTime 2021-09-09 13:20:00, Spot:17330.3, atm:17350 ITM PE:17350--> Covering PE @ 36.1\n",
      "DatetTime 2021-09-09 13:30:00, Spot:17334.3, atm:17350 ITM CE:17300--> Buying Call @ 42.45\n",
      "In CE 17300 position and no Cover triggered\n",
      "In CE 17300 position and no Cover triggered\n",
      "In CE 17300 position and no Cover triggered\n",
      "DatetTime 2021-09-09 13:50:00, Spot:17345.5, atm:17350 ITM CE:17300--> Covering Call @ 53.55\n",
      "DatetTime 2021-09-09 14:30:00, Spot:17336.5, atm:17350 ITM PE:17400--> Buying Put @ 65.2\n",
      "In PE 17400 position and no Cover triggered\n",
      "DatetTime 2021-09-09 14:40:00, Spot:17325.5, atm:17300 ITM PE:17400--> Covering PE @ 73.85\n",
      "BackTesting from history file: importdatafiles/03-09-DEC- -W-ExpiryWEEKdata_2021_NF_BNF_options_vege.csv\n",
      "DatetTime 2021-12-03 12:20:00, Spot:17375.0, atm:17400 ITM PE:17450--> Buying Put @ 175.75\n",
      "In PE 17450 position and no Cover triggered\n",
      "In PE 17450 position and no Cover triggered\n",
      "In PE 17450 position and no Cover triggered\n",
      "In PE 17450 position and no Cover triggered\n",
      "In PE 17450 position and no Cover triggered\n",
      "In PE 17450 position and no Cover triggered\n",
      "In PE 17450 position and no Cover triggered\n",
      "In PE 17450 position and no Cover triggered\n",
      "In PE 17450 position and no Cover triggered\n",
      "In PE 17450 position and no Cover triggered\n",
      "In PE 17450 position and no Cover triggered\n",
      "In PE 17450 position and no Cover triggered\n",
      "In PE 17450 position and no Cover triggered\n",
      "In PE 17450 position and no Cover triggered\n",
      "In PE 17450 position and no Cover triggered\n",
      "In PE 17450 position and no Cover triggered\n",
      "In PE 17450 position and no Cover triggered\n",
      "In PE 17450 position and no Cover triggered\n",
      "In PE 17450 position and no Cover triggered\n",
      "In PE 17450 position and no Cover triggered\n",
      "In PE 17450 position and no Cover triggered\n",
      "In PE 17450 position and no Cover triggered\n",
      "In PE 17450 position and no Cover triggered\n",
      "In PE 17450 position and no Cover triggered\n",
      "In PE 17450 position and no Cover triggered\n",
      "In PE 17450 position and no Cover triggered\n",
      "In PE 17450 position and no Cover triggered\n",
      "In PE 17450 position and no Cover triggered\n",
      "DatetTime 2021-12-03 14:45:00, Spot:17224.2, atm:17200 ITM PE:17450--> Covering PE @ 268.3\n",
      "DatetTime 2021-12-06 11:00:00, Spot:17100.8, atm:17100 ITM PE:17150--> Buying Put @ 153.8\n",
      "In PE 17150 position and no Cover triggered\n",
      "In PE 17150 position and no Cover triggered\n",
      "In PE 17150 position and no Cover triggered\n",
      "In PE 17150 position and no Cover triggered\n",
      "In PE 17150 position and no Cover triggered\n",
      "In PE 17150 position and no Cover triggered\n",
      "In PE 17150 position and no Cover triggered\n",
      "In PE 17150 position and no Cover triggered\n",
      "In PE 17150 position and no Cover triggered\n",
      "In PE 17150 position and no Cover triggered\n",
      "In PE 17150 position and no Cover triggered\n",
      "In PE 17150 position and no Cover triggered\n",
      "In PE 17150 position and no Cover triggered\n",
      "In PE 17150 position and no Cover triggered\n",
      "In PE 17150 position and no Cover triggered\n",
      "In PE 17150 position and no Cover triggered\n",
      "In PE 17150 position and no Cover triggered\n",
      "In PE 17150 position and no Cover triggered\n",
      "In PE 17150 position and no Cover triggered\n",
      "DatetTime 2021-12-06 12:40:00, Spot:17074.8, atm:17050 ITM PE:17150--> Covering PE @ 167.3\n",
      "DatetTime 2021-12-06 13:30:00, Spot:17054.5, atm:17050 ITM PE:17100--> Buying Put @ 148.55\n",
      "In PE 17100 position and no Cover triggered\n",
      "In PE 17100 position and no Cover triggered\n",
      "In PE 17100 position and no Cover triggered\n",
      "In PE 17100 position and no Cover triggered\n",
      "In PE 17100 position and no Cover triggered\n",
      "In PE 17100 position and no Cover triggered\n",
      "In PE 17100 position and no Cover triggered\n",
      "In PE 17100 position and no Cover triggered\n",
      "In PE 17100 position and no Cover triggered\n",
      "In PE 17100 position and no Cover triggered\n",
      "In PE 17100 position and no Cover triggered\n",
      "In PE 17100 position and no Cover triggered\n",
      "In PE 17100 position and no Cover triggered\n",
      "In PE 17100 position and no Cover triggered\n",
      "In PE 17100 position and no Cover triggered\n",
      "In PE 17100 position and no Cover triggered\n",
      "In PE 17100 position and no Cover triggered\n",
      "DatetTime 2021-12-06 15:00:00, Spot:16929.5, atm:16950 ITM PE:17100--> Covering PE @ 220.55\n",
      "DatetTime 2021-12-07 11:00:00, Spot:17133.3, atm:17150 ITM CE:17100--> Buying Call @ 136.2\n",
      "In CE 17100 position and no Cover triggered\n",
      "In CE 17100 position and no Cover triggered\n",
      "In CE 17100 position and no Cover triggered\n",
      "In CE 17100 position and no Cover triggered\n",
      "In CE 17100 position and no Cover triggered\n",
      "In CE 17100 position and no Cover triggered\n",
      "In CE 17100 position and no Cover triggered\n",
      "In CE 17100 position and no Cover triggered\n",
      "In CE 17100 position and no Cover triggered\n",
      "In CE 17100 position and no Cover triggered\n",
      "In CE 17100 position and no Cover triggered\n",
      "In CE 17100 position and no Cover triggered\n",
      "In CE 17100 position and no Cover triggered\n",
      "In CE 17100 position and no Cover triggered\n",
      "In CE 17100 position and no Cover triggered\n",
      "In CE 17100 position and no Cover triggered\n",
      "In CE 17100 position and no Cover triggered\n",
      "In CE 17100 position and no Cover triggered\n",
      "In CE 17100 position and no Cover triggered\n",
      "DatetTime 2021-12-07 12:40:00, Spot:17185.0, atm:17200 ITM CE:17100--> Covering Call @ 163.35\n",
      "DatetTime 2021-12-07 13:30:00, Spot:17201.9, atm:17200 ITM CE:17150--> Buying Call @ 138.25\n",
      "In CE 17150 position and no Cover triggered\n",
      "In CE 17150 position and no Cover triggered\n",
      "In CE 17150 position and no Cover triggered\n",
      "In CE 17150 position and no Cover triggered\n",
      "In CE 17150 position and no Cover triggered\n",
      "In CE 17150 position and no Cover triggered\n",
      "In CE 17150 position and no Cover triggered\n",
      "In CE 17150 position and no Cover triggered\n",
      "In CE 17150 position and no Cover triggered\n",
      "In CE 17150 position and no Cover triggered\n",
      "In CE 17150 position and no Cover triggered\n",
      "In CE 17150 position and no Cover triggered\n",
      "In CE 17150 position and no Cover triggered\n",
      "DatetTime 2021-12-07 14:40:00, Spot:17230.1, atm:17250 ITM CE:17150--> Covering Call @ 156.7\n",
      "DatetTime 2021-12-08 13:05:00, Spot:17433.8, atm:17450 ITM CE:17400--> Buying Call @ 85.0\n",
      "In CE 17400 position and no Cover triggered\n",
      "In CE 17400 position and no Cover triggered\n",
      "In CE 17400 position and no Cover triggered\n",
      "In CE 17400 position and no Cover triggered\n",
      "In CE 17400 position and no Cover triggered\n",
      "In CE 17400 position and no Cover triggered\n",
      "In CE 17400 position and no Cover triggered\n",
      "In CE 17400 position and no Cover triggered\n",
      "In CE 17400 position and no Cover triggered\n",
      "In CE 17400 position and no Cover triggered\n",
      "In CE 17400 position and no Cover triggered\n",
      "DatetTime 2021-12-08 14:05:00, Spot:17446.0, atm:17450 ITM CE:17400--> Covering Call @ 91.55\n",
      "DatetTime 2021-12-08 14:35:00, Spot:17465.7, atm:17450 ITM CE:17400--> Buying Call @ 101.7\n",
      "In CE 17400 position and no Cover triggered\n",
      "In CE 17400 position and no Cover triggered\n",
      "In CE 17400 position and no Cover triggered\n",
      "In CE 17400 position and no Cover triggered\n",
      "DatetTime 2021-12-08 15:00:00, Spot:17466.0, atm:17450 ITM CE:17400--> Covering Call @ 106.35\n",
      "DatetTime 2021-12-09 12:00:00, Spot:17456.3, atm:17450 ITM CE:17400--> Buying Call @ 70.8\n",
      "In CE 17400 position and no Cover triggered\n",
      "In CE 17400 position and no Cover triggered\n",
      "In CE 17400 position and no Cover triggered\n",
      "In CE 17400 position and no Cover triggered\n",
      "In CE 17400 position and no Cover triggered\n",
      "In CE 17400 position and no Cover triggered\n",
      "In CE 17400 position and no Cover triggered\n",
      "In CE 17400 position and no Cover triggered\n",
      "In CE 17400 position and no Cover triggered\n",
      "In CE 17400 position and no Cover triggered\n",
      "In CE 17400 position and no Cover triggered\n",
      "In CE 17400 position and no Cover triggered\n",
      "In CE 17400 position and no Cover triggered\n",
      "In CE 17400 position and no Cover triggered\n",
      "In CE 17400 position and no Cover triggered\n",
      "DatetTime 2021-12-09 13:20:00, Spot:17502.7, atm:17500 ITM CE:17400--> Covering Call @ 112.35\n",
      "DatetTime 2021-12-09 14:15:00, Spot:17473.0, atm:17450 ITM PE:17500--> Buying Put @ 39.0\n",
      "In PE 17500 position and no Cover triggered\n",
      "In PE 17500 position and no Cover triggered\n",
      "DatetTime 2021-12-09 14:30:00, Spot:17477.7, atm:17500 ITM PE:17500--> Covering PE @ 33.95\n",
      "DatetTime 2021-12-09 14:35:00, Spot:17475.0, atm:17500 ITM PE:17550--> Buying Put @ 79.15\n",
      "In PE 17550 position and no Cover triggered\n",
      "In PE 17550 position and no Cover triggered\n",
      "DatetTime 2021-12-09 14:50:00, Spot:17482.8, atm:17500 ITM PE:17550--> Covering PE @ 67.45\n",
      "BackTesting from history file: importdatafiles/04-10-JUN- -W-ExpiryWEEKdata_2021_NF_BNF_options_vege.csv\n",
      "DatetTime 2021-06-04 11:10:00, Spot:15670.4, atm:15650 ITM PE:15700--> Buying Put @ 121.7\n",
      "In PE 15700 position and no Cover triggered\n",
      "In PE 15700 position and no Cover triggered\n",
      "In PE 15700 position and no Cover triggered\n",
      "In PE 15700 position and no Cover triggered\n",
      "In PE 15700 position and no Cover triggered\n",
      "DatetTime 2021-06-04 11:40:00, Spot:15667.8, atm:15650 ITM PE:15700--> Covering PE @ 123.65\n",
      "DatetTime 2021-06-04 12:25:00, Spot:15680.8, atm:15700 ITM CE:15650--> Buying Call @ 125.3\n",
      "In CE 15650 position and no Cover triggered\n",
      "In CE 15650 position and no Cover triggered\n",
      "In CE 15650 position and no Cover triggered\n",
      "In CE 15650 position and no Cover triggered\n",
      "In CE 15650 position and no Cover triggered\n",
      "In CE 15650 position and no Cover triggered\n",
      "DatetTime 2021-06-04 13:00:00, Spot:15666.6, atm:15650 ITM CE:15650--> Covering Call @ 120.0\n",
      "DatetTime 2021-06-04 13:00:00, Spot:15666.6, atm:15650 ITM PE:15700--> Buying Put @ 117.45\n",
      "In PE 15700 position and no Cover triggered\n",
      "In PE 15700 position and no Cover triggered\n",
      "In PE 15700 position and no Cover triggered\n",
      "In PE 15700 position and no Cover triggered\n",
      "In PE 15700 position and no Cover triggered\n",
      "In PE 15700 position and no Cover triggered\n",
      "In PE 15700 position and no Cover triggered\n",
      "In PE 15700 position and no Cover triggered\n",
      "In PE 15700 position and no Cover triggered\n",
      "In PE 15700 position and no Cover triggered\n",
      "DatetTime 2021-06-04 13:55:00, Spot:15650.3, atm:15650 ITM PE:15700--> Covering PE @ 126.95\n",
      "DatetTime 2021-06-07 11:00:00, Spot:15737.7, atm:15750 ITM CE:15700--> Buying Call @ 105.3\n",
      "In CE 15700 position and no Cover triggered\n",
      "In CE 15700 position and no Cover triggered\n",
      "In CE 15700 position and no Cover triggered\n",
      "DatetTime 2021-06-07 11:20:00, Spot:15723.6, atm:15700 ITM CE:15700--> Covering Call @ 99.0\n",
      "DatetTime 2021-06-07 12:40:00, Spot:15715.9, atm:15700 ITM PE:15750--> Buying Put @ 99.0\n",
      "In PE 15750 position and no Cover triggered\n",
      "In PE 15750 position and no Cover triggered\n",
      "In PE 15750 position and no Cover triggered\n",
      "DatetTime 2021-06-07 13:00:00, Spot:15712.9, atm:15700 ITM CE:15650--> Buying Call @ 127.25\n",
      "DatetTime 2021-06-07 13:00:00, Spot:15712.9, atm:15700 ITM PE:15750--> Covering PE @ 93.1\n",
      "In CE 15650 position and no Cover triggered\n",
      "In CE 15650 position and no Cover triggered\n",
      "In CE 15650 position and no Cover triggered\n",
      "In CE 15650 position and no Cover triggered\n",
      "In CE 15650 position and no Cover triggered\n",
      "In CE 15650 position and no Cover triggered\n",
      "In CE 15650 position and no Cover triggered\n",
      "In CE 15650 position and no Cover triggered\n",
      "In CE 15650 position and no Cover triggered\n",
      "In CE 15650 position and no Cover triggered\n",
      "In CE 15650 position and no Cover triggered\n",
      "In CE 15650 position and no Cover triggered\n",
      "In CE 15650 position and no Cover triggered\n",
      "In CE 15650 position and no Cover triggered\n",
      "In CE 15650 position and no Cover triggered\n",
      "In CE 15650 position and no Cover triggered\n",
      "In CE 15650 position and no Cover triggered\n",
      "In CE 15650 position and no Cover triggered\n",
      "In CE 15650 position and no Cover triggered\n",
      "In CE 15650 position and no Cover triggered\n",
      "In CE 15650 position and no Cover triggered\n",
      "In CE 15650 position and no Cover triggered\n",
      "In CE 15650 position and no Cover triggered\n",
      "DatetTime 2021-06-07 15:00:00, Spot:15763.5, atm:15750 ITM CE:15650--> Covering Call @ 164.45\n",
      "DatetTime 2021-06-08 12:00:00, Spot:15712.1, atm:15700 ITM PE:15750--> Buying Put @ 93.0\n",
      "In PE 15750 position and no Cover triggered\n",
      "In PE 15750 position and no Cover triggered\n",
      "In PE 15750 position and no Cover triggered\n",
      "DatetTime 2021-06-08 12:20:00, Spot:15716.7, atm:15700 ITM PE:15750--> Covering PE @ 90.3\n",
      "DatetTime 2021-06-08 13:00:00, Spot:15733.0, atm:15750 ITM CE:15700--> Buying Call @ 87.1\n",
      "In CE 15700 position and no Cover triggered\n",
      "In CE 15700 position and no Cover triggered\n",
      "In CE 15700 position and no Cover triggered\n",
      "In CE 15700 position and no Cover triggered\n",
      "In CE 15700 position and no Cover triggered\n",
      "In CE 15700 position and no Cover triggered\n",
      "In CE 15700 position and no Cover triggered\n",
      "In CE 15700 position and no Cover triggered\n",
      "DatetTime 2021-06-08 13:45:00, Spot:15740.0, atm:15750 ITM CE:15700--> Covering Call @ 95.25\n",
      "DatetTime 2021-06-08 14:20:00, Spot:15744.3, atm:15750 ITM CE:15700--> Buying Call @ 97.65\n",
      "In CE 15700 position and no Cover triggered\n",
      "In CE 15700 position and no Cover triggered\n",
      "In CE 15700 position and no Cover triggered\n",
      "In CE 15700 position and no Cover triggered\n",
      "In CE 15700 position and no Cover triggered\n",
      "In CE 15700 position and no Cover triggered\n",
      "In CE 15700 position and no Cover triggered\n",
      "DatetTime 2021-06-08 15:00:00, Spot:15750.3, atm:15750 ITM CE:15700--> Covering Call @ 99.75\n",
      "DatetTime 2021-06-09 11:00:00, Spot:15781.5, atm:15800 ITM CE:15750--> Buying Call @ 64.2\n",
      "In CE 15750 position and no Cover triggered\n",
      "DatetTime 2021-06-09 11:10:00, Spot:15782.9, atm:15800 ITM CE:15750--> Covering Call @ 64.9\n",
      "DatetTime 2021-06-09 11:20:00, Spot:15780.6, atm:15800 ITM CE:15750--> Buying Call @ 63.8\n",
      "In CE 15750 position and no Cover triggered\n",
      "In CE 15750 position and no Cover triggered\n",
      "In CE 15750 position and no Cover triggered\n",
      "DatetTime 2021-06-09 11:40:00, Spot:15784.6, atm:15800 ITM CE:15750--> Covering Call @ 63.6\n",
      "DatetTime 2021-06-09 11:50:00, Spot:15784.6, atm:15800 ITM CE:15750--> Buying Call @ 63.75\n",
      "In CE 15750 position and no Cover triggered\n",
      "In CE 15750 position and no Cover triggered\n",
      "In CE 15750 position and no Cover triggered\n",
      "In CE 15750 position and no Cover triggered\n",
      "In CE 15750 position and no Cover triggered\n",
      "In CE 15750 position and no Cover triggered\n",
      "In CE 15750 position and no Cover triggered\n",
      "DatetTime 2021-06-09 12:30:00, Spot:15783.4, atm:15800 ITM CE:15750--> Covering Call @ 65.35\n",
      "DatetTime 2021-06-09 13:00:00, Spot:15771.9, atm:15750 ITM PE:15800--> Buying Put @ 62.0\n",
      "In PE 15800 position and no Cover triggered\n",
      "In PE 15800 position and no Cover triggered\n",
      "In PE 15800 position and no Cover triggered\n",
      "In PE 15800 position and no Cover triggered\n",
      "DatetTime 2021-06-09 13:25:00, Spot:15674.1, atm:15650 ITM PE:15800--> Covering PE @ 144.55\n",
      "DatetTime 2021-06-09 14:20:00, Spot:15659.3, atm:15650 ITM PE:15700--> Buying Put @ 72.6\n",
      "In PE 15700 position and no Cover triggered\n",
      "In PE 15700 position and no Cover triggered\n",
      "In PE 15700 position and no Cover triggered\n",
      "In PE 15700 position and no Cover triggered\n",
      "In PE 15700 position and no Cover triggered\n",
      "DatetTime 2021-06-09 14:50:00, Spot:15616.5, atm:15600 ITM PE:15700--> Covering PE @ 101.35\n",
      "DatetTime 2021-06-10 11:35:00, Spot:15707.3, atm:15700 ITM CE:15650--> Buying Call @ 67.85\n",
      "In CE 15650 position and no Cover triggered\n",
      "In CE 15650 position and no Cover triggered\n",
      "In CE 15650 position and no Cover triggered\n",
      "In CE 15650 position and no Cover triggered\n",
      "In CE 15650 position and no Cover triggered\n",
      "In CE 15650 position and no Cover triggered\n",
      "In CE 15650 position and no Cover triggered\n",
      "In CE 15650 position and no Cover triggered\n",
      "DatetTime 2021-06-10 12:20:00, Spot:15724.6, atm:15700 ITM CE:15650--> Covering Call @ 82.95\n",
      "DatetTime 2021-06-10 12:40:00, Spot:15696.9, atm:15700 ITM PE:15750--> Buying Put @ 64.8\n",
      "In PE 15750 position and no Cover triggered\n",
      "In PE 15750 position and no Cover triggered\n",
      "In PE 15750 position and no Cover triggered\n",
      "DatetTime 2021-06-10 13:00:00, Spot:15708.8, atm:15700 ITM PE:15750--> Covering PE @ 55.7\n",
      "DatetTime 2021-06-10 13:15:00, Spot:15736.0, atm:15750 ITM CE:15700--> Buying Call @ 45.85\n",
      "In CE 15700 position and no Cover triggered\n",
      "DatetTime 2021-06-10 13:25:00, Spot:15729.3, atm:15750 ITM CE:15700--> Covering Call @ 41.0\n",
      "DatetTime 2021-06-10 13:30:00, Spot:15730.8, atm:15750 ITM CE:15700--> Buying Call @ 40.15\n",
      "In CE 15700 position and no Cover triggered\n",
      "DatetTime 2021-06-10 13:40:00, Spot:15716.3, atm:15700 ITM CE:15700--> Covering Call @ 30.5\n",
      "DatetTime 2021-06-10 13:45:00, Spot:15732.8, atm:15750 ITM CE:15700--> Buying Call @ 42.6\n",
      "DatetTime 2021-06-10 13:50:00, Spot:15730.9, atm:15750 ITM CE:15700--> Covering Call @ 40.15\n",
      "DatetTime 2021-06-10 14:10:00, Spot:15727.6, atm:15750 ITM CE:15700--> Buying Call @ 36.85\n",
      "In CE 15700 position and no Cover triggered\n",
      "In CE 15700 position and no Cover triggered\n",
      "In CE 15700 position and no Cover triggered\n",
      "In CE 15700 position and no Cover triggered\n",
      "In CE 15700 position and no Cover triggered\n",
      "In CE 15700 position and no Cover triggered\n",
      "In CE 15700 position and no Cover triggered\n",
      "DatetTime 2021-06-10 14:50:00, Spot:15733.0, atm:15750 ITM CE:15700--> Covering Call @ 36.6\n",
      "BackTesting from history file: importdatafiles/04-11-FEB-Weekly-ExpiryWEEKdata_2021.csv\n",
      "DatetTime 2021-02-05 11:10:00, Spot:14940.3, atm:14950 ITM CE:14900--> Buying Call @ 186.7\n",
      "In CE 14900 position and no Cover triggered\n",
      "In CE 14900 position and no Cover triggered\n",
      "In CE 14900 position and no Cover triggered\n",
      "In CE 14900 position and no Cover triggered\n",
      "In CE 14900 position and no Cover triggered\n",
      "In CE 14900 position and no Cover triggered\n",
      "In CE 14900 position and no Cover triggered\n",
      "In CE 14900 position and no Cover triggered\n",
      "In CE 14900 position and no Cover triggered\n",
      "In CE 14900 position and no Cover triggered\n",
      "In CE 14900 position and no Cover triggered\n",
      "In CE 14900 position and no Cover triggered\n",
      "In CE 14900 position and no Cover triggered\n",
      "DatetTime 2021-02-05 12:20:00, Spot:14967.2, atm:14950 ITM CE:14900--> Covering Call @ 199.0\n",
      "DatetTime 2021-02-05 13:10:00, Spot:14914.5, atm:14900 ITM PE:14950--> Buying Put @ 183.6\n",
      "In PE 14950 position and no Cover triggered\n",
      "In PE 14950 position and no Cover triggered\n",
      "DatetTime 2021-02-05 13:25:00, Spot:14936.4, atm:14950 ITM PE:14950--> Covering PE @ 172.9\n",
      "DatetTime 2021-02-05 13:30:00, Spot:14885.8, atm:14900 ITM PE:14950--> Buying Put @ 202.7\n",
      "In PE 14950 position and no Cover triggered\n",
      "DatetTime 2021-02-05 13:40:00, Spot:14903.3, atm:14900 ITM PE:14950--> Covering PE @ 195.0\n",
      "DatetTime 2021-02-08 12:10:00, Spot:15091.2, atm:15100 ITM PE:15150--> Buying Put @ 158.1\n",
      "In PE 15150 position and no Cover triggered\n",
      "In PE 15150 position and no Cover triggered\n",
      "In PE 15150 position and no Cover triggered\n",
      "DatetTime 2021-02-08 12:30:00, Spot:15097.9, atm:15100 ITM PE:15150--> Covering PE @ 153.6\n",
      "DatetTime 2021-02-08 13:10:00, Spot:15124.5, atm:15100 ITM CE:15050--> Buying Call @ 160.45\n",
      "In CE 15050 position and no Cover triggered\n",
      "In CE 15050 position and no Cover triggered\n",
      "In CE 15050 position and no Cover triggered\n",
      "In CE 15050 position and no Cover triggered\n",
      "In CE 15050 position and no Cover triggered\n",
      "In CE 15050 position and no Cover triggered\n",
      "In CE 15050 position and no Cover triggered\n",
      "In CE 15050 position and no Cover triggered\n",
      "In CE 15050 position and no Cover triggered\n",
      "In CE 15050 position and no Cover triggered\n",
      "In CE 15050 position and no Cover triggered\n",
      "In CE 15050 position and no Cover triggered\n",
      "In CE 15050 position and no Cover triggered\n",
      "In CE 15050 position and no Cover triggered\n",
      "In CE 15050 position and no Cover triggered\n",
      "In CE 15050 position and no Cover triggered\n",
      "DatetTime 2021-02-08 14:35:00, Spot:15138.9, atm:15150 ITM CE:15050--> Covering Call @ 163.45\n",
      "DatetTime 2021-02-08 14:50:00, Spot:15116.9, atm:15100 ITM PE:15150--> Buying Put @ 133.65\n",
      "In PE 15150 position and no Cover triggered\n",
      "DatetTime 2021-02-08 15:00:00, Spot:15107.4, atm:15100 ITM PE:15150--> Covering PE @ 139.8\n",
      "DatetTime 2021-02-09 11:00:00, Spot:15218.2, atm:15200 ITM CE:15150--> Buying Call @ 135.25\n",
      "In CE 15150 position and no Cover triggered\n",
      "In CE 15150 position and no Cover triggered\n",
      "In CE 15150 position and no Cover triggered\n",
      "In CE 15150 position and no Cover triggered\n",
      "In CE 15150 position and no Cover triggered\n",
      "In CE 15150 position and no Cover triggered\n",
      "In CE 15150 position and no Cover triggered\n",
      "In CE 15150 position and no Cover triggered\n",
      "In CE 15150 position and no Cover triggered\n",
      "In CE 15150 position and no Cover triggered\n",
      "In CE 15150 position and no Cover triggered\n",
      "DatetTime 2021-02-09 12:00:00, Spot:15217.4, atm:15200 ITM CE:15150--> Covering Call @ 139.55\n",
      "DatetTime 2021-02-09 13:35:00, Spot:15246.5, atm:15250 ITM CE:15200--> Buying Call @ 117.75\n",
      "In CE 15200 position and no Cover triggered\n",
      "In CE 15200 position and no Cover triggered\n",
      "In CE 15200 position and no Cover triggered\n",
      "In CE 15200 position and no Cover triggered\n",
      "In CE 15200 position and no Cover triggered\n",
      "In CE 15200 position and no Cover triggered\n",
      "In CE 15200 position and no Cover triggered\n",
      "In CE 15200 position and no Cover triggered\n",
      "DatetTime 2021-02-09 14:20:00, Spot:15237.3, atm:15250 ITM CE:15200--> Covering Call @ 113.35\n",
      "DatetTime 2021-02-09 14:30:00, Spot:15221.8, atm:15200 ITM PE:15250--> Buying Put @ 110.8\n",
      "In PE 15250 position and no Cover triggered\n",
      "In PE 15250 position and no Cover triggered\n",
      "In PE 15250 position and no Cover triggered\n",
      "In PE 15250 position and no Cover triggered\n",
      "In PE 15250 position and no Cover triggered\n",
      "DatetTime 2021-02-09 15:00:00, Spot:15096.5, atm:15100 ITM PE:15250--> Covering PE @ 202.85\n",
      "DatetTime 2021-02-10 11:50:00, Spot:15098.6, atm:15100 ITM CE:15050--> Buying Call @ 108.0\n",
      "In CE 15050 position and no Cover triggered\n",
      "DatetTime 2021-02-10 12:00:00, Spot:15089.4, atm:15100 ITM CE:15050--> Covering Call @ 103.25\n",
      "DatetTime 2021-02-10 13:20:00, Spot:15070.3, atm:15050 ITM PE:15100--> Buying Put @ 94.45\n",
      "In PE 15100 position and no Cover triggered\n",
      "In PE 15100 position and no Cover triggered\n",
      "In PE 15100 position and no Cover triggered\n",
      "In PE 15100 position and no Cover triggered\n",
      "In PE 15100 position and no Cover triggered\n",
      "In PE 15100 position and no Cover triggered\n",
      "DatetTime 2021-02-10 13:55:00, Spot:15030.7, atm:15050 ITM PE:15100--> Covering PE @ 118.5\n",
      "DatetTime 2021-02-10 14:45:00, Spot:15006.6, atm:15000 ITM PE:15050--> Buying Put @ 102.75\n",
      "DatetTime 2021-02-10 14:50:00, Spot:15023.1, atm:15000 ITM PE:15050--> Covering PE @ 85.5\n",
      "DatetTime 2021-02-11 11:50:00, Spot:15126.3, atm:15150 ITM PE:15200--> Buying Put @ 88.3\n",
      "In PE 15200 position and no Cover triggered\n",
      "In PE 15200 position and no Cover triggered\n",
      "In PE 15200 position and no Cover triggered\n",
      "DatetTime 2021-02-11 12:10:00, Spot:15127.1, atm:15150 ITM PE:15200--> Covering PE @ 84.85\n",
      "DatetTime 2021-02-11 12:25:00, Spot:15150.4, atm:15150 ITM CE:15100--> Buying Call @ 65.3\n",
      "In CE 15100 position and no Cover triggered\n",
      "In CE 15100 position and no Cover triggered\n",
      "In CE 15100 position and no Cover triggered\n",
      "In CE 15100 position and no Cover triggered\n",
      "DatetTime 2021-02-11 12:50:00, Spot:15125.0, atm:15100 ITM CE:15100--> Covering Call @ 51.7\n",
      "DatetTime 2021-02-11 14:20:00, Spot:15166.6, atm:15150 ITM CE:15100--> Buying Call @ 78.1\n",
      "In CE 15100 position and no Cover triggered\n",
      "DatetTime 2021-02-11 14:30:00, Spot:15154.9, atm:15150 ITM CE:15100--> Covering Call @ 61.9\n",
      "BackTesting from history file: importdatafiles/04_10_FEB_WEEKLY_expiry_data_VEGE_NF_AND_BNF_Options_Desktop_Vege.csv\n",
      "DatetTime 2022-02-04 11:50:00, Spot:17527.4, atm:17550 ITM PE:17600--> Buying Put @ 184.7\n",
      "In PE 17600 position and no Cover triggered\n",
      "In PE 17600 position and no Cover triggered\n",
      "In PE 17600 position and no Cover triggered\n",
      "In PE 17600 position and no Cover triggered\n",
      "In PE 17600 position and no Cover triggered\n",
      "In PE 17600 position and no Cover triggered\n",
      "DatetTime 2022-02-04 12:25:00, Spot:17509.0, atm:17500 ITM PE:17600--> Covering PE @ 200.0\n",
      "DatetTime 2022-02-04 12:50:00, Spot:17489.8, atm:17500 ITM PE:17550--> Buying Put @ 184.4\n",
      "In PE 17550 position and no Cover triggered\n",
      "In PE 17550 position and no Cover triggered\n",
      "In PE 17550 position and no Cover triggered\n",
      "In PE 17550 position and no Cover triggered\n",
      "In PE 17550 position and no Cover triggered\n",
      "DatetTime 2022-02-04 13:20:00, Spot:17506.8, atm:17500 ITM PE:17550--> Covering PE @ 170.2\n",
      "DatetTime 2022-02-04 13:40:00, Spot:17524.8, atm:17500 ITM CE:17450--> Buying Call @ 196.1\n",
      "In CE 17450 position and no Cover triggered\n",
      "In CE 17450 position and no Cover triggered\n",
      "In CE 17450 position and no Cover triggered\n",
      "In CE 17450 position and no Cover triggered\n",
      "In CE 17450 position and no Cover triggered\n",
      "In CE 17450 position and no Cover triggered\n",
      "In CE 17450 position and no Cover triggered\n",
      "In CE 17450 position and no Cover triggered\n",
      "In CE 17450 position and no Cover triggered\n",
      "DatetTime 2022-02-04 14:30:00, Spot:17525.8, atm:17500 ITM CE:17450--> Covering Call @ 194.75\n",
      "DatetTime 2022-02-04 14:30:00, Spot:17525.8, atm:17500 ITM PE:17550--> Buying Put @ 159.0\n",
      "In PE 17550 position and no Cover triggered\n",
      "In PE 17550 position and no Cover triggered\n",
      "In PE 17550 position and no Cover triggered\n",
      "In PE 17550 position and no Cover triggered\n",
      "In PE 17550 position and no Cover triggered\n",
      "DatetTime 2022-02-04 15:00:00, Spot:17516.4, atm:17500 ITM PE:17550--> Covering PE @ 163.1\n",
      "DatetTime 2022-02-07 11:00:00, Spot:17365.3, atm:17350 ITM PE:17400--> Buying Put @ 150.25\n",
      "In PE 17400 position and no Cover triggered\n",
      "In PE 17400 position and no Cover triggered\n",
      "In PE 17400 position and no Cover triggered\n",
      "In PE 17400 position and no Cover triggered\n",
      "In PE 17400 position and no Cover triggered\n",
      "In PE 17400 position and no Cover triggered\n",
      "In PE 17400 position and no Cover triggered\n",
      "In PE 17400 position and no Cover triggered\n",
      "In PE 17400 position and no Cover triggered\n",
      "In PE 17400 position and no Cover triggered\n",
      "In PE 17400 position and no Cover triggered\n",
      "In PE 17400 position and no Cover triggered\n",
      "In PE 17400 position and no Cover triggered\n",
      "In PE 17400 position and no Cover triggered\n",
      "In PE 17400 position and no Cover triggered\n",
      "In PE 17400 position and no Cover triggered\n",
      "DatetTime 2022-02-07 12:25:00, Spot:17314.3, atm:17300 ITM PE:17400--> Covering PE @ 177.2\n",
      "DatetTime 2022-02-07 13:20:00, Spot:17266.4, atm:17250 ITM PE:17300--> Buying Put @ 149.55\n",
      "In PE 17300 position and no Cover triggered\n",
      "In PE 17300 position and no Cover triggered\n",
      "In PE 17300 position and no Cover triggered\n",
      "In PE 17300 position and no Cover triggered\n",
      "In PE 17300 position and no Cover triggered\n",
      "In PE 17300 position and no Cover triggered\n",
      "In PE 17300 position and no Cover triggered\n",
      "In PE 17300 position and no Cover triggered\n",
      "DatetTime 2022-02-07 14:05:00, Spot:17188.5, atm:17200 ITM PE:17300--> Covering PE @ 210.6\n",
      "DatetTime 2022-02-08 11:00:00, Spot:17064.0, atm:17050 ITM PE:17100--> Buying Put @ 143.45\n",
      "In PE 17100 position and no Cover triggered\n",
      "DatetTime 2022-02-08 11:10:00, Spot:17085.3, atm:17100 ITM PE:17100--> Covering PE @ 127.75\n",
      "DatetTime 2022-02-08 11:40:00, Spot:17161.3, atm:17150 ITM CE:17100--> Buying Call @ 147.05\n",
      "In CE 17100 position and no Cover triggered\n",
      "In CE 17100 position and no Cover triggered\n",
      "In CE 17100 position and no Cover triggered\n",
      "In CE 17100 position and no Cover triggered\n",
      "In CE 17100 position and no Cover triggered\n",
      "DatetTime 2022-02-08 12:10:00, Spot:17181.4, atm:17200 ITM CE:17100--> Covering Call @ 154.8\n",
      "DatetTime 2022-02-08 12:20:00, Spot:17236.0, atm:17250 ITM CE:17200--> Buying Call @ 127.0\n",
      "In CE 17200 position and no Cover triggered\n",
      "In CE 17200 position and no Cover triggered\n",
      "In CE 17200 position and no Cover triggered\n",
      "In CE 17200 position and no Cover triggered\n",
      "In CE 17200 position and no Cover triggered\n",
      "DatetTime 2022-02-08 12:50:00, Spot:17224.2, atm:17200 ITM CE:17200--> Covering Call @ 126.85\n",
      "DatetTime 2022-02-08 13:00:00, Spot:17175.8, atm:17200 ITM PE:17250--> Buying Put @ 152.65\n",
      "In PE 17250 position and no Cover triggered\n",
      "In PE 17250 position and no Cover triggered\n",
      "In PE 17250 position and no Cover triggered\n",
      "DatetTime 2022-02-08 13:20:00, Spot:17177.5, atm:17200 ITM PE:17250--> Covering PE @ 146.7\n",
      "DatetTime 2022-02-08 14:50:00, Spot:17188.7, atm:17200 ITM CE:17150--> Buying Call @ 125.0\n",
      "In CE 17150 position and no Cover triggered\n",
      "DatetTime 2022-02-08 15:00:00, Spot:17275.5, atm:17300 ITM CE:17150--> Covering Call @ 170.8\n",
      "DatetTime 2022-02-09 12:00:00, Spot:17403.7, atm:17400 ITM CE:17350--> Buying Call @ 103.45\n",
      "In CE 17350 position and no Cover triggered\n",
      "In CE 17350 position and no Cover triggered\n",
      "In CE 17350 position and no Cover triggered\n",
      "In CE 17350 position and no Cover triggered\n",
      "In CE 17350 position and no Cover triggered\n",
      "In CE 17350 position and no Cover triggered\n",
      "In CE 17350 position and no Cover triggered\n",
      "In CE 17350 position and no Cover triggered\n",
      "In CE 17350 position and no Cover triggered\n",
      "In CE 17350 position and no Cover triggered\n",
      "In CE 17350 position and no Cover triggered\n",
      "DatetTime 2022-02-09 13:00:00, Spot:17421.5, atm:17400 ITM CE:17350--> Covering Call @ 107.85\n",
      "DatetTime 2022-02-09 13:05:00, Spot:17384.8, atm:17400 ITM PE:17450--> Buying Put @ 104.1\n",
      "DatetTime 2022-02-09 13:10:00, Spot:17382.5, atm:17400 ITM PE:17450--> Covering PE @ 106.3\n",
      "DatetTime 2022-02-09 13:50:00, Spot:17435.7, atm:17450 ITM CE:17400--> Buying Call @ 83.0\n",
      "In CE 17400 position and no Cover triggered\n",
      "In CE 17400 position and no Cover triggered\n",
      "In CE 17400 position and no Cover triggered\n",
      "In CE 17400 position and no Cover triggered\n",
      "In CE 17400 position and no Cover triggered\n",
      "In CE 17400 position and no Cover triggered\n",
      "In CE 17400 position and no Cover triggered\n",
      "In CE 17400 position and no Cover triggered\n",
      "In CE 17400 position and no Cover triggered\n",
      "In CE 17400 position and no Cover triggered\n",
      "In CE 17400 position and no Cover triggered\n",
      "In CE 17400 position and no Cover triggered\n",
      "In CE 17400 position and no Cover triggered\n",
      "DatetTime 2022-02-09 15:00:00, Spot:17457.3, atm:17450 ITM CE:17400--> Covering Call @ 94.8\n",
      "DatetTime 2022-02-10 11:00:00, Spot:17591.6, atm:17600 ITM CE:17550--> Buying Call @ 61.6\n",
      "In CE 17550 position and no Cover triggered\n",
      "In CE 17550 position and no Cover triggered\n",
      "In CE 17550 position and no Cover triggered\n",
      "DatetTime 2022-02-10 11:20:00, Spot:17565.6, atm:17550 ITM CE:17550--> Covering Call @ 46.65\n",
      "DatetTime 2022-02-10 11:30:00, Spot:17592.7, atm:17600 ITM CE:17550--> Buying Call @ 62.55\n",
      "In CE 17550 position and no Cover triggered\n",
      "In CE 17550 position and no Cover triggered\n",
      "In CE 17550 position and no Cover triggered\n",
      "In CE 17550 position and no Cover triggered\n",
      "In CE 17550 position and no Cover triggered\n",
      "In CE 17550 position and no Cover triggered\n",
      "In CE 17550 position and no Cover triggered\n",
      "DatetTime 2022-02-10 12:10:00, Spot:17594.5, atm:17600 ITM CE:17550--> Covering Call @ 65.4\n",
      "DatetTime 2022-02-10 12:50:00, Spot:17607.3, atm:17600 ITM CE:17550--> Buying Call @ 71.4\n",
      "In CE 17550 position and no Cover triggered\n",
      "In CE 17550 position and no Cover triggered\n",
      "In CE 17550 position and no Cover triggered\n",
      "DatetTime 2022-02-10 13:10:00, Spot:17602.8, atm:17600 ITM CE:17550--> Covering Call @ 67.2\n",
      "DatetTime 2022-02-10 13:40:00, Spot:17620.8, atm:17600 ITM CE:17550--> Buying Call @ 75.35\n",
      "In CE 17550 position and no Cover triggered\n",
      "In CE 17550 position and no Cover triggered\n",
      "DatetTime 2022-02-10 13:55:00, Spot:17613.3, atm:17600 ITM CE:17550--> Covering Call @ 66.95\n",
      "DatetTime 2022-02-10 14:15:00, Spot:17636.5, atm:17650 ITM CE:17600--> Buying Call @ 41.5\n",
      "DatetTime 2022-02-10 14:20:00, Spot:17621.3, atm:17600 ITM CE:17600--> Covering Call @ 32.85\n",
      "BackTesting from history file: importdatafiles/05-11--NOV-2021-WEEKLY-expiry_data__VEGE_NF_AND_BNF_Options.csv\n",
      "DatetTime 2021-11-08 11:10:00, Spot:17918.2, atm:17900 ITM CE:17850--> Buying Call @ 169.55\n",
      "In CE 17850 position and no Cover triggered\n",
      "DatetTime 2021-11-08 11:20:00, Spot:17907.0, atm:17900 ITM CE:17850--> Covering Call @ 163.55\n",
      "DatetTime 2021-11-08 11:30:00, Spot:17885.5, atm:17900 ITM PE:17950--> Buying Put @ 129.6\n",
      "In PE 17950 position and no Cover triggered\n",
      "DatetTime 2021-11-08 11:40:00, Spot:17891.5, atm:17900 ITM PE:17950--> Covering PE @ 124.9\n",
      "DatetTime 2021-11-08 11:45:00, Spot:17910.0, atm:17900 ITM CE:17850--> Buying Call @ 164.6\n",
      "In CE 17850 position and no Cover triggered\n",
      "In CE 17850 position and no Cover triggered\n",
      "In CE 17850 position and no Cover triggered\n",
      "In CE 17850 position and no Cover triggered\n",
      "In CE 17850 position and no Cover triggered\n",
      "In CE 17850 position and no Cover triggered\n",
      "In CE 17850 position and no Cover triggered\n",
      "In CE 17850 position and no Cover triggered\n",
      "In CE 17850 position and no Cover triggered\n",
      "In CE 17850 position and no Cover triggered\n",
      "In CE 17850 position and no Cover triggered\n",
      "In CE 17850 position and no Cover triggered\n",
      "In CE 17850 position and no Cover triggered\n",
      "In CE 17850 position and no Cover triggered\n",
      "In CE 17850 position and no Cover triggered\n",
      "In CE 17850 position and no Cover triggered\n",
      "In CE 17850 position and no Cover triggered\n",
      "In CE 17850 position and no Cover triggered\n",
      "In CE 17850 position and no Cover triggered\n",
      "In CE 17850 position and no Cover triggered\n",
      "In CE 17850 position and no Cover triggered\n",
      "In CE 17850 position and no Cover triggered\n",
      "In CE 17850 position and no Cover triggered\n",
      "In CE 17850 position and no Cover triggered\n",
      "In CE 17850 position and no Cover triggered\n",
      "In CE 17850 position and no Cover triggered\n",
      "In CE 17850 position and no Cover triggered\n",
      "In CE 17850 position and no Cover triggered\n",
      "In CE 17850 position and no Cover triggered\n",
      "In CE 17850 position and no Cover triggered\n",
      "In CE 17850 position and no Cover triggered\n",
      "In CE 17850 position and no Cover triggered\n",
      "In CE 17850 position and no Cover triggered\n",
      "In CE 17850 position and no Cover triggered\n",
      "DatetTime 2021-11-08 14:40:00, Spot:18062.4, atm:18050 ITM CE:17850--> Covering Call @ 284.15\n",
      "DatetTime 2021-11-09 11:00:00, Spot:18041.5, atm:18050 ITM PE:18100--> Buying Put @ 121.3\n",
      "In PE 18100 position and no Cover triggered\n",
      "In PE 18100 position and no Cover triggered\n",
      "In PE 18100 position and no Cover triggered\n",
      "DatetTime 2021-11-09 11:20:00, Spot:18041.5, atm:18050 ITM PE:18100--> Covering PE @ 115.45\n",
      "DatetTime 2021-11-09 12:05:00, Spot:18039.0, atm:18050 ITM PE:18100--> Buying Put @ 118.65\n",
      "In PE 18100 position and no Cover triggered\n",
      "In PE 18100 position and no Cover triggered\n",
      "In PE 18100 position and no Cover triggered\n",
      "In PE 18100 position and no Cover triggered\n",
      "In PE 18100 position and no Cover triggered\n",
      "In PE 18100 position and no Cover triggered\n",
      "DatetTime 2021-11-09 12:40:00, Spot:18045.3, atm:18050 ITM PE:18100--> Covering PE @ 114.3\n",
      "DatetTime 2021-11-09 13:30:00, Spot:18020.2, atm:18000 ITM PE:18050--> Buying Put @ 100.55\n",
      "In PE 18050 position and no Cover triggered\n",
      "DatetTime 2021-11-09 13:40:00, Spot:18023.0, atm:18000 ITM PE:18050--> Covering PE @ 102.0\n",
      "DatetTime 2021-11-09 14:20:00, Spot:18041.5, atm:18050 ITM CE:18000--> Buying Call @ 119.8\n",
      "In CE 18000 position and no Cover triggered\n",
      "DatetTime 2021-11-09 14:30:00, Spot:18037.8, atm:18050 ITM CE:18000--> Covering Call @ 115.3\n",
      "DatetTime 2021-11-09 14:50:00, Spot:18004.7, atm:18000 ITM PE:18050--> Buying Put @ 109.2\n",
      "In PE 18050 position and no Cover triggered\n",
      "DatetTime 2021-11-09 15:00:00, Spot:18036.0, atm:18050 ITM PE:18050--> Covering PE @ 86.25\n",
      "DatetTime 2021-11-10 12:20:00, Spot:17977.3, atm:18000 ITM CE:17950--> Buying Call @ 90.2\n",
      "In CE 17950 position and no Cover triggered\n",
      "In CE 17950 position and no Cover triggered\n",
      "In CE 17950 position and no Cover triggered\n",
      "DatetTime 2021-11-10 12:40:00, Spot:17968.8, atm:17950 ITM CE:17950--> Covering Call @ 83.4\n",
      "DatetTime 2021-11-10 12:55:00, Spot:17954.7, atm:17950 ITM PE:18000--> Buying Put @ 97.5\n",
      "DatetTime 2021-11-10 13:00:00, Spot:17970.2, atm:17950 ITM PE:18000--> Covering PE @ 87.45\n",
      "DatetTime 2021-11-10 13:30:00, Spot:17992.6, atm:18000 ITM CE:17950--> Buying Call @ 99.1\n",
      "In CE 17950 position and no Cover triggered\n",
      "In CE 17950 position and no Cover triggered\n",
      "In CE 17950 position and no Cover triggered\n",
      "In CE 17950 position and no Cover triggered\n",
      "In CE 17950 position and no Cover triggered\n",
      "In CE 17950 position and no Cover triggered\n",
      "In CE 17950 position and no Cover triggered\n",
      "In CE 17950 position and no Cover triggered\n",
      "In CE 17950 position and no Cover triggered\n",
      "DatetTime 2021-11-10 14:20:00, Spot:18036.3, atm:18050 ITM CE:17950--> Covering Call @ 129.95\n",
      "DatetTime 2021-11-11 13:00:00, Spot:17861.2, atm:17850 ITM CE:17800--> Buying Call @ 75.35\n",
      "In CE 17800 position and no Cover triggered\n",
      "DatetTime 2021-11-11 13:10:00, Spot:17884.0, atm:17900 ITM CE:17800--> Covering Call @ 96.2\n",
      "DatetTime 2021-11-11 13:25:00, Spot:17889.2, atm:17900 ITM CE:17850--> Buying Call @ 64.0\n",
      "DatetTime 2021-11-11 13:30:00, Spot:17878.6, atm:17900 ITM CE:17850--> Covering Call @ 52.45\n",
      "DatetTime 2021-11-11 14:00:00, Spot:17844.6, atm:17850 ITM PE:17900--> Buying Put @ 67.6\n",
      "In PE 17900 position and no Cover triggered\n",
      "In PE 17900 position and no Cover triggered\n",
      "In PE 17900 position and no Cover triggered\n",
      "DatetTime 2021-11-11 14:20:00, Spot:17828.3, atm:17850 ITM PE:17900--> Covering PE @ 69.35\n",
      "BackTesting from history file: importdatafiles/05_08_APR_2021_weekly_Expirydata_VEGE_NF_AND_BNF_Options_shortWeek.csv\n",
      "DatetTime 2021-04-05 11:10:00, Spot:14474.0, atm:14450 ITM PE:14500--> Buying Put @ 175.0\n",
      "In PE 14500 position and no Cover triggered\n",
      "DatetTime 2021-04-05 11:20:00, Spot:14501.1, atm:14500 ITM PE:14500--> Covering PE @ 155.55\n",
      "DatetTime 2021-04-05 11:25:00, Spot:14492.5, atm:14500 ITM PE:14550--> Buying Put @ 191.0\n",
      "In PE 14550 position and no Cover triggered\n",
      "DatetTime 2021-04-05 11:35:00, Spot:14519.9, atm:14500 ITM PE:14550--> Covering PE @ 169.65\n",
      "DatetTime 2021-04-05 12:30:00, Spot:14573.5, atm:14550 ITM CE:14500--> Buying Call @ 190.8\n",
      "In CE 14500 position and no Cover triggered\n",
      "DatetTime 2021-04-05 12:40:00, Spot:14591.4, atm:14600 ITM CE:14500--> Covering Call @ 197.7\n",
      "DatetTime 2021-04-05 13:20:00, Spot:14612.6, atm:14600 ITM CE:14550--> Buying Call @ 180.0\n",
      "In CE 14550 position and no Cover triggered\n",
      "In CE 14550 position and no Cover triggered\n",
      "In CE 14550 position and no Cover triggered\n",
      "In CE 14550 position and no Cover triggered\n",
      "In CE 14550 position and no Cover triggered\n",
      "In CE 14550 position and no Cover triggered\n",
      "In CE 14550 position and no Cover triggered\n",
      "In CE 14550 position and no Cover triggered\n",
      "In CE 14550 position and no Cover triggered\n",
      "In CE 14550 position and no Cover triggered\n",
      "In CE 14550 position and no Cover triggered\n",
      "In CE 14550 position and no Cover triggered\n",
      "In CE 14550 position and no Cover triggered\n",
      "In CE 14550 position and no Cover triggered\n",
      "In CE 14550 position and no Cover triggered\n",
      "In CE 14550 position and no Cover triggered\n",
      "DatetTime 2021-04-05 14:45:00, Spot:14644.0, atm:14650 ITM CE:14550--> Covering Call @ 192.8\n",
      "DatetTime 2021-04-06 11:00:00, Spot:14739.6, atm:14750 ITM CE:14700--> Buying Call @ 135.3\n",
      "In CE 14700 position and no Cover triggered\n",
      "In CE 14700 position and no Cover triggered\n",
      "In CE 14700 position and no Cover triggered\n",
      "In CE 14700 position and no Cover triggered\n",
      "In CE 14700 position and no Cover triggered\n",
      "DatetTime 2021-04-06 11:30:00, Spot:14746.1, atm:14750 ITM CE:14700--> Covering Call @ 142.5\n",
      "DatetTime 2021-04-06 12:30:00, Spot:14685.5, atm:14700 ITM PE:14750--> Buying Put @ 137.7\n",
      "In PE 14750 position and no Cover triggered\n",
      "In PE 14750 position and no Cover triggered\n",
      "In PE 14750 position and no Cover triggered\n",
      "DatetTime 2021-04-06 12:50:00, Spot:14662.1, atm:14650 ITM PE:14750--> Covering PE @ 154.7\n",
      "DatetTime 2021-04-06 13:50:00, Spot:14646.4, atm:14650 ITM PE:14700--> Buying Put @ 132.3\n",
      "In PE 14700 position and no Cover triggered\n",
      "In PE 14700 position and no Cover triggered\n",
      "In PE 14700 position and no Cover triggered\n",
      "DatetTime 2021-04-06 14:10:00, Spot:14654.3, atm:14650 ITM PE:14700--> Covering PE @ 124.85\n",
      "DatetTime 2021-04-07 11:00:00, Spot:14837.5, atm:14850 ITM CE:14800--> Buying Call @ 107.75\n",
      "In CE 14800 position and no Cover triggered\n",
      "In CE 14800 position and no Cover triggered\n",
      "In CE 14800 position and no Cover triggered\n",
      "In CE 14800 position and no Cover triggered\n",
      "In CE 14800 position and no Cover triggered\n",
      "In CE 14800 position and no Cover triggered\n",
      "In CE 14800 position and no Cover triggered\n",
      "In CE 14800 position and no Cover triggered\n",
      "In CE 14800 position and no Cover triggered\n",
      "DatetTime 2021-04-07 11:50:00, Spot:14831.5, atm:14850 ITM CE:14800--> Covering Call @ 100.35\n",
      "DatetTime 2021-04-07 13:20:00, Spot:14813.8, atm:14800 ITM PE:14850--> Buying Put @ 92.35\n",
      "In PE 14850 position and no Cover triggered\n",
      "In PE 14850 position and no Cover triggered\n",
      "In PE 14850 position and no Cover triggered\n",
      "In PE 14850 position and no Cover triggered\n",
      "DatetTime 2021-04-07 13:45:00, Spot:14814.9, atm:14800 ITM PE:14850--> Covering PE @ 92.0\n",
      "DatetTime 2021-04-07 14:30:00, Spot:14853.5, atm:14850 ITM CE:14800--> Buying Call @ 106.25\n",
      "In CE 14800 position and no Cover triggered\n",
      "DatetTime 2021-04-07 14:40:00, Spot:14826.4, atm:14850 ITM CE:14800--> Covering Call @ 88.7\n",
      "DatetTime 2021-04-07 14:45:00, Spot:14817.8, atm:14800 ITM PE:14850--> Buying Put @ 82.55\n",
      "In PE 14850 position and no Cover triggered\n",
      "In PE 14850 position and no Cover triggered\n",
      "DatetTime 2021-04-07 15:00:00, Spot:14828.1, atm:14850 ITM PE:14850--> Covering PE @ 76.55\n",
      "DatetTime 2021-04-08 11:00:00, Spot:14949.9, atm:14950 ITM CE:14900--> Buying Call @ 70.7\n",
      "In CE 14900 position and no Cover triggered\n",
      "In CE 14900 position and no Cover triggered\n",
      "In CE 14900 position and no Cover triggered\n",
      "In CE 14900 position and no Cover triggered\n",
      "In CE 14900 position and no Cover triggered\n",
      "DatetTime 2021-04-08 11:30:00, Spot:14949.5, atm:14950 ITM CE:14900--> Covering Call @ 69.3\n",
      "DatetTime 2021-04-08 11:40:00, Spot:14914.8, atm:14900 ITM PE:14950--> Buying Put @ 55.5\n",
      "In PE 14950 position and no Cover triggered\n",
      "DatetTime 2021-04-08 11:50:00, Spot:14918.5, atm:14900 ITM PE:14950--> Covering PE @ 53.0\n",
      "DatetTime 2021-04-08 12:00:00, Spot:14916.6, atm:14900 ITM PE:14950--> Buying Put @ 57.75\n",
      "In PE 14950 position and no Cover triggered\n",
      "DatetTime 2021-04-08 12:10:00, Spot:14888.3, atm:14900 ITM PE:14950--> Covering PE @ 75.4\n",
      "DatetTime 2021-04-08 12:30:00, Spot:14940.4, atm:14950 ITM CE:14900--> Buying Call @ 52.8\n",
      "In CE 14900 position and no Cover triggered\n",
      "In CE 14900 position and no Cover triggered\n",
      "In CE 14900 position and no Cover triggered\n",
      "DatetTime 2021-04-08 12:50:00, Spot:14935.6, atm:14950 ITM CE:14900--> Covering Call @ 54.15\n",
      "DatetTime 2021-04-08 13:15:00, Spot:14952.0, atm:14950 ITM CE:14900--> Buying Call @ 62.0\n",
      "In CE 14900 position and no Cover triggered\n",
      "In CE 14900 position and no Cover triggered\n",
      "In CE 14900 position and no Cover triggered\n",
      "In CE 14900 position and no Cover triggered\n",
      "In CE 14900 position and no Cover triggered\n",
      "In CE 14900 position and no Cover triggered\n",
      "DatetTime 2021-04-08 13:50:00, Spot:14958.1, atm:14950 ITM CE:14900--> Covering Call @ 63.2\n",
      "DatetTime 2021-04-08 14:10:00, Spot:14945.9, atm:14950 ITM PE:15000--> Buying Put @ 61.4\n",
      "In PE 15000 position and no Cover triggered\n",
      "In PE 15000 position and no Cover triggered\n",
      "In PE 15000 position and no Cover triggered\n",
      "In PE 15000 position and no Cover triggered\n",
      "In PE 15000 position and no Cover triggered\n",
      "In PE 15000 position and no Cover triggered\n",
      "In PE 15000 position and no Cover triggered\n",
      "In PE 15000 position and no Cover triggered\n",
      "In PE 15000 position and no Cover triggered\n",
      "DatetTime 2021-04-08 15:00:00, Spot:14872.6, atm:14850 ITM PE:15000--> Covering PE @ 132.85\n",
      "BackTesting from history file: importdatafiles/06_12_AUG_2021_weekly_expiryWEEKdata_VEGE_NF_AND_BNF_Options.csv\n",
      "DatetTime 2021-08-06 11:35:00, Spot:16248.3, atm:16250 ITM PE:16300--> Buying Put @ 119.0\n",
      "In PE 16300 position and no Cover triggered\n",
      "In PE 16300 position and no Cover triggered\n",
      "DatetTime 2021-08-06 11:50:00, Spot:16274.1, atm:16250 ITM PE:16300--> Covering PE @ 106.5\n",
      "DatetTime 2021-08-06 12:55:00, Spot:16247.9, atm:16250 ITM PE:16300--> Buying Put @ 118.85\n",
      "In PE 16300 position and no Cover triggered\n",
      "In PE 16300 position and no Cover triggered\n",
      "In PE 16300 position and no Cover triggered\n",
      "In PE 16300 position and no Cover triggered\n",
      "DatetTime 2021-08-06 13:20:00, Spot:16265.5, atm:16250 ITM PE:16300--> Covering PE @ 107.15\n",
      "DatetTime 2021-08-06 13:35:00, Spot:16257.3, atm:16250 ITM PE:16300--> Buying Put @ 114.2\n",
      "DatetTime 2021-08-06 13:40:00, Spot:16265.0, atm:16250 ITM PE:16300--> Covering PE @ 109.65\n",
      "DatetTime 2021-08-06 13:50:00, Spot:16257.1, atm:16250 ITM PE:16300--> Buying Put @ 114.4\n",
      "In PE 16300 position and no Cover triggered\n",
      "In PE 16300 position and no Cover triggered\n",
      "In PE 16300 position and no Cover triggered\n",
      "DatetTime 2021-08-06 14:10:00, Spot:16259.9, atm:16250 ITM PE:16300--> Covering PE @ 111.3\n",
      "DatetTime 2021-08-06 14:55:00, Spot:16246.3, atm:16250 ITM PE:16300--> Buying Put @ 116.35\n",
      "DatetTime 2021-08-06 15:00:00, Spot:16238.0, atm:16250 ITM PE:16300--> Covering PE @ 120.55\n",
      "DatetTime 2021-08-09 11:40:00, Spot:16277.2, atm:16300 ITM PE:16350--> Buying Put @ 119.15\n",
      "In PE 16350 position and no Cover triggered\n",
      "In PE 16350 position and no Cover triggered\n",
      "In PE 16350 position and no Cover triggered\n",
      "In PE 16350 position and no Cover triggered\n",
      "In PE 16350 position and no Cover triggered\n",
      "In PE 16350 position and no Cover triggered\n",
      "In PE 16350 position and no Cover triggered\n",
      "In PE 16350 position and no Cover triggered\n",
      "In PE 16350 position and no Cover triggered\n",
      "DatetTime 2021-08-09 12:30:00, Spot:16260.2, atm:16250 ITM PE:16350--> Covering PE @ 132.75\n",
      "DatetTime 2021-08-09 13:05:00, Spot:16241.8, atm:16250 ITM PE:16300--> Buying Put @ 109.15\n",
      "In PE 16300 position and no Cover triggered\n",
      "In PE 16300 position and no Cover triggered\n",
      "In PE 16300 position and no Cover triggered\n",
      "In PE 16300 position and no Cover triggered\n",
      "In PE 16300 position and no Cover triggered\n",
      "In PE 16300 position and no Cover triggered\n",
      "In PE 16300 position and no Cover triggered\n",
      "In PE 16300 position and no Cover triggered\n",
      "In PE 16300 position and no Cover triggered\n",
      "In PE 16300 position and no Cover triggered\n",
      "DatetTime 2021-08-09 14:00:00, Spot:16216.0, atm:16200 ITM PE:16300--> Covering PE @ 127.05\n",
      "DatetTime 2021-08-09 14:20:00, Spot:16222.1, atm:16200 ITM CE:16150--> Buying Call @ 110.1\n",
      "In CE 16150 position and no Cover triggered\n",
      "In CE 16150 position and no Cover triggered\n",
      "In CE 16150 position and no Cover triggered\n",
      "DatetTime 2021-08-09 14:40:00, Spot:16222.6, atm:16200 ITM CE:16150--> Covering Call @ 112.1\n",
      "DatetTime 2021-08-10 11:00:00, Spot:16342.8, atm:16350 ITM CE:16300--> Buying Call @ 84.2\n",
      "In CE 16300 position and no Cover triggered\n",
      "DatetTime 2021-08-10 11:10:00, Spot:16318.7, atm:16300 ITM CE:16300--> Covering Call @ 75.35\n",
      "DatetTime 2021-08-10 11:40:00, Spot:16347.8, atm:16350 ITM CE:16300--> Buying Call @ 86.95\n",
      "In CE 16300 position and no Cover triggered\n",
      "In CE 16300 position and no Cover triggered\n",
      "In CE 16300 position and no Cover triggered\n",
      "In CE 16300 position and no Cover triggered\n",
      "In CE 16300 position and no Cover triggered\n",
      "In CE 16300 position and no Cover triggered\n",
      "In CE 16300 position and no Cover triggered\n",
      "In CE 16300 position and no Cover triggered\n",
      "DatetTime 2021-08-10 12:25:00, Spot:16343.5, atm:16350 ITM CE:16300--> Covering Call @ 83.0\n",
      "DatetTime 2021-08-10 13:20:00, Spot:16331.7, atm:16350 ITM PE:16400--> Buying Put @ 105.1\n",
      "In PE 16400 position and no Cover triggered\n",
      "DatetTime 2021-08-10 13:30:00, Spot:16336.8, atm:16350 ITM PE:16400--> Covering PE @ 101.6\n",
      "DatetTime 2021-08-10 13:40:00, Spot:16333.5, atm:16350 ITM PE:16400--> Buying Put @ 103.7\n",
      "In PE 16400 position and no Cover triggered\n",
      "In PE 16400 position and no Cover triggered\n",
      "In PE 16400 position and no Cover triggered\n",
      "In PE 16400 position and no Cover triggered\n",
      "In PE 16400 position and no Cover triggered\n",
      "In PE 16400 position and no Cover triggered\n",
      "In PE 16400 position and no Cover triggered\n",
      "In PE 16400 position and no Cover triggered\n",
      "DatetTime 2021-08-10 14:25:00, Spot:16249.6, atm:16250 ITM PE:16400--> Covering PE @ 170.9\n",
      "DatetTime 2021-08-11 11:00:00, Spot:16194.1, atm:16200 ITM PE:16250--> Buying Put @ 81.1\n",
      "In PE 16250 position and no Cover triggered\n",
      "In PE 16250 position and no Cover triggered\n",
      "In PE 16250 position and no Cover triggered\n",
      "DatetTime 2021-08-11 11:20:00, Spot:16191.2, atm:16200 ITM PE:16250--> Covering PE @ 83.05\n",
      "DatetTime 2021-08-11 12:20:00, Spot:16216.8, atm:16200 ITM CE:16150--> Buying Call @ 101.35\n",
      "In CE 16150 position and no Cover triggered\n",
      "In CE 16150 position and no Cover triggered\n",
      "In CE 16150 position and no Cover triggered\n",
      "DatetTime 2021-08-11 12:40:00, Spot:16225.3, atm:16200 ITM CE:16150--> Covering Call @ 102.55\n",
      "DatetTime 2021-08-11 13:20:00, Spot:16256.1, atm:16250 ITM CE:16200--> Buying Call @ 82.3\n",
      "In CE 16200 position and no Cover triggered\n",
      "In CE 16200 position and no Cover triggered\n",
      "In CE 16200 position and no Cover triggered\n",
      "In CE 16200 position and no Cover triggered\n",
      "In CE 16200 position and no Cover triggered\n",
      "In CE 16200 position and no Cover triggered\n",
      "In CE 16200 position and no Cover triggered\n",
      "DatetTime 2021-08-11 14:00:00, Spot:16245.0, atm:16250 ITM CE:16200--> Covering Call @ 74.5\n",
      "DatetTime 2021-08-11 14:20:00, Spot:16254.6, atm:16250 ITM PE:16300--> Buying Put @ 73.15\n",
      "In PE 16300 position and no Cover triggered\n",
      "DatetTime 2021-08-11 14:30:00, Spot:16240.0, atm:16250 ITM PE:16300--> Covering PE @ 83.35\n",
      "DatetTime 2021-08-12 11:15:00, Spot:16336.9, atm:16350 ITM CE:16300--> Buying Call @ 44.55\n",
      "In CE 16300 position and no Cover triggered\n",
      "In CE 16300 position and no Cover triggered\n",
      "DatetTime 2021-08-12 11:30:00, Spot:16328.6, atm:16350 ITM CE:16300--> Covering Call @ 38.2\n",
      "DatetTime 2021-08-12 11:40:00, Spot:16335.8, atm:16350 ITM CE:16300--> Buying Call @ 40.55\n",
      "In CE 16300 position and no Cover triggered\n",
      "In CE 16300 position and no Cover triggered\n",
      "In CE 16300 position and no Cover triggered\n",
      "In CE 16300 position and no Cover triggered\n",
      "In CE 16300 position and no Cover triggered\n",
      "In CE 16300 position and no Cover triggered\n",
      "In CE 16300 position and no Cover triggered\n",
      "In CE 16300 position and no Cover triggered\n",
      "In CE 16300 position and no Cover triggered\n",
      "In CE 16300 position and no Cover triggered\n",
      "In CE 16300 position and no Cover triggered\n",
      "DatetTime 2021-08-12 12:40:00, Spot:16348.3, atm:16350 ITM CE:16300--> Covering Call @ 51.7\n",
      "DatetTime 2021-08-12 13:20:00, Spot:16357.1, atm:16350 ITM CE:16300--> Buying Call @ 57.6\n",
      "In CE 16300 position and no Cover triggered\n",
      "In CE 16300 position and no Cover triggered\n",
      "In CE 16300 position and no Cover triggered\n",
      "In CE 16300 position and no Cover triggered\n",
      "DatetTime 2021-08-12 13:45:00, Spot:16359.0, atm:16350 ITM CE:16300--> Covering Call @ 60.0\n",
      "DatetTime 2021-08-12 14:20:00, Spot:16343.0, atm:16350 ITM PE:16400--> Buying Put @ 58.9\n",
      "In PE 16400 position and no Cover triggered\n",
      "DatetTime 2021-08-12 14:30:00, Spot:16345.4, atm:16350 ITM PE:16400--> Covering PE @ 56.3\n",
      "BackTesting from history file: importdatafiles/07-12May -W-ExpiryWEEKdata_2021_NF_BNF_vege.csv\n",
      "DatetTime 2021-05-07 12:05:00, Spot:14812.0, atm:14800 ITM PE:14850--> Buying Put @ 148.5\n",
      "In PE 14850 position and no Cover triggered\n",
      "In PE 14850 position and no Cover triggered\n",
      "In PE 14850 position and no Cover triggered\n",
      "In PE 14850 position and no Cover triggered\n",
      "DatetTime 2021-05-07 12:30:00, Spot:14795.1, atm:14800 ITM PE:14850--> Covering PE @ 155.45\n",
      "DatetTime 2021-05-07 13:05:00, Spot:14786.5, atm:14800 ITM PE:14850--> Buying Put @ 158.5\n",
      "In PE 14850 position and no Cover triggered\n",
      "In PE 14850 position and no Cover triggered\n",
      "DatetTime 2021-05-07 13:20:00, Spot:14795.9, atm:14800 ITM PE:14850--> Covering PE @ 154.7\n",
      "DatetTime 2021-05-07 13:40:00, Spot:14800.7, atm:14800 ITM CE:14750--> Buying Call @ 156.8\n",
      "In CE 14750 position and no Cover triggered\n",
      "In CE 14750 position and no Cover triggered\n",
      "In CE 14750 position and no Cover triggered\n",
      "DatetTime 2021-05-07 14:00:00, Spot:14801.8, atm:14800 ITM CE:14750--> Covering Call @ 162.15\n",
      "DatetTime 2021-05-07 14:10:00, Spot:14833.8, atm:14850 ITM CE:14800--> Buying Call @ 146.65\n",
      "In CE 14800 position and no Cover triggered\n",
      "In CE 14800 position and no Cover triggered\n",
      "In CE 14800 position and no Cover triggered\n",
      "In CE 14800 position and no Cover triggered\n",
      "In CE 14800 position and no Cover triggered\n",
      "In CE 14800 position and no Cover triggered\n",
      "In CE 14800 position and no Cover triggered\n",
      "In CE 14800 position and no Cover triggered\n",
      "In CE 14800 position and no Cover triggered\n",
      "DatetTime 2021-05-07 15:00:00, Spot:14831.1, atm:14850 ITM CE:14800--> Covering Call @ 148.5\n",
      "DatetTime 2021-05-10 11:20:00, Spot:14938.4, atm:14950 ITM CE:14900--> Buying Call @ 125.35\n",
      "In CE 14900 position and no Cover triggered\n",
      "In CE 14900 position and no Cover triggered\n",
      "In CE 14900 position and no Cover triggered\n",
      "In CE 14900 position and no Cover triggered\n",
      "In CE 14900 position and no Cover triggered\n",
      "In CE 14900 position and no Cover triggered\n",
      "In CE 14900 position and no Cover triggered\n",
      "In CE 14900 position and no Cover triggered\n",
      "In CE 14900 position and no Cover triggered\n",
      "In CE 14900 position and no Cover triggered\n",
      "In CE 14900 position and no Cover triggered\n",
      "In CE 14900 position and no Cover triggered\n",
      "In CE 14900 position and no Cover triggered\n",
      "In CE 14900 position and no Cover triggered\n",
      "In CE 14900 position and no Cover triggered\n",
      "In CE 14900 position and no Cover triggered\n",
      "In CE 14900 position and no Cover triggered\n",
      "In CE 14900 position and no Cover triggered\n",
      "In CE 14900 position and no Cover triggered\n",
      "In CE 14900 position and no Cover triggered\n",
      "In CE 14900 position and no Cover triggered\n",
      "DatetTime 2021-05-10 13:10:00, Spot:14933.8, atm:14950 ITM CE:14900--> Covering Call @ 116.0\n",
      "DatetTime 2021-05-10 13:10:00, Spot:14933.8, atm:14950 ITM PE:15000--> Buying Put @ 125.3\n",
      "In PE 15000 position and no Cover triggered\n",
      "DatetTime 2021-05-10 13:20:00, Spot:14932.0, atm:14950 ITM PE:15000--> Covering PE @ 124.0\n",
      "DatetTime 2021-05-10 13:50:00, Spot:14950.8, atm:14950 ITM CE:14900--> Buying Call @ 122.9\n",
      "In CE 14900 position and no Cover triggered\n",
      "In CE 14900 position and no Cover triggered\n",
      "In CE 14900 position and no Cover triggered\n",
      "In CE 14900 position and no Cover triggered\n",
      "In CE 14900 position and no Cover triggered\n",
      "DatetTime 2021-05-10 14:20:00, Spot:14954.6, atm:14950 ITM CE:14900--> Covering Call @ 126.95\n",
      "DatetTime 2021-05-10 14:50:00, Spot:14940.7, atm:14950 ITM PE:15000--> Buying Put @ 115.0\n",
      "In PE 15000 position and no Cover triggered\n",
      "DatetTime 2021-05-10 15:00:00, Spot:14946.2, atm:14950 ITM PE:15000--> Covering PE @ 116.1\n",
      "DatetTime 2021-05-11 11:30:00, Spot:14880.2, atm:14900 ITM CE:14850--> Buying Call @ 96.6\n",
      "In CE 14850 position and no Cover triggered\n",
      "In CE 14850 position and no Cover triggered\n",
      "In CE 14850 position and no Cover triggered\n",
      "In CE 14850 position and no Cover triggered\n",
      "DatetTime 2021-05-11 11:55:00, Spot:14872.5, atm:14850 ITM CE:14850--> Covering Call @ 85.7\n",
      "DatetTime 2021-05-11 12:05:00, Spot:14885.9, atm:14900 ITM CE:14850--> Buying Call @ 94.25\n",
      "In CE 14850 position and no Cover triggered\n",
      "In CE 14850 position and no Cover triggered\n",
      "In CE 14850 position and no Cover triggered\n",
      "In CE 14850 position and no Cover triggered\n",
      "DatetTime 2021-05-11 12:30:00, Spot:14886.5, atm:14900 ITM CE:14850--> Covering Call @ 93.55\n",
      "DatetTime 2021-05-11 12:40:00, Spot:14877.6, atm:14900 ITM PE:14950--> Buying Put @ 107.15\n",
      "In PE 14950 position and no Cover triggered\n",
      "In PE 14950 position and no Cover triggered\n",
      "In PE 14950 position and no Cover triggered\n",
      "In PE 14950 position and no Cover triggered\n",
      "In PE 14950 position and no Cover triggered\n",
      "In PE 14950 position and no Cover triggered\n",
      "In PE 14950 position and no Cover triggered\n",
      "In PE 14950 position and no Cover triggered\n",
      "In PE 14950 position and no Cover triggered\n",
      "In PE 14950 position and no Cover triggered\n",
      "In PE 14950 position and no Cover triggered\n",
      "In PE 14950 position and no Cover triggered\n",
      "In PE 14950 position and no Cover triggered\n",
      "DatetTime 2021-05-11 13:50:00, Spot:14830.5, atm:14850 ITM PE:14950--> Covering PE @ 143.95\n",
      "DatetTime 2021-05-12 11:10:00, Spot:14712.3, atm:14700 ITM PE:14750--> Buying Put @ 61.15\n",
      "In PE 14750 position and no Cover triggered\n",
      "In PE 14750 position and no Cover triggered\n",
      "In PE 14750 position and no Cover triggered\n",
      "DatetTime 2021-05-12 11:30:00, Spot:14724.8, atm:14700 ITM PE:14750--> Covering PE @ 52.15\n",
      "DatetTime 2021-05-12 12:20:00, Spot:14756.3, atm:14750 ITM CE:14700--> Buying Call @ 64.1\n",
      "In CE 14700 position and no Cover triggered\n",
      "In CE 14700 position and no Cover triggered\n",
      "In CE 14700 position and no Cover triggered\n",
      "DatetTime 2021-05-12 12:40:00, Spot:14751.3, atm:14750 ITM CE:14700--> Covering Call @ 61.3\n",
      "DatetTime 2021-05-12 13:05:00, Spot:14772.5, atm:14750 ITM CE:14700--> Buying Call @ 75.95\n",
      "In CE 14700 position and no Cover triggered\n",
      "In CE 14700 position and no Cover triggered\n",
      "DatetTime 2021-05-12 13:20:00, Spot:14770.7, atm:14750 ITM CE:14700--> Covering Call @ 75.0\n",
      "DatetTime 2021-05-12 13:30:00, Spot:14765.0, atm:14750 ITM PE:14800--> Buying Put @ 50.5\n",
      "In PE 14800 position and no Cover triggered\n",
      "In PE 14800 position and no Cover triggered\n",
      "In PE 14800 position and no Cover triggered\n",
      "DatetTime 2021-05-12 13:50:00, Spot:14746.9, atm:14750 ITM PE:14800--> Covering PE @ 63.5\n",
      "DatetTime 2021-05-12 14:35:00, Spot:14733.6, atm:14750 ITM PE:14800--> Buying Put @ 72.9\n",
      "In PE 14800 position and no Cover triggered\n",
      "In PE 14800 position and no Cover triggered\n",
      "In PE 14800 position and no Cover triggered\n",
      "In PE 14800 position and no Cover triggered\n",
      "DatetTime 2021-05-12 15:00:00, Spot:14710.3, atm:14700 ITM PE:14800--> Covering PE @ 95.5\n",
      "BackTesting from history file: importdatafiles/07_13_Jan_22_WEEKLY_expiry_data_VEGE_NF_AND_BNF_Options_Desktop.csv\n",
      "DatetTime 2022-01-07 11:10:00, Spot:17825.0, atm:17800 ITM PE:17850--> Buying Put @ 148.2\n",
      "In PE 17850 position and no Cover triggered\n",
      "In PE 17850 position and no Cover triggered\n",
      "In PE 17850 position and no Cover triggered\n",
      "In PE 17850 position and no Cover triggered\n",
      "In PE 17850 position and no Cover triggered\n",
      "In PE 17850 position and no Cover triggered\n",
      "In PE 17850 position and no Cover triggered\n",
      "In PE 17850 position and no Cover triggered\n",
      "In PE 17850 position and no Cover triggered\n",
      "In PE 17850 position and no Cover triggered\n",
      "In PE 17850 position and no Cover triggered\n",
      "In PE 17850 position and no Cover triggered\n",
      "In PE 17850 position and no Cover triggered\n",
      "In PE 17850 position and no Cover triggered\n",
      "In PE 17850 position and no Cover triggered\n",
      "In PE 17850 position and no Cover triggered\n",
      "In PE 17850 position and no Cover triggered\n",
      "In PE 17850 position and no Cover triggered\n",
      "In PE 17850 position and no Cover triggered\n",
      "In PE 17850 position and no Cover triggered\n",
      "DatetTime 2022-01-07 12:55:00, Spot:17760.1, atm:17750 ITM PE:17850--> Covering PE @ 185.05\n",
      "DatetTime 2022-01-07 14:10:00, Spot:17749.8, atm:17750 ITM PE:17800--> Buying Put @ 166.85\n",
      "In PE 17800 position and no Cover triggered\n",
      "In PE 17800 position and no Cover triggered\n",
      "DatetTime 2022-01-07 14:25:00, Spot:17770.5, atm:17750 ITM PE:17800--> Covering PE @ 148.7\n",
      "DatetTime 2022-01-10 11:40:00, Spot:17936.5, atm:17950 ITM PE:18000--> Buying Put @ 146.0\n",
      "In PE 18000 position and no Cover triggered\n",
      "In PE 18000 position and no Cover triggered\n",
      "In PE 18000 position and no Cover triggered\n",
      "DatetTime 2022-01-10 12:00:00, Spot:17927.8, atm:17950 ITM PE:18000--> Covering PE @ 147.8\n",
      "DatetTime 2022-01-10 12:30:00, Spot:17950.3, atm:17950 ITM CE:17900--> Buying Call @ 144.6\n",
      "In CE 17900 position and no Cover triggered\n",
      "In CE 17900 position and no Cover triggered\n",
      "In CE 17900 position and no Cover triggered\n",
      "In CE 17900 position and no Cover triggered\n",
      "In CE 17900 position and no Cover triggered\n",
      "In CE 17900 position and no Cover triggered\n",
      "In CE 17900 position and no Cover triggered\n",
      "In CE 17900 position and no Cover triggered\n",
      "In CE 17900 position and no Cover triggered\n",
      "In CE 17900 position and no Cover triggered\n",
      "In CE 17900 position and no Cover triggered\n",
      "In CE 17900 position and no Cover triggered\n",
      "In CE 17900 position and no Cover triggered\n",
      "In CE 17900 position and no Cover triggered\n",
      "In CE 17900 position and no Cover triggered\n",
      "DatetTime 2022-01-10 13:50:00, Spot:17960.3, atm:17950 ITM CE:17900--> Covering Call @ 147.1\n",
      "DatetTime 2022-01-10 14:25:00, Spot:17976.3, atm:18000 ITM CE:17950--> Buying Call @ 127.65\n",
      "In CE 17950 position and no Cover triggered\n",
      "In CE 17950 position and no Cover triggered\n",
      "In CE 17950 position and no Cover triggered\n",
      "In CE 17950 position and no Cover triggered\n",
      "In CE 17950 position and no Cover triggered\n",
      "In CE 17950 position and no Cover triggered\n",
      "DatetTime 2022-01-10 15:00:00, Spot:18001.0, atm:18000 ITM CE:17950--> Covering Call @ 143.8\n",
      "DatetTime 2022-01-11 11:00:00, Spot:18035.5, atm:18050 ITM CE:18000--> Buying Call @ 122.85\n",
      "In CE 18000 position and no Cover triggered\n",
      "In CE 18000 position and no Cover triggered\n",
      "In CE 18000 position and no Cover triggered\n",
      "In CE 18000 position and no Cover triggered\n",
      "In CE 18000 position and no Cover triggered\n",
      "In CE 18000 position and no Cover triggered\n",
      "In CE 18000 position and no Cover triggered\n",
      "DatetTime 2022-01-11 11:40:00, Spot:18040.0, atm:18050 ITM CE:18000--> Covering Call @ 123.2\n",
      "DatetTime 2022-01-11 12:55:00, Spot:18045.6, atm:18050 ITM CE:18000--> Buying Call @ 128.45\n",
      "In CE 18000 position and no Cover triggered\n",
      "In CE 18000 position and no Cover triggered\n",
      "In CE 18000 position and no Cover triggered\n",
      "In CE 18000 position and no Cover triggered\n",
      "In CE 18000 position and no Cover triggered\n",
      "In CE 18000 position and no Cover triggered\n",
      "In CE 18000 position and no Cover triggered\n",
      "In CE 18000 position and no Cover triggered\n",
      "DatetTime 2022-01-11 13:40:00, Spot:18069.2, atm:18050 ITM CE:18000--> Covering Call @ 135.75\n",
      "DatetTime 2022-01-11 14:10:00, Spot:18065.5, atm:18050 ITM CE:18000--> Buying Call @ 136.2\n",
      "In CE 18000 position and no Cover triggered\n",
      "In CE 18000 position and no Cover triggered\n",
      "In CE 18000 position and no Cover triggered\n",
      "DatetTime 2022-01-11 14:30:00, Spot:18039.0, atm:18050 ITM CE:18000--> Covering Call @ 119.7\n",
      "DatetTime 2022-01-11 14:30:00, Spot:18039.0, atm:18050 ITM PE:18100--> Buying Put @ 120.15\n",
      "In PE 18100 position and no Cover triggered\n",
      "In PE 18100 position and no Cover triggered\n",
      "DatetTime 2022-01-11 14:45:00, Spot:18034.0, atm:18050 ITM PE:18100--> Covering PE @ 120.85\n",
      "DatetTime 2022-01-12 11:00:00, Spot:18194.3, atm:18200 ITM CE:18150--> Buying Call @ 86.75\n",
      "In CE 18150 position and no Cover triggered\n",
      "In CE 18150 position and no Cover triggered\n",
      "In CE 18150 position and no Cover triggered\n",
      "In CE 18150 position and no Cover triggered\n",
      "In CE 18150 position and no Cover triggered\n",
      "In CE 18150 position and no Cover triggered\n",
      "In CE 18150 position and no Cover triggered\n",
      "In CE 18150 position and no Cover triggered\n",
      "In CE 18150 position and no Cover triggered\n",
      "In CE 18150 position and no Cover triggered\n",
      "DatetTime 2022-01-12 11:55:00, Spot:18196.0, atm:18200 ITM CE:18150--> Covering Call @ 97.7\n",
      "DatetTime 2022-01-12 13:15:00, Spot:18167.4, atm:18150 ITM PE:18200--> Buying Put @ 76.3\n",
      "In PE 18200 position and no Cover triggered\n",
      "In PE 18200 position and no Cover triggered\n",
      "DatetTime 2022-01-12 13:30:00, Spot:18188.3, atm:18200 ITM PE:18200--> Covering PE @ 66.55\n",
      "DatetTime 2022-01-12 14:35:00, Spot:18195.5, atm:18200 ITM CE:18150--> Buying Call @ 88.7\n",
      "In CE 18150 position and no Cover triggered\n",
      "In CE 18150 position and no Cover triggered\n",
      "In CE 18150 position and no Cover triggered\n",
      "In CE 18150 position and no Cover triggered\n",
      "DatetTime 2022-01-12 15:00:00, Spot:18227.7, atm:18250 ITM CE:18150--> Covering Call @ 105.3\n",
      "DatetTime 2022-01-13 11:40:00, Spot:18232.8, atm:18250 ITM CE:18200--> Buying Call @ 48.7\n",
      "In CE 18200 position and no Cover triggered\n",
      "In CE 18200 position and no Cover triggered\n",
      "In CE 18200 position and no Cover triggered\n",
      "In CE 18200 position and no Cover triggered\n",
      "In CE 18200 position and no Cover triggered\n",
      "In CE 18200 position and no Cover triggered\n",
      "In CE 18200 position and no Cover triggered\n",
      "DatetTime 2022-01-13 12:20:00, Spot:18236.6, atm:18250 ITM CE:18200--> Covering Call @ 51.05\n",
      "DatetTime 2022-01-13 12:40:00, Spot:18228.0, atm:18250 ITM PE:18300--> Buying Put @ 78.05\n",
      "In PE 18300 position and no Cover triggered\n",
      "In PE 18300 position and no Cover triggered\n",
      "In PE 18300 position and no Cover triggered\n",
      "In PE 18300 position and no Cover triggered\n",
      "In PE 18300 position and no Cover triggered\n",
      "In PE 18300 position and no Cover triggered\n",
      "In PE 18300 position and no Cover triggered\n",
      "In PE 18300 position and no Cover triggered\n",
      "In PE 18300 position and no Cover triggered\n",
      "DatetTime 2022-01-13 13:30:00, Spot:18215.1, atm:18200 ITM PE:18300--> Covering PE @ 88.9\n",
      "DatetTime 2022-01-13 13:50:00, Spot:18234.0, atm:18250 ITM CE:18200--> Buying Call @ 41.95\n",
      "In CE 18200 position and no Cover triggered\n",
      "In CE 18200 position and no Cover triggered\n",
      "In CE 18200 position and no Cover triggered\n",
      "DatetTime 2022-01-13 14:10:00, Spot:18217.4, atm:18200 ITM CE:18200--> Covering Call @ 29.85\n",
      "DatetTime 2022-01-13 14:30:00, Spot:18220.0, atm:18200 ITM PE:18250--> Buying Put @ 33.6\n",
      "In PE 18250 position and no Cover triggered\n",
      "DatetTime 2022-01-13 14:40:00, Spot:18220.6, atm:18200 ITM PE:18250--> Covering PE @ 32.1\n",
      "BackTesting from history file: importdatafiles/08-14--OCT-2021-WEEKLY-expiry_data__VEGE_NF_AND_BNF_Options.csv\n",
      "DatetTime 2021-10-08 12:10:00, Spot:17864.8, atm:17850 ITM PE:17900--> Buying Put @ 129.0\n",
      "In PE 17900 position and no Cover triggered\n",
      "In PE 17900 position and no Cover triggered\n",
      "In PE 17900 position and no Cover triggered\n",
      "DatetTime 2021-10-08 12:30:00, Spot:17862.0, atm:17850 ITM PE:17900--> Covering PE @ 129.85\n",
      "DatetTime 2021-10-08 14:10:00, Spot:17918.3, atm:17900 ITM CE:17850--> Buying Call @ 147.7\n",
      "In CE 17850 position and no Cover triggered\n",
      "In CE 17850 position and no Cover triggered\n",
      "In CE 17850 position and no Cover triggered\n",
      "In CE 17850 position and no Cover triggered\n",
      "In CE 17850 position and no Cover triggered\n",
      "In CE 17850 position and no Cover triggered\n",
      "In CE 17850 position and no Cover triggered\n",
      "In CE 17850 position and no Cover triggered\n",
      "In CE 17850 position and no Cover triggered\n",
      "DatetTime 2021-10-08 15:00:00, Spot:17900.0, atm:17900 ITM CE:17850--> Covering Call @ 137.4\n",
      "DatetTime 2021-10-11 11:00:00, Spot:17988.1, atm:18000 ITM CE:17950--> Buying Call @ 120.0\n",
      "In CE 17950 position and no Cover triggered\n",
      "In CE 17950 position and no Cover triggered\n",
      "In CE 17950 position and no Cover triggered\n",
      "In CE 17950 position and no Cover triggered\n",
      "In CE 17950 position and no Cover triggered\n",
      "In CE 17950 position and no Cover triggered\n",
      "In CE 17950 position and no Cover triggered\n",
      "In CE 17950 position and no Cover triggered\n",
      "DatetTime 2021-10-11 11:45:00, Spot:18005.9, atm:18000 ITM CE:17950--> Covering Call @ 133.4\n",
      "DatetTime 2021-10-11 12:30:00, Spot:18005.5, atm:18000 ITM CE:17950--> Buying Call @ 134.2\n",
      "In CE 17950 position and no Cover triggered\n",
      "In CE 17950 position and no Cover triggered\n",
      "In CE 17950 position and no Cover triggered\n",
      "In CE 17950 position and no Cover triggered\n",
      "In CE 17950 position and no Cover triggered\n",
      "In CE 17950 position and no Cover triggered\n",
      "In CE 17950 position and no Cover triggered\n",
      "DatetTime 2021-10-11 13:10:00, Spot:18014.0, atm:18000 ITM CE:17950--> Covering Call @ 136.1\n",
      "DatetTime 2021-10-11 13:30:00, Spot:18032.1, atm:18050 ITM CE:18000--> Buying Call @ 117.3\n",
      "In CE 18000 position and no Cover triggered\n",
      "In CE 18000 position and no Cover triggered\n",
      "In CE 18000 position and no Cover triggered\n",
      "DatetTime 2021-10-11 13:50:00, Spot:18009.8, atm:18000 ITM CE:18000--> Covering Call @ 108.25\n",
      "DatetTime 2021-10-11 13:50:00, Spot:18009.8, atm:18000 ITM PE:18050--> Buying Put @ 111.0\n",
      "In PE 18050 position and no Cover triggered\n",
      "DatetTime 2021-10-11 14:00:00, Spot:18007.5, atm:18000 ITM PE:18050--> Covering PE @ 112.75\n",
      "DatetTime 2021-10-11 14:40:00, Spot:17982.8, atm:18000 ITM PE:18050--> Buying Put @ 121.45\n",
      "In PE 18050 position and no Cover triggered\n",
      "In PE 18050 position and no Cover triggered\n",
      "In PE 18050 position and no Cover triggered\n",
      "DatetTime 2021-10-11 15:00:00, Spot:17961.1, atm:17950 ITM PE:18050--> Covering PE @ 134.7\n",
      "DatetTime 2021-10-12 11:30:00, Spot:17898.8, atm:17900 ITM PE:17950--> Buying Put @ 122.45\n",
      "In PE 17950 position and no Cover triggered\n",
      "In PE 17950 position and no Cover triggered\n",
      "In PE 17950 position and no Cover triggered\n",
      "In PE 17950 position and no Cover triggered\n",
      "In PE 17950 position and no Cover triggered\n",
      "In PE 17950 position and no Cover triggered\n",
      "DatetTime 2021-10-12 12:05:00, Spot:17908.7, atm:17900 ITM PE:17950--> Covering PE @ 114.5\n",
      "DatetTime 2021-10-12 12:40:00, Spot:17927.0, atm:17950 ITM CE:17900--> Buying Call @ 102.25\n",
      "In CE 17900 position and no Cover triggered\n",
      "DatetTime 2021-10-12 12:50:00, Spot:17928.3, atm:17950 ITM CE:17900--> Covering Call @ 100.35\n",
      "DatetTime 2021-10-12 13:10:00, Spot:17936.0, atm:17950 ITM CE:17900--> Buying Call @ 102.7\n",
      "In CE 17900 position and no Cover triggered\n",
      "In CE 17900 position and no Cover triggered\n",
      "In CE 17900 position and no Cover triggered\n",
      "DatetTime 2021-10-12 13:30:00, Spot:17907.7, atm:17900 ITM CE:17900--> Covering Call @ 90.85\n",
      "DatetTime 2021-10-12 14:00:00, Spot:17947.7, atm:17950 ITM CE:17900--> Buying Call @ 111.95\n",
      "In CE 17900 position and no Cover triggered\n",
      "In CE 17900 position and no Cover triggered\n",
      "In CE 17900 position and no Cover triggered\n",
      "In CE 17900 position and no Cover triggered\n",
      "In CE 17900 position and no Cover triggered\n",
      "DatetTime 2021-10-12 14:30:00, Spot:17962.1, atm:17950 ITM CE:17900--> Covering Call @ 119.7\n",
      "DatetTime 2021-10-13 11:00:00, Spot:18138.1, atm:18150 ITM CE:18100--> Buying Call @ 83.9\n",
      "In CE 18100 position and no Cover triggered\n",
      "In CE 18100 position and no Cover triggered\n",
      "In CE 18100 position and no Cover triggered\n",
      "In CE 18100 position and no Cover triggered\n",
      "In CE 18100 position and no Cover triggered\n",
      "In CE 18100 position and no Cover triggered\n",
      "In CE 18100 position and no Cover triggered\n",
      "In CE 18100 position and no Cover triggered\n",
      "DatetTime 2021-10-13 11:45:00, Spot:18116.2, atm:18100 ITM CE:18100--> Covering Call @ 72.2\n",
      "DatetTime 2021-10-13 13:10:00, Spot:18170.8, atm:18150 ITM CE:18100--> Buying Call @ 105.3\n",
      "In CE 18100 position and no Cover triggered\n",
      "In CE 18100 position and no Cover triggered\n",
      "In CE 18100 position and no Cover triggered\n",
      "In CE 18100 position and no Cover triggered\n",
      "In CE 18100 position and no Cover triggered\n",
      "In CE 18100 position and no Cover triggered\n",
      "In CE 18100 position and no Cover triggered\n",
      "In CE 18100 position and no Cover triggered\n",
      "In CE 18100 position and no Cover triggered\n",
      "DatetTime 2021-10-13 14:00:00, Spot:18177.2, atm:18200 ITM CE:18100--> Covering Call @ 118.5\n",
      "DatetTime 2021-10-14 11:00:00, Spot:18301.8, atm:18300 ITM CE:18250--> Buying Call @ 57.7\n",
      "In CE 18250 position and no Cover triggered\n",
      "In CE 18250 position and no Cover triggered\n",
      "In CE 18250 position and no Cover triggered\n",
      "In CE 18250 position and no Cover triggered\n",
      "In CE 18250 position and no Cover triggered\n",
      "In CE 18250 position and no Cover triggered\n",
      "In CE 18250 position and no Cover triggered\n",
      "In CE 18250 position and no Cover triggered\n",
      "In CE 18250 position and no Cover triggered\n",
      "In CE 18250 position and no Cover triggered\n",
      "In CE 18250 position and no Cover triggered\n",
      "In CE 18250 position and no Cover triggered\n",
      "In CE 18250 position and no Cover triggered\n",
      "In CE 18250 position and no Cover triggered\n",
      "DatetTime 2021-10-14 12:15:00, Spot:18301.0, atm:18300 ITM CE:18250--> Covering Call @ 57.0\n",
      "DatetTime 2021-10-14 13:00:00, Spot:18275.0, atm:18300 ITM PE:18350--> Buying Put @ 80.95\n",
      "In PE 18350 position and no Cover triggered\n",
      "DatetTime 2021-10-14 13:10:00, Spot:18284.1, atm:18300 ITM PE:18350--> Covering PE @ 69.7\n",
      "DatetTime 2021-10-14 13:25:00, Spot:18262.0, atm:18250 ITM PE:18300--> Buying Put @ 44.7\n",
      "DatetTime 2021-10-14 13:30:00, Spot:18268.5, atm:18250 ITM PE:18300--> Covering PE @ 41.35\n",
      "DatetTime 2021-10-14 13:40:00, Spot:18297.7, atm:18300 ITM CE:18250--> Buying Call @ 55.15\n",
      "In CE 18250 position and no Cover triggered\n",
      "In CE 18250 position and no Cover triggered\n",
      "DatetTime 2021-10-14 13:55:00, Spot:18294.8, atm:18300 ITM CE:18250--> Covering Call @ 48.25\n",
      "DatetTime 2021-10-14 14:00:00, Spot:18316.2, atm:18300 ITM CE:18250--> Buying Call @ 62.05\n",
      "In CE 18250 position and no Cover triggered\n",
      "In CE 18250 position and no Cover triggered\n",
      "In CE 18250 position and no Cover triggered\n",
      "In CE 18250 position and no Cover triggered\n",
      "DatetTime 2021-10-14 14:25:00, Spot:18305.5, atm:18300 ITM CE:18250--> Covering Call @ 54.8\n",
      "DatetTime 2021-10-14 14:45:00, Spot:18320.8, atm:18300 ITM CE:18250--> Buying Call @ 65.0\n",
      "In CE 18250 position and no Cover triggered\n",
      "In CE 18250 position and no Cover triggered\n",
      "DatetTime 2021-10-14 15:00:00, Spot:18336.4, atm:18350 ITM CE:18250--> Covering Call @ 81.75\n",
      "BackTesting from history file: importdatafiles/08-14-JAN- -ExpiryWEEK-data_2021.csv\n",
      "DatetTime 2021-01-08 13:30:00, Spot:14281.8, atm:14300 ITM PE:14350--> Buying Put @ 145.05\n",
      "In PE 14350 position and no Cover triggered\n",
      "DatetTime 2021-01-08 13:40:00, Spot:14273.1, atm:14250 ITM PE:14350--> Covering PE @ 146.55\n",
      "DatetTime 2021-01-08 14:30:00, Spot:14291.0, atm:14300 ITM CE:14250--> Buying Call @ 134.3\n",
      "In CE 14250 position and no Cover triggered\n",
      "In CE 14250 position and no Cover triggered\n",
      "In CE 14250 position and no Cover triggered\n",
      "In CE 14250 position and no Cover triggered\n",
      "In CE 14250 position and no Cover triggered\n",
      "DatetTime 2021-01-08 15:00:00, Spot:14336.3, atm:14350 ITM CE:14250--> Covering Call @ 161.85\n",
      "DatetTime 2021-01-11 11:50:00, Spot:14398.8, atm:14400 ITM PE:14450--> Buying Put @ 137.4\n",
      "In PE 14450 position and no Cover triggered\n",
      "DatetTime 2021-01-11 12:00:00, Spot:14426.1, atm:14450 ITM CE:14400--> Buying Call @ 117.8\n",
      "DatetTime 2021-01-11 12:00:00, Spot:14426.1, atm:14450 ITM PE:14450--> Covering PE @ 121.8\n",
      "In CE 14400 position and no Cover triggered\n",
      "In CE 14400 position and no Cover triggered\n",
      "In CE 14400 position and no Cover triggered\n",
      "In CE 14400 position and no Cover triggered\n",
      "In CE 14400 position and no Cover triggered\n",
      "In CE 14400 position and no Cover triggered\n",
      "In CE 14400 position and no Cover triggered\n",
      "In CE 14400 position and no Cover triggered\n",
      "In CE 14400 position and no Cover triggered\n",
      "In CE 14400 position and no Cover triggered\n",
      "DatetTime 2021-01-11 12:55:00, Spot:14435.6, atm:14450 ITM CE:14400--> Covering Call @ 116.4\n",
      "DatetTime 2021-01-11 13:15:00, Spot:14443.2, atm:14450 ITM CE:14400--> Buying Call @ 119.85\n",
      "In CE 14400 position and no Cover triggered\n",
      "In CE 14400 position and no Cover triggered\n",
      "In CE 14400 position and no Cover triggered\n",
      "In CE 14400 position and no Cover triggered\n",
      "In CE 14400 position and no Cover triggered\n",
      "In CE 14400 position and no Cover triggered\n",
      "DatetTime 2021-01-11 13:50:00, Spot:14449.3, atm:14450 ITM CE:14400--> Covering Call @ 120.15\n",
      "DatetTime 2021-01-11 14:30:00, Spot:14469.0, atm:14450 ITM CE:14400--> Buying Call @ 128.5\n",
      "In CE 14400 position and no Cover triggered\n",
      "In CE 14400 position and no Cover triggered\n",
      "In CE 14400 position and no Cover triggered\n",
      "In CE 14400 position and no Cover triggered\n",
      "In CE 14400 position and no Cover triggered\n",
      "DatetTime 2021-01-11 15:00:00, Spot:14480.0, atm:14500 ITM CE:14400--> Covering Call @ 130.05\n",
      "DatetTime 2021-01-12 11:10:00, Spot:14494.2, atm:14500 ITM CE:14450--> Buying Call @ 105.45\n",
      "In CE 14450 position and no Cover triggered\n",
      "In CE 14450 position and no Cover triggered\n",
      "In CE 14450 position and no Cover triggered\n",
      "DatetTime 2021-01-12 11:30:00, Spot:14490.8, atm:14500 ITM CE:14450--> Covering Call @ 107.8\n",
      "DatetTime 2021-01-12 12:00:00, Spot:14517.5, atm:14500 ITM CE:14450--> Buying Call @ 122.65\n",
      "In CE 14450 position and no Cover triggered\n",
      "In CE 14450 position and no Cover triggered\n",
      "In CE 14450 position and no Cover triggered\n",
      "In CE 14450 position and no Cover triggered\n",
      "In CE 14450 position and no Cover triggered\n",
      "In CE 14450 position and no Cover triggered\n",
      "In CE 14450 position and no Cover triggered\n",
      "In CE 14450 position and no Cover triggered\n",
      "In CE 14450 position and no Cover triggered\n",
      "In CE 14450 position and no Cover triggered\n",
      "In CE 14450 position and no Cover triggered\n",
      "In CE 14450 position and no Cover triggered\n",
      "In CE 14450 position and no Cover triggered\n",
      "In CE 14450 position and no Cover triggered\n",
      "In CE 14450 position and no Cover triggered\n",
      "In CE 14450 position and no Cover triggered\n",
      "In CE 14450 position and no Cover triggered\n",
      "In CE 14450 position and no Cover triggered\n",
      "In CE 14450 position and no Cover triggered\n",
      "In CE 14450 position and no Cover triggered\n",
      "DatetTime 2021-01-12 13:45:00, Spot:14549.3, atm:14550 ITM CE:14450--> Covering Call @ 151.2\n",
      "DatetTime 2021-01-13 11:20:00, Spot:14575.5, atm:14600 ITM PE:14650--> Buying Put @ 107.55\n",
      "In PE 14650 position and no Cover triggered\n",
      "In PE 14650 position and no Cover triggered\n",
      "In PE 14650 position and no Cover triggered\n",
      "In PE 14650 position and no Cover triggered\n",
      "In PE 14650 position and no Cover triggered\n",
      "In PE 14650 position and no Cover triggered\n",
      "In PE 14650 position and no Cover triggered\n",
      "In PE 14650 position and no Cover triggered\n",
      "In PE 14650 position and no Cover triggered\n",
      "DatetTime 2021-01-13 12:10:00, Spot:14560.2, atm:14550 ITM PE:14650--> Covering PE @ 113.15\n",
      "DatetTime 2021-01-13 13:30:00, Spot:14538.8, atm:14550 ITM PE:14600--> Buying Put @ 100.05\n",
      "In PE 14600 position and no Cover triggered\n",
      "In PE 14600 position and no Cover triggered\n",
      "In PE 14600 position and no Cover triggered\n",
      "In PE 14600 position and no Cover triggered\n",
      "In PE 14600 position and no Cover triggered\n",
      "In PE 14600 position and no Cover triggered\n",
      "In PE 14600 position and no Cover triggered\n",
      "DatetTime 2021-01-13 14:10:00, Spot:14505.9, atm:14500 ITM PE:14600--> Covering PE @ 116.45\n",
      "DatetTime 2021-01-13 14:40:00, Spot:14523.0, atm:14500 ITM CE:14450--> Buying Call @ 113.85\n",
      "In CE 14450 position and no Cover triggered\n",
      "In CE 14450 position and no Cover triggered\n",
      "In CE 14450 position and no Cover triggered\n",
      "DatetTime 2021-01-13 15:00:00, Spot:14577.1, atm:14600 ITM CE:14450--> Covering Call @ 152.6\n",
      "DatetTime 2021-01-14 11:00:00, Spot:14552.9, atm:14550 ITM CE:14500--> Buying Call @ 61.6\n",
      "In CE 14500 position and no Cover triggered\n",
      "In CE 14500 position and no Cover triggered\n",
      "In CE 14500 position and no Cover triggered\n",
      "In CE 14500 position and no Cover triggered\n",
      "In CE 14500 position and no Cover triggered\n",
      "In CE 14500 position and no Cover triggered\n",
      "In CE 14500 position and no Cover triggered\n",
      "In CE 14500 position and no Cover triggered\n",
      "DatetTime 2021-01-14 11:45:00, Spot:14562.5, atm:14550 ITM CE:14500--> Covering Call @ 73.0\n",
      "DatetTime 2021-01-14 12:20:00, Spot:14580.1, atm:14600 ITM CE:14550--> Buying Call @ 41.75\n",
      "In CE 14550 position and no Cover triggered\n",
      "In CE 14550 position and no Cover triggered\n",
      "In CE 14550 position and no Cover triggered\n",
      "In CE 14550 position and no Cover triggered\n",
      "DatetTime 2021-01-14 12:45:00, Spot:14582.2, atm:14600 ITM CE:14550--> Covering Call @ 41.4\n",
      "DatetTime 2021-01-14 13:30:00, Spot:14571.9, atm:14550 ITM CE:14500--> Buying Call @ 73.35\n",
      "In CE 14500 position and no Cover triggered\n",
      "In CE 14500 position and no Cover triggered\n",
      "In CE 14500 position and no Cover triggered\n",
      "In CE 14500 position and no Cover triggered\n",
      "In CE 14500 position and no Cover triggered\n",
      "In CE 14500 position and no Cover triggered\n",
      "In CE 14500 position and no Cover triggered\n",
      "In CE 14500 position and no Cover triggered\n",
      "In CE 14500 position and no Cover triggered\n",
      "In CE 14500 position and no Cover triggered\n",
      "In CE 14500 position and no Cover triggered\n",
      "In CE 14500 position and no Cover triggered\n",
      "In CE 14500 position and no Cover triggered\n",
      "DatetTime 2021-01-14 14:40:00, Spot:14580.5, atm:14600 ITM CE:14500--> Covering Call @ 79.6\n",
      "DatetTime 2021-01-14 14:50:00, Spot:14590.1, atm:14600 ITM PE:14650--> Buying Put @ 66.1\n",
      "In PE 14650 position and no Cover triggered\n",
      "DatetTime 2021-01-14 15:00:00, Spot:14597.8, atm:14600 ITM PE:14650--> Covering PE @ 56.3\n",
      "BackTesting from history file: importdatafiles/09-15-JULY- -W-ExpiryWEEKdata_2021_NF_BNF_options_vege.csv\n",
      "DatetTime 2021-07-09 11:10:00, Spot:15680.7, atm:15700 ITM PE:15750--> Buying Put @ 125.95\n",
      "In PE 15750 position and no Cover triggered\n",
      "In PE 15750 position and no Cover triggered\n",
      "In PE 15750 position and no Cover triggered\n",
      "In PE 15750 position and no Cover triggered\n",
      "In PE 15750 position and no Cover triggered\n",
      "DatetTime 2021-07-09 11:40:00, Spot:15673.9, atm:15650 ITM PE:15750--> Covering PE @ 126.65\n",
      "DatetTime 2021-07-09 12:20:00, Spot:15662.9, atm:15650 ITM PE:15700--> Buying Put @ 108.9\n",
      "In PE 15700 position and no Cover triggered\n",
      "DatetTime 2021-07-09 12:30:00, Spot:15675.1, atm:15700 ITM PE:15700--> Covering PE @ 97.9\n",
      "DatetTime 2021-07-09 12:40:00, Spot:15676.1, atm:15700 ITM CE:15650--> Buying Call @ 116.35\n",
      "In CE 15650 position and no Cover triggered\n",
      "DatetTime 2021-07-09 12:50:00, Spot:15695.4, atm:15700 ITM CE:15650--> Covering Call @ 128.9\n",
      "DatetTime 2021-07-09 13:50:00, Spot:15686.0, atm:15700 ITM CE:15650--> Buying Call @ 125.2\n",
      "In CE 15650 position and no Cover triggered\n",
      "In CE 15650 position and no Cover triggered\n",
      "In CE 15650 position and no Cover triggered\n",
      "In CE 15650 position and no Cover triggered\n",
      "In CE 15650 position and no Cover triggered\n",
      "In CE 15650 position and no Cover triggered\n",
      "In CE 15650 position and no Cover triggered\n",
      "DatetTime 2021-07-09 14:30:00, Spot:15659.7, atm:15650 ITM CE:15650--> Covering Call @ 108.6\n",
      "DatetTime 2021-07-09 14:30:00, Spot:15659.7, atm:15650 ITM PE:15700--> Buying Put @ 102.3\n",
      "In PE 15700 position and no Cover triggered\n",
      "DatetTime 2021-07-09 14:40:00, Spot:15688.3, atm:15700 ITM CE:15650--> Buying Call @ 123.8\n",
      "DatetTime 2021-07-09 14:40:00, Spot:15688.3, atm:15700 ITM PE:15700--> Covering PE @ 83.25\n",
      "In CE 15650 position and no Cover triggered\n",
      "In CE 15650 position and no Cover triggered\n",
      "In CE 15650 position and no Cover triggered\n",
      "DatetTime 2021-07-09 15:00:00, Spot:15690.5, atm:15700 ITM CE:15650--> Covering Call @ 125.0\n",
      "DatetTime 2021-07-12 13:00:00, Spot:15761.6, atm:15750 ITM PE:15800--> Buying Put @ 84.9\n",
      "In PE 15800 position and no Cover triggered\n",
      "In PE 15800 position and no Cover triggered\n",
      "In PE 15800 position and no Cover triggered\n",
      "In PE 15800 position and no Cover triggered\n",
      "DatetTime 2021-07-12 13:25:00, Spot:15707.1, atm:15700 ITM PE:15800--> Covering PE @ 129.9\n",
      "DatetTime 2021-07-12 14:20:00, Spot:15684.7, atm:15700 ITM PE:15750--> Buying Put @ 111.0\n",
      "In PE 15750 position and no Cover triggered\n",
      "In PE 15750 position and no Cover triggered\n",
      "In PE 15750 position and no Cover triggered\n",
      "In PE 15750 position and no Cover triggered\n",
      "In PE 15750 position and no Cover triggered\n",
      "In PE 15750 position and no Cover triggered\n",
      "DatetTime 2021-07-12 14:55:00, Spot:15684.8, atm:15700 ITM PE:15750--> Covering PE @ 104.5\n",
      "DatetTime 2021-07-13 11:10:00, Spot:15764.8, atm:15750 ITM CE:15700--> Buying Call @ 99.0\n",
      "In CE 15700 position and no Cover triggered\n",
      "In CE 15700 position and no Cover triggered\n",
      "In CE 15700 position and no Cover triggered\n",
      "In CE 15700 position and no Cover triggered\n",
      "In CE 15700 position and no Cover triggered\n",
      "In CE 15700 position and no Cover triggered\n",
      "In CE 15700 position and no Cover triggered\n",
      "In CE 15700 position and no Cover triggered\n",
      "In CE 15700 position and no Cover triggered\n",
      "In CE 15700 position and no Cover triggered\n",
      "In CE 15700 position and no Cover triggered\n",
      "In CE 15700 position and no Cover triggered\n",
      "DatetTime 2021-07-13 12:15:00, Spot:15787.0, atm:15800 ITM CE:15700--> Covering Call @ 117.0\n",
      "DatetTime 2021-07-13 12:50:00, Spot:15790.0, atm:15800 ITM CE:15750--> Buying Call @ 85.0\n",
      "In CE 15750 position and no Cover triggered\n",
      "In CE 15750 position and no Cover triggered\n",
      "In CE 15750 position and no Cover triggered\n",
      "In CE 15750 position and no Cover triggered\n",
      "In CE 15750 position and no Cover triggered\n",
      "DatetTime 2021-07-13 13:20:00, Spot:15789.7, atm:15800 ITM CE:15750--> Covering Call @ 87.0\n",
      "DatetTime 2021-07-14 11:05:00, Spot:15831.8, atm:15850 ITM CE:15800--> Buying Call @ 65.2\n",
      "In CE 15800 position and no Cover triggered\n",
      "In CE 15800 position and no Cover triggered\n",
      "In CE 15800 position and no Cover triggered\n",
      "In CE 15800 position and no Cover triggered\n",
      "In CE 15800 position and no Cover triggered\n",
      "In CE 15800 position and no Cover triggered\n",
      "In CE 15800 position and no Cover triggered\n",
      "In CE 15800 position and no Cover triggered\n",
      "In CE 15800 position and no Cover triggered\n",
      "In CE 15800 position and no Cover triggered\n",
      "In CE 15800 position and no Cover triggered\n",
      "In CE 15800 position and no Cover triggered\n",
      "In CE 15800 position and no Cover triggered\n",
      "In CE 15800 position and no Cover triggered\n",
      "In CE 15800 position and no Cover triggered\n",
      "In CE 15800 position and no Cover triggered\n",
      "In CE 15800 position and no Cover triggered\n",
      "In CE 15800 position and no Cover triggered\n",
      "In CE 15800 position and no Cover triggered\n",
      "In CE 15800 position and no Cover triggered\n",
      "In CE 15800 position and no Cover triggered\n",
      "In CE 15800 position and no Cover triggered\n",
      "In CE 15800 position and no Cover triggered\n",
      "In CE 15800 position and no Cover triggered\n",
      "In CE 15800 position and no Cover triggered\n",
      "In CE 15800 position and no Cover triggered\n",
      "DatetTime 2021-07-14 13:20:00, Spot:15862.0, atm:15850 ITM CE:15800--> Covering Call @ 86.0\n",
      "DatetTime 2021-07-15 11:00:00, Spot:15930.2, atm:15950 ITM CE:15900--> Buying Call @ 46.1\n",
      "In CE 15900 position and no Cover triggered\n",
      "In CE 15900 position and no Cover triggered\n",
      "In CE 15900 position and no Cover triggered\n",
      "In CE 15900 position and no Cover triggered\n",
      "In CE 15900 position and no Cover triggered\n",
      "In CE 15900 position and no Cover triggered\n",
      "In CE 15900 position and no Cover triggered\n",
      "DatetTime 2021-07-15 11:40:00, Spot:15930.5, atm:15950 ITM CE:15900--> Covering Call @ 41.5\n",
      "DatetTime 2021-07-15 12:10:00, Spot:15933.7, atm:15950 ITM CE:15900--> Buying Call @ 43.3\n",
      "In CE 15900 position and no Cover triggered\n",
      "In CE 15900 position and no Cover triggered\n",
      "In CE 15900 position and no Cover triggered\n",
      "In CE 15900 position and no Cover triggered\n",
      "In CE 15900 position and no Cover triggered\n",
      "DatetTime 2021-07-15 12:40:00, Spot:15934.5, atm:15950 ITM CE:15900--> Covering Call @ 45.15\n",
      "DatetTime 2021-07-15 12:50:00, Spot:15915.9, atm:15900 ITM PE:15950--> Buying Put @ 43.95\n",
      "In PE 15950 position and no Cover triggered\n",
      "DatetTime 2021-07-15 13:00:00, Spot:15925.3, atm:15900 ITM PE:15950--> Covering PE @ 38.45\n",
      "DatetTime 2021-07-15 13:50:00, Spot:15950.6, atm:15950 ITM CE:15900--> Buying Call @ 51.85\n",
      "In CE 15900 position and no Cover triggered\n",
      "DatetTime 2021-07-15 14:00:00, Spot:15944.6, atm:15950 ITM CE:15900--> Covering Call @ 45.8\n",
      "DatetTime 2021-07-15 14:05:00, Spot:15943.8, atm:15950 ITM CE:15900--> Buying Call @ 44.4\n",
      "In CE 15900 position and no Cover triggered\n",
      "In CE 15900 position and no Cover triggered\n",
      "In CE 15900 position and no Cover triggered\n",
      "In CE 15900 position and no Cover triggered\n",
      "DatetTime 2021-07-15 14:30:00, Spot:15949.1, atm:15950 ITM CE:15900--> Covering Call @ 48.05\n",
      "DatetTime 2021-07-15 14:40:00, Spot:15939.6, atm:15950 ITM PE:16000--> Buying Put @ 64.8\n",
      "In PE 16000 position and no Cover triggered\n",
      "In PE 16000 position and no Cover triggered\n",
      "In PE 16000 position and no Cover triggered\n",
      "DatetTime 2021-07-15 15:00:00, Spot:15929.5, atm:15950 ITM PE:16000--> Covering PE @ 71.25\n",
      "BackTesting from history file: importdatafiles/09-16-SEP-2021-weekly-expiry_data__VEGE_NF_AND_BNF_Options.csv\n",
      "DatetTime 2021-09-03 11:35:00, Spot:17216.0, atm:17200 ITM PE:17250--> Buying Put @ 123.05\n",
      "In PE 17250 position and no Cover triggered\n",
      "DatetTime 2021-09-03 11:45:00, Spot:17241.0, atm:17250 ITM PE:17250--> Covering PE @ 108.4\n",
      "DatetTime 2021-09-03 11:50:00, Spot:17260.2, atm:17250 ITM CE:17200--> Buying Call @ 145.1\n",
      "In CE 17200 position and no Cover triggered\n",
      "In CE 17200 position and no Cover triggered\n",
      "In CE 17200 position and no Cover triggered\n",
      "In CE 17200 position and no Cover triggered\n",
      "In CE 17200 position and no Cover triggered\n",
      "In CE 17200 position and no Cover triggered\n",
      "In CE 17200 position and no Cover triggered\n",
      "DatetTime 2021-09-03 12:30:00, Spot:17274.3, atm:17250 ITM CE:17200--> Covering Call @ 146.4\n",
      "DatetTime 2021-09-03 12:55:00, Spot:17283.8, atm:17300 ITM CE:17250--> Buying Call @ 120.8\n",
      "In CE 17250 position and no Cover triggered\n",
      "In CE 17250 position and no Cover triggered\n",
      "In CE 17250 position and no Cover triggered\n",
      "In CE 17250 position and no Cover triggered\n",
      "In CE 17250 position and no Cover triggered\n",
      "In CE 17250 position and no Cover triggered\n",
      "In CE 17250 position and no Cover triggered\n",
      "In CE 17250 position and no Cover triggered\n",
      "In CE 17250 position and no Cover triggered\n",
      "In CE 17250 position and no Cover triggered\n",
      "In CE 17250 position and no Cover triggered\n",
      "DatetTime 2021-09-03 13:55:00, Spot:17283.2, atm:17300 ITM CE:17250--> Covering Call @ 125.15\n",
      "DatetTime 2021-09-03 14:00:00, Spot:17242.4, atm:17250 ITM PE:17300--> Buying Put @ 133.3\n",
      "In PE 17300 position and no Cover triggered\n",
      "DatetTime 2021-09-03 14:10:00, Spot:17270.0, atm:17250 ITM PE:17300--> Covering PE @ 120.2\n",
      "DatetTime 2021-09-06 11:30:00, Spot:17354.4, atm:17350 ITM PE:17400--> Buying Put @ 116.15\n",
      "In PE 17400 position and no Cover triggered\n",
      "DatetTime 2021-09-06 11:40:00, Spot:17355.7, atm:17350 ITM PE:17400--> Covering PE @ 116.0\n",
      "DatetTime 2021-09-06 13:00:00, Spot:17385.7, atm:17400 ITM CE:17350--> Buying Call @ 117.65\n",
      "In CE 17350 position and no Cover triggered\n",
      "In CE 17350 position and no Cover triggered\n",
      "In CE 17350 position and no Cover triggered\n",
      "DatetTime 2021-09-06 13:20:00, Spot:17380.5, atm:17400 ITM CE:17350--> Covering Call @ 113.1\n",
      "DatetTime 2021-09-06 13:50:00, Spot:17371.7, atm:17350 ITM PE:17400--> Buying Put @ 102.35\n",
      "In PE 17400 position and no Cover triggered\n",
      "DatetTime 2021-09-06 14:00:00, Spot:17372.9, atm:17350 ITM PE:17400--> Covering PE @ 101.8\n",
      "DatetTime 2021-09-06 14:45:00, Spot:17362.7, atm:17350 ITM PE:17400--> Buying Put @ 104.6\n",
      "DatetTime 2021-09-06 14:50:00, Spot:17376.6, atm:17400 ITM PE:17400--> Covering PE @ 98.1\n",
      "DatetTime 2021-09-07 12:00:00, Spot:17348.0, atm:17350 ITM CE:17300--> Buying Call @ 101.6\n",
      "In CE 17300 position and no Cover triggered\n",
      "In CE 17300 position and no Cover triggered\n",
      "In CE 17300 position and no Cover triggered\n",
      "In CE 17300 position and no Cover triggered\n",
      "In CE 17300 position and no Cover triggered\n",
      "In CE 17300 position and no Cover triggered\n",
      "In CE 17300 position and no Cover triggered\n",
      "In CE 17300 position and no Cover triggered\n",
      "In CE 17300 position and no Cover triggered\n",
      "In CE 17300 position and no Cover triggered\n",
      "In CE 17300 position and no Cover triggered\n",
      "DatetTime 2021-09-07 13:00:00, Spot:17412.2, atm:17400 ITM CE:17300--> Covering Call @ 147.55\n",
      "DatetTime 2021-09-07 13:30:00, Spot:17430.1, atm:17450 ITM CE:17400--> Buying Call @ 85.6\n",
      "In CE 17400 position and no Cover triggered\n",
      "In CE 17400 position and no Cover triggered\n",
      "In CE 17400 position and no Cover triggered\n",
      "DatetTime 2021-09-07 13:50:00, Spot:17404.2, atm:17400 ITM CE:17400--> Covering Call @ 74.15\n",
      "DatetTime 2021-09-07 14:40:00, Spot:17357.5, atm:17350 ITM PE:17400--> Buying Put @ 88.4\n",
      "In PE 17400 position and no Cover triggered\n",
      "DatetTime 2021-09-07 14:50:00, Spot:17359.7, atm:17350 ITM PE:17400--> Covering PE @ 88.7\n",
      "DatetTime 2021-09-08 12:20:00, Spot:17326.5, atm:17350 ITM PE:17400--> Buying Put @ 95.65\n",
      "In PE 17400 position and no Cover triggered\n",
      "In PE 17400 position and no Cover triggered\n",
      "In PE 17400 position and no Cover triggered\n",
      "In PE 17400 position and no Cover triggered\n",
      "In PE 17400 position and no Cover triggered\n",
      "In PE 17400 position and no Cover triggered\n",
      "In PE 17400 position and no Cover triggered\n",
      "In PE 17400 position and no Cover triggered\n",
      "In PE 17400 position and no Cover triggered\n",
      "In PE 17400 position and no Cover triggered\n",
      "DatetTime 2021-09-08 13:15:00, Spot:17295.8, atm:17300 ITM PE:17400--> Covering PE @ 120.6\n",
      "DatetTime 2021-09-08 14:50:00, Spot:17324.2, atm:17300 ITM CE:17250--> Buying Call @ 103.25\n",
      "In CE 17250 position and no Cover triggered\n",
      "DatetTime 2021-09-08 15:00:00, Spot:17339.4, atm:17350 ITM CE:17250--> Covering Call @ 109.65\n",
      "DatetTime 2021-09-09 11:00:00, Spot:17353.6, atm:17350 ITM CE:17300--> Buying Call @ 63.5\n",
      "In CE 17300 position and no Cover triggered\n",
      "In CE 17300 position and no Cover triggered\n",
      "In CE 17300 position and no Cover triggered\n",
      "DatetTime 2021-09-09 11:20:00, Spot:17353.0, atm:17350 ITM CE:17300--> Covering Call @ 65.0\n",
      "DatetTime 2021-09-09 12:20:00, Spot:17343.8, atm:17350 ITM PE:17400--> Buying Put @ 68.1\n",
      "In PE 17400 position and no Cover triggered\n",
      "In PE 17400 position and no Cover triggered\n",
      "In PE 17400 position and no Cover triggered\n",
      "In PE 17400 position and no Cover triggered\n",
      "In PE 17400 position and no Cover triggered\n",
      "DatetTime 2021-09-09 12:50:00, Spot:17324.1, atm:17300 ITM PE:17400--> Covering PE @ 80.35\n",
      "DatetTime 2021-09-09 13:05:00, Spot:17312.3, atm:17300 ITM PE:17350--> Buying Put @ 48.75\n",
      "In PE 17350 position and no Cover triggered\n",
      "In PE 17350 position and no Cover triggered\n",
      "DatetTime 2021-09-09 13:20:00, Spot:17330.3, atm:17350 ITM PE:17350--> Covering PE @ 36.1\n",
      "DatetTime 2021-09-09 13:30:00, Spot:17334.3, atm:17350 ITM CE:17300--> Buying Call @ 42.45\n",
      "In CE 17300 position and no Cover triggered\n",
      "In CE 17300 position and no Cover triggered\n",
      "In CE 17300 position and no Cover triggered\n",
      "DatetTime 2021-09-09 13:50:00, Spot:17345.5, atm:17350 ITM CE:17300--> Covering Call @ 53.55\n",
      "DatetTime 2021-09-09 14:30:00, Spot:17336.5, atm:17350 ITM PE:17400--> Buying Put @ 65.2\n",
      "In PE 17400 position and no Cover triggered\n",
      "DatetTime 2021-09-09 14:40:00, Spot:17325.5, atm:17300 ITM PE:17400--> Covering PE @ 73.85\n",
      "DatetTime 2021-09-13 11:30:00, Spot:17321.0, atm:17300 ITM CE:17250--> Buying Call @ 126.55\n",
      "In CE 17250 position and no Cover triggered\n",
      "In CE 17250 position and no Cover triggered\n",
      "In CE 17250 position and no Cover triggered\n",
      "In CE 17250 position and no Cover triggered\n",
      "In CE 17250 position and no Cover triggered\n",
      "In CE 17250 position and no Cover triggered\n",
      "In CE 17250 position and no Cover triggered\n",
      "In CE 17250 position and no Cover triggered\n",
      "In CE 17250 position and no Cover triggered\n",
      "In CE 17250 position and no Cover triggered\n",
      "In CE 17250 position and no Cover triggered\n",
      "In CE 17250 position and no Cover triggered\n",
      "In CE 17250 position and no Cover triggered\n",
      "In CE 17250 position and no Cover triggered\n",
      "In CE 17250 position and no Cover triggered\n",
      "In CE 17250 position and no Cover triggered\n",
      "In CE 17250 position and no Cover triggered\n",
      "In CE 17250 position and no Cover triggered\n",
      "In CE 17250 position and no Cover triggered\n",
      "In CE 17250 position and no Cover triggered\n",
      "In CE 17250 position and no Cover triggered\n",
      "In CE 17250 position and no Cover triggered\n",
      "In CE 17250 position and no Cover triggered\n",
      "In CE 17250 position and no Cover triggered\n",
      "DatetTime 2021-09-13 13:35:00, Spot:17353.3, atm:17350 ITM CE:17250--> Covering Call @ 146.9\n",
      "DatetTime 2021-09-13 13:55:00, Spot:17362.9, atm:17350 ITM CE:17300--> Buying Call @ 120.85\n",
      "In CE 17300 position and no Cover triggered\n",
      "In CE 17300 position and no Cover triggered\n",
      "In CE 17300 position and no Cover triggered\n",
      "In CE 17300 position and no Cover triggered\n",
      "In CE 17300 position and no Cover triggered\n",
      "In CE 17300 position and no Cover triggered\n",
      "In CE 17300 position and no Cover triggered\n",
      "DatetTime 2021-09-13 14:35:00, Spot:17348.3, atm:17350 ITM CE:17300--> Covering Call @ 113.8\n",
      "DatetTime 2021-09-13 14:40:00, Spot:17343.8, atm:17350 ITM PE:17400--> Buying Put @ 104.75\n",
      "In PE 17400 position and no Cover triggered\n",
      "In PE 17400 position and no Cover triggered\n",
      "In PE 17400 position and no Cover triggered\n",
      "DatetTime 2021-09-13 15:00:00, Spot:17357.3, atm:17350 ITM PE:17400--> Covering PE @ 101.25\n",
      "DatetTime 2021-09-14 12:50:00, Spot:17405.0, atm:17400 ITM PE:17450--> Buying Put @ 92.05\n",
      "In PE 17450 position and no Cover triggered\n",
      "In PE 17450 position and no Cover triggered\n",
      "In PE 17450 position and no Cover triggered\n",
      "DatetTime 2021-09-14 13:10:00, Spot:17390.8, atm:17400 ITM PE:17450--> Covering PE @ 96.4\n",
      "DatetTime 2021-09-14 13:40:00, Spot:17384.1, atm:17400 ITM PE:17450--> Buying Put @ 98.4\n",
      "In PE 17450 position and no Cover triggered\n",
      "In PE 17450 position and no Cover triggered\n",
      "In PE 17450 position and no Cover triggered\n",
      "DatetTime 2021-09-14 14:00:00, Spot:17388.1, atm:17400 ITM PE:17450--> Covering PE @ 93.95\n",
      "DatetTime 2021-09-14 14:25:00, Spot:17383.0, atm:17400 ITM PE:17450--> Buying Put @ 98.75\n",
      "In PE 17450 position and no Cover triggered\n",
      "In PE 17450 position and no Cover triggered\n",
      "DatetTime 2021-09-14 14:40:00, Spot:17381.5, atm:17400 ITM PE:17450--> Covering PE @ 95.0\n",
      "DatetTime 2021-09-15 11:20:00, Spot:17462.0, atm:17450 ITM CE:17400--> Buying Call @ 81.55\n",
      "In CE 17400 position and no Cover triggered\n",
      "In CE 17400 position and no Cover triggered\n",
      "In CE 17400 position and no Cover triggered\n",
      "In CE 17400 position and no Cover triggered\n",
      "In CE 17400 position and no Cover triggered\n",
      "In CE 17400 position and no Cover triggered\n",
      "In CE 17400 position and no Cover triggered\n",
      "DatetTime 2021-09-15 12:00:00, Spot:17458.0, atm:17450 ITM CE:17400--> Covering Call @ 80.15\n",
      "DatetTime 2021-09-15 12:20:00, Spot:17469.6, atm:17450 ITM CE:17400--> Buying Call @ 84.3\n",
      "In CE 17400 position and no Cover triggered\n",
      "In CE 17400 position and no Cover triggered\n",
      "In CE 17400 position and no Cover triggered\n",
      "DatetTime 2021-09-15 12:40:00, Spot:17474.4, atm:17450 ITM CE:17400--> Covering Call @ 88.1\n",
      "DatetTime 2021-09-15 12:55:00, Spot:17483.9, atm:17500 ITM CE:17450--> Buying Call @ 61.95\n",
      "In CE 17450 position and no Cover triggered\n",
      "In CE 17450 position and no Cover triggered\n",
      "In CE 17450 position and no Cover triggered\n",
      "In CE 17450 position and no Cover triggered\n",
      "In CE 17450 position and no Cover triggered\n",
      "In CE 17450 position and no Cover triggered\n",
      "In CE 17450 position and no Cover triggered\n",
      "In CE 17450 position and no Cover triggered\n",
      "In CE 17450 position and no Cover triggered\n",
      "In CE 17450 position and no Cover triggered\n",
      "DatetTime 2021-09-15 13:50:00, Spot:17505.8, atm:17500 ITM CE:17450--> Covering Call @ 78.5\n",
      "DatetTime 2021-09-15 14:05:00, Spot:17521.2, atm:17500 ITM CE:17450--> Buying Call @ 93.05\n",
      "In CE 17450 position and no Cover triggered\n",
      "In CE 17450 position and no Cover triggered\n",
      "In CE 17450 position and no Cover triggered\n",
      "In CE 17450 position and no Cover triggered\n",
      "In CE 17450 position and no Cover triggered\n",
      "In CE 17450 position and no Cover triggered\n",
      "In CE 17450 position and no Cover triggered\n",
      "In CE 17450 position and no Cover triggered\n",
      "In CE 17450 position and no Cover triggered\n",
      "In CE 17450 position and no Cover triggered\n",
      "DatetTime 2021-09-15 15:00:00, Spot:17518.3, atm:17500 ITM CE:17450--> Covering Call @ 93.65\n",
      "DatetTime 2021-09-16 11:50:00, Spot:17558.2, atm:17550 ITM CE:17500--> Buying Call @ 61.45\n",
      "In CE 17500 position and no Cover triggered\n",
      "In CE 17500 position and no Cover triggered\n",
      "In CE 17500 position and no Cover triggered\n",
      "In CE 17500 position and no Cover triggered\n",
      "In CE 17500 position and no Cover triggered\n",
      "In CE 17500 position and no Cover triggered\n",
      "In CE 17500 position and no Cover triggered\n",
      "In CE 17500 position and no Cover triggered\n",
      "In CE 17500 position and no Cover triggered\n",
      "In CE 17500 position and no Cover triggered\n",
      "In CE 17500 position and no Cover triggered\n",
      "In CE 17500 position and no Cover triggered\n",
      "DatetTime 2021-09-16 12:55:00, Spot:17575.3, atm:17600 ITM CE:17500--> Covering Call @ 75.8\n",
      "DatetTime 2021-09-16 13:40:00, Spot:17589.8, atm:17600 ITM CE:17550--> Buying Call @ 43.25\n",
      "In CE 17550 position and no Cover triggered\n",
      "In CE 17550 position and no Cover triggered\n",
      "In CE 17550 position and no Cover triggered\n",
      "In CE 17550 position and no Cover triggered\n",
      "In CE 17550 position and no Cover triggered\n",
      "In CE 17550 position and no Cover triggered\n",
      "In CE 17550 position and no Cover triggered\n",
      "In CE 17550 position and no Cover triggered\n",
      "In CE 17550 position and no Cover triggered\n",
      "In CE 17550 position and no Cover triggered\n",
      "In CE 17550 position and no Cover triggered\n",
      "In CE 17550 position and no Cover triggered\n",
      "In CE 17550 position and no Cover triggered\n",
      "In CE 17550 position and no Cover triggered\n",
      "In CE 17550 position and no Cover triggered\n",
      "DatetTime 2021-09-16 15:00:00, Spot:17632.3, atm:17650 ITM CE:17550--> Covering Call @ 81.0\n",
      "BackTesting from history file: importdatafiles/09_15_APR_2021_weekly_Expirydata_VEGE_NF_AND_BNF_Options_shortweek.csv\n",
      "DatetTime 2021-04-09 11:10:00, Spot:14846.4, atm:14850 ITM PE:14900--> Buying Put @ 172.6\n",
      "In PE 14900 position and no Cover triggered\n",
      "In PE 14900 position and no Cover triggered\n",
      "In PE 14900 position and no Cover triggered\n",
      "DatetTime 2021-04-09 11:30:00, Spot:14841.0, atm:14850 ITM PE:14900--> Covering PE @ 173.1\n",
      "DatetTime 2021-04-09 13:40:00, Spot:14817.0, atm:14800 ITM PE:14850--> Buying Put @ 156.35\n",
      "In PE 14850 position and no Cover triggered\n",
      "In PE 14850 position and no Cover triggered\n",
      "In PE 14850 position and no Cover triggered\n",
      "In PE 14850 position and no Cover triggered\n",
      "DatetTime 2021-04-09 14:05:00, Spot:14822.1, atm:14800 ITM PE:14850--> Covering PE @ 149.95\n",
      "DatetTime 2021-04-12 11:40:00, Spot:14373.0, atm:14350 ITM PE:14400--> Buying Put @ 151.45\n",
      "In PE 14400 position and no Cover triggered\n",
      "In PE 14400 position and no Cover triggered\n",
      "In PE 14400 position and no Cover triggered\n",
      "In PE 14400 position and no Cover triggered\n",
      "In PE 14400 position and no Cover triggered\n",
      "In PE 14400 position and no Cover triggered\n",
      "In PE 14400 position and no Cover triggered\n",
      "In PE 14400 position and no Cover triggered\n",
      "DatetTime 2021-04-12 12:25:00, Spot:14342.0, atm:14350 ITM PE:14400--> Covering PE @ 169.0\n",
      "DatetTime 2021-04-12 13:05:00, Spot:14315.1, atm:14300 ITM PE:14350--> Buying Put @ 158.6\n",
      "In PE 14350 position and no Cover triggered\n",
      "In PE 14350 position and no Cover triggered\n",
      "In PE 14350 position and no Cover triggered\n",
      "In PE 14350 position and no Cover triggered\n",
      "In PE 14350 position and no Cover triggered\n",
      "In PE 14350 position and no Cover triggered\n",
      "In PE 14350 position and no Cover triggered\n",
      "In PE 14350 position and no Cover triggered\n",
      "In PE 14350 position and no Cover triggered\n",
      "In PE 14350 position and no Cover triggered\n",
      "DatetTime 2021-04-12 14:00:00, Spot:14338.6, atm:14350 ITM PE:14350--> Covering PE @ 140.55\n",
      "DatetTime 2021-04-12 14:30:00, Spot:14291.1, atm:14300 ITM PE:14350--> Buying Put @ 167.55\n",
      "In PE 14350 position and no Cover triggered\n",
      "In PE 14350 position and no Cover triggered\n",
      "In PE 14350 position and no Cover triggered\n",
      "In PE 14350 position and no Cover triggered\n",
      "In PE 14350 position and no Cover triggered\n",
      "DatetTime 2021-04-12 15:00:00, Spot:14294.1, atm:14300 ITM PE:14350--> Covering PE @ 162.0\n",
      "DatetTime 2021-04-13 11:10:00, Spot:14355.1, atm:14350 ITM PE:14400--> Buying Put @ 119.75\n",
      "In PE 14400 position and no Cover triggered\n",
      "In PE 14400 position and no Cover triggered\n",
      "In PE 14400 position and no Cover triggered\n",
      "In PE 14400 position and no Cover triggered\n",
      "In PE 14400 position and no Cover triggered\n",
      "In PE 14400 position and no Cover triggered\n",
      "In PE 14400 position and no Cover triggered\n",
      "In PE 14400 position and no Cover triggered\n",
      "In PE 14400 position and no Cover triggered\n",
      "In PE 14400 position and no Cover triggered\n",
      "In PE 14400 position and no Cover triggered\n",
      "In PE 14400 position and no Cover triggered\n",
      "In PE 14400 position and no Cover triggered\n",
      "DatetTime 2021-04-13 12:20:00, Spot:14331.9, atm:14350 ITM PE:14400--> Covering PE @ 132.9\n",
      "DatetTime 2021-04-13 12:40:00, Spot:14382.3, atm:14400 ITM CE:14350--> Buying Call @ 101.05\n",
      "In CE 14350 position and no Cover triggered\n",
      "In CE 14350 position and no Cover triggered\n",
      "In CE 14350 position and no Cover triggered\n",
      "DatetTime 2021-04-13 13:00:00, Spot:14358.6, atm:14350 ITM CE:14350--> Covering Call @ 95.55\n",
      "DatetTime 2021-04-13 13:10:00, Spot:14331.4, atm:14350 ITM PE:14400--> Buying Put @ 124.75\n",
      "In PE 14400 position and no Cover triggered\n",
      "In PE 14400 position and no Cover triggered\n",
      "In PE 14400 position and no Cover triggered\n",
      "DatetTime 2021-04-13 13:30:00, Spot:14343.3, atm:14350 ITM PE:14400--> Covering PE @ 117.55\n",
      "DatetTime 2021-04-13 13:35:00, Spot:14368.0, atm:14350 ITM CE:14300--> Buying Call @ 129.2\n",
      "In CE 14300 position and no Cover triggered\n",
      "In CE 14300 position and no Cover triggered\n",
      "In CE 14300 position and no Cover triggered\n",
      "In CE 14300 position and no Cover triggered\n",
      "In CE 14300 position and no Cover triggered\n",
      "In CE 14300 position and no Cover triggered\n",
      "In CE 14300 position and no Cover triggered\n",
      "In CE 14300 position and no Cover triggered\n",
      "In CE 14300 position and no Cover triggered\n",
      "In CE 14300 position and no Cover triggered\n",
      "In CE 14300 position and no Cover triggered\n",
      "In CE 14300 position and no Cover triggered\n",
      "In CE 14300 position and no Cover triggered\n",
      "In CE 14300 position and no Cover triggered\n",
      "In CE 14300 position and no Cover triggered\n",
      "In CE 14300 position and no Cover triggered\n",
      "DatetTime 2021-04-13 15:00:00, Spot:14466.8, atm:14450 ITM CE:14300--> Covering Call @ 202.55\n",
      "DatetTime 2021-04-15 11:00:00, Spot:14387.7, atm:14400 ITM PE:14450--> Buying Put @ 86.85\n",
      "In PE 14450 position and no Cover triggered\n",
      "In PE 14450 position and no Cover triggered\n",
      "In PE 14450 position and no Cover triggered\n",
      "In PE 14450 position and no Cover triggered\n",
      "In PE 14450 position and no Cover triggered\n",
      "In PE 14450 position and no Cover triggered\n",
      "In PE 14450 position and no Cover triggered\n",
      "DatetTime 2021-04-15 11:40:00, Spot:14413.1, atm:14400 ITM PE:14450--> Covering PE @ 75.3\n",
      "DatetTime 2021-04-15 12:05:00, Spot:14440.1, atm:14450 ITM CE:14400--> Buying Call @ 69.0\n",
      "DatetTime 2021-04-15 12:10:00, Spot:14429.8, atm:14450 ITM CE:14400--> Covering Call @ 60.2\n",
      "DatetTime 2021-04-15 12:40:00, Spot:14439.4, atm:14450 ITM CE:14400--> Buying Call @ 63.9\n",
      "In CE 14400 position and no Cover triggered\n",
      "DatetTime 2021-04-15 12:50:00, Spot:14432.6, atm:14450 ITM CE:14400--> Covering Call @ 58.5\n",
      "DatetTime 2021-04-15 13:35:00, Spot:14466.1, atm:14450 ITM CE:14400--> Buying Call @ 80.0\n",
      "In CE 14400 position and no Cover triggered\n",
      "In CE 14400 position and no Cover triggered\n",
      "In CE 14400 position and no Cover triggered\n",
      "In CE 14400 position and no Cover triggered\n",
      "In CE 14400 position and no Cover triggered\n",
      "In CE 14400 position and no Cover triggered\n",
      "In CE 14400 position and no Cover triggered\n",
      "In CE 14400 position and no Cover triggered\n",
      "DatetTime 2021-04-15 14:20:00, Spot:14485.5, atm:14500 ITM CE:14400--> Covering Call @ 88.85\n",
      "DatetTime 2021-04-15 14:55:00, Spot:14535.3, atm:14550 ITM CE:14500--> Buying Call @ 39.75\n",
      "DatetTime 2021-04-15 15:00:00, Spot:14563.5, atm:14550 ITM CE:14500--> Covering Call @ 58.3\n",
      "BackTesting from history file: importdatafiles/10_16_DEC21_WEEKLY_expiry_data_VEGE_NF_AND_BNF_Options_Desktop_Vege.csv\n",
      "DatetTime 2021-12-10 11:20:00, Spot:17456.3, atm:17450 ITM PE:17500--> Buying Put @ 151.1\n",
      "In PE 17500 position and no Cover triggered\n",
      "DatetTime 2021-12-10 11:30:00, Spot:17455.5, atm:17450 ITM PE:17500--> Covering PE @ 152.35\n",
      "DatetTime 2021-12-10 12:05:00, Spot:17446.8, atm:17450 ITM PE:17500--> Buying Put @ 153.15\n",
      "In PE 17500 position and no Cover triggered\n",
      "In PE 17500 position and no Cover triggered\n",
      "In PE 17500 position and no Cover triggered\n",
      "In PE 17500 position and no Cover triggered\n",
      "In PE 17500 position and no Cover triggered\n",
      "In PE 17500 position and no Cover triggered\n",
      "In PE 17500 position and no Cover triggered\n",
      "In PE 17500 position and no Cover triggered\n",
      "In PE 17500 position and no Cover triggered\n",
      "In PE 17500 position and no Cover triggered\n",
      "In PE 17500 position and no Cover triggered\n",
      "In PE 17500 position and no Cover triggered\n",
      "In PE 17500 position and no Cover triggered\n",
      "In PE 17500 position and no Cover triggered\n",
      "In PE 17500 position and no Cover triggered\n",
      "In PE 17500 position and no Cover triggered\n",
      "DatetTime 2021-12-10 13:30:00, Spot:17438.5, atm:17450 ITM CE:17400--> Buying Call @ 149.3\n",
      "DatetTime 2021-12-10 13:30:00, Spot:17438.5, atm:17450 ITM PE:17500--> Covering PE @ 155.0\n",
      "In CE 17400 position and no Cover triggered\n",
      "DatetTime 2021-12-10 13:40:00, Spot:17440.7, atm:17450 ITM CE:17400--> Covering Call @ 149.35\n",
      "DatetTime 2021-12-10 13:50:00, Spot:17443.4, atm:17450 ITM CE:17400--> Buying Call @ 154.25\n",
      "In CE 17400 position and no Cover triggered\n",
      "In CE 17400 position and no Cover triggered\n",
      "In CE 17400 position and no Cover triggered\n",
      "In CE 17400 position and no Cover triggered\n",
      "In CE 17400 position and no Cover triggered\n",
      "In CE 17400 position and no Cover triggered\n",
      "In CE 17400 position and no Cover triggered\n",
      "In CE 17400 position and no Cover triggered\n",
      "In CE 17400 position and no Cover triggered\n",
      "In CE 17400 position and no Cover triggered\n",
      "In CE 17400 position and no Cover triggered\n",
      "In CE 17400 position and no Cover triggered\n",
      "In CE 17400 position and no Cover triggered\n",
      "DatetTime 2021-12-10 15:00:00, Spot:17512.6, atm:17500 ITM CE:17400--> Covering Call @ 194.0\n",
      "DatetTime 2021-12-13 11:10:00, Spot:17568.2, atm:17550 ITM PE:17600--> Buying Put @ 118.7\n",
      "In PE 17600 position and no Cover triggered\n",
      "DatetTime 2021-12-13 11:20:00, Spot:17573.2, atm:17550 ITM PE:17600--> Covering PE @ 113.45\n",
      "DatetTime 2021-12-13 11:30:00, Spot:17558.3, atm:17550 ITM PE:17600--> Buying Put @ 120.8\n",
      "In PE 17600 position and no Cover triggered\n",
      "In PE 17600 position and no Cover triggered\n",
      "In PE 17600 position and no Cover triggered\n",
      "In PE 17600 position and no Cover triggered\n",
      "In PE 17600 position and no Cover triggered\n",
      "DatetTime 2021-12-13 12:00:00, Spot:17538.1, atm:17550 ITM PE:17600--> Covering PE @ 132.15\n",
      "DatetTime 2021-12-13 12:20:00, Spot:17481.7, atm:17500 ITM PE:17550--> Buying Put @ 157.45\n",
      "In PE 17550 position and no Cover triggered\n",
      "In PE 17550 position and no Cover triggered\n",
      "In PE 17550 position and no Cover triggered\n",
      "In PE 17550 position and no Cover triggered\n",
      "In PE 17550 position and no Cover triggered\n",
      "In PE 17550 position and no Cover triggered\n",
      "In PE 17550 position and no Cover triggered\n",
      "In PE 17550 position and no Cover triggered\n",
      "In PE 17550 position and no Cover triggered\n",
      "In PE 17550 position and no Cover triggered\n",
      "DatetTime 2021-12-13 13:15:00, Spot:17413.3, atm:17400 ITM PE:17550--> Covering PE @ 189.75\n",
      "DatetTime 2021-12-13 13:50:00, Spot:17392.3, atm:17400 ITM PE:17450--> Buying Put @ 142.3\n",
      "In PE 17450 position and no Cover triggered\n",
      "In PE 17450 position and no Cover triggered\n",
      "In PE 17450 position and no Cover triggered\n",
      "In PE 17450 position and no Cover triggered\n",
      "In PE 17450 position and no Cover triggered\n",
      "In PE 17450 position and no Cover triggered\n",
      "In PE 17450 position and no Cover triggered\n",
      "DatetTime 2021-12-13 14:30:00, Spot:17410.5, atm:17400 ITM PE:17450--> Covering PE @ 119.75\n",
      "DatetTime 2021-12-14 11:00:00, Spot:17245.0, atm:17250 ITM PE:17300--> Buying Put @ 131.2\n",
      "In PE 17300 position and no Cover triggered\n",
      "DatetTime 2021-12-14 11:10:00, Spot:17268.2, atm:17250 ITM PE:17300--> Covering PE @ 116.0\n",
      "DatetTime 2021-12-14 11:50:00, Spot:17311.5, atm:17300 ITM CE:17250--> Buying Call @ 140.5\n",
      "In CE 17250 position and no Cover triggered\n",
      "In CE 17250 position and no Cover triggered\n",
      "In CE 17250 position and no Cover triggered\n",
      "In CE 17250 position and no Cover triggered\n",
      "In CE 17250 position and no Cover triggered\n",
      "In CE 17250 position and no Cover triggered\n",
      "DatetTime 2021-12-14 12:25:00, Spot:17310.3, atm:17300 ITM CE:17250--> Covering Call @ 139.8\n",
      "DatetTime 2021-12-14 13:00:00, Spot:17345.7, atm:17350 ITM CE:17300--> Buying Call @ 132.4\n",
      "In CE 17300 position and no Cover triggered\n",
      "In CE 17300 position and no Cover triggered\n",
      "DatetTime 2021-12-14 13:15:00, Spot:17327.0, atm:17350 ITM CE:17300--> Covering Call @ 118.9\n",
      "DatetTime 2021-12-14 13:30:00, Spot:17365.4, atm:17350 ITM CE:17300--> Buying Call @ 145.05\n",
      "In CE 17300 position and no Cover triggered\n",
      "In CE 17300 position and no Cover triggered\n",
      "DatetTime 2021-12-14 13:45:00, Spot:17343.0, atm:17350 ITM CE:17300--> Covering Call @ 127.05\n",
      "DatetTime 2021-12-14 13:50:00, Spot:17314.0, atm:17300 ITM PE:17350--> Buying Put @ 113.95\n",
      "In PE 17350 position and no Cover triggered\n",
      "In PE 17350 position and no Cover triggered\n",
      "In PE 17350 position and no Cover triggered\n",
      "In PE 17350 position and no Cover triggered\n",
      "In PE 17350 position and no Cover triggered\n",
      "In PE 17350 position and no Cover triggered\n",
      "In PE 17350 position and no Cover triggered\n",
      "In PE 17350 position and no Cover triggered\n",
      "DatetTime 2021-12-14 14:35:00, Spot:17292.3, atm:17300 ITM PE:17350--> Covering PE @ 121.0\n",
      "DatetTime 2021-12-15 11:20:00, Spot:17237.7, atm:17250 ITM CE:17200--> Buying Call @ 105.4\n",
      "In CE 17200 position and no Cover triggered\n",
      "DatetTime 2021-12-15 11:30:00, Spot:17256.5, atm:17250 ITM CE:17200--> Covering Call @ 119.05\n",
      "DatetTime 2021-12-15 11:40:00, Spot:17256.7, atm:17250 ITM CE:17200--> Buying Call @ 115.8\n",
      "In CE 17200 position and no Cover triggered\n",
      "DatetTime 2021-12-15 11:50:00, Spot:17242.3, atm:17250 ITM CE:17200--> Covering Call @ 107.3\n",
      "DatetTime 2021-12-15 12:30:00, Spot:17231.5, atm:17250 ITM PE:17300--> Buying Put @ 114.7\n",
      "In PE 17300 position and no Cover triggered\n",
      "In PE 17300 position and no Cover triggered\n",
      "In PE 17300 position and no Cover triggered\n",
      "In PE 17300 position and no Cover triggered\n",
      "In PE 17300 position and no Cover triggered\n",
      "DatetTime 2021-12-15 13:00:00, Spot:17220.0, atm:17200 ITM PE:17300--> Covering PE @ 121.55\n",
      "DatetTime 2021-12-15 13:20:00, Spot:17238.3, atm:17250 ITM CE:17200--> Buying Call @ 97.8\n",
      "In CE 17200 position and no Cover triggered\n",
      "In CE 17200 position and no Cover triggered\n",
      "In CE 17200 position and no Cover triggered\n",
      "In CE 17200 position and no Cover triggered\n",
      "In CE 17200 position and no Cover triggered\n",
      "In CE 17200 position and no Cover triggered\n",
      "In CE 17200 position and no Cover triggered\n",
      "In CE 17200 position and no Cover triggered\n",
      "In CE 17200 position and no Cover triggered\n",
      "In CE 17200 position and no Cover triggered\n",
      "In CE 17200 position and no Cover triggered\n",
      "In CE 17200 position and no Cover triggered\n",
      "In CE 17200 position and no Cover triggered\n",
      "In CE 17200 position and no Cover triggered\n",
      "In CE 17200 position and no Cover triggered\n",
      "In CE 17200 position and no Cover triggered\n",
      "In CE 17200 position and no Cover triggered\n",
      "DatetTime 2021-12-15 14:50:00, Spot:17271.5, atm:17250 ITM CE:17200--> Covering Call @ 121.8\n",
      "DatetTime 2021-12-15 14:50:00, Spot:17271.5, atm:17250 ITM PE:17300--> Buying Put @ 85.4\n",
      "In PE 17300 position and no Cover triggered\n",
      "DatetTime 2021-12-15 15:00:00, Spot:17241.3, atm:17250 ITM PE:17300--> Covering PE @ 101.25\n",
      "DatetTime 2021-12-16 11:20:00, Spot:17246.0, atm:17250 ITM PE:17300--> Buying Put @ 74.55\n",
      "In PE 17300 position and no Cover triggered\n",
      "In PE 17300 position and no Cover triggered\n",
      "In PE 17300 position and no Cover triggered\n",
      "In PE 17300 position and no Cover triggered\n",
      "DatetTime 2021-12-16 11:45:00, Spot:17251.2, atm:17250 ITM PE:17300--> Covering PE @ 71.3\n",
      "DatetTime 2021-12-16 12:00:00, Spot:17222.7, atm:17200 ITM PE:17250--> Buying Put @ 57.2\n",
      "In PE 17250 position and no Cover triggered\n",
      "DatetTime 2021-12-16 12:10:00, Spot:17220.7, atm:17200 ITM PE:17250--> Covering PE @ 53.75\n",
      "DatetTime 2021-12-16 12:25:00, Spot:17208.0, atm:17200 ITM PE:17250--> Buying Put @ 59.0\n",
      "DatetTime 2021-12-16 12:30:00, Spot:17222.3, atm:17200 ITM PE:17250--> Covering PE @ 49.65\n",
      "DatetTime 2021-12-16 12:35:00, Spot:17215.1, atm:17200 ITM PE:17250--> Buying Put @ 53.15\n",
      "DatetTime 2021-12-16 12:40:00, Spot:17222.2, atm:17200 ITM PE:17250--> Covering PE @ 51.25\n",
      "DatetTime 2021-12-16 12:50:00, Spot:17265.8, atm:17250 ITM CE:17200--> Buying Call @ 83.45\n",
      "In CE 17200 position and no Cover triggered\n",
      "DatetTime 2021-12-16 13:00:00, Spot:17266.2, atm:17250 ITM CE:17200--> Covering Call @ 85.4\n",
      "DatetTime 2021-12-16 14:30:00, Spot:17217.7, atm:17200 ITM PE:17250--> Buying Put @ 41.35\n",
      "In PE 17250 position and no Cover triggered\n",
      "In PE 17250 position and no Cover triggered\n",
      "In PE 17250 position and no Cover triggered\n",
      "DatetTime 2021-12-16 14:50:00, Spot:17209.3, atm:17200 ITM PE:17250--> Covering PE @ 41.9\n"
     ]
    }
   ],
   "source": [
    "performance=pd.DataFrame()\n",
    "trades=pd.DataFrame()\n",
    "for i in files:\n",
    "    print(f'BackTesting from history file: {i}')\n",
    "    df=pd.read_csv(i)\n",
    "    df['Date/Time']=pd.to_datetime(df['Date/Time'].astype(str), format='%d-%m-%Y %H:%M:%S')\n",
    "    df.rename(columns={'Date/Time':'Date','Volume':'Tick Volume','Open Interest':'Volume'},inplace=True)\n",
    "    ticker_list=df['Ticker'].unique()\n",
    "    pnl_list,pnl_dic=bt(df)\n",
    "    performanceT=matrix(pnl_list,df)\n",
    "    tradesT=pd.DataFrame(pnl_dic, columns=['Date', 'PNL'])\n",
    "    performance=performance.append(performanceT)\n",
    "    trades=trades.append(tradesT)\n",
    "performance.reset_index(inplace=True)\n",
    "trades.reset_index(inplace=True)"
   ]
  },
  {
   "cell_type": "code",
   "execution_count": 40,
   "id": "23d2799c-199a-435e-921b-db0ba50baa94",
   "metadata": {},
   "outputs": [],
   "source": [
    "performance.to_csv('performanceBuyingV1.csv')"
   ]
  },
  {
   "cell_type": "code",
   "execution_count": 36,
   "id": "0c91733f-66b2-4922-be36-2335b0f2bb5a",
   "metadata": {},
   "outputs": [
    {
     "data": {
      "text/html": [
       "<div><div id=722a16ff-6d7e-41ef-b6d4-6e2be99345a4 style=\"display:none; background-color:#9D6CFF; color:white; width:200px; height:30px; padding-left:5px; border-radius:4px; flex-direction:row; justify-content:space-around; align-items:center;\" onmouseover=\"this.style.backgroundColor='#BA9BF8'\" onmouseout=\"this.style.backgroundColor='#9D6CFF'\" onclick=\"window.commands?.execute('create-mitosheet-from-dataframe-output');\">See Full Dataframe in Mito</div> <script> if (window.commands.hasCommand('create-mitosheet-from-dataframe-output')) document.getElementById('722a16ff-6d7e-41ef-b6d4-6e2be99345a4').style.display = 'flex' </script> <table border=\"1\" class=\"dataframe\">\n",
       "  <thead>\n",
       "    <tr style=\"text-align: right;\">\n",
       "      <th></th>\n",
       "      <th>index</th>\n",
       "      <th>Start</th>\n",
       "      <th>End</th>\n",
       "      <th>TotalTrades</th>\n",
       "      <th>Winers</th>\n",
       "      <th>Loosers</th>\n",
       "      <th>MaxProfit</th>\n",
       "      <th>MaxLoss</th>\n",
       "      <th>WinRatio</th>\n",
       "      <th>ProfitLossRatio</th>\n",
       "      <th>TotalProfitPoints</th>\n",
       "      <th>TotalProfitsRs</th>\n",
       "    </tr>\n",
       "  </thead>\n",
       "  <tbody>\n",
       "    <tr>\n",
       "      <th>0</th>\n",
       "      <td>0</td>\n",
       "      <td>2021-10-01</td>\n",
       "      <td>2021-10-07</td>\n",
       "      <td>20</td>\n",
       "      <td>13</td>\n",
       "      <td>7</td>\n",
       "      <td>91.65</td>\n",
       "      <td>-14.85</td>\n",
       "      <td>65.000000</td>\n",
       "      <td>2.312155</td>\n",
       "      <td>167.50</td>\n",
       "      <td>8375.0</td>\n",
       "    </tr>\n",
       "    <tr>\n",
       "      <th>1</th>\n",
       "      <td>0</td>\n",
       "      <td>2021-07-02</td>\n",
       "      <td>2021-07-08</td>\n",
       "      <td>18</td>\n",
       "      <td>14</td>\n",
       "      <td>4</td>\n",
       "      <td>66.75</td>\n",
       "      <td>-5.80</td>\n",
       "      <td>77.777778</td>\n",
       "      <td>4.769326</td>\n",
       "      <td>181.25</td>\n",
       "      <td>9062.5</td>\n",
       "    </tr>\n",
       "    <tr>\n",
       "      <th>2</th>\n",
       "      <td>0</td>\n",
       "      <td>2021-09-03</td>\n",
       "      <td>2021-09-09</td>\n",
       "      <td>18</td>\n",
       "      <td>10</td>\n",
       "      <td>8</td>\n",
       "      <td>45.95</td>\n",
       "      <td>-14.65</td>\n",
       "      <td>55.555556</td>\n",
       "      <td>1.468553</td>\n",
       "      <td>53.15</td>\n",
       "      <td>2657.5</td>\n",
       "    </tr>\n",
       "    <tr>\n",
       "      <th>3</th>\n",
       "      <td>0</td>\n",
       "      <td>2021-12-03</td>\n",
       "      <td>2021-12-09</td>\n",
       "      <td>10</td>\n",
       "      <td>8</td>\n",
       "      <td>2</td>\n",
       "      <td>92.55</td>\n",
       "      <td>-11.70</td>\n",
       "      <td>80.000000</td>\n",
       "      <td>4.125373</td>\n",
       "      <td>259.65</td>\n",
       "      <td>12982.5</td>\n",
       "    </tr>\n",
       "    <tr>\n",
       "      <th>4</th>\n",
       "      <td>0</td>\n",
       "      <td>2021-06-04</td>\n",
       "      <td>2021-06-10</td>\n",
       "      <td>20</td>\n",
       "      <td>10</td>\n",
       "      <td>10</td>\n",
       "      <td>82.55</td>\n",
       "      <td>-9.65</td>\n",
       "      <td>50.000000</td>\n",
       "      <td>4.017131</td>\n",
       "      <td>140.90</td>\n",
       "      <td>7045.0</td>\n",
       "    </tr>\n",
       "    <tr>\n",
       "      <th>...</th>\n",
       "      <td>...</td>\n",
       "      <td>...</td>\n",
       "      <td>...</td>\n",
       "      <td>...</td>\n",
       "      <td>...</td>\n",
       "      <td>...</td>\n",
       "      <td>...</td>\n",
       "      <td>...</td>\n",
       "      <td>...</td>\n",
       "      <td>...</td>\n",
       "      <td>...</td>\n",
       "      <td>...</td>\n",
       "    </tr>\n",
       "    <tr>\n",
       "      <th>13</th>\n",
       "      <td>0</td>\n",
       "      <td>2021-01-08</td>\n",
       "      <td>2021-01-14</td>\n",
       "      <td>15</td>\n",
       "      <td>11</td>\n",
       "      <td>4</td>\n",
       "      <td>38.75</td>\n",
       "      <td>-15.60</td>\n",
       "      <td>73.333333</td>\n",
       "      <td>1.877783</td>\n",
       "      <td>113.05</td>\n",
       "      <td>5652.5</td>\n",
       "    </tr>\n",
       "    <tr>\n",
       "      <th>14</th>\n",
       "      <td>0</td>\n",
       "      <td>2021-07-09</td>\n",
       "      <td>2021-07-15</td>\n",
       "      <td>17</td>\n",
       "      <td>10</td>\n",
       "      <td>7</td>\n",
       "      <td>45.00</td>\n",
       "      <td>-19.05</td>\n",
       "      <td>58.823529</td>\n",
       "      <td>1.133333</td>\n",
       "      <td>42.90</td>\n",
       "      <td>2145.0</td>\n",
       "    </tr>\n",
       "    <tr>\n",
       "      <th>15</th>\n",
       "      <td>0</td>\n",
       "      <td>2021-09-03</td>\n",
       "      <td>2021-09-16</td>\n",
       "      <td>30</td>\n",
       "      <td>17</td>\n",
       "      <td>13</td>\n",
       "      <td>45.95</td>\n",
       "      <td>-14.65</td>\n",
       "      <td>56.666667</td>\n",
       "      <td>1.958560</td>\n",
       "      <td>130.75</td>\n",
       "      <td>6537.5</td>\n",
       "    </tr>\n",
       "    <tr>\n",
       "      <th>16</th>\n",
       "      <td>0</td>\n",
       "      <td>2021-04-09</td>\n",
       "      <td>2021-04-15</td>\n",
       "      <td>14</td>\n",
       "      <td>6</td>\n",
       "      <td>8</td>\n",
       "      <td>73.35</td>\n",
       "      <td>-18.05</td>\n",
       "      <td>42.857143</td>\n",
       "      <td>2.570246</td>\n",
       "      <td>63.50</td>\n",
       "      <td>3175.0</td>\n",
       "    </tr>\n",
       "    <tr>\n",
       "      <th>17</th>\n",
       "      <td>0</td>\n",
       "      <td>2021-12-10</td>\n",
       "      <td>2021-12-16</td>\n",
       "      <td>24</td>\n",
       "      <td>13</td>\n",
       "      <td>11</td>\n",
       "      <td>39.75</td>\n",
       "      <td>-22.55</td>\n",
       "      <td>54.166667</td>\n",
       "      <td>1.302319</td>\n",
       "      <td>54.80</td>\n",
       "      <td>2740.0</td>\n",
       "    </tr>\n",
       "  </tbody>\n",
       "</table></div>"
      ],
      "text/plain": [
       "    index       Start         End  TotalTrades  Winers  Loosers  MaxProfit  \\\n",
       "0       0  2021-10-01  2021-10-07           20      13        7      91.65   \n",
       "1       0  2021-07-02  2021-07-08           18      14        4      66.75   \n",
       "2       0  2021-09-03  2021-09-09           18      10        8      45.95   \n",
       "3       0  2021-12-03  2021-12-09           10       8        2      92.55   \n",
       "4       0  2021-06-04  2021-06-10           20      10       10      82.55   \n",
       "5       0  2021-02-05  2021-02-11           15       6        9      92.05   \n",
       "6       0  2022-02-04  2022-02-10           19      10        9      61.05   \n",
       "7       0  2021-11-08  2021-11-11           14       5        9     119.55   \n",
       "8       0  2021-04-05  2021-04-08           17       8        9      71.45   \n",
       "9       0  2021-08-06  2021-08-12           20      10       10      67.20   \n",
       "10      0  2021-05-07  2021-05-12           16       8        8      36.80   \n",
       "11      0  2022-01-07  2022-01-13           16      11        5      36.85   \n",
       "12      0  2021-10-08  2021-10-14           19       8       11      16.75   \n",
       "13      0  2021-01-08  2021-01-14           15      11        4      38.75   \n",
       "14      0  2021-07-09  2021-07-15           17      10        7      45.00   \n",
       "15      0  2021-09-03  2021-09-16           30      17       13      45.95   \n",
       "16      0  2021-04-09  2021-04-15           14       6        8      73.35   \n",
       "17      0  2021-12-10  2021-12-16           24      13       11      39.75   \n",
       "\n",
       "    MaxLoss   WinRatio  ProfitLossRatio  TotalProfitPoints  TotalProfitsRs  \n",
       "0    -14.85  65.000000         2.312155             167.50          8375.0  \n",
       "1     -5.80  77.777778         4.769326             181.25          9062.5  \n",
       "2    -14.65  55.555556         1.468553              53.15          2657.5  \n",
       "3    -11.70  80.000000         4.125373             259.65         12982.5  \n",
       "4     -9.65  50.000000         4.017131             140.90          7045.0  \n",
       "5    -17.25  40.000000         2.577529              59.30          2965.0  \n",
       "6    -15.70  52.631579         2.229504             108.65          5432.5  \n",
       "7    -22.95  35.714286         4.091336              97.70          4885.0  \n",
       "8    -21.35  47.058824         1.827367              52.10          2605.0  \n",
       "9    -12.50  50.000000         2.030817              66.90          3345.0  \n",
       "10   -10.90  50.000000         2.363402              52.90          2645.0  \n",
       "11   -18.15  68.750000         0.833856              48.40          2420.0  \n",
       "12   -11.85  42.105263         1.151688             -13.35          -667.5  \n",
       "13   -15.60  73.333333         1.877783             113.05          5652.5  \n",
       "14   -19.05  58.823529         1.133333              42.90          2145.0  \n",
       "15   -14.65  56.666667         1.958560             130.75          6537.5  \n",
       "16   -18.05  42.857143         2.570246              63.50          3175.0  \n",
       "17   -22.55  54.166667         1.302319              54.80          2740.0  "
      ]
     },
     "execution_count": 36,
     "metadata": {},
     "output_type": "execute_result"
    }
   ],
   "source": [
    "performance"
   ]
  },
  {
   "cell_type": "code",
   "execution_count": 37,
   "id": "2a687247-8ef5-4152-9440-4302d0d06cab",
   "metadata": {},
   "outputs": [
    {
     "data": {
      "application/vnd.plotly.v1+json": {
       "config": {
        "plotlyServerURL": "https://plot.ly"
       },
       "data": [
        {
         "alignmentgroup": "True",
         "hovertemplate": "variable=TotalProfitsRs<br>index=%{x}<br>value=%{y}<extra></extra>",
         "legendgroup": "TotalProfitsRs",
         "marker": {
          "color": "#636efa",
          "pattern": {
           "shape": ""
          }
         },
         "name": "TotalProfitsRs",
         "offsetgroup": "TotalProfitsRs",
         "orientation": "v",
         "showlegend": true,
         "textposition": "auto",
         "type": "bar",
         "x": [
          0,
          1,
          2,
          3,
          4,
          5,
          6,
          7,
          8,
          9,
          10,
          11,
          12,
          13,
          14,
          15,
          16,
          17
         ],
         "xaxis": "x",
         "y": [
          8375,
          9062.5,
          2657.5,
          12982.5,
          7045,
          2965,
          5432.5,
          4885,
          2605,
          3345,
          2645,
          2420,
          -667.5,
          5652.5,
          2145,
          6537.5,
          3175,
          2740
         ],
         "yaxis": "y"
        }
       ],
       "layout": {
        "autosize": true,
        "barmode": "relative",
        "legend": {
         "title": {
          "text": "variable"
         },
         "tracegroupgap": 0
        },
        "margin": {
         "t": 60
        },
        "template": {
         "data": {
          "bar": [
           {
            "error_x": {
             "color": "#2a3f5f"
            },
            "error_y": {
             "color": "#2a3f5f"
            },
            "marker": {
             "line": {
              "color": "#E5ECF6",
              "width": 0.5
             },
             "pattern": {
              "fillmode": "overlay",
              "size": 10,
              "solidity": 0.2
             }
            },
            "type": "bar"
           }
          ],
          "barpolar": [
           {
            "marker": {
             "line": {
              "color": "#E5ECF6",
              "width": 0.5
             },
             "pattern": {
              "fillmode": "overlay",
              "size": 10,
              "solidity": 0.2
             }
            },
            "type": "barpolar"
           }
          ],
          "carpet": [
           {
            "aaxis": {
             "endlinecolor": "#2a3f5f",
             "gridcolor": "white",
             "linecolor": "white",
             "minorgridcolor": "white",
             "startlinecolor": "#2a3f5f"
            },
            "baxis": {
             "endlinecolor": "#2a3f5f",
             "gridcolor": "white",
             "linecolor": "white",
             "minorgridcolor": "white",
             "startlinecolor": "#2a3f5f"
            },
            "type": "carpet"
           }
          ],
          "choropleth": [
           {
            "colorbar": {
             "outlinewidth": 0,
             "ticks": ""
            },
            "type": "choropleth"
           }
          ],
          "contour": [
           {
            "colorbar": {
             "outlinewidth": 0,
             "ticks": ""
            },
            "colorscale": [
             [
              0,
              "#0d0887"
             ],
             [
              0.1111111111111111,
              "#46039f"
             ],
             [
              0.2222222222222222,
              "#7201a8"
             ],
             [
              0.3333333333333333,
              "#9c179e"
             ],
             [
              0.4444444444444444,
              "#bd3786"
             ],
             [
              0.5555555555555556,
              "#d8576b"
             ],
             [
              0.6666666666666666,
              "#ed7953"
             ],
             [
              0.7777777777777778,
              "#fb9f3a"
             ],
             [
              0.8888888888888888,
              "#fdca26"
             ],
             [
              1,
              "#f0f921"
             ]
            ],
            "type": "contour"
           }
          ],
          "contourcarpet": [
           {
            "colorbar": {
             "outlinewidth": 0,
             "ticks": ""
            },
            "type": "contourcarpet"
           }
          ],
          "heatmap": [
           {
            "colorbar": {
             "outlinewidth": 0,
             "ticks": ""
            },
            "colorscale": [
             [
              0,
              "#0d0887"
             ],
             [
              0.1111111111111111,
              "#46039f"
             ],
             [
              0.2222222222222222,
              "#7201a8"
             ],
             [
              0.3333333333333333,
              "#9c179e"
             ],
             [
              0.4444444444444444,
              "#bd3786"
             ],
             [
              0.5555555555555556,
              "#d8576b"
             ],
             [
              0.6666666666666666,
              "#ed7953"
             ],
             [
              0.7777777777777778,
              "#fb9f3a"
             ],
             [
              0.8888888888888888,
              "#fdca26"
             ],
             [
              1,
              "#f0f921"
             ]
            ],
            "type": "heatmap"
           }
          ],
          "heatmapgl": [
           {
            "colorbar": {
             "outlinewidth": 0,
             "ticks": ""
            },
            "colorscale": [
             [
              0,
              "#0d0887"
             ],
             [
              0.1111111111111111,
              "#46039f"
             ],
             [
              0.2222222222222222,
              "#7201a8"
             ],
             [
              0.3333333333333333,
              "#9c179e"
             ],
             [
              0.4444444444444444,
              "#bd3786"
             ],
             [
              0.5555555555555556,
              "#d8576b"
             ],
             [
              0.6666666666666666,
              "#ed7953"
             ],
             [
              0.7777777777777778,
              "#fb9f3a"
             ],
             [
              0.8888888888888888,
              "#fdca26"
             ],
             [
              1,
              "#f0f921"
             ]
            ],
            "type": "heatmapgl"
           }
          ],
          "histogram": [
           {
            "marker": {
             "pattern": {
              "fillmode": "overlay",
              "size": 10,
              "solidity": 0.2
             }
            },
            "type": "histogram"
           }
          ],
          "histogram2d": [
           {
            "colorbar": {
             "outlinewidth": 0,
             "ticks": ""
            },
            "colorscale": [
             [
              0,
              "#0d0887"
             ],
             [
              0.1111111111111111,
              "#46039f"
             ],
             [
              0.2222222222222222,
              "#7201a8"
             ],
             [
              0.3333333333333333,
              "#9c179e"
             ],
             [
              0.4444444444444444,
              "#bd3786"
             ],
             [
              0.5555555555555556,
              "#d8576b"
             ],
             [
              0.6666666666666666,
              "#ed7953"
             ],
             [
              0.7777777777777778,
              "#fb9f3a"
             ],
             [
              0.8888888888888888,
              "#fdca26"
             ],
             [
              1,
              "#f0f921"
             ]
            ],
            "type": "histogram2d"
           }
          ],
          "histogram2dcontour": [
           {
            "colorbar": {
             "outlinewidth": 0,
             "ticks": ""
            },
            "colorscale": [
             [
              0,
              "#0d0887"
             ],
             [
              0.1111111111111111,
              "#46039f"
             ],
             [
              0.2222222222222222,
              "#7201a8"
             ],
             [
              0.3333333333333333,
              "#9c179e"
             ],
             [
              0.4444444444444444,
              "#bd3786"
             ],
             [
              0.5555555555555556,
              "#d8576b"
             ],
             [
              0.6666666666666666,
              "#ed7953"
             ],
             [
              0.7777777777777778,
              "#fb9f3a"
             ],
             [
              0.8888888888888888,
              "#fdca26"
             ],
             [
              1,
              "#f0f921"
             ]
            ],
            "type": "histogram2dcontour"
           }
          ],
          "mesh3d": [
           {
            "colorbar": {
             "outlinewidth": 0,
             "ticks": ""
            },
            "type": "mesh3d"
           }
          ],
          "parcoords": [
           {
            "line": {
             "colorbar": {
              "outlinewidth": 0,
              "ticks": ""
             }
            },
            "type": "parcoords"
           }
          ],
          "pie": [
           {
            "automargin": true,
            "type": "pie"
           }
          ],
          "scatter": [
           {
            "marker": {
             "colorbar": {
              "outlinewidth": 0,
              "ticks": ""
             }
            },
            "type": "scatter"
           }
          ],
          "scatter3d": [
           {
            "line": {
             "colorbar": {
              "outlinewidth": 0,
              "ticks": ""
             }
            },
            "marker": {
             "colorbar": {
              "outlinewidth": 0,
              "ticks": ""
             }
            },
            "type": "scatter3d"
           }
          ],
          "scattercarpet": [
           {
            "marker": {
             "colorbar": {
              "outlinewidth": 0,
              "ticks": ""
             }
            },
            "type": "scattercarpet"
           }
          ],
          "scattergeo": [
           {
            "marker": {
             "colorbar": {
              "outlinewidth": 0,
              "ticks": ""
             }
            },
            "type": "scattergeo"
           }
          ],
          "scattergl": [
           {
            "marker": {
             "colorbar": {
              "outlinewidth": 0,
              "ticks": ""
             }
            },
            "type": "scattergl"
           }
          ],
          "scattermapbox": [
           {
            "marker": {
             "colorbar": {
              "outlinewidth": 0,
              "ticks": ""
             }
            },
            "type": "scattermapbox"
           }
          ],
          "scatterpolar": [
           {
            "marker": {
             "colorbar": {
              "outlinewidth": 0,
              "ticks": ""
             }
            },
            "type": "scatterpolar"
           }
          ],
          "scatterpolargl": [
           {
            "marker": {
             "colorbar": {
              "outlinewidth": 0,
              "ticks": ""
             }
            },
            "type": "scatterpolargl"
           }
          ],
          "scatterternary": [
           {
            "marker": {
             "colorbar": {
              "outlinewidth": 0,
              "ticks": ""
             }
            },
            "type": "scatterternary"
           }
          ],
          "surface": [
           {
            "colorbar": {
             "outlinewidth": 0,
             "ticks": ""
            },
            "colorscale": [
             [
              0,
              "#0d0887"
             ],
             [
              0.1111111111111111,
              "#46039f"
             ],
             [
              0.2222222222222222,
              "#7201a8"
             ],
             [
              0.3333333333333333,
              "#9c179e"
             ],
             [
              0.4444444444444444,
              "#bd3786"
             ],
             [
              0.5555555555555556,
              "#d8576b"
             ],
             [
              0.6666666666666666,
              "#ed7953"
             ],
             [
              0.7777777777777778,
              "#fb9f3a"
             ],
             [
              0.8888888888888888,
              "#fdca26"
             ],
             [
              1,
              "#f0f921"
             ]
            ],
            "type": "surface"
           }
          ],
          "table": [
           {
            "cells": {
             "fill": {
              "color": "#EBF0F8"
             },
             "line": {
              "color": "white"
             }
            },
            "header": {
             "fill": {
              "color": "#C8D4E3"
             },
             "line": {
              "color": "white"
             }
            },
            "type": "table"
           }
          ]
         },
         "layout": {
          "annotationdefaults": {
           "arrowcolor": "#2a3f5f",
           "arrowhead": 0,
           "arrowwidth": 1
          },
          "autotypenumbers": "strict",
          "coloraxis": {
           "colorbar": {
            "outlinewidth": 0,
            "ticks": ""
           }
          },
          "colorscale": {
           "diverging": [
            [
             0,
             "#8e0152"
            ],
            [
             0.1,
             "#c51b7d"
            ],
            [
             0.2,
             "#de77ae"
            ],
            [
             0.3,
             "#f1b6da"
            ],
            [
             0.4,
             "#fde0ef"
            ],
            [
             0.5,
             "#f7f7f7"
            ],
            [
             0.6,
             "#e6f5d0"
            ],
            [
             0.7,
             "#b8e186"
            ],
            [
             0.8,
             "#7fbc41"
            ],
            [
             0.9,
             "#4d9221"
            ],
            [
             1,
             "#276419"
            ]
           ],
           "sequential": [
            [
             0,
             "#0d0887"
            ],
            [
             0.1111111111111111,
             "#46039f"
            ],
            [
             0.2222222222222222,
             "#7201a8"
            ],
            [
             0.3333333333333333,
             "#9c179e"
            ],
            [
             0.4444444444444444,
             "#bd3786"
            ],
            [
             0.5555555555555556,
             "#d8576b"
            ],
            [
             0.6666666666666666,
             "#ed7953"
            ],
            [
             0.7777777777777778,
             "#fb9f3a"
            ],
            [
             0.8888888888888888,
             "#fdca26"
            ],
            [
             1,
             "#f0f921"
            ]
           ],
           "sequentialminus": [
            [
             0,
             "#0d0887"
            ],
            [
             0.1111111111111111,
             "#46039f"
            ],
            [
             0.2222222222222222,
             "#7201a8"
            ],
            [
             0.3333333333333333,
             "#9c179e"
            ],
            [
             0.4444444444444444,
             "#bd3786"
            ],
            [
             0.5555555555555556,
             "#d8576b"
            ],
            [
             0.6666666666666666,
             "#ed7953"
            ],
            [
             0.7777777777777778,
             "#fb9f3a"
            ],
            [
             0.8888888888888888,
             "#fdca26"
            ],
            [
             1,
             "#f0f921"
            ]
           ]
          },
          "colorway": [
           "#636efa",
           "#EF553B",
           "#00cc96",
           "#ab63fa",
           "#FFA15A",
           "#19d3f3",
           "#FF6692",
           "#B6E880",
           "#FF97FF",
           "#FECB52"
          ],
          "font": {
           "color": "#2a3f5f"
          },
          "geo": {
           "bgcolor": "white",
           "lakecolor": "white",
           "landcolor": "#E5ECF6",
           "showlakes": true,
           "showland": true,
           "subunitcolor": "white"
          },
          "hoverlabel": {
           "align": "left"
          },
          "hovermode": "closest",
          "mapbox": {
           "style": "light"
          },
          "paper_bgcolor": "white",
          "plot_bgcolor": "#E5ECF6",
          "polar": {
           "angularaxis": {
            "gridcolor": "white",
            "linecolor": "white",
            "ticks": ""
           },
           "bgcolor": "#E5ECF6",
           "radialaxis": {
            "gridcolor": "white",
            "linecolor": "white",
            "ticks": ""
           }
          },
          "scene": {
           "xaxis": {
            "backgroundcolor": "#E5ECF6",
            "gridcolor": "white",
            "gridwidth": 2,
            "linecolor": "white",
            "showbackground": true,
            "ticks": "",
            "zerolinecolor": "white"
           },
           "yaxis": {
            "backgroundcolor": "#E5ECF6",
            "gridcolor": "white",
            "gridwidth": 2,
            "linecolor": "white",
            "showbackground": true,
            "ticks": "",
            "zerolinecolor": "white"
           },
           "zaxis": {
            "backgroundcolor": "#E5ECF6",
            "gridcolor": "white",
            "gridwidth": 2,
            "linecolor": "white",
            "showbackground": true,
            "ticks": "",
            "zerolinecolor": "white"
           }
          },
          "shapedefaults": {
           "line": {
            "color": "#2a3f5f"
           }
          },
          "ternary": {
           "aaxis": {
            "gridcolor": "white",
            "linecolor": "white",
            "ticks": ""
           },
           "baxis": {
            "gridcolor": "white",
            "linecolor": "white",
            "ticks": ""
           },
           "bgcolor": "#E5ECF6",
           "caxis": {
            "gridcolor": "white",
            "linecolor": "white",
            "ticks": ""
           }
          },
          "title": {
           "x": 0.05
          },
          "xaxis": {
           "automargin": true,
           "gridcolor": "white",
           "linecolor": "white",
           "ticks": "",
           "title": {
            "standoff": 15
           },
           "zerolinecolor": "white",
           "zerolinewidth": 2
          },
          "yaxis": {
           "automargin": true,
           "gridcolor": "white",
           "linecolor": "white",
           "ticks": "",
           "title": {
            "standoff": 15
           },
           "zerolinecolor": "white",
           "zerolinewidth": 2
          }
         }
        },
        "xaxis": {
         "anchor": "y",
         "autorange": true,
         "domain": [
          0,
          1
         ],
         "range": [
          -0.5,
          17.5
         ],
         "title": {
          "text": "index"
         },
         "type": "linear"
        },
        "yaxis": {
         "anchor": "x",
         "autorange": true,
         "domain": [
          0,
          1
         ],
         "range": [
          -1425.8333333333333,
          13740.833333333334
         ],
         "title": {
          "text": "value"
         },
         "type": "linear"
        }
       }
      },
      "image/png": "[encoded data removed]",
      "text/html": [
       "<div>                            <div id=\"39b47b73-5d8a-4ad7-8378-d8df577c0187\" class=\"plotly-graph-div\" style=\"height:525px; width:100%;\"></div>            <script type=\"text/javascript\">                require([\"plotly\"], function(Plotly) {                    window.PLOTLYENV=window.PLOTLYENV || {};                                    if (document.getElementById(\"39b47b73-5d8a-4ad7-8378-d8df577c0187\")) {                    Plotly.newPlot(                        \"39b47b73-5d8a-4ad7-8378-d8df577c0187\",                        [{\"alignmentgroup\":\"True\",\"hovertemplate\":\"variable=TotalProfitsRs<br>index=%{x}<br>value=%{y}<extra></extra>\",\"legendgroup\":\"TotalProfitsRs\",\"marker\":{\"color\":\"#636efa\",\"pattern\":{\"shape\":\"\"}},\"name\":\"TotalProfitsRs\",\"offsetgroup\":\"TotalProfitsRs\",\"orientation\":\"v\",\"showlegend\":true,\"textposition\":\"auto\",\"type\":\"bar\",\"x\":[0,1,2,3,4,5,6,7,8,9,10,11,12,13,14,15,16,17],\"xaxis\":\"x\",\"y\":[8375.0,9062.5,2657.5,12982.5,7045.0,2965.0,5432.5,4885.0,2605.0,3345.0,2645.0,2420.0,-667.5,5652.5,2145.0,6537.5,3175.0,2740.0],\"yaxis\":\"y\"}],                        {\"barmode\":\"relative\",\"legend\":{\"title\":{\"text\":\"variable\"},\"tracegroupgap\":0},\"margin\":{\"t\":60},\"template\":{\"data\":{\"bar\":[{\"error_x\":{\"color\":\"#2a3f5f\"},\"error_y\":{\"color\":\"#2a3f5f\"},\"marker\":{\"line\":{\"color\":\"#E5ECF6\",\"width\":0.5},\"pattern\":{\"fillmode\":\"overlay\",\"size\":10,\"solidity\":0.2}},\"type\":\"bar\"}],\"barpolar\":[{\"marker\":{\"line\":{\"color\":\"#E5ECF6\",\"width\":0.5},\"pattern\":{\"fillmode\":\"overlay\",\"size\":10,\"solidity\":0.2}},\"type\":\"barpolar\"}],\"carpet\":[{\"aaxis\":{\"endlinecolor\":\"#2a3f5f\",\"gridcolor\":\"white\",\"linecolor\":\"white\",\"minorgridcolor\":\"white\",\"startlinecolor\":\"#2a3f5f\"},\"baxis\":{\"endlinecolor\":\"#2a3f5f\",\"gridcolor\":\"white\",\"linecolor\":\"white\",\"minorgridcolor\":\"white\",\"startlinecolor\":\"#2a3f5f\"},\"type\":\"carpet\"}],\"choropleth\":[{\"colorbar\":{\"outlinewidth\":0,\"ticks\":\"\"},\"type\":\"choropleth\"}],\"contour\":[{\"colorbar\":{\"outlinewidth\":0,\"ticks\":\"\"},\"colorscale\":[[0.0,\"#0d0887\"],[0.1111111111111111,\"#46039f\"],[0.2222222222222222,\"#7201a8\"],[0.3333333333333333,\"#9c179e\"],[0.4444444444444444,\"#bd3786\"],[0.5555555555555556,\"#d8576b\"],[0.6666666666666666,\"#ed7953\"],[0.7777777777777778,\"#fb9f3a\"],[0.8888888888888888,\"#fdca26\"],[1.0,\"#f0f921\"]],\"type\":\"contour\"}],\"contourcarpet\":[{\"colorbar\":{\"outlinewidth\":0,\"ticks\":\"\"},\"type\":\"contourcarpet\"}],\"heatmap\":[{\"colorbar\":{\"outlinewidth\":0,\"ticks\":\"\"},\"colorscale\":[[0.0,\"#0d0887\"],[0.1111111111111111,\"#46039f\"],[0.2222222222222222,\"#7201a8\"],[0.3333333333333333,\"#9c179e\"],[0.4444444444444444,\"#bd3786\"],[0.5555555555555556,\"#d8576b\"],[0.6666666666666666,\"#ed7953\"],[0.7777777777777778,\"#fb9f3a\"],[0.8888888888888888,\"#fdca26\"],[1.0,\"#f0f921\"]],\"type\":\"heatmap\"}],\"heatmapgl\":[{\"colorbar\":{\"outlinewidth\":0,\"ticks\":\"\"},\"colorscale\":[[0.0,\"#0d0887\"],[0.1111111111111111,\"#46039f\"],[0.2222222222222222,\"#7201a8\"],[0.3333333333333333,\"#9c179e\"],[0.4444444444444444,\"#bd3786\"],[0.5555555555555556,\"#d8576b\"],[0.6666666666666666,\"#ed7953\"],[0.7777777777777778,\"#fb9f3a\"],[0.8888888888888888,\"#fdca26\"],[1.0,\"#f0f921\"]],\"type\":\"heatmapgl\"}],\"histogram\":[{\"marker\":{\"pattern\":{\"fillmode\":\"overlay\",\"size\":10,\"solidity\":0.2}},\"type\":\"histogram\"}],\"histogram2d\":[{\"colorbar\":{\"outlinewidth\":0,\"ticks\":\"\"},\"colorscale\":[[0.0,\"#0d0887\"],[0.1111111111111111,\"#46039f\"],[0.2222222222222222,\"#7201a8\"],[0.3333333333333333,\"#9c179e\"],[0.4444444444444444,\"#bd3786\"],[0.5555555555555556,\"#d8576b\"],[0.6666666666666666,\"#ed7953\"],[0.7777777777777778,\"#fb9f3a\"],[0.8888888888888888,\"#fdca26\"],[1.0,\"#f0f921\"]],\"type\":\"histogram2d\"}],\"histogram2dcontour\":[{\"colorbar\":{\"outlinewidth\":0,\"ticks\":\"\"},\"colorscale\":[[0.0,\"#0d0887\"],[0.1111111111111111,\"#46039f\"],[0.2222222222222222,\"#7201a8\"],[0.3333333333333333,\"#9c179e\"],[0.4444444444444444,\"#bd3786\"],[0.5555555555555556,\"#d8576b\"],[0.6666666666666666,\"#ed7953\"],[0.7777777777777778,\"#fb9f3a\"],[0.8888888888888888,\"#fdca26\"],[1.0,\"#f0f921\"]],\"type\":\"histogram2dcontour\"}],\"mesh3d\":[{\"colorbar\":{\"outlinewidth\":0,\"ticks\":\"\"},\"type\":\"mesh3d\"}],\"parcoords\":[{\"line\":{\"colorbar\":{\"outlinewidth\":0,\"ticks\":\"\"}},\"type\":\"parcoords\"}],\"pie\":[{\"automargin\":true,\"type\":\"pie\"}],\"scatter\":[{\"marker\":{\"colorbar\":{\"outlinewidth\":0,\"ticks\":\"\"}},\"type\":\"scatter\"}],\"scatter3d\":[{\"line\":{\"colorbar\":{\"outlinewidth\":0,\"ticks\":\"\"}},\"marker\":{\"colorbar\":{\"outlinewidth\":0,\"ticks\":\"\"}},\"type\":\"scatter3d\"}],\"scattercarpet\":[{\"marker\":{\"colorbar\":{\"outlinewidth\":0,\"ticks\":\"\"}},\"type\":\"scattercarpet\"}],\"scattergeo\":[{\"marker\":{\"colorbar\":{\"outlinewidth\":0,\"ticks\":\"\"}},\"type\":\"scattergeo\"}],\"scattergl\":[{\"marker\":{\"colorbar\":{\"outlinewidth\":0,\"ticks\":\"\"}},\"type\":\"scattergl\"}],\"scattermapbox\":[{\"marker\":{\"colorbar\":{\"outlinewidth\":0,\"ticks\":\"\"}},\"type\":\"scattermapbox\"}],\"scatterpolar\":[{\"marker\":{\"colorbar\":{\"outlinewidth\":0,\"ticks\":\"\"}},\"type\":\"scatterpolar\"}],\"scatterpolargl\":[{\"marker\":{\"colorbar\":{\"outlinewidth\":0,\"ticks\":\"\"}},\"type\":\"scatterpolargl\"}],\"scatterternary\":[{\"marker\":{\"colorbar\":{\"outlinewidth\":0,\"ticks\":\"\"}},\"type\":\"scatterternary\"}],\"surface\":[{\"colorbar\":{\"outlinewidth\":0,\"ticks\":\"\"},\"colorscale\":[[0.0,\"#0d0887\"],[0.1111111111111111,\"#46039f\"],[0.2222222222222222,\"#7201a8\"],[0.3333333333333333,\"#9c179e\"],[0.4444444444444444,\"#bd3786\"],[0.5555555555555556,\"#d8576b\"],[0.6666666666666666,\"#ed7953\"],[0.7777777777777778,\"#fb9f3a\"],[0.8888888888888888,\"#fdca26\"],[1.0,\"#f0f921\"]],\"type\":\"surface\"}],\"table\":[{\"cells\":{\"fill\":{\"color\":\"#EBF0F8\"},\"line\":{\"color\":\"white\"}},\"header\":{\"fill\":{\"color\":\"#C8D4E3\"},\"line\":{\"color\":\"white\"}},\"type\":\"table\"}]},\"layout\":{\"annotationdefaults\":{\"arrowcolor\":\"#2a3f5f\",\"arrowhead\":0,\"arrowwidth\":1},\"autotypenumbers\":\"strict\",\"coloraxis\":{\"colorbar\":{\"outlinewidth\":0,\"ticks\":\"\"}},\"colorscale\":{\"diverging\":[[0,\"#8e0152\"],[0.1,\"#c51b7d\"],[0.2,\"#de77ae\"],[0.3,\"#f1b6da\"],[0.4,\"#fde0ef\"],[0.5,\"#f7f7f7\"],[0.6,\"#e6f5d0\"],[0.7,\"#b8e186\"],[0.8,\"#7fbc41\"],[0.9,\"#4d9221\"],[1,\"#276419\"]],\"sequential\":[[0.0,\"#0d0887\"],[0.1111111111111111,\"#46039f\"],[0.2222222222222222,\"#7201a8\"],[0.3333333333333333,\"#9c179e\"],[0.4444444444444444,\"#bd3786\"],[0.5555555555555556,\"#d8576b\"],[0.6666666666666666,\"#ed7953\"],[0.7777777777777778,\"#fb9f3a\"],[0.8888888888888888,\"#fdca26\"],[1.0,\"#f0f921\"]],\"sequentialminus\":[[0.0,\"#0d0887\"],[0.1111111111111111,\"#46039f\"],[0.2222222222222222,\"#7201a8\"],[0.3333333333333333,\"#9c179e\"],[0.4444444444444444,\"#bd3786\"],[0.5555555555555556,\"#d8576b\"],[0.6666666666666666,\"#ed7953\"],[0.7777777777777778,\"#fb9f3a\"],[0.8888888888888888,\"#fdca26\"],[1.0,\"#f0f921\"]]},\"colorway\":[\"#636efa\",\"#EF553B\",\"#00cc96\",\"#ab63fa\",\"#FFA15A\",\"#19d3f3\",\"#FF6692\",\"#B6E880\",\"#FF97FF\",\"#FECB52\"],\"font\":{\"color\":\"#2a3f5f\"},\"geo\":{\"bgcolor\":\"white\",\"lakecolor\":\"white\",\"landcolor\":\"#E5ECF6\",\"showlakes\":true,\"showland\":true,\"subunitcolor\":\"white\"},\"hoverlabel\":{\"align\":\"left\"},\"hovermode\":\"closest\",\"mapbox\":{\"style\":\"light\"},\"paper_bgcolor\":\"white\",\"plot_bgcolor\":\"#E5ECF6\",\"polar\":{\"angularaxis\":{\"gridcolor\":\"white\",\"linecolor\":\"white\",\"ticks\":\"\"},\"bgcolor\":\"#E5ECF6\",\"radialaxis\":{\"gridcolor\":\"white\",\"linecolor\":\"white\",\"ticks\":\"\"}},\"scene\":{\"xaxis\":{\"backgroundcolor\":\"#E5ECF6\",\"gridcolor\":\"white\",\"gridwidth\":2,\"linecolor\":\"white\",\"showbackground\":true,\"ticks\":\"\",\"zerolinecolor\":\"white\"},\"yaxis\":{\"backgroundcolor\":\"#E5ECF6\",\"gridcolor\":\"white\",\"gridwidth\":2,\"linecolor\":\"white\",\"showbackground\":true,\"ticks\":\"\",\"zerolinecolor\":\"white\"},\"zaxis\":{\"backgroundcolor\":\"#E5ECF6\",\"gridcolor\":\"white\",\"gridwidth\":2,\"linecolor\":\"white\",\"showbackground\":true,\"ticks\":\"\",\"zerolinecolor\":\"white\"}},\"shapedefaults\":{\"line\":{\"color\":\"#2a3f5f\"}},\"ternary\":{\"aaxis\":{\"gridcolor\":\"white\",\"linecolor\":\"white\",\"ticks\":\"\"},\"baxis\":{\"gridcolor\":\"white\",\"linecolor\":\"white\",\"ticks\":\"\"},\"bgcolor\":\"#E5ECF6\",\"caxis\":{\"gridcolor\":\"white\",\"linecolor\":\"white\",\"ticks\":\"\"}},\"title\":{\"x\":0.05},\"xaxis\":{\"automargin\":true,\"gridcolor\":\"white\",\"linecolor\":\"white\",\"ticks\":\"\",\"title\":{\"standoff\":15},\"zerolinecolor\":\"white\",\"zerolinewidth\":2},\"yaxis\":{\"automargin\":true,\"gridcolor\":\"white\",\"linecolor\":\"white\",\"ticks\":\"\",\"title\":{\"standoff\":15},\"zerolinecolor\":\"white\",\"zerolinewidth\":2}}},\"xaxis\":{\"anchor\":\"y\",\"domain\":[0.0,1.0],\"title\":{\"text\":\"index\"}},\"yaxis\":{\"anchor\":\"x\",\"domain\":[0.0,1.0],\"title\":{\"text\":\"value\"}}},                        {\"responsive\": true}                    ).then(function(){\n",
       "                            \n",
       "var gd = document.getElementById('39b47b73-5d8a-4ad7-8378-d8df577c0187');\n",
       "var x = new MutationObserver(function (mutations, observer) {{\n",
       "        var display = window.getComputedStyle(gd).display;\n",
       "        if (!display || display === 'none') {{\n",
       "            console.log([gd, 'removed!']);\n",
       "            Plotly.purge(gd);\n",
       "            observer.disconnect();\n",
       "        }}\n",
       "}});\n",
       "\n",
       "// Listen for the removal of the full notebook cells\n",
       "var notebookContainer = gd.closest('#notebook-container');\n",
       "if (notebookContainer) {{\n",
       "    x.observe(notebookContainer, {childList: true});\n",
       "}}\n",
       "\n",
       "// Listen for the clearing of the current output cell\n",
       "var outputEl = gd.closest('.output');\n",
       "if (outputEl) {{\n",
       "    x.observe(outputEl, {childList: true});\n",
       "}}\n",
       "\n",
       "                        })                };                });            </script>        </div>"
      ]
     },
     "metadata": {},
     "output_type": "display_data"
    }
   ],
   "source": [
    "fig=px.bar(performance.TotalProfitsRs)\n",
    "fig.show()"
   ]
  },
  {
   "cell_type": "code",
   "execution_count": 38,
   "id": "6ad7257e-1509-4a50-99e9-4ad3b06b4b8c",
   "metadata": {},
   "outputs": [],
   "source": [
    "performance['trend']=performance['TotalProfitsRs'].cumsum()"
   ]
  },
  {
   "cell_type": "code",
   "execution_count": 39,
   "id": "bb68d683-4f0c-45b8-996e-34ab0a78bd43",
   "metadata": {
    "tags": []
   },
   "outputs": [
    {
     "data": {
      "application/vnd.plotly.v1+json": {
       "config": {
        "plotlyServerURL": "https://plot.ly"
       },
       "data": [
        {
         "hovertemplate": "variable=trend<br>index=%{x}<br>value=%{y}<extra></extra>",
         "legendgroup": "trend",
         "line": {
          "color": "#636efa",
          "dash": "solid"
         },
         "marker": {
          "symbol": "circle"
         },
         "mode": "lines",
         "name": "trend",
         "orientation": "v",
         "showlegend": true,
         "type": "scatter",
         "x": [
          0,
          1,
          2,
          3,
          4,
          5,
          6,
          7,
          8,
          9,
          10,
          11,
          12,
          13,
          14,
          15,
          16,
          17
         ],
         "xaxis": "x",
         "y": [
          8375,
          17437.5,
          20095,
          33077.5,
          40122.5,
          43087.5,
          48520,
          53405,
          56010,
          59355,
          62000,
          64420,
          63752.5,
          69405,
          71550,
          78087.5,
          81262.5,
          84002.5
         ],
         "yaxis": "y"
        }
       ],
       "layout": {
        "autosize": true,
        "legend": {
         "title": {
          "text": "variable"
         },
         "tracegroupgap": 0
        },
        "margin": {
         "t": 60
        },
        "template": {
         "data": {
          "bar": [
           {
            "error_x": {
             "color": "#2a3f5f"
            },
            "error_y": {
             "color": "#2a3f5f"
            },
            "marker": {
             "line": {
              "color": "#E5ECF6",
              "width": 0.5
             },
             "pattern": {
              "fillmode": "overlay",
              "size": 10,
              "solidity": 0.2
             }
            },
            "type": "bar"
           }
          ],
          "barpolar": [
           {
            "marker": {
             "line": {
              "color": "#E5ECF6",
              "width": 0.5
             },
             "pattern": {
              "fillmode": "overlay",
              "size": 10,
              "solidity": 0.2
             }
            },
            "type": "barpolar"
           }
          ],
          "carpet": [
           {
            "aaxis": {
             "endlinecolor": "#2a3f5f",
             "gridcolor": "white",
             "linecolor": "white",
             "minorgridcolor": "white",
             "startlinecolor": "#2a3f5f"
            },
            "baxis": {
             "endlinecolor": "#2a3f5f",
             "gridcolor": "white",
             "linecolor": "white",
             "minorgridcolor": "white",
             "startlinecolor": "#2a3f5f"
            },
            "type": "carpet"
           }
          ],
          "choropleth": [
           {
            "colorbar": {
             "outlinewidth": 0,
             "ticks": ""
            },
            "type": "choropleth"
           }
          ],
          "contour": [
           {
            "colorbar": {
             "outlinewidth": 0,
             "ticks": ""
            },
            "colorscale": [
             [
              0,
              "#0d0887"
             ],
             [
              0.1111111111111111,
              "#46039f"
             ],
             [
              0.2222222222222222,
              "#7201a8"
             ],
             [
              0.3333333333333333,
              "#9c179e"
             ],
             [
              0.4444444444444444,
              "#bd3786"
             ],
             [
              0.5555555555555556,
              "#d8576b"
             ],
             [
              0.6666666666666666,
              "#ed7953"
             ],
             [
              0.7777777777777778,
              "#fb9f3a"
             ],
             [
              0.8888888888888888,
              "#fdca26"
             ],
             [
              1,
              "#f0f921"
             ]
            ],
            "type": "contour"
           }
          ],
          "contourcarpet": [
           {
            "colorbar": {
             "outlinewidth": 0,
             "ticks": ""
            },
            "type": "contourcarpet"
           }
          ],
          "heatmap": [
           {
            "colorbar": {
             "outlinewidth": 0,
             "ticks": ""
            },
            "colorscale": [
             [
              0,
              "#0d0887"
             ],
             [
              0.1111111111111111,
              "#46039f"
             ],
             [
              0.2222222222222222,
              "#7201a8"
             ],
             [
              0.3333333333333333,
              "#9c179e"
             ],
             [
              0.4444444444444444,
              "#bd3786"
             ],
             [
              0.5555555555555556,
              "#d8576b"
             ],
             [
              0.6666666666666666,
              "#ed7953"
             ],
             [
              0.7777777777777778,
              "#fb9f3a"
             ],
             [
              0.8888888888888888,
              "#fdca26"
             ],
             [
              1,
              "#f0f921"
             ]
            ],
            "type": "heatmap"
           }
          ],
          "heatmapgl": [
           {
            "colorbar": {
             "outlinewidth": 0,
             "ticks": ""
            },
            "colorscale": [
             [
              0,
              "#0d0887"
             ],
             [
              0.1111111111111111,
              "#46039f"
             ],
             [
              0.2222222222222222,
              "#7201a8"
             ],
             [
              0.3333333333333333,
              "#9c179e"
             ],
             [
              0.4444444444444444,
              "#bd3786"
             ],
             [
              0.5555555555555556,
              "#d8576b"
             ],
             [
              0.6666666666666666,
              "#ed7953"
             ],
             [
              0.7777777777777778,
              "#fb9f3a"
             ],
             [
              0.8888888888888888,
              "#fdca26"
             ],
             [
              1,
              "#f0f921"
             ]
            ],
            "type": "heatmapgl"
           }
          ],
          "histogram": [
           {
            "marker": {
             "pattern": {
              "fillmode": "overlay",
              "size": 10,
              "solidity": 0.2
             }
            },
            "type": "histogram"
           }
          ],
          "histogram2d": [
           {
            "colorbar": {
             "outlinewidth": 0,
             "ticks": ""
            },
            "colorscale": [
             [
              0,
              "#0d0887"
             ],
             [
              0.1111111111111111,
              "#46039f"
             ],
             [
              0.2222222222222222,
              "#7201a8"
             ],
             [
              0.3333333333333333,
              "#9c179e"
             ],
             [
              0.4444444444444444,
              "#bd3786"
             ],
             [
              0.5555555555555556,
              "#d8576b"
             ],
             [
              0.6666666666666666,
              "#ed7953"
             ],
             [
              0.7777777777777778,
              "#fb9f3a"
             ],
             [
              0.8888888888888888,
              "#fdca26"
             ],
             [
              1,
              "#f0f921"
             ]
            ],
            "type": "histogram2d"
           }
          ],
          "histogram2dcontour": [
           {
            "colorbar": {
             "outlinewidth": 0,
             "ticks": ""
            },
            "colorscale": [
             [
              0,
              "#0d0887"
             ],
             [
              0.1111111111111111,
              "#46039f"
             ],
             [
              0.2222222222222222,
              "#7201a8"
             ],
             [
              0.3333333333333333,
              "#9c179e"
             ],
             [
              0.4444444444444444,
              "#bd3786"
             ],
             [
              0.5555555555555556,
              "#d8576b"
             ],
             [
              0.6666666666666666,
              "#ed7953"
             ],
             [
              0.7777777777777778,
              "#fb9f3a"
             ],
             [
              0.8888888888888888,
              "#fdca26"
             ],
             [
              1,
              "#f0f921"
             ]
            ],
            "type": "histogram2dcontour"
           }
          ],
          "mesh3d": [
           {
            "colorbar": {
             "outlinewidth": 0,
             "ticks": ""
            },
            "type": "mesh3d"
           }
          ],
          "parcoords": [
           {
            "line": {
             "colorbar": {
              "outlinewidth": 0,
              "ticks": ""
             }
            },
            "type": "parcoords"
           }
          ],
          "pie": [
           {
            "automargin": true,
            "type": "pie"
           }
          ],
          "scatter": [
           {
            "marker": {
             "colorbar": {
              "outlinewidth": 0,
              "ticks": ""
             }
            },
            "type": "scatter"
           }
          ],
          "scatter3d": [
           {
            "line": {
             "colorbar": {
              "outlinewidth": 0,
              "ticks": ""
             }
            },
            "marker": {
             "colorbar": {
              "outlinewidth": 0,
              "ticks": ""
             }
            },
            "type": "scatter3d"
           }
          ],
          "scattercarpet": [
           {
            "marker": {
             "colorbar": {
              "outlinewidth": 0,
              "ticks": ""
             }
            },
            "type": "scattercarpet"
           }
          ],
          "scattergeo": [
           {
            "marker": {
             "colorbar": {
              "outlinewidth": 0,
              "ticks": ""
             }
            },
            "type": "scattergeo"
           }
          ],
          "scattergl": [
           {
            "marker": {
             "colorbar": {
              "outlinewidth": 0,
              "ticks": ""
             }
            },
            "type": "scattergl"
           }
          ],
          "scattermapbox": [
           {
            "marker": {
             "colorbar": {
              "outlinewidth": 0,
              "ticks": ""
             }
            },
            "type": "scattermapbox"
           }
          ],
          "scatterpolar": [
           {
            "marker": {
             "colorbar": {
              "outlinewidth": 0,
              "ticks": ""
             }
            },
            "type": "scatterpolar"
           }
          ],
          "scatterpolargl": [
           {
            "marker": {
             "colorbar": {
              "outlinewidth": 0,
              "ticks": ""
             }
            },
            "type": "scatterpolargl"
           }
          ],
          "scatterternary": [
           {
            "marker": {
             "colorbar": {
              "outlinewidth": 0,
              "ticks": ""
             }
            },
            "type": "scatterternary"
           }
          ],
          "surface": [
           {
            "colorbar": {
             "outlinewidth": 0,
             "ticks": ""
            },
            "colorscale": [
             [
              0,
              "#0d0887"
             ],
             [
              0.1111111111111111,
              "#46039f"
             ],
             [
              0.2222222222222222,
              "#7201a8"
             ],
             [
              0.3333333333333333,
              "#9c179e"
             ],
             [
              0.4444444444444444,
              "#bd3786"
             ],
             [
              0.5555555555555556,
              "#d8576b"
             ],
             [
              0.6666666666666666,
              "#ed7953"
             ],
             [
              0.7777777777777778,
              "#fb9f3a"
             ],
             [
              0.8888888888888888,
              "#fdca26"
             ],
             [
              1,
              "#f0f921"
             ]
            ],
            "type": "surface"
           }
          ],
          "table": [
           {
            "cells": {
             "fill": {
              "color": "#EBF0F8"
             },
             "line": {
              "color": "white"
             }
            },
            "header": {
             "fill": {
              "color": "#C8D4E3"
             },
             "line": {
              "color": "white"
             }
            },
            "type": "table"
           }
          ]
         },
         "layout": {
          "annotationdefaults": {
           "arrowcolor": "#2a3f5f",
           "arrowhead": 0,
           "arrowwidth": 1
          },
          "autotypenumbers": "strict",
          "coloraxis": {
           "colorbar": {
            "outlinewidth": 0,
            "ticks": ""
           }
          },
          "colorscale": {
           "diverging": [
            [
             0,
             "#8e0152"
            ],
            [
             0.1,
             "#c51b7d"
            ],
            [
             0.2,
             "#de77ae"
            ],
            [
             0.3,
             "#f1b6da"
            ],
            [
             0.4,
             "#fde0ef"
            ],
            [
             0.5,
             "#f7f7f7"
            ],
            [
             0.6,
             "#e6f5d0"
            ],
            [
             0.7,
             "#b8e186"
            ],
            [
             0.8,
             "#7fbc41"
            ],
            [
             0.9,
             "#4d9221"
            ],
            [
             1,
             "#276419"
            ]
           ],
           "sequential": [
            [
             0,
             "#0d0887"
            ],
            [
             0.1111111111111111,
             "#46039f"
            ],
            [
             0.2222222222222222,
             "#7201a8"
            ],
            [
             0.3333333333333333,
             "#9c179e"
            ],
            [
             0.4444444444444444,
             "#bd3786"
            ],
            [
             0.5555555555555556,
             "#d8576b"
            ],
            [
             0.6666666666666666,
             "#ed7953"
            ],
            [
             0.7777777777777778,
             "#fb9f3a"
            ],
            [
             0.8888888888888888,
             "#fdca26"
            ],
            [
             1,
             "#f0f921"
            ]
           ],
           "sequentialminus": [
            [
             0,
             "#0d0887"
            ],
            [
             0.1111111111111111,
             "#46039f"
            ],
            [
             0.2222222222222222,
             "#7201a8"
            ],
            [
             0.3333333333333333,
             "#9c179e"
            ],
            [
             0.4444444444444444,
             "#bd3786"
            ],
            [
             0.5555555555555556,
             "#d8576b"
            ],
            [
             0.6666666666666666,
             "#ed7953"
            ],
            [
             0.7777777777777778,
             "#fb9f3a"
            ],
            [
             0.8888888888888888,
             "#fdca26"
            ],
            [
             1,
             "#f0f921"
            ]
           ]
          },
          "colorway": [
           "#636efa",
           "#EF553B",
           "#00cc96",
           "#ab63fa",
           "#FFA15A",
           "#19d3f3",
           "#FF6692",
           "#B6E880",
           "#FF97FF",
           "#FECB52"
          ],
          "font": {
           "color": "#2a3f5f"
          },
          "geo": {
           "bgcolor": "white",
           "lakecolor": "white",
           "landcolor": "#E5ECF6",
           "showlakes": true,
           "showland": true,
           "subunitcolor": "white"
          },
          "hoverlabel": {
           "align": "left"
          },
          "hovermode": "closest",
          "mapbox": {
           "style": "light"
          },
          "paper_bgcolor": "white",
          "plot_bgcolor": "#E5ECF6",
          "polar": {
           "angularaxis": {
            "gridcolor": "white",
            "linecolor": "white",
            "ticks": ""
           },
           "bgcolor": "#E5ECF6",
           "radialaxis": {
            "gridcolor": "white",
            "linecolor": "white",
            "ticks": ""
           }
          },
          "scene": {
           "xaxis": {
            "backgroundcolor": "#E5ECF6",
            "gridcolor": "white",
            "gridwidth": 2,
            "linecolor": "white",
            "showbackground": true,
            "ticks": "",
            "zerolinecolor": "white"
           },
           "yaxis": {
            "backgroundcolor": "#E5ECF6",
            "gridcolor": "white",
            "gridwidth": 2,
            "linecolor": "white",
            "showbackground": true,
            "ticks": "",
            "zerolinecolor": "white"
           },
           "zaxis": {
            "backgroundcolor": "#E5ECF6",
            "gridcolor": "white",
            "gridwidth": 2,
            "linecolor": "white",
            "showbackground": true,
            "ticks": "",
            "zerolinecolor": "white"
           }
          },
          "shapedefaults": {
           "line": {
            "color": "#2a3f5f"
           }
          },
          "ternary": {
           "aaxis": {
            "gridcolor": "white",
            "linecolor": "white",
            "ticks": ""
           },
           "baxis": {
            "gridcolor": "white",
            "linecolor": "white",
            "ticks": ""
           },
           "bgcolor": "#E5ECF6",
           "caxis": {
            "gridcolor": "white",
            "linecolor": "white",
            "ticks": ""
           }
          },
          "title": {
           "x": 0.05
          },
          "xaxis": {
           "automargin": true,
           "gridcolor": "white",
           "linecolor": "white",
           "ticks": "",
           "title": {
            "standoff": 15
           },
           "zerolinecolor": "white",
           "zerolinewidth": 2
          },
          "yaxis": {
           "automargin": true,
           "gridcolor": "white",
           "linecolor": "white",
           "ticks": "",
           "title": {
            "standoff": 15
           },
           "zerolinecolor": "white",
           "zerolinewidth": 2
          }
         }
        },
        "xaxis": {
         "anchor": "y",
         "autorange": true,
         "domain": [
          0,
          1
         ],
         "range": [
          0,
          17
         ],
         "title": {
          "text": "index"
         },
         "type": "linear"
        },
        "yaxis": {
         "anchor": "x",
         "autorange": true,
         "domain": [
          0,
          1
         ],
         "range": [
          4173.472222222222,
          88204.02777777778
         ],
         "title": {
          "text": "value"
         },
         "type": "linear"
        }
       }
      },
      "image/png": "[encoded data removed]",
      "text/html": [
       "<div>                            <div id=\"0b721cc2-e643-4612-8918-ff4b5841dfa2\" class=\"plotly-graph-div\" style=\"height:525px; width:100%;\"></div>            <script type=\"text/javascript\">                require([\"plotly\"], function(Plotly) {                    window.PLOTLYENV=window.PLOTLYENV || {};                                    if (document.getElementById(\"0b721cc2-e643-4612-8918-ff4b5841dfa2\")) {                    Plotly.newPlot(                        \"0b721cc2-e643-4612-8918-ff4b5841dfa2\",                        [{\"hovertemplate\":\"variable=trend<br>index=%{x}<br>value=%{y}<extra></extra>\",\"legendgroup\":\"trend\",\"line\":{\"color\":\"#636efa\",\"dash\":\"solid\"},\"marker\":{\"symbol\":\"circle\"},\"mode\":\"lines\",\"name\":\"trend\",\"orientation\":\"v\",\"showlegend\":true,\"type\":\"scatter\",\"x\":[0,1,2,3,4,5,6,7,8,9,10,11,12,13,14,15,16,17],\"xaxis\":\"x\",\"y\":[8375.0,17437.5,20095.0,33077.5,40122.5,43087.5,48520.0,53405.0,56010.0,59355.0,62000.0,64420.0,63752.5,69405.0,71550.0,78087.5,81262.5,84002.5],\"yaxis\":\"y\"}],                        {\"legend\":{\"title\":{\"text\":\"variable\"},\"tracegroupgap\":0},\"margin\":{\"t\":60},\"template\":{\"data\":{\"bar\":[{\"error_x\":{\"color\":\"#2a3f5f\"},\"error_y\":{\"color\":\"#2a3f5f\"},\"marker\":{\"line\":{\"color\":\"#E5ECF6\",\"width\":0.5},\"pattern\":{\"fillmode\":\"overlay\",\"size\":10,\"solidity\":0.2}},\"type\":\"bar\"}],\"barpolar\":[{\"marker\":{\"line\":{\"color\":\"#E5ECF6\",\"width\":0.5},\"pattern\":{\"fillmode\":\"overlay\",\"size\":10,\"solidity\":0.2}},\"type\":\"barpolar\"}],\"carpet\":[{\"aaxis\":{\"endlinecolor\":\"#2a3f5f\",\"gridcolor\":\"white\",\"linecolor\":\"white\",\"minorgridcolor\":\"white\",\"startlinecolor\":\"#2a3f5f\"},\"baxis\":{\"endlinecolor\":\"#2a3f5f\",\"gridcolor\":\"white\",\"linecolor\":\"white\",\"minorgridcolor\":\"white\",\"startlinecolor\":\"#2a3f5f\"},\"type\":\"carpet\"}],\"choropleth\":[{\"colorbar\":{\"outlinewidth\":0,\"ticks\":\"\"},\"type\":\"choropleth\"}],\"contour\":[{\"colorbar\":{\"outlinewidth\":0,\"ticks\":\"\"},\"colorscale\":[[0.0,\"#0d0887\"],[0.1111111111111111,\"#46039f\"],[0.2222222222222222,\"#7201a8\"],[0.3333333333333333,\"#9c179e\"],[0.4444444444444444,\"#bd3786\"],[0.5555555555555556,\"#d8576b\"],[0.6666666666666666,\"#ed7953\"],[0.7777777777777778,\"#fb9f3a\"],[0.8888888888888888,\"#fdca26\"],[1.0,\"#f0f921\"]],\"type\":\"contour\"}],\"contourcarpet\":[{\"colorbar\":{\"outlinewidth\":0,\"ticks\":\"\"},\"type\":\"contourcarpet\"}],\"heatmap\":[{\"colorbar\":{\"outlinewidth\":0,\"ticks\":\"\"},\"colorscale\":[[0.0,\"#0d0887\"],[0.1111111111111111,\"#46039f\"],[0.2222222222222222,\"#7201a8\"],[0.3333333333333333,\"#9c179e\"],[0.4444444444444444,\"#bd3786\"],[0.5555555555555556,\"#d8576b\"],[0.6666666666666666,\"#ed7953\"],[0.7777777777777778,\"#fb9f3a\"],[0.8888888888888888,\"#fdca26\"],[1.0,\"#f0f921\"]],\"type\":\"heatmap\"}],\"heatmapgl\":[{\"colorbar\":{\"outlinewidth\":0,\"ticks\":\"\"},\"colorscale\":[[0.0,\"#0d0887\"],[0.1111111111111111,\"#46039f\"],[0.2222222222222222,\"#7201a8\"],[0.3333333333333333,\"#9c179e\"],[0.4444444444444444,\"#bd3786\"],[0.5555555555555556,\"#d8576b\"],[0.6666666666666666,\"#ed7953\"],[0.7777777777777778,\"#fb9f3a\"],[0.8888888888888888,\"#fdca26\"],[1.0,\"#f0f921\"]],\"type\":\"heatmapgl\"}],\"histogram\":[{\"marker\":{\"pattern\":{\"fillmode\":\"overlay\",\"size\":10,\"solidity\":0.2}},\"type\":\"histogram\"}],\"histogram2d\":[{\"colorbar\":{\"outlinewidth\":0,\"ticks\":\"\"},\"colorscale\":[[0.0,\"#0d0887\"],[0.1111111111111111,\"#46039f\"],[0.2222222222222222,\"#7201a8\"],[0.3333333333333333,\"#9c179e\"],[0.4444444444444444,\"#bd3786\"],[0.5555555555555556,\"#d8576b\"],[0.6666666666666666,\"#ed7953\"],[0.7777777777777778,\"#fb9f3a\"],[0.8888888888888888,\"#fdca26\"],[1.0,\"#f0f921\"]],\"type\":\"histogram2d\"}],\"histogram2dcontour\":[{\"colorbar\":{\"outlinewidth\":0,\"ticks\":\"\"},\"colorscale\":[[0.0,\"#0d0887\"],[0.1111111111111111,\"#46039f\"],[0.2222222222222222,\"#7201a8\"],[0.3333333333333333,\"#9c179e\"],[0.4444444444444444,\"#bd3786\"],[0.5555555555555556,\"#d8576b\"],[0.6666666666666666,\"#ed7953\"],[0.7777777777777778,\"#fb9f3a\"],[0.8888888888888888,\"#fdca26\"],[1.0,\"#f0f921\"]],\"type\":\"histogram2dcontour\"}],\"mesh3d\":[{\"colorbar\":{\"outlinewidth\":0,\"ticks\":\"\"},\"type\":\"mesh3d\"}],\"parcoords\":[{\"line\":{\"colorbar\":{\"outlinewidth\":0,\"ticks\":\"\"}},\"type\":\"parcoords\"}],\"pie\":[{\"automargin\":true,\"type\":\"pie\"}],\"scatter\":[{\"marker\":{\"colorbar\":{\"outlinewidth\":0,\"ticks\":\"\"}},\"type\":\"scatter\"}],\"scatter3d\":[{\"line\":{\"colorbar\":{\"outlinewidth\":0,\"ticks\":\"\"}},\"marker\":{\"colorbar\":{\"outlinewidth\":0,\"ticks\":\"\"}},\"type\":\"scatter3d\"}],\"scattercarpet\":[{\"marker\":{\"colorbar\":{\"outlinewidth\":0,\"ticks\":\"\"}},\"type\":\"scattercarpet\"}],\"scattergeo\":[{\"marker\":{\"colorbar\":{\"outlinewidth\":0,\"ticks\":\"\"}},\"type\":\"scattergeo\"}],\"scattergl\":[{\"marker\":{\"colorbar\":{\"outlinewidth\":0,\"ticks\":\"\"}},\"type\":\"scattergl\"}],\"scattermapbox\":[{\"marker\":{\"colorbar\":{\"outlinewidth\":0,\"ticks\":\"\"}},\"type\":\"scattermapbox\"}],\"scatterpolar\":[{\"marker\":{\"colorbar\":{\"outlinewidth\":0,\"ticks\":\"\"}},\"type\":\"scatterpolar\"}],\"scatterpolargl\":[{\"marker\":{\"colorbar\":{\"outlinewidth\":0,\"ticks\":\"\"}},\"type\":\"scatterpolargl\"}],\"scatterternary\":[{\"marker\":{\"colorbar\":{\"outlinewidth\":0,\"ticks\":\"\"}},\"type\":\"scatterternary\"}],\"surface\":[{\"colorbar\":{\"outlinewidth\":0,\"ticks\":\"\"},\"colorscale\":[[0.0,\"#0d0887\"],[0.1111111111111111,\"#46039f\"],[0.2222222222222222,\"#7201a8\"],[0.3333333333333333,\"#9c179e\"],[0.4444444444444444,\"#bd3786\"],[0.5555555555555556,\"#d8576b\"],[0.6666666666666666,\"#ed7953\"],[0.7777777777777778,\"#fb9f3a\"],[0.8888888888888888,\"#fdca26\"],[1.0,\"#f0f921\"]],\"type\":\"surface\"}],\"table\":[{\"cells\":{\"fill\":{\"color\":\"#EBF0F8\"},\"line\":{\"color\":\"white\"}},\"header\":{\"fill\":{\"color\":\"#C8D4E3\"},\"line\":{\"color\":\"white\"}},\"type\":\"table\"}]},\"layout\":{\"annotationdefaults\":{\"arrowcolor\":\"#2a3f5f\",\"arrowhead\":0,\"arrowwidth\":1},\"autotypenumbers\":\"strict\",\"coloraxis\":{\"colorbar\":{\"outlinewidth\":0,\"ticks\":\"\"}},\"colorscale\":{\"diverging\":[[0,\"#8e0152\"],[0.1,\"#c51b7d\"],[0.2,\"#de77ae\"],[0.3,\"#f1b6da\"],[0.4,\"#fde0ef\"],[0.5,\"#f7f7f7\"],[0.6,\"#e6f5d0\"],[0.7,\"#b8e186\"],[0.8,\"#7fbc41\"],[0.9,\"#4d9221\"],[1,\"#276419\"]],\"sequential\":[[0.0,\"#0d0887\"],[0.1111111111111111,\"#46039f\"],[0.2222222222222222,\"#7201a8\"],[0.3333333333333333,\"#9c179e\"],[0.4444444444444444,\"#bd3786\"],[0.5555555555555556,\"#d8576b\"],[0.6666666666666666,\"#ed7953\"],[0.7777777777777778,\"#fb9f3a\"],[0.8888888888888888,\"#fdca26\"],[1.0,\"#f0f921\"]],\"sequentialminus\":[[0.0,\"#0d0887\"],[0.1111111111111111,\"#46039f\"],[0.2222222222222222,\"#7201a8\"],[0.3333333333333333,\"#9c179e\"],[0.4444444444444444,\"#bd3786\"],[0.5555555555555556,\"#d8576b\"],[0.6666666666666666,\"#ed7953\"],[0.7777777777777778,\"#fb9f3a\"],[0.8888888888888888,\"#fdca26\"],[1.0,\"#f0f921\"]]},\"colorway\":[\"#636efa\",\"#EF553B\",\"#00cc96\",\"#ab63fa\",\"#FFA15A\",\"#19d3f3\",\"#FF6692\",\"#B6E880\",\"#FF97FF\",\"#FECB52\"],\"font\":{\"color\":\"#2a3f5f\"},\"geo\":{\"bgcolor\":\"white\",\"lakecolor\":\"white\",\"landcolor\":\"#E5ECF6\",\"showlakes\":true,\"showland\":true,\"subunitcolor\":\"white\"},\"hoverlabel\":{\"align\":\"left\"},\"hovermode\":\"closest\",\"mapbox\":{\"style\":\"light\"},\"paper_bgcolor\":\"white\",\"plot_bgcolor\":\"#E5ECF6\",\"polar\":{\"angularaxis\":{\"gridcolor\":\"white\",\"linecolor\":\"white\",\"ticks\":\"\"},\"bgcolor\":\"#E5ECF6\",\"radialaxis\":{\"gridcolor\":\"white\",\"linecolor\":\"white\",\"ticks\":\"\"}},\"scene\":{\"xaxis\":{\"backgroundcolor\":\"#E5ECF6\",\"gridcolor\":\"white\",\"gridwidth\":2,\"linecolor\":\"white\",\"showbackground\":true,\"ticks\":\"\",\"zerolinecolor\":\"white\"},\"yaxis\":{\"backgroundcolor\":\"#E5ECF6\",\"gridcolor\":\"white\",\"gridwidth\":2,\"linecolor\":\"white\",\"showbackground\":true,\"ticks\":\"\",\"zerolinecolor\":\"white\"},\"zaxis\":{\"backgroundcolor\":\"#E5ECF6\",\"gridcolor\":\"white\",\"gridwidth\":2,\"linecolor\":\"white\",\"showbackground\":true,\"ticks\":\"\",\"zerolinecolor\":\"white\"}},\"shapedefaults\":{\"line\":{\"color\":\"#2a3f5f\"}},\"ternary\":{\"aaxis\":{\"gridcolor\":\"white\",\"linecolor\":\"white\",\"ticks\":\"\"},\"baxis\":{\"gridcolor\":\"white\",\"linecolor\":\"white\",\"ticks\":\"\"},\"bgcolor\":\"#E5ECF6\",\"caxis\":{\"gridcolor\":\"white\",\"linecolor\":\"white\",\"ticks\":\"\"}},\"title\":{\"x\":0.05},\"xaxis\":{\"automargin\":true,\"gridcolor\":\"white\",\"linecolor\":\"white\",\"ticks\":\"\",\"title\":{\"standoff\":15},\"zerolinecolor\":\"white\",\"zerolinewidth\":2},\"yaxis\":{\"automargin\":true,\"gridcolor\":\"white\",\"linecolor\":\"white\",\"ticks\":\"\",\"title\":{\"standoff\":15},\"zerolinecolor\":\"white\",\"zerolinewidth\":2}}},\"xaxis\":{\"anchor\":\"y\",\"domain\":[0.0,1.0],\"title\":{\"text\":\"index\"}},\"yaxis\":{\"anchor\":\"x\",\"domain\":[0.0,1.0],\"title\":{\"text\":\"value\"}}},                        {\"responsive\": true}                    ).then(function(){\n",
       "                            \n",
       "var gd = document.getElementById('0b721cc2-e643-4612-8918-ff4b5841dfa2');\n",
       "var x = new MutationObserver(function (mutations, observer) {{\n",
       "        var display = window.getComputedStyle(gd).display;\n",
       "        if (!display || display === 'none') {{\n",
       "            console.log([gd, 'removed!']);\n",
       "            Plotly.purge(gd);\n",
       "            observer.disconnect();\n",
       "        }}\n",
       "}});\n",
       "\n",
       "// Listen for the removal of the full notebook cells\n",
       "var notebookContainer = gd.closest('#notebook-container');\n",
       "if (notebookContainer) {{\n",
       "    x.observe(notebookContainer, {childList: true});\n",
       "}}\n",
       "\n",
       "// Listen for the clearing of the current output cell\n",
       "var outputEl = gd.closest('.output');\n",
       "if (outputEl) {{\n",
       "    x.observe(outputEl, {childList: true});\n",
       "}}\n",
       "\n",
       "                        })                };                });            </script>        </div>"
      ]
     },
     "metadata": {},
     "output_type": "display_data"
    }
   ],
   "source": [
    "pxline(performance['trend'])"
   ]
  },
  {
   "cell_type": "code",
   "execution_count": 18,
   "id": "16fc6600-7d0d-40d9-a060-c919e81aa47b",
   "metadata": {},
   "outputs": [],
   "source": [
    "trades.set_index('Date',inplace=True)"
   ]
  },
  {
   "cell_type": "code",
   "execution_count": 19,
   "id": "50e65d0c-9445-474b-a189-5299a075ee5c",
   "metadata": {
    "scrolled": true,
    "tags": []
   },
   "outputs": [
    {
     "data": {
      "text/plain": [
       "Series([], Name: PNL, dtype: float64)"
      ]
     },
     "execution_count": 19,
     "metadata": {},
     "output_type": "execute_result"
    }
   ],
   "source": [
    "trades.loc[trades.index<'2021-09-10']['PNL']"
   ]
  },
  {
   "cell_type": "code",
   "execution_count": 20,
   "id": "02c863e5-5937-4bff-8c15-1d75c6ab6a4a",
   "metadata": {},
   "outputs": [
    {
     "data": {
      "application/vnd.plotly.v1+json": {
       "config": {
        "plotlyServerURL": "https://plot.ly"
       },
       "data": [],
       "layout": {
        "autosize": true,
        "legend": {
         "tracegroupgap": 0
        },
        "margin": {
         "t": 60
        },
        "template": {
         "data": {
          "bar": [
           {
            "error_x": {
             "color": "#2a3f5f"
            },
            "error_y": {
             "color": "#2a3f5f"
            },
            "marker": {
             "line": {
              "color": "#E5ECF6",
              "width": 0.5
             },
             "pattern": {
              "fillmode": "overlay",
              "size": 10,
              "solidity": 0.2
             }
            },
            "type": "bar"
           }
          ],
          "barpolar": [
           {
            "marker": {
             "line": {
              "color": "#E5ECF6",
              "width": 0.5
             },
             "pattern": {
              "fillmode": "overlay",
              "size": 10,
              "solidity": 0.2
             }
            },
            "type": "barpolar"
           }
          ],
          "carpet": [
           {
            "aaxis": {
             "endlinecolor": "#2a3f5f",
             "gridcolor": "white",
             "linecolor": "white",
             "minorgridcolor": "white",
             "startlinecolor": "#2a3f5f"
            },
            "baxis": {
             "endlinecolor": "#2a3f5f",
             "gridcolor": "white",
             "linecolor": "white",
             "minorgridcolor": "white",
             "startlinecolor": "#2a3f5f"
            },
            "type": "carpet"
           }
          ],
          "choropleth": [
           {
            "colorbar": {
             "outlinewidth": 0,
             "ticks": ""
            },
            "type": "choropleth"
           }
          ],
          "contour": [
           {
            "colorbar": {
             "outlinewidth": 0,
             "ticks": ""
            },
            "colorscale": [
             [
              0,
              "#0d0887"
             ],
             [
              0.1111111111111111,
              "#46039f"
             ],
             [
              0.2222222222222222,
              "#7201a8"
             ],
             [
              0.3333333333333333,
              "#9c179e"
             ],
             [
              0.4444444444444444,
              "#bd3786"
             ],
             [
              0.5555555555555556,
              "#d8576b"
             ],
             [
              0.6666666666666666,
              "#ed7953"
             ],
             [
              0.7777777777777778,
              "#fb9f3a"
             ],
             [
              0.8888888888888888,
              "#fdca26"
             ],
             [
              1,
              "#f0f921"
             ]
            ],
            "type": "contour"
           }
          ],
          "contourcarpet": [
           {
            "colorbar": {
             "outlinewidth": 0,
             "ticks": ""
            },
            "type": "contourcarpet"
           }
          ],
          "heatmap": [
           {
            "colorbar": {
             "outlinewidth": 0,
             "ticks": ""
            },
            "colorscale": [
             [
              0,
              "#0d0887"
             ],
             [
              0.1111111111111111,
              "#46039f"
             ],
             [
              0.2222222222222222,
              "#7201a8"
             ],
             [
              0.3333333333333333,
              "#9c179e"
             ],
             [
              0.4444444444444444,
              "#bd3786"
             ],
             [
              0.5555555555555556,
              "#d8576b"
             ],
             [
              0.6666666666666666,
              "#ed7953"
             ],
             [
              0.7777777777777778,
              "#fb9f3a"
             ],
             [
              0.8888888888888888,
              "#fdca26"
             ],
             [
              1,
              "#f0f921"
             ]
            ],
            "type": "heatmap"
           }
          ],
          "heatmapgl": [
           {
            "colorbar": {
             "outlinewidth": 0,
             "ticks": ""
            },
            "colorscale": [
             [
              0,
              "#0d0887"
             ],
             [
              0.1111111111111111,
              "#46039f"
             ],
             [
              0.2222222222222222,
              "#7201a8"
             ],
             [
              0.3333333333333333,
              "#9c179e"
             ],
             [
              0.4444444444444444,
              "#bd3786"
             ],
             [
              0.5555555555555556,
              "#d8576b"
             ],
             [
              0.6666666666666666,
              "#ed7953"
             ],
             [
              0.7777777777777778,
              "#fb9f3a"
             ],
             [
              0.8888888888888888,
              "#fdca26"
             ],
             [
              1,
              "#f0f921"
             ]
            ],
            "type": "heatmapgl"
           }
          ],
          "histogram": [
           {
            "marker": {
             "pattern": {
              "fillmode": "overlay",
              "size": 10,
              "solidity": 0.2
             }
            },
            "type": "histogram"
           }
          ],
          "histogram2d": [
           {
            "colorbar": {
             "outlinewidth": 0,
             "ticks": ""
            },
            "colorscale": [
             [
              0,
              "#0d0887"
             ],
             [
              0.1111111111111111,
              "#46039f"
             ],
             [
              0.2222222222222222,
              "#7201a8"
             ],
             [
              0.3333333333333333,
              "#9c179e"
             ],
             [
              0.4444444444444444,
              "#bd3786"
             ],
             [
              0.5555555555555556,
              "#d8576b"
             ],
             [
              0.6666666666666666,
              "#ed7953"
             ],
             [
              0.7777777777777778,
              "#fb9f3a"
             ],
             [
              0.8888888888888888,
              "#fdca26"
             ],
             [
              1,
              "#f0f921"
             ]
            ],
            "type": "histogram2d"
           }
          ],
          "histogram2dcontour": [
           {
            "colorbar": {
             "outlinewidth": 0,
             "ticks": ""
            },
            "colorscale": [
             [
              0,
              "#0d0887"
             ],
             [
              0.1111111111111111,
              "#46039f"
             ],
             [
              0.2222222222222222,
              "#7201a8"
             ],
             [
              0.3333333333333333,
              "#9c179e"
             ],
             [
              0.4444444444444444,
              "#bd3786"
             ],
             [
              0.5555555555555556,
              "#d8576b"
             ],
             [
              0.6666666666666666,
              "#ed7953"
             ],
             [
              0.7777777777777778,
              "#fb9f3a"
             ],
             [
              0.8888888888888888,
              "#fdca26"
             ],
             [
              1,
              "#f0f921"
             ]
            ],
            "type": "histogram2dcontour"
           }
          ],
          "mesh3d": [
           {
            "colorbar": {
             "outlinewidth": 0,
             "ticks": ""
            },
            "type": "mesh3d"
           }
          ],
          "parcoords": [
           {
            "line": {
             "colorbar": {
              "outlinewidth": 0,
              "ticks": ""
             }
            },
            "type": "parcoords"
           }
          ],
          "pie": [
           {
            "automargin": true,
            "type": "pie"
           }
          ],
          "scatter": [
           {
            "marker": {
             "colorbar": {
              "outlinewidth": 0,
              "ticks": ""
             }
            },
            "type": "scatter"
           }
          ],
          "scatter3d": [
           {
            "line": {
             "colorbar": {
              "outlinewidth": 0,
              "ticks": ""
             }
            },
            "marker": {
             "colorbar": {
              "outlinewidth": 0,
              "ticks": ""
             }
            },
            "type": "scatter3d"
           }
          ],
          "scattercarpet": [
           {
            "marker": {
             "colorbar": {
              "outlinewidth": 0,
              "ticks": ""
             }
            },
            "type": "scattercarpet"
           }
          ],
          "scattergeo": [
           {
            "marker": {
             "colorbar": {
              "outlinewidth": 0,
              "ticks": ""
             }
            },
            "type": "scattergeo"
           }
          ],
          "scattergl": [
           {
            "marker": {
             "colorbar": {
              "outlinewidth": 0,
              "ticks": ""
             }
            },
            "type": "scattergl"
           }
          ],
          "scattermapbox": [
           {
            "marker": {
             "colorbar": {
              "outlinewidth": 0,
              "ticks": ""
             }
            },
            "type": "scattermapbox"
           }
          ],
          "scatterpolar": [
           {
            "marker": {
             "colorbar": {
              "outlinewidth": 0,
              "ticks": ""
             }
            },
            "type": "scatterpolar"
           }
          ],
          "scatterpolargl": [
           {
            "marker": {
             "colorbar": {
              "outlinewidth": 0,
              "ticks": ""
             }
            },
            "type": "scatterpolargl"
           }
          ],
          "scatterternary": [
           {
            "marker": {
             "colorbar": {
              "outlinewidth": 0,
              "ticks": ""
             }
            },
            "type": "scatterternary"
           }
          ],
          "surface": [
           {
            "colorbar": {
             "outlinewidth": 0,
             "ticks": ""
            },
            "colorscale": [
             [
              0,
              "#0d0887"
             ],
             [
              0.1111111111111111,
              "#46039f"
             ],
             [
              0.2222222222222222,
              "#7201a8"
             ],
             [
              0.3333333333333333,
              "#9c179e"
             ],
             [
              0.4444444444444444,
              "#bd3786"
             ],
             [
              0.5555555555555556,
              "#d8576b"
             ],
             [
              0.6666666666666666,
              "#ed7953"
             ],
             [
              0.7777777777777778,
              "#fb9f3a"
             ],
             [
              0.8888888888888888,
              "#fdca26"
             ],
             [
              1,
              "#f0f921"
             ]
            ],
            "type": "surface"
           }
          ],
          "table": [
           {
            "cells": {
             "fill": {
              "color": "#EBF0F8"
             },
             "line": {
              "color": "white"
             }
            },
            "header": {
             "fill": {
              "color": "#C8D4E3"
             },
             "line": {
              "color": "white"
             }
            },
            "type": "table"
           }
          ]
         },
         "layout": {
          "annotationdefaults": {
           "arrowcolor": "#2a3f5f",
           "arrowhead": 0,
           "arrowwidth": 1
          },
          "autotypenumbers": "strict",
          "coloraxis": {
           "colorbar": {
            "outlinewidth": 0,
            "ticks": ""
           }
          },
          "colorscale": {
           "diverging": [
            [
             0,
             "#8e0152"
            ],
            [
             0.1,
             "#c51b7d"
            ],
            [
             0.2,
             "#de77ae"
            ],
            [
             0.3,
             "#f1b6da"
            ],
            [
             0.4,
             "#fde0ef"
            ],
            [
             0.5,
             "#f7f7f7"
            ],
            [
             0.6,
             "#e6f5d0"
            ],
            [
             0.7,
             "#b8e186"
            ],
            [
             0.8,
             "#7fbc41"
            ],
            [
             0.9,
             "#4d9221"
            ],
            [
             1,
             "#276419"
            ]
           ],
           "sequential": [
            [
             0,
             "#0d0887"
            ],
            [
             0.1111111111111111,
             "#46039f"
            ],
            [
             0.2222222222222222,
             "#7201a8"
            ],
            [
             0.3333333333333333,
             "#9c179e"
            ],
            [
             0.4444444444444444,
             "#bd3786"
            ],
            [
             0.5555555555555556,
             "#d8576b"
            ],
            [
             0.6666666666666666,
             "#ed7953"
            ],
            [
             0.7777777777777778,
             "#fb9f3a"
            ],
            [
             0.8888888888888888,
             "#fdca26"
            ],
            [
             1,
             "#f0f921"
            ]
           ],
           "sequentialminus": [
            [
             0,
             "#0d0887"
            ],
            [
             0.1111111111111111,
             "#46039f"
            ],
            [
             0.2222222222222222,
             "#7201a8"
            ],
            [
             0.3333333333333333,
             "#9c179e"
            ],
            [
             0.4444444444444444,
             "#bd3786"
            ],
            [
             0.5555555555555556,
             "#d8576b"
            ],
            [
             0.6666666666666666,
             "#ed7953"
            ],
            [
             0.7777777777777778,
             "#fb9f3a"
            ],
            [
             0.8888888888888888,
             "#fdca26"
            ],
            [
             1,
             "#f0f921"
            ]
           ]
          },
          "colorway": [
           "#636efa",
           "#EF553B",
           "#00cc96",
           "#ab63fa",
           "#FFA15A",
           "#19d3f3",
           "#FF6692",
           "#B6E880",
           "#FF97FF",
           "#FECB52"
          ],
          "font": {
           "color": "#2a3f5f"
          },
          "geo": {
           "bgcolor": "white",
           "lakecolor": "white",
           "landcolor": "#E5ECF6",
           "showlakes": true,
           "showland": true,
           "subunitcolor": "white"
          },
          "hoverlabel": {
           "align": "left"
          },
          "hovermode": "closest",
          "mapbox": {
           "style": "light"
          },
          "paper_bgcolor": "white",
          "plot_bgcolor": "#E5ECF6",
          "polar": {
           "angularaxis": {
            "gridcolor": "white",
            "linecolor": "white",
            "ticks": ""
           },
           "bgcolor": "#E5ECF6",
           "radialaxis": {
            "gridcolor": "white",
            "linecolor": "white",
            "ticks": ""
           }
          },
          "scene": {
           "xaxis": {
            "backgroundcolor": "#E5ECF6",
            "gridcolor": "white",
            "gridwidth": 2,
            "linecolor": "white",
            "showbackground": true,
            "ticks": "",
            "zerolinecolor": "white"
           },
           "yaxis": {
            "backgroundcolor": "#E5ECF6",
            "gridcolor": "white",
            "gridwidth": 2,
            "linecolor": "white",
            "showbackground": true,
            "ticks": "",
            "zerolinecolor": "white"
           },
           "zaxis": {
            "backgroundcolor": "#E5ECF6",
            "gridcolor": "white",
            "gridwidth": 2,
            "linecolor": "white",
            "showbackground": true,
            "ticks": "",
            "zerolinecolor": "white"
           }
          },
          "shapedefaults": {
           "line": {
            "color": "#2a3f5f"
           }
          },
          "ternary": {
           "aaxis": {
            "gridcolor": "white",
            "linecolor": "white",
            "ticks": ""
           },
           "baxis": {
            "gridcolor": "white",
            "linecolor": "white",
            "ticks": ""
           },
           "bgcolor": "#E5ECF6",
           "caxis": {
            "gridcolor": "white",
            "linecolor": "white",
            "ticks": ""
           }
          },
          "title": {
           "x": 0.05
          },
          "xaxis": {
           "automargin": true,
           "gridcolor": "white",
           "linecolor": "white",
           "ticks": "",
           "title": {
            "standoff": 15
           },
           "zerolinecolor": "white",
           "zerolinewidth": 2
          },
          "yaxis": {
           "automargin": true,
           "gridcolor": "white",
           "linecolor": "white",
           "ticks": "",
           "title": {
            "standoff": 15
           },
           "zerolinecolor": "white",
           "zerolinewidth": 2
          }
         }
        },
        "xaxis": {
         "anchor": "y",
         "autorange": true,
         "domain": [
          0,
          1
         ],
         "range": [
          -1,
          6
         ],
         "title": {
          "text": "Date"
         }
        },
        "yaxis": {
         "anchor": "x",
         "autorange": true,
         "domain": [
          0,
          1
         ],
         "range": [
          -1,
          4
         ],
         "title": {
          "text": "value"
         }
        }
       }
      },
      "image/png": "[encoded data removed]",
      "text/html": [
       "<div>                            <div id=\"8708097f-98a7-4da7-a289-63de409f9683\" class=\"plotly-graph-div\" style=\"height:525px; width:100%;\"></div>            <script type=\"text/javascript\">                require([\"plotly\"], function(Plotly) {                    window.PLOTLYENV=window.PLOTLYENV || {};                                    if (document.getElementById(\"8708097f-98a7-4da7-a289-63de409f9683\")) {                    Plotly.newPlot(                        \"8708097f-98a7-4da7-a289-63de409f9683\",                        [],                        {\"legend\":{\"tracegroupgap\":0},\"margin\":{\"t\":60},\"template\":{\"data\":{\"bar\":[{\"error_x\":{\"color\":\"#2a3f5f\"},\"error_y\":{\"color\":\"#2a3f5f\"},\"marker\":{\"line\":{\"color\":\"#E5ECF6\",\"width\":0.5},\"pattern\":{\"fillmode\":\"overlay\",\"size\":10,\"solidity\":0.2}},\"type\":\"bar\"}],\"barpolar\":[{\"marker\":{\"line\":{\"color\":\"#E5ECF6\",\"width\":0.5},\"pattern\":{\"fillmode\":\"overlay\",\"size\":10,\"solidity\":0.2}},\"type\":\"barpolar\"}],\"carpet\":[{\"aaxis\":{\"endlinecolor\":\"#2a3f5f\",\"gridcolor\":\"white\",\"linecolor\":\"white\",\"minorgridcolor\":\"white\",\"startlinecolor\":\"#2a3f5f\"},\"baxis\":{\"endlinecolor\":\"#2a3f5f\",\"gridcolor\":\"white\",\"linecolor\":\"white\",\"minorgridcolor\":\"white\",\"startlinecolor\":\"#2a3f5f\"},\"type\":\"carpet\"}],\"choropleth\":[{\"colorbar\":{\"outlinewidth\":0,\"ticks\":\"\"},\"type\":\"choropleth\"}],\"contour\":[{\"colorbar\":{\"outlinewidth\":0,\"ticks\":\"\"},\"colorscale\":[[0.0,\"#0d0887\"],[0.1111111111111111,\"#46039f\"],[0.2222222222222222,\"#7201a8\"],[0.3333333333333333,\"#9c179e\"],[0.4444444444444444,\"#bd3786\"],[0.5555555555555556,\"#d8576b\"],[0.6666666666666666,\"#ed7953\"],[0.7777777777777778,\"#fb9f3a\"],[0.8888888888888888,\"#fdca26\"],[1.0,\"#f0f921\"]],\"type\":\"contour\"}],\"contourcarpet\":[{\"colorbar\":{\"outlinewidth\":0,\"ticks\":\"\"},\"type\":\"contourcarpet\"}],\"heatmap\":[{\"colorbar\":{\"outlinewidth\":0,\"ticks\":\"\"},\"colorscale\":[[0.0,\"#0d0887\"],[0.1111111111111111,\"#46039f\"],[0.2222222222222222,\"#7201a8\"],[0.3333333333333333,\"#9c179e\"],[0.4444444444444444,\"#bd3786\"],[0.5555555555555556,\"#d8576b\"],[0.6666666666666666,\"#ed7953\"],[0.7777777777777778,\"#fb9f3a\"],[0.8888888888888888,\"#fdca26\"],[1.0,\"#f0f921\"]],\"type\":\"heatmap\"}],\"heatmapgl\":[{\"colorbar\":{\"outlinewidth\":0,\"ticks\":\"\"},\"colorscale\":[[0.0,\"#0d0887\"],[0.1111111111111111,\"#46039f\"],[0.2222222222222222,\"#7201a8\"],[0.3333333333333333,\"#9c179e\"],[0.4444444444444444,\"#bd3786\"],[0.5555555555555556,\"#d8576b\"],[0.6666666666666666,\"#ed7953\"],[0.7777777777777778,\"#fb9f3a\"],[0.8888888888888888,\"#fdca26\"],[1.0,\"#f0f921\"]],\"type\":\"heatmapgl\"}],\"histogram\":[{\"marker\":{\"pattern\":{\"fillmode\":\"overlay\",\"size\":10,\"solidity\":0.2}},\"type\":\"histogram\"}],\"histogram2d\":[{\"colorbar\":{\"outlinewidth\":0,\"ticks\":\"\"},\"colorscale\":[[0.0,\"#0d0887\"],[0.1111111111111111,\"#46039f\"],[0.2222222222222222,\"#7201a8\"],[0.3333333333333333,\"#9c179e\"],[0.4444444444444444,\"#bd3786\"],[0.5555555555555556,\"#d8576b\"],[0.6666666666666666,\"#ed7953\"],[0.7777777777777778,\"#fb9f3a\"],[0.8888888888888888,\"#fdca26\"],[1.0,\"#f0f921\"]],\"type\":\"histogram2d\"}],\"histogram2dcontour\":[{\"colorbar\":{\"outlinewidth\":0,\"ticks\":\"\"},\"colorscale\":[[0.0,\"#0d0887\"],[0.1111111111111111,\"#46039f\"],[0.2222222222222222,\"#7201a8\"],[0.3333333333333333,\"#9c179e\"],[0.4444444444444444,\"#bd3786\"],[0.5555555555555556,\"#d8576b\"],[0.6666666666666666,\"#ed7953\"],[0.7777777777777778,\"#fb9f3a\"],[0.8888888888888888,\"#fdca26\"],[1.0,\"#f0f921\"]],\"type\":\"histogram2dcontour\"}],\"mesh3d\":[{\"colorbar\":{\"outlinewidth\":0,\"ticks\":\"\"},\"type\":\"mesh3d\"}],\"parcoords\":[{\"line\":{\"colorbar\":{\"outlinewidth\":0,\"ticks\":\"\"}},\"type\":\"parcoords\"}],\"pie\":[{\"automargin\":true,\"type\":\"pie\"}],\"scatter\":[{\"marker\":{\"colorbar\":{\"outlinewidth\":0,\"ticks\":\"\"}},\"type\":\"scatter\"}],\"scatter3d\":[{\"line\":{\"colorbar\":{\"outlinewidth\":0,\"ticks\":\"\"}},\"marker\":{\"colorbar\":{\"outlinewidth\":0,\"ticks\":\"\"}},\"type\":\"scatter3d\"}],\"scattercarpet\":[{\"marker\":{\"colorbar\":{\"outlinewidth\":0,\"ticks\":\"\"}},\"type\":\"scattercarpet\"}],\"scattergeo\":[{\"marker\":{\"colorbar\":{\"outlinewidth\":0,\"ticks\":\"\"}},\"type\":\"scattergeo\"}],\"scattergl\":[{\"marker\":{\"colorbar\":{\"outlinewidth\":0,\"ticks\":\"\"}},\"type\":\"scattergl\"}],\"scattermapbox\":[{\"marker\":{\"colorbar\":{\"outlinewidth\":0,\"ticks\":\"\"}},\"type\":\"scattermapbox\"}],\"scatterpolar\":[{\"marker\":{\"colorbar\":{\"outlinewidth\":0,\"ticks\":\"\"}},\"type\":\"scatterpolar\"}],\"scatterpolargl\":[{\"marker\":{\"colorbar\":{\"outlinewidth\":0,\"ticks\":\"\"}},\"type\":\"scatterpolargl\"}],\"scatterternary\":[{\"marker\":{\"colorbar\":{\"outlinewidth\":0,\"ticks\":\"\"}},\"type\":\"scatterternary\"}],\"surface\":[{\"colorbar\":{\"outlinewidth\":0,\"ticks\":\"\"},\"colorscale\":[[0.0,\"#0d0887\"],[0.1111111111111111,\"#46039f\"],[0.2222222222222222,\"#7201a8\"],[0.3333333333333333,\"#9c179e\"],[0.4444444444444444,\"#bd3786\"],[0.5555555555555556,\"#d8576b\"],[0.6666666666666666,\"#ed7953\"],[0.7777777777777778,\"#fb9f3a\"],[0.8888888888888888,\"#fdca26\"],[1.0,\"#f0f921\"]],\"type\":\"surface\"}],\"table\":[{\"cells\":{\"fill\":{\"color\":\"#EBF0F8\"},\"line\":{\"color\":\"white\"}},\"header\":{\"fill\":{\"color\":\"#C8D4E3\"},\"line\":{\"color\":\"white\"}},\"type\":\"table\"}]},\"layout\":{\"annotationdefaults\":{\"arrowcolor\":\"#2a3f5f\",\"arrowhead\":0,\"arrowwidth\":1},\"autotypenumbers\":\"strict\",\"coloraxis\":{\"colorbar\":{\"outlinewidth\":0,\"ticks\":\"\"}},\"colorscale\":{\"diverging\":[[0,\"#8e0152\"],[0.1,\"#c51b7d\"],[0.2,\"#de77ae\"],[0.3,\"#f1b6da\"],[0.4,\"#fde0ef\"],[0.5,\"#f7f7f7\"],[0.6,\"#e6f5d0\"],[0.7,\"#b8e186\"],[0.8,\"#7fbc41\"],[0.9,\"#4d9221\"],[1,\"#276419\"]],\"sequential\":[[0.0,\"#0d0887\"],[0.1111111111111111,\"#46039f\"],[0.2222222222222222,\"#7201a8\"],[0.3333333333333333,\"#9c179e\"],[0.4444444444444444,\"#bd3786\"],[0.5555555555555556,\"#d8576b\"],[0.6666666666666666,\"#ed7953\"],[0.7777777777777778,\"#fb9f3a\"],[0.8888888888888888,\"#fdca26\"],[1.0,\"#f0f921\"]],\"sequentialminus\":[[0.0,\"#0d0887\"],[0.1111111111111111,\"#46039f\"],[0.2222222222222222,\"#7201a8\"],[0.3333333333333333,\"#9c179e\"],[0.4444444444444444,\"#bd3786\"],[0.5555555555555556,\"#d8576b\"],[0.6666666666666666,\"#ed7953\"],[0.7777777777777778,\"#fb9f3a\"],[0.8888888888888888,\"#fdca26\"],[1.0,\"#f0f921\"]]},\"colorway\":[\"#636efa\",\"#EF553B\",\"#00cc96\",\"#ab63fa\",\"#FFA15A\",\"#19d3f3\",\"#FF6692\",\"#B6E880\",\"#FF97FF\",\"#FECB52\"],\"font\":{\"color\":\"#2a3f5f\"},\"geo\":{\"bgcolor\":\"white\",\"lakecolor\":\"white\",\"landcolor\":\"#E5ECF6\",\"showlakes\":true,\"showland\":true,\"subunitcolor\":\"white\"},\"hoverlabel\":{\"align\":\"left\"},\"hovermode\":\"closest\",\"mapbox\":{\"style\":\"light\"},\"paper_bgcolor\":\"white\",\"plot_bgcolor\":\"#E5ECF6\",\"polar\":{\"angularaxis\":{\"gridcolor\":\"white\",\"linecolor\":\"white\",\"ticks\":\"\"},\"bgcolor\":\"#E5ECF6\",\"radialaxis\":{\"gridcolor\":\"white\",\"linecolor\":\"white\",\"ticks\":\"\"}},\"scene\":{\"xaxis\":{\"backgroundcolor\":\"#E5ECF6\",\"gridcolor\":\"white\",\"gridwidth\":2,\"linecolor\":\"white\",\"showbackground\":true,\"ticks\":\"\",\"zerolinecolor\":\"white\"},\"yaxis\":{\"backgroundcolor\":\"#E5ECF6\",\"gridcolor\":\"white\",\"gridwidth\":2,\"linecolor\":\"white\",\"showbackground\":true,\"ticks\":\"\",\"zerolinecolor\":\"white\"},\"zaxis\":{\"backgroundcolor\":\"#E5ECF6\",\"gridcolor\":\"white\",\"gridwidth\":2,\"linecolor\":\"white\",\"showbackground\":true,\"ticks\":\"\",\"zerolinecolor\":\"white\"}},\"shapedefaults\":{\"line\":{\"color\":\"#2a3f5f\"}},\"ternary\":{\"aaxis\":{\"gridcolor\":\"white\",\"linecolor\":\"white\",\"ticks\":\"\"},\"baxis\":{\"gridcolor\":\"white\",\"linecolor\":\"white\",\"ticks\":\"\"},\"bgcolor\":\"#E5ECF6\",\"caxis\":{\"gridcolor\":\"white\",\"linecolor\":\"white\",\"ticks\":\"\"}},\"title\":{\"x\":0.05},\"xaxis\":{\"automargin\":true,\"gridcolor\":\"white\",\"linecolor\":\"white\",\"ticks\":\"\",\"title\":{\"standoff\":15},\"zerolinecolor\":\"white\",\"zerolinewidth\":2},\"yaxis\":{\"automargin\":true,\"gridcolor\":\"white\",\"linecolor\":\"white\",\"ticks\":\"\",\"title\":{\"standoff\":15},\"zerolinecolor\":\"white\",\"zerolinewidth\":2}}},\"xaxis\":{\"anchor\":\"y\",\"domain\":[0.0,1.0],\"title\":{\"text\":\"Date\"}},\"yaxis\":{\"anchor\":\"x\",\"domain\":[0.0,1.0],\"title\":{\"text\":\"value\"}}},                        {\"responsive\": true}                    ).then(function(){\n",
       "                            \n",
       "var gd = document.getElementById('8708097f-98a7-4da7-a289-63de409f9683');\n",
       "var x = new MutationObserver(function (mutations, observer) {{\n",
       "        var display = window.getComputedStyle(gd).display;\n",
       "        if (!display || display === 'none') {{\n",
       "            console.log([gd, 'removed!']);\n",
       "            Plotly.purge(gd);\n",
       "            observer.disconnect();\n",
       "        }}\n",
       "}});\n",
       "\n",
       "// Listen for the removal of the full notebook cells\n",
       "var notebookContainer = gd.closest('#notebook-container');\n",
       "if (notebookContainer) {{\n",
       "    x.observe(notebookContainer, {childList: true});\n",
       "}}\n",
       "\n",
       "// Listen for the clearing of the current output cell\n",
       "var outputEl = gd.closest('.output');\n",
       "if (outputEl) {{\n",
       "    x.observe(outputEl, {childList: true});\n",
       "}}\n",
       "\n",
       "                        })                };                });            </script>        </div>"
      ]
     },
     "metadata": {},
     "output_type": "display_data"
    }
   ],
   "source": [
    "pnlS=trades.loc[trades.index<'2021-09-10']['PNL']\n",
    "pxline(pnlS.cumsum())"
   ]
  },
  {
   "cell_type": "code",
   "execution_count": null,
   "id": "ca475cec-f14c-476a-9c07-76ce95078f7c",
   "metadata": {},
   "outputs": [],
   "source": []
  },
  {
   "cell_type": "code",
   "execution_count": null,
   "id": "c3c8a700-c6e7-471d-903d-1efce502a30d",
   "metadata": {
    "tags": []
   },
   "outputs": [],
   "source": []
  },
  {
   "cell_type": "code",
   "execution_count": null,
   "id": "2ffedc6b-1637-49f7-8768-0a2596237bea",
   "metadata": {},
   "outputs": [],
   "source": []
  },
  {
   "cell_type": "code",
   "execution_count": null,
   "id": "a6197d17-bbef-44dd-8449-4f4145cdec4d",
   "metadata": {},
   "outputs": [],
   "source": []
  },
  {
   "cell_type": "code",
   "execution_count": null,
   "id": "85e50858-b36c-423d-939a-3c6682c53689",
   "metadata": {},
   "outputs": [],
   "source": []
  },
  {
   "cell_type": "code",
   "execution_count": 21,
   "id": "37a84472-211f-40f5-877e-323d31ea6415",
   "metadata": {},
   "outputs": [],
   "source": [
    "tmp=df.loc[df.Ticker=='NIFTY']\n",
    "tmp=predf(tmp)"
   ]
  },
  {
   "cell_type": "code",
   "execution_count": 22,
   "id": "9a6a7f21-b176-4b60-a2ea-28ed6793cf69",
   "metadata": {},
   "outputs": [
    {
     "data": {
      "text/html": [
       "<div><div id=be946416-f1dc-4165-bced-86a49d81e43c style=\"display:none; background-color:#9D6CFF; color:white; width:200px; height:30px; padding-left:5px; border-radius:4px; flex-direction:row; justify-content:space-around; align-items:center;\" onmouseover=\"this.style.backgroundColor='#BA9BF8'\" onmouseout=\"this.style.backgroundColor='#9D6CFF'\" onclick=\"window.commands?.execute('create-mitosheet-from-dataframe-output');\">See Full Dataframe in Mito</div> <script> if (window.commands.hasCommand('create-mitosheet-from-dataframe-output')) document.getElementById('be946416-f1dc-4165-bced-86a49d81e43c').style.display = 'flex' </script> <table border=\"1\" class=\"dataframe\">\n",
       "  <thead>\n",
       "    <tr style=\"text-align: right;\">\n",
       "      <th></th>\n",
       "      <th>Open</th>\n",
       "      <th>Close</th>\n",
       "      <th>High</th>\n",
       "      <th>Low</th>\n",
       "      <th>Tick_Volume</th>\n",
       "      <th>Volume</th>\n",
       "      <th>Supertrend_x</th>\n",
       "      <th>Final Lowerband_x</th>\n",
       "      <th>Final Upperband_x</th>\n",
       "      <th>rsi_x</th>\n",
       "      <th>rsima_x</th>\n",
       "      <th>Supertrend_y</th>\n",
       "      <th>Final Lowerband_y</th>\n",
       "      <th>Final Upperband_y</th>\n",
       "      <th>rsi_y</th>\n",
       "      <th>rsima_y</th>\n",
       "    </tr>\n",
       "    <tr>\n",
       "      <th>Date</th>\n",
       "      <th></th>\n",
       "      <th></th>\n",
       "      <th></th>\n",
       "      <th></th>\n",
       "      <th></th>\n",
       "      <th></th>\n",
       "      <th></th>\n",
       "      <th></th>\n",
       "      <th></th>\n",
       "      <th></th>\n",
       "      <th></th>\n",
       "      <th></th>\n",
       "      <th></th>\n",
       "      <th></th>\n",
       "      <th></th>\n",
       "      <th></th>\n",
       "    </tr>\n",
       "  </thead>\n",
       "  <tbody>\n",
       "    <tr>\n",
       "      <th>2021-10-01 09:15:00</th>\n",
       "      <td>17531.9</td>\n",
       "      <td>17497.2</td>\n",
       "      <td>17531.9</td>\n",
       "      <td>17481.3</td>\n",
       "      <td>3</td>\n",
       "      <td>0</td>\n",
       "      <td>True</td>\n",
       "      <td>NaN</td>\n",
       "      <td>NaN</td>\n",
       "      <td>100.000000</td>\n",
       "      <td>NaN</td>\n",
       "      <td>NaN</td>\n",
       "      <td>NaN</td>\n",
       "      <td>NaN</td>\n",
       "      <td>NaN</td>\n",
       "      <td>NaN</td>\n",
       "    </tr>\n",
       "    <tr>\n",
       "      <th>2021-10-01 09:18:00</th>\n",
       "      <td>17495.4</td>\n",
       "      <td>17473.2</td>\n",
       "      <td>17503.8</td>\n",
       "      <td>17470.8</td>\n",
       "      <td>3</td>\n",
       "      <td>0</td>\n",
       "      <td>True</td>\n",
       "      <td>NaN</td>\n",
       "      <td>NaN</td>\n",
       "      <td>0.000000</td>\n",
       "      <td>NaN</td>\n",
       "      <td>NaN</td>\n",
       "      <td>NaN</td>\n",
       "      <td>NaN</td>\n",
       "      <td>NaN</td>\n",
       "      <td>NaN</td>\n",
       "    </tr>\n",
       "    <tr>\n",
       "      <th>2021-10-01 09:21:00</th>\n",
       "      <td>17474.2</td>\n",
       "      <td>17486.3</td>\n",
       "      <td>17491.9</td>\n",
       "      <td>17459.3</td>\n",
       "      <td>3</td>\n",
       "      <td>0</td>\n",
       "      <td>True</td>\n",
       "      <td>NaN</td>\n",
       "      <td>NaN</td>\n",
       "      <td>38.416422</td>\n",
       "      <td>NaN</td>\n",
       "      <td>NaN</td>\n",
       "      <td>NaN</td>\n",
       "      <td>NaN</td>\n",
       "      <td>NaN</td>\n",
       "      <td>NaN</td>\n",
       "    </tr>\n",
       "    <tr>\n",
       "      <th>2021-10-01 09:24:00</th>\n",
       "      <td>17488.5</td>\n",
       "      <td>17505.7</td>\n",
       "      <td>17510.5</td>\n",
       "      <td>17482.1</td>\n",
       "      <td>3</td>\n",
       "      <td>0</td>\n",
       "      <td>True</td>\n",
       "      <td>NaN</td>\n",
       "      <td>NaN</td>\n",
       "      <td>62.680883</td>\n",
       "      <td>NaN</td>\n",
       "      <td>NaN</td>\n",
       "      <td>NaN</td>\n",
       "      <td>NaN</td>\n",
       "      <td>NaN</td>\n",
       "      <td>NaN</td>\n",
       "    </tr>\n",
       "    <tr>\n",
       "      <th>2021-10-01 09:27:00</th>\n",
       "      <td>17506.0</td>\n",
       "      <td>17507.0</td>\n",
       "      <td>17512.4</td>\n",
       "      <td>17488.7</td>\n",
       "      <td>3</td>\n",
       "      <td>0</td>\n",
       "      <td>True</td>\n",
       "      <td>NaN</td>\n",
       "      <td>NaN</td>\n",
       "      <td>63.773983</td>\n",
       "      <td>NaN</td>\n",
       "      <td>NaN</td>\n",
       "      <td>NaN</td>\n",
       "      <td>NaN</td>\n",
       "      <td>NaN</td>\n",
       "      <td>NaN</td>\n",
       "    </tr>\n",
       "    <tr>\n",
       "      <th>2021-10-01 09:30:00</th>\n",
       "      <td>17507.6</td>\n",
       "      <td>17526.7</td>\n",
       "      <td>17528.0</td>\n",
       "      <td>17497.3</td>\n",
       "      <td>3</td>\n",
       "      <td>0</td>\n",
       "      <td>True</td>\n",
       "      <td>NaN</td>\n",
       "      <td>NaN</td>\n",
       "      <td>75.965886</td>\n",
       "      <td>NaN</td>\n",
       "      <td>True</td>\n",
       "      <td>NaN</td>\n",
       "      <td>NaN</td>\n",
       "      <td>100.0</td>\n",
       "      <td>NaN</td>\n",
       "    </tr>\n",
       "    <tr>\n",
       "      <th>2021-10-01 09:33:00</th>\n",
       "      <td>17526.8</td>\n",
       "      <td>17513.5</td>\n",
       "      <td>17529.0</td>\n",
       "      <td>17512.2</td>\n",
       "      <td>3</td>\n",
       "      <td>0</td>\n",
       "      <td>True</td>\n",
       "      <td>NaN</td>\n",
       "      <td>NaN</td>\n",
       "      <td>60.399611</td>\n",
       "      <td>NaN</td>\n",
       "      <td>True</td>\n",
       "      <td>NaN</td>\n",
       "      <td>NaN</td>\n",
       "      <td>100.0</td>\n",
       "      <td>NaN</td>\n",
       "    </tr>\n",
       "    <tr>\n",
       "      <th>2021-10-01 09:36:00</th>\n",
       "      <td>17512.8</td>\n",
       "      <td>17512.2</td>\n",
       "      <td>17520.5</td>\n",
       "      <td>17501.0</td>\n",
       "      <td>3</td>\n",
       "      <td>0</td>\n",
       "      <td>True</td>\n",
       "      <td>NaN</td>\n",
       "      <td>NaN</td>\n",
       "      <td>59.037982</td>\n",
       "      <td>NaN</td>\n",
       "      <td>True</td>\n",
       "      <td>NaN</td>\n",
       "      <td>NaN</td>\n",
       "      <td>100.0</td>\n",
       "      <td>NaN</td>\n",
       "    </tr>\n",
       "    <tr>\n",
       "      <th>2021-10-01 09:39:00</th>\n",
       "      <td>17509.3</td>\n",
       "      <td>17517.8</td>\n",
       "      <td>17520.7</td>\n",
       "      <td>17507.1</td>\n",
       "      <td>3</td>\n",
       "      <td>0</td>\n",
       "      <td>True</td>\n",
       "      <td>NaN</td>\n",
       "      <td>NaN</td>\n",
       "      <td>63.129975</td>\n",
       "      <td>NaN</td>\n",
       "      <td>True</td>\n",
       "      <td>NaN</td>\n",
       "      <td>NaN</td>\n",
       "      <td>100.0</td>\n",
       "      <td>NaN</td>\n",
       "    </tr>\n",
       "    <tr>\n",
       "      <th>2021-10-01 09:42:00</th>\n",
       "      <td>17518.5</td>\n",
       "      <td>17517.8</td>\n",
       "      <td>17528.5</td>\n",
       "      <td>17515.8</td>\n",
       "      <td>3</td>\n",
       "      <td>0</td>\n",
       "      <td>True</td>\n",
       "      <td>17498.872192</td>\n",
       "      <td>NaN</td>\n",
       "      <td>63.129975</td>\n",
       "      <td>NaN</td>\n",
       "      <td>True</td>\n",
       "      <td>NaN</td>\n",
       "      <td>NaN</td>\n",
       "      <td>100.0</td>\n",
       "      <td>NaN</td>\n",
       "    </tr>\n",
       "  </tbody>\n",
       "</table></div>"
      ],
      "text/plain": [
       "                        Open    Close     High      Low  Tick_Volume  Volume  \\\n",
       "Date                                                                           \n",
       "2021-10-01 09:15:00  17531.9  17497.2  17531.9  17481.3            3       0   \n",
       "2021-10-01 09:18:00  17495.4  17473.2  17503.8  17470.8            3       0   \n",
       "2021-10-01 09:21:00  17474.2  17486.3  17491.9  17459.3            3       0   \n",
       "2021-10-01 09:24:00  17488.5  17505.7  17510.5  17482.1            3       0   \n",
       "2021-10-01 09:27:00  17506.0  17507.0  17512.4  17488.7            3       0   \n",
       "2021-10-01 09:30:00  17507.6  17526.7  17528.0  17497.3            3       0   \n",
       "2021-10-01 09:33:00  17526.8  17513.5  17529.0  17512.2            3       0   \n",
       "2021-10-01 09:36:00  17512.8  17512.2  17520.5  17501.0            3       0   \n",
       "2021-10-01 09:39:00  17509.3  17517.8  17520.7  17507.1            3       0   \n",
       "2021-10-01 09:42:00  17518.5  17517.8  17528.5  17515.8            3       0   \n",
       "\n",
       "                     Supertrend_x  Final Lowerband_x  Final Upperband_x  \\\n",
       "Date                                                                      \n",
       "2021-10-01 09:15:00          True                NaN                NaN   \n",
       "2021-10-01 09:18:00          True                NaN                NaN   \n",
       "2021-10-01 09:21:00          True                NaN                NaN   \n",
       "2021-10-01 09:24:00          True                NaN                NaN   \n",
       "2021-10-01 09:27:00          True                NaN                NaN   \n",
       "2021-10-01 09:30:00          True                NaN                NaN   \n",
       "2021-10-01 09:33:00          True                NaN                NaN   \n",
       "2021-10-01 09:36:00          True                NaN                NaN   \n",
       "2021-10-01 09:39:00          True                NaN                NaN   \n",
       "2021-10-01 09:42:00          True       17498.872192                NaN   \n",
       "\n",
       "                          rsi_x  rsima_x Supertrend_y  Final Lowerband_y  \\\n",
       "Date                                                                       \n",
       "2021-10-01 09:15:00  100.000000      NaN          NaN                NaN   \n",
       "2021-10-01 09:18:00    0.000000      NaN          NaN                NaN   \n",
       "2021-10-01 09:21:00   38.416422      NaN          NaN                NaN   \n",
       "2021-10-01 09:24:00   62.680883      NaN          NaN                NaN   \n",
       "2021-10-01 09:27:00   63.773983      NaN          NaN                NaN   \n",
       "2021-10-01 09:30:00   75.965886      NaN         True                NaN   \n",
       "2021-10-01 09:33:00   60.399611      NaN         True                NaN   \n",
       "2021-10-01 09:36:00   59.037982      NaN         True                NaN   \n",
       "2021-10-01 09:39:00   63.129975      NaN         True                NaN   \n",
       "2021-10-01 09:42:00   63.129975      NaN         True                NaN   \n",
       "\n",
       "                     Final Upperband_y  rsi_y  rsima_y  \n",
       "Date                                                    \n",
       "2021-10-01 09:15:00                NaN    NaN      NaN  \n",
       "2021-10-01 09:18:00                NaN    NaN      NaN  \n",
       "2021-10-01 09:21:00                NaN    NaN      NaN  \n",
       "2021-10-01 09:24:00                NaN    NaN      NaN  \n",
       "2021-10-01 09:27:00                NaN    NaN      NaN  \n",
       "2021-10-01 09:30:00                NaN  100.0      NaN  \n",
       "2021-10-01 09:33:00                NaN  100.0      NaN  \n",
       "2021-10-01 09:36:00                NaN  100.0      NaN  \n",
       "2021-10-01 09:39:00                NaN  100.0      NaN  \n",
       "2021-10-01 09:42:00                NaN  100.0      NaN  "
      ]
     },
     "execution_count": 22,
     "metadata": {},
     "output_type": "execute_result"
    }
   ],
   "source": [
    "tmp.head(10)"
   ]
  },
  {
   "cell_type": "code",
   "execution_count": null,
   "id": "c290f366-aa3e-4f6b-8d25-1d28baa5a3c5",
   "metadata": {},
   "outputs": [],
   "source": []
  },
  {
   "cell_type": "code",
   "execution_count": null,
   "id": "17144e9b-99ec-44a4-b60c-a5d8b11bd7da",
   "metadata": {},
   "outputs": [],
   "source": []
  },
  {
   "cell_type": "code",
   "execution_count": 23,
   "id": "02a05c1b-229c-4d12-bfd1-a24a5b9a7faa",
   "metadata": {},
   "outputs": [
    {
     "ename": "KeyError",
     "evalue": "'Tick Volume'",
     "output_type": "error",
     "traceback": [
      "\u001b[1;31m---------------------------------------------------------------------------\u001b[0m",
      "\u001b[1;31mKeyError\u001b[0m                                  Traceback (most recent call last)",
      "\u001b[1;32mC:\\anaconda\\envs\\market38\\lib\\site-packages\\pandas\\core\\indexes\\base.py\u001b[0m in \u001b[0;36mget_loc\u001b[1;34m(self, key, method, tolerance)\u001b[0m\n\u001b[0;32m   3360\u001b[0m             \u001b[1;32mtry\u001b[0m\u001b[1;33m:\u001b[0m\u001b[1;33m\u001b[0m\u001b[1;33m\u001b[0m\u001b[0m\n\u001b[1;32m-> 3361\u001b[1;33m                 \u001b[1;32mreturn\u001b[0m \u001b[0mself\u001b[0m\u001b[1;33m.\u001b[0m\u001b[0m_engine\u001b[0m\u001b[1;33m.\u001b[0m\u001b[0mget_loc\u001b[0m\u001b[1;33m(\u001b[0m\u001b[0mcasted_key\u001b[0m\u001b[1;33m)\u001b[0m\u001b[1;33m\u001b[0m\u001b[1;33m\u001b[0m\u001b[0m\n\u001b[0m\u001b[0;32m   3362\u001b[0m             \u001b[1;32mexcept\u001b[0m \u001b[0mKeyError\u001b[0m \u001b[1;32mas\u001b[0m \u001b[0merr\u001b[0m\u001b[1;33m:\u001b[0m\u001b[1;33m\u001b[0m\u001b[1;33m\u001b[0m\u001b[0m\n",
      "\u001b[1;32mC:\\anaconda\\envs\\market38\\lib\\site-packages\\pandas\\_libs\\index.pyx\u001b[0m in \u001b[0;36mpandas._libs.index.IndexEngine.get_loc\u001b[1;34m()\u001b[0m\n",
      "\u001b[1;32mC:\\anaconda\\envs\\market38\\lib\\site-packages\\pandas\\_libs\\index.pyx\u001b[0m in \u001b[0;36mpandas._libs.index.IndexEngine.get_loc\u001b[1;34m()\u001b[0m\n",
      "\u001b[1;32mpandas\\_libs\\hashtable_class_helper.pxi\u001b[0m in \u001b[0;36mpandas._libs.hashtable.PyObjectHashTable.get_item\u001b[1;34m()\u001b[0m\n",
      "\u001b[1;32mpandas\\_libs\\hashtable_class_helper.pxi\u001b[0m in \u001b[0;36mpandas._libs.hashtable.PyObjectHashTable.get_item\u001b[1;34m()\u001b[0m\n",
      "\u001b[1;31mKeyError\u001b[0m: 'Tick Volume'",
      "\nThe above exception was the direct cause of the following exception:\n",
      "\u001b[1;31mKeyError\u001b[0m                                  Traceback (most recent call last)",
      "\u001b[1;32m~\\AppData\\Local\\Temp/ipykernel_9324/1581701250.py\u001b[0m in \u001b[0;36m<module>\u001b[1;34m\u001b[0m\n\u001b[1;32m----> 1\u001b[1;33m \u001b[0mdf5min\u001b[0m\u001b[1;33m=\u001b[0m\u001b[0mresampler\u001b[0m\u001b[1;33m(\u001b[0m\u001b[0mtmp\u001b[0m\u001b[1;33m,\u001b[0m\u001b[1;34m'15min'\u001b[0m\u001b[1;33m)\u001b[0m\u001b[1;33m\u001b[0m\u001b[1;33m\u001b[0m\u001b[0m\n\u001b[0m",
      "\u001b[1;32m~\\AppData\\Local\\Temp/ipykernel_9324/1084971904.py\u001b[0m in \u001b[0;36mresampler\u001b[1;34m(df, time)\u001b[0m\n\u001b[0;32m      5\u001b[0m     \u001b[0mnewdf\u001b[0m\u001b[1;33m[\u001b[0m\u001b[1;34m'High'\u001b[0m\u001b[1;33m]\u001b[0m\u001b[1;33m=\u001b[0m\u001b[0mdf\u001b[0m\u001b[1;33m.\u001b[0m\u001b[0mHigh\u001b[0m\u001b[1;33m.\u001b[0m\u001b[0mresample\u001b[0m\u001b[1;33m(\u001b[0m\u001b[0mtime\u001b[0m\u001b[1;33m)\u001b[0m\u001b[1;33m.\u001b[0m\u001b[0mmax\u001b[0m\u001b[1;33m(\u001b[0m\u001b[1;33m)\u001b[0m\u001b[1;33m\u001b[0m\u001b[1;33m\u001b[0m\u001b[0m\n\u001b[0;32m      6\u001b[0m     \u001b[0mnewdf\u001b[0m\u001b[1;33m[\u001b[0m\u001b[1;34m'Low'\u001b[0m\u001b[1;33m]\u001b[0m\u001b[1;33m=\u001b[0m\u001b[0mdf\u001b[0m\u001b[1;33m.\u001b[0m\u001b[0mLow\u001b[0m\u001b[1;33m.\u001b[0m\u001b[0mresample\u001b[0m\u001b[1;33m(\u001b[0m\u001b[0mtime\u001b[0m\u001b[1;33m)\u001b[0m\u001b[1;33m.\u001b[0m\u001b[0mmin\u001b[0m\u001b[1;33m(\u001b[0m\u001b[1;33m)\u001b[0m\u001b[1;33m\u001b[0m\u001b[1;33m\u001b[0m\u001b[0m\n\u001b[1;32m----> 7\u001b[1;33m     \u001b[0mnewdf\u001b[0m\u001b[1;33m[\u001b[0m\u001b[1;34m'Tick_Volume'\u001b[0m\u001b[1;33m]\u001b[0m\u001b[1;33m=\u001b[0m\u001b[0mdf\u001b[0m\u001b[1;33m[\u001b[0m\u001b[1;34m'Tick Volume'\u001b[0m\u001b[1;33m]\u001b[0m\u001b[1;33m.\u001b[0m\u001b[0mresample\u001b[0m\u001b[1;33m(\u001b[0m\u001b[0mtime\u001b[0m\u001b[1;33m)\u001b[0m\u001b[1;33m.\u001b[0m\u001b[0msum\u001b[0m\u001b[1;33m(\u001b[0m\u001b[1;33m)\u001b[0m\u001b[1;33m\u001b[0m\u001b[1;33m\u001b[0m\u001b[0m\n\u001b[0m\u001b[0;32m      8\u001b[0m     \u001b[0mnewdf\u001b[0m\u001b[1;33m[\u001b[0m\u001b[1;34m'Volume'\u001b[0m\u001b[1;33m]\u001b[0m\u001b[1;33m=\u001b[0m\u001b[0mdf\u001b[0m\u001b[1;33m.\u001b[0m\u001b[0mVolume\u001b[0m\u001b[1;33m.\u001b[0m\u001b[0mresample\u001b[0m\u001b[1;33m(\u001b[0m\u001b[0mtime\u001b[0m\u001b[1;33m)\u001b[0m\u001b[1;33m.\u001b[0m\u001b[0msum\u001b[0m\u001b[1;33m(\u001b[0m\u001b[1;33m)\u001b[0m\u001b[1;33m\u001b[0m\u001b[1;33m\u001b[0m\u001b[0m\n\u001b[0;32m      9\u001b[0m     \u001b[0mnewdf\u001b[0m\u001b[1;33m.\u001b[0m\u001b[0mdropna\u001b[0m\u001b[1;33m(\u001b[0m\u001b[0maxis\u001b[0m\u001b[1;33m=\u001b[0m\u001b[1;36m0\u001b[0m\u001b[1;33m,\u001b[0m\u001b[0minplace\u001b[0m\u001b[1;33m=\u001b[0m\u001b[1;32mTrue\u001b[0m\u001b[1;33m)\u001b[0m\u001b[1;33m\u001b[0m\u001b[1;33m\u001b[0m\u001b[0m\n",
      "\u001b[1;32mC:\\anaconda\\envs\\market38\\lib\\site-packages\\pandas\\core\\frame.py\u001b[0m in \u001b[0;36m__getitem__\u001b[1;34m(self, key)\u001b[0m\n\u001b[0;32m   3456\u001b[0m             \u001b[1;32mif\u001b[0m \u001b[0mself\u001b[0m\u001b[1;33m.\u001b[0m\u001b[0mcolumns\u001b[0m\u001b[1;33m.\u001b[0m\u001b[0mnlevels\u001b[0m \u001b[1;33m>\u001b[0m \u001b[1;36m1\u001b[0m\u001b[1;33m:\u001b[0m\u001b[1;33m\u001b[0m\u001b[1;33m\u001b[0m\u001b[0m\n\u001b[0;32m   3457\u001b[0m                 \u001b[1;32mreturn\u001b[0m \u001b[0mself\u001b[0m\u001b[1;33m.\u001b[0m\u001b[0m_getitem_multilevel\u001b[0m\u001b[1;33m(\u001b[0m\u001b[0mkey\u001b[0m\u001b[1;33m)\u001b[0m\u001b[1;33m\u001b[0m\u001b[1;33m\u001b[0m\u001b[0m\n\u001b[1;32m-> 3458\u001b[1;33m             \u001b[0mindexer\u001b[0m \u001b[1;33m=\u001b[0m \u001b[0mself\u001b[0m\u001b[1;33m.\u001b[0m\u001b[0mcolumns\u001b[0m\u001b[1;33m.\u001b[0m\u001b[0mget_loc\u001b[0m\u001b[1;33m(\u001b[0m\u001b[0mkey\u001b[0m\u001b[1;33m)\u001b[0m\u001b[1;33m\u001b[0m\u001b[1;33m\u001b[0m\u001b[0m\n\u001b[0m\u001b[0;32m   3459\u001b[0m             \u001b[1;32mif\u001b[0m \u001b[0mis_integer\u001b[0m\u001b[1;33m(\u001b[0m\u001b[0mindexer\u001b[0m\u001b[1;33m)\u001b[0m\u001b[1;33m:\u001b[0m\u001b[1;33m\u001b[0m\u001b[1;33m\u001b[0m\u001b[0m\n\u001b[0;32m   3460\u001b[0m                 \u001b[0mindexer\u001b[0m \u001b[1;33m=\u001b[0m \u001b[1;33m[\u001b[0m\u001b[0mindexer\u001b[0m\u001b[1;33m]\u001b[0m\u001b[1;33m\u001b[0m\u001b[1;33m\u001b[0m\u001b[0m\n",
      "\u001b[1;32mC:\\anaconda\\envs\\market38\\lib\\site-packages\\pandas\\core\\indexes\\base.py\u001b[0m in \u001b[0;36mget_loc\u001b[1;34m(self, key, method, tolerance)\u001b[0m\n\u001b[0;32m   3361\u001b[0m                 \u001b[1;32mreturn\u001b[0m \u001b[0mself\u001b[0m\u001b[1;33m.\u001b[0m\u001b[0m_engine\u001b[0m\u001b[1;33m.\u001b[0m\u001b[0mget_loc\u001b[0m\u001b[1;33m(\u001b[0m\u001b[0mcasted_key\u001b[0m\u001b[1;33m)\u001b[0m\u001b[1;33m\u001b[0m\u001b[1;33m\u001b[0m\u001b[0m\n\u001b[0;32m   3362\u001b[0m             \u001b[1;32mexcept\u001b[0m \u001b[0mKeyError\u001b[0m \u001b[1;32mas\u001b[0m \u001b[0merr\u001b[0m\u001b[1;33m:\u001b[0m\u001b[1;33m\u001b[0m\u001b[1;33m\u001b[0m\u001b[0m\n\u001b[1;32m-> 3363\u001b[1;33m                 \u001b[1;32mraise\u001b[0m \u001b[0mKeyError\u001b[0m\u001b[1;33m(\u001b[0m\u001b[0mkey\u001b[0m\u001b[1;33m)\u001b[0m \u001b[1;32mfrom\u001b[0m \u001b[0merr\u001b[0m\u001b[1;33m\u001b[0m\u001b[1;33m\u001b[0m\u001b[0m\n\u001b[0m\u001b[0;32m   3364\u001b[0m \u001b[1;33m\u001b[0m\u001b[0m\n\u001b[0;32m   3365\u001b[0m         \u001b[1;32mif\u001b[0m \u001b[0mis_scalar\u001b[0m\u001b[1;33m(\u001b[0m\u001b[0mkey\u001b[0m\u001b[1;33m)\u001b[0m \u001b[1;32mand\u001b[0m \u001b[0misna\u001b[0m\u001b[1;33m(\u001b[0m\u001b[0mkey\u001b[0m\u001b[1;33m)\u001b[0m \u001b[1;32mand\u001b[0m \u001b[1;32mnot\u001b[0m \u001b[0mself\u001b[0m\u001b[1;33m.\u001b[0m\u001b[0mhasnans\u001b[0m\u001b[1;33m:\u001b[0m\u001b[1;33m\u001b[0m\u001b[1;33m\u001b[0m\u001b[0m\n",
      "\u001b[1;31mKeyError\u001b[0m: 'Tick Volume'"
     ]
    }
   ],
   "source": [
    "df5min=resampler(tmp,'15min')"
   ]
  },
  {
   "cell_type": "code",
   "execution_count": null,
   "id": "ec4823bf-a308-4ee3-ac0f-6b5de1507ce1",
   "metadata": {},
   "outputs": [],
   "source": [
    "df5min"
   ]
  },
  {
   "cell_type": "code",
   "execution_count": null,
   "id": "51b6548a-c740-4dbe-894e-81b3179e63e1",
   "metadata": {},
   "outputs": [],
   "source": []
  },
  {
   "cell_type": "code",
   "execution_count": null,
   "id": "5fda9795-975d-42e6-b444-82c722143a7c",
   "metadata": {},
   "outputs": [],
   "source": [
    "\n"
   ]
  },
  {
   "cell_type": "code",
   "execution_count": null,
   "id": "3d85b800-f605-4d03-98e7-d18653a0d542",
   "metadata": {},
   "outputs": [],
   "source": []
  },
  {
   "cell_type": "code",
   "execution_count": null,
   "id": "30c4154c-8b47-40dd-a53e-0be6f3269aa0",
   "metadata": {},
   "outputs": [],
   "source": []
  },
  {
   "cell_type": "code",
   "execution_count": null,
   "id": "73a2ab3d-3efd-4e82-a524-e3c4ad67fd07",
   "metadata": {},
   "outputs": [],
   "source": []
  },
  {
   "cell_type": "code",
   "execution_count": null,
   "id": "f44c60f9-d80d-4337-a98e-27a641b13d65",
   "metadata": {},
   "outputs": [],
   "source": []
  },
  {
   "cell_type": "code",
   "execution_count": null,
   "id": "f08d71ad-1ed4-4fa1-81d3-9daad843be45",
   "metadata": {},
   "outputs": [],
   "source": []
  }
 ],
 "metadata": {
  "kernelspec": {
   "display_name": "Python 3 (ipykernel)",
   "language": "python",
   "name": "python3"
  },
  "language_info": {
   "codemirror_mode": {
    "name": "ipython",
    "version": 3
   },
   "file_extension": ".py",
   "mimetype": "text/x-python",
   "name": "python",
   "nbconvert_exporter": "python",
   "pygments_lexer": "ipython3",
   "version": "3.8.12"
  }
 },
 "nbformat": 4,
 "nbformat_minor": 5
}
