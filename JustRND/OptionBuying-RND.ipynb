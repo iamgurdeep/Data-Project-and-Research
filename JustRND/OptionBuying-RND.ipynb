{
 "cells": [
  {
   "cell_type": "code",
   "execution_count": 1,
   "id": "3621b556-bcb6-47c9-8958-703a4e14567a",
   "metadata": {},
   "outputs": [],
   "source": [
    "#################################STUDY POINTS #######################\n",
    "#1. to check if any null value in whole df\n",
    "# df.isnull().any().any()\n",
    "#2. To get all rows which having alteast one nan value\n",
    "# nan_values=testdf[df.isnull().T.any()]\n",
    "# 3. Create new column/columns based on single or multiple conditions \n",
    "# np.where(condition, value if condition is true, value if condition is false)\n",
    "# eqdf['SDirection']=np.where(eqdf['Close']>eqdf['Pclose'],1,-1)\n",
    "\n",
    "# # create a list of our conditions\n",
    "# conditions = [\n",
    "#     (df['likes_count'] <= 2),\n",
    "#     (df['likes_count'] > 2) & (df['likes_count'] <= 9),\n",
    "#     (df['likes_count'] > 9) & (df['likes_count'] <= 15),\n",
    "#     (df['likes_count'] > 15)\n",
    "#     ]\n",
    "\n",
    "# # create a list of the values we want to assign for each condition\n",
    "# values = ['tier_4', 'tier_3', 'tier_2', 'tier_1']\n",
    "\n",
    "# # create a new column and use np.select to assign values to it using our lists as arguments\n",
    "# df['tier'] = np.select(conditions, values)"
   ]
  },
  {
   "cell_type": "code",
   "execution_count": 3,
   "id": "f7bd1b7c-da51-4a33-8a68-310a661576f1",
   "metadata": {},
   "outputs": [],
   "source": [
    "import pandas as pd\n",
    "import numpy as np\n",
    "from pymongo import MongoClient\n",
    "import matplotlib.pyplot as plt\n",
    "from jupyter_dash import JupyterDash\n",
    "import plotly.graph_objects as go\n",
    "import dash\n",
    "from dash import dcc\n",
    "from dash import html\n",
    "from dash.dependencies import Input, Output\n",
    "import plotly.express as px\n",
    "from plotly.subplots import make_subplots\n",
    "import plotly.figure_factory as ff"
   ]
  },
  {
   "cell_type": "code",
   "execution_count": 4,
   "id": "3617b686-f9b9-47c4-8512-b8cb8d8fe46d",
   "metadata": {},
   "outputs": [],
   "source": [
    "mongo_client=MongoClient()\n",
    "db=mongo_client['OPTIONCHAIN']"
   ]
  },
  {
   "cell_type": "code",
   "execution_count": 5,
   "id": "2f261d23-ecd3-4601-a1c4-58616658cd28",
   "metadata": {},
   "outputs": [],
   "source": [
    "# ##############This take time to get data from DB ###########\n",
    "# ###############Run it again if you want to fetch fresh data from db######\n",
    "# dforignal=pd.DataFrame(list(db.NIFTY.find()))\n",
    "# dforignal.drop(\"_id\",axis=1,inplace=True)"
   ]
  },
  {
   "cell_type": "code",
   "execution_count": 6,
   "id": "cb19ece1-bec3-412d-afe9-1d6385865eb2",
   "metadata": {},
   "outputs": [],
   "source": [
    "dfc=dforignal.copy()\n",
    "dfc['datetime']=pd.to_datetime(dfc['datetime'])\n",
    "dfc['expiry_date']=pd.to_datetime(dfc['expiry_date'])\n",
    "dfc.set_index('datetime',inplace=True)"
   ]
  },
  {
   "cell_type": "code",
   "execution_count": 7,
   "id": "86911ef1-7345-4e77-8ea2-fc0bfc1a2732",
   "metadata": {},
   "outputs": [],
   "source": [
    "def atm_data(day_date,expiry):\n",
    "    day_df=dfc.loc[(dfc.index==day_date+' 09:20:00')& (dfc['expiry_date']==expiry)]\n",
    "    if not day_df.empty:\n",
    "        ####ATM Call and Put Strikes\n",
    "        atmcallstrike=float(day_df.iloc[(day_df['CallDelta']-50).abs().argsort()[:1]]['Strikes'])\n",
    "        atmputstrike=float(day_df.iloc[(day_df['PutDelta']+50).abs().argsort()[:1]]['Strikes'])\n",
    "\n",
    "        day_atm_call_df=dfc.loc[(dfc.index<=day_date+' 15:20:00')& (dfc['expiry_date']==expiry)&(dfc['Strikes']==atmcallstrike)][['CallLTP','Strikes','expiry_date']]\n",
    "        day_atm_put_df=dfc.loc[(dfc.index<=day_date+' 15:20:00')& (dfc['expiry_date']==expiry)&(dfc['Strikes']==atmputstrike)][['PutLTP','Strikes','expiry_date']]\n",
    "        \n",
    "        day_atm_call_df.replace(to_replace=0,method='ffill',inplace=True)\n",
    "        day_atm_put_df.replace(to_replace=0,method='ffill',inplace=True)\n",
    "        \n",
    "        return day_atm_call_df,day_atm_put_df"
   ]
  },
  {
   "cell_type": "code",
   "execution_count": null,
   "id": "a40f2bdf-87ee-42da-b44f-66cb4f1484d2",
   "metadata": {},
   "outputs": [],
   "source": [
    "\n"
   ]
  },
  {
   "cell_type": "code",
   "execution_count": 18,
   "id": "cc35584e-95c4-4cd8-933e-ab97c311877c",
   "metadata": {},
   "outputs": [],
   "source": [
    "def mv(sma,calldf,putdf):\n",
    "    for sma in sma:\n",
    "        calldf[f'{sma}sma']=calldf['CallLTP'].rolling(sma).mean().bfill()\n",
    "        putdf[f'{sma}sma']=putdf['PutLTP'].rolling(sma).mean().bfill()\n",
    "    \n",
    "    return calldf,putdf"
   ]
  },
  {
   "cell_type": "code",
   "execution_count": 22,
   "id": "13a26655-2a0b-4cdc-9849-1e2bf7bcd0dd",
   "metadata": {},
   "outputs": [],
   "source": [
    "atm_call,atm_put=atm_data('2019-1-30','2019-1-31')"
   ]
  },
  {
   "cell_type": "code",
   "execution_count": 20,
   "id": "4a4223a8-8331-4d19-a19e-52f647dba8d1",
   "metadata": {},
   "outputs": [],
   "source": [
    "# sma=[21,11]\n",
    "# atm_call,atm_put=mv(sma,atm_call,atm_put)"
   ]
  },
  {
   "cell_type": "code",
   "execution_count": 52,
   "id": "48087ac3-e426-4aea-ba03-c68526493801",
   "metadata": {},
   "outputs": [],
   "source": [
    "def stratergy_tester(startdate,enddate):\n",
    "    atm_call,atm_put=atm_data('2019-1-30','2019-1-31')\n",
    "    ##Long Sma before short one \n",
    "    sma=[100,26]\n",
    "    atm_call,atm_put=mv(sma,atm_call,atm_put)\n",
    "    call_conditions=[(atm_call['CallLTP']<atm_call[f'{sma[0]}sma'])&(atm_call['CallLTP'].shift(1).bfill()>atm_call[f'{sma[0]}sma']),\n",
    "                (atm_call['CallLTP']<atm_call[f'{sma[0]}sma'])&(atm_call['CallLTP']>atm_call[f'{sma[1]}sma'])&(atm_call['CallLTP'].shift(1).bfill()<atm_call[f'{sma[1]}sma'])\n",
    "               ]\n",
    "    \n",
    "    values=[1,0]\n",
    "    \n",
    "    atm_call['signal']=np.select(call_conditions,values)\n",
    "    return atm_call"
   ]
  },
  {
   "cell_type": "code",
   "execution_count": 53,
   "id": "3b46b14d-7941-4d69-92d5-b6b5ab4c0e7c",
   "metadata": {},
   "outputs": [],
   "source": [
    "atm_call=stratergy_tester('2019-1-1','2019-1-31')"
   ]
  },
  {
   "cell_type": "code",
   "execution_count": 55,
   "id": "d461b90a-8d7e-4164-90f5-a0abeb44cf10",
   "metadata": {},
   "outputs": [],
   "source": [
    "atm_call.to_csv('datacheck.csv')"
   ]
  },
  {
   "cell_type": "code",
   "execution_count": null,
   "id": "697c11c6-ef49-4a86-b54d-f43bdb710afc",
   "metadata": {},
   "outputs": [],
   "source": []
  },
  {
   "cell_type": "code",
   "execution_count": 46,
   "id": "f5b782bc-6868-446a-8382-c1f810e6beaa",
   "metadata": {},
   "outputs": [],
   "source": [
    "### This whole section to plot charts in Dash\n",
    "def genrate_graphs():\n",
    "    app = JupyterDash(__name__)\n",
    "    app.layout = html.Div(children=[\n",
    "            html.H1(children='Hello Dash'),\n",
    "\n",
    "            html.Div(children='''\n",
    "                Dash: A web application framework for your data.\n",
    "            '''),\n",
    "            dcc.Checklist(\n",
    "                id='toggle-rangeslider',\n",
    "                options=[{'label': 'Include Rangeslider', \n",
    "                          'value': 'slider'}],\n",
    "                value=['slider']\n",
    "            ),\n",
    "            dcc.Graph(\n",
    "                id='graph',\n",
    "                # figure=fig\n",
    "            )\n",
    "        ])\n",
    "    @app.callback(Output(\"graph\", \"figure\"), [Input(\"toggle-rangeslider\", \"value\")])\n",
    "    def show_chart(value):\n",
    "        fig=make_subplots(rows=2,cols=1,column_widths=[2.0],\n",
    "                                  row_heights=[2.0,1.0],shared_xaxes=True,vertical_spacing=0.01,\n",
    "                                  specs=[\n",
    "                                      [{\"type\":\"xy\",\"secondary_y\": True}],#None]])\n",
    "                                      [{\"type\":\"xy\"}],#None]]\n",
    "                                        ]\n",
    "                                 )\n",
    " \n",
    "        fig.add_trace(go.Scatter(x=atm_call.index,y=atm_call['CallLTP'], name=\"ATMCall\",mode='lines'),row=1,col=1,secondary_y=False)\n",
    "        #fig.add_trace(go.Scatter(x=atm_call.index,y=atm_call[f'{sma}sma'], name=f\"{sma}sma\",mode='lines'),row=1,col=1,secondary_y=False)\n",
    "        fig.add_trace(go.Scatter(x=atm_call.index,y=atm_call['signal'], name=\"signal\",mode='lines'),row=1,col=1,secondary_y=True)\n",
    "        # fig.add_trace(go.Scatter(x=atm_put.index,y=atm_put['PutLTP'], name=\"ATMPut\",mode='lines'),row=2,col=1)\n",
    "        #fig.add_trace(go.Scatter(x=atm_put.index,y=atm_put[f'{sma}sma'], name=f\"{sma}sma\",mode='lines'),row=2,col=1)\n",
    "        \n",
    "        # fig.add_trace(go.Scatter(x=itm_options.index,y=itm_options['CallLTP'], name=\"ITMCall\",mode='lines'),row=2,col=1)\n",
    "        # fig.add_trace(go.Scatter(x=itm_options.index,y=itm_options['50macall'], name=\"ITMCall50ma\",mode='lines'),row=2,col=1)\n",
    "        # fig.add_trace(go.Scatter(x=itm_options.index,y=itm_options['PutLTP'], name=\"ITMPut\",mode='lines'),row=2,col=1)\n",
    "        # fig.add_trace(go.Scatter(x=itm_options.index,y=itm_options['50maput'], name=\"ITMPut50ma\",mode='lines'),row=2,col=1)\n",
    "        # fig.add_trace(go.Scatter(x=atm_options.index,y=atm_options['PutLTP'], name=\"Put\",mode='lines'),row=2,col=1)\n",
    "        fig.update_xaxes(row=1,col=1,\n",
    "                         # rangeselector=dict(buttons=list(\n",
    "                         #     [dict(count=1, label=\"1m\", step=\"month\", stepmode=\"backward\"),\n",
    "                         #      dict(count=6, label=\"6m\", step=\"month\", stepmode=\"backward\"),\n",
    "                         #      dict(count=1, label=\"YTD\", step=\"year\", stepmode=\"todate\"),\n",
    "                         #      dict(count=1, label=\"1y\", step=\"year\", stepmode=\"backward\"),\n",
    "                         #      dict(step=\"all\")\n",
    "                         #     ])\n",
    "                         #                   ),\n",
    "                         rangebreaks=[\n",
    "                             dict(bounds=[\"sat\", \"mon\"]),#hide weekends\n",
    "                             dict(bounds=[15.5, 9.25], pattern=\"hour\")\n",
    "                         ]\n",
    "                        )\n",
    "                # rangebreaks=[\n",
    "            #     dict(bounds=[15, 9], pattern=\"hour\"), #hide hours outside of 9am-5pm\n",
    "            # ]\n",
    "        fig.update_layout(autosize=False,width=1200,height=800,\n",
    "                          margin=dict(l=50,r=50,b=100,t=100,pad=4),\n",
    "                          paper_bgcolor=\"LightSteelBlue\",)\n",
    "        return fig\n",
    "    app.run_server(mode='jupyterlab',port = 8098)"
   ]
  },
  {
   "cell_type": "code",
   "execution_count": 54,
   "id": "7e6cdea2-f3f7-443a-96d0-84482e666449",
   "metadata": {},
   "outputs": [],
   "source": [
    "genrate_graphs()"
   ]
  },
  {
   "cell_type": "code",
   "execution_count": null,
   "id": "78b294a9-15b9-4d33-8bfc-57809caca3f2",
   "metadata": {},
   "outputs": [],
   "source": []
  }
 ],
 "metadata": {
  "kernelspec": {
   "display_name": "Python 3 (ipykernel)",
   "language": "python",
   "name": "python3"
  },
  "language_info": {
   "codemirror_mode": {
    "name": "ipython",
    "version": 3
   },
   "file_extension": ".py",
   "mimetype": "text/x-python",
   "name": "python",
   "nbconvert_exporter": "python",
   "pygments_lexer": "ipython3",
   "version": "3.8.12"
  }
 },
 "nbformat": 4,
 "nbformat_minor": 5
}
