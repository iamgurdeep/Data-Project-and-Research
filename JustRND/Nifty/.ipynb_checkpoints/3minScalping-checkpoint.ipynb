{
 "cells": [
  {
   "cell_type": "markdown",
   "id": "a3a2020b-631a-4d91-be76-05a3f30d0a49",
   "metadata": {},
   "source": [
    "### This is to Study 3 min scalping strategy based on 1 min momentum .\n",
    "###### Indicater will be used in this one is Super trend on 1 min .\n",
    "###### Willt try to find Best Time in day to scalp and best Day to scalp to maximize the wining %"
   ]
  },
  {
   "cell_type": "code",
   "execution_count": 1,
   "id": "cc57b0a4-93ce-425e-ad99-d634148c4c53",
   "metadata": {
    "tags": []
   },
   "outputs": [
    {
     "name": "stderr",
     "output_type": "stream",
     "text": [
      "Backing off send_request(...) for 0.7s (requests.exceptions.ConnectionError: HTTPSConnectionPool(host='api.segment.io', port=443): Max retries exceeded with url: /v1/batch (Caused by NewConnectionError('<urllib3.connection.HTTPSConnection object at 0x000001E82FC01AC0>: Failed to establish a new connection: [Errno 11001] getaddrinfo failed')))\n",
      "Backing off send_request(...) for 1.6s (requests.exceptions.ConnectionError: HTTPSConnectionPool(host='api.segment.io', port=443): Max retries exceeded with url: /v1/batch (Caused by NewConnectionError('<urllib3.connection.HTTPSConnection object at 0x000001E83154E730>: Failed to establish a new connection: [Errno 11001] getaddrinfo failed')))\n"
     ]
    }
   ],
   "source": [
    "import yfinance as yf\n",
    "import pandas as pd\n",
    "import numpy as np\n",
    "from pymongo import MongoClient\n",
    "import datetime\n",
    "import matplotlib.pyplot as plt\n",
    "import plotly.express as px\n",
    "import plotly.graph_objects as go\n",
    "from plotly.subplots import make_subplots\n",
    "from talib import abstract\n",
    "import math\n",
    "## This is to Convert a string representation of list into list \n",
    "import ast\n",
    "from functools import partial"
   ]
  },
  {
   "cell_type": "code",
   "execution_count": 2,
   "id": "3431a12a-b914-4880-a832-cae3f1e912d6",
   "metadata": {},
   "outputs": [
    {
     "name": "stderr",
     "output_type": "stream",
     "text": [
      "Backing off send_request(...) for 0.9s (requests.exceptions.ConnectionError: HTTPSConnectionPool(host='api.segment.io', port=443): Max retries exceeded with url: /v1/batch (Caused by NewConnectionError('<urllib3.connection.HTTPSConnection object at 0x000001E831474070>: Failed to establish a new connection: [Errno 11001] getaddrinfo failed')))\n",
      "Backing off send_request(...) for 7.6s (requests.exceptions.ConnectionError: HTTPSConnectionPool(host='api.segment.io', port=443): Max retries exceeded with url: /v1/batch (Caused by NewConnectionError('<urllib3.connection.HTTPSConnection object at 0x000001E82DE40EE0>: Failed to establish a new connection: [Errno 11001] getaddrinfo failed')))\n"
     ]
    }
   ],
   "source": [
    "mydict={}\n",
    "with open('nifty1min_28Jan_25Feb.txt', 'r') as file:\n",
    "    data = file.read().rstrip()\n",
    "    data=ast.literal_eval(data)\n",
    "\n",
    "    \n",
    "dfo=pd.DataFrame(data,columns =['Date','Open','High','Low','Close','Volume','NA'])\n",
    "dfo['Date']=dfo['Date'].astype('datetime64[ns]')\n",
    "dfo['Date']=dfo['Date'].dt.tz_localize(\"GMT\").dt.tz_convert('Asia/Kolkata')\n",
    "dfo.set_index('Date',inplace=True)"
   ]
  },
  {
   "cell_type": "code",
   "execution_count": 3,
   "id": "a4336454-b5f6-447c-8e2a-5b7fae86bc22",
   "metadata": {},
   "outputs": [],
   "source": [
    "def pxline(to_plot):\n",
    "    fig = px.line(to_plot)\n",
    "    fig.show()"
   ]
  },
  {
   "cell_type": "code",
   "execution_count": 4,
   "id": "2320c1cd-bd30-4c53-a353-8addb2a4c6b9",
   "metadata": {},
   "outputs": [],
   "source": [
    "def candle(df):\n",
    "    hols=[\"2021-01-26\",\"2021-03-11\",\"2021-03-26\",\"2021-04-02\",\"2021-04-14\",\n",
    "          \"2021-04-21\",\"2021-05-13\",\"2021-07-21\",\"2021-08-19\",\"2021-09-10\",\"2021-10-15\",\n",
    "          \"2021-11-04\",\"2021-11-05\",\"2021-11-19\",\"2022-01-26\"]\n",
    "    fig = go.Figure(data=[go.Candlestick(x=df.index, open=df.Open, high=df.High, low=df.Low, close=df.Close)])\n",
    "    fig.update_xaxes(rangeslider_visible=True,\n",
    "                     rangebreaks=[dict(bounds=[\"sat\",\"mon\"]),\n",
    "                                  dict(bounds=[15.5,9.25],pattern='hour'),\n",
    "                                  dict(values=hols)\n",
    "                                 ]\n",
    "                    )\n",
    "    fig.update_layout(title='IntraDay Analysis',yaxis_title='Nifty')\n",
    "    fig.show()\n",
    "        "
   ]
  },
  {
   "cell_type": "code",
   "execution_count": 5,
   "id": "fd8be427-8c0e-4360-a1b2-2581fb2e9df8",
   "metadata": {},
   "outputs": [],
   "source": [
    "df=dfo.copy()\n",
    "df.drop('Volume',axis=1,inplace=True)\n",
    "df.drop('NA',axis=1,inplace=True)"
   ]
  },
  {
   "cell_type": "code",
   "execution_count": 6,
   "id": "055767d1-cf6b-4589-a8be-945e851b6275",
   "metadata": {},
   "outputs": [
    {
     "ename": "AttributeError",
     "evalue": "'Figure' object has no attribute 'update_xaxis'",
     "output_type": "error",
     "traceback": [
      "\u001b[1;31m---------------------------------------------------------------------------\u001b[0m",
      "\u001b[1;31mAttributeError\u001b[0m                            Traceback (most recent call last)",
      "\u001b[1;32m~\\AppData\\Local\\Temp/ipykernel_10376/3923610196.py\u001b[0m in \u001b[0;36m<module>\u001b[1;34m\u001b[0m\n\u001b[1;32m----> 1\u001b[1;33m \u001b[0mcandle\u001b[0m\u001b[1;33m(\u001b[0m\u001b[0mdf\u001b[0m\u001b[1;33m)\u001b[0m\u001b[1;33m\u001b[0m\u001b[1;33m\u001b[0m\u001b[0m\n\u001b[0m",
      "\u001b[1;32m~\\AppData\\Local\\Temp/ipykernel_10376/3682583306.py\u001b[0m in \u001b[0;36mcandle\u001b[1;34m(df)\u001b[0m\n\u001b[0;32m      4\u001b[0m           \"2021-11-04\",\"2021-11-05\",\"2021-11-19\",\"2022-01-26\"]\n\u001b[0;32m      5\u001b[0m     \u001b[0mfig\u001b[0m \u001b[1;33m=\u001b[0m \u001b[0mgo\u001b[0m\u001b[1;33m.\u001b[0m\u001b[0mFigure\u001b[0m\u001b[1;33m(\u001b[0m\u001b[0mdata\u001b[0m\u001b[1;33m=\u001b[0m\u001b[1;33m[\u001b[0m\u001b[0mgo\u001b[0m\u001b[1;33m.\u001b[0m\u001b[0mCandlestick\u001b[0m\u001b[1;33m(\u001b[0m\u001b[0mx\u001b[0m\u001b[1;33m=\u001b[0m\u001b[0mdf\u001b[0m\u001b[1;33m.\u001b[0m\u001b[0mindex\u001b[0m\u001b[1;33m,\u001b[0m \u001b[0mopen\u001b[0m\u001b[1;33m=\u001b[0m\u001b[0mdf\u001b[0m\u001b[1;33m.\u001b[0m\u001b[0mOpen\u001b[0m\u001b[1;33m,\u001b[0m \u001b[0mhigh\u001b[0m\u001b[1;33m=\u001b[0m\u001b[0mdf\u001b[0m\u001b[1;33m.\u001b[0m\u001b[0mHigh\u001b[0m\u001b[1;33m,\u001b[0m \u001b[0mlow\u001b[0m\u001b[1;33m=\u001b[0m\u001b[0mdf\u001b[0m\u001b[1;33m.\u001b[0m\u001b[0mLow\u001b[0m\u001b[1;33m,\u001b[0m \u001b[0mclose\u001b[0m\u001b[1;33m=\u001b[0m\u001b[0mdf\u001b[0m\u001b[1;33m.\u001b[0m\u001b[0mClose\u001b[0m\u001b[1;33m)\u001b[0m\u001b[1;33m]\u001b[0m\u001b[1;33m)\u001b[0m\u001b[1;33m\u001b[0m\u001b[1;33m\u001b[0m\u001b[0m\n\u001b[1;32m----> 6\u001b[1;33m     fig.update_xaxis(rangeslider_visible=True,\n\u001b[0m\u001b[0;32m      7\u001b[0m                      rangebreaks=[dict(bounds=[\"sat\",\"mon\"]),\n\u001b[0;32m      8\u001b[0m                                   \u001b[0mdict\u001b[0m\u001b[1;33m(\u001b[0m\u001b[0mbounds\u001b[0m\u001b[1;33m=\u001b[0m\u001b[1;33m[\u001b[0m\u001b[1;36m15.5\u001b[0m\u001b[1;33m,\u001b[0m\u001b[1;36m9.25\u001b[0m\u001b[1;33m]\u001b[0m\u001b[1;33m,\u001b[0m\u001b[0mpattern\u001b[0m\u001b[1;33m=\u001b[0m\u001b[1;34m'hours'\u001b[0m\u001b[1;33m)\u001b[0m\u001b[1;33m,\u001b[0m\u001b[1;33m\u001b[0m\u001b[1;33m\u001b[0m\u001b[0m\n",
      "\u001b[1;31mAttributeError\u001b[0m: 'Figure' object has no attribute 'update_xaxis'"
     ]
    }
   ],
   "source": [
    "candle(df)"
   ]
  },
  {
   "cell_type": "code",
   "execution_count": null,
   "id": "e2c9b2b9-4ea0-410b-90b0-8fa52568380b",
   "metadata": {},
   "outputs": [],
   "source": []
  },
  {
   "cell_type": "code",
   "execution_count": null,
   "id": "e7c63f80-a1eb-406c-8af9-15517e41d035",
   "metadata": {},
   "outputs": [],
   "source": []
  },
  {
   "cell_type": "code",
   "execution_count": null,
   "id": "4781a00d-9e10-49a9-a6bd-b3aa89759526",
   "metadata": {},
   "outputs": [],
   "source": []
  }
 ],
 "metadata": {
  "kernelspec": {
   "display_name": "Python 3 (ipykernel)",
   "language": "python",
   "name": "python3"
  },
  "language_info": {
   "codemirror_mode": {
    "name": "ipython",
    "version": 3
   },
   "file_extension": ".py",
   "mimetype": "text/x-python",
   "name": "python",
   "nbconvert_exporter": "python",
   "pygments_lexer": "ipython3",
   "version": "3.8.12"
  }
 },
 "nbformat": 4,
 "nbformat_minor": 5
}
