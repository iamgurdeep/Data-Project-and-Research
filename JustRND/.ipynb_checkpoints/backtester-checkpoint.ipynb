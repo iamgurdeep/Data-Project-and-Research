{
 "cells": [
  {
   "cell_type": "code",
   "execution_count": 43,
   "id": "bbe3b9ce-08af-4b16-bf7a-dfa6ce2bd2fc",
   "metadata": {
    "tags": []
   },
   "outputs": [],
   "source": [
    "import yfinance as yf\n",
    "import pandas as pd\n",
    "import numpy as np\n",
    "from pymongo import MongoClient\n",
    "import datetime\n",
    "import matplotlib.pyplot as plt\n",
    "import plotly.express as px\n",
    "import plotly.graph_objects as go\n",
    "from plotly.subplots import make_subplots\n",
    "from talib import abstract\n",
    "import math\n",
    "\n",
    "from functools import partial"
   ]
  },
  {
   "cell_type": "code",
   "execution_count": 2,
   "id": "f83fd43e-7414-4a0d-980b-baf7d0006f65",
   "metadata": {
    "jupyter": {
     "source_hidden": true
    },
    "tags": []
   },
   "outputs": [
    {
     "name": "stdout",
     "output_type": "stream",
     "text": [
      "[*********************100%***********************]  1 of 1 completed\n"
     ]
    }
   ],
   "source": [
    "#Download Data from yahoo\n",
    "### TEST Scnarios - TCS- Bull ,ACC- modrate up (Sidewase),YESBank- Back to Zero ,ITC(stock dosnt even Move)\n",
    "stock='YESbank'\n",
    "startdate='2007-01-01'\n",
    "enddate='2022-01-01'\n",
    "exchange=['.NS','.BO']\n",
    "dfo = yf.download(stock+exchange[0],start=startdate)"
   ]
  },
  {
   "cell_type": "code",
   "execution_count": 8,
   "id": "809c2faf-4be2-490c-8f53-0153cee2fe2b",
   "metadata": {},
   "outputs": [],
   "source": [
    "def pxline(to_plot):\n",
    "    fig = px.line(to_plot)\n",
    "    fig.show()"
   ]
  },
  {
   "cell_type": "code",
   "execution_count": 62,
   "id": "bf9c04c9-95c9-47be-8257-19e3e761f0a0",
   "metadata": {},
   "outputs": [],
   "source": [
    "df=dfo.copy()\n",
    "df['P_Daily_Change']=df['Close'].pct_change().apply(lambda x: round(x,2))\n",
    "df.dropna(inplace=True)"
   ]
  },
  {
   "cell_type": "code",
   "execution_count": 59,
   "id": "a45e23fb-10d8-4d6b-8181-2b4019b196be",
   "metadata": {},
   "outputs": [],
   "source": [
    "##[pos]-->11 buy\n",
    "##[pos]-->1 Continue\n",
    "##[pos]-->0 Sell\n",
    "def conditions(df):\n",
    "    \n",
    "    df['In']=np.where(df['Close'].shift(1)>df['High'].shift(2).rolling(84).max(),1,0)\n",
    "    df['Out']=np.where(df['Close']<df['Low'].shift(1).rolling(21).min(),0,1)\n",
    "    \n",
    "    for i in df.index:\n",
    "        df.at[i,'pos']=str(df['In'][i])+str(df['Out'][i])\n",
    "    df['pos']=df['pos'].astype(str).astype(int)\n",
    "    return df"
   ]
  },
  {
   "cell_type": "code",
   "execution_count": 63,
   "id": "385aae3c-965e-418c-a3ab-9063818504f1",
   "metadata": {},
   "outputs": [],
   "source": [
    "df=conditions(df=df)"
   ]
  },
  {
   "cell_type": "code",
   "execution_count": 169,
   "id": "88cce6b2-4404-4e76-85cd-d0c098ce8c1b",
   "metadata": {},
   "outputs": [],
   "source": [
    "port=pd.DataFrame(df.index).assign(Cash=0)\n",
    "port.set_index('Date',inplace=True)\n",
    "port.iloc[0,0]=100000"
   ]
  },
  {
   "cell_type": "code",
   "execution_count": 17,
   "id": "d11868ff-a290-4d2c-9a2c-2d4808281fe9",
   "metadata": {
    "jupyter": {
     "source_hidden": true
    },
    "tags": []
   },
   "outputs": [],
   "source": [
    "# fig = make_subplots(specs=[[{\"secondary_y\": True}]])\n",
    "\n",
    "# # Add traces\n",
    "# fig.add_trace(\n",
    "#     go.Scatter(x=df.index, y=df['Close'], name=\"Close\"),\n",
    "#     secondary_y=False,\n",
    "# )\n",
    "\n",
    "# fig.add_trace(\n",
    "#     go.Scatter(x=df.index, y=df['pos'], name=\"pos\"),\n",
    "#     secondary_y=True,\n",
    "# )\n",
    "\n",
    "# fig.show()\n"
   ]
  },
  {
   "cell_type": "code",
   "execution_count": 141,
   "id": "d998fefd-f22a-40c2-a066-5eee921e3884",
   "metadata": {},
   "outputs": [
    {
     "data": {
      "text/html": [
       "<div><div id=8299106e-9929-44a0-8138-6fd32cbc04ad style=\"display:none; background-color:#9D6CFF; color:white; width:200px; height:30px; padding-left:5px; border-radius:4px; flex-direction:row; justify-content:space-around; align-items:center;\" onmouseover=\"this.style.backgroundColor='#BA9BF8'\" onmouseout=\"this.style.backgroundColor='#9D6CFF'\" onclick=\"window.commands?.execute('create-mitosheet-from-dataframe-output');\">See Full Dataframe in Mito</div> <script> if (window.commands.hasCommand('create-mitosheet-from-dataframe-output')) document.getElementById('8299106e-9929-44a0-8138-6fd32cbc04ad').style.display = 'flex' </script> <table border=\"1\" class=\"dataframe\">\n",
       "  <thead>\n",
       "    <tr style=\"text-align: right;\">\n",
       "      <th></th>\n",
       "      <th>Cash</th>\n",
       "    </tr>\n",
       "    <tr>\n",
       "      <th>Date</th>\n",
       "      <th></th>\n",
       "    </tr>\n",
       "  </thead>\n",
       "  <tbody>\n",
       "    <tr>\n",
       "      <th>2007-01-03</th>\n",
       "      <td>100000</td>\n",
       "    </tr>\n",
       "    <tr>\n",
       "      <th>2007-01-04</th>\n",
       "      <td>0</td>\n",
       "    </tr>\n",
       "    <tr>\n",
       "      <th>2007-01-05</th>\n",
       "      <td>0</td>\n",
       "    </tr>\n",
       "    <tr>\n",
       "      <th>2007-01-08</th>\n",
       "      <td>0</td>\n",
       "    </tr>\n",
       "    <tr>\n",
       "      <th>2007-01-09</th>\n",
       "      <td>0</td>\n",
       "    </tr>\n",
       "  </tbody>\n",
       "</table></div>"
      ],
      "text/plain": [
       "              Cash\n",
       "Date              \n",
       "2007-01-03  100000\n",
       "2007-01-04       0\n",
       "2007-01-05       0\n",
       "2007-01-08       0\n",
       "2007-01-09       0"
      ]
     },
     "execution_count": 141,
     "metadata": {},
     "output_type": "execute_result"
    }
   ],
   "source": [
    "port.head()"
   ]
  },
  {
   "cell_type": "code",
   "execution_count": 178,
   "id": "013501df-2418-4696-9816-2a43b93bcd44",
   "metadata": {},
   "outputs": [
    {
     "data": {
      "text/html": [
       "<div><div id=855d043f-1fab-405d-91e4-4c491733f8bc style=\"display:none; background-color:#9D6CFF; color:white; width:200px; height:30px; padding-left:5px; border-radius:4px; flex-direction:row; justify-content:space-around; align-items:center;\" onmouseover=\"this.style.backgroundColor='#BA9BF8'\" onmouseout=\"this.style.backgroundColor='#9D6CFF'\" onclick=\"window.commands?.execute('create-mitosheet-from-dataframe-output');\">See Full Dataframe in Mito</div> <script> if (window.commands.hasCommand('create-mitosheet-from-dataframe-output')) document.getElementById('855d043f-1fab-405d-91e4-4c491733f8bc').style.display = 'flex' </script> <table border=\"1\" class=\"dataframe\">\n",
       "  <thead>\n",
       "    <tr style=\"text-align: right;\">\n",
       "      <th></th>\n",
       "      <th>Open</th>\n",
       "      <th>High</th>\n",
       "      <th>Low</th>\n",
       "      <th>Close</th>\n",
       "      <th>Adj Close</th>\n",
       "      <th>Volume</th>\n",
       "      <th>P_Daily_Change</th>\n",
       "      <th>In</th>\n",
       "      <th>Out</th>\n",
       "      <th>pos</th>\n",
       "    </tr>\n",
       "    <tr>\n",
       "      <th>Date</th>\n",
       "      <th></th>\n",
       "      <th></th>\n",
       "      <th></th>\n",
       "      <th></th>\n",
       "      <th></th>\n",
       "      <th></th>\n",
       "      <th></th>\n",
       "      <th></th>\n",
       "      <th></th>\n",
       "      <th></th>\n",
       "    </tr>\n",
       "  </thead>\n",
       "  <tbody>\n",
       "    <tr>\n",
       "      <th>2007-01-03</th>\n",
       "      <td>28.200001</td>\n",
       "      <td>28.520000</td>\n",
       "      <td>27.620001</td>\n",
       "      <td>27.920000</td>\n",
       "      <td>24.888411</td>\n",
       "      <td>1069665</td>\n",
       "      <td>-0.01</td>\n",
       "      <td>0</td>\n",
       "      <td>1</td>\n",
       "      <td>1</td>\n",
       "    </tr>\n",
       "    <tr>\n",
       "      <th>2007-01-04</th>\n",
       "      <td>28.200001</td>\n",
       "      <td>28.240000</td>\n",
       "      <td>27.250000</td>\n",
       "      <td>27.650000</td>\n",
       "      <td>24.647732</td>\n",
       "      <td>999885</td>\n",
       "      <td>-0.01</td>\n",
       "      <td>0</td>\n",
       "      <td>1</td>\n",
       "      <td>1</td>\n",
       "    </tr>\n",
       "    <tr>\n",
       "      <th>2007-01-05</th>\n",
       "      <td>27.600000</td>\n",
       "      <td>28.600000</td>\n",
       "      <td>27.410000</td>\n",
       "      <td>27.690001</td>\n",
       "      <td>24.683390</td>\n",
       "      <td>1391235</td>\n",
       "      <td>0.00</td>\n",
       "      <td>0</td>\n",
       "      <td>1</td>\n",
       "      <td>1</td>\n",
       "    </tr>\n",
       "    <tr>\n",
       "      <th>2007-01-08</th>\n",
       "      <td>27.799999</td>\n",
       "      <td>27.900000</td>\n",
       "      <td>27.500000</td>\n",
       "      <td>27.650000</td>\n",
       "      <td>24.647732</td>\n",
       "      <td>812980</td>\n",
       "      <td>-0.00</td>\n",
       "      <td>0</td>\n",
       "      <td>1</td>\n",
       "      <td>1</td>\n",
       "    </tr>\n",
       "    <tr>\n",
       "      <th>2007-01-09</th>\n",
       "      <td>27.830000</td>\n",
       "      <td>28.190001</td>\n",
       "      <td>27.420000</td>\n",
       "      <td>27.530001</td>\n",
       "      <td>24.540762</td>\n",
       "      <td>825735</td>\n",
       "      <td>-0.00</td>\n",
       "      <td>0</td>\n",
       "      <td>1</td>\n",
       "      <td>1</td>\n",
       "    </tr>\n",
       "  </tbody>\n",
       "</table></div>"
      ],
      "text/plain": [
       "                 Open       High        Low      Close  Adj Close   Volume  \\\n",
       "Date                                                                         \n",
       "2007-01-03  28.200001  28.520000  27.620001  27.920000  24.888411  1069665   \n",
       "2007-01-04  28.200001  28.240000  27.250000  27.650000  24.647732   999885   \n",
       "2007-01-05  27.600000  28.600000  27.410000  27.690001  24.683390  1391235   \n",
       "2007-01-08  27.799999  27.900000  27.500000  27.650000  24.647732   812980   \n",
       "2007-01-09  27.830000  28.190001  27.420000  27.530001  24.540762   825735   \n",
       "\n",
       "            P_Daily_Change  In  Out  pos  \n",
       "Date                                      \n",
       "2007-01-03           -0.01   0    1    1  \n",
       "2007-01-04           -0.01   0    1    1  \n",
       "2007-01-05            0.00   0    1    1  \n",
       "2007-01-08           -0.00   0    1    1  \n",
       "2007-01-09           -0.00   0    1    1  "
      ]
     },
     "execution_count": 178,
     "metadata": {},
     "output_type": "execute_result"
    }
   ],
   "source": [
    "df.head()"
   ]
  },
  {
   "cell_type": "code",
   "execution_count": 108,
   "id": "de839769-f6d7-42d8-893e-aa0eb728f0b5",
   "metadata": {},
   "outputs": [],
   "source": [
    "assets=['YesBank']"
   ]
  },
  {
   "cell_type": "code",
   "execution_count": 187,
   "id": "14354df8-f02a-4f00-81d3-78b9dc02ec90",
   "metadata": {
    "scrolled": true,
    "tags": []
   },
   "outputs": [],
   "source": [
    "for asset in assets:\n",
    "    globals()[asset]=pd.DataFrame(df.index).assign(ACash=0,Trade_Count=0,PositionDays=0,BuyPrice=0,ABuyPrice=0,SellPrice=0,CurrentPrice=0,Quantity=0,DailyPNL=0,DailyPerChange=0)\n",
    "    globals()[asset].set_index('Date',inplace=True)\n",
    "    globals()[asset].iloc[0,0]=100000\n",
    "  "
   ]
  },
  {
   "cell_type": "code",
   "execution_count": 198,
   "id": "24a176ad-5f9e-4c55-9bb2-37d41257ce0f",
   "metadata": {},
   "outputs": [
    {
     "data": {
      "text/plain": [
       "-0.03"
      ]
     },
     "execution_count": 198,
     "metadata": {},
     "output_type": "execute_result"
    }
   ],
   "source": [
    "df['P_Daily_Change']['2007-05-21']"
   ]
  },
  {
   "cell_type": "code",
   "execution_count": 195,
   "id": "622a9d01-5649-45a2-936f-1c50e7dc5569",
   "metadata": {
    "tags": []
   },
   "outputs": [
    {
     "data": {
      "text/html": [
       "<div><div id=2db3b4e4-883c-475d-bd28-c6e34618e2fc style=\"display:none; background-color:#9D6CFF; color:white; width:200px; height:30px; padding-left:5px; border-radius:4px; flex-direction:row; justify-content:space-around; align-items:center;\" onmouseover=\"this.style.backgroundColor='#BA9BF8'\" onmouseout=\"this.style.backgroundColor='#9D6CFF'\" onclick=\"window.commands?.execute('create-mitosheet-from-dataframe-output');\">See Full Dataframe in Mito</div> <script> if (window.commands.hasCommand('create-mitosheet-from-dataframe-output')) document.getElementById('2db3b4e4-883c-475d-bd28-c6e34618e2fc').style.display = 'flex' </script> <table border=\"1\" class=\"dataframe\">\n",
       "  <thead>\n",
       "    <tr style=\"text-align: right;\">\n",
       "      <th></th>\n",
       "      <th>ACash</th>\n",
       "      <th>Trade_Count</th>\n",
       "      <th>PositionDays</th>\n",
       "      <th>BuyPrice</th>\n",
       "      <th>ABuyPrice</th>\n",
       "      <th>SellPrice</th>\n",
       "      <th>CurrentPrice</th>\n",
       "      <th>Quantity</th>\n",
       "      <th>DailyPNL</th>\n",
       "      <th>DailyPerChange</th>\n",
       "    </tr>\n",
       "    <tr>\n",
       "      <th>Date</th>\n",
       "      <th></th>\n",
       "      <th></th>\n",
       "      <th></th>\n",
       "      <th></th>\n",
       "      <th></th>\n",
       "      <th></th>\n",
       "      <th></th>\n",
       "      <th></th>\n",
       "      <th></th>\n",
       "      <th></th>\n",
       "    </tr>\n",
       "  </thead>\n",
       "  <tbody>\n",
       "    <tr>\n",
       "      <th>2007-05-18</th>\n",
       "      <td>0</td>\n",
       "      <td>1</td>\n",
       "      <td>1</td>\n",
       "      <td>0</td>\n",
       "      <td>0</td>\n",
       "      <td>0</td>\n",
       "      <td>0</td>\n",
       "      <td>0</td>\n",
       "      <td>0</td>\n",
       "      <td>0</td>\n",
       "    </tr>\n",
       "    <tr>\n",
       "      <th>2007-05-21</th>\n",
       "      <td>0</td>\n",
       "      <td>1</td>\n",
       "      <td>2</td>\n",
       "      <td>0</td>\n",
       "      <td>0</td>\n",
       "      <td>0</td>\n",
       "      <td>0</td>\n",
       "      <td>0</td>\n",
       "      <td>0</td>\n",
       "      <td>0</td>\n",
       "    </tr>\n",
       "    <tr>\n",
       "      <th>2007-05-22</th>\n",
       "      <td>0</td>\n",
       "      <td>1</td>\n",
       "      <td>3</td>\n",
       "      <td>0</td>\n",
       "      <td>0</td>\n",
       "      <td>0</td>\n",
       "      <td>0</td>\n",
       "      <td>0</td>\n",
       "      <td>0</td>\n",
       "      <td>0</td>\n",
       "    </tr>\n",
       "    <tr>\n",
       "      <th>2007-05-23</th>\n",
       "      <td>0</td>\n",
       "      <td>1</td>\n",
       "      <td>4</td>\n",
       "      <td>0</td>\n",
       "      <td>0</td>\n",
       "      <td>0</td>\n",
       "      <td>0</td>\n",
       "      <td>0</td>\n",
       "      <td>0</td>\n",
       "      <td>0</td>\n",
       "    </tr>\n",
       "    <tr>\n",
       "      <th>2007-05-24</th>\n",
       "      <td>0</td>\n",
       "      <td>1</td>\n",
       "      <td>5</td>\n",
       "      <td>0</td>\n",
       "      <td>0</td>\n",
       "      <td>0</td>\n",
       "      <td>0</td>\n",
       "      <td>0</td>\n",
       "      <td>0</td>\n",
       "      <td>0</td>\n",
       "    </tr>\n",
       "    <tr>\n",
       "      <th>...</th>\n",
       "      <td>...</td>\n",
       "      <td>...</td>\n",
       "      <td>...</td>\n",
       "      <td>...</td>\n",
       "      <td>...</td>\n",
       "      <td>...</td>\n",
       "      <td>...</td>\n",
       "      <td>...</td>\n",
       "      <td>...</td>\n",
       "      <td>...</td>\n",
       "    </tr>\n",
       "    <tr>\n",
       "      <th>2022-02-10</th>\n",
       "      <td>0</td>\n",
       "      <td>1</td>\n",
       "      <td>52</td>\n",
       "      <td>0</td>\n",
       "      <td>0</td>\n",
       "      <td>0</td>\n",
       "      <td>0</td>\n",
       "      <td>0</td>\n",
       "      <td>0</td>\n",
       "      <td>0</td>\n",
       "    </tr>\n",
       "    <tr>\n",
       "      <th>2022-02-11</th>\n",
       "      <td>0</td>\n",
       "      <td>1</td>\n",
       "      <td>53</td>\n",
       "      <td>0</td>\n",
       "      <td>0</td>\n",
       "      <td>0</td>\n",
       "      <td>0</td>\n",
       "      <td>0</td>\n",
       "      <td>0</td>\n",
       "      <td>0</td>\n",
       "    </tr>\n",
       "    <tr>\n",
       "      <th>2022-02-14</th>\n",
       "      <td>0</td>\n",
       "      <td>1</td>\n",
       "      <td>54</td>\n",
       "      <td>0</td>\n",
       "      <td>0</td>\n",
       "      <td>0</td>\n",
       "      <td>0</td>\n",
       "      <td>0</td>\n",
       "      <td>0</td>\n",
       "      <td>0</td>\n",
       "    </tr>\n",
       "    <tr>\n",
       "      <th>2022-02-15</th>\n",
       "      <td>0</td>\n",
       "      <td>1</td>\n",
       "      <td>55</td>\n",
       "      <td>0</td>\n",
       "      <td>0</td>\n",
       "      <td>0</td>\n",
       "      <td>0</td>\n",
       "      <td>0</td>\n",
       "      <td>0</td>\n",
       "      <td>0</td>\n",
       "    </tr>\n",
       "    <tr>\n",
       "      <th>2022-02-16</th>\n",
       "      <td>0</td>\n",
       "      <td>1</td>\n",
       "      <td>56</td>\n",
       "      <td>0</td>\n",
       "      <td>0</td>\n",
       "      <td>0</td>\n",
       "      <td>0</td>\n",
       "      <td>0</td>\n",
       "      <td>0</td>\n",
       "      <td>0</td>\n",
       "    </tr>\n",
       "  </tbody>\n",
       "</table></div>"
      ],
      "text/plain": [
       "            ACash  Trade_Count  PositionDays  BuyPrice  ABuyPrice  SellPrice  \\\n",
       "Date                                                                           \n",
       "2007-05-18      0            1             1         0          0          0   \n",
       "2007-05-21      0            1             2         0          0          0   \n",
       "2007-05-22      0            1             3         0          0          0   \n",
       "2007-05-23      0            1             4         0          0          0   \n",
       "2007-05-24      0            1             5         0          0          0   \n",
       "...           ...          ...           ...       ...        ...        ...   \n",
       "2022-02-10      0            1            52         0          0          0   \n",
       "2022-02-11      0            1            53         0          0          0   \n",
       "2022-02-14      0            1            54         0          0          0   \n",
       "2022-02-15      0            1            55         0          0          0   \n",
       "2022-02-16      0            1            56         0          0          0   \n",
       "\n",
       "            CurrentPrice  Quantity  DailyPNL  DailyPerChange  \n",
       "Date                                                          \n",
       "2007-05-18             0         0         0               0  \n",
       "2007-05-21             0         0         0               0  \n",
       "2007-05-22             0         0         0               0  \n",
       "2007-05-23             0         0         0               0  \n",
       "2007-05-24             0         0         0               0  \n",
       "...                  ...       ...       ...             ...  \n",
       "2022-02-10             0         0         0               0  \n",
       "2022-02-11             0         0         0               0  \n",
       "2022-02-14             0         0         0               0  \n",
       "2022-02-15             0         0         0               0  \n",
       "2022-02-16             0         0         0               0  \n",
       "\n",
       "[3518 rows x 10 columns]"
      ]
     },
     "execution_count": 195,
     "metadata": {},
     "output_type": "execute_result"
    }
   ],
   "source": [
    "YesBank.loc[YesBank['PositionDays']!=0]"
   ]
  },
  {
   "cell_type": "code",
   "execution_count": null,
   "id": "a1446cbb-ac6e-493f-8ec9-33a834a329cb",
   "metadata": {},
   "outputs": [],
   "source": []
  },
  {
   "cell_type": "code",
   "execution_count": 193,
   "id": "502e147c-ce40-4391-aea2-691c194b01c6",
   "metadata": {
    "scrolled": true,
    "tags": []
   },
   "outputs": [],
   "source": [
    "pos=0\n",
    "for i in df.index:\n",
    "    if i != df.index[0]:\n",
    "        buy= (df['pos'][i]== 11) and (df['pos'].shift(1)[i]==1)\n",
    "        sell= (df['pos'][i]== 0) and (df['pos'].shift(1)[i]==1)\n",
    "        \n",
    "        if pos==0:\n",
    "            if buy: # Buy Triggred\n",
    "                pos=1\n",
    "                current_price=df['Close'][i]\n",
    "                YesBank.at[i,'Trade_Count']=1\n",
    "                \n",
    "            else : # Neither Not in Trade at this moment\n",
    "                pass\n",
    "            \n",
    "            \n",
    "        if pos==1 and YesBank['PositionDays'][i] >0:   ## Exit only if its been 1 day minimum in trade\n",
    "                        \n",
    "            if sell: # Sell Triggred\n",
    "                pas=0\n",
    "                YesBank.at[i,'Trade_Count']=0\n",
    "                YesBank.at[i,'PositionDays']=0\n",
    "                \n",
    "            else: #Already in Buy Position just updated this day with % change, Daily Change and Cummulative Change\n",
    "                current_price=df['Close'][i]\n",
    "                YesBank.at[i,'Trade_Count']=1\n",
    "                YesBank.at[i,'PositionDays']=YesBank['PositionDays'].shift(1)[i]+1\n",
    "                Today_Change=df['P_Daily_Change'][i]\n",
    "                print(f'% Change is {Today_Change}')\n",
    "                YesBank.at[i,'DailyPerChange']=Today_Change\n",
    "                \n",
    "                \n",
    "                \n",
    "                \n",
    "        elif pos==1: #Already in Buy Position just updated this day with % change, Daily Change and Cummulative Change\n",
    "            current_price=df['Close'][i]\n",
    "            YesBank.at[i,'Trade_Count']=1\n",
    "            YesBank.at[i,'PositionDays']=YesBank['PositionDays'].shift(1)[i]+1\n",
    "            YesBank.at[i,'DailyPerChange']=df['P_Daily_Change'][i]\n",
    "\n",
    "                \n",
    "        \n",
    "\n",
    "            \n",
    "     \n",
    "            "
   ]
  },
  {
   "cell_type": "code",
   "execution_count": 180,
   "id": "33ee1312-6d62-49be-9626-3375f12de3f2",
   "metadata": {},
   "outputs": [],
   "source": []
  },
  {
   "cell_type": "code",
   "execution_count": null,
   "id": "daa78ced-f291-4086-b917-4cb20a1d981b",
   "metadata": {},
   "outputs": [],
   "source": []
  },
  {
   "cell_type": "code",
   "execution_count": 55,
   "id": "830e8418-c24b-4583-8eb6-9a58b62c01c8",
   "metadata": {},
   "outputs": [
    {
     "data": {
      "text/html": [
       "<div><div id=26224f29-b162-4709-97cd-e54c26194aaf style=\"display:none; background-color:#9D6CFF; color:white; width:200px; height:30px; padding-left:5px; border-radius:4px; flex-direction:row; justify-content:space-around; align-items:center;\" onmouseover=\"this.style.backgroundColor='#BA9BF8'\" onmouseout=\"this.style.backgroundColor='#9D6CFF'\" onclick=\"window.commands?.execute('create-mitosheet-from-dataframe-output');\">See Full Dataframe in Mito</div> <script> if (window.commands.hasCommand('create-mitosheet-from-dataframe-output')) document.getElementById('26224f29-b162-4709-97cd-e54c26194aaf').style.display = 'flex' </script> <table border=\"1\" class=\"dataframe\">\n",
       "  <thead>\n",
       "    <tr style=\"text-align: right;\">\n",
       "      <th></th>\n",
       "      <th>Capital</th>\n",
       "      <th>Capdist</th>\n",
       "      <th>Assetdist</th>\n",
       "      <th>Asset</th>\n",
       "      <th>Trade#</th>\n",
       "    </tr>\n",
       "  </thead>\n",
       "  <tbody>\n",
       "  </tbody>\n",
       "</table></div>"
      ],
      "text/plain": [
       "Empty DataFrame\n",
       "Columns: [Capital, Capdist, Assetdist, Asset, Trade#]\n",
       "Index: []"
      ]
     },
     "execution_count": 55,
     "metadata": {},
     "output_type": "execute_result"
    }
   ],
   "source": [
    "master"
   ]
  },
  {
   "cell_type": "code",
   "execution_count": null,
   "id": "d62c355c-7940-4f94-97b5-6b7e7b0432d8",
   "metadata": {},
   "outputs": [],
   "source": []
  }
 ],
 "metadata": {
  "kernelspec": {
   "display_name": "Python 3 (ipykernel)",
   "language": "python",
   "name": "python3"
  },
  "language_info": {
   "codemirror_mode": {
    "name": "ipython",
    "version": 3
   },
   "file_extension": ".py",
   "mimetype": "text/x-python",
   "name": "python",
   "nbconvert_exporter": "python",
   "pygments_lexer": "ipython3",
   "version": "3.8.12"
  }
 },
 "nbformat": 4,
 "nbformat_minor": 5
}
