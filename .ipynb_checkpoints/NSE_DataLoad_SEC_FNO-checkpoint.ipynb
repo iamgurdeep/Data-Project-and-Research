{
 "cells": [
  {
   "cell_type": "code",
   "execution_count": 1,
   "id": "b92d6b1e-82c8-40d9-beb7-1ec12498368b",
   "metadata": {},
   "outputs": [],
   "source": [
    "import pandas as pd\n",
    "from zipfile import ZipFile\n",
    "import numpy as np\n",
    "from datetime import datetime, timedelta,date\n",
    "from urllib.request import urlopen\n",
    "from io import BytesIO\n",
    "from pymongo import MongoClient"
   ]
  },
  {
   "cell_type": "code",
   "execution_count": 2,
   "id": "b5eadbd8-9e67-4608-9882-632c860210c0",
   "metadata": {},
   "outputs": [],
   "source": [
    "sec_base_url='https://archives.nseindia.com/products/content'\n",
    "fno_base_url='https://archives.nseindia.com/content/historical/DERIVATIVES'"
   ]
  },
  {
   "cell_type": "code",
   "execution_count": 3,
   "id": "55b8e8fb-b532-4f4d-ad15-fb0ae35d2b07",
   "metadata": {},
   "outputs": [],
   "source": [
    "def date_range(start,end):\n",
    "    daterange=np.arange(np.datetime64(start), np.datetime64(end)).astype(datetime)\n",
    "    #print (daterange)\n",
    "    return daterange\n",
    "    "
   ]
  },
  {
   "cell_type": "code",
   "execution_count": 4,
   "id": "785a201a-f3a9-4cf2-9d35-45d7275acb8f",
   "metadata": {},
   "outputs": [],
   "source": [
    "def download_data(currentdate):\n",
    "    print (f\"Called Download data for date {currentdate}\")\n",
    "    sec_date=currentdate.strftime('%d%m%Y')\n",
    "    fno_day=currentdate.strftime(\"%d\")\n",
    "    fno_month=currentdate.strftime(\"%b\").upper()\n",
    "    fno_year=currentdate.strftime(\"%Y\")\n",
    "    fno_date=currentdate.strftime('%d%b%Y').upper()\n",
    "    sec_url=f\"{sec_base_url}/sec_bhavdata_full_{sec_date}.csv\"\n",
    "    fno_url=f\"{fno_base_url}/{fno_year}/{fno_month}/fo{fno_date}bhav.csv.zip\"\n",
    "    fno_csv_file_name=f\"fo{fno_date}bhav.csv\"\n",
    "    \n",
    "    try:\n",
    "        # Download the fno file\n",
    "        print (f\"Download of FNO for {currentdate} Started from {fno_url}\")\n",
    "        resp = urlopen(fno_url)\n",
    "        zipfile = ZipFile(BytesIO(resp.read()))\n",
    "        myfile=zipfile.extractall()\n",
    "        df_fno=pd.read_csv(fno_csv_file_name,skipinitialspace = True)\n",
    "        if not df_fno.empty:\n",
    "            print (f\"Download of FNO for {currentdate} Completed\")\n",
    "            df_fno= df_fno.rename(str.strip, axis = 'columns')\n",
    "            # Download the sec file\n",
    "        print (f\"Download of SEC for {currentdate} Started from {sec_url}\")\n",
    "        df_sec=pd.read_csv(sec_url,skipinitialspace = True)\n",
    "        if not df_fno.empty:\n",
    "            print (f\"Download of SEC for {currentdate} Completed\")\n",
    "            df_sec= df_sec.rename(str.strip, axis = 'columns')\n",
    "    except:\n",
    "        df_sec=pd.DataFrame()\n",
    "        df_fno==pd.DataFrame()\n",
    "    \n",
    "    #print (df_sec)\n",
    "    return df_sec,df_fno\n",
    "    "
   ]
  },
  {
   "cell_type": "code",
   "execution_count": 5,
   "id": "03344449-4512-49f9-b4a2-c62c7de4a38e",
   "metadata": {},
   "outputs": [],
   "source": [
    "def load_to_db(startdate,enddate):\n",
    "    m_client=MongoClient()\n",
    "    db=m_client['NSE']\n",
    "    daterange=date_range(startdate,enddate)\n",
    "    for currentdate in daterange:\n",
    "        print(currentdate)\n",
    "        df_sec,df_fno=download_data(currentdate)\n",
    "        if not df_sec.empty:\n",
    "            print(f\" Security File loading for date {currentdate} started\")\n",
    "            data_sec=df_sec.to_dict(orient='records')\n",
    "            db['SECMASTER'].insert_many(data_sec)\n",
    "            print(f\" Security File loading for date {currentdate} Ended\")\n",
    "        if not df_fno.empty:\n",
    "            print(f\" Security File loading for date {currentdate} started\")\n",
    "            data_fno=df_fno.to_dict(orient='records')\n",
    "            db['FNOMASTER'].insert_many(data_fno)\n",
    "            print(f\" Security File loading for date {currentdate} Ended\")\n",
    "    m_client.close()\n",
    "            "
   ]
  },
  {
   "cell_type": "code",
   "execution_count": 6,
   "id": "66dd51de-91fe-4a3d-9c5f-5ab49b6a687d",
   "metadata": {},
   "outputs": [],
   "source": [
    "#startdate='2019-10-01'\n",
    "startdate='2019-10-01'\n",
    "enddate='2021-11-19'\n",
    "\n"
   ]
  },
  {
   "cell_type": "code",
   "execution_count": null,
   "id": "1a35bfd3-116b-4a86-be41-78d4f460ecd9",
   "metadata": {},
   "outputs": [
    {
     "name": "stdout",
     "output_type": "stream",
     "text": [
      "2019-10-01\n",
      "Called Download data for date 2019-10-01\n",
      "Download of FNO for 2019-10-01 Started\n",
      "Download of FNO for 2019-10-01 Completed\n",
      "Download of SEC for 2019-10-01 Started\n",
      "Download of SEC for 2019-10-01 Completed\n",
      " Security File loading for date 2019-10-01 started\n",
      " Security File loading for date 2019-10-01 Ended\n",
      " Security File loading for date 2019-10-01 started\n",
      " Security File loading for date 2019-10-01 Ended\n",
      "2019-10-02\n",
      "Called Download data for date 2019-10-02\n"
     ]
    }
   ],
   "source": [
    "load_to_db(startdate,enddate)"
   ]
  },
  {
   "cell_type": "code",
   "execution_count": null,
   "id": "b9207085-5e50-4f97-ab4a-b4424426985f",
   "metadata": {},
   "outputs": [],
   "source": []
  },
  {
   "cell_type": "code",
   "execution_count": null,
   "id": "562ba38c-021c-4ee2-a805-d99fbc4bf603",
   "metadata": {},
   "outputs": [],
   "source": []
  },
  {
   "cell_type": "code",
   "execution_count": null,
   "id": "998db0b6-3619-43b9-8d01-42841666e93f",
   "metadata": {},
   "outputs": [],
   "source": []
  }
 ],
 "metadata": {
  "kernelspec": {
   "display_name": "Python 3 (ipykernel)",
   "language": "python",
   "name": "python3"
  },
  "language_info": {
   "codemirror_mode": {
    "name": "ipython",
    "version": 3
   },
   "file_extension": ".py",
   "mimetype": "text/x-python",
   "name": "python",
   "nbconvert_exporter": "python",
   "pygments_lexer": "ipython3",
   "version": "3.8.12"
  }
 },
 "nbformat": 4,
 "nbformat_minor": 5
}
