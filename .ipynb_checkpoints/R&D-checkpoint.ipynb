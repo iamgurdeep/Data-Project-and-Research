{
 "cells": [
  {
   "cell_type": "code",
   "execution_count": 1,
   "id": "562fefa4",
   "metadata": {},
   "outputs": [],
   "source": [
    "import pandas as pd\n",
    "import json\n",
    "import numpy as np\n",
    "import datetime\n",
    "from pymongo import MongoClient\n",
    "import matplotlib.pyplot as plt\n",
    "from jupyter_dash import JupyterDash\n",
    "import plotly.graph_objects as go\n",
    "import dash\n",
    "from dash import dcc\n",
    "from dash import html\n",
    "from dash.dependencies import Input, Output\n",
    "import plotly.express as px\n",
    "from plotly.subplots import make_subplots\n",
    "\n"
   ]
  },
  {
   "cell_type": "code",
   "execution_count": 2,
   "id": "a7dfff57",
   "metadata": {},
   "outputs": [],
   "source": [
    "# Create Mongo client instance\n",
    "mongo_client=MongoClient()\n",
    "dbeq=mongo_client['NSEEQ']\n",
    "dbfutidx=mongo_client['NSEFUTIDX']\n",
    "dbfutstk=mongo_client['NSEFUTSTK']\n",
    "dboptidx=mongo_client['NSEOPTIDX']\n",
    "dboptstk=mongo_client['NSEOPTSTK']"
   ]
  },
  {
   "cell_type": "code",
   "execution_count": 3,
   "id": "503cc13a",
   "metadata": {},
   "outputs": [],
   "source": [
    "# Fetching data from mongo db\n",
    "eqdata=dbeq['ACC'].find()\n",
    "eqdf=pd.DataFrame(list(eqdata))\n",
    "\n",
    "\n",
    "\n"
   ]
  },
  {
   "cell_type": "code",
   "execution_count": 4,
   "id": "108a4139",
   "metadata": {},
   "outputs": [],
   "source": [
    "if not eqdf.empty:\n",
    "    eqdf.drop('_id',axis=1,inplace=True)\n",
    "    eqdf.set_index('Datetime',inplace=True)"
   ]
  },
  {
   "cell_type": "code",
   "execution_count": 5,
   "id": "4b13c94f-a75d-4f09-8da7-b24e8b84d0e2",
   "metadata": {},
   "outputs": [],
   "source": [
    "eqdf.drop_duplicates(inplace=True)"
   ]
  },
  {
   "cell_type": "code",
   "execution_count": 6,
   "id": "0a6a2493-8376-444a-a98e-b8e075710f63",
   "metadata": {},
   "outputs": [],
   "source": [
    "\n",
    "# fig = go.Figure(data=[go.Candlestick(x=eqdf.index,\n",
    "#                 open=eqdf['Open'],\n",
    "#                 high=eqdf['High'],\n",
    "#                 low=eqdf['Low'],\n",
    "#                 close=eqdf['Close'])])\n",
    "# fig.update_layout(xaxis_rangeslider_visible=False)\n",
    "\n",
    "#fig.show()"
   ]
  },
  {
   "cell_type": "code",
   "execution_count": 67,
   "id": "f0d29f0c-a1d3-4c8c-ab9a-5c7dc2b1e218",
   "metadata": {},
   "outputs": [],
   "source": [
    "app = JupyterDash(__name__)\n",
    "app.layout = html.Div(children=[\n",
    "    html.H1(children='Hello Dash'),\n",
    "\n",
    "    html.Div(children='''\n",
    "        Dash: A web application framework for your data.\n",
    "    '''),\n",
    "    dcc.Checklist(\n",
    "        id='toggle-rangeslider',\n",
    "        options=[{'label': 'Include Rangeslider', \n",
    "                  'value': 'slider'}],\n",
    "        value=['slider']\n",
    "    ),\n",
    "    dcc.Graph(\n",
    "        id='graph',\n",
    "        figure=fig\n",
    "    )\n",
    "])\n",
    "@app.callback(Output(\"graph\", \"figure\"), [Input(\"toggle-rangeslider\", \"value\")])\n",
    "def show_chart(value):\n",
    "    fig=make_subplots(rows=2,cols=1,column_widths=[1.0],\n",
    "                      row_heights=[0.75,0.25],shared_xaxes=True,vertical_spacing=0.01,\n",
    "                      specs=[[{\"type\":\"Candlestick\"}],#None],\n",
    "                             [{\"type\":\"bar\"}]])#,None]])\n",
    "    fig.add_trace(\n",
    "        go.Candlestick(name='price',x=eqdf.index,\n",
    "                    open=eqdf['Open'],\n",
    "                    high=eqdf['High'],\n",
    "                    low=eqdf['Low'],\n",
    "                    close=eqdf['Close']),row=1,col=1)\n",
    "    fig.update_layout(xaxis_rangeslider_visible='slider' in value)\n",
    "    \n",
    "    \n",
    "    fig.add_trace(go.Bar(name='Volume',x=eqdf.index, y=eqdf['Volume']),\n",
    "                  row=2, col=1)\n",
    "    fig.add_trace(go.Bar(name='Delivery',x=eqdf.index, y=eqdf['Delivery'])\n",
    "                  ,row=2, col=1)\n",
    "  \n",
    "    fig.update_layout(barmode='overlay',\n",
    "                        #height=600, width=1600\n",
    "                      )\n",
    "    #Time Series with Range Selector Buttons and hiding weekends\n",
    "    #https://plotly.com/python/time-series/\n",
    "    fig.update_xaxes(row=1,col=1,\n",
    "                     rangeselector=dict(buttons=list(\n",
    "                         [dict(count=1, label=\"1m\", step=\"month\", stepmode=\"backward\"),\n",
    "                          dict(count=6, label=\"6m\", step=\"month\", stepmode=\"backward\"),\n",
    "                          dict(count=1, label=\"YTD\", step=\"year\", stepmode=\"todate\"),\n",
    "                          dict(count=1, label=\"1y\", step=\"year\", stepmode=\"backward\"),\n",
    "                          dict(step=\"all\")\n",
    "                         ])\n",
    "                                       ),\n",
    "                     rangebreaks=[\n",
    "                         dict(bounds=[\"sat\", \"mon\"])#hide weekends\n",
    "                     ]\n",
    "                    )\n",
    "    # rangebreaks=[\n",
    "    #     dict(bounds=[17, 9], pattern=\"hour\"), #hide hours outside of 9am-5pm\n",
    "    # ]\n",
    "    return fig\n",
    "\n",
    "    \n",
    "\n",
    "app.run_server(mode='jupyterlab')\n",
    "#app.run_server(mode='jupyterlab', port = 8090, dev_tools_ui=True, debug=True,dev_tools_hot_reload =True, threaded=True)"
   ]
  },
  {
   "cell_type": "code",
   "execution_count": null,
   "id": "7cd2b60b-19b3-4370-9347-461d076e5d65",
   "metadata": {},
   "outputs": [],
   "source": []
  },
  {
   "cell_type": "code",
   "execution_count": null,
   "id": "0646eedb-5653-413a-ae41-8771f2e1d7b0",
   "metadata": {},
   "outputs": [],
   "source": []
  },
  {
   "cell_type": "code",
   "execution_count": null,
   "id": "12d5324c-fe87-49ba-bf77-d1821aed7160",
   "metadata": {},
   "outputs": [],
   "source": []
  },
  {
   "cell_type": "code",
   "execution_count": null,
   "id": "f6efa738-171d-4229-a5e9-8c403fa05a15",
   "metadata": {},
   "outputs": [],
   "source": []
  },
  {
   "cell_type": "code",
   "execution_count": null,
   "id": "c0fb8536-017a-4236-9b11-4f8d9e7d0da6",
   "metadata": {},
   "outputs": [],
   "source": []
  }
 ],
 "metadata": {
  "kernelspec": {
   "display_name": "Python 3 (ipykernel)",
   "language": "python",
   "name": "python3"
  },
  "language_info": {
   "codemirror_mode": {
    "name": "ipython",
    "version": 3
   },
   "file_extension": ".py",
   "mimetype": "text/x-python",
   "name": "python",
   "nbconvert_exporter": "python",
   "pygments_lexer": "ipython3",
   "version": "3.8.12"
  }
 },
 "nbformat": 4,
 "nbformat_minor": 5
}
