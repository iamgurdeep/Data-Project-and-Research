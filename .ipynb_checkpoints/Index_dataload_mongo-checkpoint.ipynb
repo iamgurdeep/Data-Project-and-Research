{
 "cells": [
  {
   "cell_type": "code",
   "execution_count": 1,
   "id": "263f018a",
   "metadata": {},
   "outputs": [],
   "source": [
    "import pandas as pd\n",
    "from pymongo import MongoClient\n",
    "import pymongo\n",
    "import json"
   ]
  },
  {
   "cell_type": "markdown",
   "id": "56f70e56",
   "metadata": {},
   "source": [
    "Listing all folders from where we need to read the files"
   ]
  },
  {
   "cell_type": "code",
   "execution_count": 2,
   "id": "2f466a17",
   "metadata": {},
   "outputs": [],
   "source": [
    "import glob\n",
    "folders=glob.glob(\"C:\\\\Users\\\\admin\\\\Desktop\\\\Trding Data\\\\Old-Data\\\\Indexes\\\\*\")"
   ]
  },
  {
   "cell_type": "code",
   "execution_count": 3,
   "id": "5263219e",
   "metadata": {},
   "outputs": [
    {
     "data": {
      "text/plain": [
       "['C:\\\\Users\\\\admin\\\\Desktop\\\\Trding Data\\\\Old-Data\\\\Indexes\\\\indiavix-2018.csv',\n",
       " 'C:\\\\Users\\\\admin\\\\Desktop\\\\Trding Data\\\\Old-Data\\\\Indexes\\\\indiavix-2019.csv',\n",
       " 'C:\\\\Users\\\\admin\\\\Desktop\\\\Trding Data\\\\Old-Data\\\\Indexes\\\\indiavix-2020.csv',\n",
       " 'C:\\\\Users\\\\admin\\\\Desktop\\\\Trding Data\\\\Old-Data\\\\Indexes\\\\indiavix-2021.csv',\n",
       " 'C:\\\\Users\\\\admin\\\\Desktop\\\\Trding Data\\\\Old-Data\\\\Indexes\\\\nifty50-2018.csv',\n",
       " 'C:\\\\Users\\\\admin\\\\Desktop\\\\Trding Data\\\\Old-Data\\\\Indexes\\\\nifty50-2019.csv',\n",
       " 'C:\\\\Users\\\\admin\\\\Desktop\\\\Trding Data\\\\Old-Data\\\\Indexes\\\\nifty50-2020.csv',\n",
       " 'C:\\\\Users\\\\admin\\\\Desktop\\\\Trding Data\\\\Old-Data\\\\Indexes\\\\nifty50-2021.csv',\n",
       " 'C:\\\\Users\\\\admin\\\\Desktop\\\\Trding Data\\\\Old-Data\\\\Indexes\\\\niftyBank-2018.csv',\n",
       " 'C:\\\\Users\\\\admin\\\\Desktop\\\\Trding Data\\\\Old-Data\\\\Indexes\\\\niftyBank-2019.csv',\n",
       " 'C:\\\\Users\\\\admin\\\\Desktop\\\\Trding Data\\\\Old-Data\\\\Indexes\\\\niftyBank-2020.csv',\n",
       " 'C:\\\\Users\\\\admin\\\\Desktop\\\\Trding Data\\\\Old-Data\\\\Indexes\\\\niftyBank-2021.csv']"
      ]
     },
     "execution_count": 3,
     "metadata": {},
     "output_type": "execute_result"
    }
   ],
   "source": [
    "folders"
   ]
  },
  {
   "cell_type": "code",
   "execution_count": 4,
   "id": "e1d68b05",
   "metadata": {},
   "outputs": [
    {
     "data": {
      "text/plain": [
       "['Date ',\n",
       " 'Open ',\n",
       " 'High ',\n",
       " 'Low ',\n",
       " 'Close ',\n",
       " 'Prev. Close ',\n",
       " 'Change ',\n",
       " '% Change']"
      ]
     },
     "execution_count": 4,
     "metadata": {},
     "output_type": "execute_result"
    }
   ],
   "source": [
    "df=pd.read_csv('C:\\\\Users\\\\admin\\\\Desktop\\\\Trding Data\\\\Old-Data\\\\Indexes\\\\indiavix-2018.csv')\n",
    "list(df.columns)"
   ]
  },
  {
   "cell_type": "code",
   "execution_count": 5,
   "id": "a822b4e5",
   "metadata": {},
   "outputs": [],
   "source": [
    "df=df.rename(str.strip, axis = 'columns')"
   ]
  },
  {
   "cell_type": "code",
   "execution_count": 6,
   "id": "0dfcf3b1",
   "metadata": {},
   "outputs": [
    {
     "data": {
      "text/plain": [
       "['Date', 'Open', 'High', 'Low', 'Close', 'Prev. Close', 'Change', '% Change']"
      ]
     },
     "execution_count": 6,
     "metadata": {},
     "output_type": "execute_result"
    }
   ],
   "source": [
    "list(df.columns)"
   ]
  },
  {
   "cell_type": "code",
   "execution_count": 7,
   "id": "71558b59",
   "metadata": {},
   "outputs": [
    {
     "data": {
      "text/html": [
       "<div>\n",
       "<style scoped>\n",
       "    .dataframe tbody tr th:only-of-type {\n",
       "        vertical-align: middle;\n",
       "    }\n",
       "\n",
       "    .dataframe tbody tr th {\n",
       "        vertical-align: top;\n",
       "    }\n",
       "\n",
       "    .dataframe thead th {\n",
       "        text-align: right;\n",
       "    }\n",
       "</style>\n",
       "<table border=\"1\" class=\"dataframe\">\n",
       "  <thead>\n",
       "    <tr style=\"text-align: right;\">\n",
       "      <th></th>\n",
       "      <th>Date</th>\n",
       "      <th>Open</th>\n",
       "      <th>High</th>\n",
       "      <th>Low</th>\n",
       "      <th>Close</th>\n",
       "      <th>Prev. Close</th>\n",
       "      <th>Change</th>\n",
       "      <th>% Change</th>\n",
       "    </tr>\n",
       "  </thead>\n",
       "  <tbody>\n",
       "    <tr>\n",
       "      <th>0</th>\n",
       "      <td>01-Jan-2018</td>\n",
       "      <td>12.6700</td>\n",
       "      <td>13.6125</td>\n",
       "      <td>12.5450</td>\n",
       "      <td>13.3525</td>\n",
       "      <td>12.6700</td>\n",
       "      <td>0.68</td>\n",
       "      <td>5.39</td>\n",
       "    </tr>\n",
       "    <tr>\n",
       "      <th>1</th>\n",
       "      <td>02-Jan-2018</td>\n",
       "      <td>13.3525</td>\n",
       "      <td>13.8425</td>\n",
       "      <td>12.6050</td>\n",
       "      <td>13.6850</td>\n",
       "      <td>13.3525</td>\n",
       "      <td>0.33</td>\n",
       "      <td>2.49</td>\n",
       "    </tr>\n",
       "    <tr>\n",
       "      <th>2</th>\n",
       "      <td>03-Jan-2018</td>\n",
       "      <td>13.6850</td>\n",
       "      <td>13.7150</td>\n",
       "      <td>12.7650</td>\n",
       "      <td>13.6225</td>\n",
       "      <td>13.6850</td>\n",
       "      <td>-0.06</td>\n",
       "      <td>-0.46</td>\n",
       "    </tr>\n",
       "    <tr>\n",
       "      <th>3</th>\n",
       "      <td>04-Jan-2018</td>\n",
       "      <td>13.6225</td>\n",
       "      <td>13.7925</td>\n",
       "      <td>12.1825</td>\n",
       "      <td>13.4150</td>\n",
       "      <td>13.6225</td>\n",
       "      <td>-0.21</td>\n",
       "      <td>-1.52</td>\n",
       "    </tr>\n",
       "    <tr>\n",
       "      <th>4</th>\n",
       "      <td>05-Jan-2018</td>\n",
       "      <td>13.4150</td>\n",
       "      <td>13.4150</td>\n",
       "      <td>12.4200</td>\n",
       "      <td>13.1125</td>\n",
       "      <td>13.4150</td>\n",
       "      <td>-0.30</td>\n",
       "      <td>-2.25</td>\n",
       "    </tr>\n",
       "    <tr>\n",
       "      <th>...</th>\n",
       "      <td>...</td>\n",
       "      <td>...</td>\n",
       "      <td>...</td>\n",
       "      <td>...</td>\n",
       "      <td>...</td>\n",
       "      <td>...</td>\n",
       "      <td>...</td>\n",
       "      <td>...</td>\n",
       "    </tr>\n",
       "    <tr>\n",
       "      <th>241</th>\n",
       "      <td>24-Dec-2018</td>\n",
       "      <td>15.9925</td>\n",
       "      <td>17.1325</td>\n",
       "      <td>14.8975</td>\n",
       "      <td>15.7500</td>\n",
       "      <td>15.9925</td>\n",
       "      <td>-0.24</td>\n",
       "      <td>-1.52</td>\n",
       "    </tr>\n",
       "    <tr>\n",
       "      <th>242</th>\n",
       "      <td>26-Dec-2018</td>\n",
       "      <td>15.7500</td>\n",
       "      <td>17.4775</td>\n",
       "      <td>14.8075</td>\n",
       "      <td>15.9200</td>\n",
       "      <td>15.7500</td>\n",
       "      <td>0.17</td>\n",
       "      <td>1.08</td>\n",
       "    </tr>\n",
       "    <tr>\n",
       "      <th>243</th>\n",
       "      <td>27-Dec-2018</td>\n",
       "      <td>15.9200</td>\n",
       "      <td>16.3750</td>\n",
       "      <td>12.5625</td>\n",
       "      <td>16.0725</td>\n",
       "      <td>15.9200</td>\n",
       "      <td>0.15</td>\n",
       "      <td>0.96</td>\n",
       "    </tr>\n",
       "    <tr>\n",
       "      <th>244</th>\n",
       "      <td>28-Dec-2018</td>\n",
       "      <td>16.0725</td>\n",
       "      <td>16.0725</td>\n",
       "      <td>15.0150</td>\n",
       "      <td>15.2700</td>\n",
       "      <td>16.0725</td>\n",
       "      <td>-0.80</td>\n",
       "      <td>-4.99</td>\n",
       "    </tr>\n",
       "    <tr>\n",
       "      <th>245</th>\n",
       "      <td>31-Dec-2018</td>\n",
       "      <td>15.2700</td>\n",
       "      <td>16.1525</td>\n",
       "      <td>14.6500</td>\n",
       "      <td>16.0000</td>\n",
       "      <td>15.2700</td>\n",
       "      <td>0.73</td>\n",
       "      <td>4.78</td>\n",
       "    </tr>\n",
       "  </tbody>\n",
       "</table>\n",
       "<p>246 rows × 8 columns</p>\n",
       "</div>"
      ],
      "text/plain": [
       "            Date     Open     High      Low    Close  Prev. Close  Change  \\\n",
       "0    01-Jan-2018  12.6700  13.6125  12.5450  13.3525      12.6700    0.68   \n",
       "1    02-Jan-2018  13.3525  13.8425  12.6050  13.6850      13.3525    0.33   \n",
       "2    03-Jan-2018  13.6850  13.7150  12.7650  13.6225      13.6850   -0.06   \n",
       "3    04-Jan-2018  13.6225  13.7925  12.1825  13.4150      13.6225   -0.21   \n",
       "4    05-Jan-2018  13.4150  13.4150  12.4200  13.1125      13.4150   -0.30   \n",
       "..           ...      ...      ...      ...      ...          ...     ...   \n",
       "241  24-Dec-2018  15.9925  17.1325  14.8975  15.7500      15.9925   -0.24   \n",
       "242  26-Dec-2018  15.7500  17.4775  14.8075  15.9200      15.7500    0.17   \n",
       "243  27-Dec-2018  15.9200  16.3750  12.5625  16.0725      15.9200    0.15   \n",
       "244  28-Dec-2018  16.0725  16.0725  15.0150  15.2700      16.0725   -0.80   \n",
       "245  31-Dec-2018  15.2700  16.1525  14.6500  16.0000      15.2700    0.73   \n",
       "\n",
       "     % Change  \n",
       "0        5.39  \n",
       "1        2.49  \n",
       "2       -0.46  \n",
       "3       -1.52  \n",
       "4       -2.25  \n",
       "..        ...  \n",
       "241     -1.52  \n",
       "242      1.08  \n",
       "243      0.96  \n",
       "244     -4.99  \n",
       "245      4.78  \n",
       "\n",
       "[246 rows x 8 columns]"
      ]
     },
     "execution_count": 7,
     "metadata": {},
     "output_type": "execute_result"
    }
   ],
   "source": [
    "df"
   ]
  },
  {
   "cell_type": "markdown",
   "id": "9617c533",
   "metadata": {},
   "source": [
    "**Spliting the filename from its path to add it in df."
   ]
  },
  {
   "cell_type": "code",
   "execution_count": 8,
   "id": "ab4bf4b8",
   "metadata": {},
   "outputs": [],
   "source": [
    "#old_name='C:\\\\Users\\\\admin\\\\Desktop\\\\Trding Data\\\\Old-Data\\\\Indexes\\\\indiavix-2018.csv'\n",
    "#file_name=old_name.split('\\\\')[-1:][0].split('.')[0].split('-')[0]\n",
    "#file_name=file_name[0].split('.')[0].split('-')[0]\n",
    "#file_name"
   ]
  },
  {
   "cell_type": "markdown",
   "id": "4f1c138c",
   "metadata": {},
   "source": [
    "*Adding column 'Symbol' in df and then changing its location to 1st position"
   ]
  },
  {
   "cell_type": "code",
   "execution_count": 9,
   "id": "e5ae450a",
   "metadata": {},
   "outputs": [],
   "source": [
    "#df['Symbol']=file_name\n",
    "#cols = df.columns.tolist()\n",
    "#cols = cols[-1:] + cols[:-1]\n",
    "#df = df[cols]\n",
    "#df"
   ]
  },
  {
   "cell_type": "markdown",
   "id": "1be33d0d",
   "metadata": {},
   "source": [
    "# Fetching name of each .csv files from all folders and storing in file_list List"
   ]
  },
  {
   "cell_type": "code",
   "execution_count": 10,
   "id": "d49a8394",
   "metadata": {},
   "outputs": [],
   "source": [
    "\n",
    "#file_list=[]\n",
    "#for index in range(len(folders)):\n",
    "#    fd=folders[index]+\"\\*.csv\"\n",
    "#    ls=glob.glob(fd)\n",
    "#    for x in range(len(ls)):\n",
    "#        file_list.append(ls[x])\n",
    "    \n",
    "    \n",
    "    "
   ]
  },
  {
   "cell_type": "code",
   "execution_count": null,
   "id": "d1877565",
   "metadata": {},
   "outputs": [],
   "source": []
  },
  {
   "cell_type": "markdown",
   "id": "d0a84b9a",
   "metadata": {},
   "source": [
    "\n",
    "Reading Each .csv file stored in file_list and storing it in DB 'Stockmarket' under collection 'master_tbl' in mongo DB"
   ]
  },
  {
   "cell_type": "code",
   "execution_count": 11,
   "id": "89aa0fc1",
   "metadata": {},
   "outputs": [],
   "source": [
    "m_client=pymongo.MongoClient()\n",
    "db=m_client[\"StockMarket\"]\n",
    "for index in range(len(folders)):\n",
    "    df=pd.read_csv(folders[index])\n",
    "    # Fetching filename to set as symbol\n",
    "    old_name=folders[index]\n",
    "    file_name=old_name.split('\\\\')[-1:][0].split('.')[0].split('-')[0]\n",
    "    #adding Symbol colomn setting to filename\n",
    "    df['Symbol']=file_name\n",
    "    # rearranging Symbol coulmn to first  Place\n",
    "    cols = df.columns.tolist()\n",
    "    cols = cols[-1:] + cols[:-1]\n",
    "    df = df[cols]\n",
    "    # Striping space from columns names\n",
    "    df= df.rename(str.strip, axis = 'columns')\n",
    "    data=df.to_dict(orient='records')\n",
    "    if file_name=='indiavix':        \n",
    "        db.vix_master_tbl.insert_many(data)\n",
    "    else:\n",
    "        db.indexs_master_tbl.insert_many(data)\n",
    "    \n"
   ]
  },
  {
   "cell_type": "code",
   "execution_count": 12,
   "id": "5f68626d",
   "metadata": {},
   "outputs": [],
   "source": [
    "\n",
    "m_client=pymongo.MongoClient()\n",
    "db=m_client[\"StockMarket\"]\n",
    "indexs_master_data=db.indexs_master_tbl.find()\n",
    "indexs_master_df=pd.DataFrame(list(indexs_master_data))\n",
    "vix_master_data=db.vix_master_tbl.find()\n",
    "vix_master_df=pd.DataFrame(list(vix_master_data))"
   ]
  },
  {
   "cell_type": "code",
   "execution_count": 13,
   "id": "096788e2",
   "metadata": {},
   "outputs": [],
   "source": [
    "def create_indexs_tbl():\n",
    "    index_name=indexs_master_df.Symbol.unique()\n",
    "    index_name=index_name.tolist()\n",
    "    datalist=[]\n",
    "    for i in range(len(index_name)):    \n",
    "        df=indexs_master_df.loc[indexs_master_df.Symbol==index_name[i]]\n",
    "        df=df.drop(labels=['_id','Turnover (Rs. Cr)'],axis=1)\n",
    "        df=df.rename(columns={'Shares Traded':'Volume'})\n",
    "        df=df[['Date','Symbol','Open','High','Low','Close','Volume']]\n",
    "        p_change=df['Close'].pct_change()*100\n",
    "        df['p_change']=p_change.round(2)\n",
    "        df=df.dropna()\n",
    "        data=df.to_dict(orient='records')\n",
    "        #db.indexs.create_index([(\"Date\", pymongo.ASCENDING), (\"Symbol\", pymongo.ASCENDING)])\n",
    "        db[index_name[i]].insert_many(data)\n",
    "        datalist.append(data)\n",
    "    #return datalist,index_name\n",
    "    "
   ]
  },
  {
   "cell_type": "code",
   "execution_count": 14,
   "id": "4666f600",
   "metadata": {},
   "outputs": [],
   "source": [
    "create_indexs_tbl()"
   ]
  },
  {
   "cell_type": "code",
   "execution_count": null,
   "id": "5551e988",
   "metadata": {},
   "outputs": [],
   "source": []
  }
 ],
 "metadata": {
  "kernelspec": {
   "display_name": "Python 3 (ipykernel)",
   "language": "python",
   "name": "python3"
  },
  "language_info": {
   "codemirror_mode": {
    "name": "ipython",
    "version": 3
   },
   "file_extension": ".py",
   "mimetype": "text/x-python",
   "name": "python",
   "nbconvert_exporter": "python",
   "pygments_lexer": "ipython3",
   "version": "3.7.7"
  }
 },
 "nbformat": 4,
 "nbformat_minor": 5
}
