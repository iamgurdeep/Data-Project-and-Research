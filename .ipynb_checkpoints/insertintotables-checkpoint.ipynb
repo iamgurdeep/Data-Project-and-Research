{
 "cells": [
  {
   "cell_type": "code",
   "execution_count": 7,
   "id": "6efaa76d-0578-49be-981f-22d0a84f2a28",
   "metadata": {},
   "outputs": [],
   "source": [
    "import pandas as pd\n",
    "import numpy as np\n",
    "from datetime import datetime, timedelta,date\n",
    "from pymongo import MongoClient"
   ]
  },
  {
   "cell_type": "code",
   "execution_count": 8,
   "id": "88263ce3-942c-4634-b5d1-ff96299eaa6e",
   "metadata": {},
   "outputs": [],
   "source": [
    "mongo_client=MongoClient()\n",
    "db=mongo_client['NSE']"
   ]
  },
  {
   "cell_type": "code",
   "execution_count": null,
   "id": "c4058f2f-7a01-407d-8234-44852c2e2ede",
   "metadata": {},
   "outputs": [],
   "source": [
    "data=db['SECMASTER'].find()\n",
    "df=pd.DataFrame(list(data))\n",
    "df.drop(\"_id\",axis=1,inplace=True)\n",
    "# ###Covert to UTC to get the correct Values\n",
    "# df['Datetime']=pd.to_datetime(df['Datetime']).dt.tz_localize('UTC').dt.tz_convert('Asia/Kolkata')\n",
    "# #df['Datetime']=pd.to_datetime(df['Datetime'])\n",
    "# df=df.set_index('Datetime')\n",
    "# return df"
   ]
  },
  {
   "cell_type": "code",
   "execution_count": null,
   "id": "81a3458e-2105-4ae8-ae86-3a1a87b73b58",
   "metadata": {},
   "outputs": [],
   "source": []
  }
 ],
 "metadata": {
  "kernelspec": {
   "display_name": "Python 3 (ipykernel)",
   "language": "python",
   "name": "python3"
  },
  "language_info": {
   "codemirror_mode": {
    "name": "ipython",
    "version": 3
   },
   "file_extension": ".py",
   "mimetype": "text/x-python",
   "name": "python",
   "nbconvert_exporter": "python",
   "pygments_lexer": "ipython3",
   "version": "3.8.12"
  }
 },
 "nbformat": 4,
 "nbformat_minor": 5
}
